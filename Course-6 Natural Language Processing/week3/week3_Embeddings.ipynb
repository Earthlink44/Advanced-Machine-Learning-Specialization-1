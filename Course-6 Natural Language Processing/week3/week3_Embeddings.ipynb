{
  "nbformat": 4,
  "nbformat_minor": 0,
  "metadata": {
    "kernelspec": {
      "display_name": "Python 3",
      "language": "python",
      "name": "python3"
    },
    "language_info": {
      "codemirror_mode": {
        "name": "ipython",
        "version": 3
      },
      "file_extension": ".py",
      "mimetype": "text/x-python",
      "name": "python",
      "nbconvert_exporter": "python",
      "pygments_lexer": "ipython3",
      "version": "3.4.3"
    },
    "colab": {
      "name": "week3-Embeddings.ipynb",
      "provenance": [],
      "toc_visible": true
    },
    "accelerator": "GPU",
    "widgets": {
      "application/vnd.jupyter.widget-state+json": {
        "fc4a37d9cc0544b397acac4825750748": {
          "model_module": "@jupyter-widgets/controls",
          "model_name": "HBoxModel",
          "state": {
            "_view_name": "HBoxView",
            "_dom_classes": [],
            "_model_name": "HBoxModel",
            "_view_module": "@jupyter-widgets/controls",
            "_model_module_version": "1.5.0",
            "_view_count": null,
            "_view_module_version": "1.5.0",
            "box_style": "",
            "layout": "IPY_MODEL_90cb2c7b1d6647bc97f71ab2f9619ce3",
            "_model_module": "@jupyter-widgets/controls",
            "children": [
              "IPY_MODEL_521efdb2e3104071ae180025afaabebb",
              "IPY_MODEL_d27fd1a8ec80432fbe6b60aee1119536"
            ]
          }
        },
        "90cb2c7b1d6647bc97f71ab2f9619ce3": {
          "model_module": "@jupyter-widgets/base",
          "model_name": "LayoutModel",
          "state": {
            "_view_name": "LayoutView",
            "grid_template_rows": null,
            "right": null,
            "justify_content": null,
            "_view_module": "@jupyter-widgets/base",
            "overflow": null,
            "_model_module_version": "1.2.0",
            "_view_count": null,
            "flex_flow": null,
            "width": null,
            "min_width": null,
            "border": null,
            "align_items": null,
            "bottom": null,
            "_model_module": "@jupyter-widgets/base",
            "top": null,
            "grid_column": null,
            "overflow_y": null,
            "overflow_x": null,
            "grid_auto_flow": null,
            "grid_area": null,
            "grid_template_columns": null,
            "flex": null,
            "_model_name": "LayoutModel",
            "justify_items": null,
            "grid_row": null,
            "max_height": null,
            "align_content": null,
            "visibility": null,
            "align_self": null,
            "height": null,
            "min_height": null,
            "padding": null,
            "grid_auto_rows": null,
            "grid_gap": null,
            "max_width": null,
            "order": null,
            "_view_module_version": "1.2.0",
            "grid_template_areas": null,
            "object_position": null,
            "object_fit": null,
            "grid_auto_columns": null,
            "margin": null,
            "display": null,
            "left": null
          }
        },
        "521efdb2e3104071ae180025afaabebb": {
          "model_module": "@jupyter-widgets/controls",
          "model_name": "FloatProgressModel",
          "state": {
            "_view_name": "ProgressView",
            "style": "IPY_MODEL_3fabc07430034bd38002d65e54288c49",
            "_dom_classes": [],
            "description": "train.tsv: 100%",
            "_model_name": "FloatProgressModel",
            "bar_style": "success",
            "max": 119127793,
            "_view_module": "@jupyter-widgets/controls",
            "_model_module_version": "1.5.0",
            "value": 119127793,
            "_view_count": null,
            "_view_module_version": "1.5.0",
            "orientation": "horizontal",
            "min": 0,
            "description_tooltip": null,
            "_model_module": "@jupyter-widgets/controls",
            "layout": "IPY_MODEL_8e5b36401b4749b681082a5541cff839"
          }
        },
        "d27fd1a8ec80432fbe6b60aee1119536": {
          "model_module": "@jupyter-widgets/controls",
          "model_name": "HTMLModel",
          "state": {
            "_view_name": "HTMLView",
            "style": "IPY_MODEL_43ec6d30b29d4dc8bc4106e51689c617",
            "_dom_classes": [],
            "description": "",
            "_model_name": "HTMLModel",
            "placeholder": "​",
            "_view_module": "@jupyter-widgets/controls",
            "_model_module_version": "1.5.0",
            "value": " 119M/119M [01:11&lt;00:00, 1.67MB/s]",
            "_view_count": null,
            "_view_module_version": "1.5.0",
            "description_tooltip": null,
            "_model_module": "@jupyter-widgets/controls",
            "layout": "IPY_MODEL_1bb718b03b044c26b5c6867b85aeda86"
          }
        },
        "3fabc07430034bd38002d65e54288c49": {
          "model_module": "@jupyter-widgets/controls",
          "model_name": "ProgressStyleModel",
          "state": {
            "_view_name": "StyleView",
            "_model_name": "ProgressStyleModel",
            "description_width": "initial",
            "_view_module": "@jupyter-widgets/base",
            "_model_module_version": "1.5.0",
            "_view_count": null,
            "_view_module_version": "1.2.0",
            "bar_color": null,
            "_model_module": "@jupyter-widgets/controls"
          }
        },
        "8e5b36401b4749b681082a5541cff839": {
          "model_module": "@jupyter-widgets/base",
          "model_name": "LayoutModel",
          "state": {
            "_view_name": "LayoutView",
            "grid_template_rows": null,
            "right": null,
            "justify_content": null,
            "_view_module": "@jupyter-widgets/base",
            "overflow": null,
            "_model_module_version": "1.2.0",
            "_view_count": null,
            "flex_flow": null,
            "width": null,
            "min_width": null,
            "border": null,
            "align_items": null,
            "bottom": null,
            "_model_module": "@jupyter-widgets/base",
            "top": null,
            "grid_column": null,
            "overflow_y": null,
            "overflow_x": null,
            "grid_auto_flow": null,
            "grid_area": null,
            "grid_template_columns": null,
            "flex": null,
            "_model_name": "LayoutModel",
            "justify_items": null,
            "grid_row": null,
            "max_height": null,
            "align_content": null,
            "visibility": null,
            "align_self": null,
            "height": null,
            "min_height": null,
            "padding": null,
            "grid_auto_rows": null,
            "grid_gap": null,
            "max_width": null,
            "order": null,
            "_view_module_version": "1.2.0",
            "grid_template_areas": null,
            "object_position": null,
            "object_fit": null,
            "grid_auto_columns": null,
            "margin": null,
            "display": null,
            "left": null
          }
        },
        "43ec6d30b29d4dc8bc4106e51689c617": {
          "model_module": "@jupyter-widgets/controls",
          "model_name": "DescriptionStyleModel",
          "state": {
            "_view_name": "StyleView",
            "_model_name": "DescriptionStyleModel",
            "description_width": "",
            "_view_module": "@jupyter-widgets/base",
            "_model_module_version": "1.5.0",
            "_view_count": null,
            "_view_module_version": "1.2.0",
            "_model_module": "@jupyter-widgets/controls"
          }
        },
        "1bb718b03b044c26b5c6867b85aeda86": {
          "model_module": "@jupyter-widgets/base",
          "model_name": "LayoutModel",
          "state": {
            "_view_name": "LayoutView",
            "grid_template_rows": null,
            "right": null,
            "justify_content": null,
            "_view_module": "@jupyter-widgets/base",
            "overflow": null,
            "_model_module_version": "1.2.0",
            "_view_count": null,
            "flex_flow": null,
            "width": null,
            "min_width": null,
            "border": null,
            "align_items": null,
            "bottom": null,
            "_model_module": "@jupyter-widgets/base",
            "top": null,
            "grid_column": null,
            "overflow_y": null,
            "overflow_x": null,
            "grid_auto_flow": null,
            "grid_area": null,
            "grid_template_columns": null,
            "flex": null,
            "_model_name": "LayoutModel",
            "justify_items": null,
            "grid_row": null,
            "max_height": null,
            "align_content": null,
            "visibility": null,
            "align_self": null,
            "height": null,
            "min_height": null,
            "padding": null,
            "grid_auto_rows": null,
            "grid_gap": null,
            "max_width": null,
            "order": null,
            "_view_module_version": "1.2.0",
            "grid_template_areas": null,
            "object_position": null,
            "object_fit": null,
            "grid_auto_columns": null,
            "margin": null,
            "display": null,
            "left": null
          }
        },
        "2f5dbe6c8e064df8b0504d03318d1b91": {
          "model_module": "@jupyter-widgets/controls",
          "model_name": "HBoxModel",
          "state": {
            "_view_name": "HBoxView",
            "_dom_classes": [],
            "_model_name": "HBoxModel",
            "_view_module": "@jupyter-widgets/controls",
            "_model_module_version": "1.5.0",
            "_view_count": null,
            "_view_module_version": "1.5.0",
            "box_style": "",
            "layout": "IPY_MODEL_e802d7bb7a8d4be5b79ed72f242804c1",
            "_model_module": "@jupyter-widgets/controls",
            "children": [
              "IPY_MODEL_22c36117c9754c7db6272efef629a736",
              "IPY_MODEL_c1fe3a15cce6497ba098d4641cc42cdd"
            ]
          }
        },
        "e802d7bb7a8d4be5b79ed72f242804c1": {
          "model_module": "@jupyter-widgets/base",
          "model_name": "LayoutModel",
          "state": {
            "_view_name": "LayoutView",
            "grid_template_rows": null,
            "right": null,
            "justify_content": null,
            "_view_module": "@jupyter-widgets/base",
            "overflow": null,
            "_model_module_version": "1.2.0",
            "_view_count": null,
            "flex_flow": null,
            "width": null,
            "min_width": null,
            "border": null,
            "align_items": null,
            "bottom": null,
            "_model_module": "@jupyter-widgets/base",
            "top": null,
            "grid_column": null,
            "overflow_y": null,
            "overflow_x": null,
            "grid_auto_flow": null,
            "grid_area": null,
            "grid_template_columns": null,
            "flex": null,
            "_model_name": "LayoutModel",
            "justify_items": null,
            "grid_row": null,
            "max_height": null,
            "align_content": null,
            "visibility": null,
            "align_self": null,
            "height": null,
            "min_height": null,
            "padding": null,
            "grid_auto_rows": null,
            "grid_gap": null,
            "max_width": null,
            "order": null,
            "_view_module_version": "1.2.0",
            "grid_template_areas": null,
            "object_position": null,
            "object_fit": null,
            "grid_auto_columns": null,
            "margin": null,
            "display": null,
            "left": null
          }
        },
        "22c36117c9754c7db6272efef629a736": {
          "model_module": "@jupyter-widgets/controls",
          "model_name": "FloatProgressModel",
          "state": {
            "_view_name": "ProgressView",
            "style": "IPY_MODEL_e995f9aa80b24a03a6937d546202d654",
            "_dom_classes": [],
            "description": "validation.tsv: 100%",
            "_model_name": "FloatProgressModel",
            "bar_style": "success",
            "max": 535543630,
            "_view_module": "@jupyter-widgets/controls",
            "_model_module_version": "1.5.0",
            "value": 535543630,
            "_view_count": null,
            "_view_module_version": "1.5.0",
            "orientation": "horizontal",
            "min": 0,
            "description_tooltip": null,
            "_model_module": "@jupyter-widgets/controls",
            "layout": "IPY_MODEL_a57e361baeec471b858016ab26989823"
          }
        },
        "c1fe3a15cce6497ba098d4641cc42cdd": {
          "model_module": "@jupyter-widgets/controls",
          "model_name": "HTMLModel",
          "state": {
            "_view_name": "HTMLView",
            "style": "IPY_MODEL_ecef2089d3c444aa98509ef318bbaae3",
            "_dom_classes": [],
            "description": "",
            "_model_name": "HTMLModel",
            "placeholder": "​",
            "_view_module": "@jupyter-widgets/controls",
            "_model_module_version": "1.5.0",
            "value": " 536M/536M [00:17&lt;00:00, 30.4MB/s]",
            "_view_count": null,
            "_view_module_version": "1.5.0",
            "description_tooltip": null,
            "_model_module": "@jupyter-widgets/controls",
            "layout": "IPY_MODEL_c091d563c8fe492ebe07d4ce78d3377b"
          }
        },
        "e995f9aa80b24a03a6937d546202d654": {
          "model_module": "@jupyter-widgets/controls",
          "model_name": "ProgressStyleModel",
          "state": {
            "_view_name": "StyleView",
            "_model_name": "ProgressStyleModel",
            "description_width": "initial",
            "_view_module": "@jupyter-widgets/base",
            "_model_module_version": "1.5.0",
            "_view_count": null,
            "_view_module_version": "1.2.0",
            "bar_color": null,
            "_model_module": "@jupyter-widgets/controls"
          }
        },
        "a57e361baeec471b858016ab26989823": {
          "model_module": "@jupyter-widgets/base",
          "model_name": "LayoutModel",
          "state": {
            "_view_name": "LayoutView",
            "grid_template_rows": null,
            "right": null,
            "justify_content": null,
            "_view_module": "@jupyter-widgets/base",
            "overflow": null,
            "_model_module_version": "1.2.0",
            "_view_count": null,
            "flex_flow": null,
            "width": null,
            "min_width": null,
            "border": null,
            "align_items": null,
            "bottom": null,
            "_model_module": "@jupyter-widgets/base",
            "top": null,
            "grid_column": null,
            "overflow_y": null,
            "overflow_x": null,
            "grid_auto_flow": null,
            "grid_area": null,
            "grid_template_columns": null,
            "flex": null,
            "_model_name": "LayoutModel",
            "justify_items": null,
            "grid_row": null,
            "max_height": null,
            "align_content": null,
            "visibility": null,
            "align_self": null,
            "height": null,
            "min_height": null,
            "padding": null,
            "grid_auto_rows": null,
            "grid_gap": null,
            "max_width": null,
            "order": null,
            "_view_module_version": "1.2.0",
            "grid_template_areas": null,
            "object_position": null,
            "object_fit": null,
            "grid_auto_columns": null,
            "margin": null,
            "display": null,
            "left": null
          }
        },
        "ecef2089d3c444aa98509ef318bbaae3": {
          "model_module": "@jupyter-widgets/controls",
          "model_name": "DescriptionStyleModel",
          "state": {
            "_view_name": "StyleView",
            "_model_name": "DescriptionStyleModel",
            "description_width": "",
            "_view_module": "@jupyter-widgets/base",
            "_model_module_version": "1.5.0",
            "_view_count": null,
            "_view_module_version": "1.2.0",
            "_model_module": "@jupyter-widgets/controls"
          }
        },
        "c091d563c8fe492ebe07d4ce78d3377b": {
          "model_module": "@jupyter-widgets/base",
          "model_name": "LayoutModel",
          "state": {
            "_view_name": "LayoutView",
            "grid_template_rows": null,
            "right": null,
            "justify_content": null,
            "_view_module": "@jupyter-widgets/base",
            "overflow": null,
            "_model_module_version": "1.2.0",
            "_view_count": null,
            "flex_flow": null,
            "width": null,
            "min_width": null,
            "border": null,
            "align_items": null,
            "bottom": null,
            "_model_module": "@jupyter-widgets/base",
            "top": null,
            "grid_column": null,
            "overflow_y": null,
            "overflow_x": null,
            "grid_auto_flow": null,
            "grid_area": null,
            "grid_template_columns": null,
            "flex": null,
            "_model_name": "LayoutModel",
            "justify_items": null,
            "grid_row": null,
            "max_height": null,
            "align_content": null,
            "visibility": null,
            "align_self": null,
            "height": null,
            "min_height": null,
            "padding": null,
            "grid_auto_rows": null,
            "grid_gap": null,
            "max_width": null,
            "order": null,
            "_view_module_version": "1.2.0",
            "grid_template_areas": null,
            "object_position": null,
            "object_fit": null,
            "grid_auto_columns": null,
            "margin": null,
            "display": null,
            "left": null
          }
        },
        "d2314798728b45f4aa5aef5e7870aa6f": {
          "model_module": "@jupyter-widgets/controls",
          "model_name": "HBoxModel",
          "state": {
            "_view_name": "HBoxView",
            "_dom_classes": [],
            "_model_name": "HBoxModel",
            "_view_module": "@jupyter-widgets/controls",
            "_model_module_version": "1.5.0",
            "_view_count": null,
            "_view_module_version": "1.5.0",
            "box_style": "",
            "layout": "IPY_MODEL_75bcb5a954a0473dbe104f8221c5c3c7",
            "_model_module": "@jupyter-widgets/controls",
            "children": [
              "IPY_MODEL_026cea5312324f3ba90e29950bb71f63",
              "IPY_MODEL_670d86e2059b439a9b1ac853d91ce160"
            ]
          }
        },
        "75bcb5a954a0473dbe104f8221c5c3c7": {
          "model_module": "@jupyter-widgets/base",
          "model_name": "LayoutModel",
          "state": {
            "_view_name": "LayoutView",
            "grid_template_rows": null,
            "right": null,
            "justify_content": null,
            "_view_module": "@jupyter-widgets/base",
            "overflow": null,
            "_model_module_version": "1.2.0",
            "_view_count": null,
            "flex_flow": null,
            "width": null,
            "min_width": null,
            "border": null,
            "align_items": null,
            "bottom": null,
            "_model_module": "@jupyter-widgets/base",
            "top": null,
            "grid_column": null,
            "overflow_y": null,
            "overflow_x": null,
            "grid_auto_flow": null,
            "grid_area": null,
            "grid_template_columns": null,
            "flex": null,
            "_model_name": "LayoutModel",
            "justify_items": null,
            "grid_row": null,
            "max_height": null,
            "align_content": null,
            "visibility": null,
            "align_self": null,
            "height": null,
            "min_height": null,
            "padding": null,
            "grid_auto_rows": null,
            "grid_gap": null,
            "max_width": null,
            "order": null,
            "_view_module_version": "1.2.0",
            "grid_template_areas": null,
            "object_position": null,
            "object_fit": null,
            "grid_auto_columns": null,
            "margin": null,
            "display": null,
            "left": null
          }
        },
        "026cea5312324f3ba90e29950bb71f63": {
          "model_module": "@jupyter-widgets/controls",
          "model_name": "FloatProgressModel",
          "state": {
            "_view_name": "ProgressView",
            "style": "IPY_MODEL_3c0c20581b6a43afb0028fc49a3ce977",
            "_dom_classes": [],
            "description": "test.tsv: 100%",
            "_model_name": "FloatProgressModel",
            "bar_style": "success",
            "max": 46408910,
            "_view_module": "@jupyter-widgets/controls",
            "_model_module_version": "1.5.0",
            "value": 46408910,
            "_view_count": null,
            "_view_module_version": "1.5.0",
            "orientation": "horizontal",
            "min": 0,
            "description_tooltip": null,
            "_model_module": "@jupyter-widgets/controls",
            "layout": "IPY_MODEL_f6aa64e2ceb842069bff235c21291578"
          }
        },
        "670d86e2059b439a9b1ac853d91ce160": {
          "model_module": "@jupyter-widgets/controls",
          "model_name": "HTMLModel",
          "state": {
            "_view_name": "HTMLView",
            "style": "IPY_MODEL_16abb1bb233a40e6944bc19bd76bbfdb",
            "_dom_classes": [],
            "description": "",
            "_model_name": "HTMLModel",
            "placeholder": "​",
            "_view_module": "@jupyter-widgets/controls",
            "_model_module_version": "1.5.0",
            "value": " 46.4M/46.4M [00:01&lt;00:00, 23.8MB/s]",
            "_view_count": null,
            "_view_module_version": "1.5.0",
            "description_tooltip": null,
            "_model_module": "@jupyter-widgets/controls",
            "layout": "IPY_MODEL_c26e52b1b04e4d5b9b9c0817b1d954d4"
          }
        },
        "3c0c20581b6a43afb0028fc49a3ce977": {
          "model_module": "@jupyter-widgets/controls",
          "model_name": "ProgressStyleModel",
          "state": {
            "_view_name": "StyleView",
            "_model_name": "ProgressStyleModel",
            "description_width": "initial",
            "_view_module": "@jupyter-widgets/base",
            "_model_module_version": "1.5.0",
            "_view_count": null,
            "_view_module_version": "1.2.0",
            "bar_color": null,
            "_model_module": "@jupyter-widgets/controls"
          }
        },
        "f6aa64e2ceb842069bff235c21291578": {
          "model_module": "@jupyter-widgets/base",
          "model_name": "LayoutModel",
          "state": {
            "_view_name": "LayoutView",
            "grid_template_rows": null,
            "right": null,
            "justify_content": null,
            "_view_module": "@jupyter-widgets/base",
            "overflow": null,
            "_model_module_version": "1.2.0",
            "_view_count": null,
            "flex_flow": null,
            "width": null,
            "min_width": null,
            "border": null,
            "align_items": null,
            "bottom": null,
            "_model_module": "@jupyter-widgets/base",
            "top": null,
            "grid_column": null,
            "overflow_y": null,
            "overflow_x": null,
            "grid_auto_flow": null,
            "grid_area": null,
            "grid_template_columns": null,
            "flex": null,
            "_model_name": "LayoutModel",
            "justify_items": null,
            "grid_row": null,
            "max_height": null,
            "align_content": null,
            "visibility": null,
            "align_self": null,
            "height": null,
            "min_height": null,
            "padding": null,
            "grid_auto_rows": null,
            "grid_gap": null,
            "max_width": null,
            "order": null,
            "_view_module_version": "1.2.0",
            "grid_template_areas": null,
            "object_position": null,
            "object_fit": null,
            "grid_auto_columns": null,
            "margin": null,
            "display": null,
            "left": null
          }
        },
        "16abb1bb233a40e6944bc19bd76bbfdb": {
          "model_module": "@jupyter-widgets/controls",
          "model_name": "DescriptionStyleModel",
          "state": {
            "_view_name": "StyleView",
            "_model_name": "DescriptionStyleModel",
            "description_width": "",
            "_view_module": "@jupyter-widgets/base",
            "_model_module_version": "1.5.0",
            "_view_count": null,
            "_view_module_version": "1.2.0",
            "_model_module": "@jupyter-widgets/controls"
          }
        },
        "c26e52b1b04e4d5b9b9c0817b1d954d4": {
          "model_module": "@jupyter-widgets/base",
          "model_name": "LayoutModel",
          "state": {
            "_view_name": "LayoutView",
            "grid_template_rows": null,
            "right": null,
            "justify_content": null,
            "_view_module": "@jupyter-widgets/base",
            "overflow": null,
            "_model_module_version": "1.2.0",
            "_view_count": null,
            "flex_flow": null,
            "width": null,
            "min_width": null,
            "border": null,
            "align_items": null,
            "bottom": null,
            "_model_module": "@jupyter-widgets/base",
            "top": null,
            "grid_column": null,
            "overflow_y": null,
            "overflow_x": null,
            "grid_auto_flow": null,
            "grid_area": null,
            "grid_template_columns": null,
            "flex": null,
            "_model_name": "LayoutModel",
            "justify_items": null,
            "grid_row": null,
            "max_height": null,
            "align_content": null,
            "visibility": null,
            "align_self": null,
            "height": null,
            "min_height": null,
            "padding": null,
            "grid_auto_rows": null,
            "grid_gap": null,
            "max_width": null,
            "order": null,
            "_view_module_version": "1.2.0",
            "grid_template_areas": null,
            "object_position": null,
            "object_fit": null,
            "grid_auto_columns": null,
            "margin": null,
            "display": null,
            "left": null
          }
        },
        "c2655130c9504ffe9742f854a7f71783": {
          "model_module": "@jupyter-widgets/controls",
          "model_name": "HBoxModel",
          "state": {
            "_view_name": "HBoxView",
            "_dom_classes": [],
            "_model_name": "HBoxModel",
            "_view_module": "@jupyter-widgets/controls",
            "_model_module_version": "1.5.0",
            "_view_count": null,
            "_view_module_version": "1.5.0",
            "box_style": "",
            "layout": "IPY_MODEL_832f377df97b48d0b0479b070523ee30",
            "_model_module": "@jupyter-widgets/controls",
            "children": [
              "IPY_MODEL_8e1262d215334ea9ad7bb1af4b63b07e",
              "IPY_MODEL_382b670c5afd42aea1615a68dc3cc25f"
            ]
          }
        },
        "832f377df97b48d0b0479b070523ee30": {
          "model_module": "@jupyter-widgets/base",
          "model_name": "LayoutModel",
          "state": {
            "_view_name": "LayoutView",
            "grid_template_rows": null,
            "right": null,
            "justify_content": null,
            "_view_module": "@jupyter-widgets/base",
            "overflow": null,
            "_model_module_version": "1.2.0",
            "_view_count": null,
            "flex_flow": null,
            "width": null,
            "min_width": null,
            "border": null,
            "align_items": null,
            "bottom": null,
            "_model_module": "@jupyter-widgets/base",
            "top": null,
            "grid_column": null,
            "overflow_y": null,
            "overflow_x": null,
            "grid_auto_flow": null,
            "grid_area": null,
            "grid_template_columns": null,
            "flex": null,
            "_model_name": "LayoutModel",
            "justify_items": null,
            "grid_row": null,
            "max_height": null,
            "align_content": null,
            "visibility": null,
            "align_self": null,
            "height": null,
            "min_height": null,
            "padding": null,
            "grid_auto_rows": null,
            "grid_gap": null,
            "max_width": null,
            "order": null,
            "_view_module_version": "1.2.0",
            "grid_template_areas": null,
            "object_position": null,
            "object_fit": null,
            "grid_auto_columns": null,
            "margin": null,
            "display": null,
            "left": null
          }
        },
        "8e1262d215334ea9ad7bb1af4b63b07e": {
          "model_module": "@jupyter-widgets/controls",
          "model_name": "FloatProgressModel",
          "state": {
            "_view_name": "ProgressView",
            "style": "IPY_MODEL_ba1153548a5f41b79651578f8f4c995e",
            "_dom_classes": [],
            "description": "test_embeddings.tsv: 100%",
            "_model_name": "FloatProgressModel",
            "bar_style": "success",
            "max": 5333,
            "_view_module": "@jupyter-widgets/controls",
            "_model_module_version": "1.5.0",
            "value": 5333,
            "_view_count": null,
            "_view_module_version": "1.5.0",
            "orientation": "horizontal",
            "min": 0,
            "description_tooltip": null,
            "_model_module": "@jupyter-widgets/controls",
            "layout": "IPY_MODEL_d9bc208fffa241a7b60ce828ed402c7d"
          }
        },
        "382b670c5afd42aea1615a68dc3cc25f": {
          "model_module": "@jupyter-widgets/controls",
          "model_name": "HTMLModel",
          "state": {
            "_view_name": "HTMLView",
            "style": "IPY_MODEL_2e67e93273d349a7a430afd43fe3be6e",
            "_dom_classes": [],
            "description": "",
            "_model_name": "HTMLModel",
            "placeholder": "​",
            "_view_module": "@jupyter-widgets/controls",
            "_model_module_version": "1.5.0",
            "value": " 5.33k/5.33k [00:49&lt;00:00, 107B/s]",
            "_view_count": null,
            "_view_module_version": "1.5.0",
            "description_tooltip": null,
            "_model_module": "@jupyter-widgets/controls",
            "layout": "IPY_MODEL_afdc5cb53b8641ae97383a8e70d1f73a"
          }
        },
        "ba1153548a5f41b79651578f8f4c995e": {
          "model_module": "@jupyter-widgets/controls",
          "model_name": "ProgressStyleModel",
          "state": {
            "_view_name": "StyleView",
            "_model_name": "ProgressStyleModel",
            "description_width": "initial",
            "_view_module": "@jupyter-widgets/base",
            "_model_module_version": "1.5.0",
            "_view_count": null,
            "_view_module_version": "1.2.0",
            "bar_color": null,
            "_model_module": "@jupyter-widgets/controls"
          }
        },
        "d9bc208fffa241a7b60ce828ed402c7d": {
          "model_module": "@jupyter-widgets/base",
          "model_name": "LayoutModel",
          "state": {
            "_view_name": "LayoutView",
            "grid_template_rows": null,
            "right": null,
            "justify_content": null,
            "_view_module": "@jupyter-widgets/base",
            "overflow": null,
            "_model_module_version": "1.2.0",
            "_view_count": null,
            "flex_flow": null,
            "width": null,
            "min_width": null,
            "border": null,
            "align_items": null,
            "bottom": null,
            "_model_module": "@jupyter-widgets/base",
            "top": null,
            "grid_column": null,
            "overflow_y": null,
            "overflow_x": null,
            "grid_auto_flow": null,
            "grid_area": null,
            "grid_template_columns": null,
            "flex": null,
            "_model_name": "LayoutModel",
            "justify_items": null,
            "grid_row": null,
            "max_height": null,
            "align_content": null,
            "visibility": null,
            "align_self": null,
            "height": null,
            "min_height": null,
            "padding": null,
            "grid_auto_rows": null,
            "grid_gap": null,
            "max_width": null,
            "order": null,
            "_view_module_version": "1.2.0",
            "grid_template_areas": null,
            "object_position": null,
            "object_fit": null,
            "grid_auto_columns": null,
            "margin": null,
            "display": null,
            "left": null
          }
        },
        "2e67e93273d349a7a430afd43fe3be6e": {
          "model_module": "@jupyter-widgets/controls",
          "model_name": "DescriptionStyleModel",
          "state": {
            "_view_name": "StyleView",
            "_model_name": "DescriptionStyleModel",
            "description_width": "",
            "_view_module": "@jupyter-widgets/base",
            "_model_module_version": "1.5.0",
            "_view_count": null,
            "_view_module_version": "1.2.0",
            "_model_module": "@jupyter-widgets/controls"
          }
        },
        "afdc5cb53b8641ae97383a8e70d1f73a": {
          "model_module": "@jupyter-widgets/base",
          "model_name": "LayoutModel",
          "state": {
            "_view_name": "LayoutView",
            "grid_template_rows": null,
            "right": null,
            "justify_content": null,
            "_view_module": "@jupyter-widgets/base",
            "overflow": null,
            "_model_module_version": "1.2.0",
            "_view_count": null,
            "flex_flow": null,
            "width": null,
            "min_width": null,
            "border": null,
            "align_items": null,
            "bottom": null,
            "_model_module": "@jupyter-widgets/base",
            "top": null,
            "grid_column": null,
            "overflow_y": null,
            "overflow_x": null,
            "grid_auto_flow": null,
            "grid_area": null,
            "grid_template_columns": null,
            "flex": null,
            "_model_name": "LayoutModel",
            "justify_items": null,
            "grid_row": null,
            "max_height": null,
            "align_content": null,
            "visibility": null,
            "align_self": null,
            "height": null,
            "min_height": null,
            "padding": null,
            "grid_auto_rows": null,
            "grid_gap": null,
            "max_width": null,
            "order": null,
            "_view_module_version": "1.2.0",
            "grid_template_areas": null,
            "object_position": null,
            "object_fit": null,
            "grid_auto_columns": null,
            "margin": null,
            "display": null,
            "left": null
          }
        },
        "5eac87fe4a8b4808a37ece1d35f43d16": {
          "model_module": "@jupyter-widgets/controls",
          "model_name": "HBoxModel",
          "state": {
            "_view_name": "HBoxView",
            "_dom_classes": [],
            "_model_name": "HBoxModel",
            "_view_module": "@jupyter-widgets/controls",
            "_model_module_version": "1.5.0",
            "_view_count": null,
            "_view_module_version": "1.5.0",
            "box_style": "",
            "layout": "IPY_MODEL_e9bf5d9930184ee8a0677ee1bbf0a248",
            "_model_module": "@jupyter-widgets/controls",
            "children": [
              "IPY_MODEL_7f1646ccda20493ca39755577f0164a4",
              "IPY_MODEL_fe107436cf2548c08db09d4a92109691"
            ]
          }
        },
        "e9bf5d9930184ee8a0677ee1bbf0a248": {
          "model_module": "@jupyter-widgets/base",
          "model_name": "LayoutModel",
          "state": {
            "_view_name": "LayoutView",
            "grid_template_rows": null,
            "right": null,
            "justify_content": null,
            "_view_module": "@jupyter-widgets/base",
            "overflow": null,
            "_model_module_version": "1.2.0",
            "_view_count": null,
            "flex_flow": null,
            "width": null,
            "min_width": null,
            "border": null,
            "align_items": null,
            "bottom": null,
            "_model_module": "@jupyter-widgets/base",
            "top": null,
            "grid_column": null,
            "overflow_y": null,
            "overflow_x": null,
            "grid_auto_flow": null,
            "grid_area": null,
            "grid_template_columns": null,
            "flex": null,
            "_model_name": "LayoutModel",
            "justify_items": null,
            "grid_row": null,
            "max_height": null,
            "align_content": null,
            "visibility": null,
            "align_self": null,
            "height": null,
            "min_height": null,
            "padding": null,
            "grid_auto_rows": null,
            "grid_gap": null,
            "max_width": null,
            "order": null,
            "_view_module_version": "1.2.0",
            "grid_template_areas": null,
            "object_position": null,
            "object_fit": null,
            "grid_auto_columns": null,
            "margin": null,
            "display": null,
            "left": null
          }
        },
        "7f1646ccda20493ca39755577f0164a4": {
          "model_module": "@jupyter-widgets/controls",
          "model_name": "FloatProgressModel",
          "state": {
            "_view_name": "ProgressView",
            "style": "IPY_MODEL_a047f61cfb17479685e8f5d9aa206042",
            "_dom_classes": [],
            "description": "GoogleNews-vectors-negative300.bin.gz: 100%",
            "_model_name": "FloatProgressModel",
            "bar_style": "success",
            "max": 1647046227,
            "_view_module": "@jupyter-widgets/controls",
            "_model_module_version": "1.5.0",
            "value": 1647046227,
            "_view_count": null,
            "_view_module_version": "1.5.0",
            "orientation": "horizontal",
            "min": 0,
            "description_tooltip": null,
            "_model_module": "@jupyter-widgets/controls",
            "layout": "IPY_MODEL_e35405d3725b4ece823b7dbc2d8f1b85"
          }
        },
        "fe107436cf2548c08db09d4a92109691": {
          "model_module": "@jupyter-widgets/controls",
          "model_name": "HTMLModel",
          "state": {
            "_view_name": "HTMLView",
            "style": "IPY_MODEL_ee4935a271394c569930f2a390ce25af",
            "_dom_classes": [],
            "description": "",
            "_model_name": "HTMLModel",
            "placeholder": "​",
            "_view_module": "@jupyter-widgets/controls",
            "_model_module_version": "1.5.0",
            "value": " 1.65G/1.65G [00:49&lt;00:00, 33.3MB/s]",
            "_view_count": null,
            "_view_module_version": "1.5.0",
            "description_tooltip": null,
            "_model_module": "@jupyter-widgets/controls",
            "layout": "IPY_MODEL_c4d9f0c875794d74af1a7b714cdd6b5c"
          }
        },
        "a047f61cfb17479685e8f5d9aa206042": {
          "model_module": "@jupyter-widgets/controls",
          "model_name": "ProgressStyleModel",
          "state": {
            "_view_name": "StyleView",
            "_model_name": "ProgressStyleModel",
            "description_width": "initial",
            "_view_module": "@jupyter-widgets/base",
            "_model_module_version": "1.5.0",
            "_view_count": null,
            "_view_module_version": "1.2.0",
            "bar_color": null,
            "_model_module": "@jupyter-widgets/controls"
          }
        },
        "e35405d3725b4ece823b7dbc2d8f1b85": {
          "model_module": "@jupyter-widgets/base",
          "model_name": "LayoutModel",
          "state": {
            "_view_name": "LayoutView",
            "grid_template_rows": null,
            "right": null,
            "justify_content": null,
            "_view_module": "@jupyter-widgets/base",
            "overflow": null,
            "_model_module_version": "1.2.0",
            "_view_count": null,
            "flex_flow": null,
            "width": null,
            "min_width": null,
            "border": null,
            "align_items": null,
            "bottom": null,
            "_model_module": "@jupyter-widgets/base",
            "top": null,
            "grid_column": null,
            "overflow_y": null,
            "overflow_x": null,
            "grid_auto_flow": null,
            "grid_area": null,
            "grid_template_columns": null,
            "flex": null,
            "_model_name": "LayoutModel",
            "justify_items": null,
            "grid_row": null,
            "max_height": null,
            "align_content": null,
            "visibility": null,
            "align_self": null,
            "height": null,
            "min_height": null,
            "padding": null,
            "grid_auto_rows": null,
            "grid_gap": null,
            "max_width": null,
            "order": null,
            "_view_module_version": "1.2.0",
            "grid_template_areas": null,
            "object_position": null,
            "object_fit": null,
            "grid_auto_columns": null,
            "margin": null,
            "display": null,
            "left": null
          }
        },
        "ee4935a271394c569930f2a390ce25af": {
          "model_module": "@jupyter-widgets/controls",
          "model_name": "DescriptionStyleModel",
          "state": {
            "_view_name": "StyleView",
            "_model_name": "DescriptionStyleModel",
            "description_width": "",
            "_view_module": "@jupyter-widgets/base",
            "_model_module_version": "1.5.0",
            "_view_count": null,
            "_view_module_version": "1.2.0",
            "_model_module": "@jupyter-widgets/controls"
          }
        },
        "c4d9f0c875794d74af1a7b714cdd6b5c": {
          "model_module": "@jupyter-widgets/base",
          "model_name": "LayoutModel",
          "state": {
            "_view_name": "LayoutView",
            "grid_template_rows": null,
            "right": null,
            "justify_content": null,
            "_view_module": "@jupyter-widgets/base",
            "overflow": null,
            "_model_module_version": "1.2.0",
            "_view_count": null,
            "flex_flow": null,
            "width": null,
            "min_width": null,
            "border": null,
            "align_items": null,
            "bottom": null,
            "_model_module": "@jupyter-widgets/base",
            "top": null,
            "grid_column": null,
            "overflow_y": null,
            "overflow_x": null,
            "grid_auto_flow": null,
            "grid_area": null,
            "grid_template_columns": null,
            "flex": null,
            "_model_name": "LayoutModel",
            "justify_items": null,
            "grid_row": null,
            "max_height": null,
            "align_content": null,
            "visibility": null,
            "align_self": null,
            "height": null,
            "min_height": null,
            "padding": null,
            "grid_auto_rows": null,
            "grid_gap": null,
            "max_width": null,
            "order": null,
            "_view_module_version": "1.2.0",
            "grid_template_areas": null,
            "object_position": null,
            "object_fit": null,
            "grid_auto_columns": null,
            "margin": null,
            "display": null,
            "left": null
          }
        }
      }
    }
  },
  "cells": [
    {
      "cell_type": "markdown",
      "metadata": {
        "id": "bsYIL5Pl85SL",
        "colab_type": "text"
      },
      "source": [
        "# Find duplicate questions on StackOverflow by their embeddings\n",
        "\n",
        "In this assignment you will learn how to calculate a similarity for pieces of text. Using this approach you will know how to find duplicate questions from [StackOverflow](https://stackoverflow.com)."
      ]
    },
    {
      "cell_type": "markdown",
      "metadata": {
        "id": "hqyzvmuc85SN",
        "colab_type": "text"
      },
      "source": [
        "### Libraries\n",
        "\n",
        "In this task you will you will need the following libraries:\n",
        "- [StarSpace](https://github.com/facebookresearch/StarSpace) — a general-purpose model for efficient learning of entity embeddings from Facebook\n",
        "- [Gensim](https://radimrehurek.com/gensim/) — a tool for solving various NLP-related tasks (topic modeling, text representation, ...)\n",
        "- [Numpy](http://www.numpy.org) — a package for scientific computing.\n",
        "- [scikit-learn](http://scikit-learn.org/stable/index.html) — a tool for data mining and data analysis.\n",
        "- [Nltk](http://www.nltk.org) — a platform to work with human language data."
      ]
    },
    {
      "cell_type": "markdown",
      "metadata": {
        "id": "TC7Haxqw85SO",
        "colab_type": "text"
      },
      "source": [
        "### Data\n",
        "\n",
        "The following cell will download all data required for this assignment into the folder `week3/data`."
      ]
    },
    {
      "cell_type": "code",
      "metadata": {
        "id": "H55eDL6Z85SP",
        "colab_type": "code",
        "colab": {
          "base_uri": "https://localhost:8080/",
          "height": 462,
          "referenced_widgets": [
            "fc4a37d9cc0544b397acac4825750748",
            "90cb2c7b1d6647bc97f71ab2f9619ce3",
            "521efdb2e3104071ae180025afaabebb",
            "d27fd1a8ec80432fbe6b60aee1119536",
            "3fabc07430034bd38002d65e54288c49",
            "8e5b36401b4749b681082a5541cff839",
            "43ec6d30b29d4dc8bc4106e51689c617",
            "1bb718b03b044c26b5c6867b85aeda86",
            "2f5dbe6c8e064df8b0504d03318d1b91",
            "e802d7bb7a8d4be5b79ed72f242804c1",
            "22c36117c9754c7db6272efef629a736",
            "c1fe3a15cce6497ba098d4641cc42cdd",
            "e995f9aa80b24a03a6937d546202d654",
            "a57e361baeec471b858016ab26989823",
            "ecef2089d3c444aa98509ef318bbaae3",
            "c091d563c8fe492ebe07d4ce78d3377b",
            "d2314798728b45f4aa5aef5e7870aa6f",
            "75bcb5a954a0473dbe104f8221c5c3c7",
            "026cea5312324f3ba90e29950bb71f63",
            "670d86e2059b439a9b1ac853d91ce160",
            "3c0c20581b6a43afb0028fc49a3ce977",
            "f6aa64e2ceb842069bff235c21291578",
            "16abb1bb233a40e6944bc19bd76bbfdb",
            "c26e52b1b04e4d5b9b9c0817b1d954d4",
            "c2655130c9504ffe9742f854a7f71783",
            "832f377df97b48d0b0479b070523ee30",
            "8e1262d215334ea9ad7bb1af4b63b07e",
            "382b670c5afd42aea1615a68dc3cc25f",
            "ba1153548a5f41b79651578f8f4c995e",
            "d9bc208fffa241a7b60ce828ed402c7d",
            "2e67e93273d349a7a430afd43fe3be6e",
            "afdc5cb53b8641ae97383a8e70d1f73a",
            "5eac87fe4a8b4808a37ece1d35f43d16",
            "e9bf5d9930184ee8a0677ee1bbf0a248",
            "7f1646ccda20493ca39755577f0164a4",
            "fe107436cf2548c08db09d4a92109691",
            "a047f61cfb17479685e8f5d9aa206042",
            "e35405d3725b4ece823b7dbc2d8f1b85",
            "ee4935a271394c569930f2a390ce25af",
            "c4d9f0c875794d74af1a7b714cdd6b5c"
          ]
        },
        "outputId": "c0ea3f1c-f590-4123-b3db-8e099e966f67"
      },
      "source": [
        "! wget https://raw.githubusercontent.com/hse-aml/natural-language-processing/master/setup_google_colab.py -O setup_google_colab.py\n",
        "import setup_google_colab\n",
        "# please, uncomment the week you're working on\n",
        "setup_google_colab.setup_week3()\n",
        "import sys\n",
        "sys.path.append(\"..\")\n",
        "from common.download_utils import download_week3_resources\n",
        "\n",
        "download_week3_resources()"
      ],
      "execution_count": 1,
      "outputs": [
        {
          "output_type": "stream",
          "text": [
            "--2020-05-13 16:54:09--  https://raw.githubusercontent.com/hse-aml/natural-language-processing/master/setup_google_colab.py\n",
            "Resolving raw.githubusercontent.com (raw.githubusercontent.com)... 151.101.0.133, 151.101.64.133, 151.101.128.133, ...\n",
            "Connecting to raw.githubusercontent.com (raw.githubusercontent.com)|151.101.0.133|:443... connected.\n",
            "HTTP request sent, awaiting response... 200 OK\n",
            "Length: 1991 (1.9K) [text/plain]\n",
            "Saving to: ‘setup_google_colab.py’\n",
            "\n",
            "\rsetup_google_colab.   0%[                    ]       0  --.-KB/s               \rsetup_google_colab. 100%[===================>]   1.94K  --.-KB/s    in 0s      \n",
            "\n",
            "2020-05-13 16:54:09 (22.9 MB/s) - ‘setup_google_colab.py’ saved [1991/1991]\n",
            "\n"
          ],
          "name": "stdout"
        },
        {
          "output_type": "display_data",
          "data": {
            "application/vnd.jupyter.widget-view+json": {
              "model_id": "fc4a37d9cc0544b397acac4825750748",
              "version_minor": 0,
              "version_major": 2
            },
            "text/plain": [
              "HBox(children=(FloatProgress(value=0.0, max=119127793.0), HTML(value='')))"
            ]
          },
          "metadata": {
            "tags": []
          }
        },
        {
          "output_type": "stream",
          "text": [
            "\n"
          ],
          "name": "stdout"
        },
        {
          "output_type": "display_data",
          "data": {
            "application/vnd.jupyter.widget-view+json": {
              "model_id": "2f5dbe6c8e064df8b0504d03318d1b91",
              "version_minor": 0,
              "version_major": 2
            },
            "text/plain": [
              "HBox(children=(FloatProgress(value=0.0, max=535543630.0), HTML(value='')))"
            ]
          },
          "metadata": {
            "tags": []
          }
        },
        {
          "output_type": "stream",
          "text": [
            "\n"
          ],
          "name": "stdout"
        },
        {
          "output_type": "display_data",
          "data": {
            "application/vnd.jupyter.widget-view+json": {
              "model_id": "d2314798728b45f4aa5aef5e7870aa6f",
              "version_minor": 0,
              "version_major": 2
            },
            "text/plain": [
              "HBox(children=(FloatProgress(value=0.0, max=46408910.0), HTML(value='')))"
            ]
          },
          "metadata": {
            "tags": []
          }
        },
        {
          "output_type": "stream",
          "text": [
            "\n"
          ],
          "name": "stdout"
        },
        {
          "output_type": "display_data",
          "data": {
            "application/vnd.jupyter.widget-view+json": {
              "model_id": "c2655130c9504ffe9742f854a7f71783",
              "version_minor": 0,
              "version_major": 2
            },
            "text/plain": [
              "HBox(children=(FloatProgress(value=0.0, max=5333.0), HTML(value='')))"
            ]
          },
          "metadata": {
            "tags": []
          }
        },
        {
          "output_type": "stream",
          "text": [
            "\n",
            "Downloading GoogleNews-vectors-negative300.bin.gz (1.5G) for you, it will take a while...\n"
          ],
          "name": "stdout"
        },
        {
          "output_type": "display_data",
          "data": {
            "application/vnd.jupyter.widget-view+json": {
              "model_id": "5eac87fe4a8b4808a37ece1d35f43d16",
              "version_minor": 0,
              "version_major": 2
            },
            "text/plain": [
              "HBox(children=(FloatProgress(value=0.0, max=1647046227.0), HTML(value='')))"
            ]
          },
          "metadata": {
            "tags": []
          }
        },
        {
          "output_type": "stream",
          "text": [
            "\n"
          ],
          "name": "stdout"
        }
      ]
    },
    {
      "cell_type": "markdown",
      "metadata": {
        "id": "scvcFR_A85SV",
        "colab_type": "text"
      },
      "source": [
        "### Grading\n",
        "We will create a grader instace below and use it to collect your answers. Note that these outputs will be stored locally inside grader and will be uploaded to platform only after running submiting function in the last part of this assignment. If you want to make partial submission, you can run that cell any time you want."
      ]
    },
    {
      "cell_type": "code",
      "metadata": {
        "id": "NT9FF1SO85SW",
        "colab_type": "code",
        "colab": {}
      },
      "source": [
        "from grader import Grader"
      ],
      "execution_count": 0,
      "outputs": []
    },
    {
      "cell_type": "code",
      "metadata": {
        "id": "tTPnGgua85SZ",
        "colab_type": "code",
        "colab": {}
      },
      "source": [
        "grader = Grader()"
      ],
      "execution_count": 0,
      "outputs": []
    },
    {
      "cell_type": "markdown",
      "metadata": {
        "id": "utPXSSsu85Sf",
        "colab_type": "text"
      },
      "source": [
        "## Word embedding\n",
        "\n",
        "To solve the problem, you will use two different models of embeddings:\n",
        "\n",
        " - [Pre-trained word vectors](https://code.google.com/archive/p/word2vec/) from Google which were trained on a part of Google News dataset (about 100 billion words). The model contains 300-dimensional vectors for 3 million words and phrases. `GoogleNews-vectors-negative300.bin.gz` will be downloaded in `download_week3_resources()`.\n",
        " - Representations using StarSpace on StackOverflow data sample. You will need to train them from scratch."
      ]
    },
    {
      "cell_type": "markdown",
      "metadata": {
        "id": "YmdF5B9B85Sf",
        "colab_type": "text"
      },
      "source": [
        "It's always easier to start with pre-trained embeddings. Unpack the pre-trained Goggle's vectors and upload them using the function [KeyedVectors.load_word2vec_format](https://radimrehurek.com/gensim/models/keyedvectors.html) from gensim library with the parameter *binary=True*. If the size of the embeddings is larger than the avaliable memory, you could load only a part of the embeddings by defining the parameter *limit* (recommended: 500000)."
      ]
    },
    {
      "cell_type": "code",
      "metadata": {
        "id": "Q362vj-685Sg",
        "colab_type": "code",
        "colab": {}
      },
      "source": [
        "import gensim"
      ],
      "execution_count": 0,
      "outputs": []
    },
    {
      "cell_type": "code",
      "metadata": {
        "id": "ksxm799v85Sj",
        "colab_type": "code",
        "colab": {}
      },
      "source": [
        "from gensim.models import KeyedVectors\n",
        "wv_embeddings = KeyedVectors.load_word2vec_format('GoogleNews-vectors-negative300.bin.gz', binary=True, limit=500000)  ######### YOUR CODE HERE #############"
      ],
      "execution_count": 0,
      "outputs": []
    },
    {
      "cell_type": "markdown",
      "metadata": {
        "id": "7dsjjrRr85So",
        "colab_type": "text"
      },
      "source": [
        "### How to work with Google's word2vec embeddings?\n",
        "\n",
        "Once you have loaded the representations, make sure you can access them. First, you can check if the loaded embeddings contain a word:\n",
        "    \n",
        "    'word' in wv_embeddings\n",
        "    \n",
        "Second, to get the corresponding embedding you can use the square brackets:\n",
        "\n",
        "    wv_embeddings['word']\n",
        " \n",
        "### Checking that the embeddings are correct \n",
        " \n",
        "To prevent any errors during the first stage, we can check that the loaded embeddings are correct. You can call the function *check_embeddings*, implemented below, which runs 3 tests:\n",
        "1. Find the most similar word for provided \"positive\" and \"negative\" words.\n",
        "2. Find which word from the given list doesn’t go with the others.\n",
        "3. Find the most similar word for the provided one.\n",
        "\n",
        "In the right case the function will return the string *These embeddings look good*. Othervise, you need to validate the previous steps."
      ]
    },
    {
      "cell_type": "code",
      "metadata": {
        "id": "-pFK-Bnr85Sp",
        "colab_type": "code",
        "colab": {}
      },
      "source": [
        "def check_embeddings(embeddings):\n",
        "    error_text = \"Something wrong with your embeddings ('%s test isn't correct).\"\n",
        "    most_similar = embeddings.most_similar(positive=['woman', 'king'], negative=['man'])\n",
        "    if len(most_similar) < 1 or most_similar[0][0] != 'queen':\n",
        "        return error_text % \"Most similar\"\n",
        "\n",
        "    doesnt_match = embeddings.doesnt_match(['breakfast', 'cereal', 'dinner', 'lunch'])\n",
        "    if doesnt_match != 'cereal':\n",
        "        return error_text % \"Doesn't match\"\n",
        "    \n",
        "    most_similar_to_given = embeddings.most_similar_to_given('music', ['water', 'sound', 'backpack', 'mouse'])\n",
        "    if most_similar_to_given != 'sound':\n",
        "        return error_text % \"Most similar to given\"\n",
        "    \n",
        "    return \"These embeddings look good.\""
      ],
      "execution_count": 0,
      "outputs": []
    },
    {
      "cell_type": "code",
      "metadata": {
        "id": "72EU1uyJ85St",
        "colab_type": "code",
        "colab": {
          "base_uri": "https://localhost:8080/",
          "height": 87
        },
        "outputId": "ff6e76f4-a541-4392-af27-4ef3ddd3df56"
      },
      "source": [
        "print(check_embeddings(wv_embeddings))"
      ],
      "execution_count": 7,
      "outputs": [
        {
          "output_type": "stream",
          "text": [
            "These embeddings look good.\n"
          ],
          "name": "stdout"
        },
        {
          "output_type": "stream",
          "text": [
            "/usr/local/lib/python3.6/dist-packages/gensim/models/keyedvectors.py:877: FutureWarning: arrays to stack must be passed as a \"sequence\" type such as list or tuple. Support for non-sequence iterables such as generators is deprecated as of NumPy 1.16 and will raise an error in the future.\n",
            "  vectors = vstack(self.word_vec(word, use_norm=True) for word in used_words).astype(REAL)\n"
          ],
          "name": "stderr"
        }
      ]
    },
    {
      "cell_type": "markdown",
      "metadata": {
        "id": "hugEPEzD85Sx",
        "colab_type": "text"
      },
      "source": [
        "## From word to text embeddings\n",
        "\n",
        "**Task 1 (Question2Vec).** Usually, we have word-based embeddings, but for the task we need to create a representation for the whole question. It could be done in different ways. In our case we will use a **mean** of all word vectors in the question. Now you need to implement the function *question_to_vec*, which calculates the question representation described above. This function should work with the input text as is without any preprocessing.\n",
        "\n",
        "Note that there could be words without the corresponding embeddings. In this case, you can just skip these words and don't take them into account during calculating the result. If the question doesn't contain any known word with embedding, the function should return a zero vector."
      ]
    },
    {
      "cell_type": "code",
      "metadata": {
        "id": "8rbb1Yv485Sy",
        "colab_type": "code",
        "colab": {}
      },
      "source": [
        "import numpy as np"
      ],
      "execution_count": 0,
      "outputs": []
    },
    {
      "cell_type": "code",
      "metadata": {
        "id": "RMY3Zgpl85S1",
        "colab_type": "code",
        "colab": {}
      },
      "source": [
        "def question_to_vec(question, embeddings, dim=300):\n",
        "    \"\"\"\n",
        "        question: a string\n",
        "        embeddings: dict where the key is a word and a value is its' embedding\n",
        "        dim: size of the representation\n",
        "\n",
        "        result: vector representation for the question\n",
        "    \"\"\"\n",
        "    ######################################\n",
        "    ######### YOUR CODE HERE #############\n",
        "    ######################################\n",
        "    result = np.zeros(dim)\n",
        "    count = 0\n",
        "    for word in question.split():\n",
        "        if word in embeddings:\n",
        "            result += embeddings[word]\n",
        "            count += 1\n",
        "    return result / count if count != 0 else result"
      ],
      "execution_count": 0,
      "outputs": []
    },
    {
      "cell_type": "markdown",
      "metadata": {
        "id": "nQrhah9085S6",
        "colab_type": "text"
      },
      "source": [
        "To check the basic correctness of your implementation, run the function *question_to_vec_tests*."
      ]
    },
    {
      "cell_type": "code",
      "metadata": {
        "id": "7haUnmM_85S6",
        "colab_type": "code",
        "colab": {}
      },
      "source": [
        "def question_to_vec_tests():\n",
        "    if (np.zeros(300) != question_to_vec('', wv_embeddings)).any():\n",
        "        return \"You need to return zero vector for empty question.\"\n",
        "    if (np.zeros(300) != question_to_vec('thereisnosuchword', wv_embeddings)).any():\n",
        "        return \"You need to return zero vector for the question, which consists only unknown words.\"\n",
        "    if (wv_embeddings['word'] != question_to_vec('word', wv_embeddings)).any():\n",
        "        return \"You need to check the corectness of your function.\"\n",
        "    if ((wv_embeddings['I'] + wv_embeddings['am']) / 2 != question_to_vec('I am', wv_embeddings)).any():\n",
        "        return \"Your function should calculate a mean of word vectors.\"\n",
        "    if (wv_embeddings['word'] != question_to_vec('thereisnosuchword word', wv_embeddings)).any():\n",
        "        return \"You should not consider words which embeddings are unknown.\"\n",
        "    return \"Basic tests are passed.\""
      ],
      "execution_count": 0,
      "outputs": []
    },
    {
      "cell_type": "code",
      "metadata": {
        "id": "wE74goRE85S9",
        "colab_type": "code",
        "colab": {
          "base_uri": "https://localhost:8080/",
          "height": 34
        },
        "outputId": "3a538c2b-8caf-4f22-980d-92315b94a57b"
      },
      "source": [
        "print(question_to_vec_tests())"
      ],
      "execution_count": 17,
      "outputs": [
        {
          "output_type": "stream",
          "text": [
            "Basic tests are passed.\n"
          ],
          "name": "stdout"
        }
      ]
    },
    {
      "cell_type": "markdown",
      "metadata": {
        "id": "9z6z_bWL85TB",
        "colab_type": "text"
      },
      "source": [
        "You can submit embeddings for the questions from the file *test_embeddings.tsv* to earn the points. In this task you don't need to transform the text of a question somehow."
      ]
    },
    {
      "cell_type": "code",
      "metadata": {
        "id": "0hFQcKyH85TC",
        "colab_type": "code",
        "colab": {
          "base_uri": "https://localhost:8080/",
          "height": 50
        },
        "outputId": "133d473d-36ce-4fee-fdb5-3a681301d201"
      },
      "source": [
        "import nltk\n",
        "nltk.download('stopwords')\n",
        "from util import array_to_string"
      ],
      "execution_count": 18,
      "outputs": [
        {
          "output_type": "stream",
          "text": [
            "[nltk_data] Downloading package stopwords to /root/nltk_data...\n",
            "[nltk_data]   Unzipping corpora/stopwords.zip.\n"
          ],
          "name": "stderr"
        }
      ]
    },
    {
      "cell_type": "code",
      "metadata": {
        "id": "9NpkDBFD85TG",
        "colab_type": "code",
        "colab": {
          "base_uri": "https://localhost:8080/",
          "height": 101
        },
        "outputId": "772d3bbb-5cb8-43b6-e332-d766b3c5e6c4"
      },
      "source": [
        "question2vec_result = []\n",
        "for question in open('data/test_embeddings.tsv'):\n",
        "    question = question.strip()\n",
        "    answer = question_to_vec(question, wv_embeddings)\n",
        "    question2vec_result = np.append(question2vec_result, answer)\n",
        "\n",
        "grader.submit_tag('Question2Vec', array_to_string(question2vec_result))"
      ],
      "execution_count": 19,
      "outputs": [
        {
          "output_type": "stream",
          "text": [
            "Current answer for task Question2Vec is: 0.019293891059027776\n",
            "-0.028727213541666668\n",
            "0.046056111653645836\n",
            "0.08525933159722222\n",
            "0.02430555555555...\n"
          ],
          "name": "stdout"
        }
      ]
    },
    {
      "cell_type": "markdown",
      "metadata": {
        "id": "QgAEmyCQ85TK",
        "colab_type": "text"
      },
      "source": [
        "Now we have a method to create a representation of any sentence and we are ready for the first evaluation. So, let's check how well our solution (Google's vectors + *question_to_vec*) will work.\n",
        "\n",
        "## Evaluation of text similarity\n",
        "\n",
        "We can imagine that if we use good embeddings, the cosine similarity between the duplicate sentences should be less than for the random ones. Overall, for each pair of duplicate sentences we can generate *R* random negative examples and find out the position of the correct duplicate.  \n",
        "\n",
        "For example, we have the question *\"Exceptions What really happens\"* and we are sure that another question *\"How does the catch keyword determine the type of exception that was thrown\"* is a duplicate. But our model doesn't know it and tries to find out the best option also among questions like *\"How Can I Make These Links Rotate in PHP\"*, *\"NSLog array description not memory address\"* and *\"PECL_HTTP not recognised php ubuntu\"*. The goal of the model is to rank all these 4 questions (1 *positive* and *R* = 3 *negative*) in the way that the correct one is in the first place.\n",
        "\n",
        "However, it is unnatural to count on that the best candidate will be always in the first place. So let us consider the place of the best candidate in the sorted list of candidates and formulate a metric based on it. We can fix some *K* — a reasonalble number of top-ranked elements and *N* — a number of queries (size of the sample).\n",
        "\n",
        "### Hits@K\n",
        "\n",
        "The first simple metric will be a number of correct hits for some *K*:\n",
        "$$ \\text{Hits@K} = \\frac{1}{N}\\sum_{i=1}^N \\, [dup_i \\in topK(q_i)]$$\n",
        "\n",
        "where $q_i$ is the i-th query, $dup_i$ is its duplicate, $topK(q_i)$ is the top K elements of the ranked sentences provided by our model and the operation $[dup_i \\in topK(q_i)]$ equals 1 if the condition is true and 0 otherwise (more details about this operation could be found [here](https://en.wikipedia.org/wiki/Iverson_bracket)).\n",
        "\n",
        "\n",
        "### DCG@K\n",
        "The second one is a simplified [DCG metric](https://en.wikipedia.org/wiki/Discounted_cumulative_gain):\n",
        "\n",
        "$$ \\text{DCG@K} = \\frac{1}{N} \\sum_{i=1}^N\\frac{1}{\\log_2(1+rank_{dup_i})}\\cdot[rank_{dup_i} \\le K] $$\n",
        "\n",
        "where $rank_{dup_i}$ is a position of the duplicate in the sorted list of the nearest sentences for the query $q_i$. According to this metric, the model gets a higher reward for a higher position of the correct answer. If the answer does not appear in topK at all, the reward is zero. "
      ]
    },
    {
      "cell_type": "markdown",
      "metadata": {
        "id": "c63lEbx785TM",
        "colab_type": "text"
      },
      "source": [
        "### Evaluation examples\n",
        "\n",
        "Let's calculate the described metrics for the toy example introduced above. In this case $N$ = 1 and the correct candidate for $q_1$ is *\"How does the catch keyword determine the type of exception that was thrown\"*. Consider the following ranking of the candidates:\n",
        "1. *\"How Can I Make These Links Rotate in PHP\"*\n",
        "2. *\"How does the catch keyword determine the type of exception that was thrown\"*\n",
        "3. *\"NSLog array description not memory address\"*\n",
        "4. *\"PECL_HTTP not recognised php ubuntu\"*\n",
        "\n",
        "Using the ranking above, calculate *Hits@K* metric for *K = 1, 2, 4*: \n",
        " \n",
        "- [K = 1] $\\text{Hits@1} = \\frac{1}{1}\\sum_{i=1}^1 \\, [dup_i \\in top1(q_i)] = [dup_1 \\in top1(q_1)] = 0$ because the correct answer doesn't appear in the *top1* list.\n",
        "- [K = 2] $\\text{Hits@2} = \\frac{1}{1}\\sum_{i=1}^1 \\, [dup_i \\in top2(q_i)] = [dup_1 \\in top2(q_1)] = 1$ because $rank_{dup_1} = 2$.\n",
        "- [K = 4] $\\text{Hits@4} = \\frac{1}{1}\\sum_{i=1}^1 \\, [dup_i \\in top4(q_i)] = [dup_1 \\in top4(q_1)] = 1$\n",
        "\n",
        "Using the ranking above, calculate *DCG@K* metric for *K = 1, 2, 4*:\n",
        "\n",
        "- [K = 1] $\\text{DCG@1} = \\frac{1}{1} \\sum_{i=1}^1\\frac{1}{\\log_2(1+rank_{dup_i})}\\cdot[rank_{dup_i} \\le 1] = \\frac{1}{\\log_2(1+rank_{dup_i})}\\cdot[rank_{dup_i} \\le 1] = 0$ because the correct answer doesn't appear in the top1 list.\n",
        "- [K = 2] $\\text{DCG@2} = \\frac{1}{1} \\sum_{i=1}^1\\frac{1}{\\log_2(1+rank_{dup_i})}\\cdot[rank_{dup_i} \\le 2] = \\frac{1}{\\log_2{3}}$, because $rank_{dup_1} = 2$.\n",
        "- [K = 4] $\\text{DCG@4} = \\frac{1}{1} \\sum_{i=1}^1\\frac{1}{\\log_2(1+rank_{dup_i})}\\cdot[rank_{dup_i} \\le 4] = \\frac{1}{\\log_2{3}}$.\n"
      ]
    },
    {
      "cell_type": "markdown",
      "metadata": {
        "id": "YGotzaZp85TM",
        "colab_type": "text"
      },
      "source": [
        "**Tasks 2 and 3 (HitsCount and DCGScore).** Implement the functions *hits_count* and *dcg_score* as described above. Each function has two arguments: *dup_ranks* and *k*. *dup_ranks* is a list which contains *values of ranks* of duplicates. For example, *dup_ranks* is *[2]* for the example provided above."
      ]
    },
    {
      "cell_type": "code",
      "metadata": {
        "id": "XTdRsxqH85TN",
        "colab_type": "code",
        "colab": {}
      },
      "source": [
        "def hits_count(dup_ranks, k):\n",
        "    \"\"\"\n",
        "        dup_ranks: list of duplicates' ranks; one rank per question; \n",
        "                   length is a number of questions which we are looking for duplicates; \n",
        "                   rank is a number from 1 to len(candidates of the question); \n",
        "                   e.g. [2, 3] means that the first duplicate has the rank 2, the second one — 3.\n",
        "        k: number of top-ranked elements (k in Hits@k metric)\n",
        "\n",
        "        result: return Hits@k value for current ranking\n",
        "    \"\"\"\n",
        "    ######################################\n",
        "    ######### YOUR CODE HERE #############\n",
        "    ######################################\n",
        "    return sum(rank <= k for rank in dup_ranks) / len(dup_ranks)"
      ],
      "execution_count": 0,
      "outputs": []
    },
    {
      "cell_type": "markdown",
      "metadata": {
        "id": "grQNIGMC85TR",
        "colab_type": "text"
      },
      "source": [
        "Test your code on the tiny examples:"
      ]
    },
    {
      "cell_type": "code",
      "metadata": {
        "id": "viXsIJDH85TS",
        "colab_type": "code",
        "colab": {}
      },
      "source": [
        "def test_hits():\n",
        "    # *Evaluation example*\n",
        "    # answers — dup_i\n",
        "    answers = [\"How does the catch keyword determine the type of exception that was thrown\"]\n",
        "    \n",
        "    # candidates_ranking — the ranked sentences provided by our model\n",
        "    candidates_ranking = [[\"How Can I Make These Links Rotate in PHP\", \n",
        "                           \"How does the catch keyword determine the type of exception that was thrown\",\n",
        "                           \"NSLog array description not memory address\",\n",
        "                           \"PECL_HTTP not recognised php ubuntu\"]]\n",
        "    # dup_ranks — position of the dup_i in the list of ranks +1\n",
        "    dup_ranks = [candidates_ranking[i].index(answers[i]) + 1 for i in range(len(answers))]\n",
        "    \n",
        "    # correct_answers — the expected values of the result for each k from 1 to 4\n",
        "    correct_answers = [0, 1, 1, 1]\n",
        "    for k, correct in enumerate(correct_answers, 1):\n",
        "        if not np.isclose(hits_count(dup_ranks, k), correct):\n",
        "            return \"Check the function.\"\n",
        "    \n",
        "    # Other tests\n",
        "    answers = [\"How does the catch keyword determine the type of exception that was thrown\", \n",
        "               \"Convert Google results object (pure js) to Python object\"]\n",
        "    \n",
        "    # The first test: both duplicates on the first position in ranked list\n",
        "    candidates_ranking = [[\"How does the catch keyword determine the type of exception that was thrown\",\n",
        "                           \"How Can I Make These Links Rotate in PHP\"], \n",
        "                          [\"Convert Google results object (pure js) to Python object\",\n",
        "                           \"WPF- How to update the changes in list item of a list\"]]\n",
        "    dup_ranks = [candidates_ranking[i].index(answers[i]) + 1 for i in range(len(answers))]\n",
        "    correct_answers = [1, 1]\n",
        "    for k, correct in enumerate(correct_answers, 1):\n",
        "        if not np.isclose(hits_count(dup_ranks, k), correct):\n",
        "            return \"Check the function (test: both duplicates on the first position in ranked list).\"\n",
        "        \n",
        "    # The second test: one candidate on the first position, another — on the second\n",
        "    candidates_ranking = [[\"How Can I Make These Links Rotate in PHP\", \n",
        "                           \"How does the catch keyword determine the type of exception that was thrown\"], \n",
        "                          [\"Convert Google results object (pure js) to Python object\",\n",
        "                           \"WPF- How to update the changes in list item of a list\"]]\n",
        "    dup_ranks = [candidates_ranking[i].index(answers[i]) + 1 for i in range(len(answers))]\n",
        "    correct_answers = [0.5, 1]\n",
        "    for k, correct in enumerate(correct_answers, 1):\n",
        "        if not np.isclose(hits_count(dup_ranks, k), correct):\n",
        "            return \"Check the function (test: one candidate on the first position, another — on the second).\"\n",
        "\n",
        "    # The third test: both candidates on the second position\n",
        "    candidates_ranking = [[\"How Can I Make These Links Rotate in PHP\", \n",
        "                           \"How does the catch keyword determine the type of exception that was thrown\"], \n",
        "                          [\"WPF- How to update the changes in list item of a list\",\n",
        "                           \"Convert Google results object (pure js) to Python object\"]]\n",
        "    dup_ranks = [candidates_ranking[i].index(answers[i]) + 1 for i in range(len(answers))]\n",
        "    correct_answers = [0, 1]\n",
        "    for k, correct in enumerate(correct_answers, 1):\n",
        "        if not np.isclose(hits_count(dup_ranks, k), correct):\n",
        "            return \"Check the function (test: both candidates on the second position).\"\n",
        "\n",
        "    return \"Basic test are passed.\""
      ],
      "execution_count": 0,
      "outputs": []
    },
    {
      "cell_type": "code",
      "metadata": {
        "id": "sga1zaWR85TW",
        "colab_type": "code",
        "colab": {
          "base_uri": "https://localhost:8080/",
          "height": 34
        },
        "outputId": "cf0d691c-ecb1-43a9-bc1f-200d474c7498"
      },
      "source": [
        "print(test_hits())"
      ],
      "execution_count": 22,
      "outputs": [
        {
          "output_type": "stream",
          "text": [
            "Basic test are passed.\n"
          ],
          "name": "stdout"
        }
      ]
    },
    {
      "cell_type": "code",
      "metadata": {
        "id": "8q8neudJ85TZ",
        "colab_type": "code",
        "colab": {}
      },
      "source": [
        "def dcg_score(dup_ranks, k):\n",
        "    \"\"\"\n",
        "        dup_ranks: list of duplicates' ranks; one rank per question; \n",
        "                   length is a number of questions which we are looking for duplicates; \n",
        "                   rank is a number from 1 to len(candidates of the question); \n",
        "                   e.g. [2, 3] means that the first duplicate has the rank 2, the second one — 3.\n",
        "        k: number of top-ranked elements (k in DCG@k metric)\n",
        "\n",
        "        result: return DCG@k value for current ranking\n",
        "    \"\"\"\n",
        "    ######################################\n",
        "    ######### YOUR CODE HERE #############\n",
        "    ######################################\n",
        "    return sum(1 / (np.log2(1 + rank)) for rank in dup_ranks if rank <= k) / len(dup_ranks)"
      ],
      "execution_count": 0,
      "outputs": []
    },
    {
      "cell_type": "code",
      "metadata": {
        "id": "jqi1s_BT85Td",
        "colab_type": "code",
        "colab": {}
      },
      "source": [
        "def test_dcg():\n",
        "    # *Evaluation example*\n",
        "    # answers — dup_i\n",
        "    answers = [\"How does the catch keyword determine the type of exception that was thrown\"]\n",
        "    \n",
        "    # candidates_ranking — the ranked sentences provided by our model\n",
        "    candidates_ranking = [[\"How Can I Make These Links Rotate in PHP\", \n",
        "                           \"How does the catch keyword determine the type of exception that was thrown\",\n",
        "                           \"NSLog array description not memory address\",\n",
        "                           \"PECL_HTTP not recognised php ubuntu\"]]\n",
        "    # dup_ranks — position of the dup_i in the list of ranks +1\n",
        "    dup_ranks = [candidates_ranking[i].index(answers[i]) + 1 for i in range(len(answers))]\n",
        "    \n",
        "    # correct_answers — the expected values of the result for each k from 1 to 4\n",
        "    correct_answers = [0, 1 / (np.log2(3)), 1 / (np.log2(3)), 1 / (np.log2(3))]\n",
        "    for k, correct in enumerate(correct_answers, 1):\n",
        "        if not np.isclose(dcg_score(dup_ranks, k), correct):\n",
        "            return \"Check the function.\"\n",
        "    \n",
        "    # Other tests\n",
        "    answers = [\"How does the catch keyword determine the type of exception that was thrown\", \n",
        "               \"Convert Google results object (pure js) to Python object\"]\n",
        "\n",
        "    # The first test: both duplicates on the first position in ranked list\n",
        "    candidates_ranking = [[\"How does the catch keyword determine the type of exception that was thrown\",\n",
        "                           \"How Can I Make These Links Rotate in PHP\"], \n",
        "                          [\"Convert Google results object (pure js) to Python object\",\n",
        "                           \"WPF- How to update the changes in list item of a list\"]]\n",
        "    dup_ranks = [candidates_ranking[i].index(answers[i]) + 1 for i in range(len(answers))]\n",
        "    correct_answers = [1, 1]\n",
        "    for k, correct in enumerate(correct_answers, 1):\n",
        "        if not np.isclose(dcg_score(dup_ranks, k), correct):\n",
        "            return \"Check the function (test: both duplicates on the first position in ranked list).\"\n",
        "        \n",
        "    # The second test: one candidate on the first position, another — on the second\n",
        "    candidates_ranking = [[\"How Can I Make These Links Rotate in PHP\", \n",
        "                           \"How does the catch keyword determine the type of exception that was thrown\"], \n",
        "                          [\"Convert Google results object (pure js) to Python object\",\n",
        "                           \"WPF- How to update the changes in list item of a list\"]]\n",
        "    dup_ranks = [candidates_ranking[i].index(answers[i]) + 1 for i in range(len(answers))]\n",
        "    correct_answers = [0.5, (1 + (1 / (np.log2(3)))) / 2]\n",
        "    for k, correct in enumerate(correct_answers, 1):\n",
        "        if not np.isclose(dcg_score(dup_ranks, k), correct):\n",
        "            return \"Check the function (test: one candidate on the first position, another — on the second).\"\n",
        "        \n",
        "    # The third test: both candidates on the second position\n",
        "    candidates_ranking = [[\"How Can I Make These Links Rotate in PHP\",\n",
        "                           \"How does the catch keyword determine the type of exception that was thrown\"], \n",
        "                          [\"WPF- How to update the changes in list item of a list\",\n",
        "                           \"Convert Google results object (pure js) to Python object\"]]\n",
        "    dup_ranks = [candidates_ranking[i].index(answers[i]) + 1 for i in range(len(answers))]\n",
        "    correct_answers = [0, 1 / (np.log2(3))]\n",
        "    for k, correct in enumerate(correct_answers, 1):\n",
        "        if not np.isclose(dcg_score(dup_ranks, k), correct):\n",
        "            return \"Check the function (test: both candidates on the second position).\"\n",
        "\n",
        "    return \"Basic test are passed.\""
      ],
      "execution_count": 0,
      "outputs": []
    },
    {
      "cell_type": "code",
      "metadata": {
        "id": "g7r8lST_85Tg",
        "colab_type": "code",
        "colab": {
          "base_uri": "https://localhost:8080/",
          "height": 34
        },
        "outputId": "8f0296a1-23a3-42c4-bf12-1743bfd84629"
      },
      "source": [
        "print(test_dcg())"
      ],
      "execution_count": 25,
      "outputs": [
        {
          "output_type": "stream",
          "text": [
            "Basic test are passed.\n"
          ],
          "name": "stdout"
        }
      ]
    },
    {
      "cell_type": "markdown",
      "metadata": {
        "id": "RnlIOvF385Tk",
        "colab_type": "text"
      },
      "source": [
        "Submit results of the functions *hits_count* and *dcg_score* for the following examples to earn the points."
      ]
    },
    {
      "cell_type": "code",
      "metadata": {
        "id": "y44DsoLF85Tl",
        "colab_type": "code",
        "colab": {}
      },
      "source": [
        "test_examples = [\n",
        "    [1],\n",
        "    [1, 2],\n",
        "    [2, 1],\n",
        "    [1, 2, 3],\n",
        "    [1, 2, 3, 4, 5, 6, 7, 8, 9, 10],\n",
        "    [9, 5, 4, 2, 8, 10, 7, 6, 1, 3],\n",
        "    [4, 3, 5, 1, 9, 10, 7, 8, 2, 6],\n",
        "    [5, 1, 7, 6, 2, 3, 8, 9, 10, 4],\n",
        "    [6, 3, 1, 4, 7, 2, 9, 8, 10, 5],\n",
        "    [10, 9, 8, 7, 6, 5, 4, 3, 2, 1],\n",
        "]"
      ],
      "execution_count": 0,
      "outputs": []
    },
    {
      "cell_type": "code",
      "metadata": {
        "id": "ZWNnCVsk85Tp",
        "colab_type": "code",
        "colab": {
          "base_uri": "https://localhost:8080/",
          "height": 319
        },
        "outputId": "ce020786-02e1-4c0d-877a-2078b5029b64"
      },
      "source": [
        "hits_results = []\n",
        "for example in test_examples:\n",
        "    for k in range(len(example)):\n",
        "        hits_results.append(hits_count(example, k + 1))\n",
        "grader.submit_tag('HitsCount', array_to_string(hits_results))"
      ],
      "execution_count": 27,
      "outputs": [
        {
          "output_type": "stream",
          "text": [
            "Current answer for task HitsCount is: 1.0\n",
            "0.5\n",
            "1.0\n",
            "0.5\n",
            "1.0\n",
            "0.3333333333333333\n",
            "0.6666666666666666\n",
            "1.0\n",
            "0.1\n",
            "0.2\n",
            "0.3\n",
            "0.4\n",
            "0.5\n",
            "0.6\n",
            "0.7\n",
            "0.8\n",
            "0.9\n",
            "1....\n"
          ],
          "name": "stdout"
        }
      ]
    },
    {
      "cell_type": "code",
      "metadata": {
        "id": "HHe3KUDc85Tt",
        "colab_type": "code",
        "colab": {
          "base_uri": "https://localhost:8080/",
          "height": 151
        },
        "outputId": "793bc5bb-7f25-4132-a9be-4cbf915675de"
      },
      "source": [
        "dcg_results = []\n",
        "for example in test_examples:\n",
        "    for k in range(len(example)):\n",
        "        dcg_results.append(dcg_score(example, k + 1))\n",
        "grader.submit_tag('DCGScore', array_to_string(dcg_results))"
      ],
      "execution_count": 28,
      "outputs": [
        {
          "output_type": "stream",
          "text": [
            "Current answer for task DCGScore is: 1.0\n",
            "0.5\n",
            "0.8154648767857288\n",
            "0.5\n",
            "0.8154648767857288\n",
            "0.3333333333333333\n",
            "0.5436432511904858\n",
            "0.7103099178...\n"
          ],
          "name": "stdout"
        }
      ]
    },
    {
      "cell_type": "markdown",
      "metadata": {
        "id": "g2UvRFZp85Tw",
        "colab_type": "text"
      },
      "source": [
        "##  First solution: pre-trained embeddings"
      ]
    },
    {
      "cell_type": "markdown",
      "metadata": {
        "id": "oXtU-2YN85Ty",
        "colab_type": "text"
      },
      "source": [
        "We will work with predefined train, validation and test corpora. All the files are tab-separated, but have a different format:\n",
        " - *train* corpus contains similar sentences at the same row.\n",
        " - *validation* corpus contains the following columns: *question*, *similar question*, *negative example 1*, *negative example 2*, ... \n",
        " - *test* corpus contains the following columns: *question*, *example 1*, *example 2*, ...\n",
        "\n",
        "Validation corpus will be used for the intermediate validation of models. The test data will be necessary for submitting the quality of your model in the system."
      ]
    },
    {
      "cell_type": "markdown",
      "metadata": {
        "id": "MF-X0_aA85Ty",
        "colab_type": "text"
      },
      "source": [
        "Now you should read *validation* corpus, located at `data/validation.tsv`. You will use it later to evaluate current solution."
      ]
    },
    {
      "cell_type": "code",
      "metadata": {
        "id": "3g_ChuFU85Tz",
        "colab_type": "code",
        "colab": {}
      },
      "source": [
        "def read_corpus(filename):\n",
        "    data = []\n",
        "    for line in open(filename, encoding='utf-8'):\n",
        "        data.append(line.strip().split('\\t'))\n",
        "    return data"
      ],
      "execution_count": 0,
      "outputs": []
    },
    {
      "cell_type": "code",
      "metadata": {
        "id": "JpdO73Dt85T2",
        "colab_type": "code",
        "colab": {}
      },
      "source": [
        "validation = read_corpus('data/validation.tsv') ######### YOUR CODE HERE #############"
      ],
      "execution_count": 0,
      "outputs": []
    },
    {
      "cell_type": "code",
      "metadata": {
        "id": "exHT00KJ85T4",
        "colab_type": "code",
        "colab": {}
      },
      "source": [
        "from sklearn.metrics.pairwise import cosine_similarity"
      ],
      "execution_count": 0,
      "outputs": []
    },
    {
      "cell_type": "markdown",
      "metadata": {
        "id": "gsemst0-85T8",
        "colab_type": "text"
      },
      "source": [
        "We will use cosine distance to rank candidate questions which you need to implement in the function *rank_candidates*. The function should return a sorted list of pairs *(initial position in candidates list, candidate)*. Index of some pair corresponds to its rank (the first is the best). For example, if the list of candidates was *[a, b, c]* and the most similar is *c*, then *a* and *b*, the function should return a list *[(2, c), (0, a), (1, b)]*.\n",
        "\n",
        "Pay attention, if you use the function *cosine_similarity* from *sklearn.metrics.pairwise* to calculate similarity because it works in a different way: most similar objects has greatest similarity. It's preferable to use a vectorized version of *cosine_similarity* function. Try to compute similarity at once and not use list comprehension. It should speed up your computations significantly."
      ]
    },
    {
      "cell_type": "code",
      "metadata": {
        "id": "RARvYG1G85T8",
        "colab_type": "code",
        "colab": {}
      },
      "source": [
        "def rank_candidates(question, candidates, embeddings, dim=300):\n",
        "    \"\"\"\n",
        "        question: a string\n",
        "        candidates: a list of strings (candidates) which we want to rank\n",
        "        embeddings: some embeddings\n",
        "        dim: dimension of the current embeddings\n",
        "        \n",
        "        result: a list of pairs (initial position in the list, question)\n",
        "    \"\"\"\n",
        "    \n",
        "    ######################################\n",
        "    ######### YOUR CODE HERE #############\n",
        "    ######################################\n",
        "    qv = question_to_vec(question, embeddings, dim)[np.newaxis, :]\n",
        "    cvs = np.array([question_to_vec(candidate, embeddings, dim) for candidate in candidates])\n",
        "    sims = cosine_similarity(qv, cvs)[0]\n",
        "    idxs = np.argsort(sims)[::-1]\n",
        "    return [(i, candidates[i]) for i in idxs]"
      ],
      "execution_count": 0,
      "outputs": []
    },
    {
      "cell_type": "markdown",
      "metadata": {
        "id": "DtBUTd3085T_",
        "colab_type": "text"
      },
      "source": [
        "Test your code on the tiny examples:"
      ]
    },
    {
      "cell_type": "code",
      "metadata": {
        "id": "YEnA6QzA85UA",
        "colab_type": "code",
        "colab": {}
      },
      "source": [
        "def test_rank_candidates():\n",
        "    questions = ['converting string to list', 'Sending array via Ajax fails']\n",
        "    candidates = [['Convert Google results object (pure js) to Python object', \n",
        "                   'C# create cookie from string and send it',\n",
        "                   'How to use jQuery AJAX for an outside domain?'], \n",
        "                  ['Getting all list items of an unordered list in PHP', \n",
        "                   'WPF- How to update the changes in list item of a list', \n",
        "                   'select2 not displaying search results']]\n",
        "    results = [[(1, 'C# create cookie from string and send it'), \n",
        "                (0, 'Convert Google results object (pure js) to Python object'), \n",
        "                (2, 'How to use jQuery AJAX for an outside domain?')],\n",
        "               [(0, 'Getting all list items of an unordered list in PHP'), \n",
        "                (2, 'select2 not displaying search results'), \n",
        "                (1, 'WPF- How to update the changes in list item of a list')]]\n",
        "    for question, q_candidates, result in zip(questions, candidates, results):\n",
        "        ranks = rank_candidates(question, q_candidates, wv_embeddings, 300)\n",
        "        if not np.all(ranks == result):\n",
        "            return \"Check the function.\"\n",
        "    return \"Basic tests are passed.\""
      ],
      "execution_count": 0,
      "outputs": []
    },
    {
      "cell_type": "code",
      "metadata": {
        "id": "KOnHfd9S85UD",
        "colab_type": "code",
        "colab": {
          "base_uri": "https://localhost:8080/",
          "height": 34
        },
        "outputId": "d3c1e21e-7bcb-48f6-d74b-fc6d47c9f7b4"
      },
      "source": [
        "print(test_rank_candidates())"
      ],
      "execution_count": 34,
      "outputs": [
        {
          "output_type": "stream",
          "text": [
            "Basic tests are passed.\n"
          ],
          "name": "stdout"
        }
      ]
    },
    {
      "cell_type": "markdown",
      "metadata": {
        "id": "6WAxEtpr85UF",
        "colab_type": "text"
      },
      "source": [
        "Now we can test the quality of the current approach. Run the next two cells to get the results. Pay attention that calculation of similarity between vectors takes time and this calculation is computed approximately in 10 minutes."
      ]
    },
    {
      "cell_type": "code",
      "metadata": {
        "id": "sgSPljAn85UG",
        "colab_type": "code",
        "colab": {
          "base_uri": "https://localhost:8080/",
          "height": 34
        },
        "outputId": "d44a1ae8-9619-4cd1-a7a4-0237e87f9139"
      },
      "source": [
        "from tqdm import tqdm \n",
        "\n",
        "wv_ranking = []\n",
        "for line in tqdm(validation):\n",
        "    q, *ex = line\n",
        "    ranks = rank_candidates(q, ex, wv_embeddings)\n",
        "    wv_ranking.append([r[0] for r in ranks].index(0) + 1)"
      ],
      "execution_count": 36,
      "outputs": [
        {
          "output_type": "stream",
          "text": [
            "100%|██████████| 10000/10000 [08:52<00:00, 18.76it/s]\n"
          ],
          "name": "stderr"
        }
      ]
    },
    {
      "cell_type": "code",
      "metadata": {
        "id": "Yq0pEGEK85UJ",
        "colab_type": "code",
        "colab": {
          "base_uri": "https://localhost:8080/",
          "height": 118
        },
        "outputId": "ca6fd5cb-4241-4611-ddc2-f21cb1c36927"
      },
      "source": [
        "for k in [1, 5, 10, 100, 500, 1000]:\n",
        "    print(\"DCG@%4d: %.3f | Hits@%4d: %.3f\" % (k, dcg_score(wv_ranking, k), k, hits_count(wv_ranking, k)))"
      ],
      "execution_count": 37,
      "outputs": [
        {
          "output_type": "stream",
          "text": [
            "DCG@   1: 0.209 | Hits@   1: 0.209\n",
            "DCG@   5: 0.263 | Hits@   5: 0.311\n",
            "DCG@  10: 0.279 | Hits@  10: 0.360\n",
            "DCG@ 100: 0.316 | Hits@ 100: 0.548\n",
            "DCG@ 500: 0.349 | Hits@ 500: 0.807\n",
            "DCG@1000: 0.369 | Hits@1000: 1.000\n"
          ],
          "name": "stdout"
        }
      ]
    },
    {
      "cell_type": "markdown",
      "metadata": {
        "id": "J5hBpDgb85UM",
        "colab_type": "text"
      },
      "source": [
        "If you did all the steps correctly, you should be frustrated by the received results. Let's try to understand why the quality is so low. First of all, when you work with some data it is necessary to have an idea how the data looks like. Print several questions from the data:"
      ]
    },
    {
      "cell_type": "code",
      "metadata": {
        "id": "93-HpLnK85UM",
        "colab_type": "code",
        "colab": {
          "base_uri": "https://localhost:8080/",
          "height": 87
        },
        "outputId": "a76a382a-9a6b-4c8a-efcf-d59b796e85cb"
      },
      "source": [
        "for line in validation[:3]:\n",
        "    q, *examples = line\n",
        "    print(q, *examples[:3])"
      ],
      "execution_count": 38,
      "outputs": [
        {
          "output_type": "stream",
          "text": [
            "How to print a binary heap tree without recursion? How do you best convert a recursive function to an iterative one? How can i use ng-model with directive in angular js flash: drawing and erasing\n",
            "How to start PhoneStateListener programmatically? PhoneStateListener and service Java cast object[] to model WCF and What does this mean?\n",
            "jQuery: Show a div2 when mousenter over div1 is over when hover on div1 depenting on if it is on div2 or not it should act differently How to run selenium in google app engine/cloud? Python Comparing two lists of strings for similarities\n"
          ],
          "name": "stdout"
        }
      ]
    },
    {
      "cell_type": "markdown",
      "metadata": {
        "id": "KOlW9fRg85UR",
        "colab_type": "text"
      },
      "source": [
        "As you can see, we deal with the raw data. It means that we have many punctuation marks, special characters and unlowercased letters. In our case, it could lead to the situation where we can't find some embeddings, e.g. for the word \"grid?\". \n",
        "\n",
        "To solve this problem you should use the functions *text_prepare* from the previous assignments to prepare the data."
      ]
    },
    {
      "cell_type": "code",
      "metadata": {
        "id": "9mMtFHJl85UR",
        "colab_type": "code",
        "colab": {}
      },
      "source": [
        "from util import text_prepare"
      ],
      "execution_count": 0,
      "outputs": []
    },
    {
      "cell_type": "markdown",
      "metadata": {
        "id": "2JjaEUZl85UW",
        "colab_type": "text"
      },
      "source": [
        "Now transform all the questions from the validation set:"
      ]
    },
    {
      "cell_type": "code",
      "metadata": {
        "id": "oyNf0UC185UW",
        "colab_type": "code",
        "colab": {
          "base_uri": "https://localhost:8080/",
          "height": 34
        },
        "outputId": "c3c07b5a-dd22-40f7-a6aa-a33d1ea62476"
      },
      "source": [
        "prepared_validation = []\n",
        "for line in tqdm(validation):\n",
        "    ######### YOUR CODE HERE #############\n",
        "    prepared_validation.append([text_prepare(text) for text in line])"
      ],
      "execution_count": 40,
      "outputs": [
        {
          "output_type": "stream",
          "text": [
            "100%|██████████| 10000/10000 [00:38<00:00, 261.22it/s]\n"
          ],
          "name": "stderr"
        }
      ]
    },
    {
      "cell_type": "markdown",
      "metadata": {
        "id": "P4UNGfmb85Ua",
        "colab_type": "text"
      },
      "source": [
        "Let's evaluate the approach again after the preparation:"
      ]
    },
    {
      "cell_type": "code",
      "metadata": {
        "id": "okxW3KcU85Uc",
        "colab_type": "code",
        "colab": {
          "base_uri": "https://localhost:8080/",
          "height": 34
        },
        "outputId": "d8cebb63-e970-4639-c994-2965bceab5a0"
      },
      "source": [
        "wv_prepared_ranking = []\n",
        "for line in tqdm(prepared_validation):\n",
        "    q, *ex = line\n",
        "    ranks = rank_candidates(q, ex, wv_embeddings)\n",
        "    wv_prepared_ranking.append([r[0] for r in ranks].index(0) + 1)"
      ],
      "execution_count": 41,
      "outputs": [
        {
          "output_type": "stream",
          "text": [
            "100%|██████████| 10000/10000 [06:54<00:00, 24.15it/s]\n"
          ],
          "name": "stderr"
        }
      ]
    },
    {
      "cell_type": "code",
      "metadata": {
        "id": "f52K4S6n85Ug",
        "colab_type": "code",
        "colab": {
          "base_uri": "https://localhost:8080/",
          "height": 118
        },
        "outputId": "d5770d56-ff0b-4827-edb5-2c696a042d9c"
      },
      "source": [
        "for k in [1, 5, 10, 100, 500, 1000]:\n",
        "    print(\"DCG@%4d: %.3f | Hits@%4d: %.3f\" % (k, dcg_score(wv_prepared_ranking, k), \n",
        "                                              k, hits_count(wv_prepared_ranking, k)))"
      ],
      "execution_count": 42,
      "outputs": [
        {
          "output_type": "stream",
          "text": [
            "DCG@   1: 0.305 | Hits@   1: 0.305\n",
            "DCG@   5: 0.375 | Hits@   5: 0.438\n",
            "DCG@  10: 0.392 | Hits@  10: 0.489\n",
            "DCG@ 100: 0.425 | Hits@ 100: 0.656\n",
            "DCG@ 500: 0.447 | Hits@ 500: 0.830\n",
            "DCG@1000: 0.465 | Hits@1000: 1.000\n"
          ],
          "name": "stdout"
        }
      ]
    },
    {
      "cell_type": "markdown",
      "metadata": {
        "id": "INJF6mZb85Uo",
        "colab_type": "text"
      },
      "source": [
        "Now, prepare also train and test data, because you will need it in the future:"
      ]
    },
    {
      "cell_type": "code",
      "metadata": {
        "id": "qrr-1YCQ85Up",
        "colab_type": "code",
        "colab": {}
      },
      "source": [
        "def prepare_file(in_, out_):\n",
        "    out = open(out_, 'w')\n",
        "    for line in tqdm(open(in_, encoding='utf8')):\n",
        "        line = line.strip().split('\\t')\n",
        "        new_line = [text_prepare(q) for q in line]\n",
        "        print(*new_line, sep='\\t', file=out)\n",
        "    out.close()"
      ],
      "execution_count": 0,
      "outputs": []
    },
    {
      "cell_type": "code",
      "metadata": {
        "id": "PEGQ2gwr85Us",
        "colab_type": "code",
        "colab": {
          "base_uri": "https://localhost:8080/",
          "height": 67
        },
        "outputId": "e15289d0-c4ea-4876-85a2-221e73251728"
      },
      "source": [
        "######################################\n",
        "######### YOUR CODE HERE #############\n",
        "######################################\n",
        "prepare_file('data/train.tsv', 'data/train_prepared.tsv')\n",
        "prepare_file('data/validation.tsv', 'data/validation_prepared.tsv')\n",
        "prepare_file('data/test.tsv', 'data/test_prepared.tsv')"
      ],
      "execution_count": 47,
      "outputs": [
        {
          "output_type": "stream",
          "text": [
            "1000000it [00:11, 87516.66it/s]\n",
            "10000it [00:44, 225.04it/s]\n",
            "8583it [00:03, 2233.10it/s]\n"
          ],
          "name": "stderr"
        }
      ]
    },
    {
      "cell_type": "markdown",
      "metadata": {
        "id": "ww-F971W85Ux",
        "colab_type": "text"
      },
      "source": [
        "**Task 4 (W2VTokenizedRanks).** For each question from prepared *test.tsv* submit the ranks of the candidates to earn the points. The calculations should take about 3-5 minutes. Pay attention that the function *rank_candidates* returns a ranking, while in this case you should find a position in this ranking. Ranks should start with 1."
      ]
    },
    {
      "cell_type": "code",
      "metadata": {
        "id": "KYpTHIPd85Uy",
        "colab_type": "code",
        "colab": {}
      },
      "source": [
        "from util import matrix_to_string"
      ],
      "execution_count": 0,
      "outputs": []
    },
    {
      "cell_type": "code",
      "metadata": {
        "id": "T2EYBrER85U2",
        "colab_type": "code",
        "colab": {
          "base_uri": "https://localhost:8080/",
          "height": 70
        },
        "outputId": "00495162-eb1e-45b1-b10b-7af309ce4b2f"
      },
      "source": [
        "w2v_ranks_results = []\n",
        "prepared_test_data = 'data/test_prepared.tsv' ######### YOUR CODE HERE #############\n",
        "for line in tqdm(open(prepared_test_data)):\n",
        "    q, *ex = line.strip().split('\\t')\n",
        "    ranks = rank_candidates(q, ex, wv_embeddings, 300)\n",
        "    ranked_candidates = [r[0] for r in ranks]\n",
        "    w2v_ranks_results.append([ranked_candidates.index(i) + 1 for i in range(len(ranked_candidates))])\n",
        "    \n",
        "grader.submit_tag('W2VTokenizedRanks', matrix_to_string(w2v_ranks_results))"
      ],
      "execution_count": 50,
      "outputs": [
        {
          "output_type": "stream",
          "text": [
            "8583it [00:56, 151.99it/s]\n"
          ],
          "name": "stderr"
        },
        {
          "output_type": "stream",
          "text": [
            "Current answer for task W2VTokenizedRanks is: 95\t94\t7\t9\t64\t36\t31\t93\t23\t100\t99\t20\t60\t6\t97\t48\t70\t37\t41\t96\t29\t56\t2\t65\t68\t44\t27\t25\t57\t62\t11\t87\t50\t66\t7...\n"
          ],
          "name": "stdout"
        }
      ]
    },
    {
      "cell_type": "markdown",
      "metadata": {
        "id": "XC_19aor85U5",
        "colab_type": "text"
      },
      "source": [
        "## Advanced solution: StarSpace embeddings\n",
        "\n",
        "Now you are ready to train your own word embeddings! In particular, you need to train embeddings specially for our task of duplicates detection. Unfortunately, StarSpace cannot be run on Windows and we recommend to use provided\n",
        "[docker container](https://github.com/hse-aml/natural-language-processing/blob/master/Docker-tutorial.md) or other alternatives. Don't delete results of this task because you will need it in the final project.\n",
        "\n",
        "### How it works and what's the main difference with word2vec?\n",
        "The main point in this section is that StarSpace can be trained specifically for some tasks. In contrast to word2vec model, which tries to train similar embeddings for words in similar contexts, StarSpace uses embeddings for the whole sentence (just as a sum of embeddings of words and phrases). Despite the fact that in both cases we get word embeddings as a result of the training, StarSpace embeddings are trained using some supervised data, e.g. a set of similar sentence pairs, and thus they can better suit the task.\n",
        "\n",
        "In our case, StarSpace should use two types of sentence pairs for training: \"positive\" and \"negative\". \"Positive\" examples are extracted from the train sample (duplicates, high similarity) and the \"negative\" examples are generated randomly (low similarity assumed). \n",
        "\n",
        "### How to choose the best params for the model?\n",
        "Normally, you would start with some default choice and then run extensive experiments to compare different strategies. However, we have some recommendations ready for you to save your time:\n",
        "- Be careful with choosing the suitable training mode. In this task we want to explore texts similarity which corresponds to *trainMode = 3*.\n",
        "- Use adagrad optimization (parameter *adagrad = true*).\n",
        "- Set the length of phrase equal to 1 (parameter *ngrams*), because we need embeddings only for words.\n",
        "- Don't use a large number of *epochs* (we think that 5 should be enough).\n",
        "- Try dimension *dim* equal to 100.\n",
        "- To compare embeddings usually *cosine* *similarity* is used.\n",
        "- Set *minCount* greater than 1 (for example, 2) if you don't want to get embeddings for extremely rare words.\n",
        "- Parameter *verbose = true* could show you the progress of the training process.\n",
        "- Set parameter *fileFormat* equals *labelDoc*.\n",
        "- Parameter *negSearchLimit* is responsible for a number of negative examples which is used during the training. We think that 10 will be enought for this task.\n",
        "- To increase a speed of training we recommend to set *learning rate* to 0.05."
      ]
    },
    {
      "cell_type": "markdown",
      "metadata": {
        "id": "f4p7s6VZ85U6",
        "colab_type": "text"
      },
      "source": [
        "Train StarSpace embeddings for unigrams on the train dataset. You don't need to change the format of the input data. Just don't forget to use prepared version of the training data. \n",
        "\n",
        "If you follow the instruction, the training process will take about 1 hour. The size of the embeddings' dictionary should be approximately 100 000 (number of lines in the result file). If you got significantly more than this number, try to check all the instructions above."
      ]
    },
    {
      "cell_type": "code",
      "metadata": {
        "id": "1jlTjBkQ85U6",
        "colab_type": "code",
        "colab": {
          "base_uri": "https://localhost:8080/",
          "height": 941
        },
        "outputId": "70453870-0f89-442d-eff4-31c8b0e7f909"
      },
      "source": [
        "######### TRAINING HAPPENING HERE #############\n",
        "%%bash\n",
        "./Starspace/starspace train -trainFile \"data/train_prepared.tsv\" -model starspace_embedding \\\n",
        "-trainMode 3 \\\n",
        "-adagrad true \\\n",
        "-ngrams 1 \\\n",
        "-epoch 5 \\\n",
        "-dim 100 \\\n",
        "-similarity cosine \\\n",
        "-minCount 2 \\\n",
        "-verbose true \\\n",
        "-fileFormat labelDoc \\\n",
        "-negSearchLimit 10 \\\n",
        "-lr 0.05"
      ],
      "execution_count": 59,
      "outputs": [
        {
          "output_type": "stream",
          "text": [
            "Arguments: \n",
            "lr: 0.05\n",
            "dim: 100\n",
            "epoch: 5\n",
            "maxTrainTime: 8640000\n",
            "validationPatience: 10\n",
            "saveEveryEpoch: 0\n",
            "loss: hinge\n",
            "margin: 0.05\n",
            "similarity: cosine\n",
            "maxNegSamples: 10\n",
            "negSearchLimit: 10\n",
            "batchSize: 5\n",
            "thread: 10\n",
            "minCount: 2\n",
            "minCountLabel: 1\n",
            "label: __label__\n",
            "label: __label__\n",
            "ngrams: 1\n",
            "bucket: 2000000\n",
            "adagrad: 1\n",
            "trainMode: 3\n",
            "fileFormat: labelDoc\n",
            "normalizeText: 0\n",
            "dropoutLHS: 0\n",
            "dropoutRHS: 0\n",
            "useWeight: 0\n",
            "weightSep: :\n",
            "Start to initialize starspace model.\n",
            "Build dict from input file : data/train_prepared.tsv\n",
            "Loading data from file : data/train_prepared.tsv\n",
            "Total number of examples loaded : 999740\n",
            "Initialized model weights. Model size :\n",
            "matrix : 95058 100\n",
            "Training epoch 0: 0.05 0.01\n",
            "\n",
            " ---+++                Epoch    0 Train error : 0.04385468 +++--- ☃\n",
            "Training epoch 1: 0.04 0.01\n",
            "\n",
            " ---+++                Epoch    1 Train error : 0.01339754 +++--- ☃\n",
            "Training epoch 2: 0.03 0.01\n",
            "\n",
            " ---+++                Epoch    2 Train error : 0.00945138 +++--- ☃\n",
            "Training epoch 3: 0.02 0.01\n",
            "\n",
            " ---+++                Epoch    3 Train error : 0.00778862 +++--- ☃\n",
            "Training epoch 4: 0.01 0.01\n",
            "\n",
            " ---+++                Epoch    4 Train error : 0.00689553 +++--- ☃\n",
            "Saving model to file : starspace_embedding\n",
            "Saving model in tsv format : starspace_embedding.tsv\n"
          ],
          "name": "stdout"
        },
        {
          "output_type": "stream",
          "text": [
            "\rRead 1M words\rRead 2M words\rRead 3M words\rRead 4M words\rRead 5M words\rRead 6M words\rRead 7M words\rRead 8M words\rRead 9M words\rRead 10M words\rRead 11M words\rRead 12M words\rRead 12M words\n",
            "Number of words in dictionary:  95058\n",
            "Number of labels in dictionary: 0\n",
            "\rEpoch: 0.1%  lr: 0.050000  loss: 0.480501  eta: 0h21m  tot: 0h0m0s  (0.0%)\rEpoch: 0.2%  lr: 0.050000  loss: 0.431265  eta: 0h19m  tot: 0h0m0s  (0.0%)\rEpoch: 0.3%  lr: 0.050000  loss: 0.376755  eta: 0h20m  tot: 0h0m0s  (0.1%)\rEpoch: 0.4%  lr: 0.050000  loss: 0.334708  eta: 0h19m  tot: 0h0m0s  (0.1%)\rEpoch: 0.4%  lr: 0.050000  loss: 0.310256  eta: 0h19m  tot: 0h0m1s  (0.1%)\rEpoch: 0.5%  lr: 0.050000  loss: 0.288333  eta: 0h19m  tot: 0h0m1s  (0.1%)\rEpoch: 0.6%  lr: 0.049960  loss: 0.271288  eta: 0h19m  tot: 0h0m1s  (0.1%)\rEpoch: 0.7%  lr: 0.049960  loss: 0.256228  eta: 0h19m  tot: 0h0m1s  (0.1%)\rEpoch: 0.8%  lr: 0.049960  loss: 0.250193  eta: 0h19m  tot: 0h0m1s  (0.2%)\rEpoch: 0.9%  lr: 0.049950  loss: 0.235925  eta: 0h18m  tot: 0h0m2s  (0.2%)\rEpoch: 1.0%  lr: 0.049940  loss: 0.227455  eta: 0h18m  tot: 0h0m2s  (0.2%)\rEpoch: 1.1%  lr: 0.049940  loss: 0.224537  eta: 0h18m  tot: 0h0m2s  (0.2%)\rEpoch: 1.2%  lr: 0.049940  loss: 0.221142  eta: 0h18m  tot: 0h0m2s  (0.2%)\rEpoch: 1.3%  lr: 0.049930  loss: 0.216883  eta: 0h18m  tot: 0h0m2s  (0.3%)\rEpoch: 1.3%  lr: 0.049920  loss: 0.210472  eta: 0h18m  tot: 0h0m3s  (0.3%)\rEpoch: 1.4%  lr: 0.049920  loss: 0.212170  eta: 0h18m  tot: 0h0m3s  (0.3%)\rEpoch: 1.5%  lr: 0.049920  loss: 0.205573  eta: 0h18m  tot: 0h0m3s  (0.3%)\rEpoch: 1.6%  lr: 0.049920  loss: 0.200184  eta: 0h18m  tot: 0h0m3s  (0.3%)\rEpoch: 1.7%  lr: 0.049920  loss: 0.198054  eta: 0h18m  tot: 0h0m3s  (0.3%)\rEpoch: 1.8%  lr: 0.049900  loss: 0.194426  eta: 0h18m  tot: 0h0m3s  (0.4%)\rEpoch: 1.9%  lr: 0.049890  loss: 0.190339  eta: 0h18m  tot: 0h0m4s  (0.4%)\rEpoch: 2.0%  lr: 0.049870  loss: 0.187790  eta: 0h17m  tot: 0h0m4s  (0.4%)\rEpoch: 2.1%  lr: 0.049850  loss: 0.183787  eta: 0h17m  tot: 0h0m4s  (0.4%)\rEpoch: 2.2%  lr: 0.049850  loss: 0.180356  eta: 0h17m  tot: 0h0m4s  (0.4%)\rEpoch: 2.2%  lr: 0.049840  loss: 0.177762  eta: 0h17m  tot: 0h0m4s  (0.4%)\rEpoch: 2.3%  lr: 0.049810  loss: 0.174305  eta: 0h17m  tot: 0h0m5s  (0.5%)\rEpoch: 2.4%  lr: 0.049810  loss: 0.172501  eta: 0h17m  tot: 0h0m5s  (0.5%)\rEpoch: 2.5%  lr: 0.049800  loss: 0.170801  eta: 0h17m  tot: 0h0m5s  (0.5%)\rEpoch: 2.6%  lr: 0.049800  loss: 0.167538  eta: 0h17m  tot: 0h0m5s  (0.5%)\rEpoch: 2.7%  lr: 0.049790  loss: 0.166554  eta: 0h17m  tot: 0h0m5s  (0.5%)\rEpoch: 2.8%  lr: 0.049790  loss: 0.163279  eta: 0h17m  tot: 0h0m5s  (0.6%)\rEpoch: 2.9%  lr: 0.049780  loss: 0.160781  eta: 0h17m  tot: 0h0m6s  (0.6%)\rEpoch: 3.0%  lr: 0.049770  loss: 0.158447  eta: 0h17m  tot: 0h0m6s  (0.6%)\rEpoch: 3.1%  lr: 0.049750  loss: 0.156624  eta: 0h17m  tot: 0h0m6s  (0.6%)\rEpoch: 3.1%  lr: 0.049750  loss: 0.155115  eta: 0h17m  tot: 0h0m6s  (0.6%)\rEpoch: 3.2%  lr: 0.049740  loss: 0.153728  eta: 0h17m  tot: 0h0m6s  (0.6%)\rEpoch: 3.3%  lr: 0.049740  loss: 0.153929  eta: 0h17m  tot: 0h0m7s  (0.7%)\rEpoch: 3.4%  lr: 0.049740  loss: 0.151876  eta: 0h17m  tot: 0h0m7s  (0.7%)\rEpoch: 3.5%  lr: 0.049710  loss: 0.150673  eta: 0h17m  tot: 0h0m7s  (0.7%)\rEpoch: 3.6%  lr: 0.049700  loss: 0.148749  eta: 0h17m  tot: 0h0m7s  (0.7%)\rEpoch: 3.7%  lr: 0.049680  loss: 0.146544  eta: 0h17m  tot: 0h0m7s  (0.7%)\rEpoch: 3.8%  lr: 0.049660  loss: 0.144843  eta: 0h17m  tot: 0h0m7s  (0.8%)\rEpoch: 3.9%  lr: 0.049640  loss: 0.143411  eta: 0h17m  tot: 0h0m8s  (0.8%)\rEpoch: 4.0%  lr: 0.049620  loss: 0.141492  eta: 0h17m  tot: 0h0m8s  (0.8%)\rEpoch: 4.1%  lr: 0.049610  loss: 0.141379  eta: 0h17m  tot: 0h0m8s  (0.8%)\rEpoch: 4.1%  lr: 0.049600  loss: 0.141062  eta: 0h17m  tot: 0h0m8s  (0.8%)\rEpoch: 4.2%  lr: 0.049600  loss: 0.139287  eta: 0h17m  tot: 0h0m8s  (0.8%)\rEpoch: 4.3%  lr: 0.049590  loss: 0.138282  eta: 0h17m  tot: 0h0m8s  (0.9%)\rEpoch: 4.4%  lr: 0.049580  loss: 0.137488  eta: 0h17m  tot: 0h0m9s  (0.9%)\rEpoch: 4.5%  lr: 0.049550  loss: 0.136758  eta: 0h17m  tot: 0h0m9s  (0.9%)\rEpoch: 4.6%  lr: 0.049540  loss: 0.136165  eta: 0h17m  tot: 0h0m9s  (0.9%)\rEpoch: 4.7%  lr: 0.049540  loss: 0.135036  eta: 0h16m  tot: 0h0m9s  (0.9%)\rEpoch: 4.8%  lr: 0.049540  loss: 0.133394  eta: 0h16m  tot: 0h0m9s  (1.0%)\rEpoch: 4.9%  lr: 0.049520  loss: 0.132431  eta: 0h16m  tot: 0h0m9s  (1.0%)\rEpoch: 5.0%  lr: 0.049520  loss: 0.131663  eta: 0h16m  tot: 0h0m10s  (1.0%)\rEpoch: 5.0%  lr: 0.049520  loss: 0.130959  eta: 0h16m  tot: 0h0m10s  (1.0%)\rEpoch: 5.1%  lr: 0.049500  loss: 0.130060  eta: 0h16m  tot: 0h0m10s  (1.0%)\rEpoch: 5.2%  lr: 0.049489  loss: 0.129481  eta: 0h16m  tot: 0h0m10s  (1.0%)\rEpoch: 5.3%  lr: 0.049479  loss: 0.128721  eta: 0h16m  tot: 0h0m10s  (1.1%)\rEpoch: 5.4%  lr: 0.049469  loss: 0.127840  eta: 0h16m  tot: 0h0m11s  (1.1%)\rEpoch: 5.5%  lr: 0.049459  loss: 0.126729  eta: 0h16m  tot: 0h0m11s  (1.1%)\rEpoch: 5.6%  lr: 0.049459  loss: 0.125553  eta: 0h16m  tot: 0h0m11s  (1.1%)\rEpoch: 5.7%  lr: 0.049449  loss: 0.125359  eta: 0h16m  tot: 0h0m11s  (1.1%)\rEpoch: 5.8%  lr: 0.049439  loss: 0.124393  eta: 0h16m  tot: 0h0m11s  (1.2%)\rEpoch: 5.9%  lr: 0.049439  loss: 0.123614  eta: 0h16m  tot: 0h0m11s  (1.2%)\rEpoch: 5.9%  lr: 0.049429  loss: 0.123082  eta: 0h16m  tot: 0h0m12s  (1.2%)\rEpoch: 6.0%  lr: 0.049429  loss: 0.122455  eta: 0h16m  tot: 0h0m12s  (1.2%)\rEpoch: 6.1%  lr: 0.049429  loss: 0.121531  eta: 0h16m  tot: 0h0m12s  (1.2%)\rEpoch: 6.2%  lr: 0.049429  loss: 0.120774  eta: 0h16m  tot: 0h0m12s  (1.2%)\rEpoch: 6.3%  lr: 0.049409  loss: 0.120038  eta: 0h16m  tot: 0h0m12s  (1.3%)\rEpoch: 6.4%  lr: 0.049399  loss: 0.119472  eta: 0h16m  tot: 0h0m12s  (1.3%)\rEpoch: 6.5%  lr: 0.049379  loss: 0.118921  eta: 0h16m  tot: 0h0m13s  (1.3%)\rEpoch: 6.6%  lr: 0.049379  loss: 0.118315  eta: 0h16m  tot: 0h0m13s  (1.3%)\rEpoch: 6.7%  lr: 0.049359  loss: 0.117535  eta: 0h16m  tot: 0h0m13s  (1.3%)\rEpoch: 6.8%  lr: 0.049329  loss: 0.116516  eta: 0h16m  tot: 0h0m13s  (1.4%)\rEpoch: 6.8%  lr: 0.049329  loss: 0.116039  eta: 0h16m  tot: 0h0m13s  (1.4%)\rEpoch: 6.9%  lr: 0.049309  loss: 0.116075  eta: 0h16m  tot: 0h0m13s  (1.4%)\rEpoch: 7.0%  lr: 0.049289  loss: 0.115734  eta: 0h16m  tot: 0h0m14s  (1.4%)\rEpoch: 7.1%  lr: 0.049279  loss: 0.115209  eta: 0h16m  tot: 0h0m14s  (1.4%)\rEpoch: 7.2%  lr: 0.049269  loss: 0.114482  eta: 0h16m  tot: 0h0m14s  (1.4%)\rEpoch: 7.3%  lr: 0.049269  loss: 0.113844  eta: 0h16m  tot: 0h0m14s  (1.5%)\rEpoch: 7.4%  lr: 0.049269  loss: 0.113446  eta: 0h16m  tot: 0h0m14s  (1.5%)\rEpoch: 7.5%  lr: 0.049249  loss: 0.113238  eta: 0h16m  tot: 0h0m14s  (1.5%)\rEpoch: 7.6%  lr: 0.049249  loss: 0.112838  eta: 0h16m  tot: 0h0m15s  (1.5%)\rEpoch: 7.7%  lr: 0.049249  loss: 0.112260  eta: 0h16m  tot: 0h0m15s  (1.5%)\rEpoch: 7.7%  lr: 0.049239  loss: 0.111892  eta: 0h16m  tot: 0h0m15s  (1.5%)\rEpoch: 7.8%  lr: 0.049219  loss: 0.111463  eta: 0h16m  tot: 0h0m15s  (1.6%)\rEpoch: 7.9%  lr: 0.049219  loss: 0.111143  eta: 0h16m  tot: 0h0m15s  (1.6%)\rEpoch: 8.0%  lr: 0.049219  loss: 0.110648  eta: 0h16m  tot: 0h0m15s  (1.6%)\rEpoch: 8.1%  lr: 0.049219  loss: 0.110177  eta: 0h16m  tot: 0h0m16s  (1.6%)\rEpoch: 8.2%  lr: 0.049199  loss: 0.110108  eta: 0h16m  tot: 0h0m16s  (1.6%)\rEpoch: 8.3%  lr: 0.049199  loss: 0.109698  eta: 0h16m  tot: 0h0m16s  (1.7%)\rEpoch: 8.4%  lr: 0.049189  loss: 0.109196  eta: 0h16m  tot: 0h0m16s  (1.7%)\rEpoch: 8.5%  lr: 0.049179  loss: 0.108642  eta: 0h16m  tot: 0h0m16s  (1.7%)\rEpoch: 8.6%  lr: 0.049179  loss: 0.108112  eta: 0h16m  tot: 0h0m17s  (1.7%)\rEpoch: 8.6%  lr: 0.049149  loss: 0.107742  eta: 0h16m  tot: 0h0m17s  (1.7%)\rEpoch: 8.7%  lr: 0.049149  loss: 0.107256  eta: 0h16m  tot: 0h0m17s  (1.7%)\rEpoch: 8.8%  lr: 0.049129  loss: 0.107129  eta: 0h16m  tot: 0h0m17s  (1.8%)\rEpoch: 8.9%  lr: 0.049119  loss: 0.106757  eta: 0h16m  tot: 0h0m17s  (1.8%)\rEpoch: 9.0%  lr: 0.049099  loss: 0.106547  eta: 0h16m  tot: 0h0m17s  (1.8%)\rEpoch: 9.1%  lr: 0.049099  loss: 0.106264  eta: 0h16m  tot: 0h0m18s  (1.8%)\rEpoch: 9.2%  lr: 0.049079  loss: 0.106042  eta: 0h16m  tot: 0h0m18s  (1.8%)\rEpoch: 9.3%  lr: 0.049079  loss: 0.105483  eta: 0h16m  tot: 0h0m18s  (1.9%)\rEpoch: 9.4%  lr: 0.049079  loss: 0.104959  eta: 0h16m  tot: 0h0m18s  (1.9%)\rEpoch: 9.5%  lr: 0.049049  loss: 0.104623  eta: 0h16m  tot: 0h0m18s  (1.9%)\rEpoch: 9.5%  lr: 0.049049  loss: 0.104117  eta: 0h16m  tot: 0h0m18s  (1.9%)\rEpoch: 9.6%  lr: 0.049019  loss: 0.103741  eta: 0h16m  tot: 0h0m19s  (1.9%)\rEpoch: 9.7%  lr: 0.049009  loss: 0.103330  eta: 0h16m  tot: 0h0m19s  (1.9%)\rEpoch: 9.8%  lr: 0.048989  loss: 0.102646  eta: 0h16m  tot: 0h0m19s  (2.0%)\rEpoch: 9.9%  lr: 0.048989  loss: 0.102242  eta: 0h16m  tot: 0h0m19s  (2.0%)\rEpoch: 10.0%  lr: 0.048969  loss: 0.101563  eta: 0h16m  tot: 0h0m19s  (2.0%)\rEpoch: 10.1%  lr: 0.048959  loss: 0.100937  eta: 0h16m  tot: 0h0m19s  (2.0%)\rEpoch: 10.2%  lr: 0.048959  loss: 0.100960  eta: 0h16m  tot: 0h0m20s  (2.0%)\rEpoch: 10.3%  lr: 0.048939  loss: 0.100712  eta: 0h16m  tot: 0h0m20s  (2.1%)\rEpoch: 10.4%  lr: 0.048939  loss: 0.100667  eta: 0h16m  tot: 0h0m20s  (2.1%)\rEpoch: 10.4%  lr: 0.048939  loss: 0.100212  eta: 0h16m  tot: 0h0m20s  (2.1%)\rEpoch: 10.5%  lr: 0.048929  loss: 0.099578  eta: 0h16m  tot: 0h0m20s  (2.1%)\rEpoch: 10.6%  lr: 0.048919  loss: 0.099375  eta: 0h16m  tot: 0h0m20s  (2.1%)\rEpoch: 10.7%  lr: 0.048919  loss: 0.098915  eta: 0h15m  tot: 0h0m21s  (2.1%)\rEpoch: 10.8%  lr: 0.048919  loss: 0.098669  eta: 0h15m  tot: 0h0m21s  (2.2%)\rEpoch: 10.9%  lr: 0.048919  loss: 0.098255  eta: 0h15m  tot: 0h0m21s  (2.2%)\rEpoch: 11.0%  lr: 0.048919  loss: 0.098145  eta: 0h15m  tot: 0h0m21s  (2.2%)\rEpoch: 11.1%  lr: 0.048909  loss: 0.097994  eta: 0h15m  tot: 0h0m21s  (2.2%)\rEpoch: 11.2%  lr: 0.048879  loss: 0.097751  eta: 0h15m  tot: 0h0m21s  (2.2%)\rEpoch: 11.3%  lr: 0.048869  loss: 0.097867  eta: 0h15m  tot: 0h0m22s  (2.3%)\rEpoch: 11.3%  lr: 0.048849  loss: 0.097865  eta: 0h15m  tot: 0h0m22s  (2.3%)\rEpoch: 11.4%  lr: 0.048849  loss: 0.097673  eta: 0h15m  tot: 0h0m22s  (2.3%)\rEpoch: 11.5%  lr: 0.048849  loss: 0.097569  eta: 0h15m  tot: 0h0m22s  (2.3%)\rEpoch: 11.6%  lr: 0.048849  loss: 0.097077  eta: 0h15m  tot: 0h0m22s  (2.3%)\rEpoch: 11.7%  lr: 0.048839  loss: 0.097019  eta: 0h15m  tot: 0h0m22s  (2.3%)\rEpoch: 11.8%  lr: 0.048839  loss: 0.096830  eta: 0h15m  tot: 0h0m23s  (2.4%)\rEpoch: 11.9%  lr: 0.048829  loss: 0.096858  eta: 0h15m  tot: 0h0m23s  (2.4%)\rEpoch: 12.0%  lr: 0.048809  loss: 0.096703  eta: 0h15m  tot: 0h0m23s  (2.4%)\rEpoch: 12.1%  lr: 0.048809  loss: 0.096280  eta: 0h15m  tot: 0h0m23s  (2.4%)\rEpoch: 12.2%  lr: 0.048789  loss: 0.096013  eta: 0h15m  tot: 0h0m23s  (2.4%)\rEpoch: 12.2%  lr: 0.048779  loss: 0.095865  eta: 0h15m  tot: 0h0m23s  (2.4%)\rEpoch: 12.3%  lr: 0.048779  loss: 0.095525  eta: 0h15m  tot: 0h0m24s  (2.5%)\rEpoch: 12.4%  lr: 0.048779  loss: 0.095189  eta: 0h15m  tot: 0h0m24s  (2.5%)\rEpoch: 12.5%  lr: 0.048779  loss: 0.095090  eta: 0h15m  tot: 0h0m24s  (2.5%)\rEpoch: 12.6%  lr: 0.048779  loss: 0.094760  eta: 0h15m  tot: 0h0m24s  (2.5%)\rEpoch: 12.7%  lr: 0.048759  loss: 0.094462  eta: 0h15m  tot: 0h0m24s  (2.5%)\rEpoch: 12.8%  lr: 0.048749  loss: 0.094239  eta: 0h15m  tot: 0h0m24s  (2.6%)\rEpoch: 12.9%  lr: 0.048749  loss: 0.093962  eta: 0h15m  tot: 0h0m25s  (2.6%)\rEpoch: 13.0%  lr: 0.048739  loss: 0.094063  eta: 0h15m  tot: 0h0m25s  (2.6%)\rEpoch: 13.1%  lr: 0.048709  loss: 0.093956  eta: 0h15m  tot: 0h0m25s  (2.6%)\rEpoch: 13.1%  lr: 0.048699  loss: 0.093742  eta: 0h15m  tot: 0h0m25s  (2.6%)\rEpoch: 13.2%  lr: 0.048689  loss: 0.093771  eta: 0h15m  tot: 0h0m25s  (2.6%)\rEpoch: 13.3%  lr: 0.048679  loss: 0.093494  eta: 0h15m  tot: 0h0m25s  (2.7%)\rEpoch: 13.4%  lr: 0.048679  loss: 0.093184  eta: 0h15m  tot: 0h0m26s  (2.7%)\rEpoch: 13.5%  lr: 0.048679  loss: 0.092806  eta: 0h15m  tot: 0h0m26s  (2.7%)\rEpoch: 13.6%  lr: 0.048669  loss: 0.092447  eta: 0h15m  tot: 0h0m26s  (2.7%)\rEpoch: 13.7%  lr: 0.048659  loss: 0.092244  eta: 0h15m  tot: 0h0m26s  (2.7%)\rEpoch: 13.8%  lr: 0.048659  loss: 0.091981  eta: 0h15m  tot: 0h0m26s  (2.8%)\rEpoch: 13.9%  lr: 0.048649  loss: 0.091678  eta: 0h15m  tot: 0h0m26s  (2.8%)\rEpoch: 14.0%  lr: 0.048639  loss: 0.091343  eta: 0h15m  tot: 0h0m27s  (2.8%)\rEpoch: 14.0%  lr: 0.048629  loss: 0.090983  eta: 0h15m  tot: 0h0m27s  (2.8%)\rEpoch: 14.1%  lr: 0.048619  loss: 0.090862  eta: 0h15m  tot: 0h0m27s  (2.8%)\rEpoch: 14.2%  lr: 0.048619  loss: 0.090588  eta: 0h15m  tot: 0h0m27s  (2.8%)\rEpoch: 14.3%  lr: 0.048599  loss: 0.090375  eta: 0h15m  tot: 0h0m27s  (2.9%)\rEpoch: 14.4%  lr: 0.048599  loss: 0.090226  eta: 0h15m  tot: 0h0m27s  (2.9%)\rEpoch: 14.5%  lr: 0.048599  loss: 0.090105  eta: 0h15m  tot: 0h0m28s  (2.9%)\rEpoch: 14.6%  lr: 0.048579  loss: 0.089978  eta: 0h15m  tot: 0h0m28s  (2.9%)\rEpoch: 14.7%  lr: 0.048579  loss: 0.089605  eta: 0h15m  tot: 0h0m28s  (2.9%)\rEpoch: 14.8%  lr: 0.048579  loss: 0.089256  eta: 0h15m  tot: 0h0m28s  (3.0%)\rEpoch: 14.9%  lr: 0.048559  loss: 0.089046  eta: 0h15m  tot: 0h0m28s  (3.0%)\rEpoch: 14.9%  lr: 0.048539  loss: 0.088837  eta: 0h15m  tot: 0h0m28s  (3.0%)\rEpoch: 15.0%  lr: 0.048529  loss: 0.088538  eta: 0h15m  tot: 0h0m29s  (3.0%)\rEpoch: 15.1%  lr: 0.048509  loss: 0.088245  eta: 0h15m  tot: 0h0m29s  (3.0%)\rEpoch: 15.2%  lr: 0.048499  loss: 0.088082  eta: 0h15m  tot: 0h0m29s  (3.0%)\rEpoch: 15.3%  lr: 0.048489  loss: 0.087858  eta: 0h15m  tot: 0h0m29s  (3.1%)\rEpoch: 15.4%  lr: 0.048468  loss: 0.087602  eta: 0h15m  tot: 0h0m29s  (3.1%)\rEpoch: 15.5%  lr: 0.048468  loss: 0.087271  eta: 0h15m  tot: 0h0m29s  (3.1%)\rEpoch: 15.6%  lr: 0.048458  loss: 0.087183  eta: 0h15m  tot: 0h0m30s  (3.1%)\rEpoch: 15.7%  lr: 0.048458  loss: 0.086938  eta: 0h15m  tot: 0h0m30s  (3.1%)\rEpoch: 15.8%  lr: 0.048458  loss: 0.086666  eta: 0h15m  tot: 0h0m30s  (3.2%)\rEpoch: 15.8%  lr: 0.048438  loss: 0.086343  eta: 0h15m  tot: 0h0m30s  (3.2%)\rEpoch: 15.9%  lr: 0.048438  loss: 0.086057  eta: 0h15m  tot: 0h0m30s  (3.2%)\rEpoch: 16.0%  lr: 0.048408  loss: 0.085950  eta: 0h15m  tot: 0h0m30s  (3.2%)\rEpoch: 16.1%  lr: 0.048388  loss: 0.085884  eta: 0h15m  tot: 0h0m31s  (3.2%)\rEpoch: 16.2%  lr: 0.048368  loss: 0.085649  eta: 0h15m  tot: 0h0m31s  (3.2%)\rEpoch: 16.3%  lr: 0.048338  loss: 0.085476  eta: 0h15m  tot: 0h0m31s  (3.3%)\rEpoch: 16.4%  lr: 0.048318  loss: 0.085490  eta: 0h15m  tot: 0h0m31s  (3.3%)\rEpoch: 16.5%  lr: 0.048298  loss: 0.085370  eta: 0h15m  tot: 0h0m31s  (3.3%)\rEpoch: 16.6%  lr: 0.048278  loss: 0.085241  eta: 0h15m  tot: 0h0m31s  (3.3%)\rEpoch: 16.7%  lr: 0.048268  loss: 0.085203  eta: 0h15m  tot: 0h0m32s  (3.3%)\rEpoch: 16.7%  lr: 0.048268  loss: 0.085005  eta: 0h15m  tot: 0h0m32s  (3.3%)\rEpoch: 16.8%  lr: 0.048258  loss: 0.084774  eta: 0h15m  tot: 0h0m32s  (3.4%)\rEpoch: 16.9%  lr: 0.048258  loss: 0.084545  eta: 0h15m  tot: 0h0m32s  (3.4%)\rEpoch: 17.0%  lr: 0.048258  loss: 0.084394  eta: 0h15m  tot: 0h0m32s  (3.4%)\rEpoch: 17.1%  lr: 0.048258  loss: 0.084195  eta: 0h15m  tot: 0h0m32s  (3.4%)\rEpoch: 17.2%  lr: 0.048248  loss: 0.083991  eta: 0h15m  tot: 0h0m32s  (3.4%)\rEpoch: 17.3%  lr: 0.048248  loss: 0.083802  eta: 0h15m  tot: 0h0m33s  (3.5%)\rEpoch: 17.4%  lr: 0.048248  loss: 0.083687  eta: 0h15m  tot: 0h0m33s  (3.5%)\rEpoch: 17.5%  lr: 0.048248  loss: 0.083549  eta: 0h15m  tot: 0h0m33s  (3.5%)\rEpoch: 17.6%  lr: 0.048228  loss: 0.083398  eta: 0h15m  tot: 0h0m33s  (3.5%)\rEpoch: 17.6%  lr: 0.048218  loss: 0.083272  eta: 0h15m  tot: 0h0m33s  (3.5%)\rEpoch: 17.7%  lr: 0.048198  loss: 0.083054  eta: 0h15m  tot: 0h0m34s  (3.5%)\rEpoch: 17.8%  lr: 0.048198  loss: 0.082801  eta: 0h15m  tot: 0h0m34s  (3.6%)\rEpoch: 17.9%  lr: 0.048158  loss: 0.082523  eta: 0h15m  tot: 0h0m34s  (3.6%)\rEpoch: 18.0%  lr: 0.048148  loss: 0.082387  eta: 0h15m  tot: 0h0m34s  (3.6%)\rEpoch: 18.1%  lr: 0.048148  loss: 0.082310  eta: 0h15m  tot: 0h0m34s  (3.6%)\rEpoch: 18.2%  lr: 0.048138  loss: 0.082074  eta: 0h15m  tot: 0h0m34s  (3.6%)\rEpoch: 18.3%  lr: 0.048118  loss: 0.081931  eta: 0h15m  tot: 0h0m35s  (3.7%)\rEpoch: 18.4%  lr: 0.048118  loss: 0.081727  eta: 0h15m  tot: 0h0m35s  (3.7%)\rEpoch: 18.5%  lr: 0.048118  loss: 0.081501  eta: 0h15m  tot: 0h0m35s  (3.7%)\rEpoch: 18.5%  lr: 0.048108  loss: 0.081405  eta: 0h15m  tot: 0h0m35s  (3.7%)\rEpoch: 18.6%  lr: 0.048088  loss: 0.081408  eta: 0h15m  tot: 0h0m35s  (3.7%)\rEpoch: 18.7%  lr: 0.048078  loss: 0.081177  eta: 0h15m  tot: 0h0m35s  (3.7%)\rEpoch: 18.8%  lr: 0.048068  loss: 0.081047  eta: 0h15m  tot: 0h0m35s  (3.8%)\rEpoch: 18.9%  lr: 0.048068  loss: 0.080972  eta: 0h15m  tot: 0h0m36s  (3.8%)\rEpoch: 19.0%  lr: 0.048068  loss: 0.080916  eta: 0h15m  tot: 0h0m36s  (3.8%)\rEpoch: 19.1%  lr: 0.048068  loss: 0.080884  eta: 0h15m  tot: 0h0m36s  (3.8%)\rEpoch: 19.2%  lr: 0.048058  loss: 0.080817  eta: 0h15m  tot: 0h0m36s  (3.8%)\rEpoch: 19.3%  lr: 0.048058  loss: 0.080730  eta: 0h15m  tot: 0h0m36s  (3.9%)\rEpoch: 19.4%  lr: 0.048048  loss: 0.080477  eta: 0h15m  tot: 0h0m36s  (3.9%)\rEpoch: 19.4%  lr: 0.048038  loss: 0.080386  eta: 0h15m  tot: 0h0m37s  (3.9%)\rEpoch: 19.5%  lr: 0.048038  loss: 0.080279  eta: 0h15m  tot: 0h0m37s  (3.9%)\rEpoch: 19.6%  lr: 0.048028  loss: 0.080171  eta: 0h15m  tot: 0h0m37s  (3.9%)\rEpoch: 19.7%  lr: 0.048028  loss: 0.080088  eta: 0h15m  tot: 0h0m37s  (3.9%)\rEpoch: 19.8%  lr: 0.048018  loss: 0.080054  eta: 0h15m  tot: 0h0m37s  (4.0%)\rEpoch: 19.9%  lr: 0.047998  loss: 0.079858  eta: 0h15m  tot: 0h0m37s  (4.0%)\rEpoch: 20.0%  lr: 0.047998  loss: 0.079676  eta: 0h15m  tot: 0h0m38s  (4.0%)\rEpoch: 20.1%  lr: 0.047998  loss: 0.079532  eta: 0h15m  tot: 0h0m38s  (4.0%)\rEpoch: 20.2%  lr: 0.047998  loss: 0.079454  eta: 0h15m  tot: 0h0m38s  (4.0%)\rEpoch: 20.3%  lr: 0.047978  loss: 0.079206  eta: 0h15m  tot: 0h0m38s  (4.1%)\rEpoch: 20.3%  lr: 0.047978  loss: 0.079083  eta: 0h15m  tot: 0h0m38s  (4.1%)\rEpoch: 20.4%  lr: 0.047968  loss: 0.078913  eta: 0h15m  tot: 0h0m38s  (4.1%)\rEpoch: 20.5%  lr: 0.047968  loss: 0.078802  eta: 0h15m  tot: 0h0m39s  (4.1%)\rEpoch: 20.6%  lr: 0.047958  loss: 0.078636  eta: 0h15m  tot: 0h0m39s  (4.1%)\rEpoch: 20.7%  lr: 0.047938  loss: 0.078570  eta: 0h15m  tot: 0h0m39s  (4.1%)\rEpoch: 20.8%  lr: 0.047938  loss: 0.078384  eta: 0h15m  tot: 0h0m39s  (4.2%)\rEpoch: 20.9%  lr: 0.047928  loss: 0.078171  eta: 0h15m  tot: 0h0m39s  (4.2%)\rEpoch: 21.0%  lr: 0.047928  loss: 0.078030  eta: 0h15m  tot: 0h0m39s  (4.2%)\rEpoch: 21.1%  lr: 0.047918  loss: 0.077913  eta: 0h15m  tot: 0h0m40s  (4.2%)\rEpoch: 21.2%  lr: 0.047918  loss: 0.077801  eta: 0h15m  tot: 0h0m40s  (4.2%)\rEpoch: 21.2%  lr: 0.047918  loss: 0.077820  eta: 0h15m  tot: 0h0m40s  (4.2%)\rEpoch: 21.3%  lr: 0.047918  loss: 0.077710  eta: 0h15m  tot: 0h0m40s  (4.3%)\rEpoch: 21.4%  lr: 0.047908  loss: 0.077545  eta: 0h15m  tot: 0h0m40s  (4.3%)\rEpoch: 21.5%  lr: 0.047898  loss: 0.077418  eta: 0h15m  tot: 0h0m40s  (4.3%)\rEpoch: 21.6%  lr: 0.047898  loss: 0.077365  eta: 0h15m  tot: 0h0m41s  (4.3%)\rEpoch: 21.7%  lr: 0.047858  loss: 0.077236  eta: 0h15m  tot: 0h0m41s  (4.3%)\rEpoch: 21.8%  lr: 0.047838  loss: 0.077219  eta: 0h15m  tot: 0h0m41s  (4.4%)\rEpoch: 21.9%  lr: 0.047828  loss: 0.077054  eta: 0h15m  tot: 0h0m41s  (4.4%)\rEpoch: 22.0%  lr: 0.047828  loss: 0.076920  eta: 0h15m  tot: 0h0m41s  (4.4%)\rEpoch: 22.1%  lr: 0.047818  loss: 0.076759  eta: 0h15m  tot: 0h0m41s  (4.4%)\rEpoch: 22.1%  lr: 0.047808  loss: 0.076488  eta: 0h15m  tot: 0h0m41s  (4.4%)\rEpoch: 22.2%  lr: 0.047808  loss: 0.076522  eta: 0h15m  tot: 0h0m42s  (4.4%)\rEpoch: 22.3%  lr: 0.047798  loss: 0.076377  eta: 0h15m  tot: 0h0m42s  (4.5%)\rEpoch: 22.4%  lr: 0.047788  loss: 0.076246  eta: 0h15m  tot: 0h0m42s  (4.5%)\rEpoch: 22.5%  lr: 0.047768  loss: 0.076118  eta: 0h15m  tot: 0h0m42s  (4.5%)\rEpoch: 22.6%  lr: 0.047768  loss: 0.076073  eta: 0h15m  tot: 0h0m42s  (4.5%)\rEpoch: 22.7%  lr: 0.047758  loss: 0.075907  eta: 0h15m  tot: 0h0m42s  (4.5%)\rEpoch: 22.8%  lr: 0.047738  loss: 0.075914  eta: 0h15m  tot: 0h0m43s  (4.6%)\rEpoch: 22.9%  lr: 0.047738  loss: 0.075970  eta: 0h15m  tot: 0h0m43s  (4.6%)\rEpoch: 23.0%  lr: 0.047738  loss: 0.075905  eta: 0h15m  tot: 0h0m43s  (4.6%)\rEpoch: 23.0%  lr: 0.047738  loss: 0.075727  eta: 0h15m  tot: 0h0m43s  (4.6%)\rEpoch: 23.1%  lr: 0.047738  loss: 0.075560  eta: 0h15m  tot: 0h0m43s  (4.6%)\rEpoch: 23.2%  lr: 0.047738  loss: 0.075413  eta: 0h15m  tot: 0h0m43s  (4.6%)\rEpoch: 23.3%  lr: 0.047738  loss: 0.075214  eta: 0h15m  tot: 0h0m44s  (4.7%)\rEpoch: 23.4%  lr: 0.047708  loss: 0.075180  eta: 0h15m  tot: 0h0m44s  (4.7%)\rEpoch: 23.5%  lr: 0.047668  loss: 0.075130  eta: 0h15m  tot: 0h0m44s  (4.7%)\rEpoch: 23.6%  lr: 0.047668  loss: 0.075032  eta: 0h15m  tot: 0h0m44s  (4.7%)\rEpoch: 23.7%  lr: 0.047658  loss: 0.074899  eta: 0h15m  tot: 0h0m44s  (4.7%)\rEpoch: 23.8%  lr: 0.047658  loss: 0.074726  eta: 0h15m  tot: 0h0m44s  (4.8%)\rEpoch: 23.9%  lr: 0.047638  loss: 0.074632  eta: 0h15m  tot: 0h0m45s  (4.8%)\rEpoch: 23.9%  lr: 0.047618  loss: 0.074438  eta: 0h14m  tot: 0h0m45s  (4.8%)\rEpoch: 24.0%  lr: 0.047618  loss: 0.074378  eta: 0h14m  tot: 0h0m45s  (4.8%)\rEpoch: 24.1%  lr: 0.047608  loss: 0.074263  eta: 0h14m  tot: 0h0m45s  (4.8%)\rEpoch: 24.2%  lr: 0.047588  loss: 0.074219  eta: 0h14m  tot: 0h0m45s  (4.8%)\rEpoch: 24.3%  lr: 0.047588  loss: 0.074152  eta: 0h14m  tot: 0h0m45s  (4.9%)\rEpoch: 24.4%  lr: 0.047578  loss: 0.074050  eta: 0h14m  tot: 0h0m46s  (4.9%)\rEpoch: 24.5%  lr: 0.047578  loss: 0.073939  eta: 0h14m  tot: 0h0m46s  (4.9%)\rEpoch: 24.6%  lr: 0.047568  loss: 0.073774  eta: 0h14m  tot: 0h0m46s  (4.9%)\rEpoch: 24.7%  lr: 0.047558  loss: 0.073730  eta: 0h14m  tot: 0h0m46s  (4.9%)\rEpoch: 24.8%  lr: 0.047558  loss: 0.073642  eta: 0h14m  tot: 0h0m46s  (5.0%)\rEpoch: 24.8%  lr: 0.047558  loss: 0.073559  eta: 0h14m  tot: 0h0m46s  (5.0%)\rEpoch: 24.9%  lr: 0.047538  loss: 0.073416  eta: 0h14m  tot: 0h0m47s  (5.0%)\rEpoch: 25.0%  lr: 0.047528  loss: 0.073306  eta: 0h14m  tot: 0h0m47s  (5.0%)\rEpoch: 25.1%  lr: 0.047508  loss: 0.073194  eta: 0h14m  tot: 0h0m47s  (5.0%)\rEpoch: 25.2%  lr: 0.047508  loss: 0.073144  eta: 0h14m  tot: 0h0m47s  (5.0%)\rEpoch: 25.3%  lr: 0.047508  loss: 0.073011  eta: 0h14m  tot: 0h0m47s  (5.1%)\rEpoch: 25.4%  lr: 0.047498  loss: 0.072834  eta: 0h14m  tot: 0h0m47s  (5.1%)\rEpoch: 25.5%  lr: 0.047478  loss: 0.072802  eta: 0h14m  tot: 0h0m48s  (5.1%)\rEpoch: 25.6%  lr: 0.047478  loss: 0.072639  eta: 0h14m  tot: 0h0m48s  (5.1%)\rEpoch: 25.7%  lr: 0.047468  loss: 0.072502  eta: 0h14m  tot: 0h0m48s  (5.1%)\rEpoch: 25.7%  lr: 0.047457  loss: 0.072428  eta: 0h14m  tot: 0h0m48s  (5.1%)\rEpoch: 25.8%  lr: 0.047457  loss: 0.072422  eta: 0h14m  tot: 0h0m48s  (5.2%)\rEpoch: 25.9%  lr: 0.047437  loss: 0.072290  eta: 0h14m  tot: 0h0m48s  (5.2%)\rEpoch: 26.0%  lr: 0.047427  loss: 0.072196  eta: 0h14m  tot: 0h0m49s  (5.2%)\rEpoch: 26.1%  lr: 0.047427  loss: 0.072151  eta: 0h14m  tot: 0h0m49s  (5.2%)\rEpoch: 26.2%  lr: 0.047427  loss: 0.072043  eta: 0h14m  tot: 0h0m49s  (5.2%)\rEpoch: 26.3%  lr: 0.047407  loss: 0.071887  eta: 0h14m  tot: 0h0m49s  (5.3%)\rEpoch: 26.4%  lr: 0.047407  loss: 0.071764  eta: 0h14m  tot: 0h0m49s  (5.3%)\rEpoch: 26.5%  lr: 0.047397  loss: 0.071671  eta: 0h14m  tot: 0h0m49s  (5.3%)\rEpoch: 26.6%  lr: 0.047387  loss: 0.071493  eta: 0h14m  tot: 0h0m50s  (5.3%)\rEpoch: 26.6%  lr: 0.047387  loss: 0.071355  eta: 0h14m  tot: 0h0m50s  (5.3%)\rEpoch: 26.7%  lr: 0.047387  loss: 0.071308  eta: 0h14m  tot: 0h0m50s  (5.3%)\rEpoch: 26.8%  lr: 0.047377  loss: 0.071191  eta: 0h14m  tot: 0h0m50s  (5.4%)\rEpoch: 26.9%  lr: 0.047377  loss: 0.071068  eta: 0h14m  tot: 0h0m50s  (5.4%)\rEpoch: 27.0%  lr: 0.047367  loss: 0.070984  eta: 0h14m  tot: 0h0m50s  (5.4%)\rEpoch: 27.1%  lr: 0.047357  loss: 0.070934  eta: 0h14m  tot: 0h0m51s  (5.4%)\rEpoch: 27.2%  lr: 0.047347  loss: 0.070780  eta: 0h14m  tot: 0h0m51s  (5.4%)\rEpoch: 27.3%  lr: 0.047347  loss: 0.070659  eta: 0h14m  tot: 0h0m51s  (5.5%)\rEpoch: 27.4%  lr: 0.047337  loss: 0.070553  eta: 0h14m  tot: 0h0m51s  (5.5%)\rEpoch: 27.5%  lr: 0.047327  loss: 0.070382  eta: 0h14m  tot: 0h0m51s  (5.5%)\rEpoch: 27.5%  lr: 0.047327  loss: 0.070331  eta: 0h14m  tot: 0h0m51s  (5.5%)\rEpoch: 27.6%  lr: 0.047327  loss: 0.070288  eta: 0h14m  tot: 0h0m52s  (5.5%)\rEpoch: 27.7%  lr: 0.047317  loss: 0.070200  eta: 0h14m  tot: 0h0m52s  (5.5%)\rEpoch: 27.8%  lr: 0.047307  loss: 0.070056  eta: 0h14m  tot: 0h0m52s  (5.6%)\rEpoch: 27.9%  lr: 0.047297  loss: 0.069952  eta: 0h14m  tot: 0h0m52s  (5.6%)\rEpoch: 28.0%  lr: 0.047287  loss: 0.069850  eta: 0h14m  tot: 0h0m52s  (5.6%)\rEpoch: 28.1%  lr: 0.047257  loss: 0.069825  eta: 0h14m  tot: 0h0m52s  (5.6%)\rEpoch: 28.2%  lr: 0.047247  loss: 0.069707  eta: 0h14m  tot: 0h0m52s  (5.6%)\rEpoch: 28.3%  lr: 0.047237  loss: 0.069636  eta: 0h14m  tot: 0h0m53s  (5.7%)\rEpoch: 28.4%  lr: 0.047227  loss: 0.069527  eta: 0h14m  tot: 0h0m53s  (5.7%)\rEpoch: 28.4%  lr: 0.047217  loss: 0.069541  eta: 0h14m  tot: 0h0m53s  (5.7%)\rEpoch: 28.5%  lr: 0.047217  loss: 0.069485  eta: 0h14m  tot: 0h0m53s  (5.7%)\rEpoch: 28.6%  lr: 0.047217  loss: 0.069437  eta: 0h14m  tot: 0h0m53s  (5.7%)\rEpoch: 28.7%  lr: 0.047187  loss: 0.069398  eta: 0h14m  tot: 0h0m53s  (5.7%)\rEpoch: 28.8%  lr: 0.047187  loss: 0.069317  eta: 0h14m  tot: 0h0m54s  (5.8%)\rEpoch: 28.9%  lr: 0.047187  loss: 0.069331  eta: 0h14m  tot: 0h0m54s  (5.8%)\rEpoch: 29.0%  lr: 0.047187  loss: 0.069230  eta: 0h14m  tot: 0h0m54s  (5.8%)\rEpoch: 29.1%  lr: 0.047187  loss: 0.069190  eta: 0h14m  tot: 0h0m54s  (5.8%)\rEpoch: 29.2%  lr: 0.047177  loss: 0.069046  eta: 0h14m  tot: 0h0m54s  (5.8%)\rEpoch: 29.3%  lr: 0.047177  loss: 0.068981  eta: 0h14m  tot: 0h0m54s  (5.9%)\rEpoch: 29.3%  lr: 0.047167  loss: 0.069041  eta: 0h14m  tot: 0h0m55s  (5.9%)\rEpoch: 29.4%  lr: 0.047167  loss: 0.068989  eta: 0h14m  tot: 0h0m55s  (5.9%)\rEpoch: 29.5%  lr: 0.047137  loss: 0.068927  eta: 0h14m  tot: 0h0m55s  (5.9%)\rEpoch: 29.6%  lr: 0.047137  loss: 0.068799  eta: 0h14m  tot: 0h0m55s  (5.9%)\rEpoch: 29.7%  lr: 0.047127  loss: 0.068783  eta: 0h14m  tot: 0h0m55s  (5.9%)\rEpoch: 29.8%  lr: 0.047117  loss: 0.068652  eta: 0h14m  tot: 0h0m55s  (6.0%)\rEpoch: 29.9%  lr: 0.047107  loss: 0.068600  eta: 0h14m  tot: 0h0m55s  (6.0%)\rEpoch: 30.0%  lr: 0.047107  loss: 0.068570  eta: 0h14m  tot: 0h0m56s  (6.0%)\rEpoch: 30.1%  lr: 0.047107  loss: 0.068498  eta: 0h14m  tot: 0h0m56s  (6.0%)\rEpoch: 30.2%  lr: 0.047107  loss: 0.068374  eta: 0h14m  tot: 0h0m56s  (6.0%)\rEpoch: 30.2%  lr: 0.047107  loss: 0.068319  eta: 0h14m  tot: 0h0m56s  (6.0%)\rEpoch: 30.3%  lr: 0.047097  loss: 0.068260  eta: 0h14m  tot: 0h0m56s  (6.1%)\rEpoch: 30.4%  lr: 0.047097  loss: 0.068251  eta: 0h14m  tot: 0h0m56s  (6.1%)\rEpoch: 30.5%  lr: 0.047087  loss: 0.068135  eta: 0h14m  tot: 0h0m57s  (6.1%)\rEpoch: 30.6%  lr: 0.047077  loss: 0.068073  eta: 0h14m  tot: 0h0m57s  (6.1%)\rEpoch: 30.7%  lr: 0.047077  loss: 0.068046  eta: 0h14m  tot: 0h0m57s  (6.1%)\rEpoch: 30.8%  lr: 0.047067  loss: 0.067993  eta: 0h14m  tot: 0h0m57s  (6.2%)\rEpoch: 30.9%  lr: 0.047067  loss: 0.067928  eta: 0h14m  tot: 0h0m57s  (6.2%)\rEpoch: 31.0%  lr: 0.047057  loss: 0.067820  eta: 0h14m  tot: 0h0m57s  (6.2%)\rEpoch: 31.1%  lr: 0.047057  loss: 0.067768  eta: 0h14m  tot: 0h0m58s  (6.2%)\rEpoch: 31.1%  lr: 0.047057  loss: 0.067670  eta: 0h14m  tot: 0h0m58s  (6.2%)\rEpoch: 31.2%  lr: 0.047037  loss: 0.067565  eta: 0h14m  tot: 0h0m58s  (6.2%)\rEpoch: 31.3%  lr: 0.047027  loss: 0.067470  eta: 0h14m  tot: 0h0m58s  (6.3%)\rEpoch: 31.4%  lr: 0.047017  loss: 0.067338  eta: 0h14m  tot: 0h0m58s  (6.3%)\rEpoch: 31.5%  lr: 0.047007  loss: 0.067311  eta: 0h14m  tot: 0h0m58s  (6.3%)\rEpoch: 31.6%  lr: 0.047007  loss: 0.067207  eta: 0h14m  tot: 0h0m59s  (6.3%)\rEpoch: 31.7%  lr: 0.047007  loss: 0.067174  eta: 0h14m  tot: 0h0m59s  (6.3%)\rEpoch: 31.8%  lr: 0.046997  loss: 0.067115  eta: 0h14m  tot: 0h0m59s  (6.4%)\rEpoch: 31.9%  lr: 0.046987  loss: 0.067051  eta: 0h14m  tot: 0h0m59s  (6.4%)\rEpoch: 32.0%  lr: 0.046987  loss: 0.066949  eta: 0h14m  tot: 0h0m59s  (6.4%)\rEpoch: 32.0%  lr: 0.046987  loss: 0.066880  eta: 0h14m  tot: 0h0m59s  (6.4%)\rEpoch: 32.1%  lr: 0.046977  loss: 0.066810  eta: 0h14m  tot: 0h1m0s  (6.4%)\rEpoch: 32.2%  lr: 0.046977  loss: 0.066734  eta: 0h14m  tot: 0h1m0s  (6.4%)\rEpoch: 32.3%  lr: 0.046957  loss: 0.066660  eta: 0h14m  tot: 0h1m0s  (6.5%)\rEpoch: 32.4%  lr: 0.046957  loss: 0.066599  eta: 0h14m  tot: 0h1m0s  (6.5%)\rEpoch: 32.5%  lr: 0.046957  loss: 0.066556  eta: 0h14m  tot: 0h1m0s  (6.5%)\rEpoch: 32.6%  lr: 0.046947  loss: 0.066556  eta: 0h14m  tot: 0h1m0s  (6.5%)\rEpoch: 32.7%  lr: 0.046947  loss: 0.066496  eta: 0h14m  tot: 0h1m1s  (6.5%)\rEpoch: 32.8%  lr: 0.046937  loss: 0.066406  eta: 0h14m  tot: 0h1m1s  (6.6%)\rEpoch: 32.9%  lr: 0.046937  loss: 0.066411  eta: 0h14m  tot: 0h1m1s  (6.6%)\rEpoch: 32.9%  lr: 0.046937  loss: 0.066282  eta: 0h14m  tot: 0h1m1s  (6.6%)\rEpoch: 33.0%  lr: 0.046937  loss: 0.066163  eta: 0h14m  tot: 0h1m1s  (6.6%)\rEpoch: 33.1%  lr: 0.046927  loss: 0.066091  eta: 0h14m  tot: 0h1m1s  (6.6%)\rEpoch: 33.2%  lr: 0.046927  loss: 0.066035  eta: 0h14m  tot: 0h1m1s  (6.6%)\rEpoch: 33.3%  lr: 0.046927  loss: 0.065975  eta: 0h14m  tot: 0h1m2s  (6.7%)\rEpoch: 33.4%  lr: 0.046917  loss: 0.065890  eta: 0h14m  tot: 0h1m2s  (6.7%)\rEpoch: 33.5%  lr: 0.046907  loss: 0.065790  eta: 0h14m  tot: 0h1m2s  (6.7%)\rEpoch: 33.6%  lr: 0.046907  loss: 0.065742  eta: 0h14m  tot: 0h1m2s  (6.7%)\rEpoch: 33.7%  lr: 0.046897  loss: 0.065637  eta: 0h14m  tot: 0h1m2s  (6.7%)\rEpoch: 33.8%  lr: 0.046887  loss: 0.065630  eta: 0h14m  tot: 0h1m2s  (6.8%)\rEpoch: 33.8%  lr: 0.046887  loss: 0.065615  eta: 0h14m  tot: 0h1m3s  (6.8%)\rEpoch: 33.9%  lr: 0.046877  loss: 0.065527  eta: 0h14m  tot: 0h1m3s  (6.8%)\rEpoch: 34.0%  lr: 0.046857  loss: 0.065475  eta: 0h14m  tot: 0h1m3s  (6.8%)\rEpoch: 34.1%  lr: 0.046857  loss: 0.065421  eta: 0h14m  tot: 0h1m3s  (6.8%)\rEpoch: 34.2%  lr: 0.046837  loss: 0.065346  eta: 0h14m  tot: 0h1m3s  (6.8%)\rEpoch: 34.3%  lr: 0.046817  loss: 0.065332  eta: 0h14m  tot: 0h1m3s  (6.9%)\rEpoch: 34.4%  lr: 0.046807  loss: 0.065285  eta: 0h14m  tot: 0h1m4s  (6.9%)\rEpoch: 34.5%  lr: 0.046797  loss: 0.065208  eta: 0h14m  tot: 0h1m4s  (6.9%)\rEpoch: 34.6%  lr: 0.046797  loss: 0.065166  eta: 0h14m  tot: 0h1m4s  (6.9%)\rEpoch: 34.7%  lr: 0.046787  loss: 0.065101  eta: 0h14m  tot: 0h1m4s  (6.9%)\rEpoch: 34.7%  lr: 0.046767  loss: 0.065040  eta: 0h14m  tot: 0h1m4s  (6.9%)\rEpoch: 34.8%  lr: 0.046757  loss: 0.064962  eta: 0h14m  tot: 0h1m4s  (7.0%)\rEpoch: 34.9%  lr: 0.046747  loss: 0.064867  eta: 0h14m  tot: 0h1m5s  (7.0%)\rEpoch: 35.0%  lr: 0.046737  loss: 0.064801  eta: 0h14m  tot: 0h1m5s  (7.0%)\rEpoch: 35.1%  lr: 0.046707  loss: 0.064784  eta: 0h14m  tot: 0h1m5s  (7.0%)\rEpoch: 35.2%  lr: 0.046707  loss: 0.064784  eta: 0h14m  tot: 0h1m5s  (7.0%)\rEpoch: 35.3%  lr: 0.046707  loss: 0.064727  eta: 0h14m  tot: 0h1m5s  (7.1%)\rEpoch: 35.4%  lr: 0.046707  loss: 0.064629  eta: 0h14m  tot: 0h1m5s  (7.1%)\rEpoch: 35.5%  lr: 0.046697  loss: 0.064595  eta: 0h14m  tot: 0h1m6s  (7.1%)\rEpoch: 35.6%  lr: 0.046647  loss: 0.064503  eta: 0h14m  tot: 0h1m6s  (7.1%)\rEpoch: 35.6%  lr: 0.046647  loss: 0.064402  eta: 0h14m  tot: 0h1m6s  (7.1%)\rEpoch: 35.7%  lr: 0.046627  loss: 0.064397  eta: 0h14m  tot: 0h1m6s  (7.1%)\rEpoch: 35.8%  lr: 0.046627  loss: 0.064314  eta: 0h14m  tot: 0h1m6s  (7.2%)\rEpoch: 35.9%  lr: 0.046627  loss: 0.064224  eta: 0h14m  tot: 0h1m6s  (7.2%)\rEpoch: 36.0%  lr: 0.046617  loss: 0.064168  eta: 0h14m  tot: 0h1m6s  (7.2%)\rEpoch: 36.1%  lr: 0.046617  loss: 0.064178  eta: 0h14m  tot: 0h1m7s  (7.2%)\rEpoch: 36.2%  lr: 0.046597  loss: 0.064117  eta: 0h14m  tot: 0h1m7s  (7.2%)\rEpoch: 36.3%  lr: 0.046567  loss: 0.064037  eta: 0h14m  tot: 0h1m7s  (7.3%)\rEpoch: 36.4%  lr: 0.046547  loss: 0.063967  eta: 0h14m  tot: 0h1m7s  (7.3%)\rEpoch: 36.5%  lr: 0.046547  loss: 0.063867  eta: 0h14m  tot: 0h1m7s  (7.3%)\rEpoch: 36.5%  lr: 0.046537  loss: 0.063762  eta: 0h14m  tot: 0h1m7s  (7.3%)\rEpoch: 36.6%  lr: 0.046537  loss: 0.063722  eta: 0h14m  tot: 0h1m8s  (7.3%)\rEpoch: 36.7%  lr: 0.046537  loss: 0.063654  eta: 0h14m  tot: 0h1m8s  (7.3%)\rEpoch: 36.8%  lr: 0.046517  loss: 0.063555  eta: 0h14m  tot: 0h1m8s  (7.4%)\rEpoch: 36.9%  lr: 0.046497  loss: 0.063516  eta: 0h14m  tot: 0h1m8s  (7.4%)\rEpoch: 37.0%  lr: 0.046497  loss: 0.063432  eta: 0h14m  tot: 0h1m8s  (7.4%)\rEpoch: 37.1%  lr: 0.046477  loss: 0.063343  eta: 0h14m  tot: 0h1m8s  (7.4%)\rEpoch: 37.2%  lr: 0.046467  loss: 0.063286  eta: 0h14m  tot: 0h1m9s  (7.4%)\rEpoch: 37.3%  lr: 0.046467  loss: 0.063210  eta: 0h14m  tot: 0h1m9s  (7.5%)\rEpoch: 37.4%  lr: 0.046457  loss: 0.063177  eta: 0h14m  tot: 0h1m9s  (7.5%)\rEpoch: 37.4%  lr: 0.046457  loss: 0.063129  eta: 0h14m  tot: 0h1m9s  (7.5%)\rEpoch: 37.5%  lr: 0.046457  loss: 0.063074  eta: 0h14m  tot: 0h1m9s  (7.5%)\rEpoch: 37.6%  lr: 0.046436  loss: 0.063025  eta: 0h14m  tot: 0h1m9s  (7.5%)\rEpoch: 37.7%  lr: 0.046436  loss: 0.062961  eta: 0h14m  tot: 0h1m10s  (7.5%)\rEpoch: 37.8%  lr: 0.046416  loss: 0.062912  eta: 0h14m  tot: 0h1m10s  (7.6%)\rEpoch: 37.9%  lr: 0.046406  loss: 0.062820  eta: 0h14m  tot: 0h1m10s  (7.6%)\rEpoch: 38.0%  lr: 0.046406  loss: 0.062744  eta: 0h14m  tot: 0h1m10s  (7.6%)\rEpoch: 38.1%  lr: 0.046396  loss: 0.062777  eta: 0h14m  tot: 0h1m10s  (7.6%)\rEpoch: 38.2%  lr: 0.046376  loss: 0.062720  eta: 0h14m  tot: 0h1m10s  (7.6%)\rEpoch: 38.3%  lr: 0.046356  loss: 0.062700  eta: 0h14m  tot: 0h1m10s  (7.7%)\rEpoch: 38.3%  lr: 0.046336  loss: 0.062716  eta: 0h14m  tot: 0h1m11s  (7.7%)\rEpoch: 38.4%  lr: 0.046306  loss: 0.062712  eta: 0h14m  tot: 0h1m11s  (7.7%)\rEpoch: 38.5%  lr: 0.046296  loss: 0.062613  eta: 0h14m  tot: 0h1m11s  (7.7%)\rEpoch: 38.6%  lr: 0.046296  loss: 0.062545  eta: 0h14m  tot: 0h1m11s  (7.7%)\rEpoch: 38.7%  lr: 0.046256  loss: 0.062552  eta: 0h14m  tot: 0h1m11s  (7.7%)\rEpoch: 38.8%  lr: 0.046246  loss: 0.062497  eta: 0h14m  tot: 0h1m11s  (7.8%)\rEpoch: 38.9%  lr: 0.046236  loss: 0.062497  eta: 0h14m  tot: 0h1m12s  (7.8%)\rEpoch: 39.0%  lr: 0.046236  loss: 0.062455  eta: 0h14m  tot: 0h1m12s  (7.8%)\rEpoch: 39.1%  lr: 0.046226  loss: 0.062362  eta: 0h14m  tot: 0h1m12s  (7.8%)\rEpoch: 39.2%  lr: 0.046226  loss: 0.062264  eta: 0h14m  tot: 0h1m12s  (7.8%)\rEpoch: 39.2%  lr: 0.046226  loss: 0.062225  eta: 0h14m  tot: 0h1m12s  (7.8%)\rEpoch: 39.3%  lr: 0.046206  loss: 0.062168  eta: 0h14m  tot: 0h1m12s  (7.9%)\rEpoch: 39.4%  lr: 0.046206  loss: 0.062150  eta: 0h14m  tot: 0h1m13s  (7.9%)\rEpoch: 39.5%  lr: 0.046206  loss: 0.062096  eta: 0h14m  tot: 0h1m13s  (7.9%)\rEpoch: 39.6%  lr: 0.046206  loss: 0.062086  eta: 0h14m  tot: 0h1m13s  (7.9%)\rEpoch: 39.7%  lr: 0.046206  loss: 0.062044  eta: 0h14m  tot: 0h1m13s  (7.9%)\rEpoch: 39.8%  lr: 0.046206  loss: 0.062046  eta: 0h14m  tot: 0h1m13s  (8.0%)\rEpoch: 39.9%  lr: 0.046196  loss: 0.061984  eta: 0h14m  tot: 0h1m13s  (8.0%)\rEpoch: 40.0%  lr: 0.046196  loss: 0.061929  eta: 0h14m  tot: 0h1m13s  (8.0%)\rEpoch: 40.1%  lr: 0.046196  loss: 0.061878  eta: 0h14m  tot: 0h1m14s  (8.0%)\rEpoch: 40.1%  lr: 0.046196  loss: 0.061817  eta: 0h14m  tot: 0h1m14s  (8.0%)\rEpoch: 40.2%  lr: 0.046186  loss: 0.061763  eta: 0h14m  tot: 0h1m14s  (8.0%)\rEpoch: 40.3%  lr: 0.046176  loss: 0.061660  eta: 0h14m  tot: 0h1m14s  (8.1%)\rEpoch: 40.4%  lr: 0.046166  loss: 0.061614  eta: 0h14m  tot: 0h1m14s  (8.1%)\rEpoch: 40.5%  lr: 0.046146  loss: 0.061606  eta: 0h14m  tot: 0h1m14s  (8.1%)\rEpoch: 40.6%  lr: 0.046136  loss: 0.061503  eta: 0h14m  tot: 0h1m15s  (8.1%)\rEpoch: 40.7%  lr: 0.046136  loss: 0.061478  eta: 0h14m  tot: 0h1m15s  (8.1%)\rEpoch: 40.8%  lr: 0.046126  loss: 0.061412  eta: 0h14m  tot: 0h1m15s  (8.2%)\rEpoch: 40.9%  lr: 0.046126  loss: 0.061346  eta: 0h14m  tot: 0h1m15s  (8.2%)\rEpoch: 41.0%  lr: 0.046106  loss: 0.061318  eta: 0h14m  tot: 0h1m15s  (8.2%)\rEpoch: 41.0%  lr: 0.046096  loss: 0.061277  eta: 0h14m  tot: 0h1m15s  (8.2%)\rEpoch: 41.1%  lr: 0.046076  loss: 0.061195  eta: 0h14m  tot: 0h1m16s  (8.2%)\rEpoch: 41.2%  lr: 0.046076  loss: 0.061150  eta: 0h14m  tot: 0h1m16s  (8.2%)\rEpoch: 41.3%  lr: 0.046076  loss: 0.061086  eta: 0h14m  tot: 0h1m16s  (8.3%)\rEpoch: 41.4%  lr: 0.046066  loss: 0.061043  eta: 0h14m  tot: 0h1m16s  (8.3%)\rEpoch: 41.5%  lr: 0.046056  loss: 0.060950  eta: 0h14m  tot: 0h1m16s  (8.3%)\rEpoch: 41.6%  lr: 0.046056  loss: 0.060874  eta: 0h14m  tot: 0h1m16s  (8.3%)\rEpoch: 41.7%  lr: 0.046036  loss: 0.060800  eta: 0h14m  tot: 0h1m16s  (8.3%)\rEpoch: 41.8%  lr: 0.046026  loss: 0.060755  eta: 0h14m  tot: 0h1m17s  (8.4%)\rEpoch: 41.9%  lr: 0.046026  loss: 0.060756  eta: 0h14m  tot: 0h1m17s  (8.4%)\rEpoch: 42.0%  lr: 0.046026  loss: 0.060721  eta: 0h14m  tot: 0h1m17s  (8.4%)\rEpoch: 42.0%  lr: 0.046026  loss: 0.060683  eta: 0h14m  tot: 0h1m17s  (8.4%)\rEpoch: 42.1%  lr: 0.045996  loss: 0.060606  eta: 0h14m  tot: 0h1m17s  (8.4%)\rEpoch: 42.2%  lr: 0.045976  loss: 0.060538  eta: 0h14m  tot: 0h1m17s  (8.4%)\rEpoch: 42.3%  lr: 0.045966  loss: 0.060512  eta: 0h14m  tot: 0h1m18s  (8.5%)\rEpoch: 42.4%  lr: 0.045956  loss: 0.060479  eta: 0h14m  tot: 0h1m18s  (8.5%)\rEpoch: 42.5%  lr: 0.045936  loss: 0.060457  eta: 0h14m  tot: 0h1m18s  (8.5%)\rEpoch: 42.6%  lr: 0.045926  loss: 0.060391  eta: 0h14m  tot: 0h1m18s  (8.5%)\rEpoch: 42.7%  lr: 0.045926  loss: 0.060315  eta: 0h14m  tot: 0h1m18s  (8.5%)\rEpoch: 42.8%  lr: 0.045906  loss: 0.060307  eta: 0h14m  tot: 0h1m18s  (8.6%)\rEpoch: 42.9%  lr: 0.045866  loss: 0.060263  eta: 0h14m  tot: 0h1m19s  (8.6%)\rEpoch: 42.9%  lr: 0.045856  loss: 0.060240  eta: 0h14m  tot: 0h1m19s  (8.6%)\rEpoch: 43.0%  lr: 0.045856  loss: 0.060255  eta: 0h14m  tot: 0h1m19s  (8.6%)\rEpoch: 43.1%  lr: 0.045856  loss: 0.060200  eta: 0h14m  tot: 0h1m19s  (8.6%)\rEpoch: 43.2%  lr: 0.045856  loss: 0.060216  eta: 0h14m  tot: 0h1m19s  (8.6%)\rEpoch: 43.3%  lr: 0.045856  loss: 0.060239  eta: 0h14m  tot: 0h1m19s  (8.7%)\rEpoch: 43.4%  lr: 0.045846  loss: 0.060209  eta: 0h14m  tot: 0h1m19s  (8.7%)\rEpoch: 43.5%  lr: 0.045846  loss: 0.060130  eta: 0h14m  tot: 0h1m20s  (8.7%)\rEpoch: 43.6%  lr: 0.045846  loss: 0.060070  eta: 0h14m  tot: 0h1m20s  (8.7%)\rEpoch: 43.7%  lr: 0.045836  loss: 0.060041  eta: 0h14m  tot: 0h1m20s  (8.7%)\rEpoch: 43.8%  lr: 0.045836  loss: 0.060028  eta: 0h14m  tot: 0h1m20s  (8.8%)\rEpoch: 43.8%  lr: 0.045826  loss: 0.059952  eta: 0h14m  tot: 0h1m20s  (8.8%)\rEpoch: 43.9%  lr: 0.045816  loss: 0.059901  eta: 0h13m  tot: 0h1m20s  (8.8%)\rEpoch: 44.0%  lr: 0.045816  loss: 0.059926  eta: 0h13m  tot: 0h1m21s  (8.8%)\rEpoch: 44.1%  lr: 0.045786  loss: 0.059908  eta: 0h13m  tot: 0h1m21s  (8.8%)\rEpoch: 44.2%  lr: 0.045766  loss: 0.059854  eta: 0h13m  tot: 0h1m21s  (8.8%)\rEpoch: 44.3%  lr: 0.045766  loss: 0.059815  eta: 0h13m  tot: 0h1m21s  (8.9%)\rEpoch: 44.4%  lr: 0.045766  loss: 0.059747  eta: 0h13m  tot: 0h1m21s  (8.9%)\rEpoch: 44.5%  lr: 0.045756  loss: 0.059721  eta: 0h13m  tot: 0h1m21s  (8.9%)\rEpoch: 44.6%  lr: 0.045746  loss: 0.059679  eta: 0h13m  tot: 0h1m22s  (8.9%)\rEpoch: 44.7%  lr: 0.045736  loss: 0.059633  eta: 0h13m  tot: 0h1m22s  (8.9%)\rEpoch: 44.7%  lr: 0.045706  loss: 0.059567  eta: 0h13m  tot: 0h1m22s  (8.9%)\rEpoch: 44.8%  lr: 0.045686  loss: 0.059531  eta: 0h13m  tot: 0h1m22s  (9.0%)\rEpoch: 44.9%  lr: 0.045676  loss: 0.059452  eta: 0h13m  tot: 0h1m22s  (9.0%)\rEpoch: 45.0%  lr: 0.045676  loss: 0.059379  eta: 0h13m  tot: 0h1m22s  (9.0%)\rEpoch: 45.1%  lr: 0.045676  loss: 0.059331  eta: 0h13m  tot: 0h1m22s  (9.0%)\rEpoch: 45.2%  lr: 0.045676  loss: 0.059316  eta: 0h13m  tot: 0h1m23s  (9.0%)\rEpoch: 45.3%  lr: 0.045666  loss: 0.059272  eta: 0h13m  tot: 0h1m23s  (9.1%)\rEpoch: 45.4%  lr: 0.045656  loss: 0.059207  eta: 0h13m  tot: 0h1m23s  (9.1%)\rEpoch: 45.5%  lr: 0.045646  loss: 0.059145  eta: 0h13m  tot: 0h1m23s  (9.1%)\rEpoch: 45.6%  lr: 0.045646  loss: 0.059108  eta: 0h13m  tot: 0h1m23s  (9.1%)\rEpoch: 45.6%  lr: 0.045636  loss: 0.059065  eta: 0h13m  tot: 0h1m23s  (9.1%)\rEpoch: 45.7%  lr: 0.045616  loss: 0.059020  eta: 0h13m  tot: 0h1m24s  (9.1%)\rEpoch: 45.8%  lr: 0.045606  loss: 0.058957  eta: 0h13m  tot: 0h1m24s  (9.2%)\rEpoch: 45.9%  lr: 0.045606  loss: 0.058930  eta: 0h13m  tot: 0h1m24s  (9.2%)\rEpoch: 46.0%  lr: 0.045606  loss: 0.058877  eta: 0h13m  tot: 0h1m24s  (9.2%)\rEpoch: 46.1%  lr: 0.045576  loss: 0.058833  eta: 0h13m  tot: 0h1m24s  (9.2%)\rEpoch: 46.2%  lr: 0.045576  loss: 0.058761  eta: 0h13m  tot: 0h1m24s  (9.2%)\rEpoch: 46.3%  lr: 0.045556  loss: 0.058708  eta: 0h13m  tot: 0h1m25s  (9.3%)\rEpoch: 46.4%  lr: 0.045556  loss: 0.058644  eta: 0h13m  tot: 0h1m25s  (9.3%)\rEpoch: 46.5%  lr: 0.045546  loss: 0.058644  eta: 0h13m  tot: 0h1m25s  (9.3%)\rEpoch: 46.5%  lr: 0.045516  loss: 0.058643  eta: 0h13m  tot: 0h1m25s  (9.3%)\rEpoch: 46.6%  lr: 0.045516  loss: 0.058602  eta: 0h13m  tot: 0h1m25s  (9.3%)\rEpoch: 46.7%  lr: 0.045506  loss: 0.058579  eta: 0h13m  tot: 0h1m25s  (9.3%)\rEpoch: 46.8%  lr: 0.045496  loss: 0.058538  eta: 0h13m  tot: 0h1m26s  (9.4%)\rEpoch: 46.9%  lr: 0.045496  loss: 0.058473  eta: 0h13m  tot: 0h1m26s  (9.4%)\rEpoch: 47.0%  lr: 0.045486  loss: 0.058447  eta: 0h13m  tot: 0h1m26s  (9.4%)\rEpoch: 47.1%  lr: 0.045486  loss: 0.058438  eta: 0h13m  tot: 0h1m26s  (9.4%)\rEpoch: 47.2%  lr: 0.045486  loss: 0.058423  eta: 0h13m  tot: 0h1m26s  (9.4%)\rEpoch: 47.3%  lr: 0.045476  loss: 0.058374  eta: 0h13m  tot: 0h1m26s  (9.5%)\rEpoch: 47.4%  lr: 0.045456  loss: 0.058300  eta: 0h13m  tot: 0h1m27s  (9.5%)\rEpoch: 47.4%  lr: 0.045446  loss: 0.058251  eta: 0h13m  tot: 0h1m27s  (9.5%)\rEpoch: 47.5%  lr: 0.045436  loss: 0.058248  eta: 0h13m  tot: 0h1m27s  (9.5%)\rEpoch: 47.6%  lr: 0.045425  loss: 0.058167  eta: 0h13m  tot: 0h1m27s  (9.5%)\rEpoch: 47.7%  lr: 0.045425  loss: 0.058144  eta: 0h13m  tot: 0h1m27s  (9.5%)\rEpoch: 47.8%  lr: 0.045425  loss: 0.058082  eta: 0h13m  tot: 0h1m27s  (9.6%)\rEpoch: 47.9%  lr: 0.045415  loss: 0.058032  eta: 0h13m  tot: 0h1m27s  (9.6%)\rEpoch: 48.0%  lr: 0.045395  loss: 0.057969  eta: 0h13m  tot: 0h1m28s  (9.6%)\rEpoch: 48.1%  lr: 0.045375  loss: 0.057928  eta: 0h13m  tot: 0h1m28s  (9.6%)\rEpoch: 48.2%  lr: 0.045345  loss: 0.057916  eta: 0h13m  tot: 0h1m28s  (9.6%)\rEpoch: 48.3%  lr: 0.045335  loss: 0.057896  eta: 0h13m  tot: 0h1m28s  (9.7%)\rEpoch: 48.3%  lr: 0.045315  loss: 0.057825  eta: 0h13m  tot: 0h1m28s  (9.7%)\rEpoch: 48.4%  lr: 0.045315  loss: 0.057756  eta: 0h13m  tot: 0h1m28s  (9.7%)\rEpoch: 48.5%  lr: 0.045285  loss: 0.057736  eta: 0h13m  tot: 0h1m29s  (9.7%)\rEpoch: 48.6%  lr: 0.045275  loss: 0.057722  eta: 0h13m  tot: 0h1m29s  (9.7%)\rEpoch: 48.7%  lr: 0.045255  loss: 0.057693  eta: 0h13m  tot: 0h1m29s  (9.7%)\rEpoch: 48.8%  lr: 0.045255  loss: 0.057668  eta: 0h13m  tot: 0h1m29s  (9.8%)\rEpoch: 48.9%  lr: 0.045245  loss: 0.057610  eta: 0h13m  tot: 0h1m29s  (9.8%)\rEpoch: 49.0%  lr: 0.045235  loss: 0.057545  eta: 0h13m  tot: 0h1m29s  (9.8%)\rEpoch: 49.1%  lr: 0.045235  loss: 0.057494  eta: 0h13m  tot: 0h1m30s  (9.8%)\rEpoch: 49.2%  lr: 0.045225  loss: 0.057444  eta: 0h13m  tot: 0h1m30s  (9.8%)\rEpoch: 49.2%  lr: 0.045225  loss: 0.057432  eta: 0h13m  tot: 0h1m30s  (9.8%)\rEpoch: 49.3%  lr: 0.045215  loss: 0.057376  eta: 0h13m  tot: 0h1m30s  (9.9%)\rEpoch: 49.4%  lr: 0.045215  loss: 0.057334  eta: 0h13m  tot: 0h1m30s  (9.9%)\rEpoch: 49.5%  lr: 0.045195  loss: 0.057275  eta: 0h13m  tot: 0h1m30s  (9.9%)\rEpoch: 49.6%  lr: 0.045165  loss: 0.057233  eta: 0h13m  tot: 0h1m30s  (9.9%)\rEpoch: 49.7%  lr: 0.045165  loss: 0.057210  eta: 0h13m  tot: 0h1m31s  (9.9%)\rEpoch: 49.8%  lr: 0.045165  loss: 0.057189  eta: 0h13m  tot: 0h1m31s  (10.0%)\rEpoch: 49.9%  lr: 0.045145  loss: 0.057167  eta: 0h13m  tot: 0h1m31s  (10.0%)\rEpoch: 50.0%  lr: 0.045145  loss: 0.057137  eta: 0h13m  tot: 0h1m31s  (10.0%)\rEpoch: 50.1%  lr: 0.045145  loss: 0.057101  eta: 0h13m  tot: 0h1m31s  (10.0%)\rEpoch: 50.1%  lr: 0.045125  loss: 0.057046  eta: 0h13m  tot: 0h1m31s  (10.0%)\rEpoch: 50.2%  lr: 0.045115  loss: 0.056999  eta: 0h13m  tot: 0h1m32s  (10.0%)\rEpoch: 50.3%  lr: 0.045115  loss: 0.056952  eta: 0h13m  tot: 0h1m32s  (10.1%)\rEpoch: 50.4%  lr: 0.045105  loss: 0.056882  eta: 0h13m  tot: 0h1m32s  (10.1%)\rEpoch: 50.5%  lr: 0.045085  loss: 0.056917  eta: 0h13m  tot: 0h1m32s  (10.1%)\rEpoch: 50.6%  lr: 0.045075  loss: 0.056912  eta: 0h13m  tot: 0h1m32s  (10.1%)\rEpoch: 50.7%  lr: 0.045065  loss: 0.056894  eta: 0h13m  tot: 0h1m32s  (10.1%)\rEpoch: 50.8%  lr: 0.045065  loss: 0.056851  eta: 0h13m  tot: 0h1m33s  (10.2%)\rEpoch: 50.9%  lr: 0.045055  loss: 0.056792  eta: 0h13m  tot: 0h1m33s  (10.2%)\rEpoch: 51.0%  lr: 0.045035  loss: 0.056742  eta: 0h13m  tot: 0h1m33s  (10.2%)\rEpoch: 51.0%  lr: 0.045035  loss: 0.056690  eta: 0h13m  tot: 0h1m33s  (10.2%)\rEpoch: 51.1%  lr: 0.045035  loss: 0.056677  eta: 0h13m  tot: 0h1m33s  (10.2%)\rEpoch: 51.2%  lr: 0.045035  loss: 0.056662  eta: 0h13m  tot: 0h1m33s  (10.2%)\rEpoch: 51.3%  lr: 0.045025  loss: 0.056589  eta: 0h13m  tot: 0h1m33s  (10.3%)\rEpoch: 51.4%  lr: 0.045015  loss: 0.056511  eta: 0h13m  tot: 0h1m34s  (10.3%)\rEpoch: 51.5%  lr: 0.045005  loss: 0.056463  eta: 0h13m  tot: 0h1m34s  (10.3%)\rEpoch: 51.6%  lr: 0.045005  loss: 0.056424  eta: 0h13m  tot: 0h1m34s  (10.3%)\rEpoch: 51.7%  lr: 0.045005  loss: 0.056415  eta: 0h13m  tot: 0h1m34s  (10.3%)\rEpoch: 51.8%  lr: 0.044995  loss: 0.056356  eta: 0h13m  tot: 0h1m34s  (10.4%)\rEpoch: 51.9%  lr: 0.044985  loss: 0.056342  eta: 0h13m  tot: 0h1m34s  (10.4%)\rEpoch: 51.9%  lr: 0.044975  loss: 0.056313  eta: 0h13m  tot: 0h1m35s  (10.4%)\rEpoch: 52.0%  lr: 0.044965  loss: 0.056244  eta: 0h13m  tot: 0h1m35s  (10.4%)\rEpoch: 52.1%  lr: 0.044955  loss: 0.056241  eta: 0h13m  tot: 0h1m35s  (10.4%)\rEpoch: 52.2%  lr: 0.044945  loss: 0.056210  eta: 0h13m  tot: 0h1m35s  (10.4%)\rEpoch: 52.3%  lr: 0.044935  loss: 0.056201  eta: 0h13m  tot: 0h1m35s  (10.5%)\rEpoch: 52.4%  lr: 0.044925  loss: 0.056166  eta: 0h13m  tot: 0h1m35s  (10.5%)\rEpoch: 52.5%  lr: 0.044925  loss: 0.056095  eta: 0h13m  tot: 0h1m36s  (10.5%)\rEpoch: 52.6%  lr: 0.044915  loss: 0.056076  eta: 0h13m  tot: 0h1m36s  (10.5%)\rEpoch: 52.7%  lr: 0.044895  loss: 0.056060  eta: 0h13m  tot: 0h1m36s  (10.5%)\rEpoch: 52.8%  lr: 0.044895  loss: 0.056036  eta: 0h13m  tot: 0h1m36s  (10.6%)\rEpoch: 52.8%  lr: 0.044895  loss: 0.055976  eta: 0h13m  tot: 0h1m36s  (10.6%)\rEpoch: 52.9%  lr: 0.044895  loss: 0.055964  eta: 0h13m  tot: 0h1m36s  (10.6%)\rEpoch: 53.0%  lr: 0.044885  loss: 0.055941  eta: 0h13m  tot: 0h1m37s  (10.6%)\rEpoch: 53.1%  lr: 0.044885  loss: 0.055890  eta: 0h13m  tot: 0h1m37s  (10.6%)\rEpoch: 53.2%  lr: 0.044875  loss: 0.055867  eta: 0h13m  tot: 0h1m37s  (10.6%)\rEpoch: 53.3%  lr: 0.044855  loss: 0.055860  eta: 0h13m  tot: 0h1m37s  (10.7%)\rEpoch: 53.4%  lr: 0.044825  loss: 0.055828  eta: 0h13m  tot: 0h1m37s  (10.7%)\rEpoch: 53.5%  lr: 0.044815  loss: 0.055794  eta: 0h13m  tot: 0h1m37s  (10.7%)\rEpoch: 53.6%  lr: 0.044815  loss: 0.055751  eta: 0h13m  tot: 0h1m38s  (10.7%)\rEpoch: 53.7%  lr: 0.044815  loss: 0.055693  eta: 0h13m  tot: 0h1m38s  (10.7%)\rEpoch: 53.7%  lr: 0.044795  loss: 0.055669  eta: 0h13m  tot: 0h1m38s  (10.7%)\rEpoch: 53.8%  lr: 0.044795  loss: 0.055608  eta: 0h13m  tot: 0h1m38s  (10.8%)\rEpoch: 53.9%  lr: 0.044795  loss: 0.055579  eta: 0h13m  tot: 0h1m38s  (10.8%)\rEpoch: 54.0%  lr: 0.044785  loss: 0.055530  eta: 0h13m  tot: 0h1m38s  (10.8%)\rEpoch: 54.1%  lr: 0.044775  loss: 0.055518  eta: 0h13m  tot: 0h1m38s  (10.8%)\rEpoch: 54.2%  lr: 0.044765  loss: 0.055505  eta: 0h13m  tot: 0h1m39s  (10.8%)\rEpoch: 54.3%  lr: 0.044755  loss: 0.055475  eta: 0h13m  tot: 0h1m39s  (10.9%)\rEpoch: 54.4%  lr: 0.044755  loss: 0.055400  eta: 0h13m  tot: 0h1m39s  (10.9%)\rEpoch: 54.5%  lr: 0.044735  loss: 0.055368  eta: 0h13m  tot: 0h1m39s  (10.9%)\rEpoch: 54.6%  lr: 0.044715  loss: 0.055320  eta: 0h13m  tot: 0h1m39s  (10.9%)\rEpoch: 54.6%  lr: 0.044715  loss: 0.055313  eta: 0h13m  tot: 0h1m39s  (10.9%)\rEpoch: 54.7%  lr: 0.044715  loss: 0.055274  eta: 0h13m  tot: 0h1m39s  (10.9%)\rEpoch: 54.8%  lr: 0.044715  loss: 0.055257  eta: 0h13m  tot: 0h1m40s  (11.0%)\rEpoch: 54.9%  lr: 0.044705  loss: 0.055247  eta: 0h13m  tot: 0h1m40s  (11.0%)\rEpoch: 55.0%  lr: 0.044695  loss: 0.055207  eta: 0h13m  tot: 0h1m40s  (11.0%)\rEpoch: 55.1%  lr: 0.044685  loss: 0.055174  eta: 0h13m  tot: 0h1m40s  (11.0%)\rEpoch: 55.2%  lr: 0.044675  loss: 0.055166  eta: 0h13m  tot: 0h1m40s  (11.0%)\rEpoch: 55.3%  lr: 0.044675  loss: 0.055143  eta: 0h13m  tot: 0h1m40s  (11.1%)\rEpoch: 55.4%  lr: 0.044675  loss: 0.055163  eta: 0h13m  tot: 0h1m41s  (11.1%)\rEpoch: 55.5%  lr: 0.044665  loss: 0.055120  eta: 0h13m  tot: 0h1m41s  (11.1%)\rEpoch: 55.5%  lr: 0.044645  loss: 0.055071  eta: 0h13m  tot: 0h1m41s  (11.1%)\rEpoch: 55.6%  lr: 0.044625  loss: 0.055060  eta: 0h13m  tot: 0h1m41s  (11.1%)\rEpoch: 55.7%  lr: 0.044615  loss: 0.055044  eta: 0h13m  tot: 0h1m41s  (11.1%)\rEpoch: 55.8%  lr: 0.044605  loss: 0.054996  eta: 0h13m  tot: 0h1m41s  (11.2%)\rEpoch: 55.9%  lr: 0.044605  loss: 0.054960  eta: 0h13m  tot: 0h1m41s  (11.2%)\rEpoch: 56.0%  lr: 0.044585  loss: 0.054904  eta: 0h13m  tot: 0h1m42s  (11.2%)\rEpoch: 56.1%  lr: 0.044575  loss: 0.054862  eta: 0h13m  tot: 0h1m42s  (11.2%)\rEpoch: 56.2%  lr: 0.044565  loss: 0.054884  eta: 0h13m  tot: 0h1m42s  (11.2%)\rEpoch: 56.3%  lr: 0.044555  loss: 0.054869  eta: 0h13m  tot: 0h1m42s  (11.3%)\rEpoch: 56.4%  lr: 0.044545  loss: 0.054870  eta: 0h13m  tot: 0h1m42s  (11.3%)\rEpoch: 56.4%  lr: 0.044535  loss: 0.054827  eta: 0h13m  tot: 0h1m42s  (11.3%)\rEpoch: 56.5%  lr: 0.044525  loss: 0.054781  eta: 0h13m  tot: 0h1m43s  (11.3%)\rEpoch: 56.6%  lr: 0.044525  loss: 0.054720  eta: 0h13m  tot: 0h1m43s  (11.3%)\rEpoch: 56.7%  lr: 0.044525  loss: 0.054689  eta: 0h13m  tot: 0h1m43s  (11.3%)\rEpoch: 56.8%  lr: 0.044515  loss: 0.054632  eta: 0h13m  tot: 0h1m43s  (11.4%)\rEpoch: 56.9%  lr: 0.044515  loss: 0.054623  eta: 0h13m  tot: 0h1m43s  (11.4%)\rEpoch: 57.0%  lr: 0.044505  loss: 0.054605  eta: 0h13m  tot: 0h1m43s  (11.4%)\rEpoch: 57.1%  lr: 0.044495  loss: 0.054600  eta: 0h13m  tot: 0h1m44s  (11.4%)\rEpoch: 57.2%  lr: 0.044495  loss: 0.054588  eta: 0h13m  tot: 0h1m44s  (11.4%)\rEpoch: 57.3%  lr: 0.044495  loss: 0.054568  eta: 0h13m  tot: 0h1m44s  (11.5%)\rEpoch: 57.3%  lr: 0.044485  loss: 0.054523  eta: 0h13m  tot: 0h1m44s  (11.5%)\rEpoch: 57.4%  lr: 0.044465  loss: 0.054473  eta: 0h13m  tot: 0h1m44s  (11.5%)\rEpoch: 57.5%  lr: 0.044465  loss: 0.054481  eta: 0h13m  tot: 0h1m44s  (11.5%)\rEpoch: 57.6%  lr: 0.044455  loss: 0.054434  eta: 0h13m  tot: 0h1m45s  (11.5%)\rEpoch: 57.7%  lr: 0.044455  loss: 0.054382  eta: 0h13m  tot: 0h1m45s  (11.5%)\rEpoch: 57.8%  lr: 0.044455  loss: 0.054358  eta: 0h13m  tot: 0h1m45s  (11.6%)\rEpoch: 57.9%  lr: 0.044445  loss: 0.054346  eta: 0h13m  tot: 0h1m45s  (11.6%)\rEpoch: 58.0%  lr: 0.044425  loss: 0.054296  eta: 0h13m  tot: 0h1m45s  (11.6%)\rEpoch: 58.1%  lr: 0.044404  loss: 0.054254  eta: 0h13m  tot: 0h1m45s  (11.6%)\rEpoch: 58.2%  lr: 0.044394  loss: 0.054221  eta: 0h13m  tot: 0h1m45s  (11.6%)\rEpoch: 58.2%  lr: 0.044394  loss: 0.054204  eta: 0h13m  tot: 0h1m46s  (11.6%)\rEpoch: 58.3%  lr: 0.044384  loss: 0.054176  eta: 0h13m  tot: 0h1m46s  (11.7%)\rEpoch: 58.4%  lr: 0.044374  loss: 0.054144  eta: 0h13m  tot: 0h1m46s  (11.7%)\rEpoch: 58.5%  lr: 0.044354  loss: 0.054098  eta: 0h13m  tot: 0h1m46s  (11.7%)\rEpoch: 58.6%  lr: 0.044354  loss: 0.054040  eta: 0h13m  tot: 0h1m46s  (11.7%)\rEpoch: 58.7%  lr: 0.044344  loss: 0.054003  eta: 0h13m  tot: 0h1m46s  (11.7%)\rEpoch: 58.8%  lr: 0.044324  loss: 0.053961  eta: 0h13m  tot: 0h1m47s  (11.8%)\rEpoch: 58.9%  lr: 0.044314  loss: 0.053909  eta: 0h13m  tot: 0h1m47s  (11.8%)\rEpoch: 59.0%  lr: 0.044294  loss: 0.053871  eta: 0h13m  tot: 0h1m47s  (11.8%)\rEpoch: 59.1%  lr: 0.044264  loss: 0.053818  eta: 0h13m  tot: 0h1m47s  (11.8%)\rEpoch: 59.1%  lr: 0.044264  loss: 0.053804  eta: 0h13m  tot: 0h1m47s  (11.8%)\rEpoch: 59.2%  lr: 0.044254  loss: 0.053760  eta: 0h13m  tot: 0h1m47s  (11.8%)\rEpoch: 59.3%  lr: 0.044244  loss: 0.053728  eta: 0h13m  tot: 0h1m47s  (11.9%)\rEpoch: 59.4%  lr: 0.044214  loss: 0.053722  eta: 0h13m  tot: 0h1m48s  (11.9%)\rEpoch: 59.5%  lr: 0.044214  loss: 0.053682  eta: 0h13m  tot: 0h1m48s  (11.9%)\rEpoch: 59.6%  lr: 0.044214  loss: 0.053654  eta: 0h13m  tot: 0h1m48s  (11.9%)\rEpoch: 59.7%  lr: 0.044204  loss: 0.053641  eta: 0h13m  tot: 0h1m48s  (11.9%)\rEpoch: 59.8%  lr: 0.044194  loss: 0.053601  eta: 0h13m  tot: 0h1m48s  (12.0%)\rEpoch: 59.9%  lr: 0.044184  loss: 0.053563  eta: 0h13m  tot: 0h1m48s  (12.0%)\rEpoch: 60.0%  lr: 0.044164  loss: 0.053501  eta: 0h13m  tot: 0h1m49s  (12.0%)\rEpoch: 60.0%  lr: 0.044164  loss: 0.053510  eta: 0h13m  tot: 0h1m49s  (12.0%)\rEpoch: 60.1%  lr: 0.044164  loss: 0.053453  eta: 0h13m  tot: 0h1m49s  (12.0%)\rEpoch: 60.2%  lr: 0.044154  loss: 0.053431  eta: 0h13m  tot: 0h1m49s  (12.0%)\rEpoch: 60.3%  lr: 0.044134  loss: 0.053400  eta: 0h13m  tot: 0h1m49s  (12.1%)\rEpoch: 60.4%  lr: 0.044124  loss: 0.053359  eta: 0h13m  tot: 0h1m49s  (12.1%)\rEpoch: 60.5%  lr: 0.044124  loss: 0.053303  eta: 0h13m  tot: 0h1m50s  (12.1%)\rEpoch: 60.6%  lr: 0.044104  loss: 0.053256  eta: 0h13m  tot: 0h1m50s  (12.1%)\rEpoch: 60.7%  lr: 0.044094  loss: 0.053218  eta: 0h13m  tot: 0h1m50s  (12.1%)\rEpoch: 60.8%  lr: 0.044094  loss: 0.053174  eta: 0h13m  tot: 0h1m50s  (12.2%)\rEpoch: 60.9%  lr: 0.044094  loss: 0.053140  eta: 0h13m  tot: 0h1m50s  (12.2%)\rEpoch: 60.9%  lr: 0.044084  loss: 0.053091  eta: 0h13m  tot: 0h1m50s  (12.2%)\rEpoch: 61.0%  lr: 0.044084  loss: 0.053072  eta: 0h13m  tot: 0h1m50s  (12.2%)\rEpoch: 61.1%  lr: 0.044054  loss: 0.053047  eta: 0h13m  tot: 0h1m51s  (12.2%)\rEpoch: 61.2%  lr: 0.044054  loss: 0.053026  eta: 0h13m  tot: 0h1m51s  (12.2%)\rEpoch: 61.3%  lr: 0.044044  loss: 0.052972  eta: 0h13m  tot: 0h1m51s  (12.3%)\rEpoch: 61.4%  lr: 0.044044  loss: 0.052966  eta: 0h13m  tot: 0h1m51s  (12.3%)\rEpoch: 61.5%  lr: 0.044014  loss: 0.052921  eta: 0h13m  tot: 0h1m51s  (12.3%)\rEpoch: 61.6%  lr: 0.044004  loss: 0.052913  eta: 0h13m  tot: 0h1m51s  (12.3%)\rEpoch: 61.7%  lr: 0.043984  loss: 0.052872  eta: 0h13m  tot: 0h1m52s  (12.3%)\rEpoch: 61.8%  lr: 0.043934  loss: 0.052839  eta: 0h13m  tot: 0h1m52s  (12.4%)\rEpoch: 61.8%  lr: 0.043934  loss: 0.052850  eta: 0h13m  tot: 0h1m52s  (12.4%)\rEpoch: 61.9%  lr: 0.043924  loss: 0.052829  eta: 0h13m  tot: 0h1m52s  (12.4%)\rEpoch: 62.0%  lr: 0.043914  loss: 0.052797  eta: 0h13m  tot: 0h1m52s  (12.4%)\rEpoch: 62.1%  lr: 0.043914  loss: 0.052774  eta: 0h13m  tot: 0h1m52s  (12.4%)\rEpoch: 62.2%  lr: 0.043894  loss: 0.052744  eta: 0h13m  tot: 0h1m53s  (12.4%)\rEpoch: 62.3%  lr: 0.043884  loss: 0.052734  eta: 0h13m  tot: 0h1m53s  (12.5%)\rEpoch: 62.4%  lr: 0.043864  loss: 0.052681  eta: 0h13m  tot: 0h1m53s  (12.5%)\rEpoch: 62.5%  lr: 0.043854  loss: 0.052650  eta: 0h13m  tot: 0h1m53s  (12.5%)\rEpoch: 62.6%  lr: 0.043854  loss: 0.052591  eta: 0h13m  tot: 0h1m53s  (12.5%)\rEpoch: 62.7%  lr: 0.043844  loss: 0.052554  eta: 0h13m  tot: 0h1m53s  (12.5%)\rEpoch: 62.7%  lr: 0.043824  loss: 0.052538  eta: 0h13m  tot: 0h1m53s  (12.5%)\rEpoch: 62.8%  lr: 0.043824  loss: 0.052499  eta: 0h13m  tot: 0h1m54s  (12.6%)\rEpoch: 62.9%  lr: 0.043824  loss: 0.052469  eta: 0h13m  tot: 0h1m54s  (12.6%)\rEpoch: 63.0%  lr: 0.043824  loss: 0.052434  eta: 0h13m  tot: 0h1m54s  (12.6%)\rEpoch: 63.1%  lr: 0.043804  loss: 0.052397  eta: 0h13m  tot: 0h1m54s  (12.6%)\rEpoch: 63.2%  lr: 0.043774  loss: 0.052351  eta: 0h13m  tot: 0h1m54s  (12.6%)\rEpoch: 63.3%  lr: 0.043764  loss: 0.052309  eta: 0h13m  tot: 0h1m54s  (12.7%)\rEpoch: 63.4%  lr: 0.043734  loss: 0.052278  eta: 0h13m  tot: 0h1m55s  (12.7%)\rEpoch: 63.5%  lr: 0.043704  loss: 0.052240  eta: 0h13m  tot: 0h1m55s  (12.7%)\rEpoch: 63.6%  lr: 0.043704  loss: 0.052194  eta: 0h13m  tot: 0h1m55s  (12.7%)\rEpoch: 63.6%  lr: 0.043694  loss: 0.052164  eta: 0h13m  tot: 0h1m55s  (12.7%)\rEpoch: 63.7%  lr: 0.043684  loss: 0.052144  eta: 0h13m  tot: 0h1m55s  (12.7%)\rEpoch: 63.8%  lr: 0.043684  loss: 0.052128  eta: 0h13m  tot: 0h1m55s  (12.8%)\rEpoch: 63.9%  lr: 0.043684  loss: 0.052084  eta: 0h13m  tot: 0h1m56s  (12.8%)\rEpoch: 64.0%  lr: 0.043684  loss: 0.052047  eta: 0h13m  tot: 0h1m56s  (12.8%)\rEpoch: 64.1%  lr: 0.043684  loss: 0.052003  eta: 0h13m  tot: 0h1m56s  (12.8%)\rEpoch: 64.2%  lr: 0.043684  loss: 0.051980  eta: 0h13m  tot: 0h1m56s  (12.8%)\rEpoch: 64.3%  lr: 0.043684  loss: 0.051951  eta: 0h13m  tot: 0h1m56s  (12.9%)\rEpoch: 64.4%  lr: 0.043674  loss: 0.051901  eta: 0h13m  tot: 0h1m56s  (12.9%)\rEpoch: 64.5%  lr: 0.043644  loss: 0.051884  eta: 0h13m  tot: 0h1m57s  (12.9%)\rEpoch: 64.5%  lr: 0.043634  loss: 0.051875  eta: 0h13m  tot: 0h1m57s  (12.9%)\rEpoch: 64.6%  lr: 0.043634  loss: 0.051856  eta: 0h13m  tot: 0h1m57s  (12.9%)\rEpoch: 64.7%  lr: 0.043624  loss: 0.051809  eta: 0h13m  tot: 0h1m57s  (12.9%)\rEpoch: 64.8%  lr: 0.043604  loss: 0.051776  eta: 0h13m  tot: 0h1m57s  (13.0%)\rEpoch: 64.9%  lr: 0.043604  loss: 0.051737  eta: 0h13m  tot: 0h1m57s  (13.0%)\rEpoch: 65.0%  lr: 0.043604  loss: 0.051678  eta: 0h13m  tot: 0h1m57s  (13.0%)\rEpoch: 65.1%  lr: 0.043604  loss: 0.051652  eta: 0h13m  tot: 0h1m58s  (13.0%)\rEpoch: 65.2%  lr: 0.043574  loss: 0.051618  eta: 0h13m  tot: 0h1m58s  (13.0%)\rEpoch: 65.3%  lr: 0.043554  loss: 0.051588  eta: 0h13m  tot: 0h1m58s  (13.1%)\rEpoch: 65.4%  lr: 0.043554  loss: 0.051567  eta: 0h13m  tot: 0h1m58s  (13.1%)\rEpoch: 65.4%  lr: 0.043544  loss: 0.051576  eta: 0h13m  tot: 0h1m58s  (13.1%)\rEpoch: 65.5%  lr: 0.043534  loss: 0.051584  eta: 0h13m  tot: 0h1m58s  (13.1%)\rEpoch: 65.6%  lr: 0.043514  loss: 0.051554  eta: 0h13m  tot: 0h1m59s  (13.1%)\rEpoch: 65.7%  lr: 0.043514  loss: 0.051543  eta: 0h13m  tot: 0h1m59s  (13.1%)\rEpoch: 65.8%  lr: 0.043514  loss: 0.051522  eta: 0h13m  tot: 0h1m59s  (13.2%)\rEpoch: 65.9%  lr: 0.043514  loss: 0.051491  eta: 0h13m  tot: 0h1m59s  (13.2%)\rEpoch: 66.0%  lr: 0.043494  loss: 0.051477  eta: 0h13m  tot: 0h1m59s  (13.2%)\rEpoch: 66.1%  lr: 0.043474  loss: 0.051429  eta: 0h13m  tot: 0h1m59s  (13.2%)\rEpoch: 66.2%  lr: 0.043464  loss: 0.051394  eta: 0h13m  tot: 0h1m59s  (13.2%)\rEpoch: 66.3%  lr: 0.043464  loss: 0.051357  eta: 0h13m  tot: 0h2m0s  (13.3%)\rEpoch: 66.3%  lr: 0.043464  loss: 0.051328  eta: 0h13m  tot: 0h2m0s  (13.3%)\rEpoch: 66.4%  lr: 0.043464  loss: 0.051326  eta: 0h13m  tot: 0h2m0s  (13.3%)\rEpoch: 66.5%  lr: 0.043454  loss: 0.051295  eta: 0h13m  tot: 0h2m0s  (13.3%)\rEpoch: 66.6%  lr: 0.043434  loss: 0.051277  eta: 0h13m  tot: 0h2m0s  (13.3%)\rEpoch: 66.7%  lr: 0.043393  loss: 0.051247  eta: 0h13m  tot: 0h2m0s  (13.3%)\rEpoch: 66.8%  lr: 0.043363  loss: 0.051222  eta: 0h13m  tot: 0h2m1s  (13.4%)\rEpoch: 66.9%  lr: 0.043363  loss: 0.051203  eta: 0h13m  tot: 0h2m1s  (13.4%)\rEpoch: 67.0%  lr: 0.043363  loss: 0.051148  eta: 0h13m  tot: 0h2m1s  (13.4%)\rEpoch: 67.1%  lr: 0.043363  loss: 0.051104  eta: 0h13m  tot: 0h2m1s  (13.4%)\rEpoch: 67.2%  lr: 0.043353  loss: 0.051087  eta: 0h13m  tot: 0h2m1s  (13.4%)\rEpoch: 67.2%  lr: 0.043333  loss: 0.051046  eta: 0h13m  tot: 0h2m1s  (13.4%)\rEpoch: 67.3%  lr: 0.043333  loss: 0.051005  eta: 0h13m  tot: 0h2m2s  (13.5%)\rEpoch: 67.4%  lr: 0.043323  loss: 0.050969  eta: 0h13m  tot: 0h2m2s  (13.5%)\rEpoch: 67.5%  lr: 0.043323  loss: 0.050930  eta: 0h13m  tot: 0h2m2s  (13.5%)\rEpoch: 67.6%  lr: 0.043323  loss: 0.050902  eta: 0h13m  tot: 0h2m2s  (13.5%)\rEpoch: 67.7%  lr: 0.043293  loss: 0.050854  eta: 0h13m  tot: 0h2m2s  (13.5%)\rEpoch: 67.8%  lr: 0.043283  loss: 0.050828  eta: 0h13m  tot: 0h2m2s  (13.6%)\rEpoch: 67.9%  lr: 0.043273  loss: 0.050832  eta: 0h13m  tot: 0h2m3s  (13.6%)\rEpoch: 68.0%  lr: 0.043243  loss: 0.050844  eta: 0h13m  tot: 0h2m3s  (13.6%)\rEpoch: 68.1%  lr: 0.043233  loss: 0.050823  eta: 0h13m  tot: 0h2m3s  (13.6%)\rEpoch: 68.1%  lr: 0.043223  loss: 0.050784  eta: 0h13m  tot: 0h2m3s  (13.6%)\rEpoch: 68.2%  lr: 0.043223  loss: 0.050775  eta: 0h13m  tot: 0h2m3s  (13.6%)\rEpoch: 68.3%  lr: 0.043203  loss: 0.050743  eta: 0h13m  tot: 0h2m3s  (13.7%)\rEpoch: 68.4%  lr: 0.043193  loss: 0.050720  eta: 0h13m  tot: 0h2m3s  (13.7%)\rEpoch: 68.5%  lr: 0.043193  loss: 0.050696  eta: 0h13m  tot: 0h2m4s  (13.7%)\rEpoch: 68.6%  lr: 0.043193  loss: 0.050688  eta: 0h13m  tot: 0h2m4s  (13.7%)\rEpoch: 68.7%  lr: 0.043183  loss: 0.050640  eta: 0h13m  tot: 0h2m4s  (13.7%)\rEpoch: 68.8%  lr: 0.043173  loss: 0.050617  eta: 0h13m  tot: 0h2m4s  (13.8%)\rEpoch: 68.9%  lr: 0.043153  loss: 0.050576  eta: 0h13m  tot: 0h2m4s  (13.8%)\rEpoch: 69.0%  lr: 0.043143  loss: 0.050540  eta: 0h13m  tot: 0h2m4s  (13.8%)\rEpoch: 69.0%  lr: 0.043133  loss: 0.050512  eta: 0h13m  tot: 0h2m5s  (13.8%)\rEpoch: 69.1%  lr: 0.043133  loss: 0.050492  eta: 0h13m  tot: 0h2m5s  (13.8%)\rEpoch: 69.2%  lr: 0.043123  loss: 0.050461  eta: 0h13m  tot: 0h2m5s  (13.8%)\rEpoch: 69.3%  lr: 0.043113  loss: 0.050426  eta: 0h12m  tot: 0h2m5s  (13.9%)\rEpoch: 69.4%  lr: 0.043113  loss: 0.050384  eta: 0h12m  tot: 0h2m5s  (13.9%)\rEpoch: 69.5%  lr: 0.043103  loss: 0.050347  eta: 0h12m  tot: 0h2m5s  (13.9%)\rEpoch: 69.6%  lr: 0.043103  loss: 0.050316  eta: 0h12m  tot: 0h2m6s  (13.9%)\rEpoch: 69.7%  lr: 0.043103  loss: 0.050315  eta: 0h12m  tot: 0h2m6s  (13.9%)\rEpoch: 69.8%  lr: 0.043103  loss: 0.050288  eta: 0h12m  tot: 0h2m6s  (14.0%)\rEpoch: 69.9%  lr: 0.043103  loss: 0.050255  eta: 0h12m  tot: 0h2m6s  (14.0%)\rEpoch: 69.9%  lr: 0.043093  loss: 0.050246  eta: 0h12m  tot: 0h2m6s  (14.0%)\rEpoch: 70.0%  lr: 0.043073  loss: 0.050212  eta: 0h12m  tot: 0h2m6s  (14.0%)\rEpoch: 70.1%  lr: 0.043063  loss: 0.050195  eta: 0h12m  tot: 0h2m6s  (14.0%)\rEpoch: 70.2%  lr: 0.043053  loss: 0.050182  eta: 0h12m  tot: 0h2m7s  (14.0%)\rEpoch: 70.3%  lr: 0.043043  loss: 0.050160  eta: 0h12m  tot: 0h2m7s  (14.1%)\rEpoch: 70.4%  lr: 0.043043  loss: 0.050146  eta: 0h12m  tot: 0h2m7s  (14.1%)\rEpoch: 70.5%  lr: 0.043043  loss: 0.050126  eta: 0h12m  tot: 0h2m7s  (14.1%)\rEpoch: 70.6%  lr: 0.043033  loss: 0.050099  eta: 0h12m  tot: 0h2m7s  (14.1%)\rEpoch: 70.7%  lr: 0.043013  loss: 0.050062  eta: 0h12m  tot: 0h2m7s  (14.1%)\rEpoch: 70.8%  lr: 0.043013  loss: 0.050036  eta: 0h12m  tot: 0h2m8s  (14.2%)\rEpoch: 70.8%  lr: 0.042993  loss: 0.049993  eta: 0h12m  tot: 0h2m8s  (14.2%)\rEpoch: 70.9%  lr: 0.042993  loss: 0.049959  eta: 0h12m  tot: 0h2m8s  (14.2%)\rEpoch: 71.0%  lr: 0.042983  loss: 0.049925  eta: 0h12m  tot: 0h2m8s  (14.2%)\rEpoch: 71.1%  lr: 0.042973  loss: 0.049889  eta: 0h12m  tot: 0h2m8s  (14.2%)\rEpoch: 71.2%  lr: 0.042973  loss: 0.049887  eta: 0h12m  tot: 0h2m8s  (14.2%)\rEpoch: 71.3%  lr: 0.042973  loss: 0.049863  eta: 0h12m  tot: 0h2m9s  (14.3%)\rEpoch: 71.4%  lr: 0.042973  loss: 0.049838  eta: 0h12m  tot: 0h2m9s  (14.3%)\rEpoch: 71.5%  lr: 0.042953  loss: 0.049807  eta: 0h12m  tot: 0h2m9s  (14.3%)\rEpoch: 71.6%  lr: 0.042943  loss: 0.049783  eta: 0h12m  tot: 0h2m9s  (14.3%)\rEpoch: 71.7%  lr: 0.042943  loss: 0.049743  eta: 0h12m  tot: 0h2m9s  (14.3%)\rEpoch: 71.7%  lr: 0.042943  loss: 0.049704  eta: 0h12m  tot: 0h2m9s  (14.3%)\rEpoch: 71.8%  lr: 0.042913  loss: 0.049687  eta: 0h12m  tot: 0h2m9s  (14.4%)\rEpoch: 71.9%  lr: 0.042893  loss: 0.049644  eta: 0h12m  tot: 0h2m10s  (14.4%)\rEpoch: 72.0%  lr: 0.042893  loss: 0.049641  eta: 0h12m  tot: 0h2m10s  (14.4%)\rEpoch: 72.1%  lr: 0.042893  loss: 0.049597  eta: 0h12m  tot: 0h2m10s  (14.4%)\rEpoch: 72.2%  lr: 0.042893  loss: 0.049588  eta: 0h12m  tot: 0h2m10s  (14.4%)\rEpoch: 72.3%  lr: 0.042883  loss: 0.049561  eta: 0h12m  tot: 0h2m10s  (14.5%)\rEpoch: 72.4%  lr: 0.042883  loss: 0.049547  eta: 0h12m  tot: 0h2m10s  (14.5%)\rEpoch: 72.5%  lr: 0.042863  loss: 0.049527  eta: 0h12m  tot: 0h2m11s  (14.5%)\rEpoch: 72.6%  lr: 0.042853  loss: 0.049516  eta: 0h12m  tot: 0h2m11s  (14.5%)\rEpoch: 72.6%  lr: 0.042843  loss: 0.049486  eta: 0h12m  tot: 0h2m11s  (14.5%)\rEpoch: 72.7%  lr: 0.042843  loss: 0.049446  eta: 0h12m  tot: 0h2m11s  (14.5%)\rEpoch: 72.8%  lr: 0.042843  loss: 0.049409  eta: 0h12m  tot: 0h2m11s  (14.6%)\rEpoch: 72.9%  lr: 0.042833  loss: 0.049401  eta: 0h12m  tot: 0h2m11s  (14.6%)\rEpoch: 73.0%  lr: 0.042823  loss: 0.049350  eta: 0h12m  tot: 0h2m12s  (14.6%)\rEpoch: 73.1%  lr: 0.042823  loss: 0.049319  eta: 0h12m  tot: 0h2m12s  (14.6%)\rEpoch: 73.2%  lr: 0.042793  loss: 0.049280  eta: 0h12m  tot: 0h2m12s  (14.6%)\rEpoch: 73.3%  lr: 0.042773  loss: 0.049254  eta: 0h12m  tot: 0h2m12s  (14.7%)\rEpoch: 73.4%  lr: 0.042773  loss: 0.049226  eta: 0h12m  tot: 0h2m12s  (14.7%)\rEpoch: 73.5%  lr: 0.042743  loss: 0.049194  eta: 0h12m  tot: 0h2m12s  (14.7%)\rEpoch: 73.5%  lr: 0.042743  loss: 0.049175  eta: 0h12m  tot: 0h2m12s  (14.7%)\rEpoch: 73.6%  lr: 0.042743  loss: 0.049186  eta: 0h12m  tot: 0h2m13s  (14.7%)\rEpoch: 73.7%  lr: 0.042743  loss: 0.049153  eta: 0h12m  tot: 0h2m13s  (14.7%)\rEpoch: 73.8%  lr: 0.042723  loss: 0.049113  eta: 0h12m  tot: 0h2m13s  (14.8%)\rEpoch: 73.9%  lr: 0.042723  loss: 0.049116  eta: 0h12m  tot: 0h2m13s  (14.8%)\rEpoch: 74.0%  lr: 0.042723  loss: 0.049104  eta: 0h12m  tot: 0h2m13s  (14.8%)\rEpoch: 74.1%  lr: 0.042693  loss: 0.049081  eta: 0h12m  tot: 0h2m13s  (14.8%)\rEpoch: 74.2%  lr: 0.042693  loss: 0.049058  eta: 0h12m  tot: 0h2m14s  (14.8%)\rEpoch: 74.3%  lr: 0.042683  loss: 0.049039  eta: 0h12m  tot: 0h2m14s  (14.9%)\rEpoch: 74.4%  lr: 0.042663  loss: 0.048992  eta: 0h12m  tot: 0h2m14s  (14.9%)\rEpoch: 74.4%  lr: 0.042653  loss: 0.048950  eta: 0h12m  tot: 0h2m14s  (14.9%)\rEpoch: 74.5%  lr: 0.042633  loss: 0.048935  eta: 0h12m  tot: 0h2m14s  (14.9%)\rEpoch: 74.6%  lr: 0.042633  loss: 0.048896  eta: 0h12m  tot: 0h2m14s  (14.9%)\rEpoch: 74.7%  lr: 0.042633  loss: 0.048884  eta: 0h12m  tot: 0h2m15s  (14.9%)\rEpoch: 74.8%  lr: 0.042633  loss: 0.048862  eta: 0h12m  tot: 0h2m15s  (15.0%)\rEpoch: 74.9%  lr: 0.042623  loss: 0.048856  eta: 0h12m  tot: 0h2m15s  (15.0%)\rEpoch: 75.0%  lr: 0.042613  loss: 0.048846  eta: 0h12m  tot: 0h2m15s  (15.0%)\rEpoch: 75.1%  lr: 0.042603  loss: 0.048840  eta: 0h12m  tot: 0h2m15s  (15.0%)\rEpoch: 75.2%  lr: 0.042603  loss: 0.048820  eta: 0h12m  tot: 0h2m15s  (15.0%)\rEpoch: 75.3%  lr: 0.042603  loss: 0.048777  eta: 0h12m  tot: 0h2m15s  (15.1%)\rEpoch: 75.3%  lr: 0.042593  loss: 0.048760  eta: 0h12m  tot: 0h2m16s  (15.1%)\rEpoch: 75.4%  lr: 0.042573  loss: 0.048743  eta: 0h12m  tot: 0h2m16s  (15.1%)\rEpoch: 75.5%  lr: 0.042563  loss: 0.048730  eta: 0h12m  tot: 0h2m16s  (15.1%)\rEpoch: 75.6%  lr: 0.042563  loss: 0.048705  eta: 0h12m  tot: 0h2m16s  (15.1%)\rEpoch: 75.7%  lr: 0.042563  loss: 0.048685  eta: 0h12m  tot: 0h2m16s  (15.1%)\rEpoch: 75.8%  lr: 0.042563  loss: 0.048672  eta: 0h12m  tot: 0h2m16s  (15.2%)\rEpoch: 75.9%  lr: 0.042563  loss: 0.048639  eta: 0h12m  tot: 0h2m16s  (15.2%)\rEpoch: 76.0%  lr: 0.042563  loss: 0.048616  eta: 0h12m  tot: 0h2m17s  (15.2%)\rEpoch: 76.1%  lr: 0.042563  loss: 0.048589  eta: 0h12m  tot: 0h2m17s  (15.2%)\rEpoch: 76.2%  lr: 0.042563  loss: 0.048550  eta: 0h12m  tot: 0h2m17s  (15.2%)\rEpoch: 76.2%  lr: 0.042563  loss: 0.048539  eta: 0h12m  tot: 0h2m17s  (15.2%)\rEpoch: 76.3%  lr: 0.042553  loss: 0.048509  eta: 0h12m  tot: 0h2m17s  (15.3%)\rEpoch: 76.4%  lr: 0.042543  loss: 0.048482  eta: 0h12m  tot: 0h2m17s  (15.3%)\rEpoch: 76.5%  lr: 0.042523  loss: 0.048470  eta: 0h12m  tot: 0h2m17s  (15.3%)\rEpoch: 76.6%  lr: 0.042523  loss: 0.048456  eta: 0h12m  tot: 0h2m18s  (15.3%)\rEpoch: 76.7%  lr: 0.042523  loss: 0.048443  eta: 0h12m  tot: 0h2m18s  (15.3%)\rEpoch: 76.8%  lr: 0.042513  loss: 0.048406  eta: 0h12m  tot: 0h2m18s  (15.4%)\rEpoch: 76.9%  lr: 0.042503  loss: 0.048364  eta: 0h12m  tot: 0h2m18s  (15.4%)\rEpoch: 77.0%  lr: 0.042503  loss: 0.048347  eta: 0h12m  tot: 0h2m18s  (15.4%)\rEpoch: 77.1%  lr: 0.042503  loss: 0.048326  eta: 0h12m  tot: 0h2m18s  (15.4%)\rEpoch: 77.1%  lr: 0.042473  loss: 0.048304  eta: 0h12m  tot: 0h2m19s  (15.4%)\rEpoch: 77.2%  lr: 0.042453  loss: 0.048296  eta: 0h12m  tot: 0h2m19s  (15.4%)\rEpoch: 77.3%  lr: 0.042423  loss: 0.048260  eta: 0h12m  tot: 0h2m19s  (15.5%)\rEpoch: 77.4%  lr: 0.042423  loss: 0.048249  eta: 0h12m  tot: 0h2m19s  (15.5%)\rEpoch: 77.5%  lr: 0.042423  loss: 0.048224  eta: 0h12m  tot: 0h2m19s  (15.5%)\rEpoch: 77.6%  lr: 0.042423  loss: 0.048221  eta: 0h12m  tot: 0h2m19s  (15.5%)\rEpoch: 77.7%  lr: 0.042423  loss: 0.048204  eta: 0h12m  tot: 0h2m19s  (15.5%)\rEpoch: 77.8%  lr: 0.042403  loss: 0.048198  eta: 0h12m  tot: 0h2m20s  (15.6%)\rEpoch: 77.9%  lr: 0.042403  loss: 0.048187  eta: 0h12m  tot: 0h2m20s  (15.6%)\rEpoch: 78.0%  lr: 0.042372  loss: 0.048183  eta: 0h12m  tot: 0h2m20s  (15.6%)\rEpoch: 78.0%  lr: 0.042352  loss: 0.048149  eta: 0h12m  tot: 0h2m20s  (15.6%)\rEpoch: 78.1%  lr: 0.042342  loss: 0.048143  eta: 0h12m  tot: 0h2m20s  (15.6%)\rEpoch: 78.2%  lr: 0.042342  loss: 0.048125  eta: 0h12m  tot: 0h2m20s  (15.6%)\rEpoch: 78.3%  lr: 0.042322  loss: 0.048123  eta: 0h12m  tot: 0h2m21s  (15.7%)\rEpoch: 78.4%  lr: 0.042302  loss: 0.048101  eta: 0h12m  tot: 0h2m21s  (15.7%)\rEpoch: 78.5%  lr: 0.042302  loss: 0.048067  eta: 0h12m  tot: 0h2m21s  (15.7%)\rEpoch: 78.6%  lr: 0.042292  loss: 0.048036  eta: 0h12m  tot: 0h2m21s  (15.7%)\rEpoch: 78.7%  lr: 0.042272  loss: 0.048013  eta: 0h12m  tot: 0h2m21s  (15.7%)\rEpoch: 78.8%  lr: 0.042272  loss: 0.047992  eta: 0h12m  tot: 0h2m21s  (15.8%)\rEpoch: 78.9%  lr: 0.042252  loss: 0.047955  eta: 0h12m  tot: 0h2m21s  (15.8%)\rEpoch: 78.9%  lr: 0.042252  loss: 0.047934  eta: 0h12m  tot: 0h2m22s  (15.8%)\rEpoch: 79.0%  lr: 0.042232  loss: 0.047897  eta: 0h12m  tot: 0h2m22s  (15.8%)\rEpoch: 79.1%  lr: 0.042222  loss: 0.047880  eta: 0h12m  tot: 0h2m22s  (15.8%)\rEpoch: 79.2%  lr: 0.042222  loss: 0.047848  eta: 0h12m  tot: 0h2m22s  (15.8%)\rEpoch: 79.3%  lr: 0.042212  loss: 0.047837  eta: 0h12m  tot: 0h2m22s  (15.9%)\rEpoch: 79.4%  lr: 0.042212  loss: 0.047837  eta: 0h12m  tot: 0h2m22s  (15.9%)\rEpoch: 79.5%  lr: 0.042192  loss: 0.047853  eta: 0h12m  tot: 0h2m23s  (15.9%)\rEpoch: 79.6%  lr: 0.042192  loss: 0.047834  eta: 0h12m  tot: 0h2m23s  (15.9%)\rEpoch: 79.7%  lr: 0.042182  loss: 0.047811  eta: 0h12m  tot: 0h2m23s  (15.9%)\rEpoch: 79.8%  lr: 0.042172  loss: 0.047797  eta: 0h12m  tot: 0h2m23s  (16.0%)\rEpoch: 79.9%  lr: 0.042162  loss: 0.047791  eta: 0h12m  tot: 0h2m23s  (16.0%)\rEpoch: 79.9%  lr: 0.042152  loss: 0.047763  eta: 0h12m  tot: 0h2m23s  (16.0%)\rEpoch: 80.0%  lr: 0.042142  loss: 0.047739  eta: 0h12m  tot: 0h2m24s  (16.0%)\rEpoch: 80.1%  lr: 0.042122  loss: 0.047721  eta: 0h12m  tot: 0h2m24s  (16.0%)\rEpoch: 80.2%  lr: 0.042122  loss: 0.047710  eta: 0h12m  tot: 0h2m24s  (16.0%)\rEpoch: 80.3%  lr: 0.042122  loss: 0.047712  eta: 0h12m  tot: 0h2m24s  (16.1%)\rEpoch: 80.4%  lr: 0.042102  loss: 0.047700  eta: 0h12m  tot: 0h2m24s  (16.1%)\rEpoch: 80.5%  lr: 0.042102  loss: 0.047674  eta: 0h12m  tot: 0h2m24s  (16.1%)\rEpoch: 80.6%  lr: 0.042092  loss: 0.047660  eta: 0h12m  tot: 0h2m24s  (16.1%)\rEpoch: 80.7%  lr: 0.042092  loss: 0.047644  eta: 0h12m  tot: 0h2m25s  (16.1%)\rEpoch: 80.8%  lr: 0.042072  loss: 0.047639  eta: 0h12m  tot: 0h2m25s  (16.2%)\rEpoch: 80.8%  lr: 0.042072  loss: 0.047614  eta: 0h12m  tot: 0h2m25s  (16.2%)\rEpoch: 80.9%  lr: 0.042052  loss: 0.047595  eta: 0h12m  tot: 0h2m25s  (16.2%)\rEpoch: 81.0%  lr: 0.042052  loss: 0.047581  eta: 0h12m  tot: 0h2m25s  (16.2%)\rEpoch: 81.1%  lr: 0.042052  loss: 0.047562  eta: 0h12m  tot: 0h2m25s  (16.2%)\rEpoch: 81.2%  lr: 0.042052  loss: 0.047544  eta: 0h12m  tot: 0h2m26s  (16.2%)\rEpoch: 81.3%  lr: 0.042022  loss: 0.047519  eta: 0h12m  tot: 0h2m26s  (16.3%)\rEpoch: 81.4%  lr: 0.042012  loss: 0.047484  eta: 0h12m  tot: 0h2m26s  (16.3%)\rEpoch: 81.5%  lr: 0.042012  loss: 0.047457  eta: 0h12m  tot: 0h2m26s  (16.3%)\rEpoch: 81.6%  lr: 0.041992  loss: 0.047418  eta: 0h12m  tot: 0h2m26s  (16.3%)\rEpoch: 81.7%  lr: 0.041972  loss: 0.047423  eta: 0h12m  tot: 0h2m26s  (16.3%)\rEpoch: 81.7%  lr: 0.041962  loss: 0.047403  eta: 0h12m  tot: 0h2m26s  (16.3%)\rEpoch: 81.8%  lr: 0.041952  loss: 0.047379  eta: 0h12m  tot: 0h2m27s  (16.4%)\rEpoch: 81.9%  lr: 0.041942  loss: 0.047346  eta: 0h12m  tot: 0h2m27s  (16.4%)\rEpoch: 82.0%  lr: 0.041942  loss: 0.047318  eta: 0h12m  tot: 0h2m27s  (16.4%)\rEpoch: 82.1%  lr: 0.041932  loss: 0.047292  eta: 0h12m  tot: 0h2m27s  (16.4%)\rEpoch: 82.2%  lr: 0.041932  loss: 0.047273  eta: 0h12m  tot: 0h2m27s  (16.4%)\rEpoch: 82.3%  lr: 0.041932  loss: 0.047252  eta: 0h12m  tot: 0h2m27s  (16.5%)\rEpoch: 82.4%  lr: 0.041922  loss: 0.047263  eta: 0h12m  tot: 0h2m28s  (16.5%)\rEpoch: 82.5%  lr: 0.041912  loss: 0.047233  eta: 0h12m  tot: 0h2m28s  (16.5%)\rEpoch: 82.6%  lr: 0.041912  loss: 0.047216  eta: 0h12m  tot: 0h2m28s  (16.5%)\rEpoch: 82.6%  lr: 0.041902  loss: 0.047185  eta: 0h12m  tot: 0h2m28s  (16.5%)\rEpoch: 82.7%  lr: 0.041892  loss: 0.047165  eta: 0h12m  tot: 0h2m28s  (16.5%)\rEpoch: 82.8%  lr: 0.041872  loss: 0.047154  eta: 0h12m  tot: 0h2m28s  (16.6%)\rEpoch: 82.9%  lr: 0.041872  loss: 0.047135  eta: 0h12m  tot: 0h2m28s  (16.6%)\rEpoch: 83.0%  lr: 0.041862  loss: 0.047134  eta: 0h12m  tot: 0h2m29s  (16.6%)\rEpoch: 83.1%  lr: 0.041862  loss: 0.047119  eta: 0h12m  tot: 0h2m29s  (16.6%)\rEpoch: 83.2%  lr: 0.041852  loss: 0.047115  eta: 0h12m  tot: 0h2m29s  (16.6%)\rEpoch: 83.3%  lr: 0.041812  loss: 0.047099  eta: 0h12m  tot: 0h2m29s  (16.7%)\rEpoch: 83.4%  lr: 0.041812  loss: 0.047069  eta: 0h12m  tot: 0h2m29s  (16.7%)\rEpoch: 83.5%  lr: 0.041812  loss: 0.047043  eta: 0h12m  tot: 0h2m29s  (16.7%)\rEpoch: 83.5%  lr: 0.041792  loss: 0.047015  eta: 0h12m  tot: 0h2m30s  (16.7%)\rEpoch: 83.6%  lr: 0.041782  loss: 0.046991  eta: 0h12m  tot: 0h2m30s  (16.7%)\rEpoch: 83.7%  lr: 0.041772  loss: 0.046963  eta: 0h12m  tot: 0h2m30s  (16.7%)\rEpoch: 83.8%  lr: 0.041762  loss: 0.046933  eta: 0h12m  tot: 0h2m30s  (16.8%)\rEpoch: 83.9%  lr: 0.041752  loss: 0.046921  eta: 0h12m  tot: 0h2m30s  (16.8%)\rEpoch: 84.0%  lr: 0.041732  loss: 0.046890  eta: 0h12m  tot: 0h2m30s  (16.8%)\rEpoch: 84.1%  lr: 0.041712  loss: 0.046849  eta: 0h12m  tot: 0h2m31s  (16.8%)\rEpoch: 84.2%  lr: 0.041712  loss: 0.046859  eta: 0h12m  tot: 0h2m31s  (16.8%)\rEpoch: 84.3%  lr: 0.041712  loss: 0.046830  eta: 0h12m  tot: 0h2m31s  (16.9%)\rEpoch: 84.4%  lr: 0.041692  loss: 0.046810  eta: 0h12m  tot: 0h2m31s  (16.9%)\rEpoch: 84.4%  lr: 0.041662  loss: 0.046785  eta: 0h12m  tot: 0h2m31s  (16.9%)\rEpoch: 84.5%  lr: 0.041662  loss: 0.046766  eta: 0h12m  tot: 0h2m31s  (16.9%)\rEpoch: 84.6%  lr: 0.041652  loss: 0.046745  eta: 0h12m  tot: 0h2m31s  (16.9%)\rEpoch: 84.7%  lr: 0.041622  loss: 0.046727  eta: 0h12m  tot: 0h2m32s  (16.9%)\rEpoch: 84.8%  lr: 0.041602  loss: 0.046754  eta: 0h12m  tot: 0h2m32s  (17.0%)\rEpoch: 84.9%  lr: 0.041592  loss: 0.046750  eta: 0h12m  tot: 0h2m32s  (17.0%)\rEpoch: 85.0%  lr: 0.041582  loss: 0.046726  eta: 0h12m  tot: 0h2m32s  (17.0%)\rEpoch: 85.1%  lr: 0.041562  loss: 0.046715  eta: 0h12m  tot: 0h2m32s  (17.0%)\rEpoch: 85.2%  lr: 0.041552  loss: 0.046680  eta: 0h12m  tot: 0h2m32s  (17.0%)\rEpoch: 85.3%  lr: 0.041542  loss: 0.046648  eta: 0h12m  tot: 0h2m33s  (17.1%)\rEpoch: 85.3%  lr: 0.041532  loss: 0.046627  eta: 0h12m  tot: 0h2m33s  (17.1%)\rEpoch: 85.4%  lr: 0.041532  loss: 0.046611  eta: 0h12m  tot: 0h2m33s  (17.1%)\rEpoch: 85.5%  lr: 0.041512  loss: 0.046609  eta: 0h12m  tot: 0h2m33s  (17.1%)\rEpoch: 85.6%  lr: 0.041502  loss: 0.046586  eta: 0h12m  tot: 0h2m33s  (17.1%)\rEpoch: 85.7%  lr: 0.041502  loss: 0.046567  eta: 0h12m  tot: 0h2m33s  (17.1%)\rEpoch: 85.8%  lr: 0.041482  loss: 0.046560  eta: 0h12m  tot: 0h2m33s  (17.2%)\rEpoch: 85.9%  lr: 0.041472  loss: 0.046537  eta: 0h12m  tot: 0h2m34s  (17.2%)\rEpoch: 86.0%  lr: 0.041462  loss: 0.046519  eta: 0h12m  tot: 0h2m34s  (17.2%)\rEpoch: 86.1%  lr: 0.041452  loss: 0.046498  eta: 0h12m  tot: 0h2m34s  (17.2%)\rEpoch: 86.2%  lr: 0.041422  loss: 0.046487  eta: 0h12m  tot: 0h2m34s  (17.2%)\rEpoch: 86.2%  lr: 0.041412  loss: 0.046465  eta: 0h12m  tot: 0h2m34s  (17.2%)\rEpoch: 86.3%  lr: 0.041382  loss: 0.046438  eta: 0h12m  tot: 0h2m34s  (17.3%)\rEpoch: 86.4%  lr: 0.041372  loss: 0.046407  eta: 0h12m  tot: 0h2m35s  (17.3%)\rEpoch: 86.5%  lr: 0.041361  loss: 0.046379  eta: 0h12m  tot: 0h2m35s  (17.3%)\rEpoch: 86.6%  lr: 0.041361  loss: 0.046362  eta: 0h12m  tot: 0h2m35s  (17.3%)\rEpoch: 86.7%  lr: 0.041321  loss: 0.046355  eta: 0h12m  tot: 0h2m35s  (17.3%)\rEpoch: 86.8%  lr: 0.041301  loss: 0.046337  eta: 0h12m  tot: 0h2m35s  (17.4%)\rEpoch: 86.9%  lr: 0.041281  loss: 0.046307  eta: 0h12m  tot: 0h2m35s  (17.4%)\rEpoch: 87.0%  lr: 0.041281  loss: 0.046280  eta: 0h12m  tot: 0h2m36s  (17.4%)\rEpoch: 87.1%  lr: 0.041281  loss: 0.046250  eta: 0h12m  tot: 0h2m36s  (17.4%)\rEpoch: 87.1%  lr: 0.041271  loss: 0.046219  eta: 0h12m  tot: 0h2m36s  (17.4%)\rEpoch: 87.2%  lr: 0.041261  loss: 0.046213  eta: 0h12m  tot: 0h2m36s  (17.4%)\rEpoch: 87.3%  lr: 0.041221  loss: 0.046188  eta: 0h12m  tot: 0h2m36s  (17.5%)\rEpoch: 87.4%  lr: 0.041211  loss: 0.046176  eta: 0h12m  tot: 0h2m36s  (17.5%)\rEpoch: 87.5%  lr: 0.041201  loss: 0.046165  eta: 0h12m  tot: 0h2m36s  (17.5%)\rEpoch: 87.6%  lr: 0.041201  loss: 0.046136  eta: 0h12m  tot: 0h2m37s  (17.5%)\rEpoch: 87.7%  lr: 0.041201  loss: 0.046103  eta: 0h12m  tot: 0h2m37s  (17.5%)\rEpoch: 87.8%  lr: 0.041191  loss: 0.046087  eta: 0h12m  tot: 0h2m37s  (17.6%)\rEpoch: 87.9%  lr: 0.041181  loss: 0.046077  eta: 0h12m  tot: 0h2m37s  (17.6%)\rEpoch: 88.0%  lr: 0.041181  loss: 0.046043  eta: 0h12m  tot: 0h2m37s  (17.6%)\rEpoch: 88.0%  lr: 0.041181  loss: 0.046026  eta: 0h12m  tot: 0h2m37s  (17.6%)\rEpoch: 88.1%  lr: 0.041181  loss: 0.045998  eta: 0h12m  tot: 0h2m38s  (17.6%)\rEpoch: 88.2%  lr: 0.041151  loss: 0.045967  eta: 0h12m  tot: 0h2m38s  (17.6%)\rEpoch: 88.3%  lr: 0.041141  loss: 0.045949  eta: 0h12m  tot: 0h2m38s  (17.7%)\rEpoch: 88.4%  lr: 0.041141  loss: 0.045937  eta: 0h12m  tot: 0h2m38s  (17.7%)\rEpoch: 88.5%  lr: 0.041131  loss: 0.045937  eta: 0h12m  tot: 0h2m38s  (17.7%)\rEpoch: 88.6%  lr: 0.041131  loss: 0.045907  eta: 0h12m  tot: 0h2m38s  (17.7%)\rEpoch: 88.7%  lr: 0.041131  loss: 0.045885  eta: 0h12m  tot: 0h2m38s  (17.7%)\rEpoch: 88.8%  lr: 0.041111  loss: 0.045864  eta: 0h12m  tot: 0h2m39s  (17.8%)\rEpoch: 88.9%  lr: 0.041101  loss: 0.045840  eta: 0h12m  tot: 0h2m39s  (17.8%)\rEpoch: 88.9%  lr: 0.041091  loss: 0.045834  eta: 0h12m  tot: 0h2m39s  (17.8%)\rEpoch: 89.0%  lr: 0.041091  loss: 0.045816  eta: 0h12m  tot: 0h2m39s  (17.8%)\rEpoch: 89.1%  lr: 0.041081  loss: 0.045795  eta: 0h12m  tot: 0h2m39s  (17.8%)\rEpoch: 89.2%  lr: 0.041071  loss: 0.045775  eta: 0h12m  tot: 0h2m39s  (17.8%)\rEpoch: 89.3%  lr: 0.041061  loss: 0.045748  eta: 0h12m  tot: 0h2m40s  (17.9%)\rEpoch: 89.4%  lr: 0.041061  loss: 0.045736  eta: 0h12m  tot: 0h2m40s  (17.9%)\rEpoch: 89.5%  lr: 0.041051  loss: 0.045711  eta: 0h12m  tot: 0h2m40s  (17.9%)\rEpoch: 89.6%  lr: 0.041031  loss: 0.045685  eta: 0h12m  tot: 0h2m40s  (17.9%)\rEpoch: 89.7%  lr: 0.041001  loss: 0.045672  eta: 0h12m  tot: 0h2m40s  (17.9%)\rEpoch: 89.8%  lr: 0.040991  loss: 0.045647  eta: 0h12m  tot: 0h2m40s  (18.0%)\rEpoch: 89.8%  lr: 0.040971  loss: 0.045633  eta: 0h12m  tot: 0h2m40s  (18.0%)\rEpoch: 89.9%  lr: 0.040961  loss: 0.045609  eta: 0h12m  tot: 0h2m41s  (18.0%)\rEpoch: 90.0%  lr: 0.040951  loss: 0.045588  eta: 0h12m  tot: 0h2m41s  (18.0%)\rEpoch: 90.1%  lr: 0.040951  loss: 0.045579  eta: 0h12m  tot: 0h2m41s  (18.0%)\rEpoch: 90.2%  lr: 0.040921  loss: 0.045577  eta: 0h12m  tot: 0h2m41s  (18.0%)\rEpoch: 90.3%  lr: 0.040891  loss: 0.045567  eta: 0h12m  tot: 0h2m41s  (18.1%)\rEpoch: 90.4%  lr: 0.040891  loss: 0.045544  eta: 0h12m  tot: 0h2m41s  (18.1%)\rEpoch: 90.5%  lr: 0.040891  loss: 0.045513  eta: 0h12m  tot: 0h2m42s  (18.1%)\rEpoch: 90.6%  lr: 0.040891  loss: 0.045510  eta: 0h12m  tot: 0h2m42s  (18.1%)\rEpoch: 90.7%  lr: 0.040881  loss: 0.045512  eta: 0h12m  tot: 0h2m42s  (18.1%)\rEpoch: 90.7%  lr: 0.040871  loss: 0.045505  eta: 0h12m  tot: 0h2m42s  (18.1%)\rEpoch: 90.8%  lr: 0.040861  loss: 0.045507  eta: 0h12m  tot: 0h2m42s  (18.2%)\rEpoch: 90.9%  lr: 0.040841  loss: 0.045491  eta: 0h12m  tot: 0h2m42s  (18.2%)\rEpoch: 91.0%  lr: 0.040831  loss: 0.045480  eta: 0h12m  tot: 0h2m42s  (18.2%)\rEpoch: 91.1%  lr: 0.040821  loss: 0.045458  eta: 0h12m  tot: 0h2m43s  (18.2%)\rEpoch: 91.2%  lr: 0.040821  loss: 0.045440  eta: 0h12m  tot: 0h2m43s  (18.2%)\rEpoch: 91.3%  lr: 0.040821  loss: 0.045416  eta: 0h12m  tot: 0h2m43s  (18.3%)\rEpoch: 91.4%  lr: 0.040811  loss: 0.045390  eta: 0h12m  tot: 0h2m43s  (18.3%)\rEpoch: 91.5%  lr: 0.040791  loss: 0.045364  eta: 0h12m  tot: 0h2m43s  (18.3%)\rEpoch: 91.6%  lr: 0.040781  loss: 0.045370  eta: 0h12m  tot: 0h2m43s  (18.3%)\rEpoch: 91.6%  lr: 0.040761  loss: 0.045339  eta: 0h12m  tot: 0h2m44s  (18.3%)\rEpoch: 91.7%  lr: 0.040761  loss: 0.045316  eta: 0h12m  tot: 0h2m44s  (18.3%)\rEpoch: 91.8%  lr: 0.040761  loss: 0.045307  eta: 0h12m  tot: 0h2m44s  (18.4%)\rEpoch: 91.9%  lr: 0.040751  loss: 0.045289  eta: 0h12m  tot: 0h2m44s  (18.4%)\rEpoch: 92.0%  lr: 0.040751  loss: 0.045260  eta: 0h12m  tot: 0h2m44s  (18.4%)\rEpoch: 92.1%  lr: 0.040751  loss: 0.045239  eta: 0h12m  tot: 0h2m44s  (18.4%)\rEpoch: 92.2%  lr: 0.040731  loss: 0.045216  eta: 0h12m  tot: 0h2m44s  (18.4%)\rEpoch: 92.3%  lr: 0.040711  loss: 0.045190  eta: 0h12m  tot: 0h2m45s  (18.5%)\rEpoch: 92.4%  lr: 0.040701  loss: 0.045195  eta: 0h12m  tot: 0h2m45s  (18.5%)\rEpoch: 92.5%  lr: 0.040691  loss: 0.045169  eta: 0h12m  tot: 0h2m45s  (18.5%)\rEpoch: 92.5%  lr: 0.040641  loss: 0.045152  eta: 0h12m  tot: 0h2m45s  (18.5%)\rEpoch: 92.6%  lr: 0.040631  loss: 0.045134  eta: 0h12m  tot: 0h2m45s  (18.5%)\rEpoch: 92.7%  lr: 0.040621  loss: 0.045115  eta: 0h12m  tot: 0h2m45s  (18.5%)\rEpoch: 92.8%  lr: 0.040611  loss: 0.045107  eta: 0h12m  tot: 0h2m46s  (18.6%)\rEpoch: 92.9%  lr: 0.040591  loss: 0.045095  eta: 0h12m  tot: 0h2m46s  (18.6%)\rEpoch: 93.0%  lr: 0.040591  loss: 0.045071  eta: 0h12m  tot: 0h2m46s  (18.6%)\rEpoch: 93.1%  lr: 0.040591  loss: 0.045048  eta: 0h12m  tot: 0h2m46s  (18.6%)\rEpoch: 93.2%  lr: 0.040581  loss: 0.045037  eta: 0h12m  tot: 0h2m46s  (18.6%)\rEpoch: 93.3%  lr: 0.040551  loss: 0.045018  eta: 0h12m  tot: 0h2m46s  (18.7%)\rEpoch: 93.4%  lr: 0.040551  loss: 0.044992  eta: 0h12m  tot: 0h2m47s  (18.7%)\rEpoch: 93.4%  lr: 0.040551  loss: 0.044965  eta: 0h12m  tot: 0h2m47s  (18.7%)\rEpoch: 93.5%  lr: 0.040541  loss: 0.044957  eta: 0h12m  tot: 0h2m47s  (18.7%)\rEpoch: 93.6%  lr: 0.040531  loss: 0.044930  eta: 0h12m  tot: 0h2m47s  (18.7%)\rEpoch: 93.7%  lr: 0.040521  loss: 0.044923  eta: 0h12m  tot: 0h2m47s  (18.7%)\rEpoch: 93.8%  lr: 0.040521  loss: 0.044938  eta: 0h12m  tot: 0h2m47s  (18.8%)\rEpoch: 93.9%  lr: 0.040501  loss: 0.044924  eta: 0h12m  tot: 0h2m47s  (18.8%)\rEpoch: 94.0%  lr: 0.040481  loss: 0.044917  eta: 0h12m  tot: 0h2m48s  (18.8%)\rEpoch: 94.1%  lr: 0.040471  loss: 0.044913  eta: 0h12m  tot: 0h2m48s  (18.8%)\rEpoch: 94.2%  lr: 0.040471  loss: 0.044893  eta: 0h12m  tot: 0h2m48s  (18.8%)\rEpoch: 94.3%  lr: 0.040471  loss: 0.044865  eta: 0h12m  tot: 0h2m48s  (18.9%)\rEpoch: 94.3%  lr: 0.040461  loss: 0.044850  eta: 0h12m  tot: 0h2m48s  (18.9%)\rEpoch: 94.4%  lr: 0.040451  loss: 0.044828  eta: 0h12m  tot: 0h2m48s  (18.9%)\rEpoch: 94.5%  lr: 0.040451  loss: 0.044811  eta: 0h12m  tot: 0h2m49s  (18.9%)\rEpoch: 94.6%  lr: 0.040441  loss: 0.044786  eta: 0h12m  tot: 0h2m49s  (18.9%)\rEpoch: 94.7%  lr: 0.040441  loss: 0.044766  eta: 0h12m  tot: 0h2m49s  (18.9%)\rEpoch: 94.8%  lr: 0.040441  loss: 0.044741  eta: 0h12m  tot: 0h2m49s  (19.0%)\rEpoch: 94.9%  lr: 0.040441  loss: 0.044718  eta: 0h12m  tot: 0h2m49s  (19.0%)\rEpoch: 95.0%  lr: 0.040431  loss: 0.044693  eta: 0h12m  tot: 0h2m49s  (19.0%)\rEpoch: 95.1%  lr: 0.040431  loss: 0.044664  eta: 0h12m  tot: 0h2m49s  (19.0%)\rEpoch: 95.2%  lr: 0.040431  loss: 0.044644  eta: 0h12m  tot: 0h2m50s  (19.0%)\rEpoch: 95.2%  lr: 0.040421  loss: 0.044623  eta: 0h12m  tot: 0h2m50s  (19.0%)\rEpoch: 95.3%  lr: 0.040421  loss: 0.044613  eta: 0h12m  tot: 0h2m50s  (19.1%)\rEpoch: 95.4%  lr: 0.040391  loss: 0.044609  eta: 0h12m  tot: 0h2m50s  (19.1%)\rEpoch: 95.5%  lr: 0.040391  loss: 0.044588  eta: 0h12m  tot: 0h2m50s  (19.1%)\rEpoch: 95.6%  lr: 0.040381  loss: 0.044571  eta: 0h12m  tot: 0h2m50s  (19.1%)\rEpoch: 95.7%  lr: 0.040371  loss: 0.044548  eta: 0h12m  tot: 0h2m51s  (19.1%)\rEpoch: 95.8%  lr: 0.040361  loss: 0.044534  eta: 0h12m  tot: 0h2m51s  (19.2%)\rEpoch: 95.9%  lr: 0.040361  loss: 0.044511  eta: 0h12m  tot: 0h2m51s  (19.2%)\rEpoch: 96.0%  lr: 0.040340  loss: 0.044498  eta: 0h12m  tot: 0h2m51s  (19.2%)\rEpoch: 96.1%  lr: 0.040340  loss: 0.044485  eta: 0h12m  tot: 0h2m51s  (19.2%)\rEpoch: 96.1%  lr: 0.040320  loss: 0.044474  eta: 0h12m  tot: 0h2m51s  (19.2%)\rEpoch: 96.2%  lr: 0.040300  loss: 0.044469  eta: 0h12m  tot: 0h2m52s  (19.2%)\rEpoch: 96.3%  lr: 0.040300  loss: 0.044477  eta: 0h12m  tot: 0h2m52s  (19.3%)\rEpoch: 96.4%  lr: 0.040290  loss: 0.044453  eta: 0h12m  tot: 0h2m52s  (19.3%)\rEpoch: 96.5%  lr: 0.040280  loss: 0.044453  eta: 0h12m  tot: 0h2m52s  (19.3%)\rEpoch: 96.6%  lr: 0.040280  loss: 0.044441  eta: 0h12m  tot: 0h2m52s  (19.3%)\rEpoch: 96.7%  lr: 0.040270  loss: 0.044412  eta: 0h12m  tot: 0h2m52s  (19.3%)\rEpoch: 96.8%  lr: 0.040260  loss: 0.044398  eta: 0h12m  tot: 0h2m52s  (19.4%)\rEpoch: 96.9%  lr: 0.040250  loss: 0.044376  eta: 0h12m  tot: 0h2m53s  (19.4%)\rEpoch: 97.0%  lr: 0.040240  loss: 0.044353  eta: 0h11m  tot: 0h2m53s  (19.4%)\rEpoch: 97.0%  lr: 0.040240  loss: 0.044345  eta: 0h11m  tot: 0h2m53s  (19.4%)\rEpoch: 97.1%  lr: 0.040220  loss: 0.044315  eta: 0h11m  tot: 0h2m53s  (19.4%)\rEpoch: 97.2%  lr: 0.040210  loss: 0.044312  eta: 0h11m  tot: 0h2m53s  (19.4%)\rEpoch: 97.3%  lr: 0.040210  loss: 0.044283  eta: 0h11m  tot: 0h2m53s  (19.5%)\rEpoch: 97.4%  lr: 0.040200  loss: 0.044257  eta: 0h11m  tot: 0h2m53s  (19.5%)\rEpoch: 97.5%  lr: 0.040200  loss: 0.044233  eta: 0h11m  tot: 0h2m54s  (19.5%)\rEpoch: 97.6%  lr: 0.040190  loss: 0.044218  eta: 0h11m  tot: 0h2m54s  (19.5%)\rEpoch: 97.7%  lr: 0.040180  loss: 0.044230  eta: 0h11m  tot: 0h2m54s  (19.5%)\rEpoch: 97.8%  lr: 0.040160  loss: 0.044204  eta: 0h11m  tot: 0h2m54s  (19.6%)\rEpoch: 97.9%  lr: 0.040160  loss: 0.044186  eta: 0h11m  tot: 0h2m54s  (19.6%)\rEpoch: 97.9%  lr: 0.040160  loss: 0.044162  eta: 0h11m  tot: 0h2m54s  (19.6%)\rEpoch: 98.0%  lr: 0.040150  loss: 0.044157  eta: 0h11m  tot: 0h2m55s  (19.6%)\rEpoch: 98.1%  lr: 0.040130  loss: 0.044130  eta: 0h11m  tot: 0h2m55s  (19.6%)\rEpoch: 98.2%  lr: 0.040120  loss: 0.044116  eta: 0h11m  tot: 0h2m55s  (19.6%)\rEpoch: 98.3%  lr: 0.040100  loss: 0.044089  eta: 0h11m  tot: 0h2m55s  (19.7%)\rEpoch: 98.4%  lr: 0.040090  loss: 0.044073  eta: 0h11m  tot: 0h2m55s  (19.7%)\rEpoch: 98.5%  lr: 0.040090  loss: 0.044055  eta: 0h11m  tot: 0h2m55s  (19.7%)\rEpoch: 98.6%  lr: 0.040080  loss: 0.044048  eta: 0h11m  tot: 0h2m56s  (19.7%)\rEpoch: 98.7%  lr: 0.040080  loss: 0.044021  eta: 0h11m  tot: 0h2m56s  (19.7%)\rEpoch: 98.8%  lr: 0.040080  loss: 0.044008  eta: 0h11m  tot: 0h2m56s  (19.8%)\rEpoch: 98.8%  lr: 0.040080  loss: 0.044002  eta: 0h11m  tot: 0h2m56s  (19.8%)\rEpoch: 98.9%  lr: 0.040080  loss: 0.043980  eta: 0h11m  tot: 0h2m56s  (19.8%)\rEpoch: 99.0%  lr: 0.040070  loss: 0.043955  eta: 0h11m  tot: 0h2m56s  (19.8%)\rEpoch: 99.1%  lr: 0.040060  loss: 0.043936  eta: 0h11m  tot: 0h2m56s  (19.8%)\rEpoch: 99.2%  lr: 0.040060  loss: 0.043948  eta: 0h11m  tot: 0h2m57s  (19.8%)\rEpoch: 99.3%  lr: 0.040060  loss: 0.043926  eta: 0h11m  tot: 0h2m57s  (19.9%)\rEpoch: 99.4%  lr: 0.040040  loss: 0.043910  eta: 0h11m  tot: 0h2m57s  (19.9%)\rEpoch: 99.5%  lr: 0.040040  loss: 0.043899  eta: 0h11m  tot: 0h2m57s  (19.9%)\rEpoch: 99.6%  lr: 0.040030  loss: 0.043894  eta: 0h11m  tot: 0h2m57s  (19.9%)\rEpoch: 99.7%  lr: 0.040010  loss: 0.043877  eta: 0h11m  tot: 0h2m57s  (19.9%)\rEpoch: 99.7%  lr: 0.040000  loss: 0.043863  eta: 0h11m  tot: 0h2m57s  (19.9%)\rEpoch: 99.8%  lr: 0.040000  loss: 0.043836  eta: 0h11m  tot: 0h2m58s  (20.0%)\rEpoch: 99.9%  lr: 0.040000  loss: 0.043831  eta: 0h11m  tot: 0h2m58s  (20.0%)\rEpoch: 100.0%  lr: 0.040000  loss: 0.043827  eta: 0h11m  tot: 0h2m58s  (20.0%)\rEpoch: 0.1%  lr: 0.040000  loss: 0.009986  eta: 0h12m  tot: 0h2m58s  (20.0%)\rEpoch: 0.2%  lr: 0.040000  loss: 0.012827  eta: 0h11m  tot: 0h2m58s  (20.0%)\rEpoch: 0.3%  lr: 0.039990  loss: 0.012812  eta: 0h11m  tot: 0h2m58s  (20.1%)\rEpoch: 0.4%  lr: 0.039990  loss: 0.011943  eta: 0h11m  tot: 0h2m58s  (20.1%)\rEpoch: 0.4%  lr: 0.039970  loss: 0.012947  eta: 0h11m  tot: 0h2m59s  (20.1%)\rEpoch: 0.5%  lr: 0.039970  loss: 0.012506  eta: 0h11m  tot: 0h2m59s  (20.1%)\rEpoch: 0.6%  lr: 0.039960  loss: 0.012316  eta: 0h11m  tot: 0h2m59s  (20.1%)\rEpoch: 0.7%  lr: 0.039960  loss: 0.011865  eta: 0h11m  tot: 0h2m59s  (20.1%)\rEpoch: 0.8%  lr: 0.039960  loss: 0.012250  eta: 0h11m  tot: 0h2m59s  (20.2%)\rEpoch: 0.9%  lr: 0.039960  loss: 0.011861  eta: 0h11m  tot: 0h2m59s  (20.2%)\rEpoch: 1.0%  lr: 0.039950  loss: 0.012705  eta: 0h11m  tot: 0h3m0s  (20.2%)\rEpoch: 1.1%  lr: 0.039950  loss: 0.012924  eta: 0h11m  tot: 0h3m0s  (20.2%)\rEpoch: 1.2%  lr: 0.039950  loss: 0.013010  eta: 0h11m  tot: 0h3m0s  (20.2%)\rEpoch: 1.3%  lr: 0.039940  loss: 0.012886  eta: 0h11m  tot: 0h3m0s  (20.3%)\rEpoch: 1.3%  lr: 0.039930  loss: 0.012420  eta: 0h11m  tot: 0h3m0s  (20.3%)\rEpoch: 1.4%  lr: 0.039930  loss: 0.012215  eta: 0h11m  tot: 0h3m0s  (20.3%)\rEpoch: 1.5%  lr: 0.039920  loss: 0.012078  eta: 0h11m  tot: 0h3m0s  (20.3%)\rEpoch: 1.6%  lr: 0.039910  loss: 0.012162  eta: 0h11m  tot: 0h3m1s  (20.3%)\rEpoch: 1.7%  lr: 0.039880  loss: 0.011935  eta: 0h11m  tot: 0h3m1s  (20.3%)\rEpoch: 1.8%  lr: 0.039870  loss: 0.011795  eta: 0h11m  tot: 0h3m1s  (20.4%)\rEpoch: 1.9%  lr: 0.039860  loss: 0.012137  eta: 0h11m  tot: 0h3m1s  (20.4%)\rEpoch: 2.0%  lr: 0.039860  loss: 0.012347  eta: 0h11m  tot: 0h3m1s  (20.4%)\rEpoch: 2.1%  lr: 0.039830  loss: 0.012421  eta: 0h11m  tot: 0h3m1s  (20.4%)\rEpoch: 2.2%  lr: 0.039830  loss: 0.012473  eta: 0h11m  tot: 0h3m1s  (20.4%)\rEpoch: 2.2%  lr: 0.039810  loss: 0.012491  eta: 0h11m  tot: 0h3m2s  (20.4%)\rEpoch: 2.3%  lr: 0.039790  loss: 0.012356  eta: 0h11m  tot: 0h3m2s  (20.5%)\rEpoch: 2.4%  lr: 0.039790  loss: 0.012227  eta: 0h11m  tot: 0h3m2s  (20.5%)\rEpoch: 2.5%  lr: 0.039790  loss: 0.012059  eta: 0h11m  tot: 0h3m2s  (20.5%)\rEpoch: 2.6%  lr: 0.039790  loss: 0.012340  eta: 0h11m  tot: 0h3m2s  (20.5%)\rEpoch: 2.7%  lr: 0.039790  loss: 0.012373  eta: 0h11m  tot: 0h3m2s  (20.5%)\rEpoch: 2.8%  lr: 0.039790  loss: 0.012209  eta: 0h10m  tot: 0h3m3s  (20.6%)\rEpoch: 2.9%  lr: 0.039780  loss: 0.011975  eta: 0h11m  tot: 0h3m3s  (20.6%)\rEpoch: 3.0%  lr: 0.039750  loss: 0.012056  eta: 0h10m  tot: 0h3m3s  (20.6%)\rEpoch: 3.1%  lr: 0.039740  loss: 0.012531  eta: 0h10m  tot: 0h3m3s  (20.6%)\rEpoch: 3.1%  lr: 0.039730  loss: 0.012351  eta: 0h10m  tot: 0h3m3s  (20.6%)\rEpoch: 3.2%  lr: 0.039710  loss: 0.012391  eta: 0h10m  tot: 0h3m3s  (20.6%)\rEpoch: 3.3%  lr: 0.039710  loss: 0.012368  eta: 0h10m  tot: 0h3m3s  (20.7%)\rEpoch: 3.4%  lr: 0.039710  loss: 0.012253  eta: 0h10m  tot: 0h3m4s  (20.7%)\rEpoch: 3.5%  lr: 0.039670  loss: 0.012235  eta: 0h10m  tot: 0h3m4s  (20.7%)\rEpoch: 3.6%  lr: 0.039660  loss: 0.012209  eta: 0h10m  tot: 0h3m4s  (20.7%)\rEpoch: 3.7%  lr: 0.039660  loss: 0.012299  eta: 0h10m  tot: 0h3m4s  (20.7%)\rEpoch: 3.8%  lr: 0.039650  loss: 0.012487  eta: 0h10m  tot: 0h3m4s  (20.8%)\rEpoch: 3.9%  lr: 0.039650  loss: 0.012535  eta: 0h10m  tot: 0h3m4s  (20.8%)\rEpoch: 4.0%  lr: 0.039650  loss: 0.012574  eta: 0h10m  tot: 0h3m4s  (20.8%)\rEpoch: 4.1%  lr: 0.039640  loss: 0.012445  eta: 0h10m  tot: 0h3m5s  (20.8%)\rEpoch: 4.1%  lr: 0.039630  loss: 0.012269  eta: 0h10m  tot: 0h3m5s  (20.8%)\rEpoch: 4.2%  lr: 0.039630  loss: 0.012655  eta: 0h10m  tot: 0h3m5s  (20.8%)\rEpoch: 4.3%  lr: 0.039630  loss: 0.012570  eta: 0h10m  tot: 0h3m5s  (20.9%)\rEpoch: 4.4%  lr: 0.039620  loss: 0.012756  eta: 0h10m  tot: 0h3m5s  (20.9%)\rEpoch: 4.5%  lr: 0.039620  loss: 0.012941  eta: 0h10m  tot: 0h3m5s  (20.9%)\rEpoch: 4.6%  lr: 0.039620  loss: 0.012971  eta: 0h10m  tot: 0h3m5s  (20.9%)\rEpoch: 4.7%  lr: 0.039620  loss: 0.013010  eta: 0h10m  tot: 0h3m6s  (20.9%)\rEpoch: 4.8%  lr: 0.039600  loss: 0.012978  eta: 0h10m  tot: 0h3m6s  (21.0%)\rEpoch: 4.9%  lr: 0.039580  loss: 0.013070  eta: 0h10m  tot: 0h3m6s  (21.0%)\rEpoch: 5.0%  lr: 0.039560  loss: 0.012936  eta: 0h10m  tot: 0h3m6s  (21.0%)\rEpoch: 5.0%  lr: 0.039520  loss: 0.012804  eta: 0h10m  tot: 0h3m6s  (21.0%)\rEpoch: 5.1%  lr: 0.039520  loss: 0.013011  eta: 0h10m  tot: 0h3m6s  (21.0%)\rEpoch: 5.2%  lr: 0.039500  loss: 0.013063  eta: 0h10m  tot: 0h3m6s  (21.0%)\rEpoch: 5.3%  lr: 0.039500  loss: 0.013240  eta: 0h10m  tot: 0h3m7s  (21.1%)\rEpoch: 5.4%  lr: 0.039500  loss: 0.013314  eta: 0h10m  tot: 0h3m7s  (21.1%)\rEpoch: 5.5%  lr: 0.039489  loss: 0.013226  eta: 0h10m  tot: 0h3m7s  (21.1%)\rEpoch: 5.6%  lr: 0.039479  loss: 0.013397  eta: 0h10m  tot: 0h3m7s  (21.1%)\rEpoch: 5.7%  lr: 0.039459  loss: 0.013309  eta: 0h10m  tot: 0h3m7s  (21.1%)\rEpoch: 5.8%  lr: 0.039459  loss: 0.013141  eta: 0h10m  tot: 0h3m7s  (21.2%)\rEpoch: 5.9%  lr: 0.039459  loss: 0.013099  eta: 0h10m  tot: 0h3m7s  (21.2%)\rEpoch: 5.9%  lr: 0.039459  loss: 0.013019  eta: 0h10m  tot: 0h3m8s  (21.2%)\rEpoch: 6.0%  lr: 0.039459  loss: 0.013035  eta: 0h10m  tot: 0h3m8s  (21.2%)\rEpoch: 6.1%  lr: 0.039459  loss: 0.013203  eta: 0h10m  tot: 0h3m8s  (21.2%)\rEpoch: 6.2%  lr: 0.039459  loss: 0.013213  eta: 0h10m  tot: 0h3m8s  (21.2%)\rEpoch: 6.3%  lr: 0.039429  loss: 0.013299  eta: 0h10m  tot: 0h3m8s  (21.3%)\rEpoch: 6.4%  lr: 0.039419  loss: 0.013227  eta: 0h10m  tot: 0h3m8s  (21.3%)\rEpoch: 6.5%  lr: 0.039419  loss: 0.013227  eta: 0h10m  tot: 0h3m9s  (21.3%)\rEpoch: 6.6%  lr: 0.039409  loss: 0.013072  eta: 0h10m  tot: 0h3m9s  (21.3%)\rEpoch: 6.7%  lr: 0.039409  loss: 0.013149  eta: 0h10m  tot: 0h3m9s  (21.3%)\rEpoch: 6.8%  lr: 0.039379  loss: 0.013077  eta: 0h10m  tot: 0h3m9s  (21.4%)\rEpoch: 6.8%  lr: 0.039379  loss: 0.013081  eta: 0h10m  tot: 0h3m9s  (21.4%)\rEpoch: 6.9%  lr: 0.039379  loss: 0.013062  eta: 0h10m  tot: 0h3m9s  (21.4%)\rEpoch: 7.0%  lr: 0.039379  loss: 0.013156  eta: 0h10m  tot: 0h3m9s  (21.4%)\rEpoch: 7.1%  lr: 0.039369  loss: 0.013158  eta: 0h10m  tot: 0h3m10s  (21.4%)\rEpoch: 7.2%  lr: 0.039359  loss: 0.013107  eta: 0h10m  tot: 0h3m10s  (21.4%)\rEpoch: 7.3%  lr: 0.039359  loss: 0.013111  eta: 0h10m  tot: 0h3m10s  (21.5%)\rEpoch: 7.4%  lr: 0.039349  loss: 0.013109  eta: 0h10m  tot: 0h3m10s  (21.5%)\rEpoch: 7.5%  lr: 0.039339  loss: 0.013044  eta: 0h10m  tot: 0h3m10s  (21.5%)\rEpoch: 7.6%  lr: 0.039329  loss: 0.013050  eta: 0h10m  tot: 0h3m10s  (21.5%)\rEpoch: 7.7%  lr: 0.039319  loss: 0.013107  eta: 0h10m  tot: 0h3m10s  (21.5%)\rEpoch: 7.7%  lr: 0.039299  loss: 0.013152  eta: 0h10m  tot: 0h3m11s  (21.5%)\rEpoch: 7.8%  lr: 0.039299  loss: 0.013246  eta: 0h10m  tot: 0h3m11s  (21.6%)\rEpoch: 7.9%  lr: 0.039269  loss: 0.013282  eta: 0h10m  tot: 0h3m11s  (21.6%)\rEpoch: 8.0%  lr: 0.039249  loss: 0.013291  eta: 0h10m  tot: 0h3m11s  (21.6%)\rEpoch: 8.1%  lr: 0.039249  loss: 0.013287  eta: 0h10m  tot: 0h3m11s  (21.6%)\rEpoch: 8.2%  lr: 0.039239  loss: 0.013345  eta: 0h10m  tot: 0h3m11s  (21.6%)\rEpoch: 8.3%  lr: 0.039229  loss: 0.013304  eta: 0h10m  tot: 0h3m11s  (21.7%)\rEpoch: 8.4%  lr: 0.039229  loss: 0.013379  eta: 0h10m  tot: 0h3m12s  (21.7%)\rEpoch: 8.5%  lr: 0.039229  loss: 0.013409  eta: 0h10m  tot: 0h3m12s  (21.7%)\rEpoch: 8.6%  lr: 0.039229  loss: 0.013392  eta: 0h10m  tot: 0h3m12s  (21.7%)\rEpoch: 8.6%  lr: 0.039229  loss: 0.013335  eta: 0h10m  tot: 0h3m12s  (21.7%)\rEpoch: 8.7%  lr: 0.039209  loss: 0.013292  eta: 0h10m  tot: 0h3m12s  (21.7%)\rEpoch: 8.8%  lr: 0.039199  loss: 0.013379  eta: 0h10m  tot: 0h3m12s  (21.8%)\rEpoch: 8.9%  lr: 0.039179  loss: 0.013328  eta: 0h10m  tot: 0h3m12s  (21.8%)\rEpoch: 9.0%  lr: 0.039179  loss: 0.013269  eta: 0h10m  tot: 0h3m13s  (21.8%)\rEpoch: 9.1%  lr: 0.039179  loss: 0.013234  eta: 0h10m  tot: 0h3m13s  (21.8%)\rEpoch: 9.2%  lr: 0.039149  loss: 0.013335  eta: 0h10m  tot: 0h3m13s  (21.8%)\rEpoch: 9.3%  lr: 0.039139  loss: 0.013344  eta: 0h10m  tot: 0h3m13s  (21.9%)\rEpoch: 9.4%  lr: 0.039119  loss: 0.013332  eta: 0h10m  tot: 0h3m13s  (21.9%)\rEpoch: 9.5%  lr: 0.039109  loss: 0.013400  eta: 0h10m  tot: 0h3m13s  (21.9%)\rEpoch: 9.5%  lr: 0.039099  loss: 0.013323  eta: 0h10m  tot: 0h3m13s  (21.9%)\rEpoch: 9.6%  lr: 0.039089  loss: 0.013327  eta: 0h10m  tot: 0h3m14s  (21.9%)\rEpoch: 9.7%  lr: 0.039079  loss: 0.013291  eta: 0h10m  tot: 0h3m14s  (21.9%)\rEpoch: 9.8%  lr: 0.039059  loss: 0.013316  eta: 0h10m  tot: 0h3m14s  (22.0%)\rEpoch: 9.9%  lr: 0.039059  loss: 0.013340  eta: 0h10m  tot: 0h3m14s  (22.0%)\rEpoch: 10.0%  lr: 0.039049  loss: 0.013342  eta: 0h10m  tot: 0h3m14s  (22.0%)\rEpoch: 10.1%  lr: 0.039049  loss: 0.013356  eta: 0h10m  tot: 0h3m14s  (22.0%)\rEpoch: 10.2%  lr: 0.039039  loss: 0.013348  eta: 0h10m  tot: 0h3m15s  (22.0%)\rEpoch: 10.3%  lr: 0.039039  loss: 0.013337  eta: 0h10m  tot: 0h3m15s  (22.1%)\rEpoch: 10.4%  lr: 0.039029  loss: 0.013333  eta: 0h10m  tot: 0h3m15s  (22.1%)\rEpoch: 10.4%  lr: 0.038999  loss: 0.013316  eta: 0h10m  tot: 0h3m15s  (22.1%)\rEpoch: 10.5%  lr: 0.038989  loss: 0.013314  eta: 0h10m  tot: 0h3m15s  (22.1%)\rEpoch: 10.6%  lr: 0.038979  loss: 0.013328  eta: 0h10m  tot: 0h3m15s  (22.1%)\rEpoch: 10.7%  lr: 0.038969  loss: 0.013249  eta: 0h10m  tot: 0h3m15s  (22.1%)\rEpoch: 10.8%  lr: 0.038969  loss: 0.013207  eta: 0h10m  tot: 0h3m16s  (22.2%)\rEpoch: 10.9%  lr: 0.038959  loss: 0.013161  eta: 0h10m  tot: 0h3m16s  (22.2%)\rEpoch: 11.0%  lr: 0.038939  loss: 0.013122  eta: 0h10m  tot: 0h3m16s  (22.2%)\rEpoch: 11.1%  lr: 0.038939  loss: 0.013023  eta: 0h10m  tot: 0h3m16s  (22.2%)\rEpoch: 11.2%  lr: 0.038939  loss: 0.013040  eta: 0h10m  tot: 0h3m16s  (22.2%)\rEpoch: 11.3%  lr: 0.038929  loss: 0.013070  eta: 0h10m  tot: 0h3m16s  (22.3%)\rEpoch: 11.3%  lr: 0.038919  loss: 0.013094  eta: 0h10m  tot: 0h3m16s  (22.3%)\rEpoch: 11.4%  lr: 0.038909  loss: 0.013174  eta: 0h10m  tot: 0h3m17s  (22.3%)\rEpoch: 11.5%  lr: 0.038899  loss: 0.013278  eta: 0h10m  tot: 0h3m17s  (22.3%)\rEpoch: 11.6%  lr: 0.038879  loss: 0.013267  eta: 0h10m  tot: 0h3m17s  (22.3%)\rEpoch: 11.7%  lr: 0.038879  loss: 0.013256  eta: 0h10m  tot: 0h3m17s  (22.3%)\rEpoch: 11.8%  lr: 0.038869  loss: 0.013271  eta: 0h10m  tot: 0h3m17s  (22.4%)\rEpoch: 11.9%  lr: 0.038859  loss: 0.013309  eta: 0h10m  tot: 0h3m17s  (22.4%)\rEpoch: 12.0%  lr: 0.038849  loss: 0.013304  eta: 0h10m  tot: 0h3m18s  (22.4%)\rEpoch: 12.1%  lr: 0.038829  loss: 0.013232  eta: 0h10m  tot: 0h3m18s  (22.4%)\rEpoch: 12.2%  lr: 0.038819  loss: 0.013179  eta: 0h10m  tot: 0h3m18s  (22.4%)\rEpoch: 12.2%  lr: 0.038819  loss: 0.013169  eta: 0h10m  tot: 0h3m18s  (22.4%)\rEpoch: 12.3%  lr: 0.038809  loss: 0.013164  eta: 0h10m  tot: 0h3m18s  (22.5%)\rEpoch: 12.4%  lr: 0.038779  loss: 0.013185  eta: 0h10m  tot: 0h3m18s  (22.5%)\rEpoch: 12.5%  lr: 0.038769  loss: 0.013296  eta: 0h10m  tot: 0h3m18s  (22.5%)\rEpoch: 12.6%  lr: 0.038759  loss: 0.013307  eta: 0h10m  tot: 0h3m19s  (22.5%)\rEpoch: 12.7%  lr: 0.038759  loss: 0.013355  eta: 0h10m  tot: 0h3m19s  (22.5%)\rEpoch: 12.8%  lr: 0.038759  loss: 0.013369  eta: 0h10m  tot: 0h3m19s  (22.6%)\rEpoch: 12.9%  lr: 0.038759  loss: 0.013513  eta: 0h10m  tot: 0h3m19s  (22.6%)\rEpoch: 13.0%  lr: 0.038759  loss: 0.013524  eta: 0h10m  tot: 0h3m19s  (22.6%)\rEpoch: 13.1%  lr: 0.038739  loss: 0.013567  eta: 0h10m  tot: 0h3m19s  (22.6%)\rEpoch: 13.1%  lr: 0.038739  loss: 0.013527  eta: 0h10m  tot: 0h3m19s  (22.6%)\rEpoch: 13.2%  lr: 0.038729  loss: 0.013496  eta: 0h10m  tot: 0h3m20s  (22.6%)\rEpoch: 13.3%  lr: 0.038719  loss: 0.013515  eta: 0h10m  tot: 0h3m20s  (22.7%)\rEpoch: 13.4%  lr: 0.038719  loss: 0.013505  eta: 0h10m  tot: 0h3m20s  (22.7%)\rEpoch: 13.5%  lr: 0.038719  loss: 0.013466  eta: 0h10m  tot: 0h3m20s  (22.7%)\rEpoch: 13.6%  lr: 0.038709  loss: 0.013494  eta: 0h10m  tot: 0h3m20s  (22.7%)\rEpoch: 13.7%  lr: 0.038699  loss: 0.013451  eta: 0h10m  tot: 0h3m20s  (22.7%)\rEpoch: 13.8%  lr: 0.038689  loss: 0.013449  eta: 0h10m  tot: 0h3m20s  (22.8%)\rEpoch: 13.9%  lr: 0.038669  loss: 0.013393  eta: 0h10m  tot: 0h3m21s  (22.8%)\rEpoch: 14.0%  lr: 0.038669  loss: 0.013338  eta: 0h10m  tot: 0h3m21s  (22.8%)\rEpoch: 14.0%  lr: 0.038639  loss: 0.013305  eta: 0h10m  tot: 0h3m21s  (22.8%)\rEpoch: 14.1%  lr: 0.038619  loss: 0.013271  eta: 0h10m  tot: 0h3m21s  (22.8%)\rEpoch: 14.2%  lr: 0.038609  loss: 0.013280  eta: 0h10m  tot: 0h3m21s  (22.8%)\rEpoch: 14.3%  lr: 0.038609  loss: 0.013298  eta: 0h10m  tot: 0h3m21s  (22.9%)\rEpoch: 14.4%  lr: 0.038609  loss: 0.013307  eta: 0h10m  tot: 0h3m21s  (22.9%)\rEpoch: 14.5%  lr: 0.038599  loss: 0.013252  eta: 0h10m  tot: 0h3m22s  (22.9%)\rEpoch: 14.6%  lr: 0.038589  loss: 0.013227  eta: 0h10m  tot: 0h3m22s  (22.9%)\rEpoch: 14.7%  lr: 0.038589  loss: 0.013312  eta: 0h10m  tot: 0h3m22s  (22.9%)\rEpoch: 14.8%  lr: 0.038569  loss: 0.013239  eta: 0h10m  tot: 0h3m22s  (23.0%)\rEpoch: 14.9%  lr: 0.038569  loss: 0.013223  eta: 0h10m  tot: 0h3m22s  (23.0%)\rEpoch: 14.9%  lr: 0.038569  loss: 0.013226  eta: 0h10m  tot: 0h3m22s  (23.0%)\rEpoch: 15.0%  lr: 0.038569  loss: 0.013206  eta: 0h10m  tot: 0h3m22s  (23.0%)\rEpoch: 15.1%  lr: 0.038569  loss: 0.013159  eta: 0h10m  tot: 0h3m23s  (23.0%)\rEpoch: 15.2%  lr: 0.038559  loss: 0.013115  eta: 0h10m  tot: 0h3m23s  (23.0%)\rEpoch: 15.3%  lr: 0.038559  loss: 0.013094  eta: 0h10m  tot: 0h3m23s  (23.1%)\rEpoch: 15.4%  lr: 0.038549  loss: 0.013123  eta: 0h10m  tot: 0h3m23s  (23.1%)\rEpoch: 15.5%  lr: 0.038539  loss: 0.013097  eta: 0h10m  tot: 0h3m23s  (23.1%)\rEpoch: 15.6%  lr: 0.038529  loss: 0.013072  eta: 0h10m  tot: 0h3m23s  (23.1%)\rEpoch: 15.7%  lr: 0.038519  loss: 0.013024  eta: 0h10m  tot: 0h3m23s  (23.1%)\rEpoch: 15.8%  lr: 0.038519  loss: 0.013055  eta: 0h10m  tot: 0h3m24s  (23.2%)\rEpoch: 15.8%  lr: 0.038499  loss: 0.013118  eta: 0h10m  tot: 0h3m24s  (23.2%)\rEpoch: 15.9%  lr: 0.038499  loss: 0.013180  eta: 0h10m  tot: 0h3m24s  (23.2%)\rEpoch: 16.0%  lr: 0.038499  loss: 0.013192  eta: 0h10m  tot: 0h3m24s  (23.2%)\rEpoch: 16.1%  lr: 0.038489  loss: 0.013172  eta: 0h10m  tot: 0h3m24s  (23.2%)\rEpoch: 16.2%  lr: 0.038489  loss: 0.013193  eta: 0h10m  tot: 0h3m24s  (23.2%)\rEpoch: 16.3%  lr: 0.038458  loss: 0.013199  eta: 0h10m  tot: 0h3m25s  (23.3%)\rEpoch: 16.4%  lr: 0.038438  loss: 0.013179  eta: 0h10m  tot: 0h3m25s  (23.3%)\rEpoch: 16.5%  lr: 0.038428  loss: 0.013177  eta: 0h10m  tot: 0h3m25s  (23.3%)\rEpoch: 16.6%  lr: 0.038428  loss: 0.013219  eta: 0h10m  tot: 0h3m25s  (23.3%)\rEpoch: 16.7%  lr: 0.038418  loss: 0.013219  eta: 0h10m  tot: 0h3m25s  (23.3%)\rEpoch: 16.7%  lr: 0.038408  loss: 0.013238  eta: 0h10m  tot: 0h3m25s  (23.3%)\rEpoch: 16.8%  lr: 0.038408  loss: 0.013265  eta: 0h10m  tot: 0h3m25s  (23.4%)\rEpoch: 16.9%  lr: 0.038388  loss: 0.013268  eta: 0h10m  tot: 0h3m26s  (23.4%)\rEpoch: 17.0%  lr: 0.038378  loss: 0.013237  eta: 0h10m  tot: 0h3m26s  (23.4%)\rEpoch: 17.1%  lr: 0.038378  loss: 0.013185  eta: 0h10m  tot: 0h3m26s  (23.4%)\rEpoch: 17.2%  lr: 0.038358  loss: 0.013202  eta: 0h10m  tot: 0h3m26s  (23.4%)\rEpoch: 17.3%  lr: 0.038348  loss: 0.013191  eta: 0h10m  tot: 0h3m26s  (23.5%)\rEpoch: 17.4%  lr: 0.038348  loss: 0.013156  eta: 0h10m  tot: 0h3m26s  (23.5%)\rEpoch: 17.5%  lr: 0.038328  loss: 0.013146  eta: 0h10m  tot: 0h3m26s  (23.5%)\rEpoch: 17.6%  lr: 0.038308  loss: 0.013152  eta: 0h10m  tot: 0h3m27s  (23.5%)\rEpoch: 17.6%  lr: 0.038298  loss: 0.013130  eta: 0h10m  tot: 0h3m27s  (23.5%)\rEpoch: 17.7%  lr: 0.038288  loss: 0.013137  eta: 0h10m  tot: 0h3m27s  (23.5%)\rEpoch: 17.8%  lr: 0.038288  loss: 0.013112  eta: 0h10m  tot: 0h3m27s  (23.6%)\rEpoch: 17.9%  lr: 0.038278  loss: 0.013133  eta: 0h10m  tot: 0h3m27s  (23.6%)\rEpoch: 18.0%  lr: 0.038278  loss: 0.013119  eta: 0h10m  tot: 0h3m27s  (23.6%)\rEpoch: 18.1%  lr: 0.038278  loss: 0.013176  eta: 0h10m  tot: 0h3m27s  (23.6%)\rEpoch: 18.2%  lr: 0.038268  loss: 0.013153  eta: 0h10m  tot: 0h3m28s  (23.6%)\rEpoch: 18.3%  lr: 0.038268  loss: 0.013129  eta: 0h10m  tot: 0h3m28s  (23.7%)\rEpoch: 18.4%  lr: 0.038268  loss: 0.013137  eta: 0h10m  tot: 0h3m28s  (23.7%)\rEpoch: 18.5%  lr: 0.038268  loss: 0.013103  eta: 0h10m  tot: 0h3m28s  (23.7%)\rEpoch: 18.5%  lr: 0.038268  loss: 0.013085  eta: 0h10m  tot: 0h3m28s  (23.7%)\rEpoch: 18.6%  lr: 0.038258  loss: 0.013058  eta: 0h10m  tot: 0h3m28s  (23.7%)\rEpoch: 18.7%  lr: 0.038258  loss: 0.013061  eta: 0h10m  tot: 0h3m28s  (23.7%)\rEpoch: 18.8%  lr: 0.038248  loss: 0.013085  eta: 0h10m  tot: 0h3m29s  (23.8%)\rEpoch: 18.9%  lr: 0.038218  loss: 0.013064  eta: 0h10m  tot: 0h3m29s  (23.8%)\rEpoch: 19.0%  lr: 0.038208  loss: 0.013072  eta: 0h10m  tot: 0h3m29s  (23.8%)\rEpoch: 19.1%  lr: 0.038198  loss: 0.013102  eta: 0h10m  tot: 0h3m29s  (23.8%)\rEpoch: 19.2%  lr: 0.038188  loss: 0.013120  eta: 0h10m  tot: 0h3m29s  (23.8%)\rEpoch: 19.3%  lr: 0.038188  loss: 0.013074  eta: 0h10m  tot: 0h3m29s  (23.9%)\rEpoch: 19.4%  lr: 0.038188  loss: 0.013087  eta: 0h10m  tot: 0h3m30s  (23.9%)\rEpoch: 19.4%  lr: 0.038188  loss: 0.013075  eta: 0h10m  tot: 0h3m30s  (23.9%)\rEpoch: 19.5%  lr: 0.038178  loss: 0.013062  eta: 0h10m  tot: 0h3m30s  (23.9%)\rEpoch: 19.6%  lr: 0.038168  loss: 0.013032  eta: 0h10m  tot: 0h3m30s  (23.9%)\rEpoch: 19.7%  lr: 0.038168  loss: 0.013008  eta: 0h10m  tot: 0h3m30s  (23.9%)\rEpoch: 19.8%  lr: 0.038148  loss: 0.012991  eta: 0h10m  tot: 0h3m30s  (24.0%)\rEpoch: 19.9%  lr: 0.038148  loss: 0.012981  eta: 0h10m  tot: 0h3m30s  (24.0%)\rEpoch: 20.0%  lr: 0.038138  loss: 0.013000  eta: 0h10m  tot: 0h3m31s  (24.0%)\rEpoch: 20.1%  lr: 0.038138  loss: 0.012970  eta: 0h10m  tot: 0h3m31s  (24.0%)\rEpoch: 20.2%  lr: 0.038128  loss: 0.012957  eta: 0h10m  tot: 0h3m31s  (24.0%)\rEpoch: 20.3%  lr: 0.038128  loss: 0.012948  eta: 0h10m  tot: 0h3m31s  (24.1%)\rEpoch: 20.3%  lr: 0.038118  loss: 0.012919  eta: 0h10m  tot: 0h3m31s  (24.1%)\rEpoch: 20.4%  lr: 0.038118  loss: 0.012931  eta: 0h10m  tot: 0h3m31s  (24.1%)\rEpoch: 20.5%  lr: 0.038108  loss: 0.012952  eta: 0h10m  tot: 0h3m31s  (24.1%)\rEpoch: 20.6%  lr: 0.038108  loss: 0.012987  eta: 0h10m  tot: 0h3m32s  (24.1%)\rEpoch: 20.7%  lr: 0.038098  loss: 0.012975  eta: 0h10m  tot: 0h3m32s  (24.1%)\rEpoch: 20.8%  lr: 0.038098  loss: 0.012987  eta: 0h10m  tot: 0h3m32s  (24.2%)\rEpoch: 20.9%  lr: 0.038098  loss: 0.013030  eta: 0h10m  tot: 0h3m32s  (24.2%)\rEpoch: 21.0%  lr: 0.038098  loss: 0.013003  eta: 0h10m  tot: 0h3m32s  (24.2%)\rEpoch: 21.1%  lr: 0.038068  loss: 0.012963  eta: 0h10m  tot: 0h3m32s  (24.2%)\rEpoch: 21.2%  lr: 0.038038  loss: 0.012948  eta: 0h10m  tot: 0h3m33s  (24.2%)\rEpoch: 21.2%  lr: 0.038038  loss: 0.012943  eta: 0h10m  tot: 0h3m33s  (24.2%)\rEpoch: 21.3%  lr: 0.038018  loss: 0.012937  eta: 0h10m  tot: 0h3m33s  (24.3%)\rEpoch: 21.4%  lr: 0.038008  loss: 0.012945  eta: 0h10m  tot: 0h3m33s  (24.3%)\rEpoch: 21.5%  lr: 0.038008  loss: 0.012936  eta: 0h10m  tot: 0h3m33s  (24.3%)\rEpoch: 21.6%  lr: 0.037968  loss: 0.012972  eta: 0h10m  tot: 0h3m33s  (24.3%)\rEpoch: 21.7%  lr: 0.037958  loss: 0.012959  eta: 0h10m  tot: 0h3m33s  (24.3%)\rEpoch: 21.8%  lr: 0.037948  loss: 0.012953  eta: 0h10m  tot: 0h3m34s  (24.4%)\rEpoch: 21.9%  lr: 0.037938  loss: 0.012949  eta: 0h10m  tot: 0h3m34s  (24.4%)\rEpoch: 22.0%  lr: 0.037938  loss: 0.012919  eta: 0h10m  tot: 0h3m34s  (24.4%)\rEpoch: 22.1%  lr: 0.037928  loss: 0.012909  eta: 0h10m  tot: 0h3m34s  (24.4%)\rEpoch: 22.1%  lr: 0.037928  loss: 0.012913  eta: 0h10m  tot: 0h3m34s  (24.4%)\rEpoch: 22.2%  lr: 0.037918  loss: 0.012933  eta: 0h10m  tot: 0h3m34s  (24.4%)\rEpoch: 22.3%  lr: 0.037918  loss: 0.012939  eta: 0h10m  tot: 0h3m34s  (24.5%)\rEpoch: 22.4%  lr: 0.037908  loss: 0.012925  eta: 0h10m  tot: 0h3m35s  (24.5%)\rEpoch: 22.5%  lr: 0.037888  loss: 0.012947  eta: 0h10m  tot: 0h3m35s  (24.5%)\rEpoch: 22.6%  lr: 0.037888  loss: 0.012979  eta: 0h10m  tot: 0h3m35s  (24.5%)\rEpoch: 22.7%  lr: 0.037878  loss: 0.012981  eta: 0h10m  tot: 0h3m35s  (24.5%)\rEpoch: 22.8%  lr: 0.037868  loss: 0.012979  eta: 0h10m  tot: 0h3m35s  (24.6%)\rEpoch: 22.9%  lr: 0.037858  loss: 0.012950  eta: 0h10m  tot: 0h3m35s  (24.6%)\rEpoch: 23.0%  lr: 0.037858  loss: 0.012939  eta: 0h10m  tot: 0h3m35s  (24.6%)\rEpoch: 23.0%  lr: 0.037848  loss: 0.012976  eta: 0h10m  tot: 0h3m36s  (24.6%)\rEpoch: 23.1%  lr: 0.037838  loss: 0.013002  eta: 0h10m  tot: 0h3m36s  (24.6%)\rEpoch: 23.2%  lr: 0.037828  loss: 0.013006  eta: 0h10m  tot: 0h3m36s  (24.6%)\rEpoch: 23.3%  lr: 0.037828  loss: 0.013003  eta: 0h10m  tot: 0h3m36s  (24.7%)\rEpoch: 23.4%  lr: 0.037828  loss: 0.013005  eta: 0h10m  tot: 0h3m36s  (24.7%)\rEpoch: 23.5%  lr: 0.037828  loss: 0.012984  eta: 0h10m  tot: 0h3m36s  (24.7%)\rEpoch: 23.6%  lr: 0.037818  loss: 0.013040  eta: 0h10m  tot: 0h3m37s  (24.7%)\rEpoch: 23.7%  lr: 0.037808  loss: 0.013025  eta: 0h10m  tot: 0h3m37s  (24.7%)\rEpoch: 23.8%  lr: 0.037808  loss: 0.013014  eta: 0h10m  tot: 0h3m37s  (24.8%)\rEpoch: 23.9%  lr: 0.037808  loss: 0.013015  eta: 0h10m  tot: 0h3m37s  (24.8%)\rEpoch: 23.9%  lr: 0.037798  loss: 0.013001  eta: 0h10m  tot: 0h3m37s  (24.8%)\rEpoch: 24.0%  lr: 0.037798  loss: 0.012974  eta: 0h10m  tot: 0h3m37s  (24.8%)\rEpoch: 24.1%  lr: 0.037788  loss: 0.012973  eta: 0h10m  tot: 0h3m37s  (24.8%)\rEpoch: 24.2%  lr: 0.037788  loss: 0.012988  eta: 0h10m  tot: 0h3m38s  (24.8%)\rEpoch: 24.3%  lr: 0.037788  loss: 0.012958  eta: 0h10m  tot: 0h3m38s  (24.9%)\rEpoch: 24.4%  lr: 0.037788  loss: 0.012937  eta: 0h10m  tot: 0h3m38s  (24.9%)\rEpoch: 24.5%  lr: 0.037788  loss: 0.012963  eta: 0h10m  tot: 0h3m38s  (24.9%)\rEpoch: 24.6%  lr: 0.037778  loss: 0.012986  eta: 0h10m  tot: 0h3m38s  (24.9%)\rEpoch: 24.7%  lr: 0.037768  loss: 0.012967  eta: 0h10m  tot: 0h3m38s  (24.9%)\rEpoch: 24.8%  lr: 0.037758  loss: 0.012952  eta: 0h10m  tot: 0h3m39s  (25.0%)\rEpoch: 24.8%  lr: 0.037748  loss: 0.012925  eta: 0h10m  tot: 0h3m39s  (25.0%)\rEpoch: 24.9%  lr: 0.037748  loss: 0.012906  eta: 0h10m  tot: 0h3m39s  (25.0%)\rEpoch: 25.0%  lr: 0.037738  loss: 0.012887  eta: 0h10m  tot: 0h3m39s  (25.0%)\rEpoch: 25.1%  lr: 0.037738  loss: 0.012957  eta: 0h10m  tot: 0h3m39s  (25.0%)\rEpoch: 25.2%  lr: 0.037718  loss: 0.012927  eta: 0h10m  tot: 0h3m39s  (25.0%)\rEpoch: 25.3%  lr: 0.037718  loss: 0.012896  eta: 0h10m  tot: 0h3m39s  (25.1%)\rEpoch: 25.4%  lr: 0.037698  loss: 0.012903  eta: 0h10m  tot: 0h3m40s  (25.1%)\rEpoch: 25.5%  lr: 0.037698  loss: 0.012907  eta: 0h10m  tot: 0h3m40s  (25.1%)\rEpoch: 25.6%  lr: 0.037688  loss: 0.012909  eta: 0h10m  tot: 0h3m40s  (25.1%)\rEpoch: 25.7%  lr: 0.037668  loss: 0.012914  eta: 0h10m  tot: 0h3m40s  (25.1%)\rEpoch: 25.7%  lr: 0.037668  loss: 0.012924  eta: 0h10m  tot: 0h3m40s  (25.1%)\rEpoch: 25.8%  lr: 0.037648  loss: 0.012949  eta: 0h10m  tot: 0h3m40s  (25.2%)\rEpoch: 25.9%  lr: 0.037648  loss: 0.012968  eta: 0h10m  tot: 0h3m40s  (25.2%)\rEpoch: 26.0%  lr: 0.037638  loss: 0.012959  eta: 0h10m  tot: 0h3m41s  (25.2%)\rEpoch: 26.1%  lr: 0.037638  loss: 0.013010  eta: 0h10m  tot: 0h3m41s  (25.2%)\rEpoch: 26.2%  lr: 0.037608  loss: 0.013002  eta: 0h10m  tot: 0h3m41s  (25.2%)\rEpoch: 26.3%  lr: 0.037578  loss: 0.013089  eta: 0h10m  tot: 0h3m41s  (25.3%)\rEpoch: 26.4%  lr: 0.037578  loss: 0.013128  eta: 0h10m  tot: 0h3m41s  (25.3%)\rEpoch: 26.5%  lr: 0.037578  loss: 0.013152  eta: 0h10m  tot: 0h3m41s  (25.3%)\rEpoch: 26.6%  lr: 0.037578  loss: 0.013156  eta: 0h10m  tot: 0h3m41s  (25.3%)\rEpoch: 26.6%  lr: 0.037578  loss: 0.013141  eta: 0h10m  tot: 0h3m42s  (25.3%)\rEpoch: 26.7%  lr: 0.037568  loss: 0.013136  eta: 0h10m  tot: 0h3m42s  (25.3%)\rEpoch: 26.8%  lr: 0.037558  loss: 0.013128  eta: 0h10m  tot: 0h3m42s  (25.4%)\rEpoch: 26.9%  lr: 0.037538  loss: 0.013172  eta: 0h10m  tot: 0h3m42s  (25.4%)\rEpoch: 27.0%  lr: 0.037528  loss: 0.013155  eta: 0h10m  tot: 0h3m42s  (25.4%)\rEpoch: 27.1%  lr: 0.037508  loss: 0.013147  eta: 0h10m  tot: 0h3m42s  (25.4%)\rEpoch: 27.2%  lr: 0.037498  loss: 0.013126  eta: 0h10m  tot: 0h3m42s  (25.4%)\rEpoch: 27.3%  lr: 0.037478  loss: 0.013139  eta: 0h10m  tot: 0h3m43s  (25.5%)\rEpoch: 27.4%  lr: 0.037468  loss: 0.013119  eta: 0h10m  tot: 0h3m43s  (25.5%)\rEpoch: 27.5%  lr: 0.037468  loss: 0.013138  eta: 0h10m  tot: 0h3m43s  (25.5%)\rEpoch: 27.5%  lr: 0.037457  loss: 0.013130  eta: 0h10m  tot: 0h3m43s  (25.5%)\rEpoch: 27.6%  lr: 0.037457  loss: 0.013140  eta: 0h10m  tot: 0h3m43s  (25.5%)\rEpoch: 27.7%  lr: 0.037437  loss: 0.013133  eta: 0h10m  tot: 0h3m43s  (25.5%)\rEpoch: 27.8%  lr: 0.037427  loss: 0.013130  eta: 0h10m  tot: 0h3m43s  (25.6%)\rEpoch: 27.9%  lr: 0.037427  loss: 0.013134  eta: 0h10m  tot: 0h3m44s  (25.6%)\rEpoch: 28.0%  lr: 0.037417  loss: 0.013175  eta: 0h10m  tot: 0h3m44s  (25.6%)\rEpoch: 28.1%  lr: 0.037407  loss: 0.013182  eta: 0h10m  tot: 0h3m44s  (25.6%)\rEpoch: 28.2%  lr: 0.037407  loss: 0.013158  eta: 0h10m  tot: 0h3m44s  (25.6%)\rEpoch: 28.3%  lr: 0.037407  loss: 0.013156  eta: 0h10m  tot: 0h3m44s  (25.7%)\rEpoch: 28.4%  lr: 0.037407  loss: 0.013131  eta: 0h10m  tot: 0h3m44s  (25.7%)\rEpoch: 28.4%  lr: 0.037407  loss: 0.013161  eta: 0h10m  tot: 0h3m45s  (25.7%)\rEpoch: 28.5%  lr: 0.037397  loss: 0.013145  eta: 0h10m  tot: 0h3m45s  (25.7%)\rEpoch: 28.6%  lr: 0.037377  loss: 0.013149  eta: 0h10m  tot: 0h3m45s  (25.7%)\rEpoch: 28.7%  lr: 0.037377  loss: 0.013122  eta: 0h10m  tot: 0h3m45s  (25.7%)\rEpoch: 28.8%  lr: 0.037367  loss: 0.013131  eta: 0h10m  tot: 0h3m45s  (25.8%)\rEpoch: 28.9%  lr: 0.037367  loss: 0.013139  eta: 0h10m  tot: 0h3m45s  (25.8%)\rEpoch: 29.0%  lr: 0.037347  loss: 0.013128  eta: 0h10m  tot: 0h3m45s  (25.8%)\rEpoch: 29.1%  lr: 0.037337  loss: 0.013124  eta: 0h10m  tot: 0h3m46s  (25.8%)\rEpoch: 29.2%  lr: 0.037317  loss: 0.013113  eta: 0h10m  tot: 0h3m46s  (25.8%)\rEpoch: 29.3%  lr: 0.037317  loss: 0.013107  eta: 0h10m  tot: 0h3m46s  (25.9%)\rEpoch: 29.3%  lr: 0.037307  loss: 0.013098  eta: 0h10m  tot: 0h3m46s  (25.9%)\rEpoch: 29.4%  lr: 0.037307  loss: 0.013106  eta: 0h10m  tot: 0h3m46s  (25.9%)\rEpoch: 29.5%  lr: 0.037297  loss: 0.013092  eta: 0h10m  tot: 0h3m46s  (25.9%)\rEpoch: 29.6%  lr: 0.037297  loss: 0.013084  eta: 0h10m  tot: 0h3m46s  (25.9%)\rEpoch: 29.7%  lr: 0.037287  loss: 0.013109  eta: 0h10m  tot: 0h3m47s  (25.9%)\rEpoch: 29.8%  lr: 0.037287  loss: 0.013111  eta: 0h10m  tot: 0h3m47s  (26.0%)\rEpoch: 29.9%  lr: 0.037267  loss: 0.013097  eta: 0h10m  tot: 0h3m47s  (26.0%)\rEpoch: 30.0%  lr: 0.037237  loss: 0.013071  eta: 0h10m  tot: 0h3m47s  (26.0%)\rEpoch: 30.1%  lr: 0.037237  loss: 0.013084  eta: 0h10m  tot: 0h3m47s  (26.0%)\rEpoch: 30.2%  lr: 0.037217  loss: 0.013104  eta: 0h10m  tot: 0h3m47s  (26.0%)\rEpoch: 30.2%  lr: 0.037207  loss: 0.013098  eta: 0h10m  tot: 0h3m47s  (26.0%)\rEpoch: 30.3%  lr: 0.037177  loss: 0.013086  eta: 0h10m  tot: 0h3m48s  (26.1%)\rEpoch: 30.4%  lr: 0.037177  loss: 0.013084  eta: 0h10m  tot: 0h3m48s  (26.1%)\rEpoch: 30.5%  lr: 0.037167  loss: 0.013072  eta: 0h10m  tot: 0h3m48s  (26.1%)\rEpoch: 30.6%  lr: 0.037157  loss: 0.013071  eta: 0h10m  tot: 0h3m48s  (26.1%)\rEpoch: 30.7%  lr: 0.037147  loss: 0.013078  eta: 0h10m  tot: 0h3m48s  (26.1%)\rEpoch: 30.8%  lr: 0.037137  loss: 0.013058  eta: 0h10m  tot: 0h3m48s  (26.2%)\rEpoch: 30.9%  lr: 0.037117  loss: 0.013109  eta: 0h10m  tot: 0h3m49s  (26.2%)\rEpoch: 31.0%  lr: 0.037097  loss: 0.013082  eta: 0h10m  tot: 0h3m49s  (26.2%)\rEpoch: 31.1%  lr: 0.037087  loss: 0.013090  eta: 0h10m  tot: 0h3m49s  (26.2%)\rEpoch: 31.1%  lr: 0.037077  loss: 0.013084  eta: 0h10m  tot: 0h3m49s  (26.2%)\rEpoch: 31.2%  lr: 0.037077  loss: 0.013090  eta: 0h10m  tot: 0h3m49s  (26.2%)\rEpoch: 31.3%  lr: 0.037067  loss: 0.013109  eta: 0h10m  tot: 0h3m49s  (26.3%)\rEpoch: 31.4%  lr: 0.037057  loss: 0.013101  eta: 0h10m  tot: 0h3m49s  (26.3%)\rEpoch: 31.5%  lr: 0.037047  loss: 0.013146  eta: 0h10m  tot: 0h3m50s  (26.3%)\rEpoch: 31.6%  lr: 0.037047  loss: 0.013141  eta: 0h10m  tot: 0h3m50s  (26.3%)\rEpoch: 31.7%  lr: 0.037017  loss: 0.013127  eta: 0h10m  tot: 0h3m50s  (26.3%)\rEpoch: 31.8%  lr: 0.037017  loss: 0.013118  eta: 0h10m  tot: 0h3m50s  (26.4%)\rEpoch: 31.9%  lr: 0.037007  loss: 0.013120  eta: 0h10m  tot: 0h3m50s  (26.4%)\rEpoch: 32.0%  lr: 0.037007  loss: 0.013132  eta: 0h10m  tot: 0h3m50s  (26.4%)\rEpoch: 32.0%  lr: 0.037007  loss: 0.013145  eta: 0h10m  tot: 0h3m50s  (26.4%)\rEpoch: 32.1%  lr: 0.037007  loss: 0.013173  eta: 0h10m  tot: 0h3m51s  (26.4%)\rEpoch: 32.2%  lr: 0.037007  loss: 0.013168  eta: 0h10m  tot: 0h3m51s  (26.4%)\rEpoch: 32.3%  lr: 0.036987  loss: 0.013159  eta: 0h10m  tot: 0h3m51s  (26.5%)\rEpoch: 32.4%  lr: 0.036987  loss: 0.013153  eta: 0h10m  tot: 0h3m51s  (26.5%)\rEpoch: 32.5%  lr: 0.036977  loss: 0.013148  eta: 0h10m  tot: 0h3m51s  (26.5%)\rEpoch: 32.6%  lr: 0.036967  loss: 0.013146  eta: 0h10m  tot: 0h3m51s  (26.5%)\rEpoch: 32.7%  lr: 0.036967  loss: 0.013163  eta: 0h10m  tot: 0h3m51s  (26.5%)\rEpoch: 32.8%  lr: 0.036947  loss: 0.013151  eta: 0h10m  tot: 0h3m52s  (26.6%)\rEpoch: 32.9%  lr: 0.036947  loss: 0.013146  eta: 0h10m  tot: 0h3m52s  (26.6%)\rEpoch: 32.9%  lr: 0.036947  loss: 0.013144  eta: 0h10m  tot: 0h3m52s  (26.6%)\rEpoch: 33.0%  lr: 0.036947  loss: 0.013135  eta: 0h10m  tot: 0h3m52s  (26.6%)\rEpoch: 33.1%  lr: 0.036947  loss: 0.013143  eta: 0h10m  tot: 0h3m52s  (26.6%)\rEpoch: 33.2%  lr: 0.036947  loss: 0.013144  eta: 0h10m  tot: 0h3m52s  (26.6%)\rEpoch: 33.3%  lr: 0.036937  loss: 0.013150  eta: 0h10m  tot: 0h3m52s  (26.7%)\rEpoch: 33.4%  lr: 0.036917  loss: 0.013142  eta: 0h10m  tot: 0h3m53s  (26.7%)\rEpoch: 33.5%  lr: 0.036917  loss: 0.013163  eta: 0h10m  tot: 0h3m53s  (26.7%)\rEpoch: 33.6%  lr: 0.036907  loss: 0.013153  eta: 0h10m  tot: 0h3m53s  (26.7%)\rEpoch: 33.7%  lr: 0.036897  loss: 0.013158  eta: 0h10m  tot: 0h3m53s  (26.7%)\rEpoch: 33.8%  lr: 0.036877  loss: 0.013170  eta: 0h10m  tot: 0h3m53s  (26.8%)\rEpoch: 33.8%  lr: 0.036867  loss: 0.013151  eta: 0h10m  tot: 0h3m53s  (26.8%)\rEpoch: 33.9%  lr: 0.036857  loss: 0.013156  eta: 0h10m  tot: 0h3m54s  (26.8%)\rEpoch: 34.0%  lr: 0.036817  loss: 0.013148  eta: 0h9m  tot: 0h3m54s  (26.8%)\rEpoch: 34.1%  lr: 0.036817  loss: 0.013142  eta: 0h9m  tot: 0h3m54s  (26.8%)\rEpoch: 34.2%  lr: 0.036797  loss: 0.013157  eta: 0h9m  tot: 0h3m54s  (26.8%)\rEpoch: 34.3%  lr: 0.036797  loss: 0.013190  eta: 0h9m  tot: 0h3m54s  (26.9%)\rEpoch: 34.4%  lr: 0.036777  loss: 0.013182  eta: 0h9m  tot: 0h3m54s  (26.9%)\rEpoch: 34.5%  lr: 0.036777  loss: 0.013187  eta: 0h9m  tot: 0h3m54s  (26.9%)\rEpoch: 34.6%  lr: 0.036777  loss: 0.013191  eta: 0h9m  tot: 0h3m55s  (26.9%)\rEpoch: 34.7%  lr: 0.036777  loss: 0.013174  eta: 0h9m  tot: 0h3m55s  (26.9%)\rEpoch: 34.7%  lr: 0.036777  loss: 0.013164  eta: 0h9m  tot: 0h3m55s  (26.9%)\rEpoch: 34.8%  lr: 0.036777  loss: 0.013143  eta: 0h9m  tot: 0h3m55s  (27.0%)\rEpoch: 34.9%  lr: 0.036767  loss: 0.013134  eta: 0h9m  tot: 0h3m55s  (27.0%)\rEpoch: 35.0%  lr: 0.036757  loss: 0.013131  eta: 0h9m  tot: 0h3m55s  (27.0%)\rEpoch: 35.1%  lr: 0.036747  loss: 0.013139  eta: 0h9m  tot: 0h3m55s  (27.0%)\rEpoch: 35.2%  lr: 0.036707  loss: 0.013143  eta: 0h9m  tot: 0h3m56s  (27.0%)\rEpoch: 35.3%  lr: 0.036667  loss: 0.013168  eta: 0h9m  tot: 0h3m56s  (27.1%)\rEpoch: 35.4%  lr: 0.036647  loss: 0.013160  eta: 0h9m  tot: 0h3m56s  (27.1%)\rEpoch: 35.5%  lr: 0.036627  loss: 0.013213  eta: 0h9m  tot: 0h3m56s  (27.1%)\rEpoch: 35.6%  lr: 0.036627  loss: 0.013202  eta: 0h9m  tot: 0h3m56s  (27.1%)\rEpoch: 35.6%  lr: 0.036617  loss: 0.013220  eta: 0h9m  tot: 0h3m56s  (27.1%)\rEpoch: 35.7%  lr: 0.036607  loss: 0.013217  eta: 0h9m  tot: 0h3m56s  (27.1%)\rEpoch: 35.8%  lr: 0.036607  loss: 0.013222  eta: 0h9m  tot: 0h3m57s  (27.2%)\rEpoch: 35.9%  lr: 0.036597  loss: 0.013227  eta: 0h9m  tot: 0h3m57s  (27.2%)\rEpoch: 36.0%  lr: 0.036597  loss: 0.013238  eta: 0h9m  tot: 0h3m57s  (27.2%)\rEpoch: 36.1%  lr: 0.036587  loss: 0.013243  eta: 0h9m  tot: 0h3m57s  (27.2%)\rEpoch: 36.2%  lr: 0.036577  loss: 0.013278  eta: 0h9m  tot: 0h3m57s  (27.2%)\rEpoch: 36.3%  lr: 0.036577  loss: 0.013252  eta: 0h9m  tot: 0h3m57s  (27.3%)\rEpoch: 36.4%  lr: 0.036577  loss: 0.013228  eta: 0h9m  tot: 0h3m58s  (27.3%)\rEpoch: 36.5%  lr: 0.036567  loss: 0.013232  eta: 0h9m  tot: 0h3m58s  (27.3%)\rEpoch: 36.5%  lr: 0.036557  loss: 0.013224  eta: 0h9m  tot: 0h3m58s  (27.3%)\rEpoch: 36.6%  lr: 0.036557  loss: 0.013204  eta: 0h9m  tot: 0h3m58s  (27.3%)\rEpoch: 36.7%  lr: 0.036547  loss: 0.013196  eta: 0h9m  tot: 0h3m58s  (27.3%)\rEpoch: 36.8%  lr: 0.036537  loss: 0.013185  eta: 0h9m  tot: 0h3m58s  (27.4%)\rEpoch: 36.9%  lr: 0.036537  loss: 0.013214  eta: 0h9m  tot: 0h3m58s  (27.4%)\rEpoch: 37.0%  lr: 0.036537  loss: 0.013207  eta: 0h9m  tot: 0h3m59s  (27.4%)\rEpoch: 37.1%  lr: 0.036517  loss: 0.013212  eta: 0h9m  tot: 0h3m59s  (27.4%)\rEpoch: 37.2%  lr: 0.036497  loss: 0.013228  eta: 0h9m  tot: 0h3m59s  (27.4%)\rEpoch: 37.3%  lr: 0.036487  loss: 0.013229  eta: 0h9m  tot: 0h3m59s  (27.5%)\rEpoch: 37.4%  lr: 0.036487  loss: 0.013232  eta: 0h9m  tot: 0h3m59s  (27.5%)\rEpoch: 37.4%  lr: 0.036467  loss: 0.013232  eta: 0h9m  tot: 0h3m59s  (27.5%)\rEpoch: 37.5%  lr: 0.036457  loss: 0.013216  eta: 0h9m  tot: 0h3m59s  (27.5%)\rEpoch: 37.6%  lr: 0.036457  loss: 0.013216  eta: 0h9m  tot: 0h4m0s  (27.5%)\rEpoch: 37.7%  lr: 0.036447  loss: 0.013225  eta: 0h9m  tot: 0h4m0s  (27.5%)\rEpoch: 37.8%  lr: 0.036447  loss: 0.013240  eta: 0h9m  tot: 0h4m0s  (27.6%)\rEpoch: 37.9%  lr: 0.036447  loss: 0.013266  eta: 0h9m  tot: 0h4m0s  (27.6%)\rEpoch: 38.0%  lr: 0.036426  loss: 0.013267  eta: 0h9m  tot: 0h4m0s  (27.6%)\rEpoch: 38.1%  lr: 0.036416  loss: 0.013261  eta: 0h9m  tot: 0h4m0s  (27.6%)\rEpoch: 38.2%  lr: 0.036396  loss: 0.013273  eta: 0h9m  tot: 0h4m0s  (27.6%)\rEpoch: 38.3%  lr: 0.036396  loss: 0.013280  eta: 0h9m  tot: 0h4m1s  (27.7%)\rEpoch: 38.3%  lr: 0.036366  loss: 0.013276  eta: 0h9m  tot: 0h4m1s  (27.7%)\rEpoch: 38.4%  lr: 0.036346  loss: 0.013270  eta: 0h9m  tot: 0h4m1s  (27.7%)\rEpoch: 38.5%  lr: 0.036316  loss: 0.013255  eta: 0h9m  tot: 0h4m1s  (27.7%)\rEpoch: 38.6%  lr: 0.036316  loss: 0.013233  eta: 0h9m  tot: 0h4m1s  (27.7%)\rEpoch: 38.7%  lr: 0.036316  loss: 0.013234  eta: 0h9m  tot: 0h4m1s  (27.7%)\rEpoch: 38.8%  lr: 0.036276  loss: 0.013226  eta: 0h9m  tot: 0h4m2s  (27.8%)\rEpoch: 38.9%  lr: 0.036276  loss: 0.013232  eta: 0h9m  tot: 0h4m2s  (27.8%)\rEpoch: 39.0%  lr: 0.036266  loss: 0.013231  eta: 0h9m  tot: 0h4m2s  (27.8%)\rEpoch: 39.1%  lr: 0.036246  loss: 0.013215  eta: 0h9m  tot: 0h4m2s  (27.8%)\rEpoch: 39.2%  lr: 0.036236  loss: 0.013227  eta: 0h9m  tot: 0h4m2s  (27.8%)\rEpoch: 39.2%  lr: 0.036226  loss: 0.013226  eta: 0h9m  tot: 0h4m2s  (27.8%)\rEpoch: 39.3%  lr: 0.036216  loss: 0.013233  eta: 0h9m  tot: 0h4m2s  (27.9%)\rEpoch: 39.4%  lr: 0.036216  loss: 0.013221  eta: 0h9m  tot: 0h4m3s  (27.9%)\rEpoch: 39.5%  lr: 0.036206  loss: 0.013213  eta: 0h9m  tot: 0h4m3s  (27.9%)\rEpoch: 39.6%  lr: 0.036186  loss: 0.013214  eta: 0h9m  tot: 0h4m3s  (27.9%)\rEpoch: 39.7%  lr: 0.036166  loss: 0.013197  eta: 0h9m  tot: 0h4m3s  (27.9%)\rEpoch: 39.8%  lr: 0.036156  loss: 0.013204  eta: 0h9m  tot: 0h4m3s  (28.0%)\rEpoch: 39.9%  lr: 0.036146  loss: 0.013222  eta: 0h9m  tot: 0h4m3s  (28.0%)\rEpoch: 40.0%  lr: 0.036136  loss: 0.013215  eta: 0h9m  tot: 0h4m4s  (28.0%)\rEpoch: 40.1%  lr: 0.036136  loss: 0.013216  eta: 0h9m  tot: 0h4m4s  (28.0%)\rEpoch: 40.1%  lr: 0.036126  loss: 0.013256  eta: 0h9m  tot: 0h4m4s  (28.0%)\rEpoch: 40.2%  lr: 0.036126  loss: 0.013257  eta: 0h9m  tot: 0h4m4s  (28.0%)\rEpoch: 40.3%  lr: 0.036116  loss: 0.013251  eta: 0h9m  tot: 0h4m4s  (28.1%)\rEpoch: 40.4%  lr: 0.036116  loss: 0.013257  eta: 0h9m  tot: 0h4m4s  (28.1%)\rEpoch: 40.5%  lr: 0.036106  loss: 0.013273  eta: 0h9m  tot: 0h4m4s  (28.1%)\rEpoch: 40.6%  lr: 0.036076  loss: 0.013258  eta: 0h9m  tot: 0h4m5s  (28.1%)\rEpoch: 40.7%  lr: 0.036076  loss: 0.013308  eta: 0h9m  tot: 0h4m5s  (28.1%)\rEpoch: 40.8%  lr: 0.036076  loss: 0.013297  eta: 0h9m  tot: 0h4m5s  (28.2%)\rEpoch: 40.9%  lr: 0.036076  loss: 0.013307  eta: 0h9m  tot: 0h4m5s  (28.2%)\rEpoch: 41.0%  lr: 0.036066  loss: 0.013313  eta: 0h9m  tot: 0h4m5s  (28.2%)\rEpoch: 41.0%  lr: 0.036056  loss: 0.013328  eta: 0h9m  tot: 0h4m5s  (28.2%)\rEpoch: 41.1%  lr: 0.036036  loss: 0.013323  eta: 0h9m  tot: 0h4m5s  (28.2%)\rEpoch: 41.2%  lr: 0.036026  loss: 0.013323  eta: 0h9m  tot: 0h4m6s  (28.2%)\rEpoch: 41.3%  lr: 0.036026  loss: 0.013327  eta: 0h9m  tot: 0h4m6s  (28.3%)\rEpoch: 41.4%  lr: 0.036016  loss: 0.013321  eta: 0h9m  tot: 0h4m6s  (28.3%)\rEpoch: 41.5%  lr: 0.035986  loss: 0.013353  eta: 0h9m  tot: 0h4m6s  (28.3%)\rEpoch: 41.6%  lr: 0.035976  loss: 0.013375  eta: 0h9m  tot: 0h4m6s  (28.3%)\rEpoch: 41.7%  lr: 0.035966  loss: 0.013364  eta: 0h9m  tot: 0h4m6s  (28.3%)\rEpoch: 41.8%  lr: 0.035956  loss: 0.013375  eta: 0h9m  tot: 0h4m6s  (28.4%)\rEpoch: 41.9%  lr: 0.035936  loss: 0.013380  eta: 0h9m  tot: 0h4m7s  (28.4%)\rEpoch: 42.0%  lr: 0.035926  loss: 0.013400  eta: 0h9m  tot: 0h4m7s  (28.4%)\rEpoch: 42.0%  lr: 0.035926  loss: 0.013390  eta: 0h9m  tot: 0h4m7s  (28.4%)\rEpoch: 42.1%  lr: 0.035906  loss: 0.013399  eta: 0h9m  tot: 0h4m7s  (28.4%)\rEpoch: 42.2%  lr: 0.035896  loss: 0.013387  eta: 0h9m  tot: 0h4m7s  (28.4%)\rEpoch: 42.3%  lr: 0.035896  loss: 0.013374  eta: 0h9m  tot: 0h4m7s  (28.5%)\rEpoch: 42.4%  lr: 0.035896  loss: 0.013374  eta: 0h9m  tot: 0h4m8s  (28.5%)\rEpoch: 42.5%  lr: 0.035886  loss: 0.013355  eta: 0h9m  tot: 0h4m8s  (28.5%)\rEpoch: 42.6%  lr: 0.035876  loss: 0.013346  eta: 0h9m  tot: 0h4m8s  (28.5%)\rEpoch: 42.7%  lr: 0.035876  loss: 0.013331  eta: 0h9m  tot: 0h4m8s  (28.5%)\rEpoch: 42.8%  lr: 0.035866  loss: 0.013312  eta: 0h9m  tot: 0h4m8s  (28.6%)\rEpoch: 42.9%  lr: 0.035856  loss: 0.013317  eta: 0h9m  tot: 0h4m8s  (28.6%)\rEpoch: 42.9%  lr: 0.035856  loss: 0.013312  eta: 0h9m  tot: 0h4m8s  (28.6%)\rEpoch: 43.0%  lr: 0.035856  loss: 0.013323  eta: 0h9m  tot: 0h4m9s  (28.6%)\rEpoch: 43.1%  lr: 0.035856  loss: 0.013322  eta: 0h9m  tot: 0h4m9s  (28.6%)\rEpoch: 43.2%  lr: 0.035856  loss: 0.013320  eta: 0h9m  tot: 0h4m9s  (28.6%)\rEpoch: 43.3%  lr: 0.035846  loss: 0.013309  eta: 0h9m  tot: 0h4m9s  (28.7%)\rEpoch: 43.4%  lr: 0.035836  loss: 0.013324  eta: 0h9m  tot: 0h4m9s  (28.7%)\rEpoch: 43.5%  lr: 0.035806  loss: 0.013337  eta: 0h9m  tot: 0h4m9s  (28.7%)\rEpoch: 43.6%  lr: 0.035796  loss: 0.013334  eta: 0h9m  tot: 0h4m9s  (28.7%)\rEpoch: 43.7%  lr: 0.035796  loss: 0.013320  eta: 0h9m  tot: 0h4m10s  (28.7%)\rEpoch: 43.8%  lr: 0.035776  loss: 0.013332  eta: 0h9m  tot: 0h4m10s  (28.8%)\rEpoch: 43.8%  lr: 0.035776  loss: 0.013322  eta: 0h9m  tot: 0h4m10s  (28.8%)\rEpoch: 43.9%  lr: 0.035766  loss: 0.013318  eta: 0h9m  tot: 0h4m10s  (28.8%)\rEpoch: 44.0%  lr: 0.035756  loss: 0.013311  eta: 0h9m  tot: 0h4m10s  (28.8%)\rEpoch: 44.1%  lr: 0.035756  loss: 0.013315  eta: 0h9m  tot: 0h4m10s  (28.8%)\rEpoch: 44.2%  lr: 0.035736  loss: 0.013315  eta: 0h9m  tot: 0h4m10s  (28.8%)\rEpoch: 44.3%  lr: 0.035736  loss: 0.013339  eta: 0h9m  tot: 0h4m11s  (28.9%)\rEpoch: 44.4%  lr: 0.035736  loss: 0.013333  eta: 0h9m  tot: 0h4m11s  (28.9%)\rEpoch: 44.5%  lr: 0.035736  loss: 0.013333  eta: 0h9m  tot: 0h4m11s  (28.9%)\rEpoch: 44.6%  lr: 0.035736  loss: 0.013327  eta: 0h9m  tot: 0h4m11s  (28.9%)\rEpoch: 44.7%  lr: 0.035736  loss: 0.013341  eta: 0h9m  tot: 0h4m11s  (28.9%)\rEpoch: 44.7%  lr: 0.035726  loss: 0.013341  eta: 0h9m  tot: 0h4m11s  (28.9%)\rEpoch: 44.8%  lr: 0.035726  loss: 0.013347  eta: 0h9m  tot: 0h4m12s  (29.0%)\rEpoch: 44.9%  lr: 0.035716  loss: 0.013349  eta: 0h9m  tot: 0h4m12s  (29.0%)\rEpoch: 45.0%  lr: 0.035696  loss: 0.013341  eta: 0h9m  tot: 0h4m12s  (29.0%)\rEpoch: 45.1%  lr: 0.035686  loss: 0.013339  eta: 0h9m  tot: 0h4m12s  (29.0%)\rEpoch: 45.2%  lr: 0.035666  loss: 0.013335  eta: 0h9m  tot: 0h4m12s  (29.0%)\rEpoch: 45.3%  lr: 0.035656  loss: 0.013323  eta: 0h9m  tot: 0h4m12s  (29.1%)\rEpoch: 45.4%  lr: 0.035646  loss: 0.013322  eta: 0h9m  tot: 0h4m12s  (29.1%)\rEpoch: 45.5%  lr: 0.035626  loss: 0.013317  eta: 0h9m  tot: 0h4m13s  (29.1%)\rEpoch: 45.6%  lr: 0.035626  loss: 0.013326  eta: 0h9m  tot: 0h4m13s  (29.1%)\rEpoch: 45.6%  lr: 0.035626  loss: 0.013323  eta: 0h9m  tot: 0h4m13s  (29.1%)\rEpoch: 45.7%  lr: 0.035626  loss: 0.013328  eta: 0h9m  tot: 0h4m13s  (29.1%)\rEpoch: 45.8%  lr: 0.035626  loss: 0.013319  eta: 0h9m  tot: 0h4m13s  (29.2%)\rEpoch: 45.9%  lr: 0.035626  loss: 0.013314  eta: 0h9m  tot: 0h4m13s  (29.2%)\rEpoch: 46.0%  lr: 0.035626  loss: 0.013313  eta: 0h9m  tot: 0h4m13s  (29.2%)\rEpoch: 46.1%  lr: 0.035626  loss: 0.013333  eta: 0h9m  tot: 0h4m14s  (29.2%)\rEpoch: 46.2%  lr: 0.035626  loss: 0.013338  eta: 0h9m  tot: 0h4m14s  (29.2%)\rEpoch: 46.3%  lr: 0.035616  loss: 0.013340  eta: 0h9m  tot: 0h4m14s  (29.3%)\rEpoch: 46.4%  lr: 0.035606  loss: 0.013351  eta: 0h9m  tot: 0h4m14s  (29.3%)\rEpoch: 46.5%  lr: 0.035596  loss: 0.013377  eta: 0h9m  tot: 0h4m14s  (29.3%)\rEpoch: 46.5%  lr: 0.035586  loss: 0.013382  eta: 0h9m  tot: 0h4m14s  (29.3%)\rEpoch: 46.6%  lr: 0.035586  loss: 0.013376  eta: 0h9m  tot: 0h4m14s  (29.3%)\rEpoch: 46.7%  lr: 0.035586  loss: 0.013377  eta: 0h9m  tot: 0h4m15s  (29.3%)\rEpoch: 46.8%  lr: 0.035576  loss: 0.013373  eta: 0h9m  tot: 0h4m15s  (29.4%)\rEpoch: 46.9%  lr: 0.035576  loss: 0.013364  eta: 0h9m  tot: 0h4m15s  (29.4%)\rEpoch: 47.0%  lr: 0.035576  loss: 0.013347  eta: 0h9m  tot: 0h4m15s  (29.4%)\rEpoch: 47.1%  lr: 0.035556  loss: 0.013344  eta: 0h9m  tot: 0h4m15s  (29.4%)\rEpoch: 47.2%  lr: 0.035556  loss: 0.013335  eta: 0h9m  tot: 0h4m15s  (29.4%)\rEpoch: 47.3%  lr: 0.035556  loss: 0.013323  eta: 0h9m  tot: 0h4m15s  (29.5%)\rEpoch: 47.4%  lr: 0.035546  loss: 0.013334  eta: 0h9m  tot: 0h4m16s  (29.5%)\rEpoch: 47.4%  lr: 0.035526  loss: 0.013321  eta: 0h9m  tot: 0h4m16s  (29.5%)\rEpoch: 47.5%  lr: 0.035506  loss: 0.013326  eta: 0h9m  tot: 0h4m16s  (29.5%)\rEpoch: 47.6%  lr: 0.035476  loss: 0.013328  eta: 0h9m  tot: 0h4m16s  (29.5%)\rEpoch: 47.7%  lr: 0.035476  loss: 0.013323  eta: 0h9m  tot: 0h4m16s  (29.5%)\rEpoch: 47.8%  lr: 0.035476  loss: 0.013328  eta: 0h9m  tot: 0h4m16s  (29.6%)\rEpoch: 47.9%  lr: 0.035466  loss: 0.013327  eta: 0h9m  tot: 0h4m17s  (29.6%)\rEpoch: 48.0%  lr: 0.035436  loss: 0.013324  eta: 0h9m  tot: 0h4m17s  (29.6%)\rEpoch: 48.1%  lr: 0.035405  loss: 0.013341  eta: 0h9m  tot: 0h4m17s  (29.6%)\rEpoch: 48.2%  lr: 0.035395  loss: 0.013346  eta: 0h9m  tot: 0h4m17s  (29.6%)\rEpoch: 48.3%  lr: 0.035395  loss: 0.013339  eta: 0h9m  tot: 0h4m17s  (29.7%)\rEpoch: 48.3%  lr: 0.035365  loss: 0.013380  eta: 0h9m  tot: 0h4m17s  (29.7%)\rEpoch: 48.4%  lr: 0.035355  loss: 0.013375  eta: 0h9m  tot: 0h4m17s  (29.7%)\rEpoch: 48.5%  lr: 0.035325  loss: 0.013378  eta: 0h9m  tot: 0h4m18s  (29.7%)\rEpoch: 48.6%  lr: 0.035325  loss: 0.013373  eta: 0h9m  tot: 0h4m18s  (29.7%)\rEpoch: 48.7%  lr: 0.035315  loss: 0.013369  eta: 0h9m  tot: 0h4m18s  (29.7%)\rEpoch: 48.8%  lr: 0.035285  loss: 0.013391  eta: 0h9m  tot: 0h4m18s  (29.8%)\rEpoch: 48.9%  lr: 0.035285  loss: 0.013375  eta: 0h9m  tot: 0h4m18s  (29.8%)\rEpoch: 49.0%  lr: 0.035265  loss: 0.013369  eta: 0h9m  tot: 0h4m18s  (29.8%)\rEpoch: 49.1%  lr: 0.035265  loss: 0.013361  eta: 0h9m  tot: 0h4m18s  (29.8%)\rEpoch: 49.2%  lr: 0.035265  loss: 0.013350  eta: 0h9m  tot: 0h4m19s  (29.8%)\rEpoch: 49.2%  lr: 0.035265  loss: 0.013337  eta: 0h9m  tot: 0h4m19s  (29.8%)\rEpoch: 49.3%  lr: 0.035245  loss: 0.013348  eta: 0h9m  tot: 0h4m19s  (29.9%)\rEpoch: 49.4%  lr: 0.035245  loss: 0.013338  eta: 0h9m  tot: 0h4m19s  (29.9%)\rEpoch: 49.5%  lr: 0.035235  loss: 0.013341  eta: 0h9m  tot: 0h4m19s  (29.9%)\rEpoch: 49.6%  lr: 0.035205  loss: 0.013337  eta: 0h9m  tot: 0h4m19s  (29.9%)\rEpoch: 49.7%  lr: 0.035195  loss: 0.013344  eta: 0h9m  tot: 0h4m20s  (29.9%)\rEpoch: 49.8%  lr: 0.035195  loss: 0.013330  eta: 0h9m  tot: 0h4m20s  (30.0%)\rEpoch: 49.9%  lr: 0.035185  loss: 0.013323  eta: 0h9m  tot: 0h4m20s  (30.0%)\rEpoch: 50.0%  lr: 0.035165  loss: 0.013307  eta: 0h9m  tot: 0h4m20s  (30.0%)\rEpoch: 50.1%  lr: 0.035155  loss: 0.013313  eta: 0h9m  tot: 0h4m20s  (30.0%)\rEpoch: 50.1%  lr: 0.035135  loss: 0.013317  eta: 0h9m  tot: 0h4m20s  (30.0%)\rEpoch: 50.2%  lr: 0.035125  loss: 0.013323  eta: 0h9m  tot: 0h4m20s  (30.0%)\rEpoch: 50.3%  lr: 0.035115  loss: 0.013350  eta: 0h9m  tot: 0h4m21s  (30.1%)\rEpoch: 50.4%  lr: 0.035115  loss: 0.013342  eta: 0h9m  tot: 0h4m21s  (30.1%)\rEpoch: 50.5%  lr: 0.035115  loss: 0.013351  eta: 0h9m  tot: 0h4m21s  (30.1%)\rEpoch: 50.6%  lr: 0.035105  loss: 0.013339  eta: 0h9m  tot: 0h4m21s  (30.1%)\rEpoch: 50.7%  lr: 0.035105  loss: 0.013411  eta: 0h9m  tot: 0h4m21s  (30.1%)\rEpoch: 50.8%  lr: 0.035095  loss: 0.013418  eta: 0h9m  tot: 0h4m21s  (30.2%)\rEpoch: 50.9%  lr: 0.035085  loss: 0.013407  eta: 0h9m  tot: 0h4m21s  (30.2%)\rEpoch: 51.0%  lr: 0.035085  loss: 0.013447  eta: 0h9m  tot: 0h4m22s  (30.2%)\rEpoch: 51.0%  lr: 0.035075  loss: 0.013442  eta: 0h9m  tot: 0h4m22s  (30.2%)\rEpoch: 51.1%  lr: 0.035075  loss: 0.013440  eta: 0h9m  tot: 0h4m22s  (30.2%)\rEpoch: 51.2%  lr: 0.035075  loss: 0.013429  eta: 0h9m  tot: 0h4m22s  (30.2%)\rEpoch: 51.3%  lr: 0.035075  loss: 0.013429  eta: 0h9m  tot: 0h4m22s  (30.3%)\rEpoch: 51.4%  lr: 0.035065  loss: 0.013432  eta: 0h9m  tot: 0h4m22s  (30.3%)\rEpoch: 51.5%  lr: 0.035065  loss: 0.013433  eta: 0h9m  tot: 0h4m23s  (30.3%)\rEpoch: 51.6%  lr: 0.035055  loss: 0.013428  eta: 0h9m  tot: 0h4m23s  (30.3%)\rEpoch: 51.7%  lr: 0.035055  loss: 0.013416  eta: 0h9m  tot: 0h4m23s  (30.3%)\rEpoch: 51.8%  lr: 0.035045  loss: 0.013417  eta: 0h9m  tot: 0h4m23s  (30.4%)\rEpoch: 51.9%  lr: 0.035045  loss: 0.013415  eta: 0h9m  tot: 0h4m23s  (30.4%)\rEpoch: 51.9%  lr: 0.035035  loss: 0.013408  eta: 0h9m  tot: 0h4m23s  (30.4%)\rEpoch: 52.0%  lr: 0.035025  loss: 0.013408  eta: 0h9m  tot: 0h4m23s  (30.4%)\rEpoch: 52.1%  lr: 0.035005  loss: 0.013412  eta: 0h9m  tot: 0h4m24s  (30.4%)\rEpoch: 52.2%  lr: 0.035005  loss: 0.013407  eta: 0h9m  tot: 0h4m24s  (30.4%)\rEpoch: 52.3%  lr: 0.035005  loss: 0.013409  eta: 0h9m  tot: 0h4m24s  (30.5%)\rEpoch: 52.4%  lr: 0.034995  loss: 0.013406  eta: 0h9m  tot: 0h4m24s  (30.5%)\rEpoch: 52.5%  lr: 0.034955  loss: 0.013405  eta: 0h9m  tot: 0h4m24s  (30.5%)\rEpoch: 52.6%  lr: 0.034945  loss: 0.013409  eta: 0h9m  tot: 0h4m24s  (30.5%)\rEpoch: 52.7%  lr: 0.034935  loss: 0.013413  eta: 0h9m  tot: 0h4m24s  (30.5%)\rEpoch: 52.8%  lr: 0.034935  loss: 0.013403  eta: 0h9m  tot: 0h4m25s  (30.6%)\rEpoch: 52.8%  lr: 0.034925  loss: 0.013421  eta: 0h9m  tot: 0h4m25s  (30.6%)\rEpoch: 52.9%  lr: 0.034925  loss: 0.013411  eta: 0h9m  tot: 0h4m25s  (30.6%)\rEpoch: 53.0%  lr: 0.034915  loss: 0.013425  eta: 0h9m  tot: 0h4m25s  (30.6%)\rEpoch: 53.1%  lr: 0.034915  loss: 0.013417  eta: 0h9m  tot: 0h4m25s  (30.6%)\rEpoch: 53.2%  lr: 0.034915  loss: 0.013403  eta: 0h9m  tot: 0h4m25s  (30.6%)\rEpoch: 53.3%  lr: 0.034915  loss: 0.013408  eta: 0h9m  tot: 0h4m25s  (30.7%)\rEpoch: 53.4%  lr: 0.034905  loss: 0.013409  eta: 0h9m  tot: 0h4m26s  (30.7%)\rEpoch: 53.5%  lr: 0.034875  loss: 0.013405  eta: 0h9m  tot: 0h4m26s  (30.7%)\rEpoch: 53.6%  lr: 0.034865  loss: 0.013412  eta: 0h9m  tot: 0h4m26s  (30.7%)\rEpoch: 53.7%  lr: 0.034865  loss: 0.013424  eta: 0h9m  tot: 0h4m26s  (30.7%)\rEpoch: 53.7%  lr: 0.034855  loss: 0.013451  eta: 0h9m  tot: 0h4m26s  (30.7%)\rEpoch: 53.8%  lr: 0.034825  loss: 0.013451  eta: 0h9m  tot: 0h4m26s  (30.8%)\rEpoch: 53.9%  lr: 0.034825  loss: 0.013461  eta: 0h9m  tot: 0h4m27s  (30.8%)\rEpoch: 54.0%  lr: 0.034815  loss: 0.013476  eta: 0h9m  tot: 0h4m27s  (30.8%)\rEpoch: 54.1%  lr: 0.034805  loss: 0.013481  eta: 0h9m  tot: 0h4m27s  (30.8%)\rEpoch: 54.2%  lr: 0.034805  loss: 0.013471  eta: 0h9m  tot: 0h4m27s  (30.8%)\rEpoch: 54.3%  lr: 0.034805  loss: 0.013471  eta: 0h9m  tot: 0h4m27s  (30.9%)\rEpoch: 54.4%  lr: 0.034785  loss: 0.013479  eta: 0h9m  tot: 0h4m27s  (30.9%)\rEpoch: 54.5%  lr: 0.034775  loss: 0.013475  eta: 0h9m  tot: 0h4m27s  (30.9%)\rEpoch: 54.6%  lr: 0.034765  loss: 0.013487  eta: 0h9m  tot: 0h4m28s  (30.9%)\rEpoch: 54.6%  lr: 0.034765  loss: 0.013472  eta: 0h9m  tot: 0h4m28s  (30.9%)\rEpoch: 54.7%  lr: 0.034765  loss: 0.013474  eta: 0h9m  tot: 0h4m28s  (30.9%)\rEpoch: 54.8%  lr: 0.034745  loss: 0.013463  eta: 0h9m  tot: 0h4m28s  (31.0%)\rEpoch: 54.9%  lr: 0.034745  loss: 0.013464  eta: 0h9m  tot: 0h4m28s  (31.0%)\rEpoch: 55.0%  lr: 0.034735  loss: 0.013465  eta: 0h9m  tot: 0h4m28s  (31.0%)\rEpoch: 55.1%  lr: 0.034735  loss: 0.013458  eta: 0h9m  tot: 0h4m28s  (31.0%)\rEpoch: 55.2%  lr: 0.034705  loss: 0.013460  eta: 0h9m  tot: 0h4m29s  (31.0%)\rEpoch: 55.3%  lr: 0.034705  loss: 0.013469  eta: 0h9m  tot: 0h4m29s  (31.1%)\rEpoch: 55.4%  lr: 0.034695  loss: 0.013476  eta: 0h9m  tot: 0h4m29s  (31.1%)\rEpoch: 55.5%  lr: 0.034675  loss: 0.013465  eta: 0h9m  tot: 0h4m29s  (31.1%)\rEpoch: 55.5%  lr: 0.034675  loss: 0.013458  eta: 0h9m  tot: 0h4m29s  (31.1%)\rEpoch: 55.6%  lr: 0.034675  loss: 0.013443  eta: 0h9m  tot: 0h4m29s  (31.1%)\rEpoch: 55.7%  lr: 0.034655  loss: 0.013433  eta: 0h9m  tot: 0h4m29s  (31.1%)\rEpoch: 55.8%  lr: 0.034645  loss: 0.013455  eta: 0h9m  tot: 0h4m30s  (31.2%)\rEpoch: 55.9%  lr: 0.034645  loss: 0.013459  eta: 0h9m  tot: 0h4m30s  (31.2%)\rEpoch: 56.0%  lr: 0.034625  loss: 0.013466  eta: 0h9m  tot: 0h4m30s  (31.2%)\rEpoch: 56.1%  lr: 0.034605  loss: 0.013471  eta: 0h9m  tot: 0h4m30s  (31.2%)\rEpoch: 56.2%  lr: 0.034605  loss: 0.013482  eta: 0h9m  tot: 0h4m30s  (31.2%)\rEpoch: 56.3%  lr: 0.034595  loss: 0.013477  eta: 0h9m  tot: 0h4m30s  (31.3%)\rEpoch: 56.4%  lr: 0.034585  loss: 0.013484  eta: 0h9m  tot: 0h4m31s  (31.3%)\rEpoch: 56.4%  lr: 0.034585  loss: 0.013480  eta: 0h9m  tot: 0h4m31s  (31.3%)\rEpoch: 56.5%  lr: 0.034585  loss: 0.013499  eta: 0h9m  tot: 0h4m31s  (31.3%)\rEpoch: 56.6%  lr: 0.034585  loss: 0.013499  eta: 0h9m  tot: 0h4m31s  (31.3%)\rEpoch: 56.7%  lr: 0.034575  loss: 0.013496  eta: 0h9m  tot: 0h4m31s  (31.3%)\rEpoch: 56.8%  lr: 0.034565  loss: 0.013484  eta: 0h9m  tot: 0h4m31s  (31.4%)\rEpoch: 56.9%  lr: 0.034565  loss: 0.013499  eta: 0h9m  tot: 0h4m31s  (31.4%)\rEpoch: 57.0%  lr: 0.034565  loss: 0.013498  eta: 0h9m  tot: 0h4m32s  (31.4%)\rEpoch: 57.1%  lr: 0.034555  loss: 0.013502  eta: 0h9m  tot: 0h4m32s  (31.4%)\rEpoch: 57.2%  lr: 0.034555  loss: 0.013493  eta: 0h9m  tot: 0h4m32s  (31.4%)\rEpoch: 57.3%  lr: 0.034535  loss: 0.013487  eta: 0h9m  tot: 0h4m32s  (31.5%)\rEpoch: 57.3%  lr: 0.034525  loss: 0.013494  eta: 0h9m  tot: 0h4m32s  (31.5%)\rEpoch: 57.4%  lr: 0.034505  loss: 0.013475  eta: 0h9m  tot: 0h4m32s  (31.5%)\rEpoch: 57.5%  lr: 0.034495  loss: 0.013463  eta: 0h9m  tot: 0h4m32s  (31.5%)\rEpoch: 57.6%  lr: 0.034475  loss: 0.013478  eta: 0h9m  tot: 0h4m33s  (31.5%)\rEpoch: 57.7%  lr: 0.034475  loss: 0.013475  eta: 0h9m  tot: 0h4m33s  (31.5%)\rEpoch: 57.8%  lr: 0.034465  loss: 0.013469  eta: 0h9m  tot: 0h4m33s  (31.6%)\rEpoch: 57.9%  lr: 0.034465  loss: 0.013470  eta: 0h9m  tot: 0h4m33s  (31.6%)\rEpoch: 58.0%  lr: 0.034445  loss: 0.013456  eta: 0h9m  tot: 0h4m33s  (31.6%)\rEpoch: 58.1%  lr: 0.034425  loss: 0.013458  eta: 0h9m  tot: 0h4m33s  (31.6%)\rEpoch: 58.2%  lr: 0.034425  loss: 0.013489  eta: 0h9m  tot: 0h4m33s  (31.6%)\rEpoch: 58.2%  lr: 0.034425  loss: 0.013486  eta: 0h9m  tot: 0h4m34s  (31.6%)\rEpoch: 58.3%  lr: 0.034425  loss: 0.013498  eta: 0h9m  tot: 0h4m34s  (31.7%)\rEpoch: 58.4%  lr: 0.034414  loss: 0.013510  eta: 0h9m  tot: 0h4m34s  (31.7%)\rEpoch: 58.5%  lr: 0.034394  loss: 0.013516  eta: 0h9m  tot: 0h4m34s  (31.7%)\rEpoch: 58.6%  lr: 0.034384  loss: 0.013503  eta: 0h9m  tot: 0h4m34s  (31.7%)\rEpoch: 58.7%  lr: 0.034384  loss: 0.013510  eta: 0h9m  tot: 0h4m34s  (31.7%)\rEpoch: 58.8%  lr: 0.034364  loss: 0.013514  eta: 0h9m  tot: 0h4m34s  (31.8%)\rEpoch: 58.9%  lr: 0.034364  loss: 0.013506  eta: 0h9m  tot: 0h4m35s  (31.8%)\rEpoch: 59.0%  lr: 0.034364  loss: 0.013498  eta: 0h9m  tot: 0h4m35s  (31.8%)\rEpoch: 59.1%  lr: 0.034364  loss: 0.013507  eta: 0h9m  tot: 0h4m35s  (31.8%)\rEpoch: 59.1%  lr: 0.034364  loss: 0.013510  eta: 0h9m  tot: 0h4m35s  (31.8%)\rEpoch: 59.2%  lr: 0.034364  loss: 0.013511  eta: 0h9m  tot: 0h4m35s  (31.8%)\rEpoch: 59.3%  lr: 0.034354  loss: 0.013516  eta: 0h9m  tot: 0h4m35s  (31.9%)\rEpoch: 59.4%  lr: 0.034354  loss: 0.013528  eta: 0h9m  tot: 0h4m35s  (31.9%)\rEpoch: 59.5%  lr: 0.034324  loss: 0.013538  eta: 0h9m  tot: 0h4m36s  (31.9%)\rEpoch: 59.6%  lr: 0.034304  loss: 0.013529  eta: 0h9m  tot: 0h4m36s  (31.9%)\rEpoch: 59.7%  lr: 0.034294  loss: 0.013528  eta: 0h9m  tot: 0h4m36s  (31.9%)\rEpoch: 59.8%  lr: 0.034294  loss: 0.013533  eta: 0h9m  tot: 0h4m36s  (32.0%)\rEpoch: 59.9%  lr: 0.034284  loss: 0.013535  eta: 0h9m  tot: 0h4m36s  (32.0%)\rEpoch: 60.0%  lr: 0.034284  loss: 0.013539  eta: 0h9m  tot: 0h4m36s  (32.0%)\rEpoch: 60.0%  lr: 0.034264  loss: 0.013534  eta: 0h9m  tot: 0h4m37s  (32.0%)\rEpoch: 60.1%  lr: 0.034254  loss: 0.013526  eta: 0h9m  tot: 0h4m37s  (32.0%)\rEpoch: 60.2%  lr: 0.034244  loss: 0.013517  eta: 0h9m  tot: 0h4m37s  (32.0%)\rEpoch: 60.3%  lr: 0.034244  loss: 0.013526  eta: 0h9m  tot: 0h4m37s  (32.1%)\rEpoch: 60.4%  lr: 0.034224  loss: 0.013521  eta: 0h9m  tot: 0h4m37s  (32.1%)\rEpoch: 60.5%  lr: 0.034214  loss: 0.013514  eta: 0h9m  tot: 0h4m37s  (32.1%)\rEpoch: 60.6%  lr: 0.034204  loss: 0.013518  eta: 0h9m  tot: 0h4m37s  (32.1%)\rEpoch: 60.7%  lr: 0.034184  loss: 0.013515  eta: 0h9m  tot: 0h4m38s  (32.1%)\rEpoch: 60.8%  lr: 0.034174  loss: 0.013503  eta: 0h9m  tot: 0h4m38s  (32.2%)\rEpoch: 60.9%  lr: 0.034164  loss: 0.013513  eta: 0h9m  tot: 0h4m38s  (32.2%)\rEpoch: 60.9%  lr: 0.034164  loss: 0.013518  eta: 0h9m  tot: 0h4m38s  (32.2%)\rEpoch: 61.0%  lr: 0.034134  loss: 0.013512  eta: 0h9m  tot: 0h4m38s  (32.2%)\rEpoch: 61.1%  lr: 0.034124  loss: 0.013501  eta: 0h9m  tot: 0h4m38s  (32.2%)\rEpoch: 61.2%  lr: 0.034124  loss: 0.013486  eta: 0h9m  tot: 0h4m38s  (32.2%)\rEpoch: 61.3%  lr: 0.034114  loss: 0.013495  eta: 0h9m  tot: 0h4m39s  (32.3%)\rEpoch: 61.4%  lr: 0.034114  loss: 0.013517  eta: 0h9m  tot: 0h4m39s  (32.3%)\rEpoch: 61.5%  lr: 0.034104  loss: 0.013527  eta: 0h9m  tot: 0h4m39s  (32.3%)\rEpoch: 61.6%  lr: 0.034104  loss: 0.013514  eta: 0h9m  tot: 0h4m39s  (32.3%)\rEpoch: 61.7%  lr: 0.034094  loss: 0.013520  eta: 0h9m  tot: 0h4m39s  (32.3%)\rEpoch: 61.8%  lr: 0.034074  loss: 0.013522  eta: 0h9m  tot: 0h4m39s  (32.4%)\rEpoch: 61.8%  lr: 0.034064  loss: 0.013516  eta: 0h9m  tot: 0h4m40s  (32.4%)\rEpoch: 61.9%  lr: 0.034064  loss: 0.013516  eta: 0h9m  tot: 0h4m40s  (32.4%)\rEpoch: 62.0%  lr: 0.034054  loss: 0.013510  eta: 0h9m  tot: 0h4m40s  (32.4%)\rEpoch: 62.1%  lr: 0.034034  loss: 0.013518  eta: 0h9m  tot: 0h4m40s  (32.4%)\rEpoch: 62.2%  lr: 0.034034  loss: 0.013506  eta: 0h9m  tot: 0h4m40s  (32.4%)\rEpoch: 62.3%  lr: 0.034034  loss: 0.013499  eta: 0h9m  tot: 0h4m40s  (32.5%)\rEpoch: 62.4%  lr: 0.034024  loss: 0.013502  eta: 0h9m  tot: 0h4m40s  (32.5%)\rEpoch: 62.5%  lr: 0.034024  loss: 0.013499  eta: 0h9m  tot: 0h4m41s  (32.5%)\rEpoch: 62.6%  lr: 0.034024  loss: 0.013499  eta: 0h9m  tot: 0h4m41s  (32.5%)\rEpoch: 62.7%  lr: 0.034004  loss: 0.013484  eta: 0h9m  tot: 0h4m41s  (32.5%)\rEpoch: 62.7%  lr: 0.034004  loss: 0.013479  eta: 0h9m  tot: 0h4m41s  (32.5%)\rEpoch: 62.8%  lr: 0.034004  loss: 0.013496  eta: 0h9m  tot: 0h4m41s  (32.6%)\rEpoch: 62.9%  lr: 0.034004  loss: 0.013507  eta: 0h9m  tot: 0h4m41s  (32.6%)\rEpoch: 63.0%  lr: 0.033994  loss: 0.013497  eta: 0h9m  tot: 0h4m41s  (32.6%)\rEpoch: 63.1%  lr: 0.033974  loss: 0.013487  eta: 0h9m  tot: 0h4m42s  (32.6%)\rEpoch: 63.2%  lr: 0.033964  loss: 0.013481  eta: 0h9m  tot: 0h4m42s  (32.6%)\rEpoch: 63.3%  lr: 0.033924  loss: 0.013484  eta: 0h9m  tot: 0h4m42s  (32.7%)\rEpoch: 63.4%  lr: 0.033914  loss: 0.013479  eta: 0h9m  tot: 0h4m42s  (32.7%)\rEpoch: 63.5%  lr: 0.033894  loss: 0.013477  eta: 0h9m  tot: 0h4m42s  (32.7%)\rEpoch: 63.6%  lr: 0.033894  loss: 0.013475  eta: 0h9m  tot: 0h4m42s  (32.7%)\rEpoch: 63.6%  lr: 0.033874  loss: 0.013468  eta: 0h9m  tot: 0h4m42s  (32.7%)\rEpoch: 63.7%  lr: 0.033854  loss: 0.013458  eta: 0h9m  tot: 0h4m43s  (32.7%)\rEpoch: 63.8%  lr: 0.033834  loss: 0.013452  eta: 0h9m  tot: 0h4m43s  (32.8%)\rEpoch: 63.9%  lr: 0.033834  loss: 0.013476  eta: 0h9m  tot: 0h4m43s  (32.8%)\rEpoch: 64.0%  lr: 0.033824  loss: 0.013473  eta: 0h9m  tot: 0h4m43s  (32.8%)\rEpoch: 64.1%  lr: 0.033814  loss: 0.013498  eta: 0h9m  tot: 0h4m43s  (32.8%)\rEpoch: 64.2%  lr: 0.033814  loss: 0.013492  eta: 0h9m  tot: 0h4m43s  (32.8%)\rEpoch: 64.3%  lr: 0.033804  loss: 0.013497  eta: 0h9m  tot: 0h4m43s  (32.9%)\rEpoch: 64.4%  lr: 0.033774  loss: 0.013498  eta: 0h9m  tot: 0h4m44s  (32.9%)\rEpoch: 64.5%  lr: 0.033764  loss: 0.013513  eta: 0h9m  tot: 0h4m44s  (32.9%)\rEpoch: 64.5%  lr: 0.033754  loss: 0.013501  eta: 0h9m  tot: 0h4m44s  (32.9%)\rEpoch: 64.6%  lr: 0.033734  loss: 0.013522  eta: 0h9m  tot: 0h4m44s  (32.9%)\rEpoch: 64.7%  lr: 0.033704  loss: 0.013516  eta: 0h9m  tot: 0h4m44s  (32.9%)\rEpoch: 64.8%  lr: 0.033674  loss: 0.013521  eta: 0h9m  tot: 0h4m44s  (33.0%)\rEpoch: 64.9%  lr: 0.033654  loss: 0.013524  eta: 0h9m  tot: 0h4m45s  (33.0%)\rEpoch: 65.0%  lr: 0.033634  loss: 0.013516  eta: 0h9m  tot: 0h4m45s  (33.0%)\rEpoch: 65.1%  lr: 0.033634  loss: 0.013527  eta: 0h9m  tot: 0h4m45s  (33.0%)\rEpoch: 65.2%  lr: 0.033624  loss: 0.013525  eta: 0h9m  tot: 0h4m45s  (33.0%)\rEpoch: 65.3%  lr: 0.033614  loss: 0.013523  eta: 0h9m  tot: 0h4m45s  (33.1%)\rEpoch: 65.4%  lr: 0.033614  loss: 0.013518  eta: 0h9m  tot: 0h4m45s  (33.1%)\rEpoch: 65.4%  lr: 0.033614  loss: 0.013511  eta: 0h9m  tot: 0h4m45s  (33.1%)\rEpoch: 65.5%  lr: 0.033604  loss: 0.013523  eta: 0h9m  tot: 0h4m46s  (33.1%)\rEpoch: 65.6%  lr: 0.033584  loss: 0.013521  eta: 0h9m  tot: 0h4m46s  (33.1%)\rEpoch: 65.7%  lr: 0.033584  loss: 0.013524  eta: 0h9m  tot: 0h4m46s  (33.1%)\rEpoch: 65.8%  lr: 0.033574  loss: 0.013517  eta: 0h9m  tot: 0h4m46s  (33.2%)\rEpoch: 65.9%  lr: 0.033564  loss: 0.013504  eta: 0h9m  tot: 0h4m46s  (33.2%)\rEpoch: 66.0%  lr: 0.033554  loss: 0.013512  eta: 0h9m  tot: 0h4m46s  (33.2%)\rEpoch: 66.1%  lr: 0.033544  loss: 0.013512  eta: 0h9m  tot: 0h4m46s  (33.2%)\rEpoch: 66.2%  lr: 0.033544  loss: 0.013510  eta: 0h9m  tot: 0h4m47s  (33.2%)\rEpoch: 66.3%  lr: 0.033524  loss: 0.013511  eta: 0h9m  tot: 0h4m47s  (33.3%)\rEpoch: 66.3%  lr: 0.033514  loss: 0.013512  eta: 0h9m  tot: 0h4m47s  (33.3%)\rEpoch: 66.4%  lr: 0.033514  loss: 0.013499  eta: 0h9m  tot: 0h4m47s  (33.3%)\rEpoch: 66.5%  lr: 0.033514  loss: 0.013498  eta: 0h9m  tot: 0h4m47s  (33.3%)\rEpoch: 66.6%  lr: 0.033494  loss: 0.013496  eta: 0h9m  tot: 0h4m47s  (33.3%)\rEpoch: 66.7%  lr: 0.033464  loss: 0.013491  eta: 0h9m  tot: 0h4m47s  (33.3%)\rEpoch: 66.8%  lr: 0.033464  loss: 0.013486  eta: 0h9m  tot: 0h4m48s  (33.4%)\rEpoch: 66.9%  lr: 0.033464  loss: 0.013475  eta: 0h9m  tot: 0h4m48s  (33.4%)\rEpoch: 67.0%  lr: 0.033454  loss: 0.013484  eta: 0h9m  tot: 0h4m48s  (33.4%)\rEpoch: 67.1%  lr: 0.033454  loss: 0.013483  eta: 0h9m  tot: 0h4m48s  (33.4%)\rEpoch: 67.2%  lr: 0.033454  loss: 0.013478  eta: 0h9m  tot: 0h4m48s  (33.4%)\rEpoch: 67.2%  lr: 0.033454  loss: 0.013468  eta: 0h9m  tot: 0h4m48s  (33.4%)\rEpoch: 67.3%  lr: 0.033444  loss: 0.013469  eta: 0h9m  tot: 0h4m48s  (33.5%)\rEpoch: 67.4%  lr: 0.033444  loss: 0.013464  eta: 0h9m  tot: 0h4m49s  (33.5%)\rEpoch: 67.5%  lr: 0.033434  loss: 0.013456  eta: 0h9m  tot: 0h4m49s  (33.5%)\rEpoch: 67.6%  lr: 0.033434  loss: 0.013456  eta: 0h9m  tot: 0h4m49s  (33.5%)\rEpoch: 67.7%  lr: 0.033424  loss: 0.013470  eta: 0h9m  tot: 0h4m49s  (33.5%)\rEpoch: 67.8%  lr: 0.033414  loss: 0.013466  eta: 0h9m  tot: 0h4m49s  (33.6%)\rEpoch: 67.9%  lr: 0.033414  loss: 0.013458  eta: 0h9m  tot: 0h4m49s  (33.6%)\rEpoch: 68.0%  lr: 0.033404  loss: 0.013452  eta: 0h9m  tot: 0h4m49s  (33.6%)\rEpoch: 68.1%  lr: 0.033404  loss: 0.013451  eta: 0h9m  tot: 0h4m50s  (33.6%)\rEpoch: 68.1%  lr: 0.033404  loss: 0.013443  eta: 0h9m  tot: 0h4m50s  (33.6%)\rEpoch: 68.2%  lr: 0.033404  loss: 0.013442  eta: 0h9m  tot: 0h4m50s  (33.6%)\rEpoch: 68.3%  lr: 0.033383  loss: 0.013431  eta: 0h9m  tot: 0h4m50s  (33.7%)\rEpoch: 68.4%  lr: 0.033373  loss: 0.013422  eta: 0h9m  tot: 0h4m50s  (33.7%)\rEpoch: 68.5%  lr: 0.033373  loss: 0.013411  eta: 0h9m  tot: 0h4m50s  (33.7%)\rEpoch: 68.6%  lr: 0.033343  loss: 0.013403  eta: 0h9m  tot: 0h4m50s  (33.7%)\rEpoch: 68.7%  lr: 0.033323  loss: 0.013409  eta: 0h9m  tot: 0h4m51s  (33.7%)\rEpoch: 68.8%  lr: 0.033303  loss: 0.013405  eta: 0h9m  tot: 0h4m51s  (33.8%)\rEpoch: 68.9%  lr: 0.033293  loss: 0.013417  eta: 0h9m  tot: 0h4m51s  (33.8%)\rEpoch: 69.0%  lr: 0.033293  loss: 0.013418  eta: 0h9m  tot: 0h4m51s  (33.8%)\rEpoch: 69.0%  lr: 0.033293  loss: 0.013441  eta: 0h9m  tot: 0h4m51s  (33.8%)\rEpoch: 69.1%  lr: 0.033283  loss: 0.013440  eta: 0h9m  tot: 0h4m51s  (33.8%)\rEpoch: 69.2%  lr: 0.033283  loss: 0.013437  eta: 0h9m  tot: 0h4m52s  (33.8%)\rEpoch: 69.3%  lr: 0.033263  loss: 0.013436  eta: 0h9m  tot: 0h4m52s  (33.9%)\rEpoch: 69.4%  lr: 0.033253  loss: 0.013431  eta: 0h9m  tot: 0h4m52s  (33.9%)\rEpoch: 69.5%  lr: 0.033233  loss: 0.013427  eta: 0h9m  tot: 0h4m52s  (33.9%)\rEpoch: 69.6%  lr: 0.033223  loss: 0.013419  eta: 0h9m  tot: 0h4m52s  (33.9%)\rEpoch: 69.7%  lr: 0.033203  loss: 0.013416  eta: 0h9m  tot: 0h4m52s  (33.9%)\rEpoch: 69.8%  lr: 0.033183  loss: 0.013401  eta: 0h9m  tot: 0h4m52s  (34.0%)\rEpoch: 69.9%  lr: 0.033173  loss: 0.013388  eta: 0h9m  tot: 0h4m53s  (34.0%)\rEpoch: 69.9%  lr: 0.033153  loss: 0.013382  eta: 0h9m  tot: 0h4m53s  (34.0%)\rEpoch: 70.0%  lr: 0.033123  loss: 0.013389  eta: 0h9m  tot: 0h4m53s  (34.0%)\rEpoch: 70.1%  lr: 0.033123  loss: 0.013379  eta: 0h9m  tot: 0h4m53s  (34.0%)\rEpoch: 70.2%  lr: 0.033123  loss: 0.013375  eta: 0h9m  tot: 0h4m53s  (34.0%)\rEpoch: 70.3%  lr: 0.033123  loss: 0.013386  eta: 0h9m  tot: 0h4m53s  (34.1%)\rEpoch: 70.4%  lr: 0.033103  loss: 0.013398  eta: 0h9m  tot: 0h4m53s  (34.1%)\rEpoch: 70.5%  lr: 0.033093  loss: 0.013402  eta: 0h9m  tot: 0h4m54s  (34.1%)\rEpoch: 70.6%  lr: 0.033093  loss: 0.013408  eta: 0h9m  tot: 0h4m54s  (34.1%)\rEpoch: 70.7%  lr: 0.033093  loss: 0.013402  eta: 0h9m  tot: 0h4m54s  (34.1%)\rEpoch: 70.8%  lr: 0.033083  loss: 0.013400  eta: 0h9m  tot: 0h4m54s  (34.2%)\rEpoch: 70.8%  lr: 0.033083  loss: 0.013402  eta: 0h9m  tot: 0h4m54s  (34.2%)\rEpoch: 70.9%  lr: 0.033073  loss: 0.013424  eta: 0h9m  tot: 0h4m54s  (34.2%)\rEpoch: 71.0%  lr: 0.033043  loss: 0.013425  eta: 0h9m  tot: 0h4m54s  (34.2%)\rEpoch: 71.1%  lr: 0.033043  loss: 0.013434  eta: 0h8m  tot: 0h4m55s  (34.2%)\rEpoch: 71.2%  lr: 0.033033  loss: 0.013426  eta: 0h8m  tot: 0h4m55s  (34.2%)\rEpoch: 71.3%  lr: 0.033023  loss: 0.013420  eta: 0h8m  tot: 0h4m55s  (34.3%)\rEpoch: 71.4%  lr: 0.032993  loss: 0.013417  eta: 0h8m  tot: 0h4m55s  (34.3%)\rEpoch: 71.5%  lr: 0.032973  loss: 0.013425  eta: 0h8m  tot: 0h4m55s  (34.3%)\rEpoch: 71.6%  lr: 0.032973  loss: 0.013413  eta: 0h8m  tot: 0h4m55s  (34.3%)\rEpoch: 71.7%  lr: 0.032963  loss: 0.013419  eta: 0h8m  tot: 0h4m56s  (34.3%)\rEpoch: 71.7%  lr: 0.032963  loss: 0.013413  eta: 0h8m  tot: 0h4m56s  (34.3%)\rEpoch: 71.8%  lr: 0.032943  loss: 0.013408  eta: 0h8m  tot: 0h4m56s  (34.4%)\rEpoch: 71.9%  lr: 0.032933  loss: 0.013400  eta: 0h8m  tot: 0h4m56s  (34.4%)\rEpoch: 72.0%  lr: 0.032923  loss: 0.013390  eta: 0h8m  tot: 0h4m56s  (34.4%)\rEpoch: 72.1%  lr: 0.032913  loss: 0.013379  eta: 0h8m  tot: 0h4m56s  (34.4%)\rEpoch: 72.2%  lr: 0.032903  loss: 0.013378  eta: 0h8m  tot: 0h4m56s  (34.4%)\rEpoch: 72.3%  lr: 0.032893  loss: 0.013377  eta: 0h8m  tot: 0h4m56s  (34.5%)\rEpoch: 72.4%  lr: 0.032893  loss: 0.013373  eta: 0h8m  tot: 0h4m57s  (34.5%)\rEpoch: 72.5%  lr: 0.032883  loss: 0.013369  eta: 0h8m  tot: 0h4m57s  (34.5%)\rEpoch: 72.6%  lr: 0.032883  loss: 0.013364  eta: 0h8m  tot: 0h4m57s  (34.5%)\rEpoch: 72.6%  lr: 0.032883  loss: 0.013364  eta: 0h8m  tot: 0h4m57s  (34.5%)\rEpoch: 72.7%  lr: 0.032873  loss: 0.013364  eta: 0h8m  tot: 0h4m57s  (34.5%)\rEpoch: 72.8%  lr: 0.032873  loss: 0.013362  eta: 0h8m  tot: 0h4m57s  (34.6%)\rEpoch: 72.9%  lr: 0.032863  loss: 0.013349  eta: 0h8m  tot: 0h4m57s  (34.6%)\rEpoch: 73.0%  lr: 0.032843  loss: 0.013341  eta: 0h8m  tot: 0h4m58s  (34.6%)\rEpoch: 73.1%  lr: 0.032833  loss: 0.013335  eta: 0h8m  tot: 0h4m58s  (34.6%)\rEpoch: 73.2%  lr: 0.032833  loss: 0.013333  eta: 0h8m  tot: 0h4m58s  (34.6%)\rEpoch: 73.3%  lr: 0.032833  loss: 0.013336  eta: 0h8m  tot: 0h4m58s  (34.7%)\rEpoch: 73.4%  lr: 0.032833  loss: 0.013330  eta: 0h8m  tot: 0h4m58s  (34.7%)\rEpoch: 73.5%  lr: 0.032833  loss: 0.013322  eta: 0h8m  tot: 0h4m58s  (34.7%)\rEpoch: 73.5%  lr: 0.032823  loss: 0.013321  eta: 0h8m  tot: 0h4m58s  (34.7%)\rEpoch: 73.6%  lr: 0.032813  loss: 0.013316  eta: 0h8m  tot: 0h4m59s  (34.7%)\rEpoch: 73.7%  lr: 0.032803  loss: 0.013321  eta: 0h8m  tot: 0h4m59s  (34.7%)\rEpoch: 73.8%  lr: 0.032793  loss: 0.013315  eta: 0h8m  tot: 0h4m59s  (34.8%)\rEpoch: 73.9%  lr: 0.032773  loss: 0.013302  eta: 0h8m  tot: 0h4m59s  (34.8%)\rEpoch: 74.0%  lr: 0.032743  loss: 0.013305  eta: 0h8m  tot: 0h4m59s  (34.8%)\rEpoch: 74.1%  lr: 0.032723  loss: 0.013304  eta: 0h8m  tot: 0h4m59s  (34.8%)\rEpoch: 74.2%  lr: 0.032713  loss: 0.013306  eta: 0h8m  tot: 0h4m59s  (34.8%)\rEpoch: 74.3%  lr: 0.032683  loss: 0.013295  eta: 0h8m  tot: 0h5m0s  (34.9%)\rEpoch: 74.4%  lr: 0.032673  loss: 0.013304  eta: 0h8m  tot: 0h5m0s  (34.9%)\rEpoch: 74.4%  lr: 0.032673  loss: 0.013299  eta: 0h8m  tot: 0h5m0s  (34.9%)\rEpoch: 74.5%  lr: 0.032673  loss: 0.013298  eta: 0h8m  tot: 0h5m0s  (34.9%)\rEpoch: 74.6%  lr: 0.032663  loss: 0.013296  eta: 0h8m  tot: 0h5m0s  (34.9%)\rEpoch: 74.7%  lr: 0.032653  loss: 0.013299  eta: 0h8m  tot: 0h5m0s  (34.9%)\rEpoch: 74.8%  lr: 0.032643  loss: 0.013290  eta: 0h8m  tot: 0h5m0s  (35.0%)\rEpoch: 74.9%  lr: 0.032633  loss: 0.013288  eta: 0h8m  tot: 0h5m1s  (35.0%)\rEpoch: 75.0%  lr: 0.032633  loss: 0.013278  eta: 0h8m  tot: 0h5m1s  (35.0%)\rEpoch: 75.1%  lr: 0.032613  loss: 0.013280  eta: 0h8m  tot: 0h5m1s  (35.0%)\rEpoch: 75.2%  lr: 0.032613  loss: 0.013284  eta: 0h8m  tot: 0h5m1s  (35.0%)\rEpoch: 75.3%  lr: 0.032613  loss: 0.013295  eta: 0h8m  tot: 0h5m1s  (35.1%)\rEpoch: 75.3%  lr: 0.032613  loss: 0.013305  eta: 0h8m  tot: 0h5m1s  (35.1%)\rEpoch: 75.4%  lr: 0.032613  loss: 0.013312  eta: 0h8m  tot: 0h5m1s  (35.1%)\rEpoch: 75.5%  lr: 0.032613  loss: 0.013316  eta: 0h8m  tot: 0h5m2s  (35.1%)\rEpoch: 75.6%  lr: 0.032593  loss: 0.013312  eta: 0h8m  tot: 0h5m2s  (35.1%)\rEpoch: 75.7%  lr: 0.032583  loss: 0.013316  eta: 0h8m  tot: 0h5m2s  (35.1%)\rEpoch: 75.8%  lr: 0.032563  loss: 0.013326  eta: 0h8m  tot: 0h5m2s  (35.2%)\rEpoch: 75.9%  lr: 0.032533  loss: 0.013328  eta: 0h8m  tot: 0h5m2s  (35.2%)\rEpoch: 76.0%  lr: 0.032533  loss: 0.013323  eta: 0h8m  tot: 0h5m2s  (35.2%)\rEpoch: 76.1%  lr: 0.032533  loss: 0.013311  eta: 0h8m  tot: 0h5m3s  (35.2%)\rEpoch: 76.2%  lr: 0.032523  loss: 0.013301  eta: 0h8m  tot: 0h5m3s  (35.2%)\rEpoch: 76.2%  lr: 0.032523  loss: 0.013290  eta: 0h8m  tot: 0h5m3s  (35.2%)\rEpoch: 76.3%  lr: 0.032503  loss: 0.013286  eta: 0h8m  tot: 0h5m3s  (35.3%)\rEpoch: 76.4%  lr: 0.032483  loss: 0.013280  eta: 0h8m  tot: 0h5m3s  (35.3%)\rEpoch: 76.5%  lr: 0.032463  loss: 0.013283  eta: 0h8m  tot: 0h5m3s  (35.3%)\rEpoch: 76.6%  lr: 0.032463  loss: 0.013285  eta: 0h8m  tot: 0h5m3s  (35.3%)\rEpoch: 76.7%  lr: 0.032463  loss: 0.013292  eta: 0h8m  tot: 0h5m4s  (35.3%)\rEpoch: 76.8%  lr: 0.032463  loss: 0.013285  eta: 0h8m  tot: 0h5m4s  (35.4%)\rEpoch: 76.9%  lr: 0.032463  loss: 0.013281  eta: 0h8m  tot: 0h5m4s  (35.4%)\rEpoch: 77.0%  lr: 0.032453  loss: 0.013276  eta: 0h8m  tot: 0h5m4s  (35.4%)\rEpoch: 77.1%  lr: 0.032453  loss: 0.013272  eta: 0h8m  tot: 0h5m4s  (35.4%)\rEpoch: 77.1%  lr: 0.032423  loss: 0.013269  eta: 0h8m  tot: 0h5m4s  (35.4%)\rEpoch: 77.2%  lr: 0.032413  loss: 0.013272  eta: 0h8m  tot: 0h5m4s  (35.4%)\rEpoch: 77.3%  lr: 0.032413  loss: 0.013271  eta: 0h8m  tot: 0h5m5s  (35.5%)\rEpoch: 77.4%  lr: 0.032413  loss: 0.013278  eta: 0h8m  tot: 0h5m5s  (35.5%)\rEpoch: 77.5%  lr: 0.032413  loss: 0.013277  eta: 0h8m  tot: 0h5m5s  (35.5%)\rEpoch: 77.6%  lr: 0.032393  loss: 0.013278  eta: 0h8m  tot: 0h5m5s  (35.5%)\rEpoch: 77.7%  lr: 0.032382  loss: 0.013272  eta: 0h8m  tot: 0h5m5s  (35.5%)\rEpoch: 77.8%  lr: 0.032372  loss: 0.013282  eta: 0h8m  tot: 0h5m5s  (35.6%)\rEpoch: 77.9%  lr: 0.032352  loss: 0.013291  eta: 0h8m  tot: 0h5m5s  (35.6%)\rEpoch: 78.0%  lr: 0.032342  loss: 0.013291  eta: 0h8m  tot: 0h5m6s  (35.6%)\rEpoch: 78.0%  lr: 0.032322  loss: 0.013306  eta: 0h8m  tot: 0h5m6s  (35.6%)\rEpoch: 78.1%  lr: 0.032322  loss: 0.013306  eta: 0h8m  tot: 0h5m6s  (35.6%)\rEpoch: 78.2%  lr: 0.032302  loss: 0.013303  eta: 0h8m  tot: 0h5m6s  (35.6%)\rEpoch: 78.3%  lr: 0.032302  loss: 0.013308  eta: 0h8m  tot: 0h5m6s  (35.7%)\rEpoch: 78.4%  lr: 0.032302  loss: 0.013308  eta: 0h8m  tot: 0h5m6s  (35.7%)\rEpoch: 78.5%  lr: 0.032292  loss: 0.013299  eta: 0h8m  tot: 0h5m6s  (35.7%)\rEpoch: 78.6%  lr: 0.032292  loss: 0.013292  eta: 0h8m  tot: 0h5m7s  (35.7%)\rEpoch: 78.7%  lr: 0.032282  loss: 0.013288  eta: 0h8m  tot: 0h5m7s  (35.7%)\rEpoch: 78.8%  lr: 0.032272  loss: 0.013287  eta: 0h8m  tot: 0h5m7s  (35.8%)\rEpoch: 78.9%  lr: 0.032272  loss: 0.013280  eta: 0h8m  tot: 0h5m7s  (35.8%)\rEpoch: 78.9%  lr: 0.032252  loss: 0.013280  eta: 0h8m  tot: 0h5m7s  (35.8%)\rEpoch: 79.0%  lr: 0.032222  loss: 0.013283  eta: 0h8m  tot: 0h5m7s  (35.8%)\rEpoch: 79.1%  lr: 0.032212  loss: 0.013282  eta: 0h8m  tot: 0h5m8s  (35.8%)\rEpoch: 79.2%  lr: 0.032212  loss: 0.013292  eta: 0h8m  tot: 0h5m8s  (35.8%)\rEpoch: 79.3%  lr: 0.032192  loss: 0.013290  eta: 0h8m  tot: 0h5m8s  (35.9%)\rEpoch: 79.4%  lr: 0.032182  loss: 0.013282  eta: 0h8m  tot: 0h5m8s  (35.9%)\rEpoch: 79.5%  lr: 0.032172  loss: 0.013274  eta: 0h8m  tot: 0h5m8s  (35.9%)\rEpoch: 79.6%  lr: 0.032162  loss: 0.013287  eta: 0h8m  tot: 0h5m8s  (35.9%)\rEpoch: 79.7%  lr: 0.032162  loss: 0.013279  eta: 0h8m  tot: 0h5m8s  (35.9%)\rEpoch: 79.8%  lr: 0.032162  loss: 0.013274  eta: 0h8m  tot: 0h5m9s  (36.0%)\rEpoch: 79.9%  lr: 0.032142  loss: 0.013270  eta: 0h8m  tot: 0h5m9s  (36.0%)\rEpoch: 79.9%  lr: 0.032122  loss: 0.013267  eta: 0h8m  tot: 0h5m9s  (36.0%)\rEpoch: 80.0%  lr: 0.032122  loss: 0.013260  eta: 0h8m  tot: 0h5m9s  (36.0%)\rEpoch: 80.1%  lr: 0.032122  loss: 0.013251  eta: 0h8m  tot: 0h5m9s  (36.0%)\rEpoch: 80.2%  lr: 0.032092  loss: 0.013251  eta: 0h8m  tot: 0h5m9s  (36.0%)\rEpoch: 80.3%  lr: 0.032092  loss: 0.013259  eta: 0h8m  tot: 0h5m9s  (36.1%)\rEpoch: 80.4%  lr: 0.032082  loss: 0.013270  eta: 0h8m  tot: 0h5m10s  (36.1%)\rEpoch: 80.5%  lr: 0.032072  loss: 0.013264  eta: 0h8m  tot: 0h5m10s  (36.1%)\rEpoch: 80.6%  lr: 0.032072  loss: 0.013262  eta: 0h8m  tot: 0h5m10s  (36.1%)\rEpoch: 80.7%  lr: 0.032062  loss: 0.013258  eta: 0h8m  tot: 0h5m10s  (36.1%)\rEpoch: 80.8%  lr: 0.032062  loss: 0.013250  eta: 0h8m  tot: 0h5m10s  (36.2%)\rEpoch: 80.8%  lr: 0.032052  loss: 0.013247  eta: 0h8m  tot: 0h5m10s  (36.2%)\rEpoch: 80.9%  lr: 0.032052  loss: 0.013250  eta: 0h8m  tot: 0h5m10s  (36.2%)\rEpoch: 81.0%  lr: 0.032042  loss: 0.013243  eta: 0h8m  tot: 0h5m11s  (36.2%)\rEpoch: 81.1%  lr: 0.032022  loss: 0.013236  eta: 0h8m  tot: 0h5m11s  (36.2%)\rEpoch: 81.2%  lr: 0.032002  loss: 0.013233  eta: 0h8m  tot: 0h5m11s  (36.2%)\rEpoch: 81.3%  lr: 0.032002  loss: 0.013228  eta: 0h8m  tot: 0h5m11s  (36.3%)\rEpoch: 81.4%  lr: 0.032002  loss: 0.013239  eta: 0h8m  tot: 0h5m11s  (36.3%)\rEpoch: 81.5%  lr: 0.032002  loss: 0.013237  eta: 0h8m  tot: 0h5m11s  (36.3%)\rEpoch: 81.6%  lr: 0.031972  loss: 0.013244  eta: 0h8m  tot: 0h5m11s  (36.3%)\rEpoch: 81.7%  lr: 0.031962  loss: 0.013243  eta: 0h8m  tot: 0h5m12s  (36.3%)\rEpoch: 81.7%  lr: 0.031922  loss: 0.013243  eta: 0h8m  tot: 0h5m12s  (36.3%)\rEpoch: 81.8%  lr: 0.031902  loss: 0.013247  eta: 0h8m  tot: 0h5m12s  (36.4%)\rEpoch: 81.9%  lr: 0.031892  loss: 0.013266  eta: 0h8m  tot: 0h5m12s  (36.4%)\rEpoch: 82.0%  lr: 0.031862  loss: 0.013262  eta: 0h8m  tot: 0h5m12s  (36.4%)\rEpoch: 82.1%  lr: 0.031862  loss: 0.013274  eta: 0h8m  tot: 0h5m12s  (36.4%)\rEpoch: 82.2%  lr: 0.031842  loss: 0.013269  eta: 0h8m  tot: 0h5m12s  (36.4%)\rEpoch: 82.3%  lr: 0.031832  loss: 0.013283  eta: 0h8m  tot: 0h5m13s  (36.5%)\rEpoch: 82.4%  lr: 0.031832  loss: 0.013281  eta: 0h8m  tot: 0h5m13s  (36.5%)\rEpoch: 82.5%  lr: 0.031822  loss: 0.013278  eta: 0h8m  tot: 0h5m13s  (36.5%)\rEpoch: 82.6%  lr: 0.031812  loss: 0.013287  eta: 0h8m  tot: 0h5m13s  (36.5%)\rEpoch: 82.6%  lr: 0.031812  loss: 0.013283  eta: 0h8m  tot: 0h5m13s  (36.5%)\rEpoch: 82.7%  lr: 0.031812  loss: 0.013282  eta: 0h8m  tot: 0h5m13s  (36.5%)\rEpoch: 82.8%  lr: 0.031802  loss: 0.013282  eta: 0h8m  tot: 0h5m13s  (36.6%)\rEpoch: 82.9%  lr: 0.031792  loss: 0.013279  eta: 0h8m  tot: 0h5m14s  (36.6%)\rEpoch: 83.0%  lr: 0.031782  loss: 0.013281  eta: 0h8m  tot: 0h5m14s  (36.6%)\rEpoch: 83.1%  lr: 0.031772  loss: 0.013279  eta: 0h8m  tot: 0h5m14s  (36.6%)\rEpoch: 83.2%  lr: 0.031762  loss: 0.013282  eta: 0h8m  tot: 0h5m14s  (36.6%)\rEpoch: 83.3%  lr: 0.031762  loss: 0.013281  eta: 0h8m  tot: 0h5m14s  (36.7%)\rEpoch: 83.4%  lr: 0.031752  loss: 0.013283  eta: 0h8m  tot: 0h5m14s  (36.7%)\rEpoch: 83.5%  lr: 0.031742  loss: 0.013277  eta: 0h8m  tot: 0h5m15s  (36.7%)\rEpoch: 83.5%  lr: 0.031732  loss: 0.013285  eta: 0h8m  tot: 0h5m15s  (36.7%)\rEpoch: 83.6%  lr: 0.031712  loss: 0.013293  eta: 0h8m  tot: 0h5m15s  (36.7%)\rEpoch: 83.7%  lr: 0.031702  loss: 0.013292  eta: 0h8m  tot: 0h5m15s  (36.7%)\rEpoch: 83.8%  lr: 0.031682  loss: 0.013294  eta: 0h8m  tot: 0h5m15s  (36.8%)\rEpoch: 83.9%  lr: 0.031672  loss: 0.013289  eta: 0h8m  tot: 0h5m15s  (36.8%)\rEpoch: 84.0%  lr: 0.031672  loss: 0.013285  eta: 0h8m  tot: 0h5m15s  (36.8%)\rEpoch: 84.1%  lr: 0.031662  loss: 0.013291  eta: 0h8m  tot: 0h5m16s  (36.8%)\rEpoch: 84.2%  lr: 0.031662  loss: 0.013296  eta: 0h8m  tot: 0h5m16s  (36.8%)\rEpoch: 84.3%  lr: 0.031662  loss: 0.013288  eta: 0h8m  tot: 0h5m16s  (36.9%)\rEpoch: 84.4%  lr: 0.031652  loss: 0.013293  eta: 0h8m  tot: 0h5m16s  (36.9%)\rEpoch: 84.4%  lr: 0.031652  loss: 0.013295  eta: 0h8m  tot: 0h5m16s  (36.9%)\rEpoch: 84.5%  lr: 0.031642  loss: 0.013293  eta: 0h8m  tot: 0h5m16s  (36.9%)\rEpoch: 84.6%  lr: 0.031632  loss: 0.013289  eta: 0h8m  tot: 0h5m16s  (36.9%)\rEpoch: 84.7%  lr: 0.031622  loss: 0.013284  eta: 0h8m  tot: 0h5m17s  (36.9%)\rEpoch: 84.8%  lr: 0.031602  loss: 0.013287  eta: 0h8m  tot: 0h5m17s  (37.0%)\rEpoch: 84.9%  lr: 0.031602  loss: 0.013285  eta: 0h8m  tot: 0h5m17s  (37.0%)\rEpoch: 85.0%  lr: 0.031592  loss: 0.013287  eta: 0h8m  tot: 0h5m17s  (37.0%)\rEpoch: 85.1%  lr: 0.031592  loss: 0.013284  eta: 0h8m  tot: 0h5m17s  (37.0%)\rEpoch: 85.2%  lr: 0.031582  loss: 0.013281  eta: 0h8m  tot: 0h5m17s  (37.0%)\rEpoch: 85.3%  lr: 0.031572  loss: 0.013295  eta: 0h8m  tot: 0h5m17s  (37.1%)\rEpoch: 85.3%  lr: 0.031552  loss: 0.013290  eta: 0h8m  tot: 0h5m18s  (37.1%)\rEpoch: 85.4%  lr: 0.031552  loss: 0.013287  eta: 0h8m  tot: 0h5m18s  (37.1%)\rEpoch: 85.5%  lr: 0.031552  loss: 0.013281  eta: 0h8m  tot: 0h5m18s  (37.1%)\rEpoch: 85.6%  lr: 0.031552  loss: 0.013276  eta: 0h8m  tot: 0h5m18s  (37.1%)\rEpoch: 85.7%  lr: 0.031542  loss: 0.013287  eta: 0h8m  tot: 0h5m18s  (37.1%)\rEpoch: 85.8%  lr: 0.031512  loss: 0.013280  eta: 0h8m  tot: 0h5m18s  (37.2%)\rEpoch: 85.9%  lr: 0.031482  loss: 0.013289  eta: 0h8m  tot: 0h5m18s  (37.2%)\rEpoch: 86.0%  lr: 0.031472  loss: 0.013291  eta: 0h8m  tot: 0h5m19s  (37.2%)\rEpoch: 86.1%  lr: 0.031472  loss: 0.013290  eta: 0h8m  tot: 0h5m19s  (37.2%)\rEpoch: 86.2%  lr: 0.031452  loss: 0.013291  eta: 0h8m  tot: 0h5m19s  (37.2%)\rEpoch: 86.2%  lr: 0.031432  loss: 0.013289  eta: 0h8m  tot: 0h5m19s  (37.2%)\rEpoch: 86.3%  lr: 0.031412  loss: 0.013286  eta: 0h8m  tot: 0h5m19s  (37.3%)\rEpoch: 86.4%  lr: 0.031392  loss: 0.013290  eta: 0h8m  tot: 0h5m19s  (37.3%)\rEpoch: 86.5%  lr: 0.031392  loss: 0.013287  eta: 0h8m  tot: 0h5m19s  (37.3%)\rEpoch: 86.6%  lr: 0.031361  loss: 0.013286  eta: 0h8m  tot: 0h5m20s  (37.3%)\rEpoch: 86.7%  lr: 0.031331  loss: 0.013279  eta: 0h8m  tot: 0h5m20s  (37.3%)\rEpoch: 86.8%  lr: 0.031321  loss: 0.013285  eta: 0h8m  tot: 0h5m20s  (37.4%)\rEpoch: 86.9%  lr: 0.031291  loss: 0.013293  eta: 0h8m  tot: 0h5m20s  (37.4%)\rEpoch: 87.0%  lr: 0.031291  loss: 0.013291  eta: 0h8m  tot: 0h5m20s  (37.4%)\rEpoch: 87.1%  lr: 0.031281  loss: 0.013291  eta: 0h8m  tot: 0h5m20s  (37.4%)\rEpoch: 87.1%  lr: 0.031251  loss: 0.013290  eta: 0h8m  tot: 0h5m20s  (37.4%)\rEpoch: 87.2%  lr: 0.031251  loss: 0.013294  eta: 0h8m  tot: 0h5m21s  (37.4%)\rEpoch: 87.3%  lr: 0.031241  loss: 0.013291  eta: 0h8m  tot: 0h5m21s  (37.5%)\rEpoch: 87.4%  lr: 0.031221  loss: 0.013306  eta: 0h8m  tot: 0h5m21s  (37.5%)\rEpoch: 87.5%  lr: 0.031211  loss: 0.013303  eta: 0h8m  tot: 0h5m21s  (37.5%)\rEpoch: 87.6%  lr: 0.031201  loss: 0.013303  eta: 0h8m  tot: 0h5m21s  (37.5%)\rEpoch: 87.7%  lr: 0.031191  loss: 0.013304  eta: 0h8m  tot: 0h5m21s  (37.5%)\rEpoch: 87.8%  lr: 0.031191  loss: 0.013308  eta: 0h8m  tot: 0h5m21s  (37.6%)\rEpoch: 87.9%  lr: 0.031191  loss: 0.013316  eta: 0h8m  tot: 0h5m22s  (37.6%)\rEpoch: 88.0%  lr: 0.031171  loss: 0.013315  eta: 0h8m  tot: 0h5m22s  (37.6%)\rEpoch: 88.0%  lr: 0.031161  loss: 0.013310  eta: 0h8m  tot: 0h5m22s  (37.6%)\rEpoch: 88.1%  lr: 0.031151  loss: 0.013309  eta: 0h8m  tot: 0h5m22s  (37.6%)\rEpoch: 88.2%  lr: 0.031131  loss: 0.013305  eta: 0h8m  tot: 0h5m22s  (37.6%)\rEpoch: 88.3%  lr: 0.031131  loss: 0.013302  eta: 0h8m  tot: 0h5m22s  (37.7%)\rEpoch: 88.4%  lr: 0.031121  loss: 0.013307  eta: 0h8m  tot: 0h5m22s  (37.7%)\rEpoch: 88.5%  lr: 0.031111  loss: 0.013306  eta: 0h8m  tot: 0h5m23s  (37.7%)\rEpoch: 88.6%  lr: 0.031081  loss: 0.013305  eta: 0h8m  tot: 0h5m23s  (37.7%)\rEpoch: 88.7%  lr: 0.031071  loss: 0.013304  eta: 0h8m  tot: 0h5m23s  (37.7%)\rEpoch: 88.8%  lr: 0.031071  loss: 0.013301  eta: 0h8m  tot: 0h5m23s  (37.8%)\rEpoch: 88.9%  lr: 0.031051  loss: 0.013303  eta: 0h8m  tot: 0h5m23s  (37.8%)\rEpoch: 88.9%  lr: 0.031051  loss: 0.013305  eta: 0h8m  tot: 0h5m23s  (37.8%)\rEpoch: 89.0%  lr: 0.031051  loss: 0.013307  eta: 0h8m  tot: 0h5m23s  (37.8%)\rEpoch: 89.1%  lr: 0.031031  loss: 0.013307  eta: 0h8m  tot: 0h5m24s  (37.8%)\rEpoch: 89.2%  lr: 0.031031  loss: 0.013318  eta: 0h8m  tot: 0h5m24s  (37.8%)\rEpoch: 89.3%  lr: 0.031021  loss: 0.013320  eta: 0h8m  tot: 0h5m24s  (37.9%)\rEpoch: 89.4%  lr: 0.031001  loss: 0.013326  eta: 0h8m  tot: 0h5m24s  (37.9%)\rEpoch: 89.5%  lr: 0.030991  loss: 0.013335  eta: 0h8m  tot: 0h5m24s  (37.9%)\rEpoch: 89.6%  lr: 0.030991  loss: 0.013332  eta: 0h8m  tot: 0h5m24s  (37.9%)\rEpoch: 89.7%  lr: 0.030991  loss: 0.013330  eta: 0h8m  tot: 0h5m25s  (37.9%)\rEpoch: 89.8%  lr: 0.030991  loss: 0.013329  eta: 0h8m  tot: 0h5m25s  (38.0%)\rEpoch: 89.8%  lr: 0.030981  loss: 0.013327  eta: 0h8m  tot: 0h5m25s  (38.0%)\rEpoch: 89.9%  lr: 0.030981  loss: 0.013337  eta: 0h8m  tot: 0h5m25s  (38.0%)\rEpoch: 90.0%  lr: 0.030961  loss: 0.013336  eta: 0h8m  tot: 0h5m25s  (38.0%)\rEpoch: 90.1%  lr: 0.030951  loss: 0.013332  eta: 0h8m  tot: 0h5m25s  (38.0%)\rEpoch: 90.2%  lr: 0.030931  loss: 0.013336  eta: 0h8m  tot: 0h5m25s  (38.0%)\rEpoch: 90.3%  lr: 0.030921  loss: 0.013325  eta: 0h8m  tot: 0h5m26s  (38.1%)\rEpoch: 90.4%  lr: 0.030921  loss: 0.013320  eta: 0h8m  tot: 0h5m26s  (38.1%)\rEpoch: 90.5%  lr: 0.030911  loss: 0.013326  eta: 0h8m  tot: 0h5m26s  (38.1%)\rEpoch: 90.6%  lr: 0.030911  loss: 0.013330  eta: 0h8m  tot: 0h5m26s  (38.1%)\rEpoch: 90.7%  lr: 0.030901  loss: 0.013338  eta: 0h8m  tot: 0h5m26s  (38.1%)\rEpoch: 90.7%  lr: 0.030891  loss: 0.013335  eta: 0h8m  tot: 0h5m26s  (38.1%)\rEpoch: 90.8%  lr: 0.030891  loss: 0.013334  eta: 0h8m  tot: 0h5m26s  (38.2%)\rEpoch: 90.9%  lr: 0.030881  loss: 0.013329  eta: 0h8m  tot: 0h5m27s  (38.2%)\rEpoch: 91.0%  lr: 0.030871  loss: 0.013323  eta: 0h8m  tot: 0h5m27s  (38.2%)\rEpoch: 91.1%  lr: 0.030861  loss: 0.013319  eta: 0h8m  tot: 0h5m27s  (38.2%)\rEpoch: 91.2%  lr: 0.030861  loss: 0.013325  eta: 0h8m  tot: 0h5m27s  (38.2%)\rEpoch: 91.3%  lr: 0.030861  loss: 0.013320  eta: 0h8m  tot: 0h5m27s  (38.3%)\rEpoch: 91.4%  lr: 0.030851  loss: 0.013315  eta: 0h8m  tot: 0h5m27s  (38.3%)\rEpoch: 91.5%  lr: 0.030841  loss: 0.013314  eta: 0h8m  tot: 0h5m27s  (38.3%)\rEpoch: 91.6%  lr: 0.030841  loss: 0.013314  eta: 0h8m  tot: 0h5m28s  (38.3%)\rEpoch: 91.6%  lr: 0.030841  loss: 0.013321  eta: 0h8m  tot: 0h5m28s  (38.3%)\rEpoch: 91.7%  lr: 0.030831  loss: 0.013318  eta: 0h8m  tot: 0h5m28s  (38.3%)\rEpoch: 91.8%  lr: 0.030821  loss: 0.013322  eta: 0h8m  tot: 0h5m28s  (38.4%)\rEpoch: 91.9%  lr: 0.030821  loss: 0.013323  eta: 0h8m  tot: 0h5m28s  (38.4%)\rEpoch: 92.0%  lr: 0.030821  loss: 0.013328  eta: 0h8m  tot: 0h5m28s  (38.4%)\rEpoch: 92.1%  lr: 0.030821  loss: 0.013339  eta: 0h8m  tot: 0h5m28s  (38.4%)\rEpoch: 92.2%  lr: 0.030811  loss: 0.013342  eta: 0h8m  tot: 0h5m29s  (38.4%)\rEpoch: 92.3%  lr: 0.030811  loss: 0.013339  eta: 0h8m  tot: 0h5m29s  (38.5%)\rEpoch: 92.4%  lr: 0.030801  loss: 0.013337  eta: 0h8m  tot: 0h5m29s  (38.5%)\rEpoch: 92.5%  lr: 0.030781  loss: 0.013338  eta: 0h8m  tot: 0h5m29s  (38.5%)\rEpoch: 92.5%  lr: 0.030771  loss: 0.013351  eta: 0h8m  tot: 0h5m29s  (38.5%)\rEpoch: 92.6%  lr: 0.030771  loss: 0.013346  eta: 0h8m  tot: 0h5m29s  (38.5%)\rEpoch: 92.7%  lr: 0.030771  loss: 0.013340  eta: 0h8m  tot: 0h5m30s  (38.5%)\rEpoch: 92.8%  lr: 0.030771  loss: 0.013339  eta: 0h8m  tot: 0h5m30s  (38.6%)\rEpoch: 92.9%  lr: 0.030761  loss: 0.013337  eta: 0h8m  tot: 0h5m30s  (38.6%)\rEpoch: 93.0%  lr: 0.030751  loss: 0.013337  eta: 0h8m  tot: 0h5m30s  (38.6%)\rEpoch: 93.1%  lr: 0.030741  loss: 0.013330  eta: 0h8m  tot: 0h5m30s  (38.6%)\rEpoch: 93.2%  lr: 0.030741  loss: 0.013329  eta: 0h8m  tot: 0h5m30s  (38.6%)\rEpoch: 93.3%  lr: 0.030741  loss: 0.013325  eta: 0h8m  tot: 0h5m30s  (38.7%)\rEpoch: 93.4%  lr: 0.030741  loss: 0.013326  eta: 0h8m  tot: 0h5m31s  (38.7%)\rEpoch: 93.4%  lr: 0.030731  loss: 0.013322  eta: 0h8m  tot: 0h5m31s  (38.7%)\rEpoch: 93.5%  lr: 0.030691  loss: 0.013328  eta: 0h8m  tot: 0h5m31s  (38.7%)\rEpoch: 93.6%  lr: 0.030661  loss: 0.013331  eta: 0h8m  tot: 0h5m31s  (38.7%)\rEpoch: 93.7%  lr: 0.030661  loss: 0.013328  eta: 0h8m  tot: 0h5m31s  (38.7%)\rEpoch: 93.8%  lr: 0.030651  loss: 0.013325  eta: 0h8m  tot: 0h5m31s  (38.8%)\rEpoch: 93.9%  lr: 0.030641  loss: 0.013324  eta: 0h8m  tot: 0h5m31s  (38.8%)\rEpoch: 94.0%  lr: 0.030611  loss: 0.013320  eta: 0h8m  tot: 0h5m32s  (38.8%)\rEpoch: 94.1%  lr: 0.030611  loss: 0.013320  eta: 0h8m  tot: 0h5m32s  (38.8%)\rEpoch: 94.2%  lr: 0.030591  loss: 0.013324  eta: 0h8m  tot: 0h5m32s  (38.8%)\rEpoch: 94.3%  lr: 0.030571  loss: 0.013322  eta: 0h8m  tot: 0h5m32s  (38.9%)\rEpoch: 94.3%  lr: 0.030561  loss: 0.013319  eta: 0h8m  tot: 0h5m32s  (38.9%)\rEpoch: 94.4%  lr: 0.030551  loss: 0.013320  eta: 0h8m  tot: 0h5m32s  (38.9%)\rEpoch: 94.5%  lr: 0.030531  loss: 0.013329  eta: 0h8m  tot: 0h5m32s  (38.9%)\rEpoch: 94.6%  lr: 0.030531  loss: 0.013330  eta: 0h8m  tot: 0h5m33s  (38.9%)\rEpoch: 94.7%  lr: 0.030531  loss: 0.013323  eta: 0h8m  tot: 0h5m33s  (38.9%)\rEpoch: 94.8%  lr: 0.030501  loss: 0.013315  eta: 0h8m  tot: 0h5m33s  (39.0%)\rEpoch: 94.9%  lr: 0.030481  loss: 0.013318  eta: 0h8m  tot: 0h5m33s  (39.0%)\rEpoch: 95.0%  lr: 0.030451  loss: 0.013310  eta: 0h8m  tot: 0h5m33s  (39.0%)\rEpoch: 95.1%  lr: 0.030451  loss: 0.013314  eta: 0h8m  tot: 0h5m33s  (39.0%)\rEpoch: 95.2%  lr: 0.030451  loss: 0.013309  eta: 0h8m  tot: 0h5m33s  (39.0%)\rEpoch: 95.2%  lr: 0.030451  loss: 0.013316  eta: 0h8m  tot: 0h5m34s  (39.0%)\rEpoch: 95.3%  lr: 0.030441  loss: 0.013317  eta: 0h8m  tot: 0h5m34s  (39.1%)\rEpoch: 95.4%  lr: 0.030441  loss: 0.013309  eta: 0h8m  tot: 0h5m34s  (39.1%)\rEpoch: 95.5%  lr: 0.030441  loss: 0.013310  eta: 0h8m  tot: 0h5m34s  (39.1%)\rEpoch: 95.6%  lr: 0.030431  loss: 0.013314  eta: 0h8m  tot: 0h5m34s  (39.1%)\rEpoch: 95.7%  lr: 0.030421  loss: 0.013333  eta: 0h8m  tot: 0h5m34s  (39.1%)\rEpoch: 95.8%  lr: 0.030401  loss: 0.013341  eta: 0h8m  tot: 0h5m35s  (39.2%)\rEpoch: 95.9%  lr: 0.030401  loss: 0.013341  eta: 0h8m  tot: 0h5m35s  (39.2%)\rEpoch: 96.0%  lr: 0.030391  loss: 0.013337  eta: 0h8m  tot: 0h5m35s  (39.2%)\rEpoch: 96.1%  lr: 0.030381  loss: 0.013336  eta: 0h8m  tot: 0h5m35s  (39.2%)\rEpoch: 96.1%  lr: 0.030371  loss: 0.013332  eta: 0h8m  tot: 0h5m35s  (39.2%)\rEpoch: 96.2%  lr: 0.030361  loss: 0.013324  eta: 0h8m  tot: 0h5m35s  (39.2%)\rEpoch: 96.3%  lr: 0.030361  loss: 0.013328  eta: 0h8m  tot: 0h5m35s  (39.3%)\rEpoch: 96.4%  lr: 0.030350  loss: 0.013321  eta: 0h8m  tot: 0h5m36s  (39.3%)\rEpoch: 96.5%  lr: 0.030340  loss: 0.013312  eta: 0h8m  tot: 0h5m36s  (39.3%)\rEpoch: 96.6%  lr: 0.030330  loss: 0.013310  eta: 0h8m  tot: 0h5m36s  (39.3%)\rEpoch: 96.7%  lr: 0.030330  loss: 0.013308  eta: 0h8m  tot: 0h5m36s  (39.3%)\rEpoch: 96.8%  lr: 0.030290  loss: 0.013306  eta: 0h8m  tot: 0h5m36s  (39.4%)\rEpoch: 96.9%  lr: 0.030290  loss: 0.013302  eta: 0h8m  tot: 0h5m36s  (39.4%)\rEpoch: 97.0%  lr: 0.030290  loss: 0.013303  eta: 0h8m  tot: 0h5m36s  (39.4%)\rEpoch: 97.0%  lr: 0.030280  loss: 0.013302  eta: 0h8m  tot: 0h5m37s  (39.4%)\rEpoch: 97.1%  lr: 0.030250  loss: 0.013304  eta: 0h8m  tot: 0h5m37s  (39.4%)\rEpoch: 97.2%  lr: 0.030250  loss: 0.013306  eta: 0h8m  tot: 0h5m37s  (39.4%)\rEpoch: 97.3%  lr: 0.030240  loss: 0.013305  eta: 0h8m  tot: 0h5m37s  (39.5%)\rEpoch: 97.4%  lr: 0.030240  loss: 0.013297  eta: 0h8m  tot: 0h5m37s  (39.5%)\rEpoch: 97.5%  lr: 0.030230  loss: 0.013322  eta: 0h8m  tot: 0h5m37s  (39.5%)\rEpoch: 97.6%  lr: 0.030230  loss: 0.013329  eta: 0h8m  tot: 0h5m37s  (39.5%)\rEpoch: 97.7%  lr: 0.030220  loss: 0.013321  eta: 0h8m  tot: 0h5m38s  (39.5%)\rEpoch: 97.8%  lr: 0.030190  loss: 0.013325  eta: 0h8m  tot: 0h5m38s  (39.6%)\rEpoch: 97.9%  lr: 0.030180  loss: 0.013326  eta: 0h8m  tot: 0h5m38s  (39.6%)\rEpoch: 97.9%  lr: 0.030170  loss: 0.013334  eta: 0h8m  tot: 0h5m38s  (39.6%)\rEpoch: 98.0%  lr: 0.030160  loss: 0.013337  eta: 0h8m  tot: 0h5m38s  (39.6%)\rEpoch: 98.1%  lr: 0.030160  loss: 0.013342  eta: 0h8m  tot: 0h5m38s  (39.6%)\rEpoch: 98.2%  lr: 0.030140  loss: 0.013340  eta: 0h8m  tot: 0h5m38s  (39.6%)\rEpoch: 98.3%  lr: 0.030140  loss: 0.013336  eta: 0h8m  tot: 0h5m39s  (39.7%)\rEpoch: 98.4%  lr: 0.030130  loss: 0.013328  eta: 0h8m  tot: 0h5m39s  (39.7%)\rEpoch: 98.5%  lr: 0.030120  loss: 0.013328  eta: 0h8m  tot: 0h5m39s  (39.7%)\rEpoch: 98.6%  lr: 0.030120  loss: 0.013335  eta: 0h8m  tot: 0h5m39s  (39.7%)\rEpoch: 98.7%  lr: 0.030110  loss: 0.013331  eta: 0h8m  tot: 0h5m39s  (39.7%)\rEpoch: 98.8%  lr: 0.030110  loss: 0.013329  eta: 0h8m  tot: 0h5m39s  (39.8%)\rEpoch: 98.8%  lr: 0.030110  loss: 0.013321  eta: 0h8m  tot: 0h5m39s  (39.8%)\rEpoch: 98.9%  lr: 0.030110  loss: 0.013326  eta: 0h8m  tot: 0h5m40s  (39.8%)\rEpoch: 99.0%  lr: 0.030100  loss: 0.013325  eta: 0h8m  tot: 0h5m40s  (39.8%)\rEpoch: 99.1%  lr: 0.030100  loss: 0.013324  eta: 0h8m  tot: 0h5m40s  (39.8%)\rEpoch: 99.2%  lr: 0.030080  loss: 0.013319  eta: 0h8m  tot: 0h5m40s  (39.8%)\rEpoch: 99.3%  lr: 0.030060  loss: 0.013328  eta: 0h8m  tot: 0h5m40s  (39.9%)\rEpoch: 99.4%  lr: 0.030040  loss: 0.013329  eta: 0h8m  tot: 0h5m40s  (39.9%)\rEpoch: 99.5%  lr: 0.030030  loss: 0.013336  eta: 0h8m  tot: 0h5m40s  (39.9%)\rEpoch: 99.6%  lr: 0.030020  loss: 0.013347  eta: 0h8m  tot: 0h5m41s  (39.9%)\rEpoch: 99.7%  lr: 0.030020  loss: 0.013359  eta: 0h8m  tot: 0h5m41s  (39.9%)\rEpoch: 99.7%  lr: 0.030020  loss: 0.013361  eta: 0h8m  tot: 0h5m41s  (39.9%)\rEpoch: 99.8%  lr: 0.030010  loss: 0.013365  eta: 0h8m  tot: 0h5m41s  (40.0%)\rEpoch: 99.9%  lr: 0.030000  loss: 0.013364  eta: 0h8m  tot: 0h5m41s  (40.0%)\rEpoch: 100.0%  lr: 0.030000  loss: 0.013362  eta: 0h8m  tot: 0h5m41s  (40.0%)\rEpoch: 0.1%  lr: 0.029990  loss: 0.011144  eta: 0h7m  tot: 0h5m41s  (40.0%)\rEpoch: 0.2%  lr: 0.029970  loss: 0.007823  eta: 0h7m  tot: 0h5m41s  (40.0%)\rEpoch: 0.3%  lr: 0.029960  loss: 0.011918  eta: 0h7m  tot: 0h5m42s  (40.1%)\rEpoch: 0.4%  lr: 0.029950  loss: 0.010887  eta: 0h7m  tot: 0h5m42s  (40.1%)\rEpoch: 0.4%  lr: 0.029940  loss: 0.010714  eta: 0h7m  tot: 0h5m42s  (40.1%)\rEpoch: 0.5%  lr: 0.029940  loss: 0.013000  eta: 0h7m  tot: 0h5m42s  (40.1%)\rEpoch: 0.6%  lr: 0.029930  loss: 0.012399  eta: 0h7m  tot: 0h5m42s  (40.1%)\rEpoch: 0.7%  lr: 0.029920  loss: 0.012222  eta: 0h7m  tot: 0h5m42s  (40.1%)\rEpoch: 0.8%  lr: 0.029900  loss: 0.011875  eta: 0h7m  tot: 0h5m42s  (40.2%)\rEpoch: 0.9%  lr: 0.029890  loss: 0.011178  eta: 0h7m  tot: 0h5m43s  (40.2%)\rEpoch: 1.0%  lr: 0.029890  loss: 0.010947  eta: 0h7m  tot: 0h5m43s  (40.2%)\rEpoch: 1.1%  lr: 0.029880  loss: 0.010471  eta: 0h7m  tot: 0h5m43s  (40.2%)\rEpoch: 1.2%  lr: 0.029870  loss: 0.009887  eta: 0h7m  tot: 0h5m43s  (40.2%)\rEpoch: 1.3%  lr: 0.029860  loss: 0.009807  eta: 0h7m  tot: 0h5m43s  (40.3%)\rEpoch: 1.3%  lr: 0.029850  loss: 0.009668  eta: 0h7m  tot: 0h5m43s  (40.3%)\rEpoch: 1.4%  lr: 0.029840  loss: 0.009808  eta: 0h7m  tot: 0h5m43s  (40.3%)\rEpoch: 1.5%  lr: 0.029840  loss: 0.009796  eta: 0h7m  tot: 0h5m44s  (40.3%)\rEpoch: 1.6%  lr: 0.029840  loss: 0.009443  eta: 0h7m  tot: 0h5m44s  (40.3%)\rEpoch: 1.7%  lr: 0.029830  loss: 0.009566  eta: 0h7m  tot: 0h5m44s  (40.3%)\rEpoch: 1.8%  lr: 0.029820  loss: 0.009478  eta: 0h7m  tot: 0h5m44s  (40.4%)\rEpoch: 1.9%  lr: 0.029810  loss: 0.009496  eta: 0h7m  tot: 0h5m44s  (40.4%)\rEpoch: 2.0%  lr: 0.029810  loss: 0.009355  eta: 0h7m  tot: 0h5m44s  (40.4%)\rEpoch: 2.1%  lr: 0.029790  loss: 0.009124  eta: 0h7m  tot: 0h5m44s  (40.4%)\rEpoch: 2.2%  lr: 0.029790  loss: 0.009086  eta: 0h7m  tot: 0h5m45s  (40.4%)\rEpoch: 2.2%  lr: 0.029780  loss: 0.009075  eta: 0h7m  tot: 0h5m45s  (40.4%)\rEpoch: 2.3%  lr: 0.029760  loss: 0.009180  eta: 0h7m  tot: 0h5m45s  (40.5%)\rEpoch: 2.4%  lr: 0.029740  loss: 0.009083  eta: 0h7m  tot: 0h5m45s  (40.5%)\rEpoch: 2.5%  lr: 0.029730  loss: 0.009047  eta: 0h7m  tot: 0h5m45s  (40.5%)\rEpoch: 2.6%  lr: 0.029720  loss: 0.008909  eta: 0h7m  tot: 0h5m45s  (40.5%)\rEpoch: 2.7%  lr: 0.029720  loss: 0.009034  eta: 0h7m  tot: 0h5m46s  (40.5%)\rEpoch: 2.8%  lr: 0.029710  loss: 0.009117  eta: 0h7m  tot: 0h5m46s  (40.6%)\rEpoch: 2.9%  lr: 0.029700  loss: 0.008954  eta: 0h7m  tot: 0h5m46s  (40.6%)\rEpoch: 3.0%  lr: 0.029680  loss: 0.009026  eta: 0h7m  tot: 0h5m46s  (40.6%)\rEpoch: 3.1%  lr: 0.029680  loss: 0.008852  eta: 0h7m  tot: 0h5m46s  (40.6%)\rEpoch: 3.1%  lr: 0.029680  loss: 0.008938  eta: 0h7m  tot: 0h5m46s  (40.6%)\rEpoch: 3.2%  lr: 0.029680  loss: 0.008960  eta: 0h7m  tot: 0h5m46s  (40.6%)\rEpoch: 3.3%  lr: 0.029660  loss: 0.008796  eta: 0h7m  tot: 0h5m47s  (40.7%)\rEpoch: 3.4%  lr: 0.029630  loss: 0.009110  eta: 0h7m  tot: 0h5m47s  (40.7%)\rEpoch: 3.5%  lr: 0.029630  loss: 0.009067  eta: 0h7m  tot: 0h5m47s  (40.7%)\rEpoch: 3.6%  lr: 0.029630  loss: 0.009146  eta: 0h7m  tot: 0h5m47s  (40.7%)\rEpoch: 3.7%  lr: 0.029620  loss: 0.009022  eta: 0h7m  tot: 0h5m47s  (40.7%)\rEpoch: 3.8%  lr: 0.029610  loss: 0.008947  eta: 0h7m  tot: 0h5m47s  (40.8%)\rEpoch: 3.9%  lr: 0.029590  loss: 0.008872  eta: 0h7m  tot: 0h5m47s  (40.8%)\rEpoch: 4.0%  lr: 0.029580  loss: 0.008913  eta: 0h7m  tot: 0h5m48s  (40.8%)\rEpoch: 4.1%  lr: 0.029570  loss: 0.009087  eta: 0h7m  tot: 0h5m48s  (40.8%)\rEpoch: 4.1%  lr: 0.029550  loss: 0.009195  eta: 0h7m  tot: 0h5m48s  (40.8%)\rEpoch: 4.2%  lr: 0.029540  loss: 0.009215  eta: 0h7m  tot: 0h5m48s  (40.8%)\rEpoch: 4.3%  lr: 0.029540  loss: 0.009304  eta: 0h7m  tot: 0h5m48s  (40.9%)\rEpoch: 4.4%  lr: 0.029540  loss: 0.009240  eta: 0h7m  tot: 0h5m48s  (40.9%)\rEpoch: 4.5%  lr: 0.029540  loss: 0.009104  eta: 0h7m  tot: 0h5m48s  (40.9%)\rEpoch: 4.6%  lr: 0.029540  loss: 0.008967  eta: 0h7m  tot: 0h5m49s  (40.9%)\rEpoch: 4.7%  lr: 0.029520  loss: 0.009100  eta: 0h7m  tot: 0h5m49s  (40.9%)\rEpoch: 4.8%  lr: 0.029520  loss: 0.009010  eta: 0h7m  tot: 0h5m49s  (41.0%)\rEpoch: 4.9%  lr: 0.029520  loss: 0.009040  eta: 0h7m  tot: 0h5m49s  (41.0%)\rEpoch: 5.0%  lr: 0.029520  loss: 0.009002  eta: 0h7m  tot: 0h5m49s  (41.0%)\rEpoch: 5.0%  lr: 0.029520  loss: 0.009079  eta: 0h7m  tot: 0h5m49s  (41.0%)\rEpoch: 5.1%  lr: 0.029500  loss: 0.009074  eta: 0h7m  tot: 0h5m49s  (41.0%)\rEpoch: 5.2%  lr: 0.029489  loss: 0.009055  eta: 0h7m  tot: 0h5m50s  (41.0%)\rEpoch: 5.3%  lr: 0.029489  loss: 0.009050  eta: 0h7m  tot: 0h5m50s  (41.1%)\rEpoch: 5.4%  lr: 0.029489  loss: 0.009098  eta: 0h7m  tot: 0h5m50s  (41.1%)\rEpoch: 5.5%  lr: 0.029479  loss: 0.009102  eta: 0h7m  tot: 0h5m50s  (41.1%)\rEpoch: 5.6%  lr: 0.029469  loss: 0.009261  eta: 0h7m  tot: 0h5m50s  (41.1%)\rEpoch: 5.7%  lr: 0.029469  loss: 0.009375  eta: 0h7m  tot: 0h5m50s  (41.1%)\rEpoch: 5.8%  lr: 0.029459  loss: 0.009339  eta: 0h7m  tot: 0h5m50s  (41.2%)\rEpoch: 5.9%  lr: 0.029419  loss: 0.009286  eta: 0h7m  tot: 0h5m51s  (41.2%)\rEpoch: 5.9%  lr: 0.029399  loss: 0.009233  eta: 0h7m  tot: 0h5m51s  (41.2%)\rEpoch: 6.0%  lr: 0.029379  loss: 0.009207  eta: 0h7m  tot: 0h5m51s  (41.2%)\rEpoch: 6.1%  lr: 0.029379  loss: 0.009202  eta: 0h7m  tot: 0h5m51s  (41.2%)\rEpoch: 6.2%  lr: 0.029369  loss: 0.009109  eta: 0h7m  tot: 0h5m51s  (41.2%)\rEpoch: 6.3%  lr: 0.029369  loss: 0.009227  eta: 0h7m  tot: 0h5m51s  (41.3%)\rEpoch: 6.4%  lr: 0.029339  loss: 0.009189  eta: 0h7m  tot: 0h5m51s  (41.3%)\rEpoch: 6.5%  lr: 0.029329  loss: 0.009173  eta: 0h7m  tot: 0h5m52s  (41.3%)\rEpoch: 6.6%  lr: 0.029309  loss: 0.009152  eta: 0h7m  tot: 0h5m52s  (41.3%)\rEpoch: 6.7%  lr: 0.029299  loss: 0.009077  eta: 0h7m  tot: 0h5m52s  (41.3%)\rEpoch: 6.8%  lr: 0.029279  loss: 0.009199  eta: 0h7m  tot: 0h5m52s  (41.4%)\rEpoch: 6.8%  lr: 0.029279  loss: 0.009165  eta: 0h7m  tot: 0h5m52s  (41.4%)\rEpoch: 6.9%  lr: 0.029259  loss: 0.009205  eta: 0h7m  tot: 0h5m52s  (41.4%)\rEpoch: 7.0%  lr: 0.029249  loss: 0.009218  eta: 0h7m  tot: 0h5m52s  (41.4%)\rEpoch: 7.1%  lr: 0.029249  loss: 0.009137  eta: 0h7m  tot: 0h5m53s  (41.4%)\rEpoch: 7.2%  lr: 0.029249  loss: 0.009122  eta: 0h7m  tot: 0h5m53s  (41.4%)\rEpoch: 7.3%  lr: 0.029249  loss: 0.009078  eta: 0h7m  tot: 0h5m53s  (41.5%)\rEpoch: 7.4%  lr: 0.029239  loss: 0.009077  eta: 0h7m  tot: 0h5m53s  (41.5%)\rEpoch: 7.5%  lr: 0.029229  loss: 0.008996  eta: 0h7m  tot: 0h5m53s  (41.5%)\rEpoch: 7.6%  lr: 0.029229  loss: 0.009053  eta: 0h7m  tot: 0h5m53s  (41.5%)\rEpoch: 7.7%  lr: 0.029219  loss: 0.009082  eta: 0h7m  tot: 0h5m53s  (41.5%)\rEpoch: 7.7%  lr: 0.029219  loss: 0.009020  eta: 0h7m  tot: 0h5m54s  (41.5%)\rEpoch: 7.8%  lr: 0.029209  loss: 0.009047  eta: 0h7m  tot: 0h5m54s  (41.6%)\rEpoch: 7.9%  lr: 0.029209  loss: 0.009084  eta: 0h7m  tot: 0h5m54s  (41.6%)\rEpoch: 8.0%  lr: 0.029199  loss: 0.009063  eta: 0h7m  tot: 0h5m54s  (41.6%)\rEpoch: 8.1%  lr: 0.029189  loss: 0.009005  eta: 0h7m  tot: 0h5m54s  (41.6%)\rEpoch: 8.2%  lr: 0.029189  loss: 0.009157  eta: 0h7m  tot: 0h5m54s  (41.6%)\rEpoch: 8.3%  lr: 0.029179  loss: 0.009224  eta: 0h7m  tot: 0h5m54s  (41.7%)\rEpoch: 8.4%  lr: 0.029169  loss: 0.009193  eta: 0h7m  tot: 0h5m55s  (41.7%)\rEpoch: 8.5%  lr: 0.029169  loss: 0.009237  eta: 0h7m  tot: 0h5m55s  (41.7%)\rEpoch: 8.6%  lr: 0.029169  loss: 0.009298  eta: 0h7m  tot: 0h5m55s  (41.7%)\rEpoch: 8.6%  lr: 0.029139  loss: 0.009425  eta: 0h7m  tot: 0h5m55s  (41.7%)\rEpoch: 8.7%  lr: 0.029109  loss: 0.009377  eta: 0h7m  tot: 0h5m55s  (41.7%)\rEpoch: 8.8%  lr: 0.029099  loss: 0.009364  eta: 0h7m  tot: 0h5m55s  (41.8%)\rEpoch: 8.9%  lr: 0.029079  loss: 0.009333  eta: 0h7m  tot: 0h5m56s  (41.8%)\rEpoch: 9.0%  lr: 0.029049  loss: 0.009363  eta: 0h7m  tot: 0h5m56s  (41.8%)\rEpoch: 9.1%  lr: 0.029049  loss: 0.009294  eta: 0h7m  tot: 0h5m56s  (41.8%)\rEpoch: 9.2%  lr: 0.029039  loss: 0.009255  eta: 0h7m  tot: 0h5m56s  (41.8%)\rEpoch: 9.3%  lr: 0.029039  loss: 0.009249  eta: 0h7m  tot: 0h5m56s  (41.9%)\rEpoch: 9.4%  lr: 0.029039  loss: 0.009187  eta: 0h7m  tot: 0h5m56s  (41.9%)\rEpoch: 9.5%  lr: 0.029019  loss: 0.009187  eta: 0h7m  tot: 0h5m56s  (41.9%)\rEpoch: 9.5%  lr: 0.028989  loss: 0.009163  eta: 0h7m  tot: 0h5m57s  (41.9%)\rEpoch: 9.6%  lr: 0.028959  loss: 0.009152  eta: 0h7m  tot: 0h5m57s  (41.9%)\rEpoch: 9.7%  lr: 0.028949  loss: 0.009200  eta: 0h7m  tot: 0h5m57s  (41.9%)\rEpoch: 9.8%  lr: 0.028949  loss: 0.009190  eta: 0h7m  tot: 0h5m57s  (42.0%)\rEpoch: 9.9%  lr: 0.028939  loss: 0.009245  eta: 0h7m  tot: 0h5m57s  (42.0%)\rEpoch: 10.0%  lr: 0.028939  loss: 0.009268  eta: 0h7m  tot: 0h5m57s  (42.0%)\rEpoch: 10.1%  lr: 0.028919  loss: 0.009221  eta: 0h7m  tot: 0h5m57s  (42.0%)\rEpoch: 10.2%  lr: 0.028899  loss: 0.009225  eta: 0h7m  tot: 0h5m58s  (42.0%)\rEpoch: 10.3%  lr: 0.028879  loss: 0.009237  eta: 0h7m  tot: 0h5m58s  (42.1%)\rEpoch: 10.4%  lr: 0.028879  loss: 0.009251  eta: 0h7m  tot: 0h5m58s  (42.1%)\rEpoch: 10.4%  lr: 0.028859  loss: 0.009207  eta: 0h7m  tot: 0h5m58s  (42.1%)\rEpoch: 10.5%  lr: 0.028849  loss: 0.009207  eta: 0h7m  tot: 0h5m58s  (42.1%)\rEpoch: 10.6%  lr: 0.028849  loss: 0.009235  eta: 0h7m  tot: 0h5m58s  (42.1%)\rEpoch: 10.7%  lr: 0.028849  loss: 0.009279  eta: 0h7m  tot: 0h5m58s  (42.1%)\rEpoch: 10.8%  lr: 0.028839  loss: 0.009273  eta: 0h7m  tot: 0h5m59s  (42.2%)\rEpoch: 10.9%  lr: 0.028839  loss: 0.009221  eta: 0h7m  tot: 0h5m59s  (42.2%)\rEpoch: 11.0%  lr: 0.028839  loss: 0.009236  eta: 0h7m  tot: 0h5m59s  (42.2%)\rEpoch: 11.1%  lr: 0.028829  loss: 0.009227  eta: 0h7m  tot: 0h5m59s  (42.2%)\rEpoch: 11.2%  lr: 0.028829  loss: 0.009227  eta: 0h7m  tot: 0h5m59s  (42.2%)\rEpoch: 11.3%  lr: 0.028829  loss: 0.009191  eta: 0h7m  tot: 0h5m59s  (42.3%)\rEpoch: 11.3%  lr: 0.028819  loss: 0.009185  eta: 0h7m  tot: 0h5m59s  (42.3%)\rEpoch: 11.4%  lr: 0.028809  loss: 0.009155  eta: 0h7m  tot: 0h6m0s  (42.3%)\rEpoch: 11.5%  lr: 0.028799  loss: 0.009181  eta: 0h7m  tot: 0h6m0s  (42.3%)\rEpoch: 11.6%  lr: 0.028799  loss: 0.009130  eta: 0h7m  tot: 0h6m0s  (42.3%)\rEpoch: 11.7%  lr: 0.028789  loss: 0.009120  eta: 0h7m  tot: 0h6m0s  (42.3%)\rEpoch: 11.8%  lr: 0.028779  loss: 0.009102  eta: 0h7m  tot: 0h6m0s  (42.4%)\rEpoch: 11.9%  lr: 0.028759  loss: 0.009069  eta: 0h7m  tot: 0h6m0s  (42.4%)\rEpoch: 12.0%  lr: 0.028739  loss: 0.009039  eta: 0h7m  tot: 0h6m0s  (42.4%)\rEpoch: 12.1%  lr: 0.028729  loss: 0.009061  eta: 0h7m  tot: 0h6m1s  (42.4%)\rEpoch: 12.2%  lr: 0.028719  loss: 0.009032  eta: 0h7m  tot: 0h6m1s  (42.4%)\rEpoch: 12.2%  lr: 0.028699  loss: 0.009065  eta: 0h7m  tot: 0h6m1s  (42.4%)\rEpoch: 12.3%  lr: 0.028689  loss: 0.009039  eta: 0h7m  tot: 0h6m1s  (42.5%)\rEpoch: 12.4%  lr: 0.028689  loss: 0.009024  eta: 0h7m  tot: 0h6m1s  (42.5%)\rEpoch: 12.5%  lr: 0.028679  loss: 0.008996  eta: 0h7m  tot: 0h6m1s  (42.5%)\rEpoch: 12.6%  lr: 0.028669  loss: 0.008998  eta: 0h7m  tot: 0h6m1s  (42.5%)\rEpoch: 12.7%  lr: 0.028669  loss: 0.008984  eta: 0h7m  tot: 0h6m2s  (42.5%)\rEpoch: 12.8%  lr: 0.028649  loss: 0.008963  eta: 0h7m  tot: 0h6m2s  (42.6%)\rEpoch: 12.9%  lr: 0.028639  loss: 0.008938  eta: 0h7m  tot: 0h6m2s  (42.6%)\rEpoch: 13.0%  lr: 0.028629  loss: 0.008971  eta: 0h7m  tot: 0h6m2s  (42.6%)\rEpoch: 13.1%  lr: 0.028619  loss: 0.008941  eta: 0h7m  tot: 0h6m2s  (42.6%)\rEpoch: 13.1%  lr: 0.028619  loss: 0.008907  eta: 0h7m  tot: 0h6m2s  (42.6%)\rEpoch: 13.2%  lr: 0.028619  loss: 0.008894  eta: 0h7m  tot: 0h6m2s  (42.6%)\rEpoch: 13.3%  lr: 0.028619  loss: 0.008873  eta: 0h7m  tot: 0h6m3s  (42.7%)\rEpoch: 13.4%  lr: 0.028599  loss: 0.008893  eta: 0h7m  tot: 0h6m3s  (42.7%)\rEpoch: 13.5%  lr: 0.028599  loss: 0.008895  eta: 0h7m  tot: 0h6m3s  (42.7%)\rEpoch: 13.6%  lr: 0.028579  loss: 0.008870  eta: 0h7m  tot: 0h6m3s  (42.7%)\rEpoch: 13.7%  lr: 0.028579  loss: 0.008876  eta: 0h7m  tot: 0h6m3s  (42.7%)\rEpoch: 13.8%  lr: 0.028579  loss: 0.008898  eta: 0h7m  tot: 0h6m3s  (42.8%)\rEpoch: 13.9%  lr: 0.028559  loss: 0.008859  eta: 0h7m  tot: 0h6m3s  (42.8%)\rEpoch: 14.0%  lr: 0.028539  loss: 0.008833  eta: 0h7m  tot: 0h6m4s  (42.8%)\rEpoch: 14.0%  lr: 0.028529  loss: 0.008836  eta: 0h7m  tot: 0h6m4s  (42.8%)\rEpoch: 14.1%  lr: 0.028519  loss: 0.008860  eta: 0h7m  tot: 0h6m4s  (42.8%)\rEpoch: 14.2%  lr: 0.028489  loss: 0.008901  eta: 0h7m  tot: 0h6m4s  (42.8%)\rEpoch: 14.3%  lr: 0.028479  loss: 0.008906  eta: 0h7m  tot: 0h6m4s  (42.9%)\rEpoch: 14.4%  lr: 0.028468  loss: 0.008914  eta: 0h7m  tot: 0h6m4s  (42.9%)\rEpoch: 14.5%  lr: 0.028458  loss: 0.008933  eta: 0h7m  tot: 0h6m4s  (42.9%)\rEpoch: 14.6%  lr: 0.028438  loss: 0.008916  eta: 0h7m  tot: 0h6m5s  (42.9%)\rEpoch: 14.7%  lr: 0.028438  loss: 0.008928  eta: 0h7m  tot: 0h6m5s  (42.9%)\rEpoch: 14.8%  lr: 0.028428  loss: 0.008935  eta: 0h7m  tot: 0h6m5s  (43.0%)\rEpoch: 14.9%  lr: 0.028418  loss: 0.008916  eta: 0h7m  tot: 0h6m5s  (43.0%)\rEpoch: 14.9%  lr: 0.028388  loss: 0.008900  eta: 0h7m  tot: 0h6m5s  (43.0%)\rEpoch: 15.0%  lr: 0.028378  loss: 0.008880  eta: 0h7m  tot: 0h6m5s  (43.0%)\rEpoch: 15.1%  lr: 0.028368  loss: 0.008883  eta: 0h7m  tot: 0h6m6s  (43.0%)\rEpoch: 15.2%  lr: 0.028348  loss: 0.008872  eta: 0h7m  tot: 0h6m6s  (43.0%)\rEpoch: 15.3%  lr: 0.028328  loss: 0.008836  eta: 0h7m  tot: 0h6m6s  (43.1%)\rEpoch: 15.4%  lr: 0.028308  loss: 0.008849  eta: 0h7m  tot: 0h6m6s  (43.1%)\rEpoch: 15.5%  lr: 0.028308  loss: 0.008846  eta: 0h7m  tot: 0h6m6s  (43.1%)\rEpoch: 15.6%  lr: 0.028268  loss: 0.008838  eta: 0h7m  tot: 0h6m6s  (43.1%)\rEpoch: 15.7%  lr: 0.028268  loss: 0.008836  eta: 0h7m  tot: 0h6m6s  (43.1%)\rEpoch: 15.8%  lr: 0.028238  loss: 0.008823  eta: 0h7m  tot: 0h6m7s  (43.2%)\rEpoch: 15.8%  lr: 0.028208  loss: 0.008793  eta: 0h7m  tot: 0h6m7s  (43.2%)\rEpoch: 15.9%  lr: 0.028198  loss: 0.008789  eta: 0h7m  tot: 0h6m7s  (43.2%)\rEpoch: 16.0%  lr: 0.028198  loss: 0.008789  eta: 0h7m  tot: 0h6m7s  (43.2%)\rEpoch: 16.1%  lr: 0.028188  loss: 0.008820  eta: 0h7m  tot: 0h6m7s  (43.2%)\rEpoch: 16.2%  lr: 0.028188  loss: 0.008818  eta: 0h7m  tot: 0h6m7s  (43.2%)\rEpoch: 16.3%  lr: 0.028168  loss: 0.008797  eta: 0h7m  tot: 0h6m7s  (43.3%)\rEpoch: 16.4%  lr: 0.028168  loss: 0.008779  eta: 0h7m  tot: 0h6m8s  (43.3%)\rEpoch: 16.5%  lr: 0.028168  loss: 0.008812  eta: 0h7m  tot: 0h6m8s  (43.3%)\rEpoch: 16.6%  lr: 0.028138  loss: 0.008812  eta: 0h7m  tot: 0h6m8s  (43.3%)\rEpoch: 16.7%  lr: 0.028138  loss: 0.008823  eta: 0h7m  tot: 0h6m8s  (43.3%)\rEpoch: 16.7%  lr: 0.028128  loss: 0.008785  eta: 0h7m  tot: 0h6m8s  (43.3%)\rEpoch: 16.8%  lr: 0.028108  loss: 0.008800  eta: 0h7m  tot: 0h6m8s  (43.4%)\rEpoch: 16.9%  lr: 0.028078  loss: 0.008806  eta: 0h7m  tot: 0h6m8s  (43.4%)\rEpoch: 17.0%  lr: 0.028068  loss: 0.008822  eta: 0h7m  tot: 0h6m9s  (43.4%)\rEpoch: 17.1%  lr: 0.028058  loss: 0.008824  eta: 0h7m  tot: 0h6m9s  (43.4%)\rEpoch: 17.2%  lr: 0.028048  loss: 0.008854  eta: 0h7m  tot: 0h6m9s  (43.4%)\rEpoch: 17.3%  lr: 0.028018  loss: 0.008877  eta: 0h7m  tot: 0h6m9s  (43.5%)\rEpoch: 17.4%  lr: 0.028008  loss: 0.008878  eta: 0h7m  tot: 0h6m9s  (43.5%)\rEpoch: 17.5%  lr: 0.027998  loss: 0.008860  eta: 0h7m  tot: 0h6m9s  (43.5%)\rEpoch: 17.6%  lr: 0.027988  loss: 0.008872  eta: 0h7m  tot: 0h6m9s  (43.5%)\rEpoch: 17.6%  lr: 0.027988  loss: 0.008890  eta: 0h7m  tot: 0h6m10s  (43.5%)\rEpoch: 17.7%  lr: 0.027988  loss: 0.008880  eta: 0h7m  tot: 0h6m10s  (43.5%)\rEpoch: 17.8%  lr: 0.027988  loss: 0.008904  eta: 0h7m  tot: 0h6m10s  (43.6%)\rEpoch: 17.9%  lr: 0.027968  loss: 0.008885  eta: 0h7m  tot: 0h6m10s  (43.6%)\rEpoch: 18.0%  lr: 0.027968  loss: 0.008918  eta: 0h7m  tot: 0h6m10s  (43.6%)\rEpoch: 18.1%  lr: 0.027958  loss: 0.008906  eta: 0h7m  tot: 0h6m10s  (43.6%)\rEpoch: 18.2%  lr: 0.027958  loss: 0.008928  eta: 0h7m  tot: 0h6m11s  (43.6%)\rEpoch: 18.3%  lr: 0.027958  loss: 0.008920  eta: 0h7m  tot: 0h6m11s  (43.7%)\rEpoch: 18.4%  lr: 0.027948  loss: 0.008888  eta: 0h7m  tot: 0h6m11s  (43.7%)\rEpoch: 18.5%  lr: 0.027928  loss: 0.008881  eta: 0h7m  tot: 0h6m11s  (43.7%)\rEpoch: 18.5%  lr: 0.027908  loss: 0.008879  eta: 0h7m  tot: 0h6m11s  (43.7%)\rEpoch: 18.6%  lr: 0.027898  loss: 0.008910  eta: 0h7m  tot: 0h6m11s  (43.7%)\rEpoch: 18.7%  lr: 0.027878  loss: 0.008949  eta: 0h7m  tot: 0h6m11s  (43.7%)\rEpoch: 18.8%  lr: 0.027878  loss: 0.008954  eta: 0h7m  tot: 0h6m12s  (43.8%)\rEpoch: 18.9%  lr: 0.027868  loss: 0.008965  eta: 0h7m  tot: 0h6m12s  (43.8%)\rEpoch: 19.0%  lr: 0.027858  loss: 0.008980  eta: 0h7m  tot: 0h6m12s  (43.8%)\rEpoch: 19.1%  lr: 0.027858  loss: 0.008978  eta: 0h7m  tot: 0h6m12s  (43.8%)\rEpoch: 19.2%  lr: 0.027848  loss: 0.008997  eta: 0h7m  tot: 0h6m12s  (43.8%)\rEpoch: 19.3%  lr: 0.027838  loss: 0.009026  eta: 0h7m  tot: 0h6m12s  (43.9%)\rEpoch: 19.4%  lr: 0.027828  loss: 0.009012  eta: 0h7m  tot: 0h6m12s  (43.9%)\rEpoch: 19.4%  lr: 0.027828  loss: 0.009018  eta: 0h7m  tot: 0h6m13s  (43.9%)\rEpoch: 19.5%  lr: 0.027808  loss: 0.009008  eta: 0h7m  tot: 0h6m13s  (43.9%)\rEpoch: 19.6%  lr: 0.027808  loss: 0.009041  eta: 0h7m  tot: 0h6m13s  (43.9%)\rEpoch: 19.7%  lr: 0.027808  loss: 0.009031  eta: 0h7m  tot: 0h6m13s  (43.9%)\rEpoch: 19.8%  lr: 0.027798  loss: 0.009043  eta: 0h7m  tot: 0h6m13s  (44.0%)\rEpoch: 19.9%  lr: 0.027788  loss: 0.009058  eta: 0h7m  tot: 0h6m13s  (44.0%)\rEpoch: 20.0%  lr: 0.027778  loss: 0.009059  eta: 0h7m  tot: 0h6m13s  (44.0%)\rEpoch: 20.1%  lr: 0.027768  loss: 0.009099  eta: 0h7m  tot: 0h6m14s  (44.0%)\rEpoch: 20.2%  lr: 0.027758  loss: 0.009103  eta: 0h7m  tot: 0h6m14s  (44.0%)\rEpoch: 20.3%  lr: 0.027758  loss: 0.009090  eta: 0h7m  tot: 0h6m14s  (44.1%)\rEpoch: 20.3%  lr: 0.027748  loss: 0.009097  eta: 0h7m  tot: 0h6m14s  (44.1%)\rEpoch: 20.4%  lr: 0.027748  loss: 0.009149  eta: 0h7m  tot: 0h6m14s  (44.1%)\rEpoch: 20.5%  lr: 0.027738  loss: 0.009140  eta: 0h7m  tot: 0h6m14s  (44.1%)\rEpoch: 20.6%  lr: 0.027738  loss: 0.009158  eta: 0h7m  tot: 0h6m14s  (44.1%)\rEpoch: 20.7%  lr: 0.027708  loss: 0.009173  eta: 0h7m  tot: 0h6m15s  (44.1%)\rEpoch: 20.8%  lr: 0.027698  loss: 0.009162  eta: 0h7m  tot: 0h6m15s  (44.2%)\rEpoch: 20.9%  lr: 0.027688  loss: 0.009209  eta: 0h7m  tot: 0h6m15s  (44.2%)\rEpoch: 21.0%  lr: 0.027658  loss: 0.009180  eta: 0h7m  tot: 0h6m15s  (44.2%)\rEpoch: 21.1%  lr: 0.027658  loss: 0.009169  eta: 0h7m  tot: 0h6m15s  (44.2%)\rEpoch: 21.2%  lr: 0.027648  loss: 0.009152  eta: 0h7m  tot: 0h6m15s  (44.2%)\rEpoch: 21.2%  lr: 0.027638  loss: 0.009146  eta: 0h7m  tot: 0h6m16s  (44.2%)\rEpoch: 21.3%  lr: 0.027628  loss: 0.009150  eta: 0h7m  tot: 0h6m16s  (44.3%)\rEpoch: 21.4%  lr: 0.027618  loss: 0.009149  eta: 0h7m  tot: 0h6m16s  (44.3%)\rEpoch: 21.5%  lr: 0.027608  loss: 0.009142  eta: 0h7m  tot: 0h6m16s  (44.3%)\rEpoch: 21.6%  lr: 0.027598  loss: 0.009157  eta: 0h7m  tot: 0h6m16s  (44.3%)\rEpoch: 21.7%  lr: 0.027598  loss: 0.009147  eta: 0h7m  tot: 0h6m16s  (44.3%)\rEpoch: 21.8%  lr: 0.027588  loss: 0.009164  eta: 0h7m  tot: 0h6m16s  (44.4%)\rEpoch: 21.9%  lr: 0.027568  loss: 0.009169  eta: 0h7m  tot: 0h6m17s  (44.4%)\rEpoch: 22.0%  lr: 0.027548  loss: 0.009163  eta: 0h7m  tot: 0h6m17s  (44.4%)\rEpoch: 22.1%  lr: 0.027538  loss: 0.009168  eta: 0h7m  tot: 0h6m17s  (44.4%)\rEpoch: 22.1%  lr: 0.027528  loss: 0.009173  eta: 0h7m  tot: 0h6m17s  (44.4%)\rEpoch: 22.2%  lr: 0.027518  loss: 0.009166  eta: 0h7m  tot: 0h6m17s  (44.4%)\rEpoch: 22.3%  lr: 0.027518  loss: 0.009220  eta: 0h7m  tot: 0h6m17s  (44.5%)\rEpoch: 22.4%  lr: 0.027498  loss: 0.009211  eta: 0h7m  tot: 0h6m17s  (44.5%)\rEpoch: 22.5%  lr: 0.027498  loss: 0.009221  eta: 0h7m  tot: 0h6m18s  (44.5%)\rEpoch: 22.6%  lr: 0.027488  loss: 0.009233  eta: 0h7m  tot: 0h6m18s  (44.5%)\rEpoch: 22.7%  lr: 0.027478  loss: 0.009208  eta: 0h7m  tot: 0h6m18s  (44.5%)\rEpoch: 22.8%  lr: 0.027468  loss: 0.009225  eta: 0h7m  tot: 0h6m18s  (44.6%)\rEpoch: 22.9%  lr: 0.027457  loss: 0.009234  eta: 0h7m  tot: 0h6m18s  (44.6%)\rEpoch: 23.0%  lr: 0.027447  loss: 0.009256  eta: 0h7m  tot: 0h6m18s  (44.6%)\rEpoch: 23.0%  lr: 0.027417  loss: 0.009247  eta: 0h7m  tot: 0h6m18s  (44.6%)\rEpoch: 23.1%  lr: 0.027397  loss: 0.009231  eta: 0h7m  tot: 0h6m19s  (44.6%)\rEpoch: 23.2%  lr: 0.027387  loss: 0.009224  eta: 0h7m  tot: 0h6m19s  (44.6%)\rEpoch: 23.3%  lr: 0.027377  loss: 0.009228  eta: 0h7m  tot: 0h6m19s  (44.7%)\rEpoch: 23.4%  lr: 0.027367  loss: 0.009223  eta: 0h7m  tot: 0h6m19s  (44.7%)\rEpoch: 23.5%  lr: 0.027357  loss: 0.009266  eta: 0h7m  tot: 0h6m19s  (44.7%)\rEpoch: 23.6%  lr: 0.027357  loss: 0.009267  eta: 0h7m  tot: 0h6m19s  (44.7%)\rEpoch: 23.7%  lr: 0.027347  loss: 0.009265  eta: 0h7m  tot: 0h6m19s  (44.7%)\rEpoch: 23.8%  lr: 0.027337  loss: 0.009253  eta: 0h7m  tot: 0h6m20s  (44.8%)\rEpoch: 23.9%  lr: 0.027297  loss: 0.009304  eta: 0h7m  tot: 0h6m20s  (44.8%)\rEpoch: 23.9%  lr: 0.027287  loss: 0.009299  eta: 0h7m  tot: 0h6m20s  (44.8%)\rEpoch: 24.0%  lr: 0.027287  loss: 0.009285  eta: 0h7m  tot: 0h6m20s  (44.8%)\rEpoch: 24.1%  lr: 0.027277  loss: 0.009264  eta: 0h7m  tot: 0h6m20s  (44.8%)\rEpoch: 24.2%  lr: 0.027277  loss: 0.009248  eta: 0h7m  tot: 0h6m20s  (44.8%)\rEpoch: 24.3%  lr: 0.027277  loss: 0.009262  eta: 0h7m  tot: 0h6m21s  (44.9%)\rEpoch: 24.4%  lr: 0.027277  loss: 0.009272  eta: 0h7m  tot: 0h6m21s  (44.9%)\rEpoch: 24.5%  lr: 0.027277  loss: 0.009269  eta: 0h7m  tot: 0h6m21s  (44.9%)\rEpoch: 24.6%  lr: 0.027267  loss: 0.009269  eta: 0h7m  tot: 0h6m21s  (44.9%)\rEpoch: 24.7%  lr: 0.027257  loss: 0.009297  eta: 0h7m  tot: 0h6m21s  (44.9%)\rEpoch: 24.8%  lr: 0.027247  loss: 0.009292  eta: 0h7m  tot: 0h6m21s  (45.0%)\rEpoch: 24.8%  lr: 0.027247  loss: 0.009286  eta: 0h7m  tot: 0h6m21s  (45.0%)\rEpoch: 24.9%  lr: 0.027227  loss: 0.009278  eta: 0h7m  tot: 0h6m22s  (45.0%)\rEpoch: 25.0%  lr: 0.027227  loss: 0.009293  eta: 0h7m  tot: 0h6m22s  (45.0%)\rEpoch: 25.1%  lr: 0.027227  loss: 0.009343  eta: 0h7m  tot: 0h6m22s  (45.0%)\rEpoch: 25.2%  lr: 0.027207  loss: 0.009373  eta: 0h7m  tot: 0h6m22s  (45.0%)\rEpoch: 25.3%  lr: 0.027207  loss: 0.009370  eta: 0h7m  tot: 0h6m22s  (45.1%)\rEpoch: 25.4%  lr: 0.027207  loss: 0.009362  eta: 0h7m  tot: 0h6m22s  (45.1%)\rEpoch: 25.5%  lr: 0.027187  loss: 0.009334  eta: 0h7m  tot: 0h6m22s  (45.1%)\rEpoch: 25.6%  lr: 0.027177  loss: 0.009344  eta: 0h7m  tot: 0h6m23s  (45.1%)\rEpoch: 25.7%  lr: 0.027177  loss: 0.009366  eta: 0h7m  tot: 0h6m23s  (45.1%)\rEpoch: 25.7%  lr: 0.027177  loss: 0.009358  eta: 0h7m  tot: 0h6m23s  (45.1%)\rEpoch: 25.8%  lr: 0.027137  loss: 0.009343  eta: 0h7m  tot: 0h6m23s  (45.2%)\rEpoch: 25.9%  lr: 0.027127  loss: 0.009334  eta: 0h7m  tot: 0h6m23s  (45.2%)\rEpoch: 26.0%  lr: 0.027127  loss: 0.009308  eta: 0h7m  tot: 0h6m23s  (45.2%)\rEpoch: 26.1%  lr: 0.027117  loss: 0.009291  eta: 0h7m  tot: 0h6m23s  (45.2%)\rEpoch: 26.2%  lr: 0.027107  loss: 0.009323  eta: 0h7m  tot: 0h6m24s  (45.2%)\rEpoch: 26.3%  lr: 0.027107  loss: 0.009345  eta: 0h7m  tot: 0h6m24s  (45.3%)\rEpoch: 26.4%  lr: 0.027107  loss: 0.009334  eta: 0h7m  tot: 0h6m24s  (45.3%)\rEpoch: 26.5%  lr: 0.027087  loss: 0.009333  eta: 0h7m  tot: 0h6m24s  (45.3%)\rEpoch: 26.6%  lr: 0.027067  loss: 0.009308  eta: 0h7m  tot: 0h6m24s  (45.3%)\rEpoch: 26.6%  lr: 0.027047  loss: 0.009315  eta: 0h7m  tot: 0h6m24s  (45.3%)\rEpoch: 26.7%  lr: 0.027037  loss: 0.009293  eta: 0h7m  tot: 0h6m24s  (45.3%)\rEpoch: 26.8%  lr: 0.027027  loss: 0.009280  eta: 0h7m  tot: 0h6m25s  (45.4%)\rEpoch: 26.9%  lr: 0.027017  loss: 0.009263  eta: 0h7m  tot: 0h6m25s  (45.4%)\rEpoch: 27.0%  lr: 0.027007  loss: 0.009277  eta: 0h7m  tot: 0h6m25s  (45.4%)\rEpoch: 27.1%  lr: 0.026997  loss: 0.009287  eta: 0h7m  tot: 0h6m25s  (45.4%)\rEpoch: 27.2%  lr: 0.026997  loss: 0.009283  eta: 0h7m  tot: 0h6m25s  (45.4%)\rEpoch: 27.3%  lr: 0.026987  loss: 0.009299  eta: 0h7m  tot: 0h6m25s  (45.5%)\rEpoch: 27.4%  lr: 0.026967  loss: 0.009320  eta: 0h7m  tot: 0h6m25s  (45.5%)\rEpoch: 27.5%  lr: 0.026957  loss: 0.009325  eta: 0h7m  tot: 0h6m26s  (45.5%)\rEpoch: 27.5%  lr: 0.026947  loss: 0.009322  eta: 0h7m  tot: 0h6m26s  (45.5%)\rEpoch: 27.6%  lr: 0.026947  loss: 0.009319  eta: 0h7m  tot: 0h6m26s  (45.5%)\rEpoch: 27.7%  lr: 0.026937  loss: 0.009318  eta: 0h7m  tot: 0h6m26s  (45.5%)\rEpoch: 27.8%  lr: 0.026927  loss: 0.009341  eta: 0h7m  tot: 0h6m26s  (45.6%)\rEpoch: 27.9%  lr: 0.026907  loss: 0.009358  eta: 0h7m  tot: 0h6m26s  (45.6%)\rEpoch: 28.0%  lr: 0.026897  loss: 0.009354  eta: 0h7m  tot: 0h6m26s  (45.6%)\rEpoch: 28.1%  lr: 0.026887  loss: 0.009355  eta: 0h7m  tot: 0h6m27s  (45.6%)\rEpoch: 28.2%  lr: 0.026887  loss: 0.009414  eta: 0h7m  tot: 0h6m27s  (45.6%)\rEpoch: 28.3%  lr: 0.026877  loss: 0.009402  eta: 0h7m  tot: 0h6m27s  (45.7%)\rEpoch: 28.4%  lr: 0.026877  loss: 0.009433  eta: 0h7m  tot: 0h6m27s  (45.7%)\rEpoch: 28.4%  lr: 0.026867  loss: 0.009419  eta: 0h7m  tot: 0h6m27s  (45.7%)\rEpoch: 28.5%  lr: 0.026867  loss: 0.009425  eta: 0h7m  tot: 0h6m27s  (45.7%)\rEpoch: 28.6%  lr: 0.026857  loss: 0.009424  eta: 0h7m  tot: 0h6m27s  (45.7%)\rEpoch: 28.7%  lr: 0.026847  loss: 0.009408  eta: 0h7m  tot: 0h6m28s  (45.7%)\rEpoch: 28.8%  lr: 0.026827  loss: 0.009412  eta: 0h7m  tot: 0h6m28s  (45.8%)\rEpoch: 28.9%  lr: 0.026827  loss: 0.009384  eta: 0h7m  tot: 0h6m28s  (45.8%)\rEpoch: 29.0%  lr: 0.026817  loss: 0.009368  eta: 0h7m  tot: 0h6m28s  (45.8%)\rEpoch: 29.1%  lr: 0.026817  loss: 0.009391  eta: 0h7m  tot: 0h6m28s  (45.8%)\rEpoch: 29.2%  lr: 0.026807  loss: 0.009391  eta: 0h7m  tot: 0h6m28s  (45.8%)\rEpoch: 29.3%  lr: 0.026807  loss: 0.009404  eta: 0h7m  tot: 0h6m28s  (45.9%)\rEpoch: 29.3%  lr: 0.026797  loss: 0.009405  eta: 0h7m  tot: 0h6m29s  (45.9%)\rEpoch: 29.4%  lr: 0.026777  loss: 0.009406  eta: 0h7m  tot: 0h6m29s  (45.9%)\rEpoch: 29.5%  lr: 0.026767  loss: 0.009392  eta: 0h7m  tot: 0h6m29s  (45.9%)\rEpoch: 29.6%  lr: 0.026757  loss: 0.009382  eta: 0h7m  tot: 0h6m29s  (45.9%)\rEpoch: 29.7%  lr: 0.026747  loss: 0.009374  eta: 0h7m  tot: 0h6m29s  (45.9%)\rEpoch: 29.8%  lr: 0.026747  loss: 0.009366  eta: 0h7m  tot: 0h6m29s  (46.0%)\rEpoch: 29.9%  lr: 0.026747  loss: 0.009357  eta: 0h7m  tot: 0h6m29s  (46.0%)\rEpoch: 30.0%  lr: 0.026747  loss: 0.009348  eta: 0h7m  tot: 0h6m30s  (46.0%)\rEpoch: 30.1%  lr: 0.026747  loss: 0.009358  eta: 0h7m  tot: 0h6m30s  (46.0%)\rEpoch: 30.2%  lr: 0.026747  loss: 0.009389  eta: 0h7m  tot: 0h6m30s  (46.0%)\rEpoch: 30.2%  lr: 0.026747  loss: 0.009386  eta: 0h7m  tot: 0h6m30s  (46.0%)\rEpoch: 30.3%  lr: 0.026737  loss: 0.009401  eta: 0h7m  tot: 0h6m30s  (46.1%)\rEpoch: 30.4%  lr: 0.026737  loss: 0.009410  eta: 0h7m  tot: 0h6m30s  (46.1%)\rEpoch: 30.5%  lr: 0.026727  loss: 0.009414  eta: 0h7m  tot: 0h6m30s  (46.1%)\rEpoch: 30.6%  lr: 0.026717  loss: 0.009400  eta: 0h7m  tot: 0h6m31s  (46.1%)\rEpoch: 30.7%  lr: 0.026717  loss: 0.009381  eta: 0h7m  tot: 0h6m31s  (46.1%)\rEpoch: 30.8%  lr: 0.026717  loss: 0.009391  eta: 0h7m  tot: 0h6m31s  (46.2%)\rEpoch: 30.9%  lr: 0.026707  loss: 0.009397  eta: 0h7m  tot: 0h6m31s  (46.2%)\rEpoch: 31.0%  lr: 0.026677  loss: 0.009410  eta: 0h7m  tot: 0h6m31s  (46.2%)\rEpoch: 31.1%  lr: 0.026677  loss: 0.009430  eta: 0h7m  tot: 0h6m31s  (46.2%)\rEpoch: 31.1%  lr: 0.026667  loss: 0.009429  eta: 0h7m  tot: 0h6m31s  (46.2%)\rEpoch: 31.2%  lr: 0.026667  loss: 0.009424  eta: 0h7m  tot: 0h6m32s  (46.2%)\rEpoch: 31.3%  lr: 0.026647  loss: 0.009450  eta: 0h7m  tot: 0h6m32s  (46.3%)\rEpoch: 31.4%  lr: 0.026637  loss: 0.009449  eta: 0h7m  tot: 0h6m32s  (46.3%)\rEpoch: 31.5%  lr: 0.026637  loss: 0.009451  eta: 0h7m  tot: 0h6m32s  (46.3%)\rEpoch: 31.6%  lr: 0.026617  loss: 0.009490  eta: 0h7m  tot: 0h6m32s  (46.3%)\rEpoch: 31.7%  lr: 0.026617  loss: 0.009470  eta: 0h7m  tot: 0h6m32s  (46.3%)\rEpoch: 31.8%  lr: 0.026597  loss: 0.009457  eta: 0h7m  tot: 0h6m32s  (46.4%)\rEpoch: 31.9%  lr: 0.026597  loss: 0.009495  eta: 0h7m  tot: 0h6m33s  (46.4%)\rEpoch: 32.0%  lr: 0.026597  loss: 0.009504  eta: 0h7m  tot: 0h6m33s  (46.4%)\rEpoch: 32.0%  lr: 0.026597  loss: 0.009496  eta: 0h7m  tot: 0h6m33s  (46.4%)\rEpoch: 32.1%  lr: 0.026597  loss: 0.009488  eta: 0h7m  tot: 0h6m33s  (46.4%)\rEpoch: 32.2%  lr: 0.026587  loss: 0.009501  eta: 0h7m  tot: 0h6m33s  (46.4%)\rEpoch: 32.3%  lr: 0.026577  loss: 0.009500  eta: 0h7m  tot: 0h6m33s  (46.5%)\rEpoch: 32.4%  lr: 0.026577  loss: 0.009477  eta: 0h7m  tot: 0h6m34s  (46.5%)\rEpoch: 32.5%  lr: 0.026577  loss: 0.009466  eta: 0h7m  tot: 0h6m34s  (46.5%)\rEpoch: 32.6%  lr: 0.026557  loss: 0.009453  eta: 0h7m  tot: 0h6m34s  (46.5%)\rEpoch: 32.7%  lr: 0.026557  loss: 0.009457  eta: 0h7m  tot: 0h6m34s  (46.5%)\rEpoch: 32.8%  lr: 0.026547  loss: 0.009469  eta: 0h7m  tot: 0h6m34s  (46.6%)\rEpoch: 32.9%  lr: 0.026547  loss: 0.009455  eta: 0h7m  tot: 0h6m34s  (46.6%)\rEpoch: 32.9%  lr: 0.026517  loss: 0.009453  eta: 0h7m  tot: 0h6m34s  (46.6%)\rEpoch: 33.0%  lr: 0.026507  loss: 0.009440  eta: 0h7m  tot: 0h6m35s  (46.6%)\rEpoch: 33.1%  lr: 0.026497  loss: 0.009458  eta: 0h7m  tot: 0h6m35s  (46.6%)\rEpoch: 33.2%  lr: 0.026497  loss: 0.009456  eta: 0h7m  tot: 0h6m35s  (46.6%)\rEpoch: 33.3%  lr: 0.026497  loss: 0.009448  eta: 0h7m  tot: 0h6m35s  (46.7%)\rEpoch: 33.4%  lr: 0.026477  loss: 0.009449  eta: 0h7m  tot: 0h6m35s  (46.7%)\rEpoch: 33.5%  lr: 0.026467  loss: 0.009432  eta: 0h7m  tot: 0h6m35s  (46.7%)\rEpoch: 33.6%  lr: 0.026447  loss: 0.009420  eta: 0h7m  tot: 0h6m35s  (46.7%)\rEpoch: 33.7%  lr: 0.026436  loss: 0.009401  eta: 0h7m  tot: 0h6m35s  (46.7%)\rEpoch: 33.8%  lr: 0.026436  loss: 0.009398  eta: 0h7m  tot: 0h6m36s  (46.8%)\rEpoch: 33.8%  lr: 0.026436  loss: 0.009397  eta: 0h7m  tot: 0h6m36s  (46.8%)\rEpoch: 33.9%  lr: 0.026406  loss: 0.009418  eta: 0h7m  tot: 0h6m36s  (46.8%)\rEpoch: 34.0%  lr: 0.026386  loss: 0.009413  eta: 0h7m  tot: 0h6m36s  (46.8%)\rEpoch: 34.1%  lr: 0.026376  loss: 0.009413  eta: 0h7m  tot: 0h6m36s  (46.8%)\rEpoch: 34.2%  lr: 0.026366  loss: 0.009399  eta: 0h7m  tot: 0h6m36s  (46.8%)\rEpoch: 34.3%  lr: 0.026366  loss: 0.009403  eta: 0h7m  tot: 0h6m37s  (46.9%)\rEpoch: 34.4%  lr: 0.026366  loss: 0.009424  eta: 0h7m  tot: 0h6m37s  (46.9%)\rEpoch: 34.5%  lr: 0.026356  loss: 0.009420  eta: 0h7m  tot: 0h6m37s  (46.9%)\rEpoch: 34.6%  lr: 0.026356  loss: 0.009480  eta: 0h7m  tot: 0h6m37s  (46.9%)\rEpoch: 34.7%  lr: 0.026346  loss: 0.009467  eta: 0h7m  tot: 0h6m37s  (46.9%)\rEpoch: 34.7%  lr: 0.026316  loss: 0.009459  eta: 0h7m  tot: 0h6m37s  (46.9%)\rEpoch: 34.8%  lr: 0.026316  loss: 0.009446  eta: 0h7m  tot: 0h6m37s  (47.0%)\rEpoch: 34.9%  lr: 0.026296  loss: 0.009433  eta: 0h7m  tot: 0h6m38s  (47.0%)\rEpoch: 35.0%  lr: 0.026286  loss: 0.009421  eta: 0h7m  tot: 0h6m38s  (47.0%)\rEpoch: 35.1%  lr: 0.026276  loss: 0.009412  eta: 0h7m  tot: 0h6m38s  (47.0%)\rEpoch: 35.2%  lr: 0.026276  loss: 0.009406  eta: 0h7m  tot: 0h6m38s  (47.0%)\rEpoch: 35.3%  lr: 0.026266  loss: 0.009430  eta: 0h7m  tot: 0h6m38s  (47.1%)\rEpoch: 35.4%  lr: 0.026266  loss: 0.009454  eta: 0h7m  tot: 0h6m38s  (47.1%)\rEpoch: 35.5%  lr: 0.026256  loss: 0.009444  eta: 0h7m  tot: 0h6m38s  (47.1%)\rEpoch: 35.6%  lr: 0.026256  loss: 0.009443  eta: 0h7m  tot: 0h6m39s  (47.1%)\rEpoch: 35.6%  lr: 0.026246  loss: 0.009446  eta: 0h7m  tot: 0h6m39s  (47.1%)\rEpoch: 35.7%  lr: 0.026226  loss: 0.009439  eta: 0h7m  tot: 0h6m39s  (47.1%)\rEpoch: 35.8%  lr: 0.026196  loss: 0.009430  eta: 0h7m  tot: 0h6m39s  (47.2%)\rEpoch: 35.9%  lr: 0.026186  loss: 0.009421  eta: 0h7m  tot: 0h6m39s  (47.2%)\rEpoch: 36.0%  lr: 0.026176  loss: 0.009420  eta: 0h7m  tot: 0h6m39s  (47.2%)\rEpoch: 36.1%  lr: 0.026166  loss: 0.009408  eta: 0h7m  tot: 0h6m39s  (47.2%)\rEpoch: 36.2%  lr: 0.026156  loss: 0.009456  eta: 0h7m  tot: 0h6m40s  (47.2%)\rEpoch: 36.3%  lr: 0.026146  loss: 0.009480  eta: 0h7m  tot: 0h6m40s  (47.3%)\rEpoch: 36.4%  lr: 0.026136  loss: 0.009497  eta: 0h7m  tot: 0h6m40s  (47.3%)\rEpoch: 36.5%  lr: 0.026126  loss: 0.009482  eta: 0h7m  tot: 0h6m40s  (47.3%)\rEpoch: 36.5%  lr: 0.026126  loss: 0.009469  eta: 0h7m  tot: 0h6m40s  (47.3%)\rEpoch: 36.6%  lr: 0.026126  loss: 0.009479  eta: 0h7m  tot: 0h6m40s  (47.3%)\rEpoch: 36.7%  lr: 0.026116  loss: 0.009487  eta: 0h7m  tot: 0h6m40s  (47.3%)\rEpoch: 36.8%  lr: 0.026116  loss: 0.009515  eta: 0h7m  tot: 0h6m41s  (47.4%)\rEpoch: 36.9%  lr: 0.026086  loss: 0.009521  eta: 0h7m  tot: 0h6m41s  (47.4%)\rEpoch: 37.0%  lr: 0.026066  loss: 0.009547  eta: 0h7m  tot: 0h6m41s  (47.4%)\rEpoch: 37.1%  lr: 0.026066  loss: 0.009543  eta: 0h7m  tot: 0h6m41s  (47.4%)\rEpoch: 37.2%  lr: 0.026056  loss: 0.009544  eta: 0h7m  tot: 0h6m41s  (47.4%)\rEpoch: 37.3%  lr: 0.026026  loss: 0.009542  eta: 0h7m  tot: 0h6m41s  (47.5%)\rEpoch: 37.4%  lr: 0.026026  loss: 0.009534  eta: 0h7m  tot: 0h6m41s  (47.5%)\rEpoch: 37.4%  lr: 0.026026  loss: 0.009522  eta: 0h7m  tot: 0h6m42s  (47.5%)\rEpoch: 37.5%  lr: 0.026026  loss: 0.009511  eta: 0h7m  tot: 0h6m42s  (47.5%)\rEpoch: 37.6%  lr: 0.026006  loss: 0.009525  eta: 0h7m  tot: 0h6m42s  (47.5%)\rEpoch: 37.7%  lr: 0.026006  loss: 0.009528  eta: 0h7m  tot: 0h6m42s  (47.5%)\rEpoch: 37.8%  lr: 0.025996  loss: 0.009520  eta: 0h7m  tot: 0h6m42s  (47.6%)\rEpoch: 37.9%  lr: 0.025996  loss: 0.009528  eta: 0h7m  tot: 0h6m42s  (47.6%)\rEpoch: 38.0%  lr: 0.025996  loss: 0.009512  eta: 0h7m  tot: 0h6m42s  (47.6%)\rEpoch: 38.1%  lr: 0.025986  loss: 0.009516  eta: 0h7m  tot: 0h6m43s  (47.6%)\rEpoch: 38.2%  lr: 0.025976  loss: 0.009516  eta: 0h7m  tot: 0h6m43s  (47.6%)\rEpoch: 38.3%  lr: 0.025976  loss: 0.009544  eta: 0h7m  tot: 0h6m43s  (47.7%)\rEpoch: 38.3%  lr: 0.025946  loss: 0.009541  eta: 0h7m  tot: 0h6m43s  (47.7%)\rEpoch: 38.4%  lr: 0.025926  loss: 0.009534  eta: 0h7m  tot: 0h6m43s  (47.7%)\rEpoch: 38.5%  lr: 0.025926  loss: 0.009526  eta: 0h7m  tot: 0h6m43s  (47.7%)\rEpoch: 38.6%  lr: 0.025916  loss: 0.009542  eta: 0h7m  tot: 0h6m43s  (47.7%)\rEpoch: 38.7%  lr: 0.025906  loss: 0.009540  eta: 0h7m  tot: 0h6m44s  (47.7%)\rEpoch: 38.8%  lr: 0.025886  loss: 0.009544  eta: 0h7m  tot: 0h6m44s  (47.8%)\rEpoch: 38.9%  lr: 0.025886  loss: 0.009540  eta: 0h7m  tot: 0h6m44s  (47.8%)\rEpoch: 39.0%  lr: 0.025866  loss: 0.009538  eta: 0h7m  tot: 0h6m44s  (47.8%)\rEpoch: 39.1%  lr: 0.025826  loss: 0.009534  eta: 0h7m  tot: 0h6m44s  (47.8%)\rEpoch: 39.2%  lr: 0.025776  loss: 0.009522  eta: 0h7m  tot: 0h6m44s  (47.8%)\rEpoch: 39.2%  lr: 0.025766  loss: 0.009530  eta: 0h7m  tot: 0h6m44s  (47.8%)\rEpoch: 39.3%  lr: 0.025766  loss: 0.009521  eta: 0h6m  tot: 0h6m45s  (47.9%)\rEpoch: 39.4%  lr: 0.025746  loss: 0.009506  eta: 0h6m  tot: 0h6m45s  (47.9%)\rEpoch: 39.5%  lr: 0.025736  loss: 0.009501  eta: 0h6m  tot: 0h6m45s  (47.9%)\rEpoch: 39.6%  lr: 0.025716  loss: 0.009494  eta: 0h6m  tot: 0h6m45s  (47.9%)\rEpoch: 39.7%  lr: 0.025706  loss: 0.009510  eta: 0h6m  tot: 0h6m45s  (47.9%)\rEpoch: 39.8%  lr: 0.025706  loss: 0.009528  eta: 0h6m  tot: 0h6m45s  (48.0%)\rEpoch: 39.9%  lr: 0.025706  loss: 0.009519  eta: 0h6m  tot: 0h6m45s  (48.0%)\rEpoch: 40.0%  lr: 0.025706  loss: 0.009517  eta: 0h6m  tot: 0h6m46s  (48.0%)\rEpoch: 40.1%  lr: 0.025696  loss: 0.009508  eta: 0h6m  tot: 0h6m46s  (48.0%)\rEpoch: 40.1%  lr: 0.025676  loss: 0.009504  eta: 0h6m  tot: 0h6m46s  (48.0%)\rEpoch: 40.2%  lr: 0.025656  loss: 0.009490  eta: 0h6m  tot: 0h6m46s  (48.0%)\rEpoch: 40.3%  lr: 0.025656  loss: 0.009478  eta: 0h6m  tot: 0h6m46s  (48.1%)\rEpoch: 40.4%  lr: 0.025656  loss: 0.009476  eta: 0h6m  tot: 0h6m46s  (48.1%)\rEpoch: 40.5%  lr: 0.025656  loss: 0.009472  eta: 0h6m  tot: 0h6m46s  (48.1%)\rEpoch: 40.6%  lr: 0.025636  loss: 0.009493  eta: 0h6m  tot: 0h6m47s  (48.1%)\rEpoch: 40.7%  lr: 0.025636  loss: 0.009492  eta: 0h6m  tot: 0h6m47s  (48.1%)\rEpoch: 40.8%  lr: 0.025636  loss: 0.009479  eta: 0h6m  tot: 0h6m47s  (48.2%)\rEpoch: 40.9%  lr: 0.025636  loss: 0.009505  eta: 0h6m  tot: 0h6m47s  (48.2%)\rEpoch: 41.0%  lr: 0.025636  loss: 0.009526  eta: 0h6m  tot: 0h6m47s  (48.2%)\rEpoch: 41.0%  lr: 0.025636  loss: 0.009515  eta: 0h6m  tot: 0h6m47s  (48.2%)\rEpoch: 41.1%  lr: 0.025636  loss: 0.009515  eta: 0h6m  tot: 0h6m47s  (48.2%)\rEpoch: 41.2%  lr: 0.025636  loss: 0.009505  eta: 0h6m  tot: 0h6m48s  (48.2%)\rEpoch: 41.3%  lr: 0.025616  loss: 0.009505  eta: 0h6m  tot: 0h6m48s  (48.3%)\rEpoch: 41.4%  lr: 0.025616  loss: 0.009505  eta: 0h6m  tot: 0h6m48s  (48.3%)\rEpoch: 41.5%  lr: 0.025606  loss: 0.009497  eta: 0h6m  tot: 0h6m48s  (48.3%)\rEpoch: 41.6%  lr: 0.025596  loss: 0.009503  eta: 0h6m  tot: 0h6m48s  (48.3%)\rEpoch: 41.7%  lr: 0.025586  loss: 0.009510  eta: 0h6m  tot: 0h6m48s  (48.3%)\rEpoch: 41.8%  lr: 0.025586  loss: 0.009494  eta: 0h6m  tot: 0h6m48s  (48.4%)\rEpoch: 41.9%  lr: 0.025586  loss: 0.009520  eta: 0h6m  tot: 0h6m48s  (48.4%)\rEpoch: 42.0%  lr: 0.025576  loss: 0.009509  eta: 0h6m  tot: 0h6m49s  (48.4%)\rEpoch: 42.0%  lr: 0.025566  loss: 0.009499  eta: 0h6m  tot: 0h6m49s  (48.4%)\rEpoch: 42.1%  lr: 0.025556  loss: 0.009499  eta: 0h6m  tot: 0h6m49s  (48.4%)\rEpoch: 42.2%  lr: 0.025556  loss: 0.009491  eta: 0h6m  tot: 0h6m49s  (48.4%)\rEpoch: 42.3%  lr: 0.025546  loss: 0.009484  eta: 0h6m  tot: 0h6m49s  (48.5%)\rEpoch: 42.4%  lr: 0.025536  loss: 0.009471  eta: 0h6m  tot: 0h6m49s  (48.5%)\rEpoch: 42.5%  lr: 0.025536  loss: 0.009467  eta: 0h6m  tot: 0h6m49s  (48.5%)\rEpoch: 42.6%  lr: 0.025536  loss: 0.009470  eta: 0h6m  tot: 0h6m49s  (48.5%)\rEpoch: 42.7%  lr: 0.025536  loss: 0.009462  eta: 0h6m  tot: 0h6m50s  (48.5%)\rEpoch: 42.8%  lr: 0.025516  loss: 0.009466  eta: 0h6m  tot: 0h6m50s  (48.6%)\rEpoch: 42.9%  lr: 0.025506  loss: 0.009456  eta: 0h6m  tot: 0h6m50s  (48.6%)\rEpoch: 42.9%  lr: 0.025506  loss: 0.009457  eta: 0h6m  tot: 0h6m50s  (48.6%)\rEpoch: 43.0%  lr: 0.025506  loss: 0.009464  eta: 0h6m  tot: 0h6m50s  (48.6%)\rEpoch: 43.1%  lr: 0.025496  loss: 0.009467  eta: 0h6m  tot: 0h6m50s  (48.6%)\rEpoch: 43.2%  lr: 0.025496  loss: 0.009454  eta: 0h6m  tot: 0h6m50s  (48.6%)\rEpoch: 43.3%  lr: 0.025486  loss: 0.009468  eta: 0h6m  tot: 0h6m51s  (48.7%)\rEpoch: 43.4%  lr: 0.025466  loss: 0.009467  eta: 0h6m  tot: 0h6m51s  (48.7%)\rEpoch: 43.5%  lr: 0.025456  loss: 0.009468  eta: 0h6m  tot: 0h6m51s  (48.7%)\rEpoch: 43.6%  lr: 0.025446  loss: 0.009464  eta: 0h6m  tot: 0h6m51s  (48.7%)\rEpoch: 43.7%  lr: 0.025446  loss: 0.009470  eta: 0h6m  tot: 0h6m51s  (48.7%)\rEpoch: 43.8%  lr: 0.025446  loss: 0.009460  eta: 0h6m  tot: 0h6m51s  (48.8%)\rEpoch: 43.8%  lr: 0.025425  loss: 0.009452  eta: 0h6m  tot: 0h6m52s  (48.8%)\rEpoch: 43.9%  lr: 0.025415  loss: 0.009469  eta: 0h6m  tot: 0h6m52s  (48.8%)\rEpoch: 44.0%  lr: 0.025395  loss: 0.009467  eta: 0h6m  tot: 0h6m52s  (48.8%)\rEpoch: 44.1%  lr: 0.025385  loss: 0.009466  eta: 0h6m  tot: 0h6m52s  (48.8%)\rEpoch: 44.2%  lr: 0.025385  loss: 0.009459  eta: 0h6m  tot: 0h6m52s  (48.8%)\rEpoch: 44.3%  lr: 0.025365  loss: 0.009476  eta: 0h6m  tot: 0h6m52s  (48.9%)\rEpoch: 44.4%  lr: 0.025365  loss: 0.009470  eta: 0h6m  tot: 0h6m52s  (48.9%)\rEpoch: 44.5%  lr: 0.025365  loss: 0.009476  eta: 0h6m  tot: 0h6m53s  (48.9%)\rEpoch: 44.6%  lr: 0.025355  loss: 0.009491  eta: 0h6m  tot: 0h6m53s  (48.9%)\rEpoch: 44.7%  lr: 0.025355  loss: 0.009485  eta: 0h6m  tot: 0h6m53s  (48.9%)\rEpoch: 44.7%  lr: 0.025335  loss: 0.009481  eta: 0h6m  tot: 0h6m53s  (48.9%)\rEpoch: 44.8%  lr: 0.025325  loss: 0.009488  eta: 0h6m  tot: 0h6m53s  (49.0%)\rEpoch: 44.9%  lr: 0.025315  loss: 0.009474  eta: 0h6m  tot: 0h6m53s  (49.0%)\rEpoch: 45.0%  lr: 0.025295  loss: 0.009466  eta: 0h6m  tot: 0h6m53s  (49.0%)\rEpoch: 45.1%  lr: 0.025285  loss: 0.009465  eta: 0h6m  tot: 0h6m54s  (49.0%)\rEpoch: 45.2%  lr: 0.025265  loss: 0.009464  eta: 0h6m  tot: 0h6m54s  (49.0%)\rEpoch: 45.3%  lr: 0.025265  loss: 0.009455  eta: 0h6m  tot: 0h6m54s  (49.1%)\rEpoch: 45.4%  lr: 0.025255  loss: 0.009459  eta: 0h6m  tot: 0h6m54s  (49.1%)\rEpoch: 45.5%  lr: 0.025235  loss: 0.009459  eta: 0h6m  tot: 0h6m54s  (49.1%)\rEpoch: 45.6%  lr: 0.025225  loss: 0.009447  eta: 0h6m  tot: 0h6m54s  (49.1%)\rEpoch: 45.6%  lr: 0.025215  loss: 0.009453  eta: 0h6m  tot: 0h6m54s  (49.1%)\rEpoch: 45.7%  lr: 0.025215  loss: 0.009442  eta: 0h6m  tot: 0h6m55s  (49.1%)\rEpoch: 45.8%  lr: 0.025215  loss: 0.009434  eta: 0h6m  tot: 0h6m55s  (49.2%)\rEpoch: 45.9%  lr: 0.025205  loss: 0.009423  eta: 0h6m  tot: 0h6m55s  (49.2%)\rEpoch: 46.0%  lr: 0.025195  loss: 0.009437  eta: 0h6m  tot: 0h6m55s  (49.2%)\rEpoch: 46.1%  lr: 0.025175  loss: 0.009434  eta: 0h6m  tot: 0h6m55s  (49.2%)\rEpoch: 46.2%  lr: 0.025165  loss: 0.009443  eta: 0h6m  tot: 0h6m55s  (49.2%)\rEpoch: 46.3%  lr: 0.025165  loss: 0.009441  eta: 0h6m  tot: 0h6m55s  (49.3%)\rEpoch: 46.4%  lr: 0.025165  loss: 0.009442  eta: 0h6m  tot: 0h6m56s  (49.3%)\rEpoch: 46.5%  lr: 0.025165  loss: 0.009438  eta: 0h6m  tot: 0h6m56s  (49.3%)\rEpoch: 46.5%  lr: 0.025165  loss: 0.009442  eta: 0h6m  tot: 0h6m56s  (49.3%)\rEpoch: 46.6%  lr: 0.025155  loss: 0.009451  eta: 0h6m  tot: 0h6m56s  (49.3%)\rEpoch: 46.7%  lr: 0.025145  loss: 0.009461  eta: 0h6m  tot: 0h6m56s  (49.3%)\rEpoch: 46.8%  lr: 0.025145  loss: 0.009461  eta: 0h6m  tot: 0h6m56s  (49.4%)\rEpoch: 46.9%  lr: 0.025145  loss: 0.009458  eta: 0h6m  tot: 0h6m56s  (49.4%)\rEpoch: 47.0%  lr: 0.025135  loss: 0.009465  eta: 0h6m  tot: 0h6m57s  (49.4%)\rEpoch: 47.1%  lr: 0.025135  loss: 0.009486  eta: 0h6m  tot: 0h6m57s  (49.4%)\rEpoch: 47.2%  lr: 0.025135  loss: 0.009484  eta: 0h6m  tot: 0h6m57s  (49.4%)\rEpoch: 47.3%  lr: 0.025125  loss: 0.009503  eta: 0h6m  tot: 0h6m57s  (49.5%)\rEpoch: 47.4%  lr: 0.025115  loss: 0.009512  eta: 0h6m  tot: 0h6m57s  (49.5%)\rEpoch: 47.4%  lr: 0.025095  loss: 0.009514  eta: 0h6m  tot: 0h6m57s  (49.5%)\rEpoch: 47.5%  lr: 0.025085  loss: 0.009511  eta: 0h6m  tot: 0h6m58s  (49.5%)\rEpoch: 47.6%  lr: 0.025085  loss: 0.009501  eta: 0h6m  tot: 0h6m58s  (49.5%)\rEpoch: 47.7%  lr: 0.025065  loss: 0.009493  eta: 0h6m  tot: 0h6m58s  (49.5%)\rEpoch: 47.8%  lr: 0.025055  loss: 0.009496  eta: 0h6m  tot: 0h6m58s  (49.6%)\rEpoch: 47.9%  lr: 0.025055  loss: 0.009492  eta: 0h6m  tot: 0h6m58s  (49.6%)\rEpoch: 48.0%  lr: 0.025055  loss: 0.009486  eta: 0h6m  tot: 0h6m58s  (49.6%)\rEpoch: 48.1%  lr: 0.025055  loss: 0.009483  eta: 0h6m  tot: 0h6m58s  (49.6%)\rEpoch: 48.2%  lr: 0.025055  loss: 0.009469  eta: 0h6m  tot: 0h6m58s  (49.6%)\rEpoch: 48.3%  lr: 0.025035  loss: 0.009466  eta: 0h6m  tot: 0h6m59s  (49.7%)\rEpoch: 48.3%  lr: 0.025025  loss: 0.009457  eta: 0h6m  tot: 0h6m59s  (49.7%)\rEpoch: 48.4%  lr: 0.025005  loss: 0.009461  eta: 0h6m  tot: 0h6m59s  (49.7%)\rEpoch: 48.5%  lr: 0.025005  loss: 0.009460  eta: 0h6m  tot: 0h6m59s  (49.7%)\rEpoch: 48.6%  lr: 0.025005  loss: 0.009460  eta: 0h6m  tot: 0h6m59s  (49.7%)\rEpoch: 48.7%  lr: 0.025005  loss: 0.009466  eta: 0h6m  tot: 0h6m59s  (49.7%)\rEpoch: 48.8%  lr: 0.025005  loss: 0.009466  eta: 0h6m  tot: 0h6m59s  (49.8%)\rEpoch: 48.9%  lr: 0.025005  loss: 0.009465  eta: 0h6m  tot: 0h7m0s  (49.8%)\rEpoch: 49.0%  lr: 0.024975  loss: 0.009469  eta: 0h6m  tot: 0h7m0s  (49.8%)\rEpoch: 49.1%  lr: 0.024975  loss: 0.009465  eta: 0h6m  tot: 0h7m0s  (49.8%)\rEpoch: 49.2%  lr: 0.024965  loss: 0.009462  eta: 0h6m  tot: 0h7m0s  (49.8%)\rEpoch: 49.2%  lr: 0.024925  loss: 0.009462  eta: 0h6m  tot: 0h7m0s  (49.8%)\rEpoch: 49.3%  lr: 0.024925  loss: 0.009463  eta: 0h6m  tot: 0h7m0s  (49.9%)\rEpoch: 49.4%  lr: 0.024915  loss: 0.009482  eta: 0h6m  tot: 0h7m0s  (49.9%)\rEpoch: 49.5%  lr: 0.024905  loss: 0.009484  eta: 0h6m  tot: 0h7m1s  (49.9%)\rEpoch: 49.6%  lr: 0.024895  loss: 0.009503  eta: 0h6m  tot: 0h7m1s  (49.9%)\rEpoch: 49.7%  lr: 0.024885  loss: 0.009493  eta: 0h6m  tot: 0h7m1s  (49.9%)\rEpoch: 49.8%  lr: 0.024865  loss: 0.009492  eta: 0h6m  tot: 0h7m1s  (50.0%)\rEpoch: 49.9%  lr: 0.024865  loss: 0.009495  eta: 0h6m  tot: 0h7m1s  (50.0%)\rEpoch: 50.0%  lr: 0.024865  loss: 0.009490  eta: 0h6m  tot: 0h7m1s  (50.0%)\rEpoch: 50.1%  lr: 0.024845  loss: 0.009483  eta: 0h6m  tot: 0h7m2s  (50.0%)\rEpoch: 50.1%  lr: 0.024845  loss: 0.009485  eta: 0h6m  tot: 0h7m2s  (50.0%)\rEpoch: 50.2%  lr: 0.024835  loss: 0.009480  eta: 0h6m  tot: 0h7m2s  (50.0%)\rEpoch: 50.3%  lr: 0.024805  loss: 0.009476  eta: 0h6m  tot: 0h7m2s  (50.1%)\rEpoch: 50.4%  lr: 0.024765  loss: 0.009472  eta: 0h6m  tot: 0h7m2s  (50.1%)\rEpoch: 50.5%  lr: 0.024745  loss: 0.009461  eta: 0h6m  tot: 0h7m2s  (50.1%)\rEpoch: 50.6%  lr: 0.024745  loss: 0.009463  eta: 0h6m  tot: 0h7m2s  (50.1%)\rEpoch: 50.7%  lr: 0.024725  loss: 0.009462  eta: 0h6m  tot: 0h7m3s  (50.1%)\rEpoch: 50.8%  lr: 0.024725  loss: 0.009478  eta: 0h6m  tot: 0h7m3s  (50.2%)\rEpoch: 50.9%  lr: 0.024715  loss: 0.009475  eta: 0h6m  tot: 0h7m3s  (50.2%)\rEpoch: 51.0%  lr: 0.024685  loss: 0.009467  eta: 0h6m  tot: 0h7m3s  (50.2%)\rEpoch: 51.0%  lr: 0.024685  loss: 0.009455  eta: 0h6m  tot: 0h7m3s  (50.2%)\rEpoch: 51.1%  lr: 0.024675  loss: 0.009454  eta: 0h6m  tot: 0h7m3s  (50.2%)\rEpoch: 51.2%  lr: 0.024675  loss: 0.009456  eta: 0h6m  tot: 0h7m3s  (50.2%)\rEpoch: 51.3%  lr: 0.024675  loss: 0.009458  eta: 0h6m  tot: 0h7m4s  (50.3%)\rEpoch: 51.4%  lr: 0.024675  loss: 0.009483  eta: 0h6m  tot: 0h7m4s  (50.3%)\rEpoch: 51.5%  lr: 0.024675  loss: 0.009484  eta: 0h6m  tot: 0h7m4s  (50.3%)\rEpoch: 51.6%  lr: 0.024645  loss: 0.009486  eta: 0h6m  tot: 0h7m4s  (50.3%)\rEpoch: 51.7%  lr: 0.024645  loss: 0.009477  eta: 0h6m  tot: 0h7m4s  (50.3%)\rEpoch: 51.8%  lr: 0.024615  loss: 0.009477  eta: 0h6m  tot: 0h7m4s  (50.4%)\rEpoch: 51.9%  lr: 0.024605  loss: 0.009488  eta: 0h6m  tot: 0h7m4s  (50.4%)\rEpoch: 51.9%  lr: 0.024595  loss: 0.009495  eta: 0h6m  tot: 0h7m5s  (50.4%)\rEpoch: 52.0%  lr: 0.024575  loss: 0.009484  eta: 0h6m  tot: 0h7m5s  (50.4%)\rEpoch: 52.1%  lr: 0.024575  loss: 0.009487  eta: 0h6m  tot: 0h7m5s  (50.4%)\rEpoch: 52.2%  lr: 0.024565  loss: 0.009491  eta: 0h6m  tot: 0h7m5s  (50.4%)\rEpoch: 52.3%  lr: 0.024555  loss: 0.009490  eta: 0h6m  tot: 0h7m5s  (50.5%)\rEpoch: 52.4%  lr: 0.024545  loss: 0.009485  eta: 0h6m  tot: 0h7m5s  (50.5%)\rEpoch: 52.5%  lr: 0.024545  loss: 0.009481  eta: 0h6m  tot: 0h7m5s  (50.5%)\rEpoch: 52.6%  lr: 0.024535  loss: 0.009487  eta: 0h6m  tot: 0h7m6s  (50.5%)\rEpoch: 52.7%  lr: 0.024525  loss: 0.009487  eta: 0h6m  tot: 0h7m6s  (50.5%)\rEpoch: 52.8%  lr: 0.024525  loss: 0.009487  eta: 0h6m  tot: 0h7m6s  (50.6%)\rEpoch: 52.8%  lr: 0.024515  loss: 0.009485  eta: 0h6m  tot: 0h7m6s  (50.6%)\rEpoch: 52.9%  lr: 0.024485  loss: 0.009481  eta: 0h6m  tot: 0h7m6s  (50.6%)\rEpoch: 53.0%  lr: 0.024485  loss: 0.009471  eta: 0h6m  tot: 0h7m6s  (50.6%)\rEpoch: 53.1%  lr: 0.024475  loss: 0.009463  eta: 0h6m  tot: 0h7m7s  (50.6%)\rEpoch: 53.2%  lr: 0.024465  loss: 0.009476  eta: 0h6m  tot: 0h7m7s  (50.6%)\rEpoch: 53.3%  lr: 0.024445  loss: 0.009491  eta: 0h6m  tot: 0h7m7s  (50.7%)\rEpoch: 53.4%  lr: 0.024425  loss: 0.009493  eta: 0h6m  tot: 0h7m7s  (50.7%)\rEpoch: 53.5%  lr: 0.024404  loss: 0.009485  eta: 0h6m  tot: 0h7m7s  (50.7%)\rEpoch: 53.6%  lr: 0.024404  loss: 0.009478  eta: 0h6m  tot: 0h7m7s  (50.7%)\rEpoch: 53.7%  lr: 0.024394  loss: 0.009465  eta: 0h6m  tot: 0h7m7s  (50.7%)\rEpoch: 53.7%  lr: 0.024384  loss: 0.009465  eta: 0h6m  tot: 0h7m7s  (50.7%)\rEpoch: 53.8%  lr: 0.024354  loss: 0.009478  eta: 0h6m  tot: 0h7m8s  (50.8%)\rEpoch: 53.9%  lr: 0.024354  loss: 0.009473  eta: 0h6m  tot: 0h7m8s  (50.8%)\rEpoch: 54.0%  lr: 0.024354  loss: 0.009466  eta: 0h6m  tot: 0h7m8s  (50.8%)\rEpoch: 54.1%  lr: 0.024314  loss: 0.009465  eta: 0h6m  tot: 0h7m8s  (50.8%)\rEpoch: 54.2%  lr: 0.024304  loss: 0.009464  eta: 0h6m  tot: 0h7m8s  (50.8%)\rEpoch: 54.3%  lr: 0.024304  loss: 0.009499  eta: 0h6m  tot: 0h7m8s  (50.9%)\rEpoch: 54.4%  lr: 0.024294  loss: 0.009489  eta: 0h6m  tot: 0h7m9s  (50.9%)\rEpoch: 54.5%  lr: 0.024284  loss: 0.009491  eta: 0h6m  tot: 0h7m9s  (50.9%)\rEpoch: 54.6%  lr: 0.024284  loss: 0.009491  eta: 0h6m  tot: 0h7m9s  (50.9%)\rEpoch: 54.6%  lr: 0.024274  loss: 0.009501  eta: 0h6m  tot: 0h7m9s  (50.9%)\rEpoch: 54.7%  lr: 0.024264  loss: 0.009511  eta: 0h6m  tot: 0h7m9s  (50.9%)\rEpoch: 54.8%  lr: 0.024254  loss: 0.009502  eta: 0h6m  tot: 0h7m9s  (51.0%)\rEpoch: 54.9%  lr: 0.024254  loss: 0.009511  eta: 0h6m  tot: 0h7m9s  (51.0%)\rEpoch: 55.0%  lr: 0.024244  loss: 0.009509  eta: 0h6m  tot: 0h7m10s  (51.0%)\rEpoch: 55.1%  lr: 0.024234  loss: 0.009511  eta: 0h6m  tot: 0h7m10s  (51.0%)\rEpoch: 55.2%  lr: 0.024224  loss: 0.009516  eta: 0h6m  tot: 0h7m10s  (51.0%)\rEpoch: 55.3%  lr: 0.024224  loss: 0.009511  eta: 0h6m  tot: 0h7m10s  (51.1%)\rEpoch: 55.4%  lr: 0.024204  loss: 0.009510  eta: 0h6m  tot: 0h7m10s  (51.1%)\rEpoch: 55.5%  lr: 0.024204  loss: 0.009502  eta: 0h6m  tot: 0h7m10s  (51.1%)\rEpoch: 55.5%  lr: 0.024194  loss: 0.009498  eta: 0h6m  tot: 0h7m10s  (51.1%)\rEpoch: 55.6%  lr: 0.024194  loss: 0.009494  eta: 0h6m  tot: 0h7m11s  (51.1%)\rEpoch: 55.7%  lr: 0.024194  loss: 0.009497  eta: 0h6m  tot: 0h7m11s  (51.1%)\rEpoch: 55.8%  lr: 0.024174  loss: 0.009503  eta: 0h6m  tot: 0h7m11s  (51.2%)\rEpoch: 55.9%  lr: 0.024174  loss: 0.009505  eta: 0h6m  tot: 0h7m11s  (51.2%)\rEpoch: 56.0%  lr: 0.024164  loss: 0.009506  eta: 0h6m  tot: 0h7m11s  (51.2%)\rEpoch: 56.1%  lr: 0.024164  loss: 0.009514  eta: 0h6m  tot: 0h7m11s  (51.2%)\rEpoch: 56.2%  lr: 0.024134  loss: 0.009508  eta: 0h6m  tot: 0h7m11s  (51.2%)\rEpoch: 56.3%  lr: 0.024124  loss: 0.009517  eta: 0h6m  tot: 0h7m12s  (51.3%)\rEpoch: 56.4%  lr: 0.024094  loss: 0.009528  eta: 0h6m  tot: 0h7m12s  (51.3%)\rEpoch: 56.4%  lr: 0.024094  loss: 0.009527  eta: 0h6m  tot: 0h7m12s  (51.3%)\rEpoch: 56.5%  lr: 0.024094  loss: 0.009523  eta: 0h6m  tot: 0h7m12s  (51.3%)\rEpoch: 56.6%  lr: 0.024074  loss: 0.009515  eta: 0h6m  tot: 0h7m12s  (51.3%)\rEpoch: 56.7%  lr: 0.024074  loss: 0.009515  eta: 0h6m  tot: 0h7m12s  (51.3%)\rEpoch: 56.8%  lr: 0.024064  loss: 0.009508  eta: 0h6m  tot: 0h7m12s  (51.4%)\rEpoch: 56.9%  lr: 0.024064  loss: 0.009499  eta: 0h6m  tot: 0h7m13s  (51.4%)\rEpoch: 57.0%  lr: 0.024034  loss: 0.009498  eta: 0h6m  tot: 0h7m13s  (51.4%)\rEpoch: 57.1%  lr: 0.024034  loss: 0.009502  eta: 0h6m  tot: 0h7m13s  (51.4%)\rEpoch: 57.2%  lr: 0.024004  loss: 0.009505  eta: 0h6m  tot: 0h7m13s  (51.4%)\rEpoch: 57.3%  lr: 0.023984  loss: 0.009510  eta: 0h6m  tot: 0h7m13s  (51.5%)\rEpoch: 57.3%  lr: 0.023974  loss: 0.009524  eta: 0h6m  tot: 0h7m13s  (51.5%)\rEpoch: 57.4%  lr: 0.023964  loss: 0.009529  eta: 0h6m  tot: 0h7m13s  (51.5%)\rEpoch: 57.5%  lr: 0.023964  loss: 0.009521  eta: 0h6m  tot: 0h7m14s  (51.5%)\rEpoch: 57.6%  lr: 0.023954  loss: 0.009522  eta: 0h6m  tot: 0h7m14s  (51.5%)\rEpoch: 57.7%  lr: 0.023934  loss: 0.009522  eta: 0h6m  tot: 0h7m14s  (51.5%)\rEpoch: 57.8%  lr: 0.023924  loss: 0.009516  eta: 0h6m  tot: 0h7m14s  (51.6%)\rEpoch: 57.9%  lr: 0.023914  loss: 0.009512  eta: 0h6m  tot: 0h7m14s  (51.6%)\rEpoch: 58.0%  lr: 0.023914  loss: 0.009509  eta: 0h6m  tot: 0h7m14s  (51.6%)\rEpoch: 58.1%  lr: 0.023914  loss: 0.009515  eta: 0h6m  tot: 0h7m15s  (51.6%)\rEpoch: 58.2%  lr: 0.023914  loss: 0.009506  eta: 0h6m  tot: 0h7m15s  (51.6%)\rEpoch: 58.2%  lr: 0.023904  loss: 0.009512  eta: 0h6m  tot: 0h7m15s  (51.6%)\rEpoch: 58.3%  lr: 0.023884  loss: 0.009505  eta: 0h6m  tot: 0h7m15s  (51.7%)\rEpoch: 58.4%  lr: 0.023874  loss: 0.009510  eta: 0h6m  tot: 0h7m15s  (51.7%)\rEpoch: 58.5%  lr: 0.023874  loss: 0.009502  eta: 0h6m  tot: 0h7m15s  (51.7%)\rEpoch: 58.6%  lr: 0.023864  loss: 0.009492  eta: 0h6m  tot: 0h7m15s  (51.7%)\rEpoch: 58.7%  lr: 0.023844  loss: 0.009483  eta: 0h6m  tot: 0h7m16s  (51.7%)\rEpoch: 58.8%  lr: 0.023844  loss: 0.009478  eta: 0h6m  tot: 0h7m16s  (51.8%)\rEpoch: 58.9%  lr: 0.023834  loss: 0.009483  eta: 0h6m  tot: 0h7m16s  (51.8%)\rEpoch: 59.0%  lr: 0.023814  loss: 0.009481  eta: 0h6m  tot: 0h7m16s  (51.8%)\rEpoch: 59.1%  lr: 0.023794  loss: 0.009487  eta: 0h6m  tot: 0h7m16s  (51.8%)\rEpoch: 59.1%  lr: 0.023764  loss: 0.009477  eta: 0h6m  tot: 0h7m16s  (51.8%)\rEpoch: 59.2%  lr: 0.023764  loss: 0.009469  eta: 0h6m  tot: 0h7m16s  (51.8%)\rEpoch: 59.3%  lr: 0.023764  loss: 0.009469  eta: 0h6m  tot: 0h7m17s  (51.9%)\rEpoch: 59.4%  lr: 0.023754  loss: 0.009461  eta: 0h6m  tot: 0h7m17s  (51.9%)\rEpoch: 59.5%  lr: 0.023734  loss: 0.009451  eta: 0h6m  tot: 0h7m17s  (51.9%)\rEpoch: 59.6%  lr: 0.023734  loss: 0.009448  eta: 0h6m  tot: 0h7m17s  (51.9%)\rEpoch: 59.7%  lr: 0.023714  loss: 0.009437  eta: 0h6m  tot: 0h7m17s  (51.9%)\rEpoch: 59.8%  lr: 0.023684  loss: 0.009425  eta: 0h6m  tot: 0h7m17s  (52.0%)\rEpoch: 59.9%  lr: 0.023664  loss: 0.009421  eta: 0h6m  tot: 0h7m17s  (52.0%)\rEpoch: 60.0%  lr: 0.023664  loss: 0.009429  eta: 0h6m  tot: 0h7m18s  (52.0%)\rEpoch: 60.0%  lr: 0.023624  loss: 0.009429  eta: 0h6m  tot: 0h7m18s  (52.0%)\rEpoch: 60.1%  lr: 0.023604  loss: 0.009423  eta: 0h6m  tot: 0h7m18s  (52.0%)\rEpoch: 60.2%  lr: 0.023584  loss: 0.009416  eta: 0h6m  tot: 0h7m18s  (52.0%)\rEpoch: 60.3%  lr: 0.023564  loss: 0.009419  eta: 0h6m  tot: 0h7m18s  (52.1%)\rEpoch: 60.4%  lr: 0.023554  loss: 0.009418  eta: 0h6m  tot: 0h7m18s  (52.1%)\rEpoch: 60.5%  lr: 0.023534  loss: 0.009430  eta: 0h6m  tot: 0h7m18s  (52.1%)\rEpoch: 60.6%  lr: 0.023514  loss: 0.009427  eta: 0h6m  tot: 0h7m19s  (52.1%)\rEpoch: 60.7%  lr: 0.023484  loss: 0.009432  eta: 0h6m  tot: 0h7m19s  (52.1%)\rEpoch: 60.8%  lr: 0.023474  loss: 0.009422  eta: 0h6m  tot: 0h7m19s  (52.2%)\rEpoch: 60.9%  lr: 0.023464  loss: 0.009426  eta: 0h6m  tot: 0h7m19s  (52.2%)\rEpoch: 60.9%  lr: 0.023464  loss: 0.009419  eta: 0h6m  tot: 0h7m19s  (52.2%)\rEpoch: 61.0%  lr: 0.023444  loss: 0.009424  eta: 0h6m  tot: 0h7m19s  (52.2%)\rEpoch: 61.1%  lr: 0.023414  loss: 0.009423  eta: 0h6m  tot: 0h7m19s  (52.2%)\rEpoch: 61.2%  lr: 0.023404  loss: 0.009421  eta: 0h6m  tot: 0h7m20s  (52.2%)\rEpoch: 61.3%  lr: 0.023404  loss: 0.009425  eta: 0h6m  tot: 0h7m20s  (52.3%)\rEpoch: 61.4%  lr: 0.023383  loss: 0.009430  eta: 0h6m  tot: 0h7m20s  (52.3%)\rEpoch: 61.5%  lr: 0.023363  loss: 0.009427  eta: 0h6m  tot: 0h7m20s  (52.3%)\rEpoch: 61.6%  lr: 0.023363  loss: 0.009420  eta: 0h6m  tot: 0h7m20s  (52.3%)\rEpoch: 61.7%  lr: 0.023353  loss: 0.009416  eta: 0h6m  tot: 0h7m20s  (52.3%)\rEpoch: 61.8%  lr: 0.023343  loss: 0.009420  eta: 0h6m  tot: 0h7m20s  (52.4%)\rEpoch: 61.8%  lr: 0.023343  loss: 0.009410  eta: 0h6m  tot: 0h7m21s  (52.4%)\rEpoch: 61.9%  lr: 0.023323  loss: 0.009410  eta: 0h6m  tot: 0h7m21s  (52.4%)\rEpoch: 62.0%  lr: 0.023303  loss: 0.009416  eta: 0h6m  tot: 0h7m21s  (52.4%)\rEpoch: 62.1%  lr: 0.023293  loss: 0.009415  eta: 0h6m  tot: 0h7m21s  (52.4%)\rEpoch: 62.2%  lr: 0.023283  loss: 0.009408  eta: 0h6m  tot: 0h7m21s  (52.4%)\rEpoch: 62.3%  lr: 0.023283  loss: 0.009407  eta: 0h6m  tot: 0h7m21s  (52.5%)\rEpoch: 62.4%  lr: 0.023273  loss: 0.009431  eta: 0h6m  tot: 0h7m21s  (52.5%)\rEpoch: 62.5%  lr: 0.023253  loss: 0.009433  eta: 0h6m  tot: 0h7m22s  (52.5%)\rEpoch: 62.6%  lr: 0.023233  loss: 0.009426  eta: 0h6m  tot: 0h7m22s  (52.5%)\rEpoch: 62.7%  lr: 0.023223  loss: 0.009424  eta: 0h6m  tot: 0h7m22s  (52.5%)\rEpoch: 62.7%  lr: 0.023213  loss: 0.009422  eta: 0h6m  tot: 0h7m22s  (52.5%)\rEpoch: 62.8%  lr: 0.023203  loss: 0.009417  eta: 0h6m  tot: 0h7m22s  (52.6%)\rEpoch: 62.9%  lr: 0.023203  loss: 0.009432  eta: 0h6m  tot: 0h7m22s  (52.6%)\rEpoch: 63.0%  lr: 0.023203  loss: 0.009427  eta: 0h6m  tot: 0h7m22s  (52.6%)\rEpoch: 63.1%  lr: 0.023183  loss: 0.009425  eta: 0h6m  tot: 0h7m23s  (52.6%)\rEpoch: 63.2%  lr: 0.023173  loss: 0.009423  eta: 0h6m  tot: 0h7m23s  (52.6%)\rEpoch: 63.3%  lr: 0.023163  loss: 0.009421  eta: 0h6m  tot: 0h7m23s  (52.7%)\rEpoch: 63.4%  lr: 0.023143  loss: 0.009423  eta: 0h6m  tot: 0h7m23s  (52.7%)\rEpoch: 63.5%  lr: 0.023103  loss: 0.009418  eta: 0h6m  tot: 0h7m23s  (52.7%)\rEpoch: 63.6%  lr: 0.023103  loss: 0.009411  eta: 0h6m  tot: 0h7m23s  (52.7%)\rEpoch: 63.6%  lr: 0.023103  loss: 0.009411  eta: 0h6m  tot: 0h7m23s  (52.7%)\rEpoch: 63.7%  lr: 0.023083  loss: 0.009417  eta: 0h6m  tot: 0h7m24s  (52.7%)\rEpoch: 63.8%  lr: 0.023083  loss: 0.009407  eta: 0h6m  tot: 0h7m24s  (52.8%)\rEpoch: 63.9%  lr: 0.023063  loss: 0.009399  eta: 0h6m  tot: 0h7m24s  (52.8%)\rEpoch: 64.0%  lr: 0.023053  loss: 0.009398  eta: 0h6m  tot: 0h7m24s  (52.8%)\rEpoch: 64.1%  lr: 0.023043  loss: 0.009392  eta: 0h6m  tot: 0h7m24s  (52.8%)\rEpoch: 64.2%  lr: 0.023043  loss: 0.009393  eta: 0h6m  tot: 0h7m24s  (52.8%)\rEpoch: 64.3%  lr: 0.023033  loss: 0.009383  eta: 0h6m  tot: 0h7m24s  (52.9%)\rEpoch: 64.4%  lr: 0.023033  loss: 0.009378  eta: 0h6m  tot: 0h7m25s  (52.9%)\rEpoch: 64.5%  lr: 0.023013  loss: 0.009383  eta: 0h6m  tot: 0h7m25s  (52.9%)\rEpoch: 64.5%  lr: 0.023003  loss: 0.009375  eta: 0h6m  tot: 0h7m25s  (52.9%)\rEpoch: 64.6%  lr: 0.023003  loss: 0.009373  eta: 0h6m  tot: 0h7m25s  (52.9%)\rEpoch: 64.7%  lr: 0.022993  loss: 0.009373  eta: 0h6m  tot: 0h7m25s  (52.9%)\rEpoch: 64.8%  lr: 0.022983  loss: 0.009384  eta: 0h6m  tot: 0h7m25s  (53.0%)\rEpoch: 64.9%  lr: 0.022983  loss: 0.009389  eta: 0h6m  tot: 0h7m25s  (53.0%)\rEpoch: 65.0%  lr: 0.022963  loss: 0.009387  eta: 0h6m  tot: 0h7m26s  (53.0%)\rEpoch: 65.1%  lr: 0.022963  loss: 0.009383  eta: 0h6m  tot: 0h7m26s  (53.0%)\rEpoch: 65.2%  lr: 0.022963  loss: 0.009375  eta: 0h6m  tot: 0h7m26s  (53.0%)\rEpoch: 65.3%  lr: 0.022953  loss: 0.009373  eta: 0h6m  tot: 0h7m26s  (53.1%)\rEpoch: 65.4%  lr: 0.022933  loss: 0.009367  eta: 0h6m  tot: 0h7m26s  (53.1%)\rEpoch: 65.4%  lr: 0.022923  loss: 0.009366  eta: 0h6m  tot: 0h7m26s  (53.1%)\rEpoch: 65.5%  lr: 0.022913  loss: 0.009365  eta: 0h6m  tot: 0h7m26s  (53.1%)\rEpoch: 65.6%  lr: 0.022913  loss: 0.009361  eta: 0h6m  tot: 0h7m27s  (53.1%)\rEpoch: 65.7%  lr: 0.022913  loss: 0.009355  eta: 0h6m  tot: 0h7m27s  (53.1%)\rEpoch: 65.8%  lr: 0.022913  loss: 0.009369  eta: 0h6m  tot: 0h7m27s  (53.2%)\rEpoch: 65.9%  lr: 0.022913  loss: 0.009361  eta: 0h6m  tot: 0h7m27s  (53.2%)\rEpoch: 66.0%  lr: 0.022913  loss: 0.009354  eta: 0h6m  tot: 0h7m27s  (53.2%)\rEpoch: 66.1%  lr: 0.022913  loss: 0.009347  eta: 0h6m  tot: 0h7m27s  (53.2%)\rEpoch: 66.2%  lr: 0.022893  loss: 0.009365  eta: 0h6m  tot: 0h7m27s  (53.2%)\rEpoch: 66.3%  lr: 0.022893  loss: 0.009368  eta: 0h6m  tot: 0h7m28s  (53.3%)\rEpoch: 66.3%  lr: 0.022893  loss: 0.009366  eta: 0h6m  tot: 0h7m28s  (53.3%)\rEpoch: 66.4%  lr: 0.022883  loss: 0.009361  eta: 0h6m  tot: 0h7m28s  (53.3%)\rEpoch: 66.5%  lr: 0.022883  loss: 0.009369  eta: 0h6m  tot: 0h7m28s  (53.3%)\rEpoch: 66.6%  lr: 0.022883  loss: 0.009370  eta: 0h6m  tot: 0h7m28s  (53.3%)\rEpoch: 66.7%  lr: 0.022863  loss: 0.009364  eta: 0h6m  tot: 0h7m28s  (53.3%)\rEpoch: 66.8%  lr: 0.022863  loss: 0.009362  eta: 0h6m  tot: 0h7m29s  (53.4%)\rEpoch: 66.9%  lr: 0.022843  loss: 0.009360  eta: 0h6m  tot: 0h7m29s  (53.4%)\rEpoch: 67.0%  lr: 0.022843  loss: 0.009366  eta: 0h6m  tot: 0h7m29s  (53.4%)\rEpoch: 67.1%  lr: 0.022823  loss: 0.009365  eta: 0h6m  tot: 0h7m29s  (53.4%)\rEpoch: 67.2%  lr: 0.022823  loss: 0.009359  eta: 0h6m  tot: 0h7m29s  (53.4%)\rEpoch: 67.2%  lr: 0.022803  loss: 0.009357  eta: 0h6m  tot: 0h7m29s  (53.4%)\rEpoch: 67.3%  lr: 0.022803  loss: 0.009355  eta: 0h6m  tot: 0h7m29s  (53.5%)\rEpoch: 67.4%  lr: 0.022803  loss: 0.009353  eta: 0h6m  tot: 0h7m30s  (53.5%)\rEpoch: 67.5%  lr: 0.022783  loss: 0.009365  eta: 0h6m  tot: 0h7m30s  (53.5%)\rEpoch: 67.6%  lr: 0.022763  loss: 0.009375  eta: 0h6m  tot: 0h7m30s  (53.5%)\rEpoch: 67.7%  lr: 0.022763  loss: 0.009374  eta: 0h6m  tot: 0h7m30s  (53.5%)\rEpoch: 67.8%  lr: 0.022753  loss: 0.009372  eta: 0h6m  tot: 0h7m30s  (53.6%)\rEpoch: 67.9%  lr: 0.022733  loss: 0.009374  eta: 0h6m  tot: 0h7m30s  (53.6%)\rEpoch: 68.0%  lr: 0.022733  loss: 0.009379  eta: 0h6m  tot: 0h7m30s  (53.6%)\rEpoch: 68.1%  lr: 0.022723  loss: 0.009378  eta: 0h6m  tot: 0h7m31s  (53.6%)\rEpoch: 68.1%  lr: 0.022713  loss: 0.009374  eta: 0h6m  tot: 0h7m31s  (53.6%)\rEpoch: 68.2%  lr: 0.022713  loss: 0.009369  eta: 0h6m  tot: 0h7m31s  (53.6%)\rEpoch: 68.3%  lr: 0.022713  loss: 0.009368  eta: 0h6m  tot: 0h7m31s  (53.7%)\rEpoch: 68.4%  lr: 0.022703  loss: 0.009368  eta: 0h6m  tot: 0h7m31s  (53.7%)\rEpoch: 68.5%  lr: 0.022703  loss: 0.009362  eta: 0h6m  tot: 0h7m31s  (53.7%)\rEpoch: 68.6%  lr: 0.022693  loss: 0.009361  eta: 0h6m  tot: 0h7m31s  (53.7%)\rEpoch: 68.7%  lr: 0.022683  loss: 0.009357  eta: 0h6m  tot: 0h7m32s  (53.7%)\rEpoch: 68.8%  lr: 0.022683  loss: 0.009361  eta: 0h6m  tot: 0h7m32s  (53.8%)\rEpoch: 68.9%  lr: 0.022683  loss: 0.009357  eta: 0h6m  tot: 0h7m32s  (53.8%)\rEpoch: 69.0%  lr: 0.022673  loss: 0.009351  eta: 0h6m  tot: 0h7m32s  (53.8%)\rEpoch: 69.0%  lr: 0.022663  loss: 0.009350  eta: 0h6m  tot: 0h7m32s  (53.8%)\rEpoch: 69.1%  lr: 0.022653  loss: 0.009359  eta: 0h6m  tot: 0h7m32s  (53.8%)\rEpoch: 69.2%  lr: 0.022633  loss: 0.009356  eta: 0h6m  tot: 0h7m32s  (53.8%)\rEpoch: 69.3%  lr: 0.022633  loss: 0.009349  eta: 0h6m  tot: 0h7m33s  (53.9%)\rEpoch: 69.4%  lr: 0.022633  loss: 0.009353  eta: 0h6m  tot: 0h7m33s  (53.9%)\rEpoch: 69.5%  lr: 0.022633  loss: 0.009357  eta: 0h6m  tot: 0h7m33s  (53.9%)\rEpoch: 69.6%  lr: 0.022633  loss: 0.009357  eta: 0h6m  tot: 0h7m33s  (53.9%)\rEpoch: 69.7%  lr: 0.022623  loss: 0.009348  eta: 0h6m  tot: 0h7m33s  (53.9%)\rEpoch: 69.8%  lr: 0.022623  loss: 0.009347  eta: 0h6m  tot: 0h7m33s  (54.0%)\rEpoch: 69.9%  lr: 0.022623  loss: 0.009348  eta: 0h6m  tot: 0h7m33s  (54.0%)\rEpoch: 69.9%  lr: 0.022613  loss: 0.009340  eta: 0h6m  tot: 0h7m34s  (54.0%)\rEpoch: 70.0%  lr: 0.022573  loss: 0.009348  eta: 0h6m  tot: 0h7m34s  (54.0%)\rEpoch: 70.1%  lr: 0.022573  loss: 0.009347  eta: 0h6m  tot: 0h7m34s  (54.0%)\rEpoch: 70.2%  lr: 0.022553  loss: 0.009348  eta: 0h6m  tot: 0h7m34s  (54.0%)\rEpoch: 70.3%  lr: 0.022553  loss: 0.009344  eta: 0h6m  tot: 0h7m34s  (54.1%)\rEpoch: 70.4%  lr: 0.022543  loss: 0.009340  eta: 0h6m  tot: 0h7m34s  (54.1%)\rEpoch: 70.5%  lr: 0.022543  loss: 0.009339  eta: 0h6m  tot: 0h7m34s  (54.1%)\rEpoch: 70.6%  lr: 0.022523  loss: 0.009336  eta: 0h6m  tot: 0h7m35s  (54.1%)\rEpoch: 70.7%  lr: 0.022513  loss: 0.009332  eta: 0h6m  tot: 0h7m35s  (54.1%)\rEpoch: 70.8%  lr: 0.022503  loss: 0.009327  eta: 0h6m  tot: 0h7m35s  (54.2%)\rEpoch: 70.8%  lr: 0.022503  loss: 0.009333  eta: 0h6m  tot: 0h7m35s  (54.2%)\rEpoch: 70.9%  lr: 0.022503  loss: 0.009327  eta: 0h6m  tot: 0h7m35s  (54.2%)\rEpoch: 71.0%  lr: 0.022483  loss: 0.009340  eta: 0h6m  tot: 0h7m35s  (54.2%)\rEpoch: 71.1%  lr: 0.022483  loss: 0.009333  eta: 0h6m  tot: 0h7m35s  (54.2%)\rEpoch: 71.2%  lr: 0.022483  loss: 0.009324  eta: 0h6m  tot: 0h7m36s  (54.2%)\rEpoch: 71.3%  lr: 0.022473  loss: 0.009319  eta: 0h6m  tot: 0h7m36s  (54.3%)\rEpoch: 71.4%  lr: 0.022463  loss: 0.009317  eta: 0h6m  tot: 0h7m36s  (54.3%)\rEpoch: 71.5%  lr: 0.022443  loss: 0.009323  eta: 0h6m  tot: 0h7m36s  (54.3%)\rEpoch: 71.6%  lr: 0.022423  loss: 0.009319  eta: 0h6m  tot: 0h7m36s  (54.3%)\rEpoch: 71.7%  lr: 0.022413  loss: 0.009325  eta: 0h6m  tot: 0h7m36s  (54.3%)\rEpoch: 71.7%  lr: 0.022393  loss: 0.009325  eta: 0h6m  tot: 0h7m36s  (54.3%)\rEpoch: 71.8%  lr: 0.022362  loss: 0.009335  eta: 0h6m  tot: 0h7m37s  (54.4%)\rEpoch: 71.9%  lr: 0.022352  loss: 0.009330  eta: 0h6m  tot: 0h7m37s  (54.4%)\rEpoch: 72.0%  lr: 0.022342  loss: 0.009324  eta: 0h6m  tot: 0h7m37s  (54.4%)\rEpoch: 72.1%  lr: 0.022332  loss: 0.009325  eta: 0h6m  tot: 0h7m37s  (54.4%)\rEpoch: 72.2%  lr: 0.022332  loss: 0.009318  eta: 0h6m  tot: 0h7m37s  (54.4%)\rEpoch: 72.3%  lr: 0.022332  loss: 0.009319  eta: 0h6m  tot: 0h7m37s  (54.5%)\rEpoch: 72.4%  lr: 0.022322  loss: 0.009340  eta: 0h6m  tot: 0h7m37s  (54.5%)\rEpoch: 72.5%  lr: 0.022312  loss: 0.009342  eta: 0h6m  tot: 0h7m38s  (54.5%)\rEpoch: 72.6%  lr: 0.022302  loss: 0.009342  eta: 0h6m  tot: 0h7m38s  (54.5%)\rEpoch: 72.6%  lr: 0.022302  loss: 0.009353  eta: 0h6m  tot: 0h7m38s  (54.5%)\rEpoch: 72.7%  lr: 0.022292  loss: 0.009353  eta: 0h6m  tot: 0h7m38s  (54.5%)\rEpoch: 72.8%  lr: 0.022292  loss: 0.009360  eta: 0h6m  tot: 0h7m38s  (54.6%)\rEpoch: 72.9%  lr: 0.022292  loss: 0.009368  eta: 0h6m  tot: 0h7m38s  (54.6%)\rEpoch: 73.0%  lr: 0.022282  loss: 0.009363  eta: 0h6m  tot: 0h7m39s  (54.6%)\rEpoch: 73.1%  lr: 0.022272  loss: 0.009358  eta: 0h6m  tot: 0h7m39s  (54.6%)\rEpoch: 73.2%  lr: 0.022272  loss: 0.009352  eta: 0h6m  tot: 0h7m39s  (54.6%)\rEpoch: 73.3%  lr: 0.022272  loss: 0.009360  eta: 0h6m  tot: 0h7m39s  (54.7%)\rEpoch: 73.4%  lr: 0.022252  loss: 0.009361  eta: 0h6m  tot: 0h7m39s  (54.7%)\rEpoch: 73.5%  lr: 0.022252  loss: 0.009350  eta: 0h6m  tot: 0h7m39s  (54.7%)\rEpoch: 73.5%  lr: 0.022252  loss: 0.009344  eta: 0h6m  tot: 0h7m39s  (54.7%)\rEpoch: 73.6%  lr: 0.022252  loss: 0.009341  eta: 0h6m  tot: 0h7m40s  (54.7%)\rEpoch: 73.7%  lr: 0.022242  loss: 0.009340  eta: 0h6m  tot: 0h7m40s  (54.7%)\rEpoch: 73.8%  lr: 0.022232  loss: 0.009341  eta: 0h6m  tot: 0h7m40s  (54.8%)\rEpoch: 73.9%  lr: 0.022222  loss: 0.009341  eta: 0h6m  tot: 0h7m40s  (54.8%)\rEpoch: 74.0%  lr: 0.022202  loss: 0.009341  eta: 0h6m  tot: 0h7m40s  (54.8%)\rEpoch: 74.1%  lr: 0.022172  loss: 0.009356  eta: 0h6m  tot: 0h7m40s  (54.8%)\rEpoch: 74.2%  lr: 0.022162  loss: 0.009356  eta: 0h6m  tot: 0h7m40s  (54.8%)\rEpoch: 74.3%  lr: 0.022142  loss: 0.009352  eta: 0h6m  tot: 0h7m41s  (54.9%)\rEpoch: 74.4%  lr: 0.022142  loss: 0.009353  eta: 0h6m  tot: 0h7m41s  (54.9%)\rEpoch: 74.4%  lr: 0.022142  loss: 0.009349  eta: 0h6m  tot: 0h7m41s  (54.9%)\rEpoch: 74.5%  lr: 0.022142  loss: 0.009354  eta: 0h6m  tot: 0h7m41s  (54.9%)\rEpoch: 74.6%  lr: 0.022142  loss: 0.009364  eta: 0h6m  tot: 0h7m41s  (54.9%)\rEpoch: 74.7%  lr: 0.022142  loss: 0.009376  eta: 0h6m  tot: 0h7m41s  (54.9%)\rEpoch: 74.8%  lr: 0.022142  loss: 0.009371  eta: 0h6m  tot: 0h7m41s  (55.0%)\rEpoch: 74.9%  lr: 0.022132  loss: 0.009365  eta: 0h6m  tot: 0h7m42s  (55.0%)\rEpoch: 75.0%  lr: 0.022132  loss: 0.009363  eta: 0h6m  tot: 0h7m42s  (55.0%)\rEpoch: 75.1%  lr: 0.022122  loss: 0.009355  eta: 0h6m  tot: 0h7m42s  (55.0%)\rEpoch: 75.2%  lr: 0.022122  loss: 0.009347  eta: 0h6m  tot: 0h7m42s  (55.0%)\rEpoch: 75.3%  lr: 0.022122  loss: 0.009353  eta: 0h6m  tot: 0h7m42s  (55.1%)\rEpoch: 75.3%  lr: 0.022122  loss: 0.009356  eta: 0h6m  tot: 0h7m42s  (55.1%)\rEpoch: 75.4%  lr: 0.022102  loss: 0.009348  eta: 0h6m  tot: 0h7m42s  (55.1%)\rEpoch: 75.5%  lr: 0.022082  loss: 0.009352  eta: 0h6m  tot: 0h7m43s  (55.1%)\rEpoch: 75.6%  lr: 0.022072  loss: 0.009345  eta: 0h6m  tot: 0h7m43s  (55.1%)\rEpoch: 75.7%  lr: 0.022062  loss: 0.009347  eta: 0h6m  tot: 0h7m43s  (55.1%)\rEpoch: 75.8%  lr: 0.022052  loss: 0.009351  eta: 0h6m  tot: 0h7m43s  (55.2%)\rEpoch: 75.9%  lr: 0.022042  loss: 0.009345  eta: 0h6m  tot: 0h7m43s  (55.2%)\rEpoch: 76.0%  lr: 0.022042  loss: 0.009344  eta: 0h6m  tot: 0h7m43s  (55.2%)\rEpoch: 76.1%  lr: 0.022042  loss: 0.009340  eta: 0h5m  tot: 0h7m43s  (55.2%)\rEpoch: 76.2%  lr: 0.022032  loss: 0.009343  eta: 0h5m  tot: 0h7m44s  (55.2%)\rEpoch: 76.2%  lr: 0.022032  loss: 0.009338  eta: 0h5m  tot: 0h7m44s  (55.2%)\rEpoch: 76.3%  lr: 0.022022  loss: 0.009336  eta: 0h5m  tot: 0h7m44s  (55.3%)\rEpoch: 76.4%  lr: 0.022012  loss: 0.009330  eta: 0h5m  tot: 0h7m44s  (55.3%)\rEpoch: 76.5%  lr: 0.021992  loss: 0.009323  eta: 0h5m  tot: 0h7m44s  (55.3%)\rEpoch: 76.6%  lr: 0.021982  loss: 0.009324  eta: 0h5m  tot: 0h7m44s  (55.3%)\rEpoch: 76.7%  lr: 0.021982  loss: 0.009328  eta: 0h5m  tot: 0h7m44s  (55.3%)\rEpoch: 76.8%  lr: 0.021982  loss: 0.009332  eta: 0h5m  tot: 0h7m45s  (55.4%)\rEpoch: 76.9%  lr: 0.021982  loss: 0.009344  eta: 0h5m  tot: 0h7m45s  (55.4%)\rEpoch: 77.0%  lr: 0.021982  loss: 0.009352  eta: 0h5m  tot: 0h7m45s  (55.4%)\rEpoch: 77.1%  lr: 0.021972  loss: 0.009357  eta: 0h5m  tot: 0h7m45s  (55.4%)\rEpoch: 77.1%  lr: 0.021972  loss: 0.009352  eta: 0h5m  tot: 0h7m45s  (55.4%)\rEpoch: 77.2%  lr: 0.021972  loss: 0.009350  eta: 0h5m  tot: 0h7m45s  (55.4%)\rEpoch: 77.3%  lr: 0.021962  loss: 0.009346  eta: 0h5m  tot: 0h7m46s  (55.5%)\rEpoch: 77.4%  lr: 0.021952  loss: 0.009343  eta: 0h5m  tot: 0h7m46s  (55.5%)\rEpoch: 77.5%  lr: 0.021942  loss: 0.009354  eta: 0h5m  tot: 0h7m46s  (55.5%)\rEpoch: 77.6%  lr: 0.021942  loss: 0.009363  eta: 0h5m  tot: 0h7m46s  (55.5%)\rEpoch: 77.7%  lr: 0.021932  loss: 0.009368  eta: 0h5m  tot: 0h7m46s  (55.5%)\rEpoch: 77.8%  lr: 0.021922  loss: 0.009363  eta: 0h5m  tot: 0h7m46s  (55.6%)\rEpoch: 77.9%  lr: 0.021922  loss: 0.009361  eta: 0h5m  tot: 0h7m46s  (55.6%)\rEpoch: 78.0%  lr: 0.021922  loss: 0.009366  eta: 0h5m  tot: 0h7m47s  (55.6%)\rEpoch: 78.0%  lr: 0.021902  loss: 0.009367  eta: 0h5m  tot: 0h7m47s  (55.6%)\rEpoch: 78.1%  lr: 0.021902  loss: 0.009364  eta: 0h5m  tot: 0h7m47s  (55.6%)\rEpoch: 78.2%  lr: 0.021902  loss: 0.009367  eta: 0h5m  tot: 0h7m47s  (55.6%)\rEpoch: 78.3%  lr: 0.021882  loss: 0.009371  eta: 0h5m  tot: 0h7m47s  (55.7%)\rEpoch: 78.4%  lr: 0.021882  loss: 0.009362  eta: 0h5m  tot: 0h7m47s  (55.7%)\rEpoch: 78.5%  lr: 0.021882  loss: 0.009372  eta: 0h5m  tot: 0h7m47s  (55.7%)\rEpoch: 78.6%  lr: 0.021872  loss: 0.009372  eta: 0h5m  tot: 0h7m48s  (55.7%)\rEpoch: 78.7%  lr: 0.021872  loss: 0.009377  eta: 0h5m  tot: 0h7m48s  (55.7%)\rEpoch: 78.8%  lr: 0.021872  loss: 0.009373  eta: 0h5m  tot: 0h7m48s  (55.8%)\rEpoch: 78.9%  lr: 0.021862  loss: 0.009371  eta: 0h5m  tot: 0h7m48s  (55.8%)\rEpoch: 78.9%  lr: 0.021862  loss: 0.009373  eta: 0h5m  tot: 0h7m48s  (55.8%)\rEpoch: 79.0%  lr: 0.021862  loss: 0.009366  eta: 0h5m  tot: 0h7m48s  (55.8%)\rEpoch: 79.1%  lr: 0.021862  loss: 0.009360  eta: 0h5m  tot: 0h7m48s  (55.8%)\rEpoch: 79.2%  lr: 0.021842  loss: 0.009360  eta: 0h5m  tot: 0h7m49s  (55.8%)\rEpoch: 79.3%  lr: 0.021842  loss: 0.009358  eta: 0h5m  tot: 0h7m49s  (55.9%)\rEpoch: 79.4%  lr: 0.021822  loss: 0.009357  eta: 0h5m  tot: 0h7m49s  (55.9%)\rEpoch: 79.5%  lr: 0.021822  loss: 0.009357  eta: 0h5m  tot: 0h7m49s  (55.9%)\rEpoch: 79.6%  lr: 0.021802  loss: 0.009355  eta: 0h5m  tot: 0h7m49s  (55.9%)\rEpoch: 79.7%  lr: 0.021802  loss: 0.009361  eta: 0h5m  tot: 0h7m49s  (55.9%)\rEpoch: 79.8%  lr: 0.021792  loss: 0.009364  eta: 0h5m  tot: 0h7m49s  (56.0%)\rEpoch: 79.9%  lr: 0.021792  loss: 0.009359  eta: 0h5m  tot: 0h7m50s  (56.0%)\rEpoch: 79.9%  lr: 0.021792  loss: 0.009355  eta: 0h5m  tot: 0h7m50s  (56.0%)\rEpoch: 80.0%  lr: 0.021792  loss: 0.009362  eta: 0h5m  tot: 0h7m50s  (56.0%)\rEpoch: 80.1%  lr: 0.021782  loss: 0.009362  eta: 0h5m  tot: 0h7m50s  (56.0%)\rEpoch: 80.2%  lr: 0.021772  loss: 0.009359  eta: 0h5m  tot: 0h7m50s  (56.0%)\rEpoch: 80.3%  lr: 0.021772  loss: 0.009355  eta: 0h5m  tot: 0h7m50s  (56.1%)\rEpoch: 80.4%  lr: 0.021772  loss: 0.009355  eta: 0h5m  tot: 0h7m50s  (56.1%)\rEpoch: 80.5%  lr: 0.021772  loss: 0.009353  eta: 0h5m  tot: 0h7m51s  (56.1%)\rEpoch: 80.6%  lr: 0.021762  loss: 0.009349  eta: 0h5m  tot: 0h7m51s  (56.1%)\rEpoch: 80.7%  lr: 0.021752  loss: 0.009348  eta: 0h5m  tot: 0h7m51s  (56.1%)\rEpoch: 80.8%  lr: 0.021752  loss: 0.009345  eta: 0h5m  tot: 0h7m51s  (56.2%)\rEpoch: 80.8%  lr: 0.021752  loss: 0.009348  eta: 0h5m  tot: 0h7m51s  (56.2%)\rEpoch: 80.9%  lr: 0.021742  loss: 0.009347  eta: 0h5m  tot: 0h7m51s  (56.2%)\rEpoch: 81.0%  lr: 0.021732  loss: 0.009349  eta: 0h5m  tot: 0h7m51s  (56.2%)\rEpoch: 81.1%  lr: 0.021732  loss: 0.009342  eta: 0h5m  tot: 0h7m52s  (56.2%)\rEpoch: 81.2%  lr: 0.021702  loss: 0.009353  eta: 0h5m  tot: 0h7m52s  (56.2%)\rEpoch: 81.3%  lr: 0.021702  loss: 0.009346  eta: 0h5m  tot: 0h7m52s  (56.3%)\rEpoch: 81.4%  lr: 0.021702  loss: 0.009343  eta: 0h5m  tot: 0h7m52s  (56.3%)\rEpoch: 81.5%  lr: 0.021702  loss: 0.009370  eta: 0h5m  tot: 0h7m52s  (56.3%)\rEpoch: 81.6%  lr: 0.021702  loss: 0.009369  eta: 0h5m  tot: 0h7m52s  (56.3%)\rEpoch: 81.7%  lr: 0.021692  loss: 0.009365  eta: 0h5m  tot: 0h7m52s  (56.3%)\rEpoch: 81.7%  lr: 0.021682  loss: 0.009359  eta: 0h5m  tot: 0h7m53s  (56.3%)\rEpoch: 81.8%  lr: 0.021682  loss: 0.009361  eta: 0h5m  tot: 0h7m53s  (56.4%)\rEpoch: 81.9%  lr: 0.021682  loss: 0.009362  eta: 0h5m  tot: 0h7m53s  (56.4%)\rEpoch: 82.0%  lr: 0.021682  loss: 0.009363  eta: 0h5m  tot: 0h7m53s  (56.4%)\rEpoch: 82.1%  lr: 0.021672  loss: 0.009360  eta: 0h5m  tot: 0h7m53s  (56.4%)\rEpoch: 82.2%  lr: 0.021662  loss: 0.009369  eta: 0h5m  tot: 0h7m53s  (56.4%)\rEpoch: 82.3%  lr: 0.021662  loss: 0.009370  eta: 0h5m  tot: 0h7m53s  (56.5%)\rEpoch: 82.4%  lr: 0.021632  loss: 0.009369  eta: 0h5m  tot: 0h7m54s  (56.5%)\rEpoch: 82.5%  lr: 0.021622  loss: 0.009369  eta: 0h5m  tot: 0h7m54s  (56.5%)\rEpoch: 82.6%  lr: 0.021612  loss: 0.009375  eta: 0h5m  tot: 0h7m54s  (56.5%)\rEpoch: 82.6%  lr: 0.021602  loss: 0.009376  eta: 0h5m  tot: 0h7m54s  (56.5%)\rEpoch: 82.7%  lr: 0.021572  loss: 0.009374  eta: 0h5m  tot: 0h7m54s  (56.5%)\rEpoch: 82.8%  lr: 0.021542  loss: 0.009378  eta: 0h5m  tot: 0h7m54s  (56.6%)\rEpoch: 82.9%  lr: 0.021532  loss: 0.009382  eta: 0h5m  tot: 0h7m54s  (56.6%)\rEpoch: 83.0%  lr: 0.021512  loss: 0.009378  eta: 0h5m  tot: 0h7m55s  (56.6%)\rEpoch: 83.1%  lr: 0.021502  loss: 0.009383  eta: 0h5m  tot: 0h7m55s  (56.6%)\rEpoch: 83.2%  lr: 0.021502  loss: 0.009383  eta: 0h5m  tot: 0h7m55s  (56.6%)\rEpoch: 83.3%  lr: 0.021502  loss: 0.009380  eta: 0h5m  tot: 0h7m55s  (56.7%)\rEpoch: 83.4%  lr: 0.021492  loss: 0.009381  eta: 0h5m  tot: 0h7m55s  (56.7%)\rEpoch: 83.5%  lr: 0.021492  loss: 0.009379  eta: 0h5m  tot: 0h7m55s  (56.7%)\rEpoch: 83.5%  lr: 0.021472  loss: 0.009373  eta: 0h5m  tot: 0h7m55s  (56.7%)\rEpoch: 83.6%  lr: 0.021472  loss: 0.009366  eta: 0h5m  tot: 0h7m56s  (56.7%)\rEpoch: 83.7%  lr: 0.021472  loss: 0.009363  eta: 0h5m  tot: 0h7m56s  (56.7%)\rEpoch: 83.8%  lr: 0.021472  loss: 0.009363  eta: 0h5m  tot: 0h7m56s  (56.8%)\rEpoch: 83.9%  lr: 0.021452  loss: 0.009358  eta: 0h5m  tot: 0h7m56s  (56.8%)\rEpoch: 84.0%  lr: 0.021452  loss: 0.009354  eta: 0h5m  tot: 0h7m56s  (56.8%)\rEpoch: 84.1%  lr: 0.021432  loss: 0.009353  eta: 0h5m  tot: 0h7m56s  (56.8%)\rEpoch: 84.2%  lr: 0.021432  loss: 0.009351  eta: 0h5m  tot: 0h7m56s  (56.8%)\rEpoch: 84.3%  lr: 0.021412  loss: 0.009344  eta: 0h5m  tot: 0h7m57s  (56.9%)\rEpoch: 84.4%  lr: 0.021402  loss: 0.009347  eta: 0h5m  tot: 0h7m57s  (56.9%)\rEpoch: 84.4%  lr: 0.021392  loss: 0.009339  eta: 0h5m  tot: 0h7m57s  (56.9%)\rEpoch: 84.5%  lr: 0.021392  loss: 0.009337  eta: 0h5m  tot: 0h7m57s  (56.9%)\rEpoch: 84.6%  lr: 0.021392  loss: 0.009345  eta: 0h5m  tot: 0h7m57s  (56.9%)\rEpoch: 84.7%  lr: 0.021392  loss: 0.009345  eta: 0h5m  tot: 0h7m57s  (56.9%)\rEpoch: 84.8%  lr: 0.021392  loss: 0.009353  eta: 0h5m  tot: 0h7m57s  (57.0%)\rEpoch: 84.9%  lr: 0.021392  loss: 0.009350  eta: 0h5m  tot: 0h7m58s  (57.0%)\rEpoch: 85.0%  lr: 0.021372  loss: 0.009354  eta: 0h5m  tot: 0h7m58s  (57.0%)\rEpoch: 85.1%  lr: 0.021372  loss: 0.009354  eta: 0h5m  tot: 0h7m58s  (57.0%)\rEpoch: 85.2%  lr: 0.021361  loss: 0.009360  eta: 0h5m  tot: 0h7m58s  (57.0%)\rEpoch: 85.3%  lr: 0.021361  loss: 0.009356  eta: 0h5m  tot: 0h7m58s  (57.1%)\rEpoch: 85.3%  lr: 0.021361  loss: 0.009362  eta: 0h5m  tot: 0h7m58s  (57.1%)\rEpoch: 85.4%  lr: 0.021361  loss: 0.009364  eta: 0h5m  tot: 0h7m59s  (57.1%)\rEpoch: 85.5%  lr: 0.021331  loss: 0.009363  eta: 0h5m  tot: 0h7m59s  (57.1%)\rEpoch: 85.6%  lr: 0.021321  loss: 0.009361  eta: 0h5m  tot: 0h7m59s  (57.1%)\rEpoch: 85.7%  lr: 0.021321  loss: 0.009367  eta: 0h5m  tot: 0h7m59s  (57.1%)\rEpoch: 85.8%  lr: 0.021311  loss: 0.009366  eta: 0h5m  tot: 0h7m59s  (57.2%)\rEpoch: 85.9%  lr: 0.021311  loss: 0.009365  eta: 0h5m  tot: 0h7m59s  (57.2%)\rEpoch: 86.0%  lr: 0.021301  loss: 0.009363  eta: 0h5m  tot: 0h7m59s  (57.2%)\rEpoch: 86.1%  lr: 0.021281  loss: 0.009355  eta: 0h5m  tot: 0h8m0s  (57.2%)\rEpoch: 86.2%  lr: 0.021281  loss: 0.009360  eta: 0h5m  tot: 0h8m0s  (57.2%)\rEpoch: 86.2%  lr: 0.021271  loss: 0.009357  eta: 0h5m  tot: 0h8m0s  (57.2%)\rEpoch: 86.3%  lr: 0.021271  loss: 0.009367  eta: 0h5m  tot: 0h8m0s  (57.3%)\rEpoch: 86.4%  lr: 0.021271  loss: 0.009368  eta: 0h5m  tot: 0h8m0s  (57.3%)\rEpoch: 86.5%  lr: 0.021271  loss: 0.009361  eta: 0h5m  tot: 0h8m0s  (57.3%)\rEpoch: 86.6%  lr: 0.021261  loss: 0.009364  eta: 0h5m  tot: 0h8m0s  (57.3%)\rEpoch: 86.7%  lr: 0.021261  loss: 0.009360  eta: 0h5m  tot: 0h8m1s  (57.3%)\rEpoch: 86.8%  lr: 0.021251  loss: 0.009364  eta: 0h5m  tot: 0h8m1s  (57.4%)\rEpoch: 86.9%  lr: 0.021251  loss: 0.009363  eta: 0h5m  tot: 0h8m1s  (57.4%)\rEpoch: 87.0%  lr: 0.021211  loss: 0.009363  eta: 0h5m  tot: 0h8m1s  (57.4%)\rEpoch: 87.1%  lr: 0.021201  loss: 0.009362  eta: 0h5m  tot: 0h8m1s  (57.4%)\rEpoch: 87.1%  lr: 0.021191  loss: 0.009364  eta: 0h5m  tot: 0h8m1s  (57.4%)\rEpoch: 87.2%  lr: 0.021191  loss: 0.009362  eta: 0h5m  tot: 0h8m1s  (57.4%)\rEpoch: 87.3%  lr: 0.021191  loss: 0.009361  eta: 0h5m  tot: 0h8m2s  (57.5%)\rEpoch: 87.4%  lr: 0.021181  loss: 0.009368  eta: 0h5m  tot: 0h8m2s  (57.5%)\rEpoch: 87.5%  lr: 0.021171  loss: 0.009373  eta: 0h5m  tot: 0h8m2s  (57.5%)\rEpoch: 87.6%  lr: 0.021171  loss: 0.009378  eta: 0h5m  tot: 0h8m2s  (57.5%)\rEpoch: 87.7%  lr: 0.021161  loss: 0.009378  eta: 0h5m  tot: 0h8m2s  (57.5%)\rEpoch: 87.8%  lr: 0.021161  loss: 0.009378  eta: 0h5m  tot: 0h8m2s  (57.6%)\rEpoch: 87.9%  lr: 0.021151  loss: 0.009381  eta: 0h5m  tot: 0h8m2s  (57.6%)\rEpoch: 88.0%  lr: 0.021151  loss: 0.009377  eta: 0h5m  tot: 0h8m3s  (57.6%)\rEpoch: 88.0%  lr: 0.021151  loss: 0.009371  eta: 0h5m  tot: 0h8m3s  (57.6%)\rEpoch: 88.1%  lr: 0.021141  loss: 0.009371  eta: 0h5m  tot: 0h8m3s  (57.6%)\rEpoch: 88.2%  lr: 0.021141  loss: 0.009371  eta: 0h5m  tot: 0h8m3s  (57.6%)\rEpoch: 88.3%  lr: 0.021121  loss: 0.009365  eta: 0h5m  tot: 0h8m3s  (57.7%)\rEpoch: 88.4%  lr: 0.021121  loss: 0.009371  eta: 0h5m  tot: 0h8m3s  (57.7%)\rEpoch: 88.5%  lr: 0.021111  loss: 0.009371  eta: 0h5m  tot: 0h8m3s  (57.7%)\rEpoch: 88.6%  lr: 0.021101  loss: 0.009372  eta: 0h5m  tot: 0h8m4s  (57.7%)\rEpoch: 88.7%  lr: 0.021091  loss: 0.009368  eta: 0h5m  tot: 0h8m4s  (57.7%)\rEpoch: 88.8%  lr: 0.021081  loss: 0.009370  eta: 0h5m  tot: 0h8m4s  (57.8%)\rEpoch: 88.9%  lr: 0.021071  loss: 0.009368  eta: 0h5m  tot: 0h8m4s  (57.8%)\rEpoch: 88.9%  lr: 0.021061  loss: 0.009362  eta: 0h5m  tot: 0h8m4s  (57.8%)\rEpoch: 89.0%  lr: 0.021061  loss: 0.009362  eta: 0h5m  tot: 0h8m4s  (57.8%)\rEpoch: 89.1%  lr: 0.021061  loss: 0.009361  eta: 0h5m  tot: 0h8m5s  (57.8%)\rEpoch: 89.2%  lr: 0.021051  loss: 0.009360  eta: 0h5m  tot: 0h8m5s  (57.8%)\rEpoch: 89.3%  lr: 0.021031  loss: 0.009355  eta: 0h5m  tot: 0h8m5s  (57.9%)\rEpoch: 89.4%  lr: 0.021031  loss: 0.009351  eta: 0h5m  tot: 0h8m5s  (57.9%)\rEpoch: 89.5%  lr: 0.021031  loss: 0.009366  eta: 0h5m  tot: 0h8m5s  (57.9%)\rEpoch: 89.6%  lr: 0.021021  loss: 0.009370  eta: 0h5m  tot: 0h8m5s  (57.9%)\rEpoch: 89.7%  lr: 0.021021  loss: 0.009379  eta: 0h5m  tot: 0h8m5s  (57.9%)\rEpoch: 89.8%  lr: 0.021021  loss: 0.009375  eta: 0h5m  tot: 0h8m6s  (58.0%)\rEpoch: 89.8%  lr: 0.021021  loss: 0.009378  eta: 0h5m  tot: 0h8m6s  (58.0%)\rEpoch: 89.9%  lr: 0.021021  loss: 0.009379  eta: 0h5m  tot: 0h8m6s  (58.0%)\rEpoch: 90.0%  lr: 0.021021  loss: 0.009376  eta: 0h5m  tot: 0h8m6s  (58.0%)\rEpoch: 90.1%  lr: 0.021001  loss: 0.009375  eta: 0h5m  tot: 0h8m6s  (58.0%)\rEpoch: 90.2%  lr: 0.020981  loss: 0.009372  eta: 0h5m  tot: 0h8m6s  (58.0%)\rEpoch: 90.3%  lr: 0.020981  loss: 0.009369  eta: 0h5m  tot: 0h8m6s  (58.1%)\rEpoch: 90.4%  lr: 0.020961  loss: 0.009363  eta: 0h5m  tot: 0h8m7s  (58.1%)\rEpoch: 90.5%  lr: 0.020921  loss: 0.009357  eta: 0h5m  tot: 0h8m7s  (58.1%)\rEpoch: 90.6%  lr: 0.020911  loss: 0.009358  eta: 0h5m  tot: 0h8m7s  (58.1%)\rEpoch: 90.7%  lr: 0.020901  loss: 0.009364  eta: 0h5m  tot: 0h8m7s  (58.1%)\rEpoch: 90.7%  lr: 0.020901  loss: 0.009360  eta: 0h5m  tot: 0h8m7s  (58.1%)\rEpoch: 90.8%  lr: 0.020881  loss: 0.009360  eta: 0h5m  tot: 0h8m7s  (58.2%)\rEpoch: 90.9%  lr: 0.020881  loss: 0.009362  eta: 0h5m  tot: 0h8m7s  (58.2%)\rEpoch: 91.0%  lr: 0.020881  loss: 0.009358  eta: 0h5m  tot: 0h8m8s  (58.2%)\rEpoch: 91.1%  lr: 0.020881  loss: 0.009363  eta: 0h5m  tot: 0h8m8s  (58.2%)\rEpoch: 91.2%  lr: 0.020871  loss: 0.009373  eta: 0h5m  tot: 0h8m8s  (58.2%)\rEpoch: 91.3%  lr: 0.020861  loss: 0.009373  eta: 0h5m  tot: 0h8m8s  (58.3%)\rEpoch: 91.4%  lr: 0.020861  loss: 0.009377  eta: 0h5m  tot: 0h8m8s  (58.3%)\rEpoch: 91.5%  lr: 0.020861  loss: 0.009378  eta: 0h5m  tot: 0h8m8s  (58.3%)\rEpoch: 91.6%  lr: 0.020861  loss: 0.009372  eta: 0h5m  tot: 0h8m8s  (58.3%)\rEpoch: 91.6%  lr: 0.020861  loss: 0.009372  eta: 0h5m  tot: 0h8m9s  (58.3%)\rEpoch: 91.7%  lr: 0.020851  loss: 0.009377  eta: 0h5m  tot: 0h8m9s  (58.3%)\rEpoch: 91.8%  lr: 0.020851  loss: 0.009375  eta: 0h5m  tot: 0h8m9s  (58.4%)\rEpoch: 91.9%  lr: 0.020851  loss: 0.009374  eta: 0h5m  tot: 0h8m9s  (58.4%)\rEpoch: 92.0%  lr: 0.020841  loss: 0.009373  eta: 0h5m  tot: 0h8m9s  (58.4%)\rEpoch: 92.1%  lr: 0.020841  loss: 0.009368  eta: 0h5m  tot: 0h8m9s  (58.4%)\rEpoch: 92.2%  lr: 0.020821  loss: 0.009365  eta: 0h5m  tot: 0h8m9s  (58.4%)\rEpoch: 92.3%  lr: 0.020801  loss: 0.009362  eta: 0h5m  tot: 0h8m10s  (58.5%)\rEpoch: 92.4%  lr: 0.020801  loss: 0.009371  eta: 0h5m  tot: 0h8m10s  (58.5%)\rEpoch: 92.5%  lr: 0.020801  loss: 0.009374  eta: 0h5m  tot: 0h8m10s  (58.5%)\rEpoch: 92.5%  lr: 0.020791  loss: 0.009378  eta: 0h5m  tot: 0h8m10s  (58.5%)\rEpoch: 92.6%  lr: 0.020781  loss: 0.009374  eta: 0h5m  tot: 0h8m10s  (58.5%)\rEpoch: 92.7%  lr: 0.020781  loss: 0.009384  eta: 0h5m  tot: 0h8m10s  (58.5%)\rEpoch: 92.8%  lr: 0.020771  loss: 0.009388  eta: 0h5m  tot: 0h8m10s  (58.6%)\rEpoch: 92.9%  lr: 0.020761  loss: 0.009386  eta: 0h5m  tot: 0h8m11s  (58.6%)\rEpoch: 93.0%  lr: 0.020751  loss: 0.009394  eta: 0h5m  tot: 0h8m11s  (58.6%)\rEpoch: 93.1%  lr: 0.020731  loss: 0.009388  eta: 0h5m  tot: 0h8m11s  (58.6%)\rEpoch: 93.2%  lr: 0.020731  loss: 0.009397  eta: 0h5m  tot: 0h8m11s  (58.6%)\rEpoch: 93.3%  lr: 0.020731  loss: 0.009397  eta: 0h5m  tot: 0h8m11s  (58.7%)\rEpoch: 93.4%  lr: 0.020721  loss: 0.009391  eta: 0h5m  tot: 0h8m11s  (58.7%)\rEpoch: 93.4%  lr: 0.020711  loss: 0.009387  eta: 0h5m  tot: 0h8m11s  (58.7%)\rEpoch: 93.5%  lr: 0.020701  loss: 0.009390  eta: 0h5m  tot: 0h8m12s  (58.7%)\rEpoch: 93.6%  lr: 0.020691  loss: 0.009391  eta: 0h5m  tot: 0h8m12s  (58.7%)\rEpoch: 93.7%  lr: 0.020691  loss: 0.009398  eta: 0h5m  tot: 0h8m12s  (58.7%)\rEpoch: 93.8%  lr: 0.020681  loss: 0.009397  eta: 0h5m  tot: 0h8m12s  (58.8%)\rEpoch: 93.9%  lr: 0.020661  loss: 0.009403  eta: 0h5m  tot: 0h8m12s  (58.8%)\rEpoch: 94.0%  lr: 0.020651  loss: 0.009402  eta: 0h5m  tot: 0h8m12s  (58.8%)\rEpoch: 94.1%  lr: 0.020651  loss: 0.009397  eta: 0h5m  tot: 0h8m13s  (58.8%)\rEpoch: 94.2%  lr: 0.020641  loss: 0.009399  eta: 0h5m  tot: 0h8m13s  (58.8%)\rEpoch: 94.3%  lr: 0.020621  loss: 0.009395  eta: 0h5m  tot: 0h8m13s  (58.9%)\rEpoch: 94.3%  lr: 0.020611  loss: 0.009395  eta: 0h5m  tot: 0h8m13s  (58.9%)\rEpoch: 94.4%  lr: 0.020601  loss: 0.009396  eta: 0h5m  tot: 0h8m13s  (58.9%)\rEpoch: 94.5%  lr: 0.020601  loss: 0.009393  eta: 0h5m  tot: 0h8m13s  (58.9%)\rEpoch: 94.6%  lr: 0.020591  loss: 0.009390  eta: 0h5m  tot: 0h8m13s  (58.9%)\rEpoch: 94.7%  lr: 0.020571  loss: 0.009390  eta: 0h5m  tot: 0h8m14s  (58.9%)\rEpoch: 94.8%  lr: 0.020541  loss: 0.009390  eta: 0h5m  tot: 0h8m14s  (59.0%)\rEpoch: 94.9%  lr: 0.020511  loss: 0.009394  eta: 0h5m  tot: 0h8m14s  (59.0%)\rEpoch: 95.0%  lr: 0.020491  loss: 0.009396  eta: 0h5m  tot: 0h8m14s  (59.0%)\rEpoch: 95.1%  lr: 0.020471  loss: 0.009399  eta: 0h5m  tot: 0h8m14s  (59.0%)\rEpoch: 95.2%  lr: 0.020461  loss: 0.009398  eta: 0h5m  tot: 0h8m14s  (59.0%)\rEpoch: 95.2%  lr: 0.020461  loss: 0.009402  eta: 0h5m  tot: 0h8m14s  (59.0%)\rEpoch: 95.3%  lr: 0.020461  loss: 0.009408  eta: 0h5m  tot: 0h8m15s  (59.1%)\rEpoch: 95.4%  lr: 0.020441  loss: 0.009410  eta: 0h5m  tot: 0h8m15s  (59.1%)\rEpoch: 95.5%  lr: 0.020441  loss: 0.009425  eta: 0h5m  tot: 0h8m15s  (59.1%)\rEpoch: 95.6%  lr: 0.020431  loss: 0.009423  eta: 0h5m  tot: 0h8m15s  (59.1%)\rEpoch: 95.7%  lr: 0.020411  loss: 0.009427  eta: 0h5m  tot: 0h8m15s  (59.1%)\rEpoch: 95.8%  lr: 0.020401  loss: 0.009425  eta: 0h5m  tot: 0h8m15s  (59.2%)\rEpoch: 95.9%  lr: 0.020381  loss: 0.009424  eta: 0h5m  tot: 0h8m15s  (59.2%)\rEpoch: 96.0%  lr: 0.020381  loss: 0.009427  eta: 0h5m  tot: 0h8m16s  (59.2%)\rEpoch: 96.1%  lr: 0.020371  loss: 0.009425  eta: 0h5m  tot: 0h8m16s  (59.2%)\rEpoch: 96.1%  lr: 0.020361  loss: 0.009425  eta: 0h5m  tot: 0h8m16s  (59.2%)\rEpoch: 96.2%  lr: 0.020361  loss: 0.009424  eta: 0h5m  tot: 0h8m16s  (59.2%)\rEpoch: 96.3%  lr: 0.020350  loss: 0.009422  eta: 0h5m  tot: 0h8m16s  (59.3%)\rEpoch: 96.4%  lr: 0.020350  loss: 0.009426  eta: 0h5m  tot: 0h8m16s  (59.3%)\rEpoch: 96.5%  lr: 0.020340  loss: 0.009425  eta: 0h5m  tot: 0h8m16s  (59.3%)\rEpoch: 96.6%  lr: 0.020330  loss: 0.009431  eta: 0h5m  tot: 0h8m17s  (59.3%)\rEpoch: 96.7%  lr: 0.020290  loss: 0.009434  eta: 0h5m  tot: 0h8m17s  (59.3%)\rEpoch: 96.8%  lr: 0.020280  loss: 0.009429  eta: 0h5m  tot: 0h8m17s  (59.4%)\rEpoch: 96.9%  lr: 0.020280  loss: 0.009425  eta: 0h5m  tot: 0h8m17s  (59.4%)\rEpoch: 97.0%  lr: 0.020270  loss: 0.009428  eta: 0h5m  tot: 0h8m17s  (59.4%)\rEpoch: 97.0%  lr: 0.020260  loss: 0.009429  eta: 0h5m  tot: 0h8m17s  (59.4%)\rEpoch: 97.1%  lr: 0.020240  loss: 0.009432  eta: 0h5m  tot: 0h8m17s  (59.4%)\rEpoch: 97.2%  lr: 0.020240  loss: 0.009435  eta: 0h5m  tot: 0h8m18s  (59.4%)\rEpoch: 97.3%  lr: 0.020240  loss: 0.009449  eta: 0h5m  tot: 0h8m18s  (59.5%)\rEpoch: 97.4%  lr: 0.020240  loss: 0.009448  eta: 0h5m  tot: 0h8m18s  (59.5%)\rEpoch: 97.5%  lr: 0.020230  loss: 0.009445  eta: 0h5m  tot: 0h8m18s  (59.5%)\rEpoch: 97.6%  lr: 0.020230  loss: 0.009445  eta: 0h5m  tot: 0h8m18s  (59.5%)\rEpoch: 97.7%  lr: 0.020210  loss: 0.009438  eta: 0h5m  tot: 0h8m18s  (59.5%)\rEpoch: 97.8%  lr: 0.020200  loss: 0.009442  eta: 0h5m  tot: 0h8m18s  (59.6%)\rEpoch: 97.9%  lr: 0.020170  loss: 0.009438  eta: 0h5m  tot: 0h8m19s  (59.6%)\rEpoch: 97.9%  lr: 0.020160  loss: 0.009435  eta: 0h5m  tot: 0h8m19s  (59.6%)\rEpoch: 98.0%  lr: 0.020160  loss: 0.009444  eta: 0h5m  tot: 0h8m19s  (59.6%)\rEpoch: 98.1%  lr: 0.020140  loss: 0.009444  eta: 0h5m  tot: 0h8m19s  (59.6%)\rEpoch: 98.2%  lr: 0.020140  loss: 0.009441  eta: 0h5m  tot: 0h8m19s  (59.6%)\rEpoch: 98.3%  lr: 0.020140  loss: 0.009449  eta: 0h5m  tot: 0h8m19s  (59.7%)\rEpoch: 98.4%  lr: 0.020120  loss: 0.009451  eta: 0h5m  tot: 0h8m19s  (59.7%)\rEpoch: 98.5%  lr: 0.020090  loss: 0.009452  eta: 0h5m  tot: 0h8m20s  (59.7%)\rEpoch: 98.6%  lr: 0.020080  loss: 0.009448  eta: 0h5m  tot: 0h8m20s  (59.7%)\rEpoch: 98.7%  lr: 0.020060  loss: 0.009446  eta: 0h5m  tot: 0h8m20s  (59.7%)\rEpoch: 98.8%  lr: 0.020060  loss: 0.009441  eta: 0h5m  tot: 0h8m20s  (59.8%)\rEpoch: 98.8%  lr: 0.020050  loss: 0.009438  eta: 0h5m  tot: 0h8m20s  (59.8%)\rEpoch: 98.9%  lr: 0.020050  loss: 0.009433  eta: 0h5m  tot: 0h8m20s  (59.8%)\rEpoch: 99.0%  lr: 0.020050  loss: 0.009434  eta: 0h5m  tot: 0h8m20s  (59.8%)\rEpoch: 99.1%  lr: 0.020030  loss: 0.009439  eta: 0h5m  tot: 0h8m21s  (59.8%)\rEpoch: 99.2%  lr: 0.020030  loss: 0.009447  eta: 0h5m  tot: 0h8m21s  (59.8%)\rEpoch: 99.3%  lr: 0.020020  loss: 0.009449  eta: 0h5m  tot: 0h8m21s  (59.9%)\rEpoch: 99.4%  lr: 0.020020  loss: 0.009448  eta: 0h5m  tot: 0h8m21s  (59.9%)\rEpoch: 99.5%  lr: 0.020010  loss: 0.009443  eta: 0h5m  tot: 0h8m21s  (59.9%)\rEpoch: 99.6%  lr: 0.020010  loss: 0.009439  eta: 0h5m  tot: 0h8m21s  (59.9%)\rEpoch: 99.7%  lr: 0.020010  loss: 0.009450  eta: 0h5m  tot: 0h8m21s  (59.9%)\rEpoch: 99.7%  lr: 0.020010  loss: 0.009447  eta: 0h5m  tot: 0h8m22s  (59.9%)\rEpoch: 99.8%  lr: 0.020010  loss: 0.009448  eta: 0h5m  tot: 0h8m22s  (60.0%)\rEpoch: 99.9%  lr: 0.020010  loss: 0.009448  eta: 0h5m  tot: 0h8m22s  (60.0%)\rEpoch: 100.0%  lr: 0.020000  loss: 0.009450  eta: 0h5m  tot: 0h8m22s  (60.0%)\rEpoch: 0.1%  lr: 0.020000  loss: 0.010041  eta: 0h1m  tot: 0h8m22s  (60.0%)\rEpoch: 0.2%  lr: 0.020000  loss: 0.011916  eta: 0h2m  tot: 0h8m22s  (60.0%)\rEpoch: 0.3%  lr: 0.020000  loss: 0.009848  eta: 0h2m  tot: 0h8m22s  (60.1%)\rEpoch: 0.4%  lr: 0.019990  loss: 0.010322  eta: 0h3m  tot: 0h8m22s  (60.1%)\rEpoch: 0.4%  lr: 0.019980  loss: 0.009546  eta: 0h4m  tot: 0h8m22s  (60.1%)\rEpoch: 0.5%  lr: 0.019980  loss: 0.010519  eta: 0h4m  tot: 0h8m22s  (60.1%)\rEpoch: 0.6%  lr: 0.019980  loss: 0.010333  eta: 0h4m  tot: 0h8m23s  (60.1%)\rEpoch: 0.7%  lr: 0.019950  loss: 0.009705  eta: 0h4m  tot: 0h8m23s  (60.1%)\rEpoch: 0.8%  lr: 0.019940  loss: 0.009137  eta: 0h4m  tot: 0h8m23s  (60.2%)\rEpoch: 0.9%  lr: 0.019940  loss: 0.008535  eta: 0h4m  tot: 0h8m23s  (60.2%)\rEpoch: 1.0%  lr: 0.019940  loss: 0.008846  eta: 0h4m  tot: 0h8m23s  (60.2%)\rEpoch: 1.1%  lr: 0.019930  loss: 0.008854  eta: 0h4m  tot: 0h8m23s  (60.2%)\rEpoch: 1.2%  lr: 0.019930  loss: 0.008404  eta: 0h4m  tot: 0h8m23s  (60.2%)\rEpoch: 1.3%  lr: 0.019920  loss: 0.008092  eta: 0h4m  tot: 0h8m24s  (60.3%)\rEpoch: 1.3%  lr: 0.019900  loss: 0.008268  eta: 0h4m  tot: 0h8m24s  (60.3%)\rEpoch: 1.4%  lr: 0.019890  loss: 0.008089  eta: 0h4m  tot: 0h8m24s  (60.3%)\rEpoch: 1.5%  lr: 0.019890  loss: 0.007837  eta: 0h4m  tot: 0h8m24s  (60.3%)\rEpoch: 1.6%  lr: 0.019890  loss: 0.007706  eta: 0h4m  tot: 0h8m24s  (60.3%)\rEpoch: 1.7%  lr: 0.019890  loss: 0.007428  eta: 0h4m  tot: 0h8m24s  (60.3%)\rEpoch: 1.8%  lr: 0.019890  loss: 0.007500  eta: 0h4m  tot: 0h8m24s  (60.4%)\rEpoch: 1.9%  lr: 0.019880  loss: 0.007495  eta: 0h4m  tot: 0h8m25s  (60.4%)\rEpoch: 2.0%  lr: 0.019880  loss: 0.007524  eta: 0h4m  tot: 0h8m25s  (60.4%)\rEpoch: 2.1%  lr: 0.019870  loss: 0.007322  eta: 0h4m  tot: 0h8m25s  (60.4%)\rEpoch: 2.2%  lr: 0.019860  loss: 0.007276  eta: 0h4m  tot: 0h8m25s  (60.4%)\rEpoch: 2.2%  lr: 0.019830  loss: 0.007445  eta: 0h4m  tot: 0h8m25s  (60.4%)\rEpoch: 2.3%  lr: 0.019830  loss: 0.007533  eta: 0h4m  tot: 0h8m25s  (60.5%)\rEpoch: 2.4%  lr: 0.019820  loss: 0.007511  eta: 0h5m  tot: 0h8m25s  (60.5%)\rEpoch: 2.5%  lr: 0.019790  loss: 0.007412  eta: 0h5m  tot: 0h8m26s  (60.5%)\rEpoch: 2.6%  lr: 0.019790  loss: 0.007337  eta: 0h5m  tot: 0h8m26s  (60.5%)\rEpoch: 2.7%  lr: 0.019780  loss: 0.007334  eta: 0h5m  tot: 0h8m26s  (60.5%)\rEpoch: 2.8%  lr: 0.019760  loss: 0.007351  eta: 0h5m  tot: 0h8m26s  (60.6%)\rEpoch: 2.9%  lr: 0.019740  loss: 0.007310  eta: 0h5m  tot: 0h8m26s  (60.6%)\rEpoch: 3.0%  lr: 0.019740  loss: 0.007322  eta: 0h5m  tot: 0h8m26s  (60.6%)\rEpoch: 3.1%  lr: 0.019720  loss: 0.007375  eta: 0h5m  tot: 0h8m26s  (60.6%)\rEpoch: 3.1%  lr: 0.019700  loss: 0.007320  eta: 0h5m  tot: 0h8m27s  (60.6%)\rEpoch: 3.2%  lr: 0.019700  loss: 0.007317  eta: 0h5m  tot: 0h8m27s  (60.6%)\rEpoch: 3.3%  lr: 0.019680  loss: 0.007366  eta: 0h5m  tot: 0h8m27s  (60.7%)\rEpoch: 3.4%  lr: 0.019680  loss: 0.007257  eta: 0h5m  tot: 0h8m27s  (60.7%)\rEpoch: 3.5%  lr: 0.019670  loss: 0.007200  eta: 0h5m  tot: 0h8m27s  (60.7%)\rEpoch: 3.6%  lr: 0.019650  loss: 0.007136  eta: 0h5m  tot: 0h8m27s  (60.7%)\rEpoch: 3.7%  lr: 0.019650  loss: 0.007233  eta: 0h5m  tot: 0h8m28s  (60.7%)\rEpoch: 3.8%  lr: 0.019650  loss: 0.007210  eta: 0h5m  tot: 0h8m28s  (60.8%)\rEpoch: 3.9%  lr: 0.019640  loss: 0.007148  eta: 0h5m  tot: 0h8m28s  (60.8%)\rEpoch: 4.0%  lr: 0.019640  loss: 0.007170  eta: 0h5m  tot: 0h8m28s  (60.8%)\rEpoch: 4.1%  lr: 0.019640  loss: 0.007155  eta: 0h5m  tot: 0h8m28s  (60.8%)\rEpoch: 4.1%  lr: 0.019640  loss: 0.007294  eta: 0h5m  tot: 0h8m28s  (60.8%)\rEpoch: 4.2%  lr: 0.019630  loss: 0.007240  eta: 0h5m  tot: 0h8m28s  (60.8%)\rEpoch: 4.3%  lr: 0.019630  loss: 0.007328  eta: 0h5m  tot: 0h8m29s  (60.9%)\rEpoch: 4.4%  lr: 0.019620  loss: 0.007246  eta: 0h5m  tot: 0h8m29s  (60.9%)\rEpoch: 4.5%  lr: 0.019620  loss: 0.007223  eta: 0h5m  tot: 0h8m29s  (60.9%)\rEpoch: 4.6%  lr: 0.019610  loss: 0.007141  eta: 0h5m  tot: 0h8m29s  (60.9%)\rEpoch: 4.7%  lr: 0.019600  loss: 0.007083  eta: 0h5m  tot: 0h8m29s  (60.9%)\rEpoch: 4.8%  lr: 0.019600  loss: 0.007053  eta: 0h5m  tot: 0h8m29s  (61.0%)\rEpoch: 4.9%  lr: 0.019600  loss: 0.006984  eta: 0h5m  tot: 0h8m29s  (61.0%)\rEpoch: 5.0%  lr: 0.019590  loss: 0.006979  eta: 0h5m  tot: 0h8m30s  (61.0%)\rEpoch: 5.0%  lr: 0.019570  loss: 0.006944  eta: 0h5m  tot: 0h8m30s  (61.0%)\rEpoch: 5.1%  lr: 0.019550  loss: 0.006929  eta: 0h5m  tot: 0h8m30s  (61.0%)\rEpoch: 5.2%  lr: 0.019550  loss: 0.006967  eta: 0h5m  tot: 0h8m30s  (61.0%)\rEpoch: 5.3%  lr: 0.019530  loss: 0.007006  eta: 0h5m  tot: 0h8m30s  (61.1%)\rEpoch: 5.4%  lr: 0.019510  loss: 0.006990  eta: 0h5m  tot: 0h8m30s  (61.1%)\rEpoch: 5.5%  lr: 0.019500  loss: 0.006972  eta: 0h5m  tot: 0h8m30s  (61.1%)\rEpoch: 5.6%  lr: 0.019500  loss: 0.006975  eta: 0h5m  tot: 0h8m31s  (61.1%)\rEpoch: 5.7%  lr: 0.019500  loss: 0.006929  eta: 0h5m  tot: 0h8m31s  (61.1%)\rEpoch: 5.8%  lr: 0.019489  loss: 0.006896  eta: 0h5m  tot: 0h8m31s  (61.2%)\rEpoch: 5.9%  lr: 0.019489  loss: 0.006879  eta: 0h5m  tot: 0h8m31s  (61.2%)\rEpoch: 5.9%  lr: 0.019469  loss: 0.006866  eta: 0h5m  tot: 0h8m31s  (61.2%)\rEpoch: 6.0%  lr: 0.019469  loss: 0.006914  eta: 0h5m  tot: 0h8m31s  (61.2%)\rEpoch: 6.1%  lr: 0.019459  loss: 0.006912  eta: 0h5m  tot: 0h8m31s  (61.2%)\rEpoch: 6.2%  lr: 0.019439  loss: 0.006985  eta: 0h5m  tot: 0h8m32s  (61.2%)\rEpoch: 6.3%  lr: 0.019439  loss: 0.006944  eta: 0h5m  tot: 0h8m32s  (61.3%)\rEpoch: 6.4%  lr: 0.019439  loss: 0.007039  eta: 0h5m  tot: 0h8m32s  (61.3%)\rEpoch: 6.5%  lr: 0.019439  loss: 0.007046  eta: 0h5m  tot: 0h8m32s  (61.3%)\rEpoch: 6.6%  lr: 0.019429  loss: 0.007084  eta: 0h5m  tot: 0h8m32s  (61.3%)\rEpoch: 6.7%  lr: 0.019419  loss: 0.007062  eta: 0h5m  tot: 0h8m32s  (61.3%)\rEpoch: 6.8%  lr: 0.019419  loss: 0.007077  eta: 0h5m  tot: 0h8m32s  (61.4%)\rEpoch: 6.8%  lr: 0.019419  loss: 0.007109  eta: 0h5m  tot: 0h8m33s  (61.4%)\rEpoch: 6.9%  lr: 0.019399  loss: 0.007048  eta: 0h5m  tot: 0h8m33s  (61.4%)\rEpoch: 7.0%  lr: 0.019399  loss: 0.007187  eta: 0h5m  tot: 0h8m33s  (61.4%)\rEpoch: 7.1%  lr: 0.019379  loss: 0.007231  eta: 0h5m  tot: 0h8m33s  (61.4%)\rEpoch: 7.2%  lr: 0.019369  loss: 0.007247  eta: 0h5m  tot: 0h8m33s  (61.4%)\rEpoch: 7.3%  lr: 0.019369  loss: 0.007271  eta: 0h5m  tot: 0h8m33s  (61.5%)\rEpoch: 7.4%  lr: 0.019359  loss: 0.007199  eta: 0h5m  tot: 0h8m33s  (61.5%)\rEpoch: 7.5%  lr: 0.019359  loss: 0.007192  eta: 0h5m  tot: 0h8m34s  (61.5%)\rEpoch: 7.6%  lr: 0.019359  loss: 0.007193  eta: 0h5m  tot: 0h8m34s  (61.5%)\rEpoch: 7.7%  lr: 0.019359  loss: 0.007210  eta: 0h5m  tot: 0h8m34s  (61.5%)\rEpoch: 7.7%  lr: 0.019349  loss: 0.007185  eta: 0h5m  tot: 0h8m34s  (61.5%)\rEpoch: 7.8%  lr: 0.019339  loss: 0.007301  eta: 0h5m  tot: 0h8m34s  (61.6%)\rEpoch: 7.9%  lr: 0.019319  loss: 0.007302  eta: 0h5m  tot: 0h8m34s  (61.6%)\rEpoch: 8.0%  lr: 0.019309  loss: 0.007318  eta: 0h5m  tot: 0h8m34s  (61.6%)\rEpoch: 8.1%  lr: 0.019299  loss: 0.007291  eta: 0h5m  tot: 0h8m35s  (61.6%)\rEpoch: 8.2%  lr: 0.019289  loss: 0.007310  eta: 0h5m  tot: 0h8m35s  (61.6%)\rEpoch: 8.3%  lr: 0.019279  loss: 0.007363  eta: 0h5m  tot: 0h8m35s  (61.7%)\rEpoch: 8.4%  lr: 0.019269  loss: 0.007327  eta: 0h5m  tot: 0h8m35s  (61.7%)\rEpoch: 8.5%  lr: 0.019239  loss: 0.007377  eta: 0h5m  tot: 0h8m35s  (61.7%)\rEpoch: 8.6%  lr: 0.019239  loss: 0.007342  eta: 0h5m  tot: 0h8m35s  (61.7%)\rEpoch: 8.6%  lr: 0.019239  loss: 0.007325  eta: 0h5m  tot: 0h8m35s  (61.7%)\rEpoch: 8.7%  lr: 0.019229  loss: 0.007372  eta: 0h5m  tot: 0h8m36s  (61.7%)\rEpoch: 8.8%  lr: 0.019229  loss: 0.007363  eta: 0h5m  tot: 0h8m36s  (61.8%)\rEpoch: 8.9%  lr: 0.019219  loss: 0.007359  eta: 0h5m  tot: 0h8m36s  (61.8%)\rEpoch: 9.0%  lr: 0.019209  loss: 0.007309  eta: 0h5m  tot: 0h8m36s  (61.8%)\rEpoch: 9.1%  lr: 0.019209  loss: 0.007324  eta: 0h5m  tot: 0h8m36s  (61.8%)\rEpoch: 9.2%  lr: 0.019209  loss: 0.007414  eta: 0h5m  tot: 0h8m36s  (61.8%)\rEpoch: 9.3%  lr: 0.019199  loss: 0.007460  eta: 0h5m  tot: 0h8m36s  (61.9%)\rEpoch: 9.4%  lr: 0.019199  loss: 0.007540  eta: 0h5m  tot: 0h8m37s  (61.9%)\rEpoch: 9.5%  lr: 0.019189  loss: 0.007558  eta: 0h5m  tot: 0h8m37s  (61.9%)\rEpoch: 9.5%  lr: 0.019159  loss: 0.007539  eta: 0h5m  tot: 0h8m37s  (61.9%)\rEpoch: 9.6%  lr: 0.019139  loss: 0.007528  eta: 0h5m  tot: 0h8m37s  (61.9%)\rEpoch: 9.7%  lr: 0.019139  loss: 0.007506  eta: 0h5m  tot: 0h8m37s  (61.9%)\rEpoch: 9.8%  lr: 0.019139  loss: 0.007465  eta: 0h5m  tot: 0h8m37s  (62.0%)\rEpoch: 9.9%  lr: 0.019129  loss: 0.007461  eta: 0h5m  tot: 0h8m37s  (62.0%)\rEpoch: 10.0%  lr: 0.019129  loss: 0.007445  eta: 0h5m  tot: 0h8m38s  (62.0%)\rEpoch: 10.1%  lr: 0.019129  loss: 0.007409  eta: 0h5m  tot: 0h8m38s  (62.0%)\rEpoch: 10.2%  lr: 0.019129  loss: 0.007410  eta: 0h5m  tot: 0h8m38s  (62.0%)\rEpoch: 10.3%  lr: 0.019119  loss: 0.007366  eta: 0h5m  tot: 0h8m38s  (62.1%)\rEpoch: 10.4%  lr: 0.019099  loss: 0.007385  eta: 0h5m  tot: 0h8m38s  (62.1%)\rEpoch: 10.4%  lr: 0.019079  loss: 0.007360  eta: 0h5m  tot: 0h8m38s  (62.1%)\rEpoch: 10.5%  lr: 0.019039  loss: 0.007363  eta: 0h5m  tot: 0h8m39s  (62.1%)\rEpoch: 10.6%  lr: 0.019009  loss: 0.007372  eta: 0h5m  tot: 0h8m39s  (62.1%)\rEpoch: 10.7%  lr: 0.018999  loss: 0.007330  eta: 0h5m  tot: 0h8m39s  (62.1%)\rEpoch: 10.8%  lr: 0.018999  loss: 0.007418  eta: 0h5m  tot: 0h8m39s  (62.2%)\rEpoch: 10.9%  lr: 0.018999  loss: 0.007412  eta: 0h5m  tot: 0h8m39s  (62.2%)\rEpoch: 11.0%  lr: 0.018999  loss: 0.007383  eta: 0h5m  tot: 0h8m39s  (62.2%)\rEpoch: 11.1%  lr: 0.018999  loss: 0.007359  eta: 0h5m  tot: 0h8m39s  (62.2%)\rEpoch: 11.2%  lr: 0.018999  loss: 0.007331  eta: 0h5m  tot: 0h8m40s  (62.2%)\rEpoch: 11.3%  lr: 0.018999  loss: 0.007328  eta: 0h5m  tot: 0h8m40s  (62.3%)\rEpoch: 11.3%  lr: 0.018979  loss: 0.007297  eta: 0h5m  tot: 0h8m40s  (62.3%)\rEpoch: 11.4%  lr: 0.018969  loss: 0.007301  eta: 0h5m  tot: 0h8m40s  (62.3%)\rEpoch: 11.5%  lr: 0.018959  loss: 0.007397  eta: 0h5m  tot: 0h8m40s  (62.3%)\rEpoch: 11.6%  lr: 0.018959  loss: 0.007394  eta: 0h5m  tot: 0h8m40s  (62.3%)\rEpoch: 11.7%  lr: 0.018939  loss: 0.007366  eta: 0h5m  tot: 0h8m40s  (62.3%)\rEpoch: 11.8%  lr: 0.018899  loss: 0.007336  eta: 0h5m  tot: 0h8m41s  (62.4%)\rEpoch: 11.9%  lr: 0.018889  loss: 0.007375  eta: 0h4m  tot: 0h8m41s  (62.4%)\rEpoch: 12.0%  lr: 0.018889  loss: 0.007357  eta: 0h4m  tot: 0h8m41s  (62.4%)\rEpoch: 12.1%  lr: 0.018889  loss: 0.007447  eta: 0h5m  tot: 0h8m41s  (62.4%)\rEpoch: 12.2%  lr: 0.018879  loss: 0.007444  eta: 0h4m  tot: 0h8m41s  (62.4%)\rEpoch: 12.2%  lr: 0.018859  loss: 0.007402  eta: 0h4m  tot: 0h8m41s  (62.4%)\rEpoch: 12.3%  lr: 0.018859  loss: 0.007433  eta: 0h4m  tot: 0h8m41s  (62.5%)\rEpoch: 12.4%  lr: 0.018849  loss: 0.007438  eta: 0h4m  tot: 0h8m42s  (62.5%)\rEpoch: 12.5%  lr: 0.018839  loss: 0.007434  eta: 0h4m  tot: 0h8m42s  (62.5%)\rEpoch: 12.6%  lr: 0.018809  loss: 0.007403  eta: 0h4m  tot: 0h8m42s  (62.5%)\rEpoch: 12.7%  lr: 0.018809  loss: 0.007427  eta: 0h4m  tot: 0h8m42s  (62.5%)\rEpoch: 12.8%  lr: 0.018779  loss: 0.007426  eta: 0h4m  tot: 0h8m42s  (62.6%)\rEpoch: 12.9%  lr: 0.018779  loss: 0.007405  eta: 0h4m  tot: 0h8m42s  (62.6%)\rEpoch: 13.0%  lr: 0.018769  loss: 0.007381  eta: 0h4m  tot: 0h8m42s  (62.6%)\rEpoch: 13.1%  lr: 0.018749  loss: 0.007430  eta: 0h4m  tot: 0h8m43s  (62.6%)\rEpoch: 13.1%  lr: 0.018729  loss: 0.007438  eta: 0h4m  tot: 0h8m43s  (62.6%)\rEpoch: 13.2%  lr: 0.018719  loss: 0.007475  eta: 0h4m  tot: 0h8m43s  (62.6%)\rEpoch: 13.3%  lr: 0.018709  loss: 0.007458  eta: 0h4m  tot: 0h8m43s  (62.7%)\rEpoch: 13.4%  lr: 0.018709  loss: 0.007444  eta: 0h4m  tot: 0h8m43s  (62.7%)\rEpoch: 13.5%  lr: 0.018699  loss: 0.007400  eta: 0h4m  tot: 0h8m43s  (62.7%)\rEpoch: 13.6%  lr: 0.018689  loss: 0.007381  eta: 0h4m  tot: 0h8m44s  (62.7%)\rEpoch: 13.7%  lr: 0.018679  loss: 0.007381  eta: 0h4m  tot: 0h8m44s  (62.7%)\rEpoch: 13.8%  lr: 0.018679  loss: 0.007388  eta: 0h4m  tot: 0h8m44s  (62.8%)\rEpoch: 13.9%  lr: 0.018669  loss: 0.007367  eta: 0h4m  tot: 0h8m44s  (62.8%)\rEpoch: 14.0%  lr: 0.018669  loss: 0.007357  eta: 0h4m  tot: 0h8m44s  (62.8%)\rEpoch: 14.0%  lr: 0.018649  loss: 0.007352  eta: 0h4m  tot: 0h8m44s  (62.8%)\rEpoch: 14.1%  lr: 0.018609  loss: 0.007333  eta: 0h4m  tot: 0h8m44s  (62.8%)\rEpoch: 14.2%  lr: 0.018609  loss: 0.007341  eta: 0h4m  tot: 0h8m45s  (62.8%)\rEpoch: 14.3%  lr: 0.018599  loss: 0.007354  eta: 0h4m  tot: 0h8m45s  (62.9%)\rEpoch: 14.4%  lr: 0.018589  loss: 0.007316  eta: 0h4m  tot: 0h8m45s  (62.9%)\rEpoch: 14.5%  lr: 0.018579  loss: 0.007330  eta: 0h4m  tot: 0h8m45s  (62.9%)\rEpoch: 14.6%  lr: 0.018569  loss: 0.007313  eta: 0h4m  tot: 0h8m45s  (62.9%)\rEpoch: 14.7%  lr: 0.018569  loss: 0.007338  eta: 0h4m  tot: 0h8m45s  (62.9%)\rEpoch: 14.8%  lr: 0.018569  loss: 0.007318  eta: 0h4m  tot: 0h8m45s  (63.0%)\rEpoch: 14.9%  lr: 0.018559  loss: 0.007295  eta: 0h4m  tot: 0h8m46s  (63.0%)\rEpoch: 14.9%  lr: 0.018559  loss: 0.007278  eta: 0h4m  tot: 0h8m46s  (63.0%)\rEpoch: 15.0%  lr: 0.018549  loss: 0.007322  eta: 0h4m  tot: 0h8m46s  (63.0%)\rEpoch: 15.1%  lr: 0.018539  loss: 0.007307  eta: 0h4m  tot: 0h8m46s  (63.0%)\rEpoch: 15.2%  lr: 0.018529  loss: 0.007308  eta: 0h4m  tot: 0h8m46s  (63.0%)\rEpoch: 15.3%  lr: 0.018509  loss: 0.007310  eta: 0h4m  tot: 0h8m46s  (63.1%)\rEpoch: 15.4%  lr: 0.018509  loss: 0.007314  eta: 0h4m  tot: 0h8m46s  (63.1%)\rEpoch: 15.5%  lr: 0.018509  loss: 0.007351  eta: 0h4m  tot: 0h8m47s  (63.1%)\rEpoch: 15.6%  lr: 0.018509  loss: 0.007328  eta: 0h4m  tot: 0h8m47s  (63.1%)\rEpoch: 15.7%  lr: 0.018509  loss: 0.007319  eta: 0h4m  tot: 0h8m47s  (63.1%)\rEpoch: 15.8%  lr: 0.018489  loss: 0.007279  eta: 0h4m  tot: 0h8m47s  (63.2%)\rEpoch: 15.8%  lr: 0.018479  loss: 0.007288  eta: 0h4m  tot: 0h8m47s  (63.2%)\rEpoch: 15.9%  lr: 0.018479  loss: 0.007306  eta: 0h4m  tot: 0h8m47s  (63.2%)\rEpoch: 16.0%  lr: 0.018479  loss: 0.007315  eta: 0h4m  tot: 0h8m47s  (63.2%)\rEpoch: 16.1%  lr: 0.018479  loss: 0.007307  eta: 0h4m  tot: 0h8m48s  (63.2%)\rEpoch: 16.2%  lr: 0.018468  loss: 0.007299  eta: 0h4m  tot: 0h8m48s  (63.2%)\rEpoch: 16.3%  lr: 0.018458  loss: 0.007299  eta: 0h4m  tot: 0h8m48s  (63.3%)\rEpoch: 16.4%  lr: 0.018448  loss: 0.007270  eta: 0h4m  tot: 0h8m48s  (63.3%)\rEpoch: 16.5%  lr: 0.018438  loss: 0.007304  eta: 0h4m  tot: 0h8m48s  (63.3%)\rEpoch: 16.6%  lr: 0.018428  loss: 0.007291  eta: 0h4m  tot: 0h8m48s  (63.3%)\rEpoch: 16.7%  lr: 0.018418  loss: 0.007271  eta: 0h4m  tot: 0h8m48s  (63.3%)\rEpoch: 16.7%  lr: 0.018398  loss: 0.007257  eta: 0h4m  tot: 0h8m49s  (63.3%)\rEpoch: 16.8%  lr: 0.018398  loss: 0.007263  eta: 0h4m  tot: 0h8m49s  (63.4%)\rEpoch: 16.9%  lr: 0.018398  loss: 0.007302  eta: 0h4m  tot: 0h8m49s  (63.4%)\rEpoch: 17.0%  lr: 0.018398  loss: 0.007327  eta: 0h4m  tot: 0h8m49s  (63.4%)\rEpoch: 17.1%  lr: 0.018398  loss: 0.007314  eta: 0h4m  tot: 0h8m49s  (63.4%)\rEpoch: 17.2%  lr: 0.018388  loss: 0.007347  eta: 0h4m  tot: 0h8m49s  (63.4%)\rEpoch: 17.3%  lr: 0.018378  loss: 0.007317  eta: 0h4m  tot: 0h8m49s  (63.5%)\rEpoch: 17.4%  lr: 0.018358  loss: 0.007304  eta: 0h4m  tot: 0h8m50s  (63.5%)\rEpoch: 17.5%  lr: 0.018338  loss: 0.007292  eta: 0h4m  tot: 0h8m50s  (63.5%)\rEpoch: 17.6%  lr: 0.018338  loss: 0.007266  eta: 0h4m  tot: 0h8m50s  (63.5%)\rEpoch: 17.6%  lr: 0.018328  loss: 0.007243  eta: 0h4m  tot: 0h8m50s  (63.5%)\rEpoch: 17.7%  lr: 0.018318  loss: 0.007246  eta: 0h4m  tot: 0h8m50s  (63.5%)\rEpoch: 17.8%  lr: 0.018308  loss: 0.007237  eta: 0h4m  tot: 0h8m50s  (63.6%)\rEpoch: 17.9%  lr: 0.018308  loss: 0.007231  eta: 0h4m  tot: 0h8m50s  (63.6%)\rEpoch: 18.0%  lr: 0.018308  loss: 0.007239  eta: 0h4m  tot: 0h8m51s  (63.6%)\rEpoch: 18.1%  lr: 0.018298  loss: 0.007236  eta: 0h4m  tot: 0h8m51s  (63.6%)\rEpoch: 18.2%  lr: 0.018288  loss: 0.007236  eta: 0h4m  tot: 0h8m51s  (63.6%)\rEpoch: 18.3%  lr: 0.018278  loss: 0.007233  eta: 0h4m  tot: 0h8m51s  (63.7%)\rEpoch: 18.4%  lr: 0.018278  loss: 0.007229  eta: 0h4m  tot: 0h8m51s  (63.7%)\rEpoch: 18.5%  lr: 0.018278  loss: 0.007238  eta: 0h4m  tot: 0h8m51s  (63.7%)\rEpoch: 18.5%  lr: 0.018268  loss: 0.007234  eta: 0h4m  tot: 0h8m52s  (63.7%)\rEpoch: 18.6%  lr: 0.018268  loss: 0.007336  eta: 0h4m  tot: 0h8m52s  (63.7%)\rEpoch: 18.7%  lr: 0.018268  loss: 0.007356  eta: 0h4m  tot: 0h8m52s  (63.7%)\rEpoch: 18.8%  lr: 0.018248  loss: 0.007362  eta: 0h4m  tot: 0h8m52s  (63.8%)\rEpoch: 18.9%  lr: 0.018248  loss: 0.007414  eta: 0h4m  tot: 0h8m52s  (63.8%)\rEpoch: 19.0%  lr: 0.018248  loss: 0.007396  eta: 0h4m  tot: 0h8m52s  (63.8%)\rEpoch: 19.1%  lr: 0.018238  loss: 0.007388  eta: 0h4m  tot: 0h8m52s  (63.8%)\rEpoch: 19.2%  lr: 0.018228  loss: 0.007421  eta: 0h4m  tot: 0h8m53s  (63.8%)\rEpoch: 19.3%  lr: 0.018228  loss: 0.007456  eta: 0h4m  tot: 0h8m53s  (63.9%)\rEpoch: 19.4%  lr: 0.018218  loss: 0.007473  eta: 0h4m  tot: 0h8m53s  (63.9%)\rEpoch: 19.4%  lr: 0.018218  loss: 0.007454  eta: 0h4m  tot: 0h8m53s  (63.9%)\rEpoch: 19.5%  lr: 0.018218  loss: 0.007446  eta: 0h4m  tot: 0h8m53s  (63.9%)\rEpoch: 19.6%  lr: 0.018208  loss: 0.007452  eta: 0h4m  tot: 0h8m53s  (63.9%)\rEpoch: 19.7%  lr: 0.018198  loss: 0.007473  eta: 0h4m  tot: 0h8m53s  (63.9%)\rEpoch: 19.8%  lr: 0.018198  loss: 0.007467  eta: 0h4m  tot: 0h8m54s  (64.0%)\rEpoch: 19.9%  lr: 0.018178  loss: 0.007454  eta: 0h4m  tot: 0h8m54s  (64.0%)\rEpoch: 20.0%  lr: 0.018178  loss: 0.007487  eta: 0h4m  tot: 0h8m54s  (64.0%)\rEpoch: 20.1%  lr: 0.018178  loss: 0.007477  eta: 0h4m  tot: 0h8m54s  (64.0%)\rEpoch: 20.2%  lr: 0.018168  loss: 0.007472  eta: 0h4m  tot: 0h8m54s  (64.0%)\rEpoch: 20.3%  lr: 0.018168  loss: 0.007482  eta: 0h4m  tot: 0h8m54s  (64.1%)\rEpoch: 20.3%  lr: 0.018158  loss: 0.007474  eta: 0h4m  tot: 0h8m54s  (64.1%)\rEpoch: 20.4%  lr: 0.018158  loss: 0.007460  eta: 0h4m  tot: 0h8m55s  (64.1%)\rEpoch: 20.5%  lr: 0.018148  loss: 0.007445  eta: 0h4m  tot: 0h8m55s  (64.1%)\rEpoch: 20.6%  lr: 0.018148  loss: 0.007443  eta: 0h4m  tot: 0h8m55s  (64.1%)\rEpoch: 20.7%  lr: 0.018138  loss: 0.007429  eta: 0h4m  tot: 0h8m55s  (64.1%)\rEpoch: 20.8%  lr: 0.018118  loss: 0.007450  eta: 0h4m  tot: 0h8m55s  (64.2%)\rEpoch: 20.9%  lr: 0.018078  loss: 0.007444  eta: 0h4m  tot: 0h8m55s  (64.2%)\rEpoch: 21.0%  lr: 0.018068  loss: 0.007428  eta: 0h4m  tot: 0h8m55s  (64.2%)\rEpoch: 21.1%  lr: 0.018058  loss: 0.007433  eta: 0h4m  tot: 0h8m56s  (64.2%)\rEpoch: 21.2%  lr: 0.018058  loss: 0.007429  eta: 0h4m  tot: 0h8m56s  (64.2%)\rEpoch: 21.2%  lr: 0.018028  loss: 0.007403  eta: 0h4m  tot: 0h8m56s  (64.2%)\rEpoch: 21.3%  lr: 0.018008  loss: 0.007378  eta: 0h4m  tot: 0h8m56s  (64.3%)\rEpoch: 21.4%  lr: 0.017998  loss: 0.007410  eta: 0h4m  tot: 0h8m56s  (64.3%)\rEpoch: 21.5%  lr: 0.017988  loss: 0.007399  eta: 0h4m  tot: 0h8m56s  (64.3%)\rEpoch: 21.6%  lr: 0.017968  loss: 0.007419  eta: 0h4m  tot: 0h8m57s  (64.3%)\rEpoch: 21.7%  lr: 0.017958  loss: 0.007410  eta: 0h4m  tot: 0h8m57s  (64.3%)\rEpoch: 21.8%  lr: 0.017948  loss: 0.007463  eta: 0h4m  tot: 0h8m57s  (64.4%)\rEpoch: 21.9%  lr: 0.017938  loss: 0.007468  eta: 0h4m  tot: 0h8m57s  (64.4%)\rEpoch: 22.0%  lr: 0.017928  loss: 0.007457  eta: 0h4m  tot: 0h8m57s  (64.4%)\rEpoch: 22.1%  lr: 0.017908  loss: 0.007445  eta: 0h4m  tot: 0h8m57s  (64.4%)\rEpoch: 22.1%  lr: 0.017888  loss: 0.007453  eta: 0h4m  tot: 0h8m57s  (64.4%)\rEpoch: 22.2%  lr: 0.017888  loss: 0.007433  eta: 0h4m  tot: 0h8m58s  (64.4%)\rEpoch: 22.3%  lr: 0.017878  loss: 0.007435  eta: 0h4m  tot: 0h8m58s  (64.5%)\rEpoch: 22.4%  lr: 0.017878  loss: 0.007427  eta: 0h4m  tot: 0h8m58s  (64.5%)\rEpoch: 22.5%  lr: 0.017868  loss: 0.007419  eta: 0h4m  tot: 0h8m58s  (64.5%)\rEpoch: 22.6%  lr: 0.017848  loss: 0.007415  eta: 0h4m  tot: 0h8m58s  (64.5%)\rEpoch: 22.7%  lr: 0.017848  loss: 0.007430  eta: 0h4m  tot: 0h8m58s  (64.5%)\rEpoch: 22.8%  lr: 0.017838  loss: 0.007422  eta: 0h4m  tot: 0h8m58s  (64.6%)\rEpoch: 22.9%  lr: 0.017828  loss: 0.007403  eta: 0h4m  tot: 0h8m59s  (64.6%)\rEpoch: 23.0%  lr: 0.017818  loss: 0.007424  eta: 0h4m  tot: 0h8m59s  (64.6%)\rEpoch: 23.0%  lr: 0.017818  loss: 0.007453  eta: 0h4m  tot: 0h8m59s  (64.6%)\rEpoch: 23.1%  lr: 0.017818  loss: 0.007450  eta: 0h4m  tot: 0h8m59s  (64.6%)\rEpoch: 23.2%  lr: 0.017798  loss: 0.007440  eta: 0h4m  tot: 0h8m59s  (64.6%)\rEpoch: 23.3%  lr: 0.017788  loss: 0.007457  eta: 0h4m  tot: 0h8m59s  (64.7%)\rEpoch: 23.4%  lr: 0.017778  loss: 0.007478  eta: 0h4m  tot: 0h8m59s  (64.7%)\rEpoch: 23.5%  lr: 0.017778  loss: 0.007489  eta: 0h4m  tot: 0h9m0s  (64.7%)\rEpoch: 23.6%  lr: 0.017768  loss: 0.007486  eta: 0h4m  tot: 0h9m0s  (64.7%)\rEpoch: 23.7%  lr: 0.017768  loss: 0.007491  eta: 0h4m  tot: 0h9m0s  (64.7%)\rEpoch: 23.8%  lr: 0.017748  loss: 0.007498  eta: 0h4m  tot: 0h9m0s  (64.8%)\rEpoch: 23.9%  lr: 0.017748  loss: 0.007505  eta: 0h4m  tot: 0h9m0s  (64.8%)\rEpoch: 23.9%  lr: 0.017738  loss: 0.007517  eta: 0h4m  tot: 0h9m0s  (64.8%)\rEpoch: 24.0%  lr: 0.017728  loss: 0.007556  eta: 0h4m  tot: 0h9m0s  (64.8%)\rEpoch: 24.1%  lr: 0.017718  loss: 0.007539  eta: 0h4m  tot: 0h9m1s  (64.8%)\rEpoch: 24.2%  lr: 0.017718  loss: 0.007525  eta: 0h4m  tot: 0h9m1s  (64.8%)\rEpoch: 24.3%  lr: 0.017718  loss: 0.007521  eta: 0h4m  tot: 0h9m1s  (64.9%)\rEpoch: 24.4%  lr: 0.017718  loss: 0.007511  eta: 0h4m  tot: 0h9m1s  (64.9%)\rEpoch: 24.5%  lr: 0.017708  loss: 0.007520  eta: 0h4m  tot: 0h9m1s  (64.9%)\rEpoch: 24.6%  lr: 0.017698  loss: 0.007505  eta: 0h4m  tot: 0h9m1s  (64.9%)\rEpoch: 24.7%  lr: 0.017678  loss: 0.007515  eta: 0h4m  tot: 0h9m1s  (64.9%)\rEpoch: 24.8%  lr: 0.017678  loss: 0.007504  eta: 0h4m  tot: 0h9m2s  (65.0%)\rEpoch: 24.8%  lr: 0.017658  loss: 0.007501  eta: 0h4m  tot: 0h9m2s  (65.0%)\rEpoch: 24.9%  lr: 0.017658  loss: 0.007506  eta: 0h4m  tot: 0h9m2s  (65.0%)\rEpoch: 25.0%  lr: 0.017648  loss: 0.007526  eta: 0h4m  tot: 0h9m2s  (65.0%)\rEpoch: 25.1%  lr: 0.017648  loss: 0.007521  eta: 0h4m  tot: 0h9m2s  (65.0%)\rEpoch: 25.2%  lr: 0.017638  loss: 0.007545  eta: 0h4m  tot: 0h9m2s  (65.0%)\rEpoch: 25.3%  lr: 0.017628  loss: 0.007553  eta: 0h4m  tot: 0h9m2s  (65.1%)\rEpoch: 25.4%  lr: 0.017628  loss: 0.007585  eta: 0h4m  tot: 0h9m3s  (65.1%)\rEpoch: 25.5%  lr: 0.017618  loss: 0.007579  eta: 0h4m  tot: 0h9m3s  (65.1%)\rEpoch: 25.6%  lr: 0.017608  loss: 0.007562  eta: 0h4m  tot: 0h9m3s  (65.1%)\rEpoch: 25.7%  lr: 0.017588  loss: 0.007597  eta: 0h4m  tot: 0h9m3s  (65.1%)\rEpoch: 25.7%  lr: 0.017578  loss: 0.007605  eta: 0h4m  tot: 0h9m3s  (65.1%)\rEpoch: 25.8%  lr: 0.017568  loss: 0.007606  eta: 0h4m  tot: 0h9m3s  (65.2%)\rEpoch: 25.9%  lr: 0.017568  loss: 0.007592  eta: 0h4m  tot: 0h9m4s  (65.2%)\rEpoch: 26.0%  lr: 0.017568  loss: 0.007598  eta: 0h4m  tot: 0h9m4s  (65.2%)\rEpoch: 26.1%  lr: 0.017558  loss: 0.007596  eta: 0h4m  tot: 0h9m4s  (65.2%)\rEpoch: 26.2%  lr: 0.017548  loss: 0.007582  eta: 0h4m  tot: 0h9m4s  (65.2%)\rEpoch: 26.3%  lr: 0.017538  loss: 0.007575  eta: 0h4m  tot: 0h9m4s  (65.3%)\rEpoch: 26.4%  lr: 0.017528  loss: 0.007572  eta: 0h4m  tot: 0h9m4s  (65.3%)\rEpoch: 26.5%  lr: 0.017528  loss: 0.007575  eta: 0h4m  tot: 0h9m4s  (65.3%)\rEpoch: 26.6%  lr: 0.017528  loss: 0.007565  eta: 0h4m  tot: 0h9m5s  (65.3%)\rEpoch: 26.6%  lr: 0.017518  loss: 0.007548  eta: 0h4m  tot: 0h9m5s  (65.3%)\rEpoch: 26.7%  lr: 0.017518  loss: 0.007542  eta: 0h4m  tot: 0h9m5s  (65.3%)\rEpoch: 26.8%  lr: 0.017518  loss: 0.007532  eta: 0h4m  tot: 0h9m5s  (65.4%)\rEpoch: 26.9%  lr: 0.017518  loss: 0.007541  eta: 0h4m  tot: 0h9m5s  (65.4%)\rEpoch: 27.0%  lr: 0.017508  loss: 0.007533  eta: 0h4m  tot: 0h9m5s  (65.4%)\rEpoch: 27.1%  lr: 0.017508  loss: 0.007533  eta: 0h4m  tot: 0h9m5s  (65.4%)\rEpoch: 27.2%  lr: 0.017498  loss: 0.007537  eta: 0h4m  tot: 0h9m6s  (65.4%)\rEpoch: 27.3%  lr: 0.017488  loss: 0.007534  eta: 0h4m  tot: 0h9m6s  (65.5%)\rEpoch: 27.4%  lr: 0.017468  loss: 0.007524  eta: 0h4m  tot: 0h9m6s  (65.5%)\rEpoch: 27.5%  lr: 0.017457  loss: 0.007518  eta: 0h4m  tot: 0h9m6s  (65.5%)\rEpoch: 27.5%  lr: 0.017437  loss: 0.007505  eta: 0h4m  tot: 0h9m6s  (65.5%)\rEpoch: 27.6%  lr: 0.017437  loss: 0.007510  eta: 0h4m  tot: 0h9m6s  (65.5%)\rEpoch: 27.7%  lr: 0.017437  loss: 0.007512  eta: 0h4m  tot: 0h9m6s  (65.5%)\rEpoch: 27.8%  lr: 0.017437  loss: 0.007511  eta: 0h4m  tot: 0h9m7s  (65.6%)\rEpoch: 27.9%  lr: 0.017437  loss: 0.007517  eta: 0h4m  tot: 0h9m7s  (65.6%)\rEpoch: 28.0%  lr: 0.017417  loss: 0.007524  eta: 0h4m  tot: 0h9m7s  (65.6%)\rEpoch: 28.1%  lr: 0.017407  loss: 0.007542  eta: 0h4m  tot: 0h9m7s  (65.6%)\rEpoch: 28.2%  lr: 0.017407  loss: 0.007541  eta: 0h4m  tot: 0h9m7s  (65.6%)\rEpoch: 28.3%  lr: 0.017397  loss: 0.007545  eta: 0h4m  tot: 0h9m7s  (65.7%)\rEpoch: 28.4%  lr: 0.017387  loss: 0.007532  eta: 0h4m  tot: 0h9m7s  (65.7%)\rEpoch: 28.4%  lr: 0.017367  loss: 0.007534  eta: 0h4m  tot: 0h9m8s  (65.7%)\rEpoch: 28.5%  lr: 0.017357  loss: 0.007521  eta: 0h4m  tot: 0h9m8s  (65.7%)\rEpoch: 28.6%  lr: 0.017357  loss: 0.007512  eta: 0h4m  tot: 0h9m8s  (65.7%)\rEpoch: 28.7%  lr: 0.017327  loss: 0.007522  eta: 0h4m  tot: 0h9m8s  (65.7%)\rEpoch: 28.8%  lr: 0.017307  loss: 0.007537  eta: 0h4m  tot: 0h9m8s  (65.8%)\rEpoch: 28.9%  lr: 0.017297  loss: 0.007539  eta: 0h4m  tot: 0h9m8s  (65.8%)\rEpoch: 29.0%  lr: 0.017277  loss: 0.007559  eta: 0h4m  tot: 0h9m9s  (65.8%)\rEpoch: 29.1%  lr: 0.017277  loss: 0.007562  eta: 0h4m  tot: 0h9m9s  (65.8%)\rEpoch: 29.2%  lr: 0.017277  loss: 0.007566  eta: 0h4m  tot: 0h9m9s  (65.8%)\rEpoch: 29.3%  lr: 0.017267  loss: 0.007560  eta: 0h4m  tot: 0h9m9s  (65.9%)\rEpoch: 29.3%  lr: 0.017267  loss: 0.007554  eta: 0h4m  tot: 0h9m9s  (65.9%)\rEpoch: 29.4%  lr: 0.017257  loss: 0.007547  eta: 0h4m  tot: 0h9m9s  (65.9%)\rEpoch: 29.5%  lr: 0.017257  loss: 0.007566  eta: 0h4m  tot: 0h9m9s  (65.9%)\rEpoch: 29.6%  lr: 0.017247  loss: 0.007572  eta: 0h4m  tot: 0h9m10s  (65.9%)\rEpoch: 29.7%  lr: 0.017247  loss: 0.007566  eta: 0h4m  tot: 0h9m10s  (65.9%)\rEpoch: 29.8%  lr: 0.017237  loss: 0.007553  eta: 0h4m  tot: 0h9m10s  (66.0%)\rEpoch: 29.9%  lr: 0.017217  loss: 0.007564  eta: 0h4m  tot: 0h9m10s  (66.0%)\rEpoch: 30.0%  lr: 0.017197  loss: 0.007548  eta: 0h4m  tot: 0h9m10s  (66.0%)\rEpoch: 30.1%  lr: 0.017187  loss: 0.007570  eta: 0h4m  tot: 0h9m10s  (66.0%)\rEpoch: 30.2%  lr: 0.017187  loss: 0.007582  eta: 0h4m  tot: 0h9m10s  (66.0%)\rEpoch: 30.2%  lr: 0.017187  loss: 0.007579  eta: 0h4m  tot: 0h9m11s  (66.0%)\rEpoch: 30.3%  lr: 0.017177  loss: 0.007590  eta: 0h4m  tot: 0h9m11s  (66.1%)\rEpoch: 30.4%  lr: 0.017147  loss: 0.007639  eta: 0h4m  tot: 0h9m11s  (66.1%)\rEpoch: 30.5%  lr: 0.017137  loss: 0.007639  eta: 0h4m  tot: 0h9m11s  (66.1%)\rEpoch: 30.6%  lr: 0.017137  loss: 0.007626  eta: 0h4m  tot: 0h9m11s  (66.1%)\rEpoch: 30.7%  lr: 0.017137  loss: 0.007630  eta: 0h4m  tot: 0h9m11s  (66.1%)\rEpoch: 30.8%  lr: 0.017137  loss: 0.007616  eta: 0h4m  tot: 0h9m12s  (66.2%)\rEpoch: 30.9%  lr: 0.017107  loss: 0.007611  eta: 0h4m  tot: 0h9m12s  (66.2%)\rEpoch: 31.0%  lr: 0.017097  loss: 0.007612  eta: 0h4m  tot: 0h9m12s  (66.2%)\rEpoch: 31.1%  lr: 0.017087  loss: 0.007608  eta: 0h4m  tot: 0h9m12s  (66.2%)\rEpoch: 31.1%  lr: 0.017067  loss: 0.007599  eta: 0h4m  tot: 0h9m12s  (66.2%)\rEpoch: 31.2%  lr: 0.017067  loss: 0.007602  eta: 0h4m  tot: 0h9m12s  (66.2%)\rEpoch: 31.3%  lr: 0.017037  loss: 0.007598  eta: 0h4m  tot: 0h9m12s  (66.3%)\rEpoch: 31.4%  lr: 0.017037  loss: 0.007599  eta: 0h4m  tot: 0h9m13s  (66.3%)\rEpoch: 31.5%  lr: 0.017027  loss: 0.007592  eta: 0h4m  tot: 0h9m13s  (66.3%)\rEpoch: 31.6%  lr: 0.017007  loss: 0.007637  eta: 0h4m  tot: 0h9m13s  (66.3%)\rEpoch: 31.7%  lr: 0.016987  loss: 0.007624  eta: 0h4m  tot: 0h9m13s  (66.3%)\rEpoch: 31.8%  lr: 0.016987  loss: 0.007626  eta: 0h4m  tot: 0h9m13s  (66.4%)\rEpoch: 31.9%  lr: 0.016987  loss: 0.007623  eta: 0h4m  tot: 0h9m13s  (66.4%)\rEpoch: 32.0%  lr: 0.016947  loss: 0.007629  eta: 0h4m  tot: 0h9m13s  (66.4%)\rEpoch: 32.0%  lr: 0.016937  loss: 0.007638  eta: 0h4m  tot: 0h9m14s  (66.4%)\rEpoch: 32.1%  lr: 0.016937  loss: 0.007646  eta: 0h4m  tot: 0h9m14s  (66.4%)\rEpoch: 32.2%  lr: 0.016927  loss: 0.007635  eta: 0h4m  tot: 0h9m14s  (66.4%)\rEpoch: 32.3%  lr: 0.016927  loss: 0.007619  eta: 0h4m  tot: 0h9m14s  (66.5%)\rEpoch: 32.4%  lr: 0.016917  loss: 0.007603  eta: 0h4m  tot: 0h9m14s  (66.5%)\rEpoch: 32.5%  lr: 0.016907  loss: 0.007589  eta: 0h4m  tot: 0h9m14s  (66.5%)\rEpoch: 32.6%  lr: 0.016907  loss: 0.007605  eta: 0h4m  tot: 0h9m14s  (66.5%)\rEpoch: 32.7%  lr: 0.016897  loss: 0.007597  eta: 0h4m  tot: 0h9m15s  (66.5%)\rEpoch: 32.8%  lr: 0.016887  loss: 0.007620  eta: 0h4m  tot: 0h9m15s  (66.6%)\rEpoch: 32.9%  lr: 0.016877  loss: 0.007635  eta: 0h4m  tot: 0h9m15s  (66.6%)\rEpoch: 32.9%  lr: 0.016867  loss: 0.007661  eta: 0h4m  tot: 0h9m15s  (66.6%)\rEpoch: 33.0%  lr: 0.016867  loss: 0.007655  eta: 0h4m  tot: 0h9m15s  (66.6%)\rEpoch: 33.1%  lr: 0.016837  loss: 0.007685  eta: 0h4m  tot: 0h9m15s  (66.6%)\rEpoch: 33.2%  lr: 0.016817  loss: 0.007676  eta: 0h4m  tot: 0h9m16s  (66.6%)\rEpoch: 33.3%  lr: 0.016817  loss: 0.007666  eta: 0h4m  tot: 0h9m16s  (66.7%)\rEpoch: 33.4%  lr: 0.016807  loss: 0.007656  eta: 0h4m  tot: 0h9m16s  (66.7%)\rEpoch: 33.5%  lr: 0.016807  loss: 0.007645  eta: 0h4m  tot: 0h9m16s  (66.7%)\rEpoch: 33.6%  lr: 0.016797  loss: 0.007640  eta: 0h4m  tot: 0h9m16s  (66.7%)\rEpoch: 33.7%  lr: 0.016797  loss: 0.007642  eta: 0h4m  tot: 0h9m16s  (66.7%)\rEpoch: 33.8%  lr: 0.016767  loss: 0.007644  eta: 0h4m  tot: 0h9m16s  (66.8%)\rEpoch: 33.8%  lr: 0.016767  loss: 0.007653  eta: 0h4m  tot: 0h9m17s  (66.8%)\rEpoch: 33.9%  lr: 0.016767  loss: 0.007651  eta: 0h4m  tot: 0h9m17s  (66.8%)\rEpoch: 34.0%  lr: 0.016757  loss: 0.007642  eta: 0h4m  tot: 0h9m17s  (66.8%)\rEpoch: 34.1%  lr: 0.016747  loss: 0.007668  eta: 0h4m  tot: 0h9m17s  (66.8%)\rEpoch: 34.2%  lr: 0.016737  loss: 0.007669  eta: 0h4m  tot: 0h9m17s  (66.8%)\rEpoch: 34.3%  lr: 0.016707  loss: 0.007660  eta: 0h4m  tot: 0h9m17s  (66.9%)\rEpoch: 34.4%  lr: 0.016707  loss: 0.007649  eta: 0h4m  tot: 0h9m17s  (66.9%)\rEpoch: 34.5%  lr: 0.016697  loss: 0.007661  eta: 0h4m  tot: 0h9m18s  (66.9%)\rEpoch: 34.6%  lr: 0.016697  loss: 0.007645  eta: 0h4m  tot: 0h9m18s  (66.9%)\rEpoch: 34.7%  lr: 0.016687  loss: 0.007637  eta: 0h4m  tot: 0h9m18s  (66.9%)\rEpoch: 34.7%  lr: 0.016687  loss: 0.007626  eta: 0h4m  tot: 0h9m18s  (66.9%)\rEpoch: 34.8%  lr: 0.016687  loss: 0.007611  eta: 0h4m  tot: 0h9m18s  (67.0%)\rEpoch: 34.9%  lr: 0.016677  loss: 0.007606  eta: 0h4m  tot: 0h9m18s  (67.0%)\rEpoch: 35.0%  lr: 0.016667  loss: 0.007611  eta: 0h4m  tot: 0h9m18s  (67.0%)\rEpoch: 35.1%  lr: 0.016667  loss: 0.007607  eta: 0h4m  tot: 0h9m19s  (67.0%)\rEpoch: 35.2%  lr: 0.016657  loss: 0.007611  eta: 0h4m  tot: 0h9m19s  (67.0%)\rEpoch: 35.3%  lr: 0.016647  loss: 0.007611  eta: 0h4m  tot: 0h9m19s  (67.1%)\rEpoch: 35.4%  lr: 0.016647  loss: 0.007624  eta: 0h4m  tot: 0h9m19s  (67.1%)\rEpoch: 35.5%  lr: 0.016647  loss: 0.007631  eta: 0h4m  tot: 0h9m19s  (67.1%)\rEpoch: 35.6%  lr: 0.016617  loss: 0.007630  eta: 0h4m  tot: 0h9m19s  (67.1%)\rEpoch: 35.6%  lr: 0.016617  loss: 0.007642  eta: 0h4m  tot: 0h9m19s  (67.1%)\rEpoch: 35.7%  lr: 0.016587  loss: 0.007636  eta: 0h4m  tot: 0h9m20s  (67.1%)\rEpoch: 35.8%  lr: 0.016547  loss: 0.007630  eta: 0h4m  tot: 0h9m20s  (67.2%)\rEpoch: 35.9%  lr: 0.016527  loss: 0.007633  eta: 0h4m  tot: 0h9m20s  (67.2%)\rEpoch: 36.0%  lr: 0.016527  loss: 0.007626  eta: 0h4m  tot: 0h9m20s  (67.2%)\rEpoch: 36.1%  lr: 0.016517  loss: 0.007623  eta: 0h4m  tot: 0h9m20s  (67.2%)\rEpoch: 36.2%  lr: 0.016517  loss: 0.007620  eta: 0h4m  tot: 0h9m20s  (67.2%)\rEpoch: 36.3%  lr: 0.016487  loss: 0.007616  eta: 0h4m  tot: 0h9m20s  (67.3%)\rEpoch: 36.4%  lr: 0.016487  loss: 0.007612  eta: 0h4m  tot: 0h9m21s  (67.3%)\rEpoch: 36.5%  lr: 0.016477  loss: 0.007606  eta: 0h4m  tot: 0h9m21s  (67.3%)\rEpoch: 36.5%  lr: 0.016467  loss: 0.007602  eta: 0h4m  tot: 0h9m21s  (67.3%)\rEpoch: 36.6%  lr: 0.016467  loss: 0.007596  eta: 0h4m  tot: 0h9m21s  (67.3%)\rEpoch: 36.7%  lr: 0.016457  loss: 0.007592  eta: 0h4m  tot: 0h9m21s  (67.3%)\rEpoch: 36.8%  lr: 0.016457  loss: 0.007589  eta: 0h4m  tot: 0h9m21s  (67.4%)\rEpoch: 36.9%  lr: 0.016447  loss: 0.007582  eta: 0h4m  tot: 0h9m21s  (67.4%)\rEpoch: 37.0%  lr: 0.016447  loss: 0.007574  eta: 0h4m  tot: 0h9m22s  (67.4%)\rEpoch: 37.1%  lr: 0.016447  loss: 0.007567  eta: 0h4m  tot: 0h9m22s  (67.4%)\rEpoch: 37.2%  lr: 0.016436  loss: 0.007560  eta: 0h4m  tot: 0h9m22s  (67.4%)\rEpoch: 37.3%  lr: 0.016416  loss: 0.007551  eta: 0h4m  tot: 0h9m22s  (67.5%)\rEpoch: 37.4%  lr: 0.016406  loss: 0.007556  eta: 0h4m  tot: 0h9m22s  (67.5%)\rEpoch: 37.4%  lr: 0.016406  loss: 0.007547  eta: 0h4m  tot: 0h9m22s  (67.5%)\rEpoch: 37.5%  lr: 0.016396  loss: 0.007556  eta: 0h4m  tot: 0h9m22s  (67.5%)\rEpoch: 37.6%  lr: 0.016396  loss: 0.007574  eta: 0h4m  tot: 0h9m23s  (67.5%)\rEpoch: 37.7%  lr: 0.016396  loss: 0.007578  eta: 0h4m  tot: 0h9m23s  (67.5%)\rEpoch: 37.8%  lr: 0.016386  loss: 0.007576  eta: 0h4m  tot: 0h9m23s  (67.6%)\rEpoch: 37.9%  lr: 0.016386  loss: 0.007576  eta: 0h4m  tot: 0h9m23s  (67.6%)\rEpoch: 38.0%  lr: 0.016386  loss: 0.007586  eta: 0h4m  tot: 0h9m23s  (67.6%)\rEpoch: 38.1%  lr: 0.016376  loss: 0.007593  eta: 0h4m  tot: 0h9m23s  (67.6%)\rEpoch: 38.2%  lr: 0.016376  loss: 0.007583  eta: 0h4m  tot: 0h9m24s  (67.6%)\rEpoch: 38.3%  lr: 0.016366  loss: 0.007573  eta: 0h4m  tot: 0h9m24s  (67.7%)\rEpoch: 38.3%  lr: 0.016356  loss: 0.007560  eta: 0h4m  tot: 0h9m24s  (67.7%)\rEpoch: 38.4%  lr: 0.016356  loss: 0.007564  eta: 0h4m  tot: 0h9m24s  (67.7%)\rEpoch: 38.5%  lr: 0.016346  loss: 0.007554  eta: 0h4m  tot: 0h9m24s  (67.7%)\rEpoch: 38.6%  lr: 0.016336  loss: 0.007554  eta: 0h4m  tot: 0h9m24s  (67.7%)\rEpoch: 38.7%  lr: 0.016326  loss: 0.007568  eta: 0h4m  tot: 0h9m24s  (67.7%)\rEpoch: 38.8%  lr: 0.016306  loss: 0.007557  eta: 0h4m  tot: 0h9m25s  (67.8%)\rEpoch: 38.9%  lr: 0.016296  loss: 0.007558  eta: 0h4m  tot: 0h9m25s  (67.8%)\rEpoch: 39.0%  lr: 0.016296  loss: 0.007566  eta: 0h4m  tot: 0h9m25s  (67.8%)\rEpoch: 39.1%  lr: 0.016286  loss: 0.007566  eta: 0h4m  tot: 0h9m25s  (67.8%)\rEpoch: 39.2%  lr: 0.016266  loss: 0.007568  eta: 0h4m  tot: 0h9m25s  (67.8%)\rEpoch: 39.2%  lr: 0.016256  loss: 0.007568  eta: 0h4m  tot: 0h9m25s  (67.8%)\rEpoch: 39.3%  lr: 0.016256  loss: 0.007578  eta: 0h4m  tot: 0h9m25s  (67.9%)\rEpoch: 39.4%  lr: 0.016256  loss: 0.007570  eta: 0h4m  tot: 0h9m26s  (67.9%)\rEpoch: 39.5%  lr: 0.016246  loss: 0.007565  eta: 0h4m  tot: 0h9m26s  (67.9%)\rEpoch: 39.6%  lr: 0.016246  loss: 0.007573  eta: 0h4m  tot: 0h9m26s  (67.9%)\rEpoch: 39.7%  lr: 0.016246  loss: 0.007581  eta: 0h4m  tot: 0h9m26s  (67.9%)\rEpoch: 39.8%  lr: 0.016226  loss: 0.007576  eta: 0h4m  tot: 0h9m26s  (68.0%)\rEpoch: 39.9%  lr: 0.016216  loss: 0.007574  eta: 0h4m  tot: 0h9m26s  (68.0%)\rEpoch: 40.0%  lr: 0.016196  loss: 0.007576  eta: 0h4m  tot: 0h9m27s  (68.0%)\rEpoch: 40.1%  lr: 0.016196  loss: 0.007599  eta: 0h4m  tot: 0h9m27s  (68.0%)\rEpoch: 40.1%  lr: 0.016196  loss: 0.007592  eta: 0h4m  tot: 0h9m27s  (68.0%)\rEpoch: 40.2%  lr: 0.016166  loss: 0.007592  eta: 0h4m  tot: 0h9m27s  (68.0%)\rEpoch: 40.3%  lr: 0.016146  loss: 0.007616  eta: 0h4m  tot: 0h9m27s  (68.1%)\rEpoch: 40.4%  lr: 0.016136  loss: 0.007625  eta: 0h4m  tot: 0h9m27s  (68.1%)\rEpoch: 40.5%  lr: 0.016136  loss: 0.007633  eta: 0h4m  tot: 0h9m27s  (68.1%)\rEpoch: 40.6%  lr: 0.016126  loss: 0.007644  eta: 0h4m  tot: 0h9m28s  (68.1%)\rEpoch: 40.7%  lr: 0.016116  loss: 0.007641  eta: 0h4m  tot: 0h9m28s  (68.1%)\rEpoch: 40.8%  lr: 0.016106  loss: 0.007638  eta: 0h4m  tot: 0h9m28s  (68.2%)\rEpoch: 40.9%  lr: 0.016106  loss: 0.007643  eta: 0h4m  tot: 0h9m28s  (68.2%)\rEpoch: 41.0%  lr: 0.016086  loss: 0.007669  eta: 0h4m  tot: 0h9m28s  (68.2%)\rEpoch: 41.0%  lr: 0.016086  loss: 0.007669  eta: 0h4m  tot: 0h9m28s  (68.2%)\rEpoch: 41.1%  lr: 0.016056  loss: 0.007669  eta: 0h4m  tot: 0h9m28s  (68.2%)\rEpoch: 41.2%  lr: 0.016046  loss: 0.007658  eta: 0h4m  tot: 0h9m29s  (68.2%)\rEpoch: 41.3%  lr: 0.016036  loss: 0.007657  eta: 0h4m  tot: 0h9m29s  (68.3%)\rEpoch: 41.4%  lr: 0.016026  loss: 0.007656  eta: 0h4m  tot: 0h9m29s  (68.3%)\rEpoch: 41.5%  lr: 0.016006  loss: 0.007662  eta: 0h4m  tot: 0h9m29s  (68.3%)\rEpoch: 41.6%  lr: 0.015996  loss: 0.007665  eta: 0h4m  tot: 0h9m29s  (68.3%)\rEpoch: 41.7%  lr: 0.015976  loss: 0.007664  eta: 0h4m  tot: 0h9m29s  (68.3%)\rEpoch: 41.8%  lr: 0.015966  loss: 0.007666  eta: 0h4m  tot: 0h9m29s  (68.4%)\rEpoch: 41.9%  lr: 0.015966  loss: 0.007667  eta: 0h4m  tot: 0h9m30s  (68.4%)\rEpoch: 42.0%  lr: 0.015966  loss: 0.007653  eta: 0h4m  tot: 0h9m30s  (68.4%)\rEpoch: 42.0%  lr: 0.015966  loss: 0.007662  eta: 0h4m  tot: 0h9m30s  (68.4%)\rEpoch: 42.1%  lr: 0.015966  loss: 0.007666  eta: 0h4m  tot: 0h9m30s  (68.4%)\rEpoch: 42.2%  lr: 0.015966  loss: 0.007668  eta: 0h4m  tot: 0h9m30s  (68.4%)\rEpoch: 42.3%  lr: 0.015966  loss: 0.007661  eta: 0h4m  tot: 0h9m30s  (68.5%)\rEpoch: 42.4%  lr: 0.015966  loss: 0.007656  eta: 0h4m  tot: 0h9m30s  (68.5%)\rEpoch: 42.5%  lr: 0.015956  loss: 0.007648  eta: 0h4m  tot: 0h9m31s  (68.5%)\rEpoch: 42.6%  lr: 0.015946  loss: 0.007657  eta: 0h4m  tot: 0h9m31s  (68.5%)\rEpoch: 42.7%  lr: 0.015936  loss: 0.007662  eta: 0h4m  tot: 0h9m31s  (68.5%)\rEpoch: 42.8%  lr: 0.015916  loss: 0.007677  eta: 0h4m  tot: 0h9m31s  (68.6%)\rEpoch: 42.9%  lr: 0.015906  loss: 0.007666  eta: 0h4m  tot: 0h9m31s  (68.6%)\rEpoch: 42.9%  lr: 0.015876  loss: 0.007668  eta: 0h4m  tot: 0h9m31s  (68.6%)\rEpoch: 43.0%  lr: 0.015856  loss: 0.007657  eta: 0h4m  tot: 0h9m32s  (68.6%)\rEpoch: 43.1%  lr: 0.015856  loss: 0.007649  eta: 0h4m  tot: 0h9m32s  (68.6%)\rEpoch: 43.2%  lr: 0.015836  loss: 0.007646  eta: 0h4m  tot: 0h9m32s  (68.6%)\rEpoch: 43.3%  lr: 0.015836  loss: 0.007643  eta: 0h4m  tot: 0h9m32s  (68.7%)\rEpoch: 43.4%  lr: 0.015826  loss: 0.007637  eta: 0h4m  tot: 0h9m32s  (68.7%)\rEpoch: 43.5%  lr: 0.015826  loss: 0.007642  eta: 0h4m  tot: 0h9m32s  (68.7%)\rEpoch: 43.6%  lr: 0.015806  loss: 0.007635  eta: 0h4m  tot: 0h9m32s  (68.7%)\rEpoch: 43.7%  lr: 0.015806  loss: 0.007635  eta: 0h4m  tot: 0h9m33s  (68.7%)\rEpoch: 43.8%  lr: 0.015796  loss: 0.007623  eta: 0h4m  tot: 0h9m33s  (68.8%)\rEpoch: 43.8%  lr: 0.015796  loss: 0.007611  eta: 0h4m  tot: 0h9m33s  (68.8%)\rEpoch: 43.9%  lr: 0.015786  loss: 0.007601  eta: 0h4m  tot: 0h9m33s  (68.8%)\rEpoch: 44.0%  lr: 0.015776  loss: 0.007600  eta: 0h4m  tot: 0h9m33s  (68.8%)\rEpoch: 44.1%  lr: 0.015756  loss: 0.007598  eta: 0h4m  tot: 0h9m33s  (68.8%)\rEpoch: 44.2%  lr: 0.015746  loss: 0.007588  eta: 0h4m  tot: 0h9m33s  (68.8%)\rEpoch: 44.3%  lr: 0.015736  loss: 0.007591  eta: 0h4m  tot: 0h9m34s  (68.9%)\rEpoch: 44.4%  lr: 0.015726  loss: 0.007593  eta: 0h4m  tot: 0h9m34s  (68.9%)\rEpoch: 44.5%  lr: 0.015726  loss: 0.007595  eta: 0h4m  tot: 0h9m34s  (68.9%)\rEpoch: 44.6%  lr: 0.015726  loss: 0.007589  eta: 0h4m  tot: 0h9m34s  (68.9%)\rEpoch: 44.7%  lr: 0.015716  loss: 0.007579  eta: 0h4m  tot: 0h9m34s  (68.9%)\rEpoch: 44.7%  lr: 0.015716  loss: 0.007576  eta: 0h4m  tot: 0h9m34s  (68.9%)\rEpoch: 44.8%  lr: 0.015716  loss: 0.007565  eta: 0h4m  tot: 0h9m34s  (69.0%)\rEpoch: 44.9%  lr: 0.015696  loss: 0.007574  eta: 0h4m  tot: 0h9m35s  (69.0%)\rEpoch: 45.0%  lr: 0.015696  loss: 0.007579  eta: 0h4m  tot: 0h9m35s  (69.0%)\rEpoch: 45.1%  lr: 0.015666  loss: 0.007576  eta: 0h4m  tot: 0h9m35s  (69.0%)\rEpoch: 45.2%  lr: 0.015666  loss: 0.007566  eta: 0h4m  tot: 0h9m35s  (69.0%)\rEpoch: 45.3%  lr: 0.015656  loss: 0.007572  eta: 0h4m  tot: 0h9m35s  (69.1%)\rEpoch: 45.4%  lr: 0.015656  loss: 0.007566  eta: 0h4m  tot: 0h9m35s  (69.1%)\rEpoch: 45.5%  lr: 0.015656  loss: 0.007571  eta: 0h4m  tot: 0h9m35s  (69.1%)\rEpoch: 45.6%  lr: 0.015656  loss: 0.007561  eta: 0h4m  tot: 0h9m36s  (69.1%)\rEpoch: 45.6%  lr: 0.015646  loss: 0.007561  eta: 0h4m  tot: 0h9m36s  (69.1%)\rEpoch: 45.7%  lr: 0.015646  loss: 0.007557  eta: 0h4m  tot: 0h9m36s  (69.1%)\rEpoch: 45.8%  lr: 0.015636  loss: 0.007561  eta: 0h4m  tot: 0h9m36s  (69.2%)\rEpoch: 45.9%  lr: 0.015616  loss: 0.007570  eta: 0h4m  tot: 0h9m36s  (69.2%)\rEpoch: 46.0%  lr: 0.015616  loss: 0.007569  eta: 0h4m  tot: 0h9m36s  (69.2%)\rEpoch: 46.1%  lr: 0.015606  loss: 0.007573  eta: 0h4m  tot: 0h9m36s  (69.2%)\rEpoch: 46.2%  lr: 0.015606  loss: 0.007563  eta: 0h4m  tot: 0h9m37s  (69.2%)\rEpoch: 46.3%  lr: 0.015596  loss: 0.007562  eta: 0h4m  tot: 0h9m37s  (69.3%)\rEpoch: 46.4%  lr: 0.015596  loss: 0.007561  eta: 0h4m  tot: 0h9m37s  (69.3%)\rEpoch: 46.5%  lr: 0.015586  loss: 0.007570  eta: 0h4m  tot: 0h9m37s  (69.3%)\rEpoch: 46.5%  lr: 0.015576  loss: 0.007570  eta: 0h4m  tot: 0h9m37s  (69.3%)\rEpoch: 46.6%  lr: 0.015576  loss: 0.007572  eta: 0h4m  tot: 0h9m37s  (69.3%)\rEpoch: 46.7%  lr: 0.015576  loss: 0.007580  eta: 0h4m  tot: 0h9m37s  (69.3%)\rEpoch: 46.8%  lr: 0.015566  loss: 0.007570  eta: 0h4m  tot: 0h9m38s  (69.4%)\rEpoch: 46.9%  lr: 0.015536  loss: 0.007574  eta: 0h4m  tot: 0h9m38s  (69.4%)\rEpoch: 47.0%  lr: 0.015536  loss: 0.007589  eta: 0h4m  tot: 0h9m38s  (69.4%)\rEpoch: 47.1%  lr: 0.015506  loss: 0.007581  eta: 0h4m  tot: 0h9m38s  (69.4%)\rEpoch: 47.2%  lr: 0.015506  loss: 0.007572  eta: 0h4m  tot: 0h9m38s  (69.4%)\rEpoch: 47.3%  lr: 0.015486  loss: 0.007584  eta: 0h4m  tot: 0h9m38s  (69.5%)\rEpoch: 47.4%  lr: 0.015466  loss: 0.007576  eta: 0h4m  tot: 0h9m38s  (69.5%)\rEpoch: 47.4%  lr: 0.015456  loss: 0.007573  eta: 0h4m  tot: 0h9m39s  (69.5%)\rEpoch: 47.5%  lr: 0.015456  loss: 0.007560  eta: 0h4m  tot: 0h9m39s  (69.5%)\rEpoch: 47.6%  lr: 0.015446  loss: 0.007553  eta: 0h4m  tot: 0h9m39s  (69.5%)\rEpoch: 47.7%  lr: 0.015425  loss: 0.007554  eta: 0h4m  tot: 0h9m39s  (69.5%)\rEpoch: 47.8%  lr: 0.015385  loss: 0.007546  eta: 0h4m  tot: 0h9m39s  (69.6%)\rEpoch: 47.9%  lr: 0.015385  loss: 0.007539  eta: 0h4m  tot: 0h9m39s  (69.6%)\rEpoch: 48.0%  lr: 0.015385  loss: 0.007531  eta: 0h4m  tot: 0h9m39s  (69.6%)\rEpoch: 48.1%  lr: 0.015385  loss: 0.007524  eta: 0h4m  tot: 0h9m40s  (69.6%)\rEpoch: 48.2%  lr: 0.015375  loss: 0.007515  eta: 0h4m  tot: 0h9m40s  (69.6%)\rEpoch: 48.3%  lr: 0.015355  loss: 0.007525  eta: 0h4m  tot: 0h9m40s  (69.7%)\rEpoch: 48.3%  lr: 0.015345  loss: 0.007543  eta: 0h4m  tot: 0h9m40s  (69.7%)\rEpoch: 48.4%  lr: 0.015325  loss: 0.007542  eta: 0h4m  tot: 0h9m40s  (69.7%)\rEpoch: 48.5%  lr: 0.015315  loss: 0.007535  eta: 0h4m  tot: 0h9m40s  (69.7%)\rEpoch: 48.6%  lr: 0.015295  loss: 0.007536  eta: 0h4m  tot: 0h9m40s  (69.7%)\rEpoch: 48.7%  lr: 0.015285  loss: 0.007527  eta: 0h4m  tot: 0h9m41s  (69.7%)\rEpoch: 48.8%  lr: 0.015285  loss: 0.007520  eta: 0h4m  tot: 0h9m41s  (69.8%)\rEpoch: 48.9%  lr: 0.015275  loss: 0.007521  eta: 0h4m  tot: 0h9m41s  (69.8%)\rEpoch: 49.0%  lr: 0.015235  loss: 0.007507  eta: 0h4m  tot: 0h9m41s  (69.8%)\rEpoch: 49.1%  lr: 0.015225  loss: 0.007521  eta: 0h4m  tot: 0h9m41s  (69.8%)\rEpoch: 49.2%  lr: 0.015215  loss: 0.007511  eta: 0h4m  tot: 0h9m41s  (69.8%)\rEpoch: 49.2%  lr: 0.015215  loss: 0.007511  eta: 0h4m  tot: 0h9m42s  (69.8%)\rEpoch: 49.3%  lr: 0.015205  loss: 0.007504  eta: 0h4m  tot: 0h9m42s  (69.9%)\rEpoch: 49.4%  lr: 0.015185  loss: 0.007511  eta: 0h4m  tot: 0h9m42s  (69.9%)\rEpoch: 49.5%  lr: 0.015165  loss: 0.007516  eta: 0h4m  tot: 0h9m42s  (69.9%)\rEpoch: 49.6%  lr: 0.015145  loss: 0.007529  eta: 0h4m  tot: 0h9m42s  (69.9%)\rEpoch: 49.7%  lr: 0.015145  loss: 0.007524  eta: 0h4m  tot: 0h9m42s  (69.9%)\rEpoch: 49.8%  lr: 0.015125  loss: 0.007550  eta: 0h4m  tot: 0h9m42s  (70.0%)\rEpoch: 49.9%  lr: 0.015105  loss: 0.007560  eta: 0h4m  tot: 0h9m43s  (70.0%)\rEpoch: 50.0%  lr: 0.015075  loss: 0.007590  eta: 0h4m  tot: 0h9m43s  (70.0%)\rEpoch: 50.1%  lr: 0.015065  loss: 0.007584  eta: 0h4m  tot: 0h9m43s  (70.0%)\rEpoch: 50.1%  lr: 0.015065  loss: 0.007580  eta: 0h4m  tot: 0h9m43s  (70.0%)\rEpoch: 50.2%  lr: 0.015065  loss: 0.007587  eta: 0h4m  tot: 0h9m43s  (70.0%)\rEpoch: 50.3%  lr: 0.015065  loss: 0.007580  eta: 0h4m  tot: 0h9m43s  (70.1%)\rEpoch: 50.4%  lr: 0.015055  loss: 0.007573  eta: 0h4m  tot: 0h9m43s  (70.1%)\rEpoch: 50.5%  lr: 0.015025  loss: 0.007567  eta: 0h4m  tot: 0h9m44s  (70.1%)\rEpoch: 50.6%  lr: 0.015025  loss: 0.007563  eta: 0h4m  tot: 0h9m44s  (70.1%)\rEpoch: 50.7%  lr: 0.014995  loss: 0.007560  eta: 0h4m  tot: 0h9m44s  (70.1%)\rEpoch: 50.8%  lr: 0.014985  loss: 0.007559  eta: 0h4m  tot: 0h9m44s  (70.2%)\rEpoch: 50.9%  lr: 0.014975  loss: 0.007546  eta: 0h4m  tot: 0h9m44s  (70.2%)\rEpoch: 51.0%  lr: 0.014965  loss: 0.007552  eta: 0h4m  tot: 0h9m44s  (70.2%)\rEpoch: 51.0%  lr: 0.014965  loss: 0.007554  eta: 0h4m  tot: 0h9m45s  (70.2%)\rEpoch: 51.1%  lr: 0.014965  loss: 0.007548  eta: 0h4m  tot: 0h9m45s  (70.2%)\rEpoch: 51.2%  lr: 0.014955  loss: 0.007556  eta: 0h4m  tot: 0h9m45s  (70.2%)\rEpoch: 51.3%  lr: 0.014925  loss: 0.007559  eta: 0h4m  tot: 0h9m45s  (70.3%)\rEpoch: 51.4%  lr: 0.014895  loss: 0.007557  eta: 0h4m  tot: 0h9m45s  (70.3%)\rEpoch: 51.5%  lr: 0.014885  loss: 0.007555  eta: 0h4m  tot: 0h9m45s  (70.3%)\rEpoch: 51.6%  lr: 0.014885  loss: 0.007550  eta: 0h4m  tot: 0h9m45s  (70.3%)\rEpoch: 51.7%  lr: 0.014875  loss: 0.007565  eta: 0h4m  tot: 0h9m46s  (70.3%)\rEpoch: 51.8%  lr: 0.014855  loss: 0.007573  eta: 0h4m  tot: 0h9m46s  (70.4%)\rEpoch: 51.9%  lr: 0.014835  loss: 0.007565  eta: 0h4m  tot: 0h9m46s  (70.4%)\rEpoch: 51.9%  lr: 0.014835  loss: 0.007576  eta: 0h3m  tot: 0h9m46s  (70.4%)\rEpoch: 52.0%  lr: 0.014815  loss: 0.007573  eta: 0h3m  tot: 0h9m46s  (70.4%)\rEpoch: 52.1%  lr: 0.014805  loss: 0.007573  eta: 0h3m  tot: 0h9m46s  (70.4%)\rEpoch: 52.2%  lr: 0.014785  loss: 0.007561  eta: 0h3m  tot: 0h9m46s  (70.4%)\rEpoch: 52.3%  lr: 0.014775  loss: 0.007568  eta: 0h3m  tot: 0h9m47s  (70.5%)\rEpoch: 52.4%  lr: 0.014765  loss: 0.007577  eta: 0h3m  tot: 0h9m47s  (70.5%)\rEpoch: 52.5%  lr: 0.014745  loss: 0.007581  eta: 0h3m  tot: 0h9m47s  (70.5%)\rEpoch: 52.6%  lr: 0.014735  loss: 0.007601  eta: 0h3m  tot: 0h9m47s  (70.5%)\rEpoch: 52.7%  lr: 0.014735  loss: 0.007613  eta: 0h3m  tot: 0h9m47s  (70.5%)\rEpoch: 52.8%  lr: 0.014735  loss: 0.007613  eta: 0h3m  tot: 0h9m47s  (70.6%)\rEpoch: 52.8%  lr: 0.014735  loss: 0.007609  eta: 0h3m  tot: 0h9m47s  (70.6%)\rEpoch: 52.9%  lr: 0.014715  loss: 0.007602  eta: 0h3m  tot: 0h9m48s  (70.6%)\rEpoch: 53.0%  lr: 0.014715  loss: 0.007614  eta: 0h3m  tot: 0h9m48s  (70.6%)\rEpoch: 53.1%  lr: 0.014695  loss: 0.007608  eta: 0h3m  tot: 0h9m48s  (70.6%)\rEpoch: 53.2%  lr: 0.014695  loss: 0.007602  eta: 0h3m  tot: 0h9m48s  (70.6%)\rEpoch: 53.3%  lr: 0.014665  loss: 0.007602  eta: 0h3m  tot: 0h9m48s  (70.7%)\rEpoch: 53.4%  lr: 0.014645  loss: 0.007607  eta: 0h3m  tot: 0h9m48s  (70.7%)\rEpoch: 53.5%  lr: 0.014645  loss: 0.007606  eta: 0h3m  tot: 0h9m48s  (70.7%)\rEpoch: 53.6%  lr: 0.014625  loss: 0.007597  eta: 0h3m  tot: 0h9m49s  (70.7%)\rEpoch: 53.7%  lr: 0.014625  loss: 0.007598  eta: 0h3m  tot: 0h9m49s  (70.7%)\rEpoch: 53.7%  lr: 0.014615  loss: 0.007600  eta: 0h3m  tot: 0h9m49s  (70.7%)\rEpoch: 53.8%  lr: 0.014615  loss: 0.007601  eta: 0h3m  tot: 0h9m49s  (70.8%)\rEpoch: 53.9%  lr: 0.014615  loss: 0.007605  eta: 0h3m  tot: 0h9m49s  (70.8%)\rEpoch: 54.0%  lr: 0.014585  loss: 0.007609  eta: 0h3m  tot: 0h9m49s  (70.8%)\rEpoch: 54.1%  lr: 0.014575  loss: 0.007602  eta: 0h3m  tot: 0h9m49s  (70.8%)\rEpoch: 54.2%  lr: 0.014575  loss: 0.007596  eta: 0h3m  tot: 0h9m50s  (70.8%)\rEpoch: 54.3%  lr: 0.014575  loss: 0.007590  eta: 0h3m  tot: 0h9m50s  (70.9%)\rEpoch: 54.4%  lr: 0.014545  loss: 0.007596  eta: 0h3m  tot: 0h9m50s  (70.9%)\rEpoch: 54.5%  lr: 0.014535  loss: 0.007586  eta: 0h3m  tot: 0h9m50s  (70.9%)\rEpoch: 54.6%  lr: 0.014525  loss: 0.007580  eta: 0h3m  tot: 0h9m50s  (70.9%)\rEpoch: 54.6%  lr: 0.014525  loss: 0.007577  eta: 0h3m  tot: 0h9m50s  (70.9%)\rEpoch: 54.7%  lr: 0.014505  loss: 0.007586  eta: 0h3m  tot: 0h9m50s  (70.9%)\rEpoch: 54.8%  lr: 0.014495  loss: 0.007580  eta: 0h3m  tot: 0h9m51s  (71.0%)\rEpoch: 54.9%  lr: 0.014485  loss: 0.007574  eta: 0h3m  tot: 0h9m51s  (71.0%)\rEpoch: 55.0%  lr: 0.014485  loss: 0.007572  eta: 0h3m  tot: 0h9m51s  (71.0%)\rEpoch: 55.1%  lr: 0.014485  loss: 0.007571  eta: 0h3m  tot: 0h9m51s  (71.0%)\rEpoch: 55.2%  lr: 0.014485  loss: 0.007570  eta: 0h3m  tot: 0h9m51s  (71.0%)\rEpoch: 55.3%  lr: 0.014485  loss: 0.007568  eta: 0h3m  tot: 0h9m51s  (71.1%)\rEpoch: 55.4%  lr: 0.014485  loss: 0.007569  eta: 0h3m  tot: 0h9m51s  (71.1%)\rEpoch: 55.5%  lr: 0.014475  loss: 0.007568  eta: 0h3m  tot: 0h9m52s  (71.1%)\rEpoch: 55.5%  lr: 0.014475  loss: 0.007568  eta: 0h3m  tot: 0h9m52s  (71.1%)\rEpoch: 55.6%  lr: 0.014465  loss: 0.007564  eta: 0h3m  tot: 0h9m52s  (71.1%)\rEpoch: 55.7%  lr: 0.014455  loss: 0.007558  eta: 0h3m  tot: 0h9m52s  (71.1%)\rEpoch: 55.8%  lr: 0.014455  loss: 0.007559  eta: 0h3m  tot: 0h9m52s  (71.2%)\rEpoch: 55.9%  lr: 0.014435  loss: 0.007564  eta: 0h3m  tot: 0h9m52s  (71.2%)\rEpoch: 56.0%  lr: 0.014404  loss: 0.007576  eta: 0h3m  tot: 0h9m52s  (71.2%)\rEpoch: 56.1%  lr: 0.014384  loss: 0.007571  eta: 0h3m  tot: 0h9m53s  (71.2%)\rEpoch: 56.2%  lr: 0.014364  loss: 0.007562  eta: 0h3m  tot: 0h9m53s  (71.2%)\rEpoch: 56.3%  lr: 0.014364  loss: 0.007559  eta: 0h3m  tot: 0h9m53s  (71.3%)\rEpoch: 56.4%  lr: 0.014354  loss: 0.007553  eta: 0h3m  tot: 0h9m53s  (71.3%)\rEpoch: 56.4%  lr: 0.014354  loss: 0.007551  eta: 0h3m  tot: 0h9m53s  (71.3%)\rEpoch: 56.5%  lr: 0.014354  loss: 0.007551  eta: 0h3m  tot: 0h9m53s  (71.3%)\rEpoch: 56.6%  lr: 0.014344  loss: 0.007551  eta: 0h3m  tot: 0h9m53s  (71.3%)\rEpoch: 56.7%  lr: 0.014344  loss: 0.007551  eta: 0h3m  tot: 0h9m54s  (71.3%)\rEpoch: 56.8%  lr: 0.014344  loss: 0.007546  eta: 0h3m  tot: 0h9m54s  (71.4%)\rEpoch: 56.9%  lr: 0.014334  loss: 0.007547  eta: 0h3m  tot: 0h9m54s  (71.4%)\rEpoch: 57.0%  lr: 0.014334  loss: 0.007554  eta: 0h3m  tot: 0h9m54s  (71.4%)\rEpoch: 57.1%  lr: 0.014324  loss: 0.007550  eta: 0h3m  tot: 0h9m54s  (71.4%)\rEpoch: 57.2%  lr: 0.014324  loss: 0.007549  eta: 0h3m  tot: 0h9m54s  (71.4%)\rEpoch: 57.3%  lr: 0.014324  loss: 0.007547  eta: 0h3m  tot: 0h9m54s  (71.5%)\rEpoch: 57.3%  lr: 0.014314  loss: 0.007553  eta: 0h3m  tot: 0h9m55s  (71.5%)\rEpoch: 57.4%  lr: 0.014314  loss: 0.007549  eta: 0h3m  tot: 0h9m55s  (71.5%)\rEpoch: 57.5%  lr: 0.014304  loss: 0.007561  eta: 0h3m  tot: 0h9m55s  (71.5%)\rEpoch: 57.6%  lr: 0.014294  loss: 0.007555  eta: 0h3m  tot: 0h9m55s  (71.5%)\rEpoch: 57.7%  lr: 0.014284  loss: 0.007556  eta: 0h3m  tot: 0h9m55s  (71.5%)\rEpoch: 57.8%  lr: 0.014274  loss: 0.007569  eta: 0h3m  tot: 0h9m55s  (71.6%)\rEpoch: 57.9%  lr: 0.014264  loss: 0.007577  eta: 0h3m  tot: 0h9m55s  (71.6%)\rEpoch: 58.0%  lr: 0.014244  loss: 0.007587  eta: 0h3m  tot: 0h9m56s  (71.6%)\rEpoch: 58.1%  lr: 0.014244  loss: 0.007580  eta: 0h3m  tot: 0h9m56s  (71.6%)\rEpoch: 58.2%  lr: 0.014224  loss: 0.007583  eta: 0h3m  tot: 0h9m56s  (71.6%)\rEpoch: 58.2%  lr: 0.014204  loss: 0.007578  eta: 0h3m  tot: 0h9m56s  (71.6%)\rEpoch: 58.3%  lr: 0.014194  loss: 0.007572  eta: 0h3m  tot: 0h9m56s  (71.7%)\rEpoch: 58.4%  lr: 0.014194  loss: 0.007566  eta: 0h3m  tot: 0h9m56s  (71.7%)\rEpoch: 58.5%  lr: 0.014184  loss: 0.007556  eta: 0h3m  tot: 0h9m57s  (71.7%)\rEpoch: 58.6%  lr: 0.014184  loss: 0.007559  eta: 0h3m  tot: 0h9m57s  (71.7%)\rEpoch: 58.7%  lr: 0.014184  loss: 0.007556  eta: 0h3m  tot: 0h9m57s  (71.7%)\rEpoch: 58.8%  lr: 0.014174  loss: 0.007557  eta: 0h3m  tot: 0h9m57s  (71.8%)\rEpoch: 58.9%  lr: 0.014124  loss: 0.007576  eta: 0h3m  tot: 0h9m57s  (71.8%)\rEpoch: 59.0%  lr: 0.014114  loss: 0.007567  eta: 0h3m  tot: 0h9m57s  (71.8%)\rEpoch: 59.1%  lr: 0.014104  loss: 0.007572  eta: 0h3m  tot: 0h9m57s  (71.8%)\rEpoch: 59.1%  lr: 0.014084  loss: 0.007580  eta: 0h3m  tot: 0h9m58s  (71.8%)\rEpoch: 59.2%  lr: 0.014084  loss: 0.007576  eta: 0h3m  tot: 0h9m58s  (71.8%)\rEpoch: 59.3%  lr: 0.014054  loss: 0.007571  eta: 0h3m  tot: 0h9m58s  (71.9%)\rEpoch: 59.4%  lr: 0.014054  loss: 0.007576  eta: 0h3m  tot: 0h9m58s  (71.9%)\rEpoch: 59.5%  lr: 0.014034  loss: 0.007583  eta: 0h3m  tot: 0h9m58s  (71.9%)\rEpoch: 59.6%  lr: 0.014034  loss: 0.007577  eta: 0h3m  tot: 0h9m58s  (71.9%)\rEpoch: 59.7%  lr: 0.014034  loss: 0.007569  eta: 0h3m  tot: 0h9m58s  (71.9%)\rEpoch: 59.8%  lr: 0.014034  loss: 0.007576  eta: 0h3m  tot: 0h9m59s  (72.0%)\rEpoch: 59.9%  lr: 0.014034  loss: 0.007578  eta: 0h3m  tot: 0h9m59s  (72.0%)\rEpoch: 60.0%  lr: 0.013994  loss: 0.007579  eta: 0h3m  tot: 0h9m59s  (72.0%)\rEpoch: 60.0%  lr: 0.013994  loss: 0.007574  eta: 0h3m  tot: 0h9m59s  (72.0%)\rEpoch: 60.1%  lr: 0.013964  loss: 0.007574  eta: 0h3m  tot: 0h9m59s  (72.0%)\rEpoch: 60.2%  lr: 0.013964  loss: 0.007572  eta: 0h3m  tot: 0h9m59s  (72.0%)\rEpoch: 60.3%  lr: 0.013954  loss: 0.007572  eta: 0h3m  tot: 0h9m59s  (72.1%)\rEpoch: 60.4%  lr: 0.013944  loss: 0.007563  eta: 0h3m  tot: 0h10m0s  (72.1%)\rEpoch: 60.5%  lr: 0.013934  loss: 0.007561  eta: 0h3m  tot: 0h10m0s  (72.1%)\rEpoch: 60.6%  lr: 0.013924  loss: 0.007563  eta: 0h3m  tot: 0h10m0s  (72.1%)\rEpoch: 60.7%  lr: 0.013894  loss: 0.007560  eta: 0h3m  tot: 0h10m0s  (72.1%)\rEpoch: 60.8%  lr: 0.013894  loss: 0.007562  eta: 0h3m  tot: 0h10m0s  (72.2%)\rEpoch: 60.9%  lr: 0.013884  loss: 0.007564  eta: 0h3m  tot: 0h10m0s  (72.2%)\rEpoch: 60.9%  lr: 0.013884  loss: 0.007567  eta: 0h3m  tot: 0h10m1s  (72.2%)\rEpoch: 61.0%  lr: 0.013884  loss: 0.007570  eta: 0h3m  tot: 0h10m1s  (72.2%)\rEpoch: 61.1%  lr: 0.013884  loss: 0.007571  eta: 0h3m  tot: 0h10m1s  (72.2%)\rEpoch: 61.2%  lr: 0.013884  loss: 0.007577  eta: 0h3m  tot: 0h10m1s  (72.2%)\rEpoch: 61.3%  lr: 0.013874  loss: 0.007581  eta: 0h3m  tot: 0h10m1s  (72.3%)\rEpoch: 61.4%  lr: 0.013874  loss: 0.007589  eta: 0h3m  tot: 0h10m1s  (72.3%)\rEpoch: 61.5%  lr: 0.013844  loss: 0.007583  eta: 0h3m  tot: 0h10m1s  (72.3%)\rEpoch: 61.6%  lr: 0.013834  loss: 0.007585  eta: 0h3m  tot: 0h10m2s  (72.3%)\rEpoch: 61.7%  lr: 0.013834  loss: 0.007583  eta: 0h3m  tot: 0h10m2s  (72.3%)\rEpoch: 61.8%  lr: 0.013814  loss: 0.007578  eta: 0h3m  tot: 0h10m2s  (72.4%)\rEpoch: 61.8%  lr: 0.013814  loss: 0.007594  eta: 0h3m  tot: 0h10m2s  (72.4%)\rEpoch: 61.9%  lr: 0.013814  loss: 0.007593  eta: 0h3m  tot: 0h10m2s  (72.4%)\rEpoch: 62.0%  lr: 0.013804  loss: 0.007598  eta: 0h3m  tot: 0h10m2s  (72.4%)\rEpoch: 62.1%  lr: 0.013804  loss: 0.007594  eta: 0h3m  tot: 0h10m2s  (72.4%)\rEpoch: 62.2%  lr: 0.013784  loss: 0.007598  eta: 0h3m  tot: 0h10m3s  (72.4%)\rEpoch: 62.3%  lr: 0.013774  loss: 0.007607  eta: 0h3m  tot: 0h10m3s  (72.5%)\rEpoch: 62.4%  lr: 0.013754  loss: 0.007611  eta: 0h3m  tot: 0h10m3s  (72.5%)\rEpoch: 62.5%  lr: 0.013744  loss: 0.007621  eta: 0h3m  tot: 0h10m3s  (72.5%)\rEpoch: 62.6%  lr: 0.013744  loss: 0.007613  eta: 0h3m  tot: 0h10m3s  (72.5%)\rEpoch: 62.7%  lr: 0.013744  loss: 0.007614  eta: 0h3m  tot: 0h10m3s  (72.5%)\rEpoch: 62.7%  lr: 0.013734  loss: 0.007610  eta: 0h3m  tot: 0h10m4s  (72.5%)\rEpoch: 62.8%  lr: 0.013724  loss: 0.007612  eta: 0h3m  tot: 0h10m4s  (72.6%)\rEpoch: 62.9%  lr: 0.013704  loss: 0.007617  eta: 0h3m  tot: 0h10m4s  (72.6%)\rEpoch: 63.0%  lr: 0.013704  loss: 0.007624  eta: 0h3m  tot: 0h10m4s  (72.6%)\rEpoch: 63.1%  lr: 0.013704  loss: 0.007630  eta: 0h3m  tot: 0h10m4s  (72.6%)\rEpoch: 63.2%  lr: 0.013704  loss: 0.007632  eta: 0h3m  tot: 0h10m4s  (72.6%)\rEpoch: 63.3%  lr: 0.013704  loss: 0.007633  eta: 0h3m  tot: 0h10m4s  (72.7%)\rEpoch: 63.4%  lr: 0.013684  loss: 0.007633  eta: 0h3m  tot: 0h10m5s  (72.7%)\rEpoch: 63.5%  lr: 0.013674  loss: 0.007629  eta: 0h3m  tot: 0h10m5s  (72.7%)\rEpoch: 63.6%  lr: 0.013674  loss: 0.007627  eta: 0h3m  tot: 0h10m5s  (72.7%)\rEpoch: 63.6%  lr: 0.013664  loss: 0.007624  eta: 0h3m  tot: 0h10m5s  (72.7%)\rEpoch: 63.7%  lr: 0.013654  loss: 0.007627  eta: 0h3m  tot: 0h10m5s  (72.7%)\rEpoch: 63.8%  lr: 0.013654  loss: 0.007623  eta: 0h3m  tot: 0h10m5s  (72.8%)\rEpoch: 63.9%  lr: 0.013644  loss: 0.007634  eta: 0h3m  tot: 0h10m5s  (72.8%)\rEpoch: 64.0%  lr: 0.013634  loss: 0.007637  eta: 0h3m  tot: 0h10m6s  (72.8%)\rEpoch: 64.1%  lr: 0.013634  loss: 0.007641  eta: 0h3m  tot: 0h10m6s  (72.8%)\rEpoch: 64.2%  lr: 0.013634  loss: 0.007643  eta: 0h3m  tot: 0h10m6s  (72.8%)\rEpoch: 64.3%  lr: 0.013614  loss: 0.007651  eta: 0h3m  tot: 0h10m6s  (72.9%)\rEpoch: 64.4%  lr: 0.013594  loss: 0.007649  eta: 0h3m  tot: 0h10m6s  (72.9%)\rEpoch: 64.5%  lr: 0.013594  loss: 0.007643  eta: 0h3m  tot: 0h10m6s  (72.9%)\rEpoch: 64.5%  lr: 0.013574  loss: 0.007637  eta: 0h3m  tot: 0h10m6s  (72.9%)\rEpoch: 64.6%  lr: 0.013564  loss: 0.007630  eta: 0h3m  tot: 0h10m7s  (72.9%)\rEpoch: 64.7%  lr: 0.013564  loss: 0.007630  eta: 0h3m  tot: 0h10m7s  (72.9%)\rEpoch: 64.8%  lr: 0.013564  loss: 0.007642  eta: 0h3m  tot: 0h10m7s  (73.0%)\rEpoch: 64.9%  lr: 0.013544  loss: 0.007649  eta: 0h3m  tot: 0h10m7s  (73.0%)\rEpoch: 65.0%  lr: 0.013534  loss: 0.007645  eta: 0h3m  tot: 0h10m7s  (73.0%)\rEpoch: 65.1%  lr: 0.013534  loss: 0.007645  eta: 0h3m  tot: 0h10m7s  (73.0%)\rEpoch: 65.2%  lr: 0.013534  loss: 0.007651  eta: 0h3m  tot: 0h10m8s  (73.0%)\rEpoch: 65.3%  lr: 0.013524  loss: 0.007648  eta: 0h3m  tot: 0h10m8s  (73.1%)\rEpoch: 65.4%  lr: 0.013514  loss: 0.007641  eta: 0h3m  tot: 0h10m8s  (73.1%)\rEpoch: 65.4%  lr: 0.013514  loss: 0.007640  eta: 0h3m  tot: 0h10m8s  (73.1%)\rEpoch: 65.5%  lr: 0.013514  loss: 0.007637  eta: 0h3m  tot: 0h10m8s  (73.1%)\rEpoch: 65.6%  lr: 0.013504  loss: 0.007631  eta: 0h3m  tot: 0h10m8s  (73.1%)\rEpoch: 65.7%  lr: 0.013484  loss: 0.007627  eta: 0h3m  tot: 0h10m8s  (73.1%)\rEpoch: 65.8%  lr: 0.013484  loss: 0.007628  eta: 0h3m  tot: 0h10m9s  (73.2%)\rEpoch: 65.9%  lr: 0.013484  loss: 0.007628  eta: 0h3m  tot: 0h10m9s  (73.2%)\rEpoch: 66.0%  lr: 0.013474  loss: 0.007632  eta: 0h3m  tot: 0h10m9s  (73.2%)\rEpoch: 66.1%  lr: 0.013474  loss: 0.007632  eta: 0h3m  tot: 0h10m9s  (73.2%)\rEpoch: 66.2%  lr: 0.013464  loss: 0.007625  eta: 0h3m  tot: 0h10m9s  (73.2%)\rEpoch: 66.3%  lr: 0.013434  loss: 0.007623  eta: 0h3m  tot: 0h10m9s  (73.3%)\rEpoch: 66.3%  lr: 0.013434  loss: 0.007622  eta: 0h3m  tot: 0h10m9s  (73.3%)\rEpoch: 66.4%  lr: 0.013424  loss: 0.007625  eta: 0h3m  tot: 0h10m10s  (73.3%)\rEpoch: 66.5%  lr: 0.013414  loss: 0.007633  eta: 0h3m  tot: 0h10m10s  (73.3%)\rEpoch: 66.6%  lr: 0.013404  loss: 0.007640  eta: 0h3m  tot: 0h10m10s  (73.3%)\rEpoch: 66.7%  lr: 0.013404  loss: 0.007645  eta: 0h3m  tot: 0h10m10s  (73.3%)\rEpoch: 66.8%  lr: 0.013404  loss: 0.007641  eta: 0h3m  tot: 0h10m10s  (73.4%)\rEpoch: 66.9%  lr: 0.013393  loss: 0.007640  eta: 0h3m  tot: 0h10m10s  (73.4%)\rEpoch: 67.0%  lr: 0.013363  loss: 0.007641  eta: 0h3m  tot: 0h10m10s  (73.4%)\rEpoch: 67.1%  lr: 0.013353  loss: 0.007638  eta: 0h3m  tot: 0h10m11s  (73.4%)\rEpoch: 67.2%  lr: 0.013353  loss: 0.007633  eta: 0h3m  tot: 0h10m11s  (73.4%)\rEpoch: 67.2%  lr: 0.013333  loss: 0.007627  eta: 0h3m  tot: 0h10m11s  (73.4%)\rEpoch: 67.3%  lr: 0.013323  loss: 0.007637  eta: 0h3m  tot: 0h10m11s  (73.5%)\rEpoch: 67.4%  lr: 0.013323  loss: 0.007647  eta: 0h3m  tot: 0h10m11s  (73.5%)\rEpoch: 67.5%  lr: 0.013323  loss: 0.007644  eta: 0h3m  tot: 0h10m11s  (73.5%)\rEpoch: 67.6%  lr: 0.013323  loss: 0.007639  eta: 0h3m  tot: 0h10m11s  (73.5%)\rEpoch: 67.7%  lr: 0.013323  loss: 0.007641  eta: 0h3m  tot: 0h10m12s  (73.5%)\rEpoch: 67.8%  lr: 0.013323  loss: 0.007644  eta: 0h3m  tot: 0h10m12s  (73.6%)\rEpoch: 67.9%  lr: 0.013313  loss: 0.007642  eta: 0h3m  tot: 0h10m12s  (73.6%)\rEpoch: 68.0%  lr: 0.013313  loss: 0.007648  eta: 0h3m  tot: 0h10m12s  (73.6%)\rEpoch: 68.1%  lr: 0.013303  loss: 0.007650  eta: 0h3m  tot: 0h10m12s  (73.6%)\rEpoch: 68.1%  lr: 0.013273  loss: 0.007658  eta: 0h3m  tot: 0h10m12s  (73.6%)\rEpoch: 68.2%  lr: 0.013273  loss: 0.007660  eta: 0h3m  tot: 0h10m12s  (73.6%)\rEpoch: 68.3%  lr: 0.013263  loss: 0.007667  eta: 0h3m  tot: 0h10m13s  (73.7%)\rEpoch: 68.4%  lr: 0.013253  loss: 0.007668  eta: 0h3m  tot: 0h10m13s  (73.7%)\rEpoch: 68.5%  lr: 0.013243  loss: 0.007663  eta: 0h3m  tot: 0h10m13s  (73.7%)\rEpoch: 68.6%  lr: 0.013223  loss: 0.007659  eta: 0h3m  tot: 0h10m13s  (73.7%)\rEpoch: 68.7%  lr: 0.013223  loss: 0.007655  eta: 0h3m  tot: 0h10m13s  (73.7%)\rEpoch: 68.8%  lr: 0.013203  loss: 0.007664  eta: 0h3m  tot: 0h10m13s  (73.8%)\rEpoch: 68.9%  lr: 0.013203  loss: 0.007665  eta: 0h3m  tot: 0h10m13s  (73.8%)\rEpoch: 69.0%  lr: 0.013193  loss: 0.007659  eta: 0h3m  tot: 0h10m14s  (73.8%)\rEpoch: 69.0%  lr: 0.013193  loss: 0.007657  eta: 0h3m  tot: 0h10m14s  (73.8%)\rEpoch: 69.1%  lr: 0.013183  loss: 0.007657  eta: 0h3m  tot: 0h10m14s  (73.8%)\rEpoch: 69.2%  lr: 0.013173  loss: 0.007659  eta: 0h3m  tot: 0h10m14s  (73.8%)\rEpoch: 69.3%  lr: 0.013153  loss: 0.007654  eta: 0h3m  tot: 0h10m14s  (73.9%)\rEpoch: 69.4%  lr: 0.013153  loss: 0.007653  eta: 0h3m  tot: 0h10m14s  (73.9%)\rEpoch: 69.5%  lr: 0.013153  loss: 0.007649  eta: 0h3m  tot: 0h10m14s  (73.9%)\rEpoch: 69.6%  lr: 0.013153  loss: 0.007649  eta: 0h3m  tot: 0h10m15s  (73.9%)\rEpoch: 69.7%  lr: 0.013153  loss: 0.007652  eta: 0h3m  tot: 0h10m15s  (73.9%)\rEpoch: 69.8%  lr: 0.013153  loss: 0.007646  eta: 0h3m  tot: 0h10m15s  (74.0%)\rEpoch: 69.9%  lr: 0.013153  loss: 0.007642  eta: 0h3m  tot: 0h10m15s  (74.0%)\rEpoch: 69.9%  lr: 0.013153  loss: 0.007638  eta: 0h3m  tot: 0h10m15s  (74.0%)\rEpoch: 70.0%  lr: 0.013143  loss: 0.007635  eta: 0h3m  tot: 0h10m15s  (74.0%)\rEpoch: 70.1%  lr: 0.013123  loss: 0.007639  eta: 0h3m  tot: 0h10m15s  (74.0%)\rEpoch: 70.2%  lr: 0.013113  loss: 0.007644  eta: 0h3m  tot: 0h10m16s  (74.0%)\rEpoch: 70.3%  lr: 0.013113  loss: 0.007642  eta: 0h3m  tot: 0h10m16s  (74.1%)\rEpoch: 70.4%  lr: 0.013113  loss: 0.007637  eta: 0h3m  tot: 0h10m16s  (74.1%)\rEpoch: 70.5%  lr: 0.013113  loss: 0.007637  eta: 0h3m  tot: 0h10m16s  (74.1%)\rEpoch: 70.6%  lr: 0.013113  loss: 0.007637  eta: 0h3m  tot: 0h10m16s  (74.1%)\rEpoch: 70.7%  lr: 0.013113  loss: 0.007634  eta: 0h3m  tot: 0h10m16s  (74.1%)\rEpoch: 70.8%  lr: 0.013103  loss: 0.007631  eta: 0h3m  tot: 0h10m17s  (74.2%)\rEpoch: 70.8%  lr: 0.013073  loss: 0.007635  eta: 0h3m  tot: 0h10m17s  (74.2%)\rEpoch: 70.9%  lr: 0.013073  loss: 0.007633  eta: 0h3m  tot: 0h10m17s  (74.2%)\rEpoch: 71.0%  lr: 0.013073  loss: 0.007636  eta: 0h3m  tot: 0h10m17s  (74.2%)\rEpoch: 71.1%  lr: 0.013063  loss: 0.007635  eta: 0h3m  tot: 0h10m17s  (74.2%)\rEpoch: 71.2%  lr: 0.013053  loss: 0.007639  eta: 0h3m  tot: 0h10m17s  (74.2%)\rEpoch: 71.3%  lr: 0.013053  loss: 0.007638  eta: 0h3m  tot: 0h10m17s  (74.3%)\rEpoch: 71.4%  lr: 0.013043  loss: 0.007632  eta: 0h3m  tot: 0h10m18s  (74.3%)\rEpoch: 71.5%  lr: 0.013043  loss: 0.007627  eta: 0h3m  tot: 0h10m18s  (74.3%)\rEpoch: 71.6%  lr: 0.013033  loss: 0.007633  eta: 0h3m  tot: 0h10m18s  (74.3%)\rEpoch: 71.7%  lr: 0.013023  loss: 0.007637  eta: 0h3m  tot: 0h10m18s  (74.3%)\rEpoch: 71.7%  lr: 0.013023  loss: 0.007635  eta: 0h3m  tot: 0h10m18s  (74.3%)\rEpoch: 71.8%  lr: 0.013013  loss: 0.007640  eta: 0h3m  tot: 0h10m18s  (74.4%)\rEpoch: 71.9%  lr: 0.013003  loss: 0.007632  eta: 0h3m  tot: 0h10m18s  (74.4%)\rEpoch: 72.0%  lr: 0.012993  loss: 0.007636  eta: 0h3m  tot: 0h10m19s  (74.4%)\rEpoch: 72.1%  lr: 0.012993  loss: 0.007634  eta: 0h3m  tot: 0h10m19s  (74.4%)\rEpoch: 72.2%  lr: 0.012993  loss: 0.007630  eta: 0h3m  tot: 0h10m19s  (74.4%)\rEpoch: 72.3%  lr: 0.012963  loss: 0.007637  eta: 0h3m  tot: 0h10m19s  (74.5%)\rEpoch: 72.4%  lr: 0.012963  loss: 0.007631  eta: 0h3m  tot: 0h10m19s  (74.5%)\rEpoch: 72.5%  lr: 0.012953  loss: 0.007649  eta: 0h3m  tot: 0h10m19s  (74.5%)\rEpoch: 72.6%  lr: 0.012953  loss: 0.007644  eta: 0h3m  tot: 0h10m19s  (74.5%)\rEpoch: 72.6%  lr: 0.012953  loss: 0.007636  eta: 0h3m  tot: 0h10m20s  (74.5%)\rEpoch: 72.7%  lr: 0.012923  loss: 0.007637  eta: 0h3m  tot: 0h10m20s  (74.5%)\rEpoch: 72.8%  lr: 0.012923  loss: 0.007649  eta: 0h3m  tot: 0h10m20s  (74.6%)\rEpoch: 72.9%  lr: 0.012903  loss: 0.007644  eta: 0h3m  tot: 0h10m20s  (74.6%)\rEpoch: 73.0%  lr: 0.012893  loss: 0.007649  eta: 0h3m  tot: 0h10m20s  (74.6%)\rEpoch: 73.1%  lr: 0.012893  loss: 0.007644  eta: 0h3m  tot: 0h10m20s  (74.6%)\rEpoch: 73.2%  lr: 0.012863  loss: 0.007646  eta: 0h3m  tot: 0h10m20s  (74.6%)\rEpoch: 73.3%  lr: 0.012863  loss: 0.007656  eta: 0h3m  tot: 0h10m21s  (74.7%)\rEpoch: 73.4%  lr: 0.012843  loss: 0.007675  eta: 0h3m  tot: 0h10m21s  (74.7%)\rEpoch: 73.5%  lr: 0.012843  loss: 0.007677  eta: 0h3m  tot: 0h10m21s  (74.7%)\rEpoch: 73.5%  lr: 0.012823  loss: 0.007675  eta: 0h3m  tot: 0h10m21s  (74.7%)\rEpoch: 73.6%  lr: 0.012813  loss: 0.007674  eta: 0h3m  tot: 0h10m21s  (74.7%)\rEpoch: 73.7%  lr: 0.012813  loss: 0.007680  eta: 0h3m  tot: 0h10m21s  (74.7%)\rEpoch: 73.8%  lr: 0.012813  loss: 0.007676  eta: 0h3m  tot: 0h10m22s  (74.8%)\rEpoch: 73.9%  lr: 0.012813  loss: 0.007673  eta: 0h3m  tot: 0h10m22s  (74.8%)\rEpoch: 74.0%  lr: 0.012803  loss: 0.007666  eta: 0h3m  tot: 0h10m22s  (74.8%)\rEpoch: 74.1%  lr: 0.012793  loss: 0.007664  eta: 0h3m  tot: 0h10m22s  (74.8%)\rEpoch: 74.2%  lr: 0.012773  loss: 0.007668  eta: 0h3m  tot: 0h10m22s  (74.8%)\rEpoch: 74.3%  lr: 0.012753  loss: 0.007682  eta: 0h3m  tot: 0h10m22s  (74.9%)\rEpoch: 74.4%  lr: 0.012753  loss: 0.007684  eta: 0h3m  tot: 0h10m22s  (74.9%)\rEpoch: 74.4%  lr: 0.012733  loss: 0.007680  eta: 0h3m  tot: 0h10m23s  (74.9%)\rEpoch: 74.5%  lr: 0.012733  loss: 0.007687  eta: 0h3m  tot: 0h10m23s  (74.9%)\rEpoch: 74.6%  lr: 0.012733  loss: 0.007687  eta: 0h3m  tot: 0h10m23s  (74.9%)\rEpoch: 74.7%  lr: 0.012723  loss: 0.007689  eta: 0h3m  tot: 0h10m23s  (74.9%)\rEpoch: 74.8%  lr: 0.012723  loss: 0.007688  eta: 0h3m  tot: 0h10m23s  (75.0%)\rEpoch: 74.9%  lr: 0.012713  loss: 0.007693  eta: 0h3m  tot: 0h10m23s  (75.0%)\rEpoch: 75.0%  lr: 0.012713  loss: 0.007692  eta: 0h3m  tot: 0h10m23s  (75.0%)\rEpoch: 75.1%  lr: 0.012713  loss: 0.007688  eta: 0h3m  tot: 0h10m24s  (75.0%)\rEpoch: 75.2%  lr: 0.012713  loss: 0.007687  eta: 0h3m  tot: 0h10m24s  (75.0%)\rEpoch: 75.3%  lr: 0.012673  loss: 0.007678  eta: 0h3m  tot: 0h10m24s  (75.1%)\rEpoch: 75.3%  lr: 0.012663  loss: 0.007680  eta: 0h3m  tot: 0h10m24s  (75.1%)\rEpoch: 75.4%  lr: 0.012653  loss: 0.007680  eta: 0h3m  tot: 0h10m24s  (75.1%)\rEpoch: 75.5%  lr: 0.012653  loss: 0.007678  eta: 0h3m  tot: 0h10m24s  (75.1%)\rEpoch: 75.6%  lr: 0.012643  loss: 0.007677  eta: 0h3m  tot: 0h10m24s  (75.1%)\rEpoch: 75.7%  lr: 0.012643  loss: 0.007673  eta: 0h3m  tot: 0h10m25s  (75.1%)\rEpoch: 75.8%  lr: 0.012623  loss: 0.007669  eta: 0h3m  tot: 0h10m25s  (75.2%)\rEpoch: 75.9%  lr: 0.012623  loss: 0.007667  eta: 0h3m  tot: 0h10m25s  (75.2%)\rEpoch: 76.0%  lr: 0.012623  loss: 0.007674  eta: 0h3m  tot: 0h10m25s  (75.2%)\rEpoch: 76.1%  lr: 0.012623  loss: 0.007670  eta: 0h3m  tot: 0h10m25s  (75.2%)\rEpoch: 76.2%  lr: 0.012603  loss: 0.007667  eta: 0h3m  tot: 0h10m25s  (75.2%)\rEpoch: 76.2%  lr: 0.012593  loss: 0.007672  eta: 0h3m  tot: 0h10m25s  (75.2%)\rEpoch: 76.3%  lr: 0.012583  loss: 0.007675  eta: 0h3m  tot: 0h10m26s  (75.3%)\rEpoch: 76.4%  lr: 0.012573  loss: 0.007670  eta: 0h3m  tot: 0h10m26s  (75.3%)\rEpoch: 76.5%  lr: 0.012563  loss: 0.007666  eta: 0h3m  tot: 0h10m26s  (75.3%)\rEpoch: 76.6%  lr: 0.012553  loss: 0.007667  eta: 0h3m  tot: 0h10m26s  (75.3%)\rEpoch: 76.7%  lr: 0.012543  loss: 0.007665  eta: 0h3m  tot: 0h10m26s  (75.3%)\rEpoch: 76.8%  lr: 0.012533  loss: 0.007662  eta: 0h3m  tot: 0h10m26s  (75.4%)\rEpoch: 76.9%  lr: 0.012523  loss: 0.007668  eta: 0h3m  tot: 0h10m26s  (75.4%)\rEpoch: 77.0%  lr: 0.012513  loss: 0.007667  eta: 0h3m  tot: 0h10m27s  (75.4%)\rEpoch: 77.1%  lr: 0.012513  loss: 0.007663  eta: 0h3m  tot: 0h10m27s  (75.4%)\rEpoch: 77.1%  lr: 0.012503  loss: 0.007670  eta: 0h3m  tot: 0h10m27s  (75.4%)\rEpoch: 77.2%  lr: 0.012503  loss: 0.007671  eta: 0h3m  tot: 0h10m27s  (75.4%)\rEpoch: 77.3%  lr: 0.012483  loss: 0.007675  eta: 0h3m  tot: 0h10m27s  (75.5%)\rEpoch: 77.4%  lr: 0.012473  loss: 0.007683  eta: 0h3m  tot: 0h10m27s  (75.5%)\rEpoch: 77.5%  lr: 0.012473  loss: 0.007694  eta: 0h3m  tot: 0h10m28s  (75.5%)\rEpoch: 77.6%  lr: 0.012463  loss: 0.007694  eta: 0h3m  tot: 0h10m28s  (75.5%)\rEpoch: 77.7%  lr: 0.012453  loss: 0.007696  eta: 0h3m  tot: 0h10m28s  (75.5%)\rEpoch: 77.8%  lr: 0.012433  loss: 0.007691  eta: 0h3m  tot: 0h10m28s  (75.6%)\rEpoch: 77.9%  lr: 0.012423  loss: 0.007690  eta: 0h3m  tot: 0h10m28s  (75.6%)\rEpoch: 78.0%  lr: 0.012372  loss: 0.007690  eta: 0h3m  tot: 0h10m28s  (75.6%)\rEpoch: 78.0%  lr: 0.012362  loss: 0.007689  eta: 0h3m  tot: 0h10m28s  (75.6%)\rEpoch: 78.1%  lr: 0.012362  loss: 0.007687  eta: 0h3m  tot: 0h10m29s  (75.6%)\rEpoch: 78.2%  lr: 0.012352  loss: 0.007682  eta: 0h3m  tot: 0h10m29s  (75.6%)\rEpoch: 78.3%  lr: 0.012332  loss: 0.007682  eta: 0h3m  tot: 0h10m29s  (75.7%)\rEpoch: 78.4%  lr: 0.012332  loss: 0.007688  eta: 0h3m  tot: 0h10m29s  (75.7%)\rEpoch: 78.5%  lr: 0.012332  loss: 0.007683  eta: 0h3m  tot: 0h10m29s  (75.7%)\rEpoch: 78.6%  lr: 0.012332  loss: 0.007686  eta: 0h3m  tot: 0h10m29s  (75.7%)\rEpoch: 78.7%  lr: 0.012322  loss: 0.007685  eta: 0h3m  tot: 0h10m29s  (75.7%)\rEpoch: 78.8%  lr: 0.012302  loss: 0.007690  eta: 0h3m  tot: 0h10m30s  (75.8%)\rEpoch: 78.9%  lr: 0.012292  loss: 0.007694  eta: 0h3m  tot: 0h10m30s  (75.8%)\rEpoch: 78.9%  lr: 0.012292  loss: 0.007695  eta: 0h3m  tot: 0h10m30s  (75.8%)\rEpoch: 79.0%  lr: 0.012282  loss: 0.007690  eta: 0h3m  tot: 0h10m30s  (75.8%)\rEpoch: 79.1%  lr: 0.012282  loss: 0.007699  eta: 0h3m  tot: 0h10m30s  (75.8%)\rEpoch: 79.2%  lr: 0.012272  loss: 0.007696  eta: 0h3m  tot: 0h10m30s  (75.8%)\rEpoch: 79.3%  lr: 0.012262  loss: 0.007698  eta: 0h3m  tot: 0h10m30s  (75.9%)\rEpoch: 79.4%  lr: 0.012262  loss: 0.007713  eta: 0h3m  tot: 0h10m31s  (75.9%)\rEpoch: 79.5%  lr: 0.012252  loss: 0.007707  eta: 0h3m  tot: 0h10m31s  (75.9%)\rEpoch: 79.6%  lr: 0.012252  loss: 0.007706  eta: 0h3m  tot: 0h10m31s  (75.9%)\rEpoch: 79.7%  lr: 0.012242  loss: 0.007708  eta: 0h3m  tot: 0h10m31s  (75.9%)\rEpoch: 79.8%  lr: 0.012222  loss: 0.007704  eta: 0h3m  tot: 0h10m31s  (76.0%)\rEpoch: 79.9%  lr: 0.012202  loss: 0.007707  eta: 0h3m  tot: 0h10m31s  (76.0%)\rEpoch: 79.9%  lr: 0.012192  loss: 0.007710  eta: 0h3m  tot: 0h10m31s  (76.0%)\rEpoch: 80.0%  lr: 0.012172  loss: 0.007705  eta: 0h3m  tot: 0h10m32s  (76.0%)\rEpoch: 80.1%  lr: 0.012152  loss: 0.007700  eta: 0h3m  tot: 0h10m32s  (76.0%)\rEpoch: 80.2%  lr: 0.012152  loss: 0.007704  eta: 0h3m  tot: 0h10m32s  (76.0%)\rEpoch: 80.3%  lr: 0.012142  loss: 0.007704  eta: 0h3m  tot: 0h10m32s  (76.1%)\rEpoch: 80.4%  lr: 0.012142  loss: 0.007705  eta: 0h3m  tot: 0h10m32s  (76.1%)\rEpoch: 80.5%  lr: 0.012142  loss: 0.007704  eta: 0h3m  tot: 0h10m32s  (76.1%)\rEpoch: 80.6%  lr: 0.012142  loss: 0.007704  eta: 0h3m  tot: 0h10m32s  (76.1%)\rEpoch: 80.7%  lr: 0.012142  loss: 0.007715  eta: 0h3m  tot: 0h10m33s  (76.1%)\rEpoch: 80.8%  lr: 0.012132  loss: 0.007715  eta: 0h3m  tot: 0h10m33s  (76.2%)\rEpoch: 80.8%  lr: 0.012132  loss: 0.007714  eta: 0h3m  tot: 0h10m33s  (76.2%)\rEpoch: 80.9%  lr: 0.012122  loss: 0.007712  eta: 0h3m  tot: 0h10m33s  (76.2%)\rEpoch: 81.0%  lr: 0.012082  loss: 0.007709  eta: 0h3m  tot: 0h10m33s  (76.2%)\rEpoch: 81.1%  lr: 0.012082  loss: 0.007710  eta: 0h3m  tot: 0h10m33s  (76.2%)\rEpoch: 81.2%  lr: 0.012062  loss: 0.007704  eta: 0h3m  tot: 0h10m34s  (76.2%)\rEpoch: 81.3%  lr: 0.012052  loss: 0.007702  eta: 0h3m  tot: 0h10m34s  (76.3%)\rEpoch: 81.4%  lr: 0.012042  loss: 0.007706  eta: 0h3m  tot: 0h10m34s  (76.3%)\rEpoch: 81.5%  lr: 0.012042  loss: 0.007706  eta: 0h3m  tot: 0h10m34s  (76.3%)\rEpoch: 81.6%  lr: 0.012032  loss: 0.007702  eta: 0h3m  tot: 0h10m34s  (76.3%)\rEpoch: 81.7%  lr: 0.012032  loss: 0.007698  eta: 0h3m  tot: 0h10m34s  (76.3%)\rEpoch: 81.7%  lr: 0.012032  loss: 0.007699  eta: 0h3m  tot: 0h10m34s  (76.3%)\rEpoch: 81.8%  lr: 0.012022  loss: 0.007694  eta: 0h3m  tot: 0h10m35s  (76.4%)\rEpoch: 81.9%  lr: 0.012012  loss: 0.007704  eta: 0h3m  tot: 0h10m35s  (76.4%)\rEpoch: 82.0%  lr: 0.012002  loss: 0.007706  eta: 0h3m  tot: 0h10m35s  (76.4%)\rEpoch: 82.1%  lr: 0.011962  loss: 0.007708  eta: 0h3m  tot: 0h10m35s  (76.4%)\rEpoch: 82.2%  lr: 0.011962  loss: 0.007707  eta: 0h3m  tot: 0h10m35s  (76.4%)\rEpoch: 82.3%  lr: 0.011942  loss: 0.007709  eta: 0h3m  tot: 0h10m35s  (76.5%)\rEpoch: 82.4%  lr: 0.011942  loss: 0.007708  eta: 0h3m  tot: 0h10m35s  (76.5%)\rEpoch: 82.5%  lr: 0.011942  loss: 0.007705  eta: 0h3m  tot: 0h10m36s  (76.5%)\rEpoch: 82.6%  lr: 0.011912  loss: 0.007709  eta: 0h3m  tot: 0h10m36s  (76.5%)\rEpoch: 82.6%  lr: 0.011912  loss: 0.007713  eta: 0h3m  tot: 0h10m36s  (76.5%)\rEpoch: 82.7%  lr: 0.011872  loss: 0.007710  eta: 0h3m  tot: 0h10m36s  (76.5%)\rEpoch: 82.8%  lr: 0.011852  loss: 0.007711  eta: 0h3m  tot: 0h10m36s  (76.6%)\rEpoch: 82.9%  lr: 0.011852  loss: 0.007714  eta: 0h3m  tot: 0h10m36s  (76.6%)\rEpoch: 83.0%  lr: 0.011842  loss: 0.007718  eta: 0h3m  tot: 0h10m36s  (76.6%)\rEpoch: 83.1%  lr: 0.011842  loss: 0.007714  eta: 0h3m  tot: 0h10m37s  (76.6%)\rEpoch: 83.2%  lr: 0.011832  loss: 0.007712  eta: 0h3m  tot: 0h10m37s  (76.6%)\rEpoch: 83.3%  lr: 0.011832  loss: 0.007708  eta: 0h3m  tot: 0h10m37s  (76.7%)\rEpoch: 83.4%  lr: 0.011812  loss: 0.007708  eta: 0h3m  tot: 0h10m37s  (76.7%)\rEpoch: 83.5%  lr: 0.011772  loss: 0.007708  eta: 0h3m  tot: 0h10m37s  (76.7%)\rEpoch: 83.5%  lr: 0.011762  loss: 0.007708  eta: 0h3m  tot: 0h10m37s  (76.7%)\rEpoch: 83.6%  lr: 0.011742  loss: 0.007703  eta: 0h3m  tot: 0h10m37s  (76.7%)\rEpoch: 83.7%  lr: 0.011742  loss: 0.007698  eta: 0h3m  tot: 0h10m38s  (76.7%)\rEpoch: 83.8%  lr: 0.011742  loss: 0.007695  eta: 0h3m  tot: 0h10m38s  (76.8%)\rEpoch: 83.9%  lr: 0.011742  loss: 0.007693  eta: 0h3m  tot: 0h10m38s  (76.8%)\rEpoch: 84.0%  lr: 0.011742  loss: 0.007686  eta: 0h3m  tot: 0h10m38s  (76.8%)\rEpoch: 84.1%  lr: 0.011732  loss: 0.007687  eta: 0h3m  tot: 0h10m38s  (76.8%)\rEpoch: 84.2%  lr: 0.011712  loss: 0.007682  eta: 0h3m  tot: 0h10m38s  (76.8%)\rEpoch: 84.3%  lr: 0.011702  loss: 0.007683  eta: 0h3m  tot: 0h10m38s  (76.9%)\rEpoch: 84.4%  lr: 0.011692  loss: 0.007682  eta: 0h3m  tot: 0h10m39s  (76.9%)\rEpoch: 84.4%  lr: 0.011672  loss: 0.007684  eta: 0h3m  tot: 0h10m39s  (76.9%)\rEpoch: 84.5%  lr: 0.011652  loss: 0.007684  eta: 0h3m  tot: 0h10m39s  (76.9%)\rEpoch: 84.6%  lr: 0.011642  loss: 0.007685  eta: 0h3m  tot: 0h10m39s  (76.9%)\rEpoch: 84.7%  lr: 0.011622  loss: 0.007684  eta: 0h3m  tot: 0h10m39s  (76.9%)\rEpoch: 84.8%  lr: 0.011612  loss: 0.007679  eta: 0h3m  tot: 0h10m39s  (77.0%)\rEpoch: 84.9%  lr: 0.011612  loss: 0.007675  eta: 0h3m  tot: 0h10m39s  (77.0%)\rEpoch: 85.0%  lr: 0.011592  loss: 0.007672  eta: 0h3m  tot: 0h10m40s  (77.0%)\rEpoch: 85.1%  lr: 0.011572  loss: 0.007667  eta: 0h3m  tot: 0h10m40s  (77.0%)\rEpoch: 85.2%  lr: 0.011572  loss: 0.007672  eta: 0h3m  tot: 0h10m40s  (77.0%)\rEpoch: 85.3%  lr: 0.011572  loss: 0.007675  eta: 0h3m  tot: 0h10m40s  (77.1%)\rEpoch: 85.3%  lr: 0.011572  loss: 0.007671  eta: 0h3m  tot: 0h10m40s  (77.1%)\rEpoch: 85.4%  lr: 0.011562  loss: 0.007673  eta: 0h3m  tot: 0h10m40s  (77.1%)\rEpoch: 85.5%  lr: 0.011542  loss: 0.007677  eta: 0h3m  tot: 0h10m40s  (77.1%)\rEpoch: 85.6%  lr: 0.011542  loss: 0.007673  eta: 0h3m  tot: 0h10m41s  (77.1%)\rEpoch: 85.7%  lr: 0.011532  loss: 0.007674  eta: 0h3m  tot: 0h10m41s  (77.1%)\rEpoch: 85.8%  lr: 0.011522  loss: 0.007675  eta: 0h3m  tot: 0h10m41s  (77.2%)\rEpoch: 85.9%  lr: 0.011502  loss: 0.007681  eta: 0h3m  tot: 0h10m41s  (77.2%)\rEpoch: 86.0%  lr: 0.011492  loss: 0.007679  eta: 0h3m  tot: 0h10m41s  (77.2%)\rEpoch: 86.1%  lr: 0.011482  loss: 0.007676  eta: 0h3m  tot: 0h10m41s  (77.2%)\rEpoch: 86.2%  lr: 0.011482  loss: 0.007675  eta: 0h3m  tot: 0h10m41s  (77.2%)\rEpoch: 86.2%  lr: 0.011482  loss: 0.007683  eta: 0h3m  tot: 0h10m42s  (77.2%)\rEpoch: 86.3%  lr: 0.011482  loss: 0.007681  eta: 0h3m  tot: 0h10m42s  (77.3%)\rEpoch: 86.4%  lr: 0.011482  loss: 0.007683  eta: 0h3m  tot: 0h10m42s  (77.3%)\rEpoch: 86.5%  lr: 0.011472  loss: 0.007689  eta: 0h3m  tot: 0h10m42s  (77.3%)\rEpoch: 86.6%  lr: 0.011462  loss: 0.007695  eta: 0h3m  tot: 0h10m42s  (77.3%)\rEpoch: 86.7%  lr: 0.011442  loss: 0.007696  eta: 0h3m  tot: 0h10m42s  (77.3%)\rEpoch: 86.8%  lr: 0.011432  loss: 0.007699  eta: 0h3m  tot: 0h10m43s  (77.4%)\rEpoch: 86.9%  lr: 0.011432  loss: 0.007704  eta: 0h3m  tot: 0h10m43s  (77.4%)\rEpoch: 87.0%  lr: 0.011412  loss: 0.007708  eta: 0h3m  tot: 0h10m43s  (77.4%)\rEpoch: 87.1%  lr: 0.011372  loss: 0.007708  eta: 0h3m  tot: 0h10m43s  (77.4%)\rEpoch: 87.1%  lr: 0.011361  loss: 0.007716  eta: 0h3m  tot: 0h10m43s  (77.4%)\rEpoch: 87.2%  lr: 0.011341  loss: 0.007716  eta: 0h3m  tot: 0h10m43s  (77.4%)\rEpoch: 87.3%  lr: 0.011321  loss: 0.007716  eta: 0h3m  tot: 0h10m43s  (77.5%)\rEpoch: 87.4%  lr: 0.011301  loss: 0.007721  eta: 0h3m  tot: 0h10m44s  (77.5%)\rEpoch: 87.5%  lr: 0.011301  loss: 0.007715  eta: 0h3m  tot: 0h10m44s  (77.5%)\rEpoch: 87.6%  lr: 0.011291  loss: 0.007711  eta: 0h3m  tot: 0h10m44s  (77.5%)\rEpoch: 87.7%  lr: 0.011291  loss: 0.007709  eta: 0h3m  tot: 0h10m44s  (77.5%)\rEpoch: 87.8%  lr: 0.011271  loss: 0.007710  eta: 0h3m  tot: 0h10m44s  (77.6%)\rEpoch: 87.9%  lr: 0.011261  loss: 0.007709  eta: 0h3m  tot: 0h10m44s  (77.6%)\rEpoch: 88.0%  lr: 0.011261  loss: 0.007708  eta: 0h3m  tot: 0h10m44s  (77.6%)\rEpoch: 88.0%  lr: 0.011251  loss: 0.007705  eta: 0h3m  tot: 0h10m45s  (77.6%)\rEpoch: 88.1%  lr: 0.011211  loss: 0.007706  eta: 0h3m  tot: 0h10m45s  (77.6%)\rEpoch: 88.2%  lr: 0.011211  loss: 0.007700  eta: 0h3m  tot: 0h10m45s  (77.6%)\rEpoch: 88.3%  lr: 0.011181  loss: 0.007697  eta: 0h3m  tot: 0h10m45s  (77.7%)\rEpoch: 88.4%  lr: 0.011181  loss: 0.007695  eta: 0h3m  tot: 0h10m45s  (77.7%)\rEpoch: 88.5%  lr: 0.011171  loss: 0.007689  eta: 0h3m  tot: 0h10m45s  (77.7%)\rEpoch: 88.6%  lr: 0.011171  loss: 0.007687  eta: 0h3m  tot: 0h10m46s  (77.7%)\rEpoch: 88.7%  lr: 0.011161  loss: 0.007680  eta: 0h3m  tot: 0h10m46s  (77.7%)\rEpoch: 88.8%  lr: 0.011161  loss: 0.007679  eta: 0h3m  tot: 0h10m46s  (77.8%)\rEpoch: 88.9%  lr: 0.011151  loss: 0.007680  eta: 0h3m  tot: 0h10m46s  (77.8%)\rEpoch: 88.9%  lr: 0.011121  loss: 0.007680  eta: 0h3m  tot: 0h10m46s  (77.8%)\rEpoch: 89.0%  lr: 0.011121  loss: 0.007672  eta: 0h3m  tot: 0h10m46s  (77.8%)\rEpoch: 89.1%  lr: 0.011121  loss: 0.007672  eta: 0h2m  tot: 0h10m46s  (77.8%)\rEpoch: 89.2%  lr: 0.011121  loss: 0.007672  eta: 0h2m  tot: 0h10m47s  (77.8%)\rEpoch: 89.3%  lr: 0.011121  loss: 0.007673  eta: 0h2m  tot: 0h10m47s  (77.9%)\rEpoch: 89.4%  lr: 0.011101  loss: 0.007679  eta: 0h2m  tot: 0h10m47s  (77.9%)\rEpoch: 89.5%  lr: 0.011091  loss: 0.007676  eta: 0h2m  tot: 0h10m47s  (77.9%)\rEpoch: 89.6%  lr: 0.011091  loss: 0.007675  eta: 0h2m  tot: 0h10m47s  (77.9%)\rEpoch: 89.7%  lr: 0.011091  loss: 0.007677  eta: 0h2m  tot: 0h10m47s  (77.9%)\rEpoch: 89.8%  lr: 0.011071  loss: 0.007675  eta: 0h2m  tot: 0h10m47s  (78.0%)\rEpoch: 89.8%  lr: 0.011061  loss: 0.007680  eta: 0h2m  tot: 0h10m48s  (78.0%)\rEpoch: 89.9%  lr: 0.011061  loss: 0.007686  eta: 0h2m  tot: 0h10m48s  (78.0%)\rEpoch: 90.0%  lr: 0.011051  loss: 0.007691  eta: 0h2m  tot: 0h10m48s  (78.0%)\rEpoch: 90.1%  lr: 0.011041  loss: 0.007691  eta: 0h2m  tot: 0h10m48s  (78.0%)\rEpoch: 90.2%  lr: 0.011041  loss: 0.007688  eta: 0h2m  tot: 0h10m48s  (78.0%)\rEpoch: 90.3%  lr: 0.011041  loss: 0.007687  eta: 0h2m  tot: 0h10m48s  (78.1%)\rEpoch: 90.4%  lr: 0.011021  loss: 0.007692  eta: 0h2m  tot: 0h10m48s  (78.1%)\rEpoch: 90.5%  lr: 0.011011  loss: 0.007688  eta: 0h2m  tot: 0h10m49s  (78.1%)\rEpoch: 90.6%  lr: 0.010981  loss: 0.007689  eta: 0h2m  tot: 0h10m49s  (78.1%)\rEpoch: 90.7%  lr: 0.010981  loss: 0.007684  eta: 0h2m  tot: 0h10m49s  (78.1%)\rEpoch: 90.7%  lr: 0.010981  loss: 0.007679  eta: 0h2m  tot: 0h10m49s  (78.1%)\rEpoch: 90.8%  lr: 0.010961  loss: 0.007677  eta: 0h2m  tot: 0h10m49s  (78.2%)\rEpoch: 90.9%  lr: 0.010961  loss: 0.007673  eta: 0h2m  tot: 0h10m49s  (78.2%)\rEpoch: 91.0%  lr: 0.010961  loss: 0.007673  eta: 0h2m  tot: 0h10m49s  (78.2%)\rEpoch: 91.1%  lr: 0.010941  loss: 0.007675  eta: 0h2m  tot: 0h10m50s  (78.2%)\rEpoch: 91.2%  lr: 0.010941  loss: 0.007672  eta: 0h2m  tot: 0h10m50s  (78.2%)\rEpoch: 91.3%  lr: 0.010941  loss: 0.007674  eta: 0h2m  tot: 0h10m50s  (78.3%)\rEpoch: 91.4%  lr: 0.010931  loss: 0.007672  eta: 0h2m  tot: 0h10m50s  (78.3%)\rEpoch: 91.5%  lr: 0.010911  loss: 0.007674  eta: 0h2m  tot: 0h10m50s  (78.3%)\rEpoch: 91.6%  lr: 0.010891  loss: 0.007670  eta: 0h2m  tot: 0h10m50s  (78.3%)\rEpoch: 91.6%  lr: 0.010881  loss: 0.007668  eta: 0h2m  tot: 0h10m51s  (78.3%)\rEpoch: 91.7%  lr: 0.010871  loss: 0.007673  eta: 0h2m  tot: 0h10m51s  (78.3%)\rEpoch: 91.8%  lr: 0.010851  loss: 0.007674  eta: 0h2m  tot: 0h10m51s  (78.4%)\rEpoch: 91.9%  lr: 0.010841  loss: 0.007672  eta: 0h2m  tot: 0h10m51s  (78.4%)\rEpoch: 92.0%  lr: 0.010811  loss: 0.007671  eta: 0h2m  tot: 0h10m51s  (78.4%)\rEpoch: 92.1%  lr: 0.010791  loss: 0.007668  eta: 0h2m  tot: 0h10m51s  (78.4%)\rEpoch: 92.2%  lr: 0.010791  loss: 0.007669  eta: 0h2m  tot: 0h10m51s  (78.4%)\rEpoch: 92.3%  lr: 0.010771  loss: 0.007667  eta: 0h2m  tot: 0h10m52s  (78.5%)\rEpoch: 92.4%  lr: 0.010751  loss: 0.007665  eta: 0h2m  tot: 0h10m52s  (78.5%)\rEpoch: 92.5%  lr: 0.010751  loss: 0.007659  eta: 0h2m  tot: 0h10m52s  (78.5%)\rEpoch: 92.5%  lr: 0.010751  loss: 0.007654  eta: 0h2m  tot: 0h10m52s  (78.5%)\rEpoch: 92.6%  lr: 0.010741  loss: 0.007653  eta: 0h2m  tot: 0h10m52s  (78.5%)\rEpoch: 92.7%  lr: 0.010741  loss: 0.007648  eta: 0h2m  tot: 0h10m52s  (78.5%)\rEpoch: 92.8%  lr: 0.010741  loss: 0.007647  eta: 0h2m  tot: 0h10m53s  (78.6%)\rEpoch: 92.9%  lr: 0.010731  loss: 0.007647  eta: 0h2m  tot: 0h10m53s  (78.6%)\rEpoch: 93.0%  lr: 0.010731  loss: 0.007648  eta: 0h2m  tot: 0h10m53s  (78.6%)\rEpoch: 93.1%  lr: 0.010731  loss: 0.007650  eta: 0h2m  tot: 0h10m53s  (78.6%)\rEpoch: 93.2%  lr: 0.010721  loss: 0.007651  eta: 0h2m  tot: 0h10m53s  (78.6%)\rEpoch: 93.3%  lr: 0.010701  loss: 0.007654  eta: 0h2m  tot: 0h10m53s  (78.7%)\rEpoch: 93.4%  lr: 0.010681  loss: 0.007666  eta: 0h2m  tot: 0h10m53s  (78.7%)\rEpoch: 93.4%  lr: 0.010661  loss: 0.007663  eta: 0h2m  tot: 0h10m54s  (78.7%)\rEpoch: 93.5%  lr: 0.010611  loss: 0.007662  eta: 0h2m  tot: 0h10m54s  (78.7%)\rEpoch: 93.6%  lr: 0.010611  loss: 0.007661  eta: 0h2m  tot: 0h10m54s  (78.7%)\rEpoch: 93.7%  lr: 0.010611  loss: 0.007661  eta: 0h2m  tot: 0h10m54s  (78.7%)\rEpoch: 93.8%  lr: 0.010591  loss: 0.007675  eta: 0h2m  tot: 0h10m54s  (78.8%)\rEpoch: 93.9%  lr: 0.010581  loss: 0.007675  eta: 0h2m  tot: 0h10m54s  (78.8%)\rEpoch: 94.0%  lr: 0.010571  loss: 0.007669  eta: 0h2m  tot: 0h10m55s  (78.8%)\rEpoch: 94.1%  lr: 0.010571  loss: 0.007671  eta: 0h2m  tot: 0h10m55s  (78.8%)\rEpoch: 94.2%  lr: 0.010561  loss: 0.007671  eta: 0h2m  tot: 0h10m55s  (78.8%)\rEpoch: 94.3%  lr: 0.010551  loss: 0.007670  eta: 0h2m  tot: 0h10m55s  (78.9%)\rEpoch: 94.3%  lr: 0.010541  loss: 0.007666  eta: 0h2m  tot: 0h10m55s  (78.9%)\rEpoch: 94.4%  lr: 0.010541  loss: 0.007663  eta: 0h2m  tot: 0h10m55s  (78.9%)\rEpoch: 94.5%  lr: 0.010541  loss: 0.007662  eta: 0h2m  tot: 0h10m55s  (78.9%)\rEpoch: 94.6%  lr: 0.010531  loss: 0.007659  eta: 0h2m  tot: 0h10m56s  (78.9%)\rEpoch: 94.7%  lr: 0.010531  loss: 0.007662  eta: 0h2m  tot: 0h10m56s  (78.9%)\rEpoch: 94.8%  lr: 0.010531  loss: 0.007670  eta: 0h2m  tot: 0h10m56s  (79.0%)\rEpoch: 94.9%  lr: 0.010531  loss: 0.007669  eta: 0h2m  tot: 0h10m56s  (79.0%)\rEpoch: 95.0%  lr: 0.010521  loss: 0.007675  eta: 0h2m  tot: 0h10m56s  (79.0%)\rEpoch: 95.1%  lr: 0.010521  loss: 0.007673  eta: 0h2m  tot: 0h10m56s  (79.0%)\rEpoch: 95.2%  lr: 0.010511  loss: 0.007676  eta: 0h2m  tot: 0h10m56s  (79.0%)\rEpoch: 95.2%  lr: 0.010491  loss: 0.007675  eta: 0h2m  tot: 0h10m57s  (79.0%)\rEpoch: 95.3%  lr: 0.010451  loss: 0.007676  eta: 0h2m  tot: 0h10m57s  (79.1%)\rEpoch: 95.4%  lr: 0.010441  loss: 0.007680  eta: 0h2m  tot: 0h10m57s  (79.1%)\rEpoch: 95.5%  lr: 0.010411  loss: 0.007685  eta: 0h2m  tot: 0h10m57s  (79.1%)\rEpoch: 95.6%  lr: 0.010411  loss: 0.007693  eta: 0h2m  tot: 0h10m57s  (79.1%)\rEpoch: 95.7%  lr: 0.010411  loss: 0.007690  eta: 0h2m  tot: 0h10m57s  (79.1%)\rEpoch: 95.8%  lr: 0.010391  loss: 0.007689  eta: 0h2m  tot: 0h10m57s  (79.2%)\rEpoch: 95.9%  lr: 0.010381  loss: 0.007691  eta: 0h2m  tot: 0h10m58s  (79.2%)\rEpoch: 96.0%  lr: 0.010381  loss: 0.007685  eta: 0h2m  tot: 0h10m58s  (79.2%)\rEpoch: 96.1%  lr: 0.010381  loss: 0.007693  eta: 0h2m  tot: 0h10m58s  (79.2%)\rEpoch: 96.1%  lr: 0.010371  loss: 0.007688  eta: 0h2m  tot: 0h10m58s  (79.2%)\rEpoch: 96.2%  lr: 0.010371  loss: 0.007683  eta: 0h2m  tot: 0h10m58s  (79.2%)\rEpoch: 96.3%  lr: 0.010371  loss: 0.007682  eta: 0h2m  tot: 0h10m58s  (79.3%)\rEpoch: 96.4%  lr: 0.010361  loss: 0.007682  eta: 0h2m  tot: 0h10m58s  (79.3%)\rEpoch: 96.5%  lr: 0.010320  loss: 0.007682  eta: 0h2m  tot: 0h10m59s  (79.3%)\rEpoch: 96.6%  lr: 0.010320  loss: 0.007685  eta: 0h2m  tot: 0h10m59s  (79.3%)\rEpoch: 96.7%  lr: 0.010300  loss: 0.007684  eta: 0h2m  tot: 0h10m59s  (79.3%)\rEpoch: 96.8%  lr: 0.010290  loss: 0.007683  eta: 0h2m  tot: 0h10m59s  (79.4%)\rEpoch: 96.9%  lr: 0.010280  loss: 0.007684  eta: 0h2m  tot: 0h10m59s  (79.4%)\rEpoch: 97.0%  lr: 0.010260  loss: 0.007683  eta: 0h2m  tot: 0h10m59s  (79.4%)\rEpoch: 97.0%  lr: 0.010250  loss: 0.007678  eta: 0h2m  tot: 0h10m59s  (79.4%)\rEpoch: 97.1%  lr: 0.010240  loss: 0.007677  eta: 0h2m  tot: 0h11m0s  (79.4%)\rEpoch: 97.2%  lr: 0.010230  loss: 0.007682  eta: 0h2m  tot: 0h11m0s  (79.4%)\rEpoch: 97.3%  lr: 0.010220  loss: 0.007685  eta: 0h2m  tot: 0h11m0s  (79.5%)\rEpoch: 97.4%  lr: 0.010210  loss: 0.007683  eta: 0h2m  tot: 0h11m0s  (79.5%)\rEpoch: 97.5%  lr: 0.010180  loss: 0.007685  eta: 0h2m  tot: 0h11m0s  (79.5%)\rEpoch: 97.6%  lr: 0.010170  loss: 0.007688  eta: 0h2m  tot: 0h11m0s  (79.5%)\rEpoch: 97.7%  lr: 0.010170  loss: 0.007693  eta: 0h2m  tot: 0h11m1s  (79.5%)\rEpoch: 97.8%  lr: 0.010170  loss: 0.007692  eta: 0h2m  tot: 0h11m1s  (79.6%)\rEpoch: 97.9%  lr: 0.010150  loss: 0.007687  eta: 0h2m  tot: 0h11m1s  (79.6%)\rEpoch: 97.9%  lr: 0.010140  loss: 0.007686  eta: 0h2m  tot: 0h11m1s  (79.6%)\rEpoch: 98.0%  lr: 0.010130  loss: 0.007685  eta: 0h2m  tot: 0h11m1s  (79.6%)\rEpoch: 98.1%  lr: 0.010120  loss: 0.007690  eta: 0h2m  tot: 0h11m1s  (79.6%)\rEpoch: 98.2%  lr: 0.010110  loss: 0.007693  eta: 0h2m  tot: 0h11m1s  (79.6%)\rEpoch: 98.3%  lr: 0.010100  loss: 0.007689  eta: 0h2m  tot: 0h11m2s  (79.7%)\rEpoch: 98.4%  lr: 0.010100  loss: 0.007692  eta: 0h2m  tot: 0h11m2s  (79.7%)\rEpoch: 98.5%  lr: 0.010100  loss: 0.007687  eta: 0h2m  tot: 0h11m2s  (79.7%)\rEpoch: 98.6%  lr: 0.010100  loss: 0.007688  eta: 0h2m  tot: 0h11m2s  (79.7%)\rEpoch: 98.7%  lr: 0.010100  loss: 0.007696  eta: 0h2m  tot: 0h11m2s  (79.7%)\rEpoch: 98.8%  lr: 0.010090  loss: 0.007690  eta: 0h2m  tot: 0h11m2s  (79.8%)\rEpoch: 98.8%  lr: 0.010080  loss: 0.007696  eta: 0h2m  tot: 0h11m2s  (79.8%)\rEpoch: 98.9%  lr: 0.010060  loss: 0.007695  eta: 0h2m  tot: 0h11m3s  (79.8%)\rEpoch: 99.0%  lr: 0.010050  loss: 0.007691  eta: 0h2m  tot: 0h11m3s  (79.8%)\rEpoch: 99.1%  lr: 0.010050  loss: 0.007698  eta: 0h2m  tot: 0h11m3s  (79.8%)\rEpoch: 99.2%  lr: 0.010040  loss: 0.007695  eta: 0h2m  tot: 0h11m3s  (79.8%)\rEpoch: 99.3%  lr: 0.010010  loss: 0.007698  eta: 0h2m  tot: 0h11m3s  (79.9%)\rEpoch: 99.4%  lr: 0.010010  loss: 0.007696  eta: 0h2m  tot: 0h11m3s  (79.9%)\rEpoch: 99.5%  lr: 0.010010  loss: 0.007697  eta: 0h2m  tot: 0h11m3s  (79.9%)\rEpoch: 99.6%  lr: 0.010010  loss: 0.007691  eta: 0h2m  tot: 0h11m3s  (79.9%)\rEpoch: 99.7%  lr: 0.010010  loss: 0.007690  eta: 0h2m  tot: 0h11m3s  (79.9%)\rEpoch: 99.7%  lr: 0.010000  loss: 0.007691  eta: 0h2m  tot: 0h11m4s  (79.9%)\rEpoch: 99.8%  lr: 0.010000  loss: 0.007696  eta: 0h2m  tot: 0h11m4s  (80.0%)\rEpoch: 99.9%  lr: 0.010000  loss: 0.007695  eta: 0h2m  tot: 0h11m4s  (80.0%)\rEpoch: 100.0%  lr: 0.010000  loss: 0.007696  eta: 0h2m  tot: 0h11m4s  (80.0%)\rEpoch: 0.1%  lr: 0.009990  loss: 0.024145  eta: 0h2m  tot: 0h11m4s  (80.0%)\rEpoch: 0.2%  lr: 0.009990  loss: 0.018709  eta: 0h2m  tot: 0h11m4s  (80.0%)\rEpoch: 0.3%  lr: 0.009990  loss: 0.015979  eta: 0h2m  tot: 0h11m4s  (80.1%)\rEpoch: 0.4%  lr: 0.009980  loss: 0.013078  eta: 0h2m  tot: 0h11m4s  (80.1%)\rEpoch: 0.4%  lr: 0.009980  loss: 0.011423  eta: 0h2m  tot: 0h11m4s  (80.1%)\rEpoch: 0.5%  lr: 0.009980  loss: 0.011329  eta: 0h2m  tot: 0h11m5s  (80.1%)\rEpoch: 0.6%  lr: 0.009940  loss: 0.010605  eta: 0h2m  tot: 0h11m5s  (80.1%)\rEpoch: 0.7%  lr: 0.009940  loss: 0.010007  eta: 0h2m  tot: 0h11m5s  (80.1%)\rEpoch: 0.8%  lr: 0.009940  loss: 0.010005  eta: 0h2m  tot: 0h11m5s  (80.2%)\rEpoch: 0.9%  lr: 0.009930  loss: 0.009407  eta: 0h2m  tot: 0h11m5s  (80.2%)\rEpoch: 1.0%  lr: 0.009930  loss: 0.009047  eta: 0h2m  tot: 0h11m5s  (80.2%)\rEpoch: 1.1%  lr: 0.009930  loss: 0.008784  eta: 0h2m  tot: 0h11m5s  (80.2%)\rEpoch: 1.2%  lr: 0.009900  loss: 0.009075  eta: 0h2m  tot: 0h11m6s  (80.2%)\rEpoch: 1.3%  lr: 0.009900  loss: 0.009077  eta: 0h2m  tot: 0h11m6s  (80.3%)\rEpoch: 1.3%  lr: 0.009900  loss: 0.008953  eta: 0h2m  tot: 0h11m6s  (80.3%)\rEpoch: 1.4%  lr: 0.009900  loss: 0.008724  eta: 0h2m  tot: 0h11m6s  (80.3%)\rEpoch: 1.5%  lr: 0.009880  loss: 0.008742  eta: 0h2m  tot: 0h11m6s  (80.3%)\rEpoch: 1.6%  lr: 0.009860  loss: 0.008917  eta: 0h2m  tot: 0h11m6s  (80.3%)\rEpoch: 1.7%  lr: 0.009850  loss: 0.008590  eta: 0h2m  tot: 0h11m6s  (80.3%)\rEpoch: 1.8%  lr: 0.009830  loss: 0.008262  eta: 0h2m  tot: 0h11m7s  (80.4%)\rEpoch: 1.9%  lr: 0.009830  loss: 0.008553  eta: 0h2m  tot: 0h11m7s  (80.4%)\rEpoch: 2.0%  lr: 0.009830  loss: 0.008365  eta: 0h2m  tot: 0h11m7s  (80.4%)\rEpoch: 2.1%  lr: 0.009830  loss: 0.008348  eta: 0h2m  tot: 0h11m7s  (80.4%)\rEpoch: 2.2%  lr: 0.009830  loss: 0.008076  eta: 0h2m  tot: 0h11m7s  (80.4%)\rEpoch: 2.2%  lr: 0.009820  loss: 0.008081  eta: 0h2m  tot: 0h11m7s  (80.4%)\rEpoch: 2.3%  lr: 0.009820  loss: 0.007908  eta: 0h2m  tot: 0h11m8s  (80.5%)\rEpoch: 2.4%  lr: 0.009810  loss: 0.007784  eta: 0h2m  tot: 0h11m8s  (80.5%)\rEpoch: 2.5%  lr: 0.009810  loss: 0.007673  eta: 0h2m  tot: 0h11m8s  (80.5%)\rEpoch: 2.6%  lr: 0.009790  loss: 0.007521  eta: 0h2m  tot: 0h11m8s  (80.5%)\rEpoch: 2.7%  lr: 0.009790  loss: 0.007392  eta: 0h2m  tot: 0h11m8s  (80.5%)\rEpoch: 2.8%  lr: 0.009790  loss: 0.007345  eta: 0h2m  tot: 0h11m8s  (80.6%)\rEpoch: 2.9%  lr: 0.009790  loss: 0.007371  eta: 0h2m  tot: 0h11m8s  (80.6%)\rEpoch: 3.0%  lr: 0.009780  loss: 0.007369  eta: 0h2m  tot: 0h11m9s  (80.6%)\rEpoch: 3.1%  lr: 0.009780  loss: 0.007536  eta: 0h2m  tot: 0h11m9s  (80.6%)\rEpoch: 3.1%  lr: 0.009780  loss: 0.007496  eta: 0h2m  tot: 0h11m9s  (80.6%)\rEpoch: 3.2%  lr: 0.009780  loss: 0.007434  eta: 0h2m  tot: 0h11m9s  (80.6%)\rEpoch: 3.3%  lr: 0.009780  loss: 0.007479  eta: 0h2m  tot: 0h11m9s  (80.7%)\rEpoch: 3.4%  lr: 0.009750  loss: 0.007358  eta: 0h2m  tot: 0h11m9s  (80.7%)\rEpoch: 3.5%  lr: 0.009740  loss: 0.007305  eta: 0h2m  tot: 0h11m9s  (80.7%)\rEpoch: 3.6%  lr: 0.009740  loss: 0.007167  eta: 0h2m  tot: 0h11m10s  (80.7%)\rEpoch: 3.7%  lr: 0.009740  loss: 0.007138  eta: 0h2m  tot: 0h11m10s  (80.7%)\rEpoch: 3.8%  lr: 0.009740  loss: 0.007172  eta: 0h2m  tot: 0h11m10s  (80.8%)\rEpoch: 3.9%  lr: 0.009740  loss: 0.007044  eta: 0h2m  tot: 0h11m10s  (80.8%)\rEpoch: 4.0%  lr: 0.009730  loss: 0.007048  eta: 0h2m  tot: 0h11m10s  (80.8%)\rEpoch: 4.1%  lr: 0.009710  loss: 0.007000  eta: 0h2m  tot: 0h11m10s  (80.8%)\rEpoch: 4.1%  lr: 0.009690  loss: 0.007060  eta: 0h2m  tot: 0h11m10s  (80.8%)\rEpoch: 4.2%  lr: 0.009680  loss: 0.007117  eta: 0h2m  tot: 0h11m11s  (80.8%)\rEpoch: 4.3%  lr: 0.009670  loss: 0.007012  eta: 0h2m  tot: 0h11m11s  (80.9%)\rEpoch: 4.4%  lr: 0.009660  loss: 0.006886  eta: 0h2m  tot: 0h11m11s  (80.9%)\rEpoch: 4.5%  lr: 0.009650  loss: 0.006817  eta: 0h2m  tot: 0h11m11s  (80.9%)\rEpoch: 4.6%  lr: 0.009640  loss: 0.006971  eta: 0h2m  tot: 0h11m11s  (80.9%)\rEpoch: 4.7%  lr: 0.009620  loss: 0.007005  eta: 0h2m  tot: 0h11m11s  (80.9%)\rEpoch: 4.8%  lr: 0.009610  loss: 0.007094  eta: 0h2m  tot: 0h11m11s  (81.0%)\rEpoch: 4.9%  lr: 0.009600  loss: 0.007139  eta: 0h2m  tot: 0h11m12s  (81.0%)\rEpoch: 5.0%  lr: 0.009590  loss: 0.007182  eta: 0h2m  tot: 0h11m12s  (81.0%)\rEpoch: 5.0%  lr: 0.009580  loss: 0.007107  eta: 0h2m  tot: 0h11m12s  (81.0%)\rEpoch: 5.1%  lr: 0.009580  loss: 0.007083  eta: 0h2m  tot: 0h11m12s  (81.0%)\rEpoch: 5.2%  lr: 0.009580  loss: 0.007097  eta: 0h2m  tot: 0h11m12s  (81.0%)\rEpoch: 5.3%  lr: 0.009570  loss: 0.007072  eta: 0h2m  tot: 0h11m12s  (81.1%)\rEpoch: 5.4%  lr: 0.009560  loss: 0.007068  eta: 0h2m  tot: 0h11m12s  (81.1%)\rEpoch: 5.5%  lr: 0.009550  loss: 0.006996  eta: 0h2m  tot: 0h11m13s  (81.1%)\rEpoch: 5.6%  lr: 0.009540  loss: 0.006980  eta: 0h2m  tot: 0h11m13s  (81.1%)\rEpoch: 5.7%  lr: 0.009540  loss: 0.006943  eta: 0h2m  tot: 0h11m13s  (81.1%)\rEpoch: 5.8%  lr: 0.009520  loss: 0.006896  eta: 0h2m  tot: 0h11m13s  (81.2%)\rEpoch: 5.9%  lr: 0.009510  loss: 0.006859  eta: 0h2m  tot: 0h11m13s  (81.2%)\rEpoch: 5.9%  lr: 0.009510  loss: 0.006925  eta: 0h2m  tot: 0h11m13s  (81.2%)\rEpoch: 6.0%  lr: 0.009510  loss: 0.006951  eta: 0h2m  tot: 0h11m13s  (81.2%)\rEpoch: 6.1%  lr: 0.009510  loss: 0.006876  eta: 0h2m  tot: 0h11m14s  (81.2%)\rEpoch: 6.2%  lr: 0.009510  loss: 0.007071  eta: 0h2m  tot: 0h11m14s  (81.2%)\rEpoch: 6.3%  lr: 0.009489  loss: 0.007036  eta: 0h2m  tot: 0h11m14s  (81.3%)\rEpoch: 6.4%  lr: 0.009479  loss: 0.007053  eta: 0h2m  tot: 0h11m14s  (81.3%)\rEpoch: 6.5%  lr: 0.009469  loss: 0.007030  eta: 0h2m  tot: 0h11m14s  (81.3%)\rEpoch: 6.6%  lr: 0.009449  loss: 0.006992  eta: 0h2m  tot: 0h11m14s  (81.3%)\rEpoch: 6.7%  lr: 0.009449  loss: 0.007030  eta: 0h2m  tot: 0h11m14s  (81.3%)\rEpoch: 6.8%  lr: 0.009439  loss: 0.006980  eta: 0h2m  tot: 0h11m15s  (81.4%)\rEpoch: 6.8%  lr: 0.009429  loss: 0.006961  eta: 0h2m  tot: 0h11m15s  (81.4%)\rEpoch: 6.9%  lr: 0.009429  loss: 0.006935  eta: 0h2m  tot: 0h11m15s  (81.4%)\rEpoch: 7.0%  lr: 0.009429  loss: 0.006857  eta: 0h2m  tot: 0h11m15s  (81.4%)\rEpoch: 7.1%  lr: 0.009409  loss: 0.006813  eta: 0h2m  tot: 0h11m15s  (81.4%)\rEpoch: 7.2%  lr: 0.009389  loss: 0.006820  eta: 0h2m  tot: 0h11m15s  (81.4%)\rEpoch: 7.3%  lr: 0.009369  loss: 0.006767  eta: 0h2m  tot: 0h11m16s  (81.5%)\rEpoch: 7.4%  lr: 0.009369  loss: 0.006770  eta: 0h2m  tot: 0h11m16s  (81.5%)\rEpoch: 7.5%  lr: 0.009359  loss: 0.006776  eta: 0h2m  tot: 0h11m16s  (81.5%)\rEpoch: 7.6%  lr: 0.009359  loss: 0.006786  eta: 0h2m  tot: 0h11m16s  (81.5%)\rEpoch: 7.7%  lr: 0.009359  loss: 0.006835  eta: 0h2m  tot: 0h11m16s  (81.5%)\rEpoch: 7.7%  lr: 0.009349  loss: 0.006830  eta: 0h2m  tot: 0h11m16s  (81.5%)\rEpoch: 7.8%  lr: 0.009339  loss: 0.006822  eta: 0h2m  tot: 0h11m16s  (81.6%)\rEpoch: 7.9%  lr: 0.009339  loss: 0.006824  eta: 0h2m  tot: 0h11m17s  (81.6%)\rEpoch: 8.0%  lr: 0.009329  loss: 0.006853  eta: 0h2m  tot: 0h11m17s  (81.6%)\rEpoch: 8.1%  lr: 0.009299  loss: 0.006846  eta: 0h2m  tot: 0h11m17s  (81.6%)\rEpoch: 8.2%  lr: 0.009289  loss: 0.006815  eta: 0h2m  tot: 0h11m17s  (81.6%)\rEpoch: 8.3%  lr: 0.009269  loss: 0.006800  eta: 0h2m  tot: 0h11m17s  (81.7%)\rEpoch: 8.4%  lr: 0.009239  loss: 0.006789  eta: 0h2m  tot: 0h11m17s  (81.7%)\rEpoch: 8.5%  lr: 0.009239  loss: 0.006766  eta: 0h2m  tot: 0h11m17s  (81.7%)\rEpoch: 8.6%  lr: 0.009229  loss: 0.006733  eta: 0h2m  tot: 0h11m18s  (81.7%)\rEpoch: 8.6%  lr: 0.009219  loss: 0.006777  eta: 0h2m  tot: 0h11m18s  (81.7%)\rEpoch: 8.7%  lr: 0.009209  loss: 0.006733  eta: 0h2m  tot: 0h11m18s  (81.7%)\rEpoch: 8.8%  lr: 0.009209  loss: 0.006730  eta: 0h2m  tot: 0h11m18s  (81.8%)\rEpoch: 8.9%  lr: 0.009209  loss: 0.006688  eta: 0h2m  tot: 0h11m18s  (81.8%)\rEpoch: 9.0%  lr: 0.009199  loss: 0.006703  eta: 0h2m  tot: 0h11m18s  (81.8%)\rEpoch: 9.1%  lr: 0.009189  loss: 0.006719  eta: 0h2m  tot: 0h11m18s  (81.8%)\rEpoch: 9.2%  lr: 0.009179  loss: 0.006754  eta: 0h2m  tot: 0h11m19s  (81.8%)\rEpoch: 9.3%  lr: 0.009179  loss: 0.006832  eta: 0h2m  tot: 0h11m19s  (81.9%)\rEpoch: 9.4%  lr: 0.009169  loss: 0.006791  eta: 0h2m  tot: 0h11m19s  (81.9%)\rEpoch: 9.5%  lr: 0.009159  loss: 0.006789  eta: 0h2m  tot: 0h11m19s  (81.9%)\rEpoch: 9.5%  lr: 0.009159  loss: 0.006748  eta: 0h2m  tot: 0h11m19s  (81.9%)\rEpoch: 9.6%  lr: 0.009159  loss: 0.006765  eta: 0h2m  tot: 0h11m19s  (81.9%)\rEpoch: 9.7%  lr: 0.009139  loss: 0.006723  eta: 0h2m  tot: 0h11m19s  (81.9%)\rEpoch: 9.8%  lr: 0.009119  loss: 0.006678  eta: 0h2m  tot: 0h11m20s  (82.0%)\rEpoch: 9.9%  lr: 0.009119  loss: 0.006705  eta: 0h2m  tot: 0h11m20s  (82.0%)\rEpoch: 10.0%  lr: 0.009119  loss: 0.006720  eta: 0h2m  tot: 0h11m20s  (82.0%)\rEpoch: 10.1%  lr: 0.009119  loss: 0.006767  eta: 0h2m  tot: 0h11m20s  (82.0%)\rEpoch: 10.2%  lr: 0.009109  loss: 0.006749  eta: 0h2m  tot: 0h11m20s  (82.0%)\rEpoch: 10.3%  lr: 0.009109  loss: 0.006803  eta: 0h2m  tot: 0h11m20s  (82.1%)\rEpoch: 10.4%  lr: 0.009099  loss: 0.006797  eta: 0h2m  tot: 0h11m20s  (82.1%)\rEpoch: 10.4%  lr: 0.009099  loss: 0.006765  eta: 0h2m  tot: 0h11m21s  (82.1%)\rEpoch: 10.5%  lr: 0.009099  loss: 0.006783  eta: 0h2m  tot: 0h11m21s  (82.1%)\rEpoch: 10.6%  lr: 0.009089  loss: 0.006779  eta: 0h2m  tot: 0h11m21s  (82.1%)\rEpoch: 10.7%  lr: 0.009069  loss: 0.006756  eta: 0h2m  tot: 0h11m21s  (82.1%)\rEpoch: 10.8%  lr: 0.009049  loss: 0.006781  eta: 0h2m  tot: 0h11m21s  (82.2%)\rEpoch: 10.9%  lr: 0.009039  loss: 0.006772  eta: 0h2m  tot: 0h11m21s  (82.2%)\rEpoch: 11.0%  lr: 0.009029  loss: 0.006780  eta: 0h2m  tot: 0h11m21s  (82.2%)\rEpoch: 11.1%  lr: 0.009009  loss: 0.006767  eta: 0h2m  tot: 0h11m22s  (82.2%)\rEpoch: 11.2%  lr: 0.008999  loss: 0.006759  eta: 0h2m  tot: 0h11m22s  (82.2%)\rEpoch: 11.3%  lr: 0.008989  loss: 0.006733  eta: 0h2m  tot: 0h11m22s  (82.3%)\rEpoch: 11.3%  lr: 0.008979  loss: 0.006761  eta: 0h2m  tot: 0h11m22s  (82.3%)\rEpoch: 11.4%  lr: 0.008979  loss: 0.006751  eta: 0h2m  tot: 0h11m22s  (82.3%)\rEpoch: 11.5%  lr: 0.008979  loss: 0.006741  eta: 0h2m  tot: 0h11m22s  (82.3%)\rEpoch: 11.6%  lr: 0.008969  loss: 0.006733  eta: 0h2m  tot: 0h11m23s  (82.3%)\rEpoch: 11.7%  lr: 0.008969  loss: 0.006785  eta: 0h2m  tot: 0h11m23s  (82.3%)\rEpoch: 11.8%  lr: 0.008949  loss: 0.006777  eta: 0h2m  tot: 0h11m23s  (82.4%)\rEpoch: 11.9%  lr: 0.008939  loss: 0.006757  eta: 0h2m  tot: 0h11m23s  (82.4%)\rEpoch: 12.0%  lr: 0.008939  loss: 0.006733  eta: 0h2m  tot: 0h11m23s  (82.4%)\rEpoch: 12.1%  lr: 0.008939  loss: 0.006715  eta: 0h2m  tot: 0h11m23s  (82.4%)\rEpoch: 12.2%  lr: 0.008939  loss: 0.006705  eta: 0h2m  tot: 0h11m23s  (82.4%)\rEpoch: 12.2%  lr: 0.008919  loss: 0.006694  eta: 0h2m  tot: 0h11m24s  (82.4%)\rEpoch: 12.3%  lr: 0.008919  loss: 0.006671  eta: 0h2m  tot: 0h11m24s  (82.5%)\rEpoch: 12.4%  lr: 0.008909  loss: 0.006663  eta: 0h2m  tot: 0h11m24s  (82.5%)\rEpoch: 12.5%  lr: 0.008909  loss: 0.006703  eta: 0h2m  tot: 0h11m24s  (82.5%)\rEpoch: 12.6%  lr: 0.008899  loss: 0.006697  eta: 0h2m  tot: 0h11m24s  (82.5%)\rEpoch: 12.7%  lr: 0.008889  loss: 0.006685  eta: 0h2m  tot: 0h11m24s  (82.5%)\rEpoch: 12.8%  lr: 0.008889  loss: 0.006664  eta: 0h2m  tot: 0h11m24s  (82.6%)\rEpoch: 12.9%  lr: 0.008889  loss: 0.006624  eta: 0h2m  tot: 0h11m25s  (82.6%)\rEpoch: 13.0%  lr: 0.008879  loss: 0.006618  eta: 0h2m  tot: 0h11m25s  (82.6%)\rEpoch: 13.1%  lr: 0.008869  loss: 0.006618  eta: 0h2m  tot: 0h11m25s  (82.6%)\rEpoch: 13.1%  lr: 0.008869  loss: 0.006626  eta: 0h2m  tot: 0h11m25s  (82.6%)\rEpoch: 13.2%  lr: 0.008869  loss: 0.006662  eta: 0h2m  tot: 0h11m25s  (82.6%)\rEpoch: 13.3%  lr: 0.008839  loss: 0.006658  eta: 0h2m  tot: 0h11m25s  (82.7%)\rEpoch: 13.4%  lr: 0.008839  loss: 0.006722  eta: 0h2m  tot: 0h11m25s  (82.7%)\rEpoch: 13.5%  lr: 0.008829  loss: 0.006689  eta: 0h2m  tot: 0h11m26s  (82.7%)\rEpoch: 13.6%  lr: 0.008829  loss: 0.006668  eta: 0h2m  tot: 0h11m26s  (82.7%)\rEpoch: 13.7%  lr: 0.008819  loss: 0.006656  eta: 0h2m  tot: 0h11m26s  (82.7%)\rEpoch: 13.8%  lr: 0.008799  loss: 0.006637  eta: 0h2m  tot: 0h11m26s  (82.8%)\rEpoch: 13.9%  lr: 0.008799  loss: 0.006624  eta: 0h2m  tot: 0h11m26s  (82.8%)\rEpoch: 14.0%  lr: 0.008779  loss: 0.006628  eta: 0h2m  tot: 0h11m26s  (82.8%)\rEpoch: 14.0%  lr: 0.008769  loss: 0.006612  eta: 0h2m  tot: 0h11m26s  (82.8%)\rEpoch: 14.1%  lr: 0.008749  loss: 0.006617  eta: 0h2m  tot: 0h11m27s  (82.8%)\rEpoch: 14.2%  lr: 0.008739  loss: 0.006617  eta: 0h2m  tot: 0h11m27s  (82.8%)\rEpoch: 14.3%  lr: 0.008719  loss: 0.006599  eta: 0h2m  tot: 0h11m27s  (82.9%)\rEpoch: 14.4%  lr: 0.008719  loss: 0.006597  eta: 0h2m  tot: 0h11m27s  (82.9%)\rEpoch: 14.5%  lr: 0.008719  loss: 0.006571  eta: 0h2m  tot: 0h11m27s  (82.9%)\rEpoch: 14.6%  lr: 0.008689  loss: 0.006562  eta: 0h2m  tot: 0h11m27s  (82.9%)\rEpoch: 14.7%  lr: 0.008689  loss: 0.006602  eta: 0h2m  tot: 0h11m28s  (82.9%)\rEpoch: 14.8%  lr: 0.008679  loss: 0.006670  eta: 0h2m  tot: 0h11m28s  (83.0%)\rEpoch: 14.9%  lr: 0.008679  loss: 0.006656  eta: 0h2m  tot: 0h11m28s  (83.0%)\rEpoch: 14.9%  lr: 0.008679  loss: 0.006654  eta: 0h2m  tot: 0h11m28s  (83.0%)\rEpoch: 15.0%  lr: 0.008659  loss: 0.006669  eta: 0h2m  tot: 0h11m28s  (83.0%)\rEpoch: 15.1%  lr: 0.008659  loss: 0.006662  eta: 0h2m  tot: 0h11m28s  (83.0%)\rEpoch: 15.2%  lr: 0.008659  loss: 0.006677  eta: 0h2m  tot: 0h11m28s  (83.0%)\rEpoch: 15.3%  lr: 0.008659  loss: 0.006677  eta: 0h2m  tot: 0h11m29s  (83.1%)\rEpoch: 15.4%  lr: 0.008659  loss: 0.006709  eta: 0h2m  tot: 0h11m29s  (83.1%)\rEpoch: 15.5%  lr: 0.008659  loss: 0.006715  eta: 0h2m  tot: 0h11m29s  (83.1%)\rEpoch: 15.6%  lr: 0.008659  loss: 0.006704  eta: 0h2m  tot: 0h11m29s  (83.1%)\rEpoch: 15.7%  lr: 0.008649  loss: 0.006734  eta: 0h2m  tot: 0h11m29s  (83.1%)\rEpoch: 15.8%  lr: 0.008649  loss: 0.006744  eta: 0h2m  tot: 0h11m29s  (83.2%)\rEpoch: 15.8%  lr: 0.008639  loss: 0.006752  eta: 0h2m  tot: 0h11m29s  (83.2%)\rEpoch: 15.9%  lr: 0.008629  loss: 0.006739  eta: 0h2m  tot: 0h11m30s  (83.2%)\rEpoch: 16.0%  lr: 0.008629  loss: 0.006739  eta: 0h2m  tot: 0h11m30s  (83.2%)\rEpoch: 16.1%  lr: 0.008609  loss: 0.006783  eta: 0h2m  tot: 0h11m30s  (83.2%)\rEpoch: 16.2%  lr: 0.008599  loss: 0.006769  eta: 0h2m  tot: 0h11m30s  (83.2%)\rEpoch: 16.3%  lr: 0.008569  loss: 0.006762  eta: 0h2m  tot: 0h11m30s  (83.3%)\rEpoch: 16.4%  lr: 0.008559  loss: 0.006754  eta: 0h2m  tot: 0h11m30s  (83.3%)\rEpoch: 16.5%  lr: 0.008549  loss: 0.006737  eta: 0h2m  tot: 0h11m30s  (83.3%)\rEpoch: 16.6%  lr: 0.008539  loss: 0.006728  eta: 0h2m  tot: 0h11m31s  (83.3%)\rEpoch: 16.7%  lr: 0.008489  loss: 0.006706  eta: 0h2m  tot: 0h11m31s  (83.3%)\rEpoch: 16.7%  lr: 0.008479  loss: 0.006676  eta: 0h2m  tot: 0h11m31s  (83.3%)\rEpoch: 16.8%  lr: 0.008479  loss: 0.006662  eta: 0h2m  tot: 0h11m31s  (83.4%)\rEpoch: 16.9%  lr: 0.008468  loss: 0.006636  eta: 0h2m  tot: 0h11m31s  (83.4%)\rEpoch: 17.0%  lr: 0.008468  loss: 0.006635  eta: 0h2m  tot: 0h11m31s  (83.4%)\rEpoch: 17.1%  lr: 0.008468  loss: 0.006645  eta: 0h2m  tot: 0h11m31s  (83.4%)\rEpoch: 17.2%  lr: 0.008468  loss: 0.006633  eta: 0h2m  tot: 0h11m32s  (83.4%)\rEpoch: 17.3%  lr: 0.008468  loss: 0.006668  eta: 0h2m  tot: 0h11m32s  (83.5%)\rEpoch: 17.4%  lr: 0.008468  loss: 0.006650  eta: 0h2m  tot: 0h11m32s  (83.5%)\rEpoch: 17.5%  lr: 0.008458  loss: 0.006642  eta: 0h2m  tot: 0h11m32s  (83.5%)\rEpoch: 17.6%  lr: 0.008438  loss: 0.006615  eta: 0h2m  tot: 0h11m32s  (83.5%)\rEpoch: 17.6%  lr: 0.008428  loss: 0.006618  eta: 0h2m  tot: 0h11m32s  (83.5%)\rEpoch: 17.7%  lr: 0.008418  loss: 0.006614  eta: 0h2m  tot: 0h11m33s  (83.5%)\rEpoch: 17.8%  lr: 0.008418  loss: 0.006607  eta: 0h2m  tot: 0h11m33s  (83.6%)\rEpoch: 17.9%  lr: 0.008418  loss: 0.006636  eta: 0h2m  tot: 0h11m33s  (83.6%)\rEpoch: 18.0%  lr: 0.008408  loss: 0.006664  eta: 0h2m  tot: 0h11m33s  (83.6%)\rEpoch: 18.1%  lr: 0.008408  loss: 0.006672  eta: 0h2m  tot: 0h11m33s  (83.6%)\rEpoch: 18.2%  lr: 0.008378  loss: 0.006681  eta: 0h2m  tot: 0h11m33s  (83.6%)\rEpoch: 18.3%  lr: 0.008358  loss: 0.006672  eta: 0h2m  tot: 0h11m33s  (83.7%)\rEpoch: 18.4%  lr: 0.008358  loss: 0.006658  eta: 0h2m  tot: 0h11m33s  (83.7%)\rEpoch: 18.5%  lr: 0.008348  loss: 0.006656  eta: 0h2m  tot: 0h11m34s  (83.7%)\rEpoch: 18.5%  lr: 0.008348  loss: 0.006666  eta: 0h2m  tot: 0h11m34s  (83.7%)\rEpoch: 18.6%  lr: 0.008338  loss: 0.006691  eta: 0h2m  tot: 0h11m34s  (83.7%)\rEpoch: 18.7%  lr: 0.008328  loss: 0.006682  eta: 0h2m  tot: 0h11m34s  (83.7%)\rEpoch: 18.8%  lr: 0.008318  loss: 0.006668  eta: 0h2m  tot: 0h11m34s  (83.8%)\rEpoch: 18.9%  lr: 0.008308  loss: 0.006651  eta: 0h2m  tot: 0h11m34s  (83.8%)\rEpoch: 19.0%  lr: 0.008308  loss: 0.006659  eta: 0h2m  tot: 0h11m35s  (83.8%)\rEpoch: 19.1%  lr: 0.008288  loss: 0.006652  eta: 0h2m  tot: 0h11m35s  (83.8%)\rEpoch: 19.2%  lr: 0.008278  loss: 0.006640  eta: 0h2m  tot: 0h11m35s  (83.8%)\rEpoch: 19.3%  lr: 0.008278  loss: 0.006667  eta: 0h2m  tot: 0h11m35s  (83.9%)\rEpoch: 19.4%  lr: 0.008268  loss: 0.006646  eta: 0h2m  tot: 0h11m35s  (83.9%)\rEpoch: 19.4%  lr: 0.008238  loss: 0.006675  eta: 0h2m  tot: 0h11m35s  (83.9%)\rEpoch: 19.5%  lr: 0.008238  loss: 0.006665  eta: 0h2m  tot: 0h11m35s  (83.9%)\rEpoch: 19.6%  lr: 0.008218  loss: 0.006654  eta: 0h2m  tot: 0h11m36s  (83.9%)\rEpoch: 19.7%  lr: 0.008218  loss: 0.006648  eta: 0h2m  tot: 0h11m36s  (83.9%)\rEpoch: 19.8%  lr: 0.008218  loss: 0.006628  eta: 0h2m  tot: 0h11m36s  (84.0%)\rEpoch: 19.9%  lr: 0.008208  loss: 0.006633  eta: 0h2m  tot: 0h11m36s  (84.0%)\rEpoch: 20.0%  lr: 0.008188  loss: 0.006616  eta: 0h2m  tot: 0h11m36s  (84.0%)\rEpoch: 20.1%  lr: 0.008188  loss: 0.006621  eta: 0h2m  tot: 0h11m36s  (84.0%)\rEpoch: 20.2%  lr: 0.008178  loss: 0.006614  eta: 0h2m  tot: 0h11m36s  (84.0%)\rEpoch: 20.3%  lr: 0.008178  loss: 0.006629  eta: 0h2m  tot: 0h11m37s  (84.1%)\rEpoch: 20.3%  lr: 0.008178  loss: 0.006627  eta: 0h2m  tot: 0h11m37s  (84.1%)\rEpoch: 20.4%  lr: 0.008168  loss: 0.006611  eta: 0h2m  tot: 0h11m37s  (84.1%)\rEpoch: 20.5%  lr: 0.008158  loss: 0.006610  eta: 0h2m  tot: 0h11m37s  (84.1%)\rEpoch: 20.6%  lr: 0.008128  loss: 0.006625  eta: 0h2m  tot: 0h11m37s  (84.1%)\rEpoch: 20.7%  lr: 0.008118  loss: 0.006621  eta: 0h2m  tot: 0h11m37s  (84.1%)\rEpoch: 20.8%  lr: 0.008108  loss: 0.006624  eta: 0h2m  tot: 0h11m37s  (84.2%)\rEpoch: 20.9%  lr: 0.008098  loss: 0.006616  eta: 0h2m  tot: 0h11m38s  (84.2%)\rEpoch: 21.0%  lr: 0.008098  loss: 0.006603  eta: 0h2m  tot: 0h11m38s  (84.2%)\rEpoch: 21.1%  lr: 0.008068  loss: 0.006628  eta: 0h2m  tot: 0h11m38s  (84.2%)\rEpoch: 21.2%  lr: 0.008068  loss: 0.006618  eta: 0h2m  tot: 0h11m38s  (84.2%)\rEpoch: 21.2%  lr: 0.008068  loss: 0.006634  eta: 0h2m  tot: 0h11m38s  (84.2%)\rEpoch: 21.3%  lr: 0.008058  loss: 0.006676  eta: 0h2m  tot: 0h11m38s  (84.3%)\rEpoch: 21.4%  lr: 0.008058  loss: 0.006660  eta: 0h2m  tot: 0h11m38s  (84.3%)\rEpoch: 21.5%  lr: 0.008058  loss: 0.006658  eta: 0h2m  tot: 0h11m39s  (84.3%)\rEpoch: 21.6%  lr: 0.008048  loss: 0.006642  eta: 0h2m  tot: 0h11m39s  (84.3%)\rEpoch: 21.7%  lr: 0.008038  loss: 0.006674  eta: 0h2m  tot: 0h11m39s  (84.3%)\rEpoch: 21.8%  lr: 0.008018  loss: 0.006662  eta: 0h2m  tot: 0h11m39s  (84.4%)\rEpoch: 21.9%  lr: 0.008018  loss: 0.006647  eta: 0h2m  tot: 0h11m39s  (84.4%)\rEpoch: 22.0%  lr: 0.008018  loss: 0.006635  eta: 0h2m  tot: 0h11m39s  (84.4%)\rEpoch: 22.1%  lr: 0.007998  loss: 0.006641  eta: 0h2m  tot: 0h11m39s  (84.4%)\rEpoch: 22.1%  lr: 0.007988  loss: 0.006638  eta: 0h2m  tot: 0h11m40s  (84.4%)\rEpoch: 22.2%  lr: 0.007988  loss: 0.006620  eta: 0h2m  tot: 0h11m40s  (84.4%)\rEpoch: 22.3%  lr: 0.007988  loss: 0.006659  eta: 0h2m  tot: 0h11m40s  (84.5%)\rEpoch: 22.4%  lr: 0.007988  loss: 0.006699  eta: 0h2m  tot: 0h11m40s  (84.5%)\rEpoch: 22.5%  lr: 0.007958  loss: 0.006691  eta: 0h2m  tot: 0h11m40s  (84.5%)\rEpoch: 22.6%  lr: 0.007948  loss: 0.006680  eta: 0h2m  tot: 0h11m40s  (84.5%)\rEpoch: 22.7%  lr: 0.007928  loss: 0.006692  eta: 0h2m  tot: 0h11m40s  (84.5%)\rEpoch: 22.8%  lr: 0.007908  loss: 0.006693  eta: 0h2m  tot: 0h11m41s  (84.6%)\rEpoch: 22.9%  lr: 0.007908  loss: 0.006696  eta: 0h2m  tot: 0h11m41s  (84.6%)\rEpoch: 23.0%  lr: 0.007898  loss: 0.006692  eta: 0h2m  tot: 0h11m41s  (84.6%)\rEpoch: 23.0%  lr: 0.007878  loss: 0.006686  eta: 0h2m  tot: 0h11m41s  (84.6%)\rEpoch: 23.1%  lr: 0.007868  loss: 0.006675  eta: 0h2m  tot: 0h11m41s  (84.6%)\rEpoch: 23.2%  lr: 0.007868  loss: 0.006685  eta: 0h2m  tot: 0h11m41s  (84.6%)\rEpoch: 23.3%  lr: 0.007848  loss: 0.006684  eta: 0h2m  tot: 0h11m41s  (84.7%)\rEpoch: 23.4%  lr: 0.007838  loss: 0.006679  eta: 0h2m  tot: 0h11m42s  (84.7%)\rEpoch: 23.5%  lr: 0.007838  loss: 0.006671  eta: 0h2m  tot: 0h11m42s  (84.7%)\rEpoch: 23.6%  lr: 0.007828  loss: 0.006671  eta: 0h2m  tot: 0h11m42s  (84.7%)\rEpoch: 23.7%  lr: 0.007828  loss: 0.006661  eta: 0h2m  tot: 0h11m42s  (84.7%)\rEpoch: 23.8%  lr: 0.007808  loss: 0.006653  eta: 0h2m  tot: 0h11m42s  (84.8%)\rEpoch: 23.9%  lr: 0.007798  loss: 0.006649  eta: 0h2m  tot: 0h11m42s  (84.8%)\rEpoch: 23.9%  lr: 0.007798  loss: 0.006645  eta: 0h2m  tot: 0h11m42s  (84.8%)\rEpoch: 24.0%  lr: 0.007758  loss: 0.006649  eta: 0h2m  tot: 0h11m43s  (84.8%)\rEpoch: 24.1%  lr: 0.007748  loss: 0.006657  eta: 0h2m  tot: 0h11m43s  (84.8%)\rEpoch: 24.2%  lr: 0.007738  loss: 0.006650  eta: 0h2m  tot: 0h11m43s  (84.8%)\rEpoch: 24.3%  lr: 0.007728  loss: 0.006636  eta: 0h2m  tot: 0h11m43s  (84.9%)\rEpoch: 24.4%  lr: 0.007718  loss: 0.006630  eta: 0h2m  tot: 0h11m43s  (84.9%)\rEpoch: 24.5%  lr: 0.007698  loss: 0.006623  eta: 0h2m  tot: 0h11m43s  (84.9%)\rEpoch: 24.6%  lr: 0.007698  loss: 0.006632  eta: 0h2m  tot: 0h11m43s  (84.9%)\rEpoch: 24.7%  lr: 0.007688  loss: 0.006618  eta: 0h2m  tot: 0h11m44s  (84.9%)\rEpoch: 24.8%  lr: 0.007678  loss: 0.006635  eta: 0h2m  tot: 0h11m44s  (85.0%)\rEpoch: 24.8%  lr: 0.007658  loss: 0.006622  eta: 0h2m  tot: 0h11m44s  (85.0%)\rEpoch: 24.9%  lr: 0.007638  loss: 0.006639  eta: 0h2m  tot: 0h11m44s  (85.0%)\rEpoch: 25.0%  lr: 0.007628  loss: 0.006652  eta: 0h2m  tot: 0h11m44s  (85.0%)\rEpoch: 25.1%  lr: 0.007628  loss: 0.006639  eta: 0h2m  tot: 0h11m44s  (85.0%)\rEpoch: 25.2%  lr: 0.007628  loss: 0.006639  eta: 0h2m  tot: 0h11m44s  (85.0%)\rEpoch: 25.3%  lr: 0.007618  loss: 0.006625  eta: 0h2m  tot: 0h11m45s  (85.1%)\rEpoch: 25.4%  lr: 0.007608  loss: 0.006618  eta: 0h2m  tot: 0h11m45s  (85.1%)\rEpoch: 25.5%  lr: 0.007598  loss: 0.006622  eta: 0h2m  tot: 0h11m45s  (85.1%)\rEpoch: 25.6%  lr: 0.007598  loss: 0.006614  eta: 0h2m  tot: 0h11m45s  (85.1%)\rEpoch: 25.7%  lr: 0.007578  loss: 0.006599  eta: 0h1m  tot: 0h11m45s  (85.1%)\rEpoch: 25.7%  lr: 0.007578  loss: 0.006637  eta: 0h1m  tot: 0h11m45s  (85.1%)\rEpoch: 25.8%  lr: 0.007518  loss: 0.006618  eta: 0h1m  tot: 0h11m45s  (85.2%)\rEpoch: 25.9%  lr: 0.007508  loss: 0.006608  eta: 0h1m  tot: 0h11m46s  (85.2%)\rEpoch: 26.0%  lr: 0.007488  loss: 0.006627  eta: 0h1m  tot: 0h11m46s  (85.2%)\rEpoch: 26.1%  lr: 0.007478  loss: 0.006630  eta: 0h1m  tot: 0h11m46s  (85.2%)\rEpoch: 26.2%  lr: 0.007468  loss: 0.006617  eta: 0h1m  tot: 0h11m46s  (85.2%)\rEpoch: 26.3%  lr: 0.007457  loss: 0.006633  eta: 0h1m  tot: 0h11m46s  (85.3%)\rEpoch: 26.4%  lr: 0.007457  loss: 0.006635  eta: 0h1m  tot: 0h11m46s  (85.3%)\rEpoch: 26.5%  lr: 0.007447  loss: 0.006637  eta: 0h1m  tot: 0h11m46s  (85.3%)\rEpoch: 26.6%  lr: 0.007427  loss: 0.006647  eta: 0h1m  tot: 0h11m47s  (85.3%)\rEpoch: 26.6%  lr: 0.007397  loss: 0.006657  eta: 0h1m  tot: 0h11m47s  (85.3%)\rEpoch: 26.7%  lr: 0.007377  loss: 0.006678  eta: 0h1m  tot: 0h11m47s  (85.3%)\rEpoch: 26.8%  lr: 0.007367  loss: 0.006684  eta: 0h1m  tot: 0h11m47s  (85.4%)\rEpoch: 26.9%  lr: 0.007367  loss: 0.006684  eta: 0h1m  tot: 0h11m47s  (85.4%)\rEpoch: 27.0%  lr: 0.007357  loss: 0.006678  eta: 0h1m  tot: 0h11m47s  (85.4%)\rEpoch: 27.1%  lr: 0.007347  loss: 0.006660  eta: 0h1m  tot: 0h11m47s  (85.4%)\rEpoch: 27.2%  lr: 0.007317  loss: 0.006662  eta: 0h1m  tot: 0h11m48s  (85.4%)\rEpoch: 27.3%  lr: 0.007317  loss: 0.006650  eta: 0h1m  tot: 0h11m48s  (85.5%)\rEpoch: 27.4%  lr: 0.007297  loss: 0.006654  eta: 0h1m  tot: 0h11m48s  (85.5%)\rEpoch: 27.5%  lr: 0.007287  loss: 0.006649  eta: 0h1m  tot: 0h11m48s  (85.5%)\rEpoch: 27.5%  lr: 0.007287  loss: 0.006634  eta: 0h1m  tot: 0h11m48s  (85.5%)\rEpoch: 27.6%  lr: 0.007287  loss: 0.006642  eta: 0h1m  tot: 0h11m48s  (85.5%)\rEpoch: 27.7%  lr: 0.007287  loss: 0.006626  eta: 0h1m  tot: 0h11m48s  (85.5%)\rEpoch: 27.8%  lr: 0.007287  loss: 0.006616  eta: 0h1m  tot: 0h11m49s  (85.6%)\rEpoch: 27.9%  lr: 0.007287  loss: 0.006610  eta: 0h1m  tot: 0h11m49s  (85.6%)\rEpoch: 28.0%  lr: 0.007277  loss: 0.006608  eta: 0h1m  tot: 0h11m49s  (85.6%)\rEpoch: 28.1%  lr: 0.007277  loss: 0.006598  eta: 0h1m  tot: 0h11m49s  (85.6%)\rEpoch: 28.2%  lr: 0.007277  loss: 0.006599  eta: 0h1m  tot: 0h11m49s  (85.6%)\rEpoch: 28.3%  lr: 0.007267  loss: 0.006589  eta: 0h1m  tot: 0h11m49s  (85.7%)\rEpoch: 28.4%  lr: 0.007267  loss: 0.006585  eta: 0h1m  tot: 0h11m49s  (85.7%)\rEpoch: 28.4%  lr: 0.007247  loss: 0.006598  eta: 0h1m  tot: 0h11m50s  (85.7%)\rEpoch: 28.5%  lr: 0.007247  loss: 0.006589  eta: 0h1m  tot: 0h11m50s  (85.7%)\rEpoch: 28.6%  lr: 0.007247  loss: 0.006580  eta: 0h1m  tot: 0h11m50s  (85.7%)\rEpoch: 28.7%  lr: 0.007247  loss: 0.006584  eta: 0h1m  tot: 0h11m50s  (85.7%)\rEpoch: 28.8%  lr: 0.007247  loss: 0.006579  eta: 0h1m  tot: 0h11m50s  (85.8%)\rEpoch: 28.9%  lr: 0.007237  loss: 0.006578  eta: 0h1m  tot: 0h11m50s  (85.8%)\rEpoch: 29.0%  lr: 0.007237  loss: 0.006576  eta: 0h1m  tot: 0h11m50s  (85.8%)\rEpoch: 29.1%  lr: 0.007237  loss: 0.006589  eta: 0h1m  tot: 0h11m51s  (85.8%)\rEpoch: 29.2%  lr: 0.007227  loss: 0.006583  eta: 0h1m  tot: 0h11m51s  (85.8%)\rEpoch: 29.3%  lr: 0.007207  loss: 0.006590  eta: 0h1m  tot: 0h11m51s  (85.9%)\rEpoch: 29.3%  lr: 0.007207  loss: 0.006585  eta: 0h1m  tot: 0h11m51s  (85.9%)\rEpoch: 29.4%  lr: 0.007197  loss: 0.006610  eta: 0h1m  tot: 0h11m51s  (85.9%)\rEpoch: 29.5%  lr: 0.007197  loss: 0.006603  eta: 0h1m  tot: 0h11m51s  (85.9%)\rEpoch: 29.6%  lr: 0.007187  loss: 0.006615  eta: 0h1m  tot: 0h11m51s  (85.9%)\rEpoch: 29.7%  lr: 0.007167  loss: 0.006606  eta: 0h1m  tot: 0h11m52s  (85.9%)\rEpoch: 29.8%  lr: 0.007157  loss: 0.006594  eta: 0h1m  tot: 0h11m52s  (86.0%)\rEpoch: 29.9%  lr: 0.007137  loss: 0.006597  eta: 0h1m  tot: 0h11m52s  (86.0%)\rEpoch: 30.0%  lr: 0.007127  loss: 0.006584  eta: 0h1m  tot: 0h11m52s  (86.0%)\rEpoch: 30.1%  lr: 0.007127  loss: 0.006577  eta: 0h1m  tot: 0h11m52s  (86.0%)\rEpoch: 30.2%  lr: 0.007107  loss: 0.006593  eta: 0h1m  tot: 0h11m52s  (86.0%)\rEpoch: 30.2%  lr: 0.007087  loss: 0.006585  eta: 0h1m  tot: 0h11m52s  (86.0%)\rEpoch: 30.3%  lr: 0.007087  loss: 0.006582  eta: 0h1m  tot: 0h11m53s  (86.1%)\rEpoch: 30.4%  lr: 0.007077  loss: 0.006572  eta: 0h1m  tot: 0h11m53s  (86.1%)\rEpoch: 30.5%  lr: 0.007077  loss: 0.006576  eta: 0h1m  tot: 0h11m53s  (86.1%)\rEpoch: 30.6%  lr: 0.007067  loss: 0.006562  eta: 0h1m  tot: 0h11m53s  (86.1%)\rEpoch: 30.7%  lr: 0.007057  loss: 0.006550  eta: 0h1m  tot: 0h11m53s  (86.1%)\rEpoch: 30.8%  lr: 0.007047  loss: 0.006548  eta: 0h1m  tot: 0h11m53s  (86.2%)\rEpoch: 30.9%  lr: 0.007047  loss: 0.006549  eta: 0h1m  tot: 0h11m53s  (86.2%)\rEpoch: 31.0%  lr: 0.007047  loss: 0.006536  eta: 0h1m  tot: 0h11m54s  (86.2%)\rEpoch: 31.1%  lr: 0.007047  loss: 0.006521  eta: 0h1m  tot: 0h11m54s  (86.2%)\rEpoch: 31.1%  lr: 0.007037  loss: 0.006519  eta: 0h1m  tot: 0h11m54s  (86.2%)\rEpoch: 31.2%  lr: 0.007037  loss: 0.006531  eta: 0h1m  tot: 0h11m54s  (86.2%)\rEpoch: 31.3%  lr: 0.007027  loss: 0.006543  eta: 0h1m  tot: 0h11m54s  (86.3%)\rEpoch: 31.4%  lr: 0.007017  loss: 0.006551  eta: 0h1m  tot: 0h11m54s  (86.3%)\rEpoch: 31.5%  lr: 0.007017  loss: 0.006561  eta: 0h1m  tot: 0h11m55s  (86.3%)\rEpoch: 31.6%  lr: 0.007007  loss: 0.006560  eta: 0h1m  tot: 0h11m55s  (86.3%)\rEpoch: 31.7%  lr: 0.006987  loss: 0.006545  eta: 0h1m  tot: 0h11m55s  (86.3%)\rEpoch: 31.8%  lr: 0.006987  loss: 0.006541  eta: 0h1m  tot: 0h11m55s  (86.4%)\rEpoch: 31.9%  lr: 0.006967  loss: 0.006535  eta: 0h1m  tot: 0h11m55s  (86.4%)\rEpoch: 32.0%  lr: 0.006957  loss: 0.006526  eta: 0h1m  tot: 0h11m55s  (86.4%)\rEpoch: 32.0%  lr: 0.006947  loss: 0.006551  eta: 0h1m  tot: 0h11m55s  (86.4%)\rEpoch: 32.1%  lr: 0.006937  loss: 0.006554  eta: 0h1m  tot: 0h11m56s  (86.4%)\rEpoch: 32.2%  lr: 0.006937  loss: 0.006544  eta: 0h1m  tot: 0h11m56s  (86.4%)\rEpoch: 32.3%  lr: 0.006917  loss: 0.006545  eta: 0h1m  tot: 0h11m56s  (86.5%)\rEpoch: 32.4%  lr: 0.006907  loss: 0.006541  eta: 0h1m  tot: 0h11m56s  (86.5%)\rEpoch: 32.5%  lr: 0.006907  loss: 0.006531  eta: 0h1m  tot: 0h11m56s  (86.5%)\rEpoch: 32.6%  lr: 0.006897  loss: 0.006521  eta: 0h1m  tot: 0h11m56s  (86.5%)\rEpoch: 32.7%  lr: 0.006887  loss: 0.006538  eta: 0h1m  tot: 0h11m56s  (86.5%)\rEpoch: 32.8%  lr: 0.006877  loss: 0.006530  eta: 0h1m  tot: 0h11m57s  (86.6%)\rEpoch: 32.9%  lr: 0.006857  loss: 0.006535  eta: 0h1m  tot: 0h11m57s  (86.6%)\rEpoch: 32.9%  lr: 0.006857  loss: 0.006534  eta: 0h1m  tot: 0h11m57s  (86.6%)\rEpoch: 33.0%  lr: 0.006837  loss: 0.006524  eta: 0h1m  tot: 0h11m57s  (86.6%)\rEpoch: 33.1%  lr: 0.006827  loss: 0.006518  eta: 0h1m  tot: 0h11m57s  (86.6%)\rEpoch: 33.2%  lr: 0.006817  loss: 0.006520  eta: 0h1m  tot: 0h11m57s  (86.6%)\rEpoch: 33.3%  lr: 0.006817  loss: 0.006516  eta: 0h1m  tot: 0h11m58s  (86.7%)\rEpoch: 33.4%  lr: 0.006817  loss: 0.006513  eta: 0h1m  tot: 0h11m58s  (86.7%)\rEpoch: 33.5%  lr: 0.006777  loss: 0.006505  eta: 0h1m  tot: 0h11m58s  (86.7%)\rEpoch: 33.6%  lr: 0.006777  loss: 0.006507  eta: 0h1m  tot: 0h11m58s  (86.7%)\rEpoch: 33.7%  lr: 0.006757  loss: 0.006494  eta: 0h1m  tot: 0h11m58s  (86.7%)\rEpoch: 33.8%  lr: 0.006737  loss: 0.006495  eta: 0h1m  tot: 0h11m58s  (86.8%)\rEpoch: 33.8%  lr: 0.006727  loss: 0.006539  eta: 0h1m  tot: 0h11m58s  (86.8%)\rEpoch: 33.9%  lr: 0.006717  loss: 0.006527  eta: 0h1m  tot: 0h11m59s  (86.8%)\rEpoch: 34.0%  lr: 0.006717  loss: 0.006525  eta: 0h1m  tot: 0h11m59s  (86.8%)\rEpoch: 34.1%  lr: 0.006717  loss: 0.006528  eta: 0h1m  tot: 0h11m59s  (86.8%)\rEpoch: 34.2%  lr: 0.006697  loss: 0.006533  eta: 0h1m  tot: 0h11m59s  (86.8%)\rEpoch: 34.3%  lr: 0.006667  loss: 0.006527  eta: 0h1m  tot: 0h11m59s  (86.9%)\rEpoch: 34.4%  lr: 0.006657  loss: 0.006526  eta: 0h1m  tot: 0h11m59s  (86.9%)\rEpoch: 34.5%  lr: 0.006657  loss: 0.006515  eta: 0h1m  tot: 0h11m59s  (86.9%)\rEpoch: 34.6%  lr: 0.006647  loss: 0.006506  eta: 0h1m  tot: 0h12m0s  (86.9%)\rEpoch: 34.7%  lr: 0.006637  loss: 0.006497  eta: 0h1m  tot: 0h12m0s  (86.9%)\rEpoch: 34.7%  lr: 0.006617  loss: 0.006482  eta: 0h1m  tot: 0h12m0s  (86.9%)\rEpoch: 34.8%  lr: 0.006617  loss: 0.006479  eta: 0h1m  tot: 0h12m0s  (87.0%)\rEpoch: 34.9%  lr: 0.006617  loss: 0.006480  eta: 0h1m  tot: 0h12m0s  (87.0%)\rEpoch: 35.0%  lr: 0.006617  loss: 0.006482  eta: 0h1m  tot: 0h12m0s  (87.0%)\rEpoch: 35.1%  lr: 0.006607  loss: 0.006481  eta: 0h1m  tot: 0h12m0s  (87.0%)\rEpoch: 35.2%  lr: 0.006607  loss: 0.006470  eta: 0h1m  tot: 0h12m1s  (87.0%)\rEpoch: 35.3%  lr: 0.006567  loss: 0.006472  eta: 0h1m  tot: 0h12m1s  (87.1%)\rEpoch: 35.4%  lr: 0.006567  loss: 0.006502  eta: 0h1m  tot: 0h12m1s  (87.1%)\rEpoch: 35.5%  lr: 0.006547  loss: 0.006502  eta: 0h1m  tot: 0h12m1s  (87.1%)\rEpoch: 35.6%  lr: 0.006547  loss: 0.006490  eta: 0h1m  tot: 0h12m1s  (87.1%)\rEpoch: 35.6%  lr: 0.006547  loss: 0.006502  eta: 0h1m  tot: 0h12m1s  (87.1%)\rEpoch: 35.7%  lr: 0.006537  loss: 0.006499  eta: 0h1m  tot: 0h12m1s  (87.1%)\rEpoch: 35.8%  lr: 0.006537  loss: 0.006486  eta: 0h1m  tot: 0h12m2s  (87.2%)\rEpoch: 35.9%  lr: 0.006507  loss: 0.006504  eta: 0h1m  tot: 0h12m2s  (87.2%)\rEpoch: 36.0%  lr: 0.006507  loss: 0.006505  eta: 0h1m  tot: 0h12m2s  (87.2%)\rEpoch: 36.1%  lr: 0.006497  loss: 0.006495  eta: 0h1m  tot: 0h12m2s  (87.2%)\rEpoch: 36.2%  lr: 0.006497  loss: 0.006493  eta: 0h1m  tot: 0h12m2s  (87.2%)\rEpoch: 36.3%  lr: 0.006487  loss: 0.006503  eta: 0h1m  tot: 0h12m2s  (87.3%)\rEpoch: 36.4%  lr: 0.006487  loss: 0.006499  eta: 0h1m  tot: 0h12m2s  (87.3%)\rEpoch: 36.5%  lr: 0.006477  loss: 0.006502  eta: 0h1m  tot: 0h12m3s  (87.3%)\rEpoch: 36.5%  lr: 0.006477  loss: 0.006499  eta: 0h1m  tot: 0h12m3s  (87.3%)\rEpoch: 36.6%  lr: 0.006477  loss: 0.006487  eta: 0h1m  tot: 0h12m3s  (87.3%)\rEpoch: 36.7%  lr: 0.006477  loss: 0.006479  eta: 0h1m  tot: 0h12m3s  (87.3%)\rEpoch: 36.8%  lr: 0.006467  loss: 0.006492  eta: 0h1m  tot: 0h12m3s  (87.4%)\rEpoch: 36.9%  lr: 0.006467  loss: 0.006486  eta: 0h1m  tot: 0h12m3s  (87.4%)\rEpoch: 37.0%  lr: 0.006467  loss: 0.006474  eta: 0h1m  tot: 0h12m3s  (87.4%)\rEpoch: 37.1%  lr: 0.006457  loss: 0.006473  eta: 0h1m  tot: 0h12m4s  (87.4%)\rEpoch: 37.2%  lr: 0.006447  loss: 0.006468  eta: 0h1m  tot: 0h12m4s  (87.4%)\rEpoch: 37.3%  lr: 0.006447  loss: 0.006467  eta: 0h1m  tot: 0h12m4s  (87.5%)\rEpoch: 37.4%  lr: 0.006447  loss: 0.006456  eta: 0h1m  tot: 0h12m4s  (87.5%)\rEpoch: 37.4%  lr: 0.006447  loss: 0.006448  eta: 0h1m  tot: 0h12m4s  (87.5%)\rEpoch: 37.5%  lr: 0.006416  loss: 0.006446  eta: 0h1m  tot: 0h12m4s  (87.5%)\rEpoch: 37.6%  lr: 0.006416  loss: 0.006444  eta: 0h1m  tot: 0h12m4s  (87.5%)\rEpoch: 37.7%  lr: 0.006416  loss: 0.006439  eta: 0h1m  tot: 0h12m5s  (87.5%)\rEpoch: 37.8%  lr: 0.006396  loss: 0.006430  eta: 0h1m  tot: 0h12m5s  (87.6%)\rEpoch: 37.9%  lr: 0.006386  loss: 0.006435  eta: 0h1m  tot: 0h12m5s  (87.6%)\rEpoch: 38.0%  lr: 0.006386  loss: 0.006437  eta: 0h1m  tot: 0h12m5s  (87.6%)\rEpoch: 38.1%  lr: 0.006386  loss: 0.006437  eta: 0h1m  tot: 0h12m5s  (87.6%)\rEpoch: 38.2%  lr: 0.006386  loss: 0.006448  eta: 0h1m  tot: 0h12m5s  (87.6%)\rEpoch: 38.3%  lr: 0.006376  loss: 0.006444  eta: 0h1m  tot: 0h12m5s  (87.7%)\rEpoch: 38.3%  lr: 0.006376  loss: 0.006443  eta: 0h1m  tot: 0h12m6s  (87.7%)\rEpoch: 38.4%  lr: 0.006346  loss: 0.006444  eta: 0h1m  tot: 0h12m6s  (87.7%)\rEpoch: 38.5%  lr: 0.006336  loss: 0.006437  eta: 0h1m  tot: 0h12m6s  (87.7%)\rEpoch: 38.6%  lr: 0.006336  loss: 0.006430  eta: 0h1m  tot: 0h12m6s  (87.7%)\rEpoch: 38.7%  lr: 0.006326  loss: 0.006428  eta: 0h1m  tot: 0h12m6s  (87.7%)\rEpoch: 38.8%  lr: 0.006316  loss: 0.006423  eta: 0h1m  tot: 0h12m6s  (87.8%)\rEpoch: 38.9%  lr: 0.006296  loss: 0.006440  eta: 0h1m  tot: 0h12m7s  (87.8%)\rEpoch: 39.0%  lr: 0.006286  loss: 0.006449  eta: 0h1m  tot: 0h12m7s  (87.8%)\rEpoch: 39.1%  lr: 0.006286  loss: 0.006448  eta: 0h1m  tot: 0h12m7s  (87.8%)\rEpoch: 39.2%  lr: 0.006286  loss: 0.006449  eta: 0h1m  tot: 0h12m7s  (87.8%)\rEpoch: 39.2%  lr: 0.006276  loss: 0.006448  eta: 0h1m  tot: 0h12m7s  (87.8%)\rEpoch: 39.3%  lr: 0.006256  loss: 0.006445  eta: 0h1m  tot: 0h12m7s  (87.9%)\rEpoch: 39.4%  lr: 0.006246  loss: 0.006438  eta: 0h1m  tot: 0h12m7s  (87.9%)\rEpoch: 39.5%  lr: 0.006246  loss: 0.006430  eta: 0h1m  tot: 0h12m8s  (87.9%)\rEpoch: 39.6%  lr: 0.006236  loss: 0.006439  eta: 0h1m  tot: 0h12m8s  (87.9%)\rEpoch: 39.7%  lr: 0.006206  loss: 0.006441  eta: 0h1m  tot: 0h12m8s  (87.9%)\rEpoch: 39.8%  lr: 0.006186  loss: 0.006429  eta: 0h1m  tot: 0h12m8s  (88.0%)\rEpoch: 39.9%  lr: 0.006176  loss: 0.006434  eta: 0h1m  tot: 0h12m8s  (88.0%)\rEpoch: 40.0%  lr: 0.006156  loss: 0.006433  eta: 0h1m  tot: 0h12m8s  (88.0%)\rEpoch: 40.1%  lr: 0.006146  loss: 0.006426  eta: 0h1m  tot: 0h12m8s  (88.0%)\rEpoch: 40.1%  lr: 0.006136  loss: 0.006439  eta: 0h1m  tot: 0h12m9s  (88.0%)\rEpoch: 40.2%  lr: 0.006116  loss: 0.006429  eta: 0h1m  tot: 0h12m9s  (88.0%)\rEpoch: 40.3%  lr: 0.006116  loss: 0.006424  eta: 0h1m  tot: 0h12m9s  (88.1%)\rEpoch: 40.4%  lr: 0.006106  loss: 0.006431  eta: 0h1m  tot: 0h12m9s  (88.1%)\rEpoch: 40.5%  lr: 0.006096  loss: 0.006432  eta: 0h1m  tot: 0h12m9s  (88.1%)\rEpoch: 40.6%  lr: 0.006056  loss: 0.006420  eta: 0h1m  tot: 0h12m9s  (88.1%)\rEpoch: 40.7%  lr: 0.006056  loss: 0.006415  eta: 0h1m  tot: 0h12m9s  (88.1%)\rEpoch: 40.8%  lr: 0.006056  loss: 0.006414  eta: 0h1m  tot: 0h12m10s  (88.2%)\rEpoch: 40.9%  lr: 0.006056  loss: 0.006408  eta: 0h1m  tot: 0h12m10s  (88.2%)\rEpoch: 41.0%  lr: 0.006056  loss: 0.006418  eta: 0h1m  tot: 0h12m10s  (88.2%)\rEpoch: 41.0%  lr: 0.006036  loss: 0.006416  eta: 0h1m  tot: 0h12m10s  (88.2%)\rEpoch: 41.1%  lr: 0.006016  loss: 0.006407  eta: 0h1m  tot: 0h12m10s  (88.2%)\rEpoch: 41.2%  lr: 0.006006  loss: 0.006394  eta: 0h1m  tot: 0h12m10s  (88.2%)\rEpoch: 41.3%  lr: 0.006006  loss: 0.006406  eta: 0h1m  tot: 0h12m10s  (88.3%)\rEpoch: 41.4%  lr: 0.005996  loss: 0.006412  eta: 0h1m  tot: 0h12m11s  (88.3%)\rEpoch: 41.5%  lr: 0.005996  loss: 0.006422  eta: 0h1m  tot: 0h12m11s  (88.3%)\rEpoch: 41.6%  lr: 0.005976  loss: 0.006426  eta: 0h1m  tot: 0h12m11s  (88.3%)\rEpoch: 41.7%  lr: 0.005976  loss: 0.006432  eta: 0h1m  tot: 0h12m11s  (88.3%)\rEpoch: 41.8%  lr: 0.005966  loss: 0.006425  eta: 0h1m  tot: 0h12m11s  (88.4%)\rEpoch: 41.9%  lr: 0.005936  loss: 0.006426  eta: 0h1m  tot: 0h12m11s  (88.4%)\rEpoch: 42.0%  lr: 0.005936  loss: 0.006420  eta: 0h1m  tot: 0h12m11s  (88.4%)\rEpoch: 42.0%  lr: 0.005926  loss: 0.006415  eta: 0h1m  tot: 0h12m12s  (88.4%)\rEpoch: 42.1%  lr: 0.005926  loss: 0.006408  eta: 0h1m  tot: 0h12m12s  (88.4%)\rEpoch: 42.2%  lr: 0.005926  loss: 0.006404  eta: 0h1m  tot: 0h12m12s  (88.4%)\rEpoch: 42.3%  lr: 0.005926  loss: 0.006400  eta: 0h1m  tot: 0h12m12s  (88.5%)\rEpoch: 42.4%  lr: 0.005926  loss: 0.006409  eta: 0h1m  tot: 0h12m12s  (88.5%)\rEpoch: 42.5%  lr: 0.005896  loss: 0.006406  eta: 0h1m  tot: 0h12m12s  (88.5%)\rEpoch: 42.6%  lr: 0.005886  loss: 0.006405  eta: 0h1m  tot: 0h12m12s  (88.5%)\rEpoch: 42.7%  lr: 0.005876  loss: 0.006408  eta: 0h1m  tot: 0h12m13s  (88.5%)\rEpoch: 42.8%  lr: 0.005876  loss: 0.006409  eta: 0h1m  tot: 0h12m13s  (88.6%)\rEpoch: 42.9%  lr: 0.005876  loss: 0.006403  eta: 0h1m  tot: 0h12m13s  (88.6%)\rEpoch: 42.9%  lr: 0.005876  loss: 0.006410  eta: 0h1m  tot: 0h12m13s  (88.6%)\rEpoch: 43.0%  lr: 0.005876  loss: 0.006397  eta: 0h1m  tot: 0h12m13s  (88.6%)\rEpoch: 43.1%  lr: 0.005876  loss: 0.006396  eta: 0h1m  tot: 0h12m13s  (88.6%)\rEpoch: 43.2%  lr: 0.005866  loss: 0.006387  eta: 0h1m  tot: 0h12m13s  (88.6%)\rEpoch: 43.3%  lr: 0.005846  loss: 0.006391  eta: 0h1m  tot: 0h12m14s  (88.7%)\rEpoch: 43.4%  lr: 0.005836  loss: 0.006406  eta: 0h1m  tot: 0h12m14s  (88.7%)\rEpoch: 43.5%  lr: 0.005836  loss: 0.006407  eta: 0h1m  tot: 0h12m14s  (88.7%)\rEpoch: 43.6%  lr: 0.005826  loss: 0.006404  eta: 0h1m  tot: 0h12m14s  (88.7%)\rEpoch: 43.7%  lr: 0.005826  loss: 0.006403  eta: 0h1m  tot: 0h12m14s  (88.7%)\rEpoch: 43.8%  lr: 0.005816  loss: 0.006398  eta: 0h1m  tot: 0h12m14s  (88.8%)\rEpoch: 43.8%  lr: 0.005796  loss: 0.006391  eta: 0h1m  tot: 0h12m15s  (88.8%)\rEpoch: 43.9%  lr: 0.005796  loss: 0.006388  eta: 0h1m  tot: 0h12m15s  (88.8%)\rEpoch: 44.0%  lr: 0.005796  loss: 0.006393  eta: 0h1m  tot: 0h12m15s  (88.8%)\rEpoch: 44.1%  lr: 0.005786  loss: 0.006392  eta: 0h1m  tot: 0h12m15s  (88.8%)\rEpoch: 44.2%  lr: 0.005746  loss: 0.006391  eta: 0h1m  tot: 0h12m15s  (88.8%)\rEpoch: 44.3%  lr: 0.005726  loss: 0.006394  eta: 0h1m  tot: 0h12m15s  (88.9%)\rEpoch: 44.4%  lr: 0.005706  loss: 0.006404  eta: 0h1m  tot: 0h12m15s  (88.9%)\rEpoch: 44.5%  lr: 0.005696  loss: 0.006405  eta: 0h1m  tot: 0h12m16s  (88.9%)\rEpoch: 44.6%  lr: 0.005696  loss: 0.006396  eta: 0h1m  tot: 0h12m16s  (88.9%)\rEpoch: 44.7%  lr: 0.005686  loss: 0.006391  eta: 0h1m  tot: 0h12m16s  (88.9%)\rEpoch: 44.7%  lr: 0.005676  loss: 0.006401  eta: 0h1m  tot: 0h12m16s  (88.9%)\rEpoch: 44.8%  lr: 0.005676  loss: 0.006394  eta: 0h1m  tot: 0h12m16s  (89.0%)\rEpoch: 44.9%  lr: 0.005666  loss: 0.006389  eta: 0h1m  tot: 0h12m16s  (89.0%)\rEpoch: 45.0%  lr: 0.005666  loss: 0.006385  eta: 0h1m  tot: 0h12m16s  (89.0%)\rEpoch: 45.1%  lr: 0.005666  loss: 0.006380  eta: 0h1m  tot: 0h12m17s  (89.0%)\rEpoch: 45.2%  lr: 0.005666  loss: 0.006375  eta: 0h1m  tot: 0h12m17s  (89.0%)\rEpoch: 45.3%  lr: 0.005656  loss: 0.006376  eta: 0h1m  tot: 0h12m17s  (89.1%)\rEpoch: 45.4%  lr: 0.005646  loss: 0.006372  eta: 0h1m  tot: 0h12m17s  (89.1%)\rEpoch: 45.5%  lr: 0.005626  loss: 0.006369  eta: 0h1m  tot: 0h12m17s  (89.1%)\rEpoch: 45.6%  lr: 0.005606  loss: 0.006363  eta: 0h1m  tot: 0h12m17s  (89.1%)\rEpoch: 45.6%  lr: 0.005606  loss: 0.006360  eta: 0h1m  tot: 0h12m17s  (89.1%)\rEpoch: 45.7%  lr: 0.005606  loss: 0.006372  eta: 0h1m  tot: 0h12m17s  (89.1%)\rEpoch: 45.8%  lr: 0.005596  loss: 0.006367  eta: 0h1m  tot: 0h12m18s  (89.2%)\rEpoch: 45.9%  lr: 0.005596  loss: 0.006366  eta: 0h1m  tot: 0h12m18s  (89.2%)\rEpoch: 46.0%  lr: 0.005576  loss: 0.006365  eta: 0h1m  tot: 0h12m18s  (89.2%)\rEpoch: 46.1%  lr: 0.005566  loss: 0.006364  eta: 0h1m  tot: 0h12m18s  (89.2%)\rEpoch: 46.2%  lr: 0.005546  loss: 0.006370  eta: 0h1m  tot: 0h12m18s  (89.2%)\rEpoch: 46.3%  lr: 0.005536  loss: 0.006367  eta: 0h1m  tot: 0h12m18s  (89.3%)\rEpoch: 46.4%  lr: 0.005516  loss: 0.006375  eta: 0h1m  tot: 0h12m19s  (89.3%)\rEpoch: 46.5%  lr: 0.005506  loss: 0.006376  eta: 0h1m  tot: 0h12m19s  (89.3%)\rEpoch: 46.5%  lr: 0.005506  loss: 0.006384  eta: 0h1m  tot: 0h12m19s  (89.3%)\rEpoch: 46.6%  lr: 0.005506  loss: 0.006381  eta: 0h1m  tot: 0h12m19s  (89.3%)\rEpoch: 46.7%  lr: 0.005506  loss: 0.006394  eta: 0h1m  tot: 0h12m19s  (89.3%)\rEpoch: 46.8%  lr: 0.005476  loss: 0.006389  eta: 0h1m  tot: 0h12m19s  (89.4%)\rEpoch: 46.9%  lr: 0.005476  loss: 0.006388  eta: 0h1m  tot: 0h12m19s  (89.4%)\rEpoch: 47.0%  lr: 0.005466  loss: 0.006386  eta: 0h1m  tot: 0h12m20s  (89.4%)\rEpoch: 47.1%  lr: 0.005466  loss: 0.006388  eta: 0h1m  tot: 0h12m20s  (89.4%)\rEpoch: 47.2%  lr: 0.005456  loss: 0.006399  eta: 0h1m  tot: 0h12m20s  (89.4%)\rEpoch: 47.3%  lr: 0.005436  loss: 0.006395  eta: 0h1m  tot: 0h12m20s  (89.5%)\rEpoch: 47.4%  lr: 0.005436  loss: 0.006402  eta: 0h1m  tot: 0h12m20s  (89.5%)\rEpoch: 47.4%  lr: 0.005425  loss: 0.006405  eta: 0h1m  tot: 0h12m20s  (89.5%)\rEpoch: 47.5%  lr: 0.005415  loss: 0.006404  eta: 0h1m  tot: 0h12m20s  (89.5%)\rEpoch: 47.6%  lr: 0.005405  loss: 0.006401  eta: 0h1m  tot: 0h12m21s  (89.5%)\rEpoch: 47.7%  lr: 0.005405  loss: 0.006400  eta: 0h1m  tot: 0h12m21s  (89.5%)\rEpoch: 47.8%  lr: 0.005405  loss: 0.006410  eta: 0h1m  tot: 0h12m21s  (89.6%)\rEpoch: 47.9%  lr: 0.005395  loss: 0.006426  eta: 0h1m  tot: 0h12m21s  (89.6%)\rEpoch: 48.0%  lr: 0.005375  loss: 0.006421  eta: 0h1m  tot: 0h12m21s  (89.6%)\rEpoch: 48.1%  lr: 0.005335  loss: 0.006428  eta: 0h1m  tot: 0h12m21s  (89.6%)\rEpoch: 48.2%  lr: 0.005335  loss: 0.006425  eta: 0h1m  tot: 0h12m21s  (89.6%)\rEpoch: 48.3%  lr: 0.005315  loss: 0.006424  eta: 0h1m  tot: 0h12m22s  (89.7%)\rEpoch: 48.3%  lr: 0.005295  loss: 0.006433  eta: 0h1m  tot: 0h12m22s  (89.7%)\rEpoch: 48.4%  lr: 0.005275  loss: 0.006434  eta: 0h1m  tot: 0h12m22s  (89.7%)\rEpoch: 48.5%  lr: 0.005255  loss: 0.006442  eta: 0h1m  tot: 0h12m22s  (89.7%)\rEpoch: 48.6%  lr: 0.005245  loss: 0.006438  eta: 0h1m  tot: 0h12m22s  (89.7%)\rEpoch: 48.7%  lr: 0.005245  loss: 0.006438  eta: 0h1m  tot: 0h12m22s  (89.7%)\rEpoch: 48.8%  lr: 0.005235  loss: 0.006436  eta: 0h1m  tot: 0h12m22s  (89.8%)\rEpoch: 48.9%  lr: 0.005225  loss: 0.006454  eta: 0h1m  tot: 0h12m23s  (89.8%)\rEpoch: 49.0%  lr: 0.005215  loss: 0.006451  eta: 0h1m  tot: 0h12m23s  (89.8%)\rEpoch: 49.1%  lr: 0.005205  loss: 0.006455  eta: 0h1m  tot: 0h12m23s  (89.8%)\rEpoch: 49.2%  lr: 0.005195  loss: 0.006459  eta: 0h1m  tot: 0h12m23s  (89.8%)\rEpoch: 49.2%  lr: 0.005185  loss: 0.006455  eta: 0h1m  tot: 0h12m23s  (89.8%)\rEpoch: 49.3%  lr: 0.005175  loss: 0.006462  eta: 0h1m  tot: 0h12m23s  (89.9%)\rEpoch: 49.4%  lr: 0.005175  loss: 0.006458  eta: 0h1m  tot: 0h12m23s  (89.9%)\rEpoch: 49.5%  lr: 0.005165  loss: 0.006463  eta: 0h1m  tot: 0h12m24s  (89.9%)\rEpoch: 49.6%  lr: 0.005165  loss: 0.006454  eta: 0h1m  tot: 0h12m24s  (89.9%)\rEpoch: 49.7%  lr: 0.005165  loss: 0.006449  eta: 0h1m  tot: 0h12m24s  (89.9%)\rEpoch: 49.8%  lr: 0.005165  loss: 0.006452  eta: 0h1m  tot: 0h12m24s  (90.0%)\rEpoch: 49.9%  lr: 0.005165  loss: 0.006447  eta: 0h1m  tot: 0h12m24s  (90.0%)\rEpoch: 50.0%  lr: 0.005165  loss: 0.006444  eta: 0h1m  tot: 0h12m24s  (90.0%)\rEpoch: 50.1%  lr: 0.005145  loss: 0.006441  eta: 0h1m  tot: 0h12m24s  (90.0%)\rEpoch: 50.1%  lr: 0.005135  loss: 0.006442  eta: 0h1m  tot: 0h12m25s  (90.0%)\rEpoch: 50.2%  lr: 0.005125  loss: 0.006441  eta: 0h1m  tot: 0h12m25s  (90.0%)\rEpoch: 50.3%  lr: 0.005115  loss: 0.006437  eta: 0h1m  tot: 0h12m25s  (90.1%)\rEpoch: 50.4%  lr: 0.005105  loss: 0.006431  eta: 0h1m  tot: 0h12m25s  (90.1%)\rEpoch: 50.5%  lr: 0.005095  loss: 0.006431  eta: 0h1m  tot: 0h12m25s  (90.1%)\rEpoch: 50.6%  lr: 0.005075  loss: 0.006434  eta: 0h1m  tot: 0h12m25s  (90.1%)\rEpoch: 50.7%  lr: 0.005075  loss: 0.006433  eta: 0h1m  tot: 0h12m26s  (90.1%)\rEpoch: 50.8%  lr: 0.005075  loss: 0.006433  eta: 0h1m  tot: 0h12m26s  (90.2%)\rEpoch: 50.9%  lr: 0.005075  loss: 0.006452  eta: 0h1m  tot: 0h12m26s  (90.2%)\rEpoch: 51.0%  lr: 0.005055  loss: 0.006450  eta: 0h1m  tot: 0h12m26s  (90.2%)\rEpoch: 51.0%  lr: 0.005045  loss: 0.006448  eta: 0h1m  tot: 0h12m26s  (90.2%)\rEpoch: 51.1%  lr: 0.005035  loss: 0.006446  eta: 0h1m  tot: 0h12m26s  (90.2%)\rEpoch: 51.2%  lr: 0.005035  loss: 0.006442  eta: 0h1m  tot: 0h12m26s  (90.2%)\rEpoch: 51.3%  lr: 0.005035  loss: 0.006435  eta: 0h1m  tot: 0h12m27s  (90.3%)\rEpoch: 51.4%  lr: 0.005035  loss: 0.006442  eta: 0h1m  tot: 0h12m27s  (90.3%)\rEpoch: 51.5%  lr: 0.005035  loss: 0.006456  eta: 0h1m  tot: 0h12m27s  (90.3%)\rEpoch: 51.6%  lr: 0.005035  loss: 0.006477  eta: 0h1m  tot: 0h12m27s  (90.3%)\rEpoch: 51.7%  lr: 0.005025  loss: 0.006478  eta: 0h1m  tot: 0h12m27s  (90.3%)\rEpoch: 51.8%  lr: 0.005015  loss: 0.006475  eta: 0h1m  tot: 0h12m27s  (90.4%)\rEpoch: 51.9%  lr: 0.004995  loss: 0.006479  eta: 0h1m  tot: 0h12m27s  (90.4%)\rEpoch: 51.9%  lr: 0.004985  loss: 0.006473  eta: 0h1m  tot: 0h12m28s  (90.4%)\rEpoch: 52.0%  lr: 0.004975  loss: 0.006473  eta: 0h1m  tot: 0h12m28s  (90.4%)\rEpoch: 52.1%  lr: 0.004965  loss: 0.006465  eta: 0h1m  tot: 0h12m28s  (90.4%)\rEpoch: 52.2%  lr: 0.004955  loss: 0.006461  eta: 0h1m  tot: 0h12m28s  (90.4%)\rEpoch: 52.3%  lr: 0.004925  loss: 0.006461  eta: 0h1m  tot: 0h12m28s  (90.5%)\rEpoch: 52.4%  lr: 0.004915  loss: 0.006466  eta: 0h1m  tot: 0h12m28s  (90.5%)\rEpoch: 52.5%  lr: 0.004905  loss: 0.006464  eta: 0h1m  tot: 0h12m28s  (90.5%)\rEpoch: 52.6%  lr: 0.004905  loss: 0.006470  eta: 0h1m  tot: 0h12m29s  (90.5%)\rEpoch: 52.7%  lr: 0.004885  loss: 0.006469  eta: 0h1m  tot: 0h12m29s  (90.5%)\rEpoch: 52.8%  lr: 0.004885  loss: 0.006467  eta: 0h1m  tot: 0h12m29s  (90.6%)\rEpoch: 52.8%  lr: 0.004885  loss: 0.006459  eta: 0h1m  tot: 0h12m29s  (90.6%)\rEpoch: 52.9%  lr: 0.004885  loss: 0.006471  eta: 0h1m  tot: 0h12m29s  (90.6%)\rEpoch: 53.0%  lr: 0.004855  loss: 0.006498  eta: 0h1m  tot: 0h12m29s  (90.6%)\rEpoch: 53.1%  lr: 0.004855  loss: 0.006494  eta: 0h1m  tot: 0h12m30s  (90.6%)\rEpoch: 53.2%  lr: 0.004845  loss: 0.006492  eta: 0h1m  tot: 0h12m30s  (90.6%)\rEpoch: 53.3%  lr: 0.004835  loss: 0.006487  eta: 0h1m  tot: 0h12m30s  (90.7%)\rEpoch: 53.4%  lr: 0.004825  loss: 0.006493  eta: 0h1m  tot: 0h12m30s  (90.7%)\rEpoch: 53.5%  lr: 0.004815  loss: 0.006500  eta: 0h1m  tot: 0h12m30s  (90.7%)\rEpoch: 53.6%  lr: 0.004815  loss: 0.006492  eta: 0h1m  tot: 0h12m30s  (90.7%)\rEpoch: 53.7%  lr: 0.004805  loss: 0.006495  eta: 0h1m  tot: 0h12m30s  (90.7%)\rEpoch: 53.7%  lr: 0.004805  loss: 0.006490  eta: 0h1m  tot: 0h12m30s  (90.7%)\rEpoch: 53.8%  lr: 0.004795  loss: 0.006489  eta: 0h1m  tot: 0h12m31s  (90.8%)\rEpoch: 53.9%  lr: 0.004775  loss: 0.006494  eta: 0h1m  tot: 0h12m31s  (90.8%)\rEpoch: 54.0%  lr: 0.004755  loss: 0.006497  eta: 0h1m  tot: 0h12m31s  (90.8%)\rEpoch: 54.1%  lr: 0.004755  loss: 0.006497  eta: 0h1m  tot: 0h12m31s  (90.8%)\rEpoch: 54.2%  lr: 0.004755  loss: 0.006497  eta: 0h1m  tot: 0h12m31s  (90.8%)\rEpoch: 54.3%  lr: 0.004745  loss: 0.006510  eta: 0h1m  tot: 0h12m31s  (90.9%)\rEpoch: 54.4%  lr: 0.004725  loss: 0.006508  eta: 0h1m  tot: 0h12m32s  (90.9%)\rEpoch: 54.5%  lr: 0.004705  loss: 0.006506  eta: 0h1m  tot: 0h12m32s  (90.9%)\rEpoch: 54.6%  lr: 0.004695  loss: 0.006505  eta: 0h1m  tot: 0h12m32s  (90.9%)\rEpoch: 54.6%  lr: 0.004665  loss: 0.006503  eta: 0h1m  tot: 0h12m32s  (90.9%)\rEpoch: 54.7%  lr: 0.004645  loss: 0.006503  eta: 0h1m  tot: 0h12m32s  (90.9%)\rEpoch: 54.8%  lr: 0.004645  loss: 0.006502  eta: 0h1m  tot: 0h12m32s  (91.0%)\rEpoch: 54.9%  lr: 0.004635  loss: 0.006497  eta: 0h1m  tot: 0h12m32s  (91.0%)\rEpoch: 55.0%  lr: 0.004625  loss: 0.006492  eta: 0h1m  tot: 0h12m32s  (91.0%)\rEpoch: 55.1%  lr: 0.004615  loss: 0.006489  eta: 0h1m  tot: 0h12m33s  (91.0%)\rEpoch: 55.2%  lr: 0.004595  loss: 0.006494  eta: 0h1m  tot: 0h12m33s  (91.0%)\rEpoch: 55.3%  lr: 0.004595  loss: 0.006492  eta: 0h1m  tot: 0h12m33s  (91.1%)\rEpoch: 55.4%  lr: 0.004595  loss: 0.006490  eta: 0h1m  tot: 0h12m33s  (91.1%)\rEpoch: 55.5%  lr: 0.004585  loss: 0.006486  eta: 0h1m  tot: 0h12m33s  (91.1%)\rEpoch: 55.5%  lr: 0.004555  loss: 0.006482  eta: 0h1m  tot: 0h12m33s  (91.1%)\rEpoch: 55.6%  lr: 0.004555  loss: 0.006487  eta: 0h1m  tot: 0h12m33s  (91.1%)\rEpoch: 55.7%  lr: 0.004555  loss: 0.006486  eta: 0h1m  tot: 0h12m34s  (91.1%)\rEpoch: 55.8%  lr: 0.004555  loss: 0.006484  eta: 0h1m  tot: 0h12m34s  (91.2%)\rEpoch: 55.9%  lr: 0.004535  loss: 0.006482  eta: 0h1m  tot: 0h12m34s  (91.2%)\rEpoch: 56.0%  lr: 0.004535  loss: 0.006483  eta: 0h1m  tot: 0h12m34s  (91.2%)\rEpoch: 56.1%  lr: 0.004525  loss: 0.006480  eta: 0h1m  tot: 0h12m34s  (91.2%)\rEpoch: 56.2%  lr: 0.004515  loss: 0.006481  eta: 0h1m  tot: 0h12m34s  (91.2%)\rEpoch: 56.3%  lr: 0.004515  loss: 0.006484  eta: 0h1m  tot: 0h12m34s  (91.3%)\rEpoch: 56.4%  lr: 0.004505  loss: 0.006483  eta: 0h1m  tot: 0h12m35s  (91.3%)\rEpoch: 56.4%  lr: 0.004485  loss: 0.006477  eta: 0h1m  tot: 0h12m35s  (91.3%)\rEpoch: 56.5%  lr: 0.004475  loss: 0.006477  eta: 0h1m  tot: 0h12m35s  (91.3%)\rEpoch: 56.6%  lr: 0.004455  loss: 0.006478  eta: 0h1m  tot: 0h12m35s  (91.3%)\rEpoch: 56.7%  lr: 0.004455  loss: 0.006480  eta: 0h1m  tot: 0h12m35s  (91.3%)\rEpoch: 56.8%  lr: 0.004455  loss: 0.006474  eta: 0h1m  tot: 0h12m35s  (91.4%)\rEpoch: 56.9%  lr: 0.004445  loss: 0.006473  eta: 0h1m  tot: 0h12m35s  (91.4%)\rEpoch: 57.0%  lr: 0.004435  loss: 0.006469  eta: 0h1m  tot: 0h12m36s  (91.4%)\rEpoch: 57.1%  lr: 0.004435  loss: 0.006472  eta: 0h1m  tot: 0h12m36s  (91.4%)\rEpoch: 57.2%  lr: 0.004415  loss: 0.006491  eta: 0h1m  tot: 0h12m36s  (91.4%)\rEpoch: 57.3%  lr: 0.004415  loss: 0.006488  eta: 0h1m  tot: 0h12m36s  (91.5%)\rEpoch: 57.3%  lr: 0.004384  loss: 0.006487  eta: 0h1m  tot: 0h12m36s  (91.5%)\rEpoch: 57.4%  lr: 0.004374  loss: 0.006487  eta: 0h1m  tot: 0h12m36s  (91.5%)\rEpoch: 57.5%  lr: 0.004364  loss: 0.006483  eta: 0h1m  tot: 0h12m36s  (91.5%)\rEpoch: 57.6%  lr: 0.004364  loss: 0.006485  eta: 0h1m  tot: 0h12m37s  (91.5%)\rEpoch: 57.7%  lr: 0.004364  loss: 0.006478  eta: 0h1m  tot: 0h12m37s  (91.5%)\rEpoch: 57.8%  lr: 0.004364  loss: 0.006476  eta: 0h1m  tot: 0h12m37s  (91.6%)\rEpoch: 57.9%  lr: 0.004354  loss: 0.006483  eta: 0h1m  tot: 0h12m37s  (91.6%)\rEpoch: 58.0%  lr: 0.004334  loss: 0.006485  eta: 0h1m  tot: 0h12m37s  (91.6%)\rEpoch: 58.1%  lr: 0.004324  loss: 0.006479  eta: 0h1m  tot: 0h12m37s  (91.6%)\rEpoch: 58.2%  lr: 0.004324  loss: 0.006471  eta: 0h1m  tot: 0h12m37s  (91.6%)\rEpoch: 58.2%  lr: 0.004314  loss: 0.006468  eta: 0h1m  tot: 0h12m38s  (91.6%)\rEpoch: 58.3%  lr: 0.004314  loss: 0.006469  eta: 0h1m  tot: 0h12m38s  (91.7%)\rEpoch: 58.4%  lr: 0.004304  loss: 0.006479  eta: 0h1m  tot: 0h12m38s  (91.7%)\rEpoch: 58.5%  lr: 0.004304  loss: 0.006480  eta: 0h1m  tot: 0h12m38s  (91.7%)\rEpoch: 58.6%  lr: 0.004294  loss: 0.006478  eta: 0h1m  tot: 0h12m38s  (91.7%)\rEpoch: 58.7%  lr: 0.004294  loss: 0.006475  eta: 0h1m  tot: 0h12m38s  (91.7%)\rEpoch: 58.8%  lr: 0.004294  loss: 0.006471  eta: 0h1m  tot: 0h12m38s  (91.8%)\rEpoch: 58.9%  lr: 0.004284  loss: 0.006477  eta: 0h1m  tot: 0h12m39s  (91.8%)\rEpoch: 59.0%  lr: 0.004254  loss: 0.006480  eta: 0h1m  tot: 0h12m39s  (91.8%)\rEpoch: 59.1%  lr: 0.004254  loss: 0.006478  eta: 0h1m  tot: 0h12m39s  (91.8%)\rEpoch: 59.1%  lr: 0.004244  loss: 0.006477  eta: 0h1m  tot: 0h12m39s  (91.8%)\rEpoch: 59.2%  lr: 0.004244  loss: 0.006478  eta: 0h1m  tot: 0h12m39s  (91.8%)\rEpoch: 59.3%  lr: 0.004244  loss: 0.006483  eta: 0h1m  tot: 0h12m39s  (91.9%)\rEpoch: 59.4%  lr: 0.004244  loss: 0.006487  eta: 0h1m  tot: 0h12m39s  (91.9%)\rEpoch: 59.5%  lr: 0.004234  loss: 0.006482  eta: 0h1m  tot: 0h12m40s  (91.9%)\rEpoch: 59.6%  lr: 0.004204  loss: 0.006484  eta: 0h1m  tot: 0h12m40s  (91.9%)\rEpoch: 59.7%  lr: 0.004194  loss: 0.006479  eta: 0h1m  tot: 0h12m40s  (91.9%)\rEpoch: 59.8%  lr: 0.004184  loss: 0.006476  eta: 0h1m  tot: 0h12m40s  (92.0%)\rEpoch: 59.9%  lr: 0.004174  loss: 0.006481  eta: 0h1m  tot: 0h12m40s  (92.0%)\rEpoch: 60.0%  lr: 0.004164  loss: 0.006481  eta: 0h1m  tot: 0h12m40s  (92.0%)\rEpoch: 60.0%  lr: 0.004164  loss: 0.006483  eta: 0h1m  tot: 0h12m40s  (92.0%)\rEpoch: 60.1%  lr: 0.004164  loss: 0.006482  eta: 0h1m  tot: 0h12m41s  (92.0%)\rEpoch: 60.2%  lr: 0.004154  loss: 0.006487  eta: 0h1m  tot: 0h12m41s  (92.0%)\rEpoch: 60.3%  lr: 0.004134  loss: 0.006480  eta: 0h1m  tot: 0h12m41s  (92.1%)\rEpoch: 60.4%  lr: 0.004124  loss: 0.006488  eta: 0h1m  tot: 0h12m41s  (92.1%)\rEpoch: 60.5%  lr: 0.004114  loss: 0.006485  eta: 0h1m  tot: 0h12m41s  (92.1%)\rEpoch: 60.6%  lr: 0.004104  loss: 0.006478  eta: 0h1m  tot: 0h12m41s  (92.1%)\rEpoch: 60.7%  lr: 0.004104  loss: 0.006485  eta: 0h1m  tot: 0h12m41s  (92.1%)\rEpoch: 60.8%  lr: 0.004104  loss: 0.006487  eta: 0h1m  tot: 0h12m42s  (92.2%)\rEpoch: 60.9%  lr: 0.004084  loss: 0.006483  eta: 0h1m  tot: 0h12m42s  (92.2%)\rEpoch: 60.9%  lr: 0.004074  loss: 0.006478  eta: 0h1m  tot: 0h12m42s  (92.2%)\rEpoch: 61.0%  lr: 0.004074  loss: 0.006483  eta: 0h1m  tot: 0h12m42s  (92.2%)\rEpoch: 61.1%  lr: 0.004074  loss: 0.006480  eta: 0h1m  tot: 0h12m42s  (92.2%)\rEpoch: 61.2%  lr: 0.004074  loss: 0.006484  eta: 0h1m  tot: 0h12m42s  (92.2%)\rEpoch: 61.3%  lr: 0.004074  loss: 0.006484  eta: 0h1m  tot: 0h12m43s  (92.3%)\rEpoch: 61.4%  lr: 0.004074  loss: 0.006490  eta: 0h1m  tot: 0h12m43s  (92.3%)\rEpoch: 61.5%  lr: 0.004064  loss: 0.006498  eta: 0h1m  tot: 0h12m43s  (92.3%)\rEpoch: 61.6%  lr: 0.004064  loss: 0.006497  eta: 0h1m  tot: 0h12m43s  (92.3%)\rEpoch: 61.7%  lr: 0.004054  loss: 0.006515  eta: 0h1m  tot: 0h12m43s  (92.3%)\rEpoch: 61.8%  lr: 0.004044  loss: 0.006507  eta: 0h1m  tot: 0h12m43s  (92.4%)\rEpoch: 61.8%  lr: 0.004034  loss: 0.006512  eta: 0h1m  tot: 0h12m43s  (92.4%)\rEpoch: 61.9%  lr: 0.004014  loss: 0.006512  eta: 0h1m  tot: 0h12m43s  (92.4%)\rEpoch: 62.0%  lr: 0.004014  loss: 0.006514  eta: 0h1m  tot: 0h12m44s  (92.4%)\rEpoch: 62.1%  lr: 0.004004  loss: 0.006516  eta: 0h1m  tot: 0h12m44s  (92.4%)\rEpoch: 62.2%  lr: 0.003964  loss: 0.006525  eta: 0h1m  tot: 0h12m44s  (92.4%)\rEpoch: 62.3%  lr: 0.003964  loss: 0.006526  eta: 0h1m  tot: 0h12m44s  (92.5%)\rEpoch: 62.4%  lr: 0.003944  loss: 0.006536  eta: 0h1m  tot: 0h12m44s  (92.5%)\rEpoch: 62.5%  lr: 0.003934  loss: 0.006535  eta: 0h1m  tot: 0h12m44s  (92.5%)\rEpoch: 62.6%  lr: 0.003924  loss: 0.006545  eta: 0h1m  tot: 0h12m45s  (92.5%)\rEpoch: 62.7%  lr: 0.003914  loss: 0.006553  eta: 0h1m  tot: 0h12m45s  (92.5%)\rEpoch: 62.7%  lr: 0.003904  loss: 0.006551  eta: 0h1m  tot: 0h12m45s  (92.5%)\rEpoch: 62.8%  lr: 0.003884  loss: 0.006547  eta: <1min   tot: 0h12m45s  (92.6%)\rEpoch: 62.9%  lr: 0.003874  loss: 0.006543  eta: <1min   tot: 0h12m45s  (92.6%)\rEpoch: 63.0%  lr: 0.003864  loss: 0.006537  eta: <1min   tot: 0h12m45s  (92.6%)\rEpoch: 63.1%  lr: 0.003864  loss: 0.006529  eta: <1min   tot: 0h12m45s  (92.6%)\rEpoch: 63.2%  lr: 0.003864  loss: 0.006533  eta: <1min   tot: 0h12m46s  (92.6%)\rEpoch: 63.3%  lr: 0.003864  loss: 0.006534  eta: <1min   tot: 0h12m46s  (92.7%)\rEpoch: 63.4%  lr: 0.003854  loss: 0.006529  eta: <1min   tot: 0h12m46s  (92.7%)\rEpoch: 63.5%  lr: 0.003854  loss: 0.006525  eta: <1min   tot: 0h12m46s  (92.7%)\rEpoch: 63.6%  lr: 0.003854  loss: 0.006528  eta: <1min   tot: 0h12m46s  (92.7%)\rEpoch: 63.6%  lr: 0.003854  loss: 0.006531  eta: <1min   tot: 0h12m46s  (92.7%)\rEpoch: 63.7%  lr: 0.003854  loss: 0.006531  eta: <1min   tot: 0h12m46s  (92.7%)\rEpoch: 63.8%  lr: 0.003824  loss: 0.006528  eta: <1min   tot: 0h12m47s  (92.8%)\rEpoch: 63.9%  lr: 0.003814  loss: 0.006521  eta: <1min   tot: 0h12m47s  (92.8%)\rEpoch: 64.0%  lr: 0.003814  loss: 0.006531  eta: <1min   tot: 0h12m47s  (92.8%)\rEpoch: 64.1%  lr: 0.003804  loss: 0.006529  eta: <1min   tot: 0h12m47s  (92.8%)\rEpoch: 64.2%  lr: 0.003804  loss: 0.006532  eta: <1min   tot: 0h12m47s  (92.8%)\rEpoch: 64.3%  lr: 0.003804  loss: 0.006529  eta: <1min   tot: 0h12m47s  (92.9%)\rEpoch: 64.4%  lr: 0.003804  loss: 0.006525  eta: <1min   tot: 0h12m47s  (92.9%)\rEpoch: 64.5%  lr: 0.003784  loss: 0.006522  eta: <1min   tot: 0h12m48s  (92.9%)\rEpoch: 64.5%  lr: 0.003784  loss: 0.006524  eta: <1min   tot: 0h12m48s  (92.9%)\rEpoch: 64.6%  lr: 0.003764  loss: 0.006523  eta: <1min   tot: 0h12m48s  (92.9%)\rEpoch: 64.7%  lr: 0.003754  loss: 0.006528  eta: <1min   tot: 0h12m48s  (92.9%)\rEpoch: 64.8%  lr: 0.003744  loss: 0.006523  eta: <1min   tot: 0h12m48s  (93.0%)\rEpoch: 64.9%  lr: 0.003734  loss: 0.006521  eta: <1min   tot: 0h12m48s  (93.0%)\rEpoch: 65.0%  lr: 0.003734  loss: 0.006520  eta: <1min   tot: 0h12m48s  (93.0%)\rEpoch: 65.1%  lr: 0.003724  loss: 0.006514  eta: <1min   tot: 0h12m49s  (93.0%)\rEpoch: 65.2%  lr: 0.003714  loss: 0.006519  eta: <1min   tot: 0h12m49s  (93.0%)\rEpoch: 65.3%  lr: 0.003714  loss: 0.006514  eta: <1min   tot: 0h12m49s  (93.1%)\rEpoch: 65.4%  lr: 0.003694  loss: 0.006512  eta: <1min   tot: 0h12m49s  (93.1%)\rEpoch: 65.4%  lr: 0.003694  loss: 0.006512  eta: <1min   tot: 0h12m49s  (93.1%)\rEpoch: 65.5%  lr: 0.003694  loss: 0.006511  eta: <1min   tot: 0h12m49s  (93.1%)\rEpoch: 65.6%  lr: 0.003674  loss: 0.006510  eta: <1min   tot: 0h12m49s  (93.1%)\rEpoch: 65.7%  lr: 0.003644  loss: 0.006507  eta: <1min   tot: 0h12m50s  (93.1%)\rEpoch: 65.8%  lr: 0.003644  loss: 0.006511  eta: <1min   tot: 0h12m50s  (93.2%)\rEpoch: 65.9%  lr: 0.003644  loss: 0.006513  eta: <1min   tot: 0h12m50s  (93.2%)\rEpoch: 66.0%  lr: 0.003614  loss: 0.006512  eta: <1min   tot: 0h12m50s  (93.2%)\rEpoch: 66.1%  lr: 0.003584  loss: 0.006515  eta: <1min   tot: 0h12m50s  (93.2%)\rEpoch: 66.2%  lr: 0.003564  loss: 0.006520  eta: <1min   tot: 0h12m50s  (93.2%)\rEpoch: 66.3%  lr: 0.003544  loss: 0.006519  eta: <1min   tot: 0h12m50s  (93.3%)\rEpoch: 66.3%  lr: 0.003544  loss: 0.006517  eta: <1min   tot: 0h12m51s  (93.3%)\rEpoch: 66.4%  lr: 0.003544  loss: 0.006515  eta: <1min   tot: 0h12m51s  (93.3%)\rEpoch: 66.5%  lr: 0.003534  loss: 0.006520  eta: <1min   tot: 0h12m51s  (93.3%)\rEpoch: 66.6%  lr: 0.003534  loss: 0.006526  eta: <1min   tot: 0h12m51s  (93.3%)\rEpoch: 66.7%  lr: 0.003514  loss: 0.006543  eta: <1min   tot: 0h12m51s  (93.3%)\rEpoch: 66.8%  lr: 0.003514  loss: 0.006542  eta: <1min   tot: 0h12m51s  (93.4%)\rEpoch: 66.9%  lr: 0.003494  loss: 0.006538  eta: <1min   tot: 0h12m51s  (93.4%)\rEpoch: 67.0%  lr: 0.003494  loss: 0.006533  eta: <1min   tot: 0h12m52s  (93.4%)\rEpoch: 67.1%  lr: 0.003494  loss: 0.006531  eta: <1min   tot: 0h12m52s  (93.4%)\rEpoch: 67.2%  lr: 0.003474  loss: 0.006536  eta: <1min   tot: 0h12m52s  (93.4%)\rEpoch: 67.2%  lr: 0.003464  loss: 0.006529  eta: <1min   tot: 0h12m52s  (93.4%)\rEpoch: 67.3%  lr: 0.003464  loss: 0.006523  eta: <1min   tot: 0h12m52s  (93.5%)\rEpoch: 67.4%  lr: 0.003454  loss: 0.006520  eta: <1min   tot: 0h12m52s  (93.5%)\rEpoch: 67.5%  lr: 0.003444  loss: 0.006527  eta: <1min   tot: 0h12m52s  (93.5%)\rEpoch: 67.6%  lr: 0.003424  loss: 0.006523  eta: <1min   tot: 0h12m53s  (93.5%)\rEpoch: 67.7%  lr: 0.003403  loss: 0.006517  eta: <1min   tot: 0h12m53s  (93.5%)\rEpoch: 67.8%  lr: 0.003383  loss: 0.006510  eta: <1min   tot: 0h12m53s  (93.6%)\rEpoch: 67.9%  lr: 0.003373  loss: 0.006506  eta: <1min   tot: 0h12m53s  (93.6%)\rEpoch: 68.0%  lr: 0.003363  loss: 0.006507  eta: <1min   tot: 0h12m53s  (93.6%)\rEpoch: 68.1%  lr: 0.003363  loss: 0.006500  eta: <1min   tot: 0h12m53s  (93.6%)\rEpoch: 68.1%  lr: 0.003343  loss: 0.006503  eta: <1min   tot: 0h12m53s  (93.6%)\rEpoch: 68.2%  lr: 0.003343  loss: 0.006503  eta: <1min   tot: 0h12m54s  (93.6%)\rEpoch: 68.3%  lr: 0.003323  loss: 0.006500  eta: <1min   tot: 0h12m54s  (93.7%)\rEpoch: 68.4%  lr: 0.003323  loss: 0.006500  eta: <1min   tot: 0h12m54s  (93.7%)\rEpoch: 68.5%  lr: 0.003313  loss: 0.006502  eta: <1min   tot: 0h12m54s  (93.7%)\rEpoch: 68.6%  lr: 0.003303  loss: 0.006505  eta: <1min   tot: 0h12m54s  (93.7%)\rEpoch: 68.7%  lr: 0.003293  loss: 0.006501  eta: <1min   tot: 0h12m54s  (93.7%)\rEpoch: 68.8%  lr: 0.003293  loss: 0.006500  eta: <1min   tot: 0h12m54s  (93.8%)\rEpoch: 68.9%  lr: 0.003293  loss: 0.006506  eta: <1min   tot: 0h12m55s  (93.8%)\rEpoch: 69.0%  lr: 0.003283  loss: 0.006502  eta: <1min   tot: 0h12m55s  (93.8%)\rEpoch: 69.0%  lr: 0.003273  loss: 0.006509  eta: <1min   tot: 0h12m55s  (93.8%)\rEpoch: 69.1%  lr: 0.003253  loss: 0.006512  eta: <1min   tot: 0h12m55s  (93.8%)\rEpoch: 69.2%  lr: 0.003253  loss: 0.006510  eta: <1min   tot: 0h12m55s  (93.8%)\rEpoch: 69.3%  lr: 0.003243  loss: 0.006511  eta: <1min   tot: 0h12m55s  (93.9%)\rEpoch: 69.4%  lr: 0.003243  loss: 0.006509  eta: <1min   tot: 0h12m56s  (93.9%)\rEpoch: 69.5%  lr: 0.003243  loss: 0.006505  eta: <1min   tot: 0h12m56s  (93.9%)\rEpoch: 69.6%  lr: 0.003243  loss: 0.006502  eta: <1min   tot: 0h12m56s  (93.9%)\rEpoch: 69.7%  lr: 0.003243  loss: 0.006498  eta: <1min   tot: 0h12m56s  (93.9%)\rEpoch: 69.8%  lr: 0.003243  loss: 0.006500  eta: <1min   tot: 0h12m56s  (94.0%)\rEpoch: 69.9%  lr: 0.003233  loss: 0.006497  eta: <1min   tot: 0h12m56s  (94.0%)\rEpoch: 69.9%  lr: 0.003223  loss: 0.006509  eta: <1min   tot: 0h12m56s  (94.0%)\rEpoch: 70.0%  lr: 0.003213  loss: 0.006518  eta: <1min   tot: 0h12m57s  (94.0%)\rEpoch: 70.1%  lr: 0.003163  loss: 0.006523  eta: <1min   tot: 0h12m57s  (94.0%)\rEpoch: 70.2%  lr: 0.003143  loss: 0.006518  eta: <1min   tot: 0h12m57s  (94.0%)\rEpoch: 70.3%  lr: 0.003133  loss: 0.006521  eta: <1min   tot: 0h12m57s  (94.1%)\rEpoch: 70.4%  lr: 0.003133  loss: 0.006521  eta: <1min   tot: 0h12m57s  (94.1%)\rEpoch: 70.5%  lr: 0.003113  loss: 0.006523  eta: <1min   tot: 0h12m57s  (94.1%)\rEpoch: 70.6%  lr: 0.003113  loss: 0.006526  eta: <1min   tot: 0h12m58s  (94.1%)\rEpoch: 70.7%  lr: 0.003103  loss: 0.006528  eta: <1min   tot: 0h12m58s  (94.1%)\rEpoch: 70.8%  lr: 0.003083  loss: 0.006523  eta: <1min   tot: 0h12m58s  (94.2%)\rEpoch: 70.8%  lr: 0.003083  loss: 0.006524  eta: <1min   tot: 0h12m58s  (94.2%)\rEpoch: 70.9%  lr: 0.003053  loss: 0.006523  eta: <1min   tot: 0h12m58s  (94.2%)\rEpoch: 71.0%  lr: 0.003053  loss: 0.006523  eta: <1min   tot: 0h12m58s  (94.2%)\rEpoch: 71.1%  lr: 0.003043  loss: 0.006520  eta: <1min   tot: 0h12m58s  (94.2%)\rEpoch: 71.2%  lr: 0.003033  loss: 0.006528  eta: <1min   tot: 0h12m59s  (94.2%)\rEpoch: 71.3%  lr: 0.003033  loss: 0.006533  eta: <1min   tot: 0h12m59s  (94.3%)\rEpoch: 71.4%  lr: 0.003033  loss: 0.006527  eta: <1min   tot: 0h12m59s  (94.3%)\rEpoch: 71.5%  lr: 0.003003  loss: 0.006526  eta: <1min   tot: 0h12m59s  (94.3%)\rEpoch: 71.6%  lr: 0.002993  loss: 0.006524  eta: <1min   tot: 0h12m59s  (94.3%)\rEpoch: 71.7%  lr: 0.002983  loss: 0.006520  eta: <1min   tot: 0h12m59s  (94.3%)\rEpoch: 71.7%  lr: 0.002973  loss: 0.006517  eta: <1min   tot: 0h12m59s  (94.3%)\rEpoch: 71.8%  lr: 0.002973  loss: 0.006517  eta: <1min   tot: 0h13m0s  (94.4%)\rEpoch: 71.9%  lr: 0.002973  loss: 0.006512  eta: <1min   tot: 0h13m0s  (94.4%)\rEpoch: 72.0%  lr: 0.002953  loss: 0.006513  eta: <1min   tot: 0h13m0s  (94.4%)\rEpoch: 72.1%  lr: 0.002953  loss: 0.006511  eta: <1min   tot: 0h13m0s  (94.4%)\rEpoch: 72.2%  lr: 0.002943  loss: 0.006513  eta: <1min   tot: 0h13m0s  (94.4%)\rEpoch: 72.3%  lr: 0.002933  loss: 0.006509  eta: <1min   tot: 0h13m0s  (94.5%)\rEpoch: 72.4%  lr: 0.002923  loss: 0.006505  eta: <1min   tot: 0h13m0s  (94.5%)\rEpoch: 72.5%  lr: 0.002923  loss: 0.006504  eta: <1min   tot: 0h13m0s  (94.5%)\rEpoch: 72.6%  lr: 0.002923  loss: 0.006507  eta: <1min   tot: 0h13m1s  (94.5%)\rEpoch: 72.6%  lr: 0.002923  loss: 0.006510  eta: <1min   tot: 0h13m1s  (94.5%)\rEpoch: 72.7%  lr: 0.002923  loss: 0.006512  eta: <1min   tot: 0h13m1s  (94.5%)\rEpoch: 72.8%  lr: 0.002923  loss: 0.006511  eta: <1min   tot: 0h13m1s  (94.6%)\rEpoch: 72.9%  lr: 0.002913  loss: 0.006518  eta: <1min   tot: 0h13m1s  (94.6%)\rEpoch: 73.0%  lr: 0.002913  loss: 0.006521  eta: <1min   tot: 0h13m1s  (94.6%)\rEpoch: 73.1%  lr: 0.002903  loss: 0.006523  eta: <1min   tot: 0h13m1s  (94.6%)\rEpoch: 73.2%  lr: 0.002883  loss: 0.006520  eta: <1min   tot: 0h13m2s  (94.6%)\rEpoch: 73.3%  lr: 0.002873  loss: 0.006515  eta: <1min   tot: 0h13m2s  (94.7%)\rEpoch: 73.4%  lr: 0.002853  loss: 0.006519  eta: <1min   tot: 0h13m2s  (94.7%)\rEpoch: 73.5%  lr: 0.002843  loss: 0.006523  eta: <1min   tot: 0h13m2s  (94.7%)\rEpoch: 73.5%  lr: 0.002823  loss: 0.006536  eta: <1min   tot: 0h13m2s  (94.7%)\rEpoch: 73.6%  lr: 0.002813  loss: 0.006532  eta: <1min   tot: 0h13m2s  (94.7%)\rEpoch: 73.7%  lr: 0.002793  loss: 0.006527  eta: <1min   tot: 0h13m2s  (94.7%)\rEpoch: 73.8%  lr: 0.002793  loss: 0.006530  eta: <1min   tot: 0h13m3s  (94.8%)\rEpoch: 73.9%  lr: 0.002783  loss: 0.006528  eta: <1min   tot: 0h13m3s  (94.8%)\rEpoch: 74.0%  lr: 0.002783  loss: 0.006524  eta: <1min   tot: 0h13m3s  (94.8%)\rEpoch: 74.1%  lr: 0.002783  loss: 0.006521  eta: <1min   tot: 0h13m3s  (94.8%)\rEpoch: 74.2%  lr: 0.002773  loss: 0.006524  eta: <1min   tot: 0h13m3s  (94.8%)\rEpoch: 74.3%  lr: 0.002763  loss: 0.006525  eta: <1min   tot: 0h13m3s  (94.9%)\rEpoch: 74.4%  lr: 0.002763  loss: 0.006530  eta: <1min   tot: 0h13m3s  (94.9%)\rEpoch: 74.4%  lr: 0.002753  loss: 0.006542  eta: <1min   tot: 0h13m4s  (94.9%)\rEpoch: 74.5%  lr: 0.002723  loss: 0.006543  eta: <1min   tot: 0h13m4s  (94.9%)\rEpoch: 74.6%  lr: 0.002723  loss: 0.006546  eta: <1min   tot: 0h13m4s  (94.9%)\rEpoch: 74.7%  lr: 0.002713  loss: 0.006549  eta: <1min   tot: 0h13m4s  (94.9%)\rEpoch: 74.8%  lr: 0.002703  loss: 0.006543  eta: <1min   tot: 0h13m4s  (95.0%)\rEpoch: 74.9%  lr: 0.002703  loss: 0.006548  eta: <1min   tot: 0h13m4s  (95.0%)\rEpoch: 75.0%  lr: 0.002703  loss: 0.006547  eta: <1min   tot: 0h13m4s  (95.0%)\rEpoch: 75.1%  lr: 0.002703  loss: 0.006554  eta: <1min   tot: 0h13m5s  (95.0%)\rEpoch: 75.2%  lr: 0.002703  loss: 0.006559  eta: <1min   tot: 0h13m5s  (95.0%)\rEpoch: 75.3%  lr: 0.002683  loss: 0.006558  eta: <1min   tot: 0h13m5s  (95.1%)\rEpoch: 75.3%  lr: 0.002673  loss: 0.006564  eta: <1min   tot: 0h13m5s  (95.1%)\rEpoch: 75.4%  lr: 0.002673  loss: 0.006558  eta: <1min   tot: 0h13m5s  (95.1%)\rEpoch: 75.5%  lr: 0.002643  loss: 0.006567  eta: <1min   tot: 0h13m5s  (95.1%)\rEpoch: 75.6%  lr: 0.002643  loss: 0.006565  eta: <1min   tot: 0h13m5s  (95.1%)\rEpoch: 75.7%  lr: 0.002633  loss: 0.006562  eta: <1min   tot: 0h13m6s  (95.1%)\rEpoch: 75.8%  lr: 0.002633  loss: 0.006564  eta: <1min   tot: 0h13m6s  (95.2%)\rEpoch: 75.9%  lr: 0.002633  loss: 0.006559  eta: <1min   tot: 0h13m6s  (95.2%)\rEpoch: 76.0%  lr: 0.002633  loss: 0.006555  eta: <1min   tot: 0h13m6s  (95.2%)\rEpoch: 76.1%  lr: 0.002633  loss: 0.006562  eta: <1min   tot: 0h13m6s  (95.2%)\rEpoch: 76.2%  lr: 0.002633  loss: 0.006564  eta: <1min   tot: 0h13m6s  (95.2%)\rEpoch: 76.2%  lr: 0.002633  loss: 0.006572  eta: <1min   tot: 0h13m6s  (95.2%)\rEpoch: 76.3%  lr: 0.002633  loss: 0.006571  eta: <1min   tot: 0h13m7s  (95.3%)\rEpoch: 76.4%  lr: 0.002613  loss: 0.006572  eta: <1min   tot: 0h13m7s  (95.3%)\rEpoch: 76.5%  lr: 0.002613  loss: 0.006571  eta: <1min   tot: 0h13m7s  (95.3%)\rEpoch: 76.6%  lr: 0.002593  loss: 0.006564  eta: <1min   tot: 0h13m7s  (95.3%)\rEpoch: 76.7%  lr: 0.002593  loss: 0.006559  eta: <1min   tot: 0h13m7s  (95.3%)\rEpoch: 76.8%  lr: 0.002583  loss: 0.006557  eta: <1min   tot: 0h13m7s  (95.4%)\rEpoch: 76.9%  lr: 0.002563  loss: 0.006554  eta: <1min   tot: 0h13m7s  (95.4%)\rEpoch: 77.0%  lr: 0.002543  loss: 0.006551  eta: <1min   tot: 0h13m8s  (95.4%)\rEpoch: 77.1%  lr: 0.002543  loss: 0.006547  eta: <1min   tot: 0h13m8s  (95.4%)\rEpoch: 77.1%  lr: 0.002543  loss: 0.006546  eta: <1min   tot: 0h13m8s  (95.4%)\rEpoch: 77.2%  lr: 0.002533  loss: 0.006544  eta: <1min   tot: 0h13m8s  (95.4%)\rEpoch: 77.3%  lr: 0.002493  loss: 0.006546  eta: <1min   tot: 0h13m8s  (95.5%)\rEpoch: 77.4%  lr: 0.002473  loss: 0.006540  eta: <1min   tot: 0h13m8s  (95.5%)\rEpoch: 77.5%  lr: 0.002443  loss: 0.006549  eta: <1min   tot: 0h13m8s  (95.5%)\rEpoch: 77.6%  lr: 0.002433  loss: 0.006547  eta: <1min   tot: 0h13m9s  (95.5%)\rEpoch: 77.7%  lr: 0.002433  loss: 0.006546  eta: <1min   tot: 0h13m9s  (95.5%)\rEpoch: 77.8%  lr: 0.002402  loss: 0.006545  eta: <1min   tot: 0h13m9s  (95.6%)\rEpoch: 77.9%  lr: 0.002382  loss: 0.006544  eta: <1min   tot: 0h13m9s  (95.6%)\rEpoch: 78.0%  lr: 0.002372  loss: 0.006551  eta: <1min   tot: 0h13m9s  (95.6%)\rEpoch: 78.0%  lr: 0.002352  loss: 0.006549  eta: <1min   tot: 0h13m9s  (95.6%)\rEpoch: 78.1%  lr: 0.002322  loss: 0.006556  eta: <1min   tot: 0h13m9s  (95.6%)\rEpoch: 78.2%  lr: 0.002312  loss: 0.006561  eta: <1min   tot: 0h13m10s  (95.6%)\rEpoch: 78.3%  lr: 0.002282  loss: 0.006563  eta: <1min   tot: 0h13m10s  (95.7%)\rEpoch: 78.4%  lr: 0.002272  loss: 0.006568  eta: <1min   tot: 0h13m10s  (95.7%)\rEpoch: 78.5%  lr: 0.002272  loss: 0.006567  eta: <1min   tot: 0h13m10s  (95.7%)\rEpoch: 78.6%  lr: 0.002262  loss: 0.006564  eta: <1min   tot: 0h13m10s  (95.7%)\rEpoch: 78.7%  lr: 0.002242  loss: 0.006561  eta: <1min   tot: 0h13m10s  (95.7%)\rEpoch: 78.8%  lr: 0.002202  loss: 0.006562  eta: <1min   tot: 0h13m10s  (95.8%)\rEpoch: 78.9%  lr: 0.002192  loss: 0.006558  eta: <1min   tot: 0h13m11s  (95.8%)\rEpoch: 78.9%  lr: 0.002182  loss: 0.006557  eta: <1min   tot: 0h13m11s  (95.8%)\rEpoch: 79.0%  lr: 0.002182  loss: 0.006562  eta: <1min   tot: 0h13m11s  (95.8%)\rEpoch: 79.1%  lr: 0.002172  loss: 0.006564  eta: <1min   tot: 0h13m11s  (95.8%)\rEpoch: 79.2%  lr: 0.002162  loss: 0.006571  eta: <1min   tot: 0h13m11s  (95.8%)\rEpoch: 79.3%  lr: 0.002162  loss: 0.006580  eta: <1min   tot: 0h13m11s  (95.9%)\rEpoch: 79.4%  lr: 0.002152  loss: 0.006577  eta: <1min   tot: 0h13m11s  (95.9%)\rEpoch: 79.5%  lr: 0.002152  loss: 0.006573  eta: <1min   tot: 0h13m12s  (95.9%)\rEpoch: 79.6%  lr: 0.002142  loss: 0.006573  eta: <1min   tot: 0h13m12s  (95.9%)\rEpoch: 79.7%  lr: 0.002142  loss: 0.006569  eta: <1min   tot: 0h13m12s  (95.9%)\rEpoch: 79.8%  lr: 0.002122  loss: 0.006573  eta: <1min   tot: 0h13m12s  (96.0%)\rEpoch: 79.9%  lr: 0.002122  loss: 0.006577  eta: <1min   tot: 0h13m12s  (96.0%)\rEpoch: 79.9%  lr: 0.002122  loss: 0.006570  eta: <1min   tot: 0h13m12s  (96.0%)\rEpoch: 80.0%  lr: 0.002122  loss: 0.006567  eta: <1min   tot: 0h13m12s  (96.0%)\rEpoch: 80.1%  lr: 0.002122  loss: 0.006564  eta: <1min   tot: 0h13m13s  (96.0%)\rEpoch: 80.2%  lr: 0.002112  loss: 0.006565  eta: <1min   tot: 0h13m13s  (96.0%)\rEpoch: 80.3%  lr: 0.002112  loss: 0.006568  eta: <1min   tot: 0h13m13s  (96.1%)\rEpoch: 80.4%  lr: 0.002092  loss: 0.006564  eta: <1min   tot: 0h13m13s  (96.1%)\rEpoch: 80.5%  lr: 0.002082  loss: 0.006564  eta: <1min   tot: 0h13m13s  (96.1%)\rEpoch: 80.6%  lr: 0.002082  loss: 0.006562  eta: <1min   tot: 0h13m13s  (96.1%)\rEpoch: 80.7%  lr: 0.002072  loss: 0.006564  eta: <1min   tot: 0h13m13s  (96.1%)\rEpoch: 80.8%  lr: 0.002062  loss: 0.006568  eta: <1min   tot: 0h13m14s  (96.2%)\rEpoch: 80.8%  lr: 0.002062  loss: 0.006568  eta: <1min   tot: 0h13m14s  (96.2%)\rEpoch: 80.9%  lr: 0.002052  loss: 0.006564  eta: <1min   tot: 0h13m14s  (96.2%)\rEpoch: 81.0%  lr: 0.002042  loss: 0.006560  eta: <1min   tot: 0h13m14s  (96.2%)\rEpoch: 81.1%  lr: 0.002042  loss: 0.006556  eta: <1min   tot: 0h13m14s  (96.2%)\rEpoch: 81.2%  lr: 0.002032  loss: 0.006553  eta: <1min   tot: 0h13m14s  (96.2%)\rEpoch: 81.3%  lr: 0.002032  loss: 0.006551  eta: <1min   tot: 0h13m14s  (96.3%)\rEpoch: 81.4%  lr: 0.002032  loss: 0.006555  eta: <1min   tot: 0h13m15s  (96.3%)\rEpoch: 81.5%  lr: 0.002012  loss: 0.006565  eta: <1min   tot: 0h13m15s  (96.3%)\rEpoch: 81.6%  lr: 0.001982  loss: 0.006564  eta: <1min   tot: 0h13m15s  (96.3%)\rEpoch: 81.7%  lr: 0.001972  loss: 0.006560  eta: <1min   tot: 0h13m15s  (96.3%)\rEpoch: 81.7%  lr: 0.001972  loss: 0.006558  eta: <1min   tot: 0h13m15s  (96.3%)\rEpoch: 81.8%  lr: 0.001952  loss: 0.006556  eta: <1min   tot: 0h13m15s  (96.4%)\rEpoch: 81.9%  lr: 0.001952  loss: 0.006562  eta: <1min   tot: 0h13m15s  (96.4%)\rEpoch: 82.0%  lr: 0.001942  loss: 0.006569  eta: <1min   tot: 0h13m16s  (96.4%)\rEpoch: 82.1%  lr: 0.001932  loss: 0.006570  eta: <1min   tot: 0h13m16s  (96.4%)\rEpoch: 82.2%  lr: 0.001912  loss: 0.006573  eta: <1min   tot: 0h13m16s  (96.4%)\rEpoch: 82.3%  lr: 0.001912  loss: 0.006577  eta: <1min   tot: 0h13m16s  (96.5%)\rEpoch: 82.4%  lr: 0.001912  loss: 0.006579  eta: <1min   tot: 0h13m16s  (96.5%)\rEpoch: 82.5%  lr: 0.001892  loss: 0.006576  eta: <1min   tot: 0h13m16s  (96.5%)\rEpoch: 82.6%  lr: 0.001892  loss: 0.006575  eta: <1min   tot: 0h13m16s  (96.5%)\rEpoch: 82.6%  lr: 0.001872  loss: 0.006571  eta: <1min   tot: 0h13m17s  (96.5%)\rEpoch: 82.7%  lr: 0.001852  loss: 0.006579  eta: <1min   tot: 0h13m17s  (96.5%)\rEpoch: 82.8%  lr: 0.001832  loss: 0.006593  eta: <1min   tot: 0h13m17s  (96.6%)\rEpoch: 82.9%  lr: 0.001832  loss: 0.006588  eta: <1min   tot: 0h13m17s  (96.6%)\rEpoch: 83.0%  lr: 0.001822  loss: 0.006585  eta: <1min   tot: 0h13m17s  (96.6%)\rEpoch: 83.1%  lr: 0.001812  loss: 0.006581  eta: <1min   tot: 0h13m17s  (96.6%)\rEpoch: 83.2%  lr: 0.001812  loss: 0.006585  eta: <1min   tot: 0h13m17s  (96.6%)\rEpoch: 83.3%  lr: 0.001802  loss: 0.006584  eta: <1min   tot: 0h13m18s  (96.7%)\rEpoch: 83.4%  lr: 0.001792  loss: 0.006581  eta: <1min   tot: 0h13m18s  (96.7%)\rEpoch: 83.5%  lr: 0.001772  loss: 0.006583  eta: <1min   tot: 0h13m18s  (96.7%)\rEpoch: 83.5%  lr: 0.001772  loss: 0.006586  eta: <1min   tot: 0h13m18s  (96.7%)\rEpoch: 83.6%  lr: 0.001772  loss: 0.006592  eta: <1min   tot: 0h13m18s  (96.7%)\rEpoch: 83.7%  lr: 0.001742  loss: 0.006593  eta: <1min   tot: 0h13m18s  (96.7%)\rEpoch: 83.8%  lr: 0.001732  loss: 0.006591  eta: <1min   tot: 0h13m19s  (96.8%)\rEpoch: 83.9%  lr: 0.001732  loss: 0.006594  eta: <1min   tot: 0h13m19s  (96.8%)\rEpoch: 84.0%  lr: 0.001732  loss: 0.006595  eta: <1min   tot: 0h13m19s  (96.8%)\rEpoch: 84.1%  lr: 0.001702  loss: 0.006599  eta: <1min   tot: 0h13m19s  (96.8%)\rEpoch: 84.2%  lr: 0.001682  loss: 0.006599  eta: <1min   tot: 0h13m19s  (96.8%)\rEpoch: 84.3%  lr: 0.001672  loss: 0.006602  eta: <1min   tot: 0h13m19s  (96.9%)\rEpoch: 84.4%  lr: 0.001662  loss: 0.006611  eta: <1min   tot: 0h13m19s  (96.9%)\rEpoch: 84.4%  lr: 0.001642  loss: 0.006616  eta: <1min   tot: 0h13m20s  (96.9%)\rEpoch: 84.5%  lr: 0.001622  loss: 0.006614  eta: <1min   tot: 0h13m20s  (96.9%)\rEpoch: 84.6%  lr: 0.001602  loss: 0.006618  eta: <1min   tot: 0h13m20s  (96.9%)\rEpoch: 84.7%  lr: 0.001592  loss: 0.006619  eta: <1min   tot: 0h13m20s  (96.9%)\rEpoch: 84.8%  lr: 0.001582  loss: 0.006624  eta: <1min   tot: 0h13m20s  (97.0%)\rEpoch: 84.9%  lr: 0.001562  loss: 0.006621  eta: <1min   tot: 0h13m20s  (97.0%)\rEpoch: 85.0%  lr: 0.001562  loss: 0.006620  eta: <1min   tot: 0h13m20s  (97.0%)\rEpoch: 85.1%  lr: 0.001552  loss: 0.006615  eta: <1min   tot: 0h13m21s  (97.0%)\rEpoch: 85.2%  lr: 0.001542  loss: 0.006618  eta: <1min   tot: 0h13m21s  (97.0%)\rEpoch: 85.3%  lr: 0.001542  loss: 0.006619  eta: <1min   tot: 0h13m21s  (97.1%)\rEpoch: 85.3%  lr: 0.001532  loss: 0.006621  eta: <1min   tot: 0h13m21s  (97.1%)\rEpoch: 85.4%  lr: 0.001532  loss: 0.006621  eta: <1min   tot: 0h13m21s  (97.1%)\rEpoch: 85.5%  lr: 0.001522  loss: 0.006619  eta: <1min   tot: 0h13m21s  (97.1%)\rEpoch: 85.6%  lr: 0.001512  loss: 0.006618  eta: <1min   tot: 0h13m21s  (97.1%)\rEpoch: 85.7%  lr: 0.001512  loss: 0.006620  eta: <1min   tot: 0h13m22s  (97.1%)\rEpoch: 85.8%  lr: 0.001502  loss: 0.006622  eta: <1min   tot: 0h13m22s  (97.2%)\rEpoch: 85.9%  lr: 0.001482  loss: 0.006618  eta: <1min   tot: 0h13m22s  (97.2%)\rEpoch: 86.0%  lr: 0.001472  loss: 0.006616  eta: <1min   tot: 0h13m22s  (97.2%)\rEpoch: 86.1%  lr: 0.001452  loss: 0.006611  eta: <1min   tot: 0h13m22s  (97.2%)\rEpoch: 86.2%  lr: 0.001452  loss: 0.006611  eta: <1min   tot: 0h13m22s  (97.2%)\rEpoch: 86.2%  lr: 0.001432  loss: 0.006612  eta: <1min   tot: 0h13m22s  (97.2%)\rEpoch: 86.3%  lr: 0.001411  loss: 0.006613  eta: <1min   tot: 0h13m23s  (97.3%)\rEpoch: 86.4%  lr: 0.001411  loss: 0.006611  eta: <1min   tot: 0h13m23s  (97.3%)\rEpoch: 86.5%  lr: 0.001411  loss: 0.006608  eta: <1min   tot: 0h13m23s  (97.3%)\rEpoch: 86.6%  lr: 0.001411  loss: 0.006612  eta: <1min   tot: 0h13m23s  (97.3%)\rEpoch: 86.7%  lr: 0.001401  loss: 0.006622  eta: <1min   tot: 0h13m23s  (97.3%)\rEpoch: 86.8%  lr: 0.001401  loss: 0.006624  eta: <1min   tot: 0h13m23s  (97.4%)\rEpoch: 86.9%  lr: 0.001401  loss: 0.006622  eta: <1min   tot: 0h13m23s  (97.4%)\rEpoch: 87.0%  lr: 0.001401  loss: 0.006617  eta: <1min   tot: 0h13m24s  (97.4%)\rEpoch: 87.1%  lr: 0.001381  loss: 0.006618  eta: <1min   tot: 0h13m24s  (97.4%)\rEpoch: 87.1%  lr: 0.001381  loss: 0.006615  eta: <1min   tot: 0h13m24s  (97.4%)\rEpoch: 87.2%  lr: 0.001351  loss: 0.006618  eta: <1min   tot: 0h13m24s  (97.4%)\rEpoch: 87.3%  lr: 0.001351  loss: 0.006617  eta: <1min   tot: 0h13m24s  (97.5%)\rEpoch: 87.4%  lr: 0.001341  loss: 0.006615  eta: <1min   tot: 0h13m24s  (97.5%)\rEpoch: 87.5%  lr: 0.001341  loss: 0.006614  eta: <1min   tot: 0h13m24s  (97.5%)\rEpoch: 87.6%  lr: 0.001331  loss: 0.006614  eta: <1min   tot: 0h13m25s  (97.5%)\rEpoch: 87.7%  lr: 0.001331  loss: 0.006614  eta: <1min   tot: 0h13m25s  (97.5%)\rEpoch: 87.8%  lr: 0.001321  loss: 0.006619  eta: <1min   tot: 0h13m25s  (97.6%)\rEpoch: 87.9%  lr: 0.001311  loss: 0.006617  eta: <1min   tot: 0h13m25s  (97.6%)\rEpoch: 88.0%  lr: 0.001311  loss: 0.006614  eta: <1min   tot: 0h13m25s  (97.6%)\rEpoch: 88.0%  lr: 0.001291  loss: 0.006614  eta: <1min   tot: 0h13m25s  (97.6%)\rEpoch: 88.1%  lr: 0.001291  loss: 0.006611  eta: <1min   tot: 0h13m25s  (97.6%)\rEpoch: 88.2%  lr: 0.001291  loss: 0.006607  eta: <1min   tot: 0h13m26s  (97.6%)\rEpoch: 88.3%  lr: 0.001271  loss: 0.006608  eta: <1min   tot: 0h13m26s  (97.7%)\rEpoch: 88.4%  lr: 0.001271  loss: 0.006607  eta: <1min   tot: 0h13m26s  (97.7%)\rEpoch: 88.5%  lr: 0.001251  loss: 0.006615  eta: <1min   tot: 0h13m26s  (97.7%)\rEpoch: 88.6%  lr: 0.001241  loss: 0.006616  eta: <1min   tot: 0h13m26s  (97.7%)\rEpoch: 88.7%  lr: 0.001211  loss: 0.006615  eta: <1min   tot: 0h13m26s  (97.7%)\rEpoch: 88.8%  lr: 0.001211  loss: 0.006616  eta: <1min   tot: 0h13m26s  (97.8%)\rEpoch: 88.9%  lr: 0.001201  loss: 0.006610  eta: <1min   tot: 0h13m27s  (97.8%)\rEpoch: 88.9%  lr: 0.001181  loss: 0.006608  eta: <1min   tot: 0h13m27s  (97.8%)\rEpoch: 89.0%  lr: 0.001181  loss: 0.006611  eta: <1min   tot: 0h13m27s  (97.8%)\rEpoch: 89.1%  lr: 0.001171  loss: 0.006612  eta: <1min   tot: 0h13m27s  (97.8%)\rEpoch: 89.2%  lr: 0.001151  loss: 0.006606  eta: <1min   tot: 0h13m27s  (97.8%)\rEpoch: 89.3%  lr: 0.001121  loss: 0.006615  eta: <1min   tot: 0h13m27s  (97.9%)\rEpoch: 89.4%  lr: 0.001101  loss: 0.006617  eta: <1min   tot: 0h13m28s  (97.9%)\rEpoch: 89.5%  lr: 0.001081  loss: 0.006617  eta: <1min   tot: 0h13m28s  (97.9%)\rEpoch: 89.6%  lr: 0.001081  loss: 0.006615  eta: <1min   tot: 0h13m28s  (97.9%)\rEpoch: 89.7%  lr: 0.001081  loss: 0.006611  eta: <1min   tot: 0h13m28s  (97.9%)\rEpoch: 89.8%  lr: 0.001081  loss: 0.006612  eta: <1min   tot: 0h13m28s  (98.0%)\rEpoch: 89.8%  lr: 0.001071  loss: 0.006612  eta: <1min   tot: 0h13m28s  (98.0%)\rEpoch: 89.9%  lr: 0.001051  loss: 0.006619  eta: <1min   tot: 0h13m28s  (98.0%)\rEpoch: 90.0%  lr: 0.001051  loss: 0.006617  eta: <1min   tot: 0h13m29s  (98.0%)\rEpoch: 90.1%  lr: 0.001051  loss: 0.006618  eta: <1min   tot: 0h13m29s  (98.0%)\rEpoch: 90.2%  lr: 0.001051  loss: 0.006614  eta: <1min   tot: 0h13m29s  (98.0%)\rEpoch: 90.3%  lr: 0.001051  loss: 0.006612  eta: <1min   tot: 0h13m29s  (98.1%)\rEpoch: 90.4%  lr: 0.001021  loss: 0.006609  eta: <1min   tot: 0h13m29s  (98.1%)\rEpoch: 90.5%  lr: 0.001021  loss: 0.006610  eta: <1min   tot: 0h13m29s  (98.1%)\rEpoch: 90.6%  lr: 0.001021  loss: 0.006606  eta: <1min   tot: 0h13m29s  (98.1%)\rEpoch: 90.7%  lr: 0.001011  loss: 0.006609  eta: <1min   tot: 0h13m30s  (98.1%)\rEpoch: 90.7%  lr: 0.001001  loss: 0.006606  eta: <1min   tot: 0h13m30s  (98.1%)\rEpoch: 90.8%  lr: 0.001001  loss: 0.006612  eta: <1min   tot: 0h13m30s  (98.2%)\rEpoch: 90.9%  lr: 0.000981  loss: 0.006610  eta: <1min   tot: 0h13m30s  (98.2%)\rEpoch: 91.0%  lr: 0.000981  loss: 0.006606  eta: <1min   tot: 0h13m30s  (98.2%)\rEpoch: 91.1%  lr: 0.000971  loss: 0.006608  eta: <1min   tot: 0h13m30s  (98.2%)\rEpoch: 91.2%  lr: 0.000951  loss: 0.006605  eta: <1min   tot: 0h13m30s  (98.2%)\rEpoch: 91.3%  lr: 0.000931  loss: 0.006611  eta: <1min   tot: 0h13m31s  (98.3%)\rEpoch: 91.4%  lr: 0.000901  loss: 0.006615  eta: <1min   tot: 0h13m31s  (98.3%)\rEpoch: 91.5%  lr: 0.000891  loss: 0.006616  eta: <1min   tot: 0h13m31s  (98.3%)\rEpoch: 91.6%  lr: 0.000861  loss: 0.006620  eta: <1min   tot: 0h13m31s  (98.3%)\rEpoch: 91.6%  lr: 0.000861  loss: 0.006617  eta: <1min   tot: 0h13m31s  (98.3%)\rEpoch: 91.7%  lr: 0.000841  loss: 0.006618  eta: <1min   tot: 0h13m31s  (98.3%)\rEpoch: 91.8%  lr: 0.000841  loss: 0.006620  eta: <1min   tot: 0h13m31s  (98.4%)\rEpoch: 91.9%  lr: 0.000831  loss: 0.006623  eta: <1min   tot: 0h13m32s  (98.4%)\rEpoch: 92.0%  lr: 0.000811  loss: 0.006623  eta: <1min   tot: 0h13m32s  (98.4%)\rEpoch: 92.1%  lr: 0.000801  loss: 0.006622  eta: <1min   tot: 0h13m32s  (98.4%)\rEpoch: 92.2%  lr: 0.000801  loss: 0.006621  eta: <1min   tot: 0h13m32s  (98.4%)\rEpoch: 92.3%  lr: 0.000781  loss: 0.006616  eta: <1min   tot: 0h13m32s  (98.5%)\rEpoch: 92.4%  lr: 0.000771  loss: 0.006614  eta: <1min   tot: 0h13m32s  (98.5%)\rEpoch: 92.5%  lr: 0.000761  loss: 0.006613  eta: <1min   tot: 0h13m32s  (98.5%)\rEpoch: 92.5%  lr: 0.000741  loss: 0.006615  eta: <1min   tot: 0h13m33s  (98.5%)\rEpoch: 92.6%  lr: 0.000741  loss: 0.006615  eta: <1min   tot: 0h13m33s  (98.5%)\rEpoch: 92.7%  lr: 0.000731  loss: 0.006612  eta: <1min   tot: 0h13m33s  (98.5%)\rEpoch: 92.8%  lr: 0.000731  loss: 0.006612  eta: <1min   tot: 0h13m33s  (98.6%)\rEpoch: 92.9%  lr: 0.000721  loss: 0.006608  eta: <1min   tot: 0h13m33s  (98.6%)\rEpoch: 93.0%  lr: 0.000721  loss: 0.006605  eta: <1min   tot: 0h13m33s  (98.6%)\rEpoch: 93.1%  lr: 0.000721  loss: 0.006606  eta: <1min   tot: 0h13m33s  (98.6%)\rEpoch: 93.2%  lr: 0.000681  loss: 0.006602  eta: <1min   tot: 0h13m34s  (98.6%)\rEpoch: 93.3%  lr: 0.000651  loss: 0.006609  eta: <1min   tot: 0h13m34s  (98.7%)\rEpoch: 93.4%  lr: 0.000651  loss: 0.006606  eta: <1min   tot: 0h13m34s  (98.7%)\rEpoch: 93.4%  lr: 0.000651  loss: 0.006602  eta: <1min   tot: 0h13m34s  (98.7%)\rEpoch: 93.5%  lr: 0.000641  loss: 0.006603  eta: <1min   tot: 0h13m34s  (98.7%)\rEpoch: 93.6%  lr: 0.000641  loss: 0.006600  eta: <1min   tot: 0h13m34s  (98.7%)\rEpoch: 93.7%  lr: 0.000641  loss: 0.006604  eta: <1min   tot: 0h13m34s  (98.7%)\rEpoch: 93.8%  lr: 0.000631  loss: 0.006603  eta: <1min   tot: 0h13m35s  (98.8%)\rEpoch: 93.9%  lr: 0.000601  loss: 0.006605  eta: <1min   tot: 0h13m35s  (98.8%)\rEpoch: 94.0%  lr: 0.000601  loss: 0.006604  eta: <1min   tot: 0h13m35s  (98.8%)\rEpoch: 94.1%  lr: 0.000591  loss: 0.006600  eta: <1min   tot: 0h13m35s  (98.8%)\rEpoch: 94.2%  lr: 0.000591  loss: 0.006598  eta: <1min   tot: 0h13m35s  (98.8%)\rEpoch: 94.3%  lr: 0.000571  loss: 0.006606  eta: <1min   tot: 0h13m35s  (98.9%)\rEpoch: 94.3%  lr: 0.000571  loss: 0.006613  eta: <1min   tot: 0h13m35s  (98.9%)\rEpoch: 94.4%  lr: 0.000541  loss: 0.006614  eta: <1min   tot: 0h13m36s  (98.9%)\rEpoch: 94.5%  lr: 0.000531  loss: 0.006611  eta: <1min   tot: 0h13m36s  (98.9%)\rEpoch: 94.6%  lr: 0.000521  loss: 0.006614  eta: <1min   tot: 0h13m36s  (98.9%)\rEpoch: 94.7%  lr: 0.000511  loss: 0.006614  eta: <1min   tot: 0h13m36s  (98.9%)\rEpoch: 94.8%  lr: 0.000501  loss: 0.006622  eta: <1min   tot: 0h13m36s  (99.0%)\rEpoch: 94.9%  lr: 0.000501  loss: 0.006627  eta: <1min   tot: 0h13m36s  (99.0%)\rEpoch: 95.0%  lr: 0.000491  loss: 0.006628  eta: <1min   tot: 0h13m36s  (99.0%)\rEpoch: 95.1%  lr: 0.000491  loss: 0.006623  eta: <1min   tot: 0h13m37s  (99.0%)\rEpoch: 95.2%  lr: 0.000481  loss: 0.006621  eta: <1min   tot: 0h13m37s  (99.0%)\rEpoch: 95.2%  lr: 0.000461  loss: 0.006620  eta: <1min   tot: 0h13m37s  (99.0%)\rEpoch: 95.3%  lr: 0.000461  loss: 0.006635  eta: <1min   tot: 0h13m37s  (99.1%)\rEpoch: 95.4%  lr: 0.000451  loss: 0.006635  eta: <1min   tot: 0h13m37s  (99.1%)\rEpoch: 95.5%  lr: 0.000451  loss: 0.006638  eta: <1min   tot: 0h13m37s  (99.1%)\rEpoch: 95.6%  lr: 0.000451  loss: 0.006644  eta: <1min   tot: 0h13m37s  (99.1%)\rEpoch: 95.7%  lr: 0.000431  loss: 0.006644  eta: <1min   tot: 0h13m38s  (99.1%)\rEpoch: 95.8%  lr: 0.000431  loss: 0.006640  eta: <1min   tot: 0h13m38s  (99.2%)\rEpoch: 95.9%  lr: 0.000431  loss: 0.006635  eta: <1min   tot: 0h13m38s  (99.2%)\rEpoch: 96.0%  lr: 0.000431  loss: 0.006640  eta: <1min   tot: 0h13m38s  (99.2%)\rEpoch: 96.1%  lr: 0.000431  loss: 0.006641  eta: <1min   tot: 0h13m38s  (99.2%)\rEpoch: 96.1%  lr: 0.000410  loss: 0.006638  eta: <1min   tot: 0h13m38s  (99.2%)\rEpoch: 96.2%  lr: 0.000400  loss: 0.006637  eta: <1min   tot: 0h13m38s  (99.2%)\rEpoch: 96.3%  lr: 0.000390  loss: 0.006632  eta: <1min   tot: 0h13m39s  (99.3%)\rEpoch: 96.4%  lr: 0.000380  loss: 0.006636  eta: <1min   tot: 0h13m39s  (99.3%)\rEpoch: 96.5%  lr: 0.000370  loss: 0.006638  eta: <1min   tot: 0h13m39s  (99.3%)\rEpoch: 96.6%  lr: 0.000350  loss: 0.006641  eta: <1min   tot: 0h13m39s  (99.3%)\rEpoch: 96.7%  lr: 0.000310  loss: 0.006644  eta: <1min   tot: 0h13m39s  (99.3%)\rEpoch: 96.8%  lr: 0.000300  loss: 0.006641  eta: <1min   tot: 0h13m39s  (99.4%)\rEpoch: 96.9%  lr: 0.000280  loss: 0.006640  eta: <1min   tot: 0h13m39s  (99.4%)\rEpoch: 97.0%  lr: 0.000280  loss: 0.006644  eta: <1min   tot: 0h13m40s  (99.4%)\rEpoch: 97.0%  lr: 0.000270  loss: 0.006648  eta: <1min   tot: 0h13m40s  (99.4%)\rEpoch: 97.1%  lr: 0.000270  loss: 0.006654  eta: <1min   tot: 0h13m40s  (99.4%)\rEpoch: 97.2%  lr: 0.000250  loss: 0.006654  eta: <1min   tot: 0h13m40s  (99.4%)\rEpoch: 97.3%  lr: 0.000250  loss: 0.006650  eta: <1min   tot: 0h13m40s  (99.5%)\rEpoch: 97.4%  lr: 0.000250  loss: 0.006661  eta: <1min   tot: 0h13m40s  (99.5%)\rEpoch: 97.5%  lr: 0.000240  loss: 0.006661  eta: <1min   tot: 0h13m40s  (99.5%)\rEpoch: 97.6%  lr: 0.000240  loss: 0.006659  eta: <1min   tot: 0h13m41s  (99.5%)\rEpoch: 97.7%  lr: 0.000240  loss: 0.006657  eta: <1min   tot: 0h13m41s  (99.5%)\rEpoch: 97.8%  lr: 0.000210  loss: 0.006657  eta: <1min   tot: 0h13m41s  (99.6%)\rEpoch: 97.9%  lr: 0.000200  loss: 0.006668  eta: <1min   tot: 0h13m41s  (99.6%)\rEpoch: 97.9%  lr: 0.000180  loss: 0.006664  eta: <1min   tot: 0h13m41s  (99.6%)\rEpoch: 98.0%  lr: 0.000150  loss: 0.006665  eta: <1min   tot: 0h13m41s  (99.6%)\rEpoch: 98.1%  lr: 0.000140  loss: 0.006669  eta: <1min   tot: 0h13m41s  (99.6%)\rEpoch: 98.2%  lr: 0.000120  loss: 0.006667  eta: <1min   tot: 0h13m42s  (99.6%)\rEpoch: 98.3%  lr: 0.000120  loss: 0.006665  eta: <1min   tot: 0h13m42s  (99.7%)\rEpoch: 98.4%  lr: 0.000120  loss: 0.006662  eta: <1min   tot: 0h13m42s  (99.7%)\rEpoch: 98.5%  lr: 0.000100  loss: 0.006665  eta: <1min   tot: 0h13m42s  (99.7%)\rEpoch: 98.6%  lr: 0.000100  loss: 0.006662  eta: <1min   tot: 0h13m42s  (99.7%)\rEpoch: 98.7%  lr: 0.000100  loss: 0.006660  eta: <1min   tot: 0h13m42s  (99.7%)\rEpoch: 98.8%  lr: 0.000090  loss: 0.006655  eta: <1min   tot: 0h13m42s  (99.8%)\rEpoch: 98.8%  lr: 0.000060  loss: 0.006656  eta: <1min   tot: 0h13m43s  (99.8%)\rEpoch: 98.9%  lr: 0.000050  loss: 0.006652  eta: <1min   tot: 0h13m43s  (99.8%)\rEpoch: 99.0%  lr: 0.000030  loss: 0.006650  eta: <1min   tot: 0h13m43s  (99.8%)\rEpoch: 99.1%  lr: 0.000020  loss: 0.006648  eta: <1min   tot: 0h13m43s  (99.8%)\rEpoch: 99.2%  lr: 0.000020  loss: 0.006645  eta: <1min   tot: 0h13m43s  (99.8%)\rEpoch: 99.3%  lr: 0.000020  loss: 0.006642  eta: <1min   tot: 0h13m43s  (99.9%)\rEpoch: 99.4%  lr: 0.000020  loss: 0.006648  eta: <1min   tot: 0h13m43s  (99.9%)\rEpoch: 99.5%  lr: 0.000010  loss: 0.006650  eta: <1min   tot: 0h13m44s  (99.9%)\rEpoch: 99.6%  lr: 0.000010  loss: 0.006651  eta: <1min   tot: 0h13m44s  (99.9%)\rEpoch: 99.7%  lr: 0.000010  loss: 0.006660  eta: <1min   tot: 0h13m44s  (99.9%)\rEpoch: 99.7%  lr: 0.000000  loss: 0.006658  eta: <1min   tot: 0h13m44s  (99.9%)\rEpoch: 99.8%  lr: 0.000000  loss: 0.006653  eta: <1min   tot: 0h13m44s  (100.0%)\rEpoch: 99.9%  lr: 0.000000  loss: 0.006654  eta: <1min   tot: 0h13m44s  (100.0%)\rEpoch: 100.0%  lr: 0.000000  loss: 0.006652  eta: <1min   tot: 0h13m44s  (100.0%)"
          ],
          "name": "stderr"
        }
      ]
    },
    {
      "cell_type": "markdown",
      "metadata": {
        "collapsed": true,
        "id": "NkUqxHzJ85U9",
        "colab_type": "text"
      },
      "source": [
        "And now we can compare the new embeddings with the previous ones. You can find trained word vectors in the file *[model_file_name].tsv*. Upload the embeddings from StarSpace into a dict. "
      ]
    },
    {
      "cell_type": "code",
      "metadata": {
        "id": "UO00cwk785U_",
        "colab_type": "code",
        "colab": {
          "base_uri": "https://localhost:8080/",
          "height": 34
        },
        "outputId": "5e80a1ed-ece8-41b3-ae7e-d4cc83f08447"
      },
      "source": [
        "starspace_embeddings = {} ######### YOUR CODE HERE #############\n",
        "for line in tqdm(open('starspace_embedding.tsv', encoding='utf-8')):\n",
        "    word, *vec = line.strip().split('\\t')\n",
        "    starspace_embeddings[word] = np.array(vec, dtype=np.float)"
      ],
      "execution_count": 62,
      "outputs": [
        {
          "output_type": "stream",
          "text": [
            "95058it [00:02, 36428.26it/s]\n"
          ],
          "name": "stderr"
        }
      ]
    },
    {
      "cell_type": "code",
      "metadata": {
        "id": "wrt5qOVk85VC",
        "colab_type": "code",
        "colab": {
          "base_uri": "https://localhost:8080/",
          "height": 34
        },
        "outputId": "7e6daddf-37a3-43e0-f57c-b64555cd282f"
      },
      "source": [
        "ss_prepared_ranking = []\n",
        "for line in tqdm(prepared_validation):\n",
        "    q, *ex = line\n",
        "    ranks = rank_candidates(q, ex, starspace_embeddings, 100)\n",
        "    ss_prepared_ranking.append([r[0] for r in ranks].index(0) + 1)"
      ],
      "execution_count": 64,
      "outputs": [
        {
          "output_type": "stream",
          "text": [
            "100%|██████████| 10000/10000 [03:17<00:00, 50.59it/s]\n"
          ],
          "name": "stderr"
        }
      ]
    },
    {
      "cell_type": "code",
      "metadata": {
        "id": "FAyk5U6585VG",
        "colab_type": "code",
        "colab": {
          "base_uri": "https://localhost:8080/",
          "height": 118
        },
        "outputId": "5d4d5358-2d65-4ab9-f4bd-63bcc6bde168"
      },
      "source": [
        "for k in [1, 5, 10, 100, 500, 1000]:\n",
        "    print(\"DCG@%4d: %.3f | Hits@%4d: %.3f\" % (k, dcg_score(ss_prepared_ranking, k), \n",
        "                                               k, hits_count(ss_prepared_ranking, k)))"
      ],
      "execution_count": 65,
      "outputs": [
        {
          "output_type": "stream",
          "text": [
            "DCG@   1: 0.517 | Hits@   1: 0.517\n",
            "DCG@   5: 0.613 | Hits@   5: 0.695\n",
            "DCG@  10: 0.631 | Hits@  10: 0.754\n",
            "DCG@ 100: 0.663 | Hits@ 100: 0.903\n",
            "DCG@ 500: 0.672 | Hits@ 500: 0.979\n",
            "DCG@1000: 0.675 | Hits@1000: 1.000\n"
          ],
          "name": "stdout"
        }
      ]
    },
    {
      "cell_type": "markdown",
      "metadata": {
        "id": "uCFuUqjT85VM",
        "colab_type": "text"
      },
      "source": [
        "Due to training for the particular task with the supervised data, you should expect to obtain a higher quality than for the previous approach. In additiion, despite the fact that StarSpace's trained vectors have a smaller dimension than word2vec's, it provides better results in this task."
      ]
    },
    {
      "cell_type": "markdown",
      "metadata": {
        "id": "TepqVCgR85VN",
        "colab_type": "text"
      },
      "source": [
        "**Task 5 (StarSpaceRanks).** For each question from prepared *test.tsv* submit the ranks of the candidates for trained representation."
      ]
    },
    {
      "cell_type": "code",
      "metadata": {
        "id": "tnsPySMD85VN",
        "colab_type": "code",
        "colab": {
          "base_uri": "https://localhost:8080/",
          "height": 54
        },
        "outputId": "a27bcd2d-d012-43c4-aabc-41f2a1c6550f"
      },
      "source": [
        "starspace_ranks_results = []\n",
        "prepared_test_data = 'data/test_prepared.tsv' ######### YOUR CODE HERE #############\n",
        "for line in open(prepared_test_data):\n",
        "    q, *ex = line.strip().split('\\t')\n",
        "    ranks = rank_candidates(q, ex, starspace_embeddings, 100)\n",
        "    ranked_candidates = [r[0] for r in ranks]\n",
        "    starspace_ranks_results.append([ranked_candidates.index(i) + 1 for i in range(len(ranked_candidates))])\n",
        "    \n",
        "grader.submit_tag('StarSpaceRanks', matrix_to_string(starspace_ranks_results))"
      ],
      "execution_count": 66,
      "outputs": [
        {
          "output_type": "stream",
          "text": [
            "Current answer for task StarSpaceRanks is: 67\t42\t95\t47\t50\t53\t81\t71\t57\t41\t10\t89\t3\t24\t80\t77\t9\t2\t27\t43\t68\t52\t19\t38\t82\t60\t86\t91\t56\t21\t64\t58\t76\t69\t8...\n"
          ],
          "name": "stdout"
        }
      ]
    },
    {
      "cell_type": "markdown",
      "metadata": {
        "id": "OoD3194I85VQ",
        "colab_type": "text"
      },
      "source": [
        "Please, **don't remove** the file with these embeddings because you will need them in the final project."
      ]
    },
    {
      "cell_type": "markdown",
      "metadata": {
        "id": "fQZD8OYw85VV",
        "colab_type": "text"
      },
      "source": [
        "### Authorization & Submission\n",
        "To submit assignment parts to Cousera platform, please, enter your e-mail and token into variables below. You can generate token on this programming assignment page. <b>Note:</b> Token expires 30 minutes after generation."
      ]
    },
    {
      "cell_type": "code",
      "metadata": {
        "id": "AxG-44kL85VW",
        "colab_type": "code",
        "colab": {
          "base_uri": "https://localhost:8080/",
          "height": 608
        },
        "outputId": "15c42a5e-2050-42d4-be2b-0104b49f54de"
      },
      "source": [
        "STUDENT_EMAIL = \"shekhawatnishidh5@gmail.com\" # EMAIL \n",
        "STUDENT_TOKEN = \"qHumA8wP38wGYBSg\" # TOKEN \n",
        "grader.status()"
      ],
      "execution_count": 67,
      "outputs": [
        {
          "output_type": "stream",
          "text": [
            "You want to submit these parts:\n",
            "Task Question2Vec: 0.019293891059027776\n",
            "-0.028727213541666668\n",
            "0.046056111653645836\n",
            "0.08525933159722222\n",
            "0.02430555555555...\n",
            "Task HitsCount: 1.0\n",
            "0.5\n",
            "1.0\n",
            "0.5\n",
            "1.0\n",
            "0.3333333333333333\n",
            "0.6666666666666666\n",
            "1.0\n",
            "0.1\n",
            "0.2\n",
            "0.3\n",
            "0.4\n",
            "0.5\n",
            "0.6\n",
            "0.7\n",
            "0.8\n",
            "0.9\n",
            "1....\n",
            "Task DCGScore: 1.0\n",
            "0.5\n",
            "0.8154648767857288\n",
            "0.5\n",
            "0.8154648767857288\n",
            "0.3333333333333333\n",
            "0.5436432511904858\n",
            "0.7103099178...\n",
            "Task W2VTokenizedRanks: 95\t94\t7\t9\t64\t36\t31\t93\t23\t100\t99\t20\t60\t6\t97\t48\t70\t37\t41\t96\t29\t56\t2\t65\t68\t44\t27\t25\t57\t62\t11\t87\t50\t66\t7...\n",
            "Task StarSpaceRanks: 67\t42\t95\t47\t50\t53\t81\t71\t57\t41\t10\t89\t3\t24\t80\t77\t9\t2\t27\t43\t68\t52\t19\t38\t82\t60\t86\t91\t56\t21\t64\t58\t76\t69\t8...\n"
          ],
          "name": "stdout"
        }
      ]
    },
    {
      "cell_type": "markdown",
      "metadata": {
        "id": "xvPE6s4485VY",
        "colab_type": "text"
      },
      "source": [
        "If you want to submit these answers, run cell below"
      ]
    },
    {
      "cell_type": "code",
      "metadata": {
        "id": "l6uQp4p785VZ",
        "colab_type": "code",
        "colab": {
          "base_uri": "https://localhost:8080/",
          "height": 34
        },
        "outputId": "d0e828e8-5e00-43a7-d26e-86cfe205fe64"
      },
      "source": [
        "grader.submit(STUDENT_EMAIL, STUDENT_TOKEN)"
      ],
      "execution_count": 68,
      "outputs": [
        {
          "output_type": "stream",
          "text": [
            "Submitted to Coursera platform. See results on assignment page!\n"
          ],
          "name": "stdout"
        }
      ]
    }
  ]
}